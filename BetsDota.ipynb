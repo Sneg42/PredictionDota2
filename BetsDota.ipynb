{
 "cells": [
  {
   "cell_type": "code",
   "execution_count": 17,
   "metadata": {
    "collapsed": true
   },
   "outputs": [],
   "source": [
    "import pandas as pd\n",
    "import numpy as np\n",
    "import time\n",
    "import urllib.request\n",
    "import bs4 as bs\n",
    "import requests\n",
    "\n",
    "def soup_from_url(url):\n",
    "    sauce = urllib.request.Request(url, headers={'User-agent': 'Mozilla/5.0 (X11; U; Linux i686) Gecko/20071127 Firefox/2.0.0.11'} )\n",
    "    sauce = urllib.request.urlopen(sauce).read()\n",
    "\n",
    "    soup = bs.BeautifulSoup(sauce, 'lxml')\n",
    "    return soup\n",
    "\n",
    "#List teams Dota 2 from site gamepedia (CORRECT VARIANT)\n",
    "def pick_up_nameTeam(url):\n",
    "    soup = soup_from_url(url)\n",
    "    body = soup.body  \n",
    "    list_team = []\n",
    "    i=0\n",
    "    for par in body.find_all('caption'):\n",
    "        for name in par.find_all('a'):\n",
    "            s = name.text\n",
    "            if s == 'The Dire' or len(s) == 0:\n",
    "                break\n",
    "            else:\n",
    "                list_team.append(s)\n",
    "    return list_team\n",
    "\n",
    "list_teamName = pick_up_nameTeam('https://dota2.gamepedia.com/Professional_teams')  \n",
    "\n",
    "#List of all Heroes in Dota2\n",
    "def pick_up_Heroes(url):\n",
    "    soup = soup_from_url(url)\n",
    "    body = soup.body    \n",
    "    list_Heroes=[]\n",
    "    for par in body.find_all('div', class_='name'):\n",
    "        list_Heroes.append(par.text)\n",
    "    return list_Heroes\n",
    "\n",
    "Heroes = pick_up_Heroes('https://ru.dotabuff.com/heroes')\n"
   ]
  },
  {
   "cell_type": "code",
   "execution_count": 18,
   "metadata": {},
   "outputs": [],
   "source": [
    "# List teams Dota 2 from site game-tournament\n",
    "# def pick_up_nameTeam(url, list_team):\n",
    "#     soup = soup_from_url(url)\n",
    "#     body = soup.body    \n",
    "#     i=0\n",
    "#     for par in body.find_all('a', class_='teamname1'):\n",
    "#         if i < 20:\n",
    "#             list_team.append(par.get('title'))\n",
    "#         i+=1\n",
    "\n",
    "# list_teamName=[]\n",
    "\n",
    "# pick_up_nameTeam('http://game-tournaments.com/dota-2/team', list_teamName)\n",
    "# pick_up_nameTeam('http://game-tournaments.com/dota-2/team?s=2', list_teamName)\n",
    "# pick_up_nameTeam('http://game-tournaments.com/dota-2/team?s=3', list_teamName)\n",
    "\n",
    "# remove wrong team\n",
    "# list_teamName.remove('Gorillaz-Pride')\n",
    "\n",
    "\n",
    "#change name team\n",
    "#list_teamName.remove('OG')\n",
    "#list_teamName.insert(1, 'OG Dota2')\n",
    "# list_teamName.remove('Virtus.Pro')\n",
    "# list_teamName.insert(1, 'Virtus.pro')\n",
    "# list_teamName.remove('NewBee')\n",
    "# list_teamName.insert(1, 'Newbee')\n",
    "# list_teamName.remove('Team Effect')\n",
    "# list_teamName.insert(39, 'Effect')\n",
    "# list_teamName.remove('LGD Gaming')\n",
    "# list_teamName.insert(4, 'LGD-GAMING')\n",
    "\n",
    "#add team\n",
    "# list_teamName.append('Faceless')\n",
    "# list_teamName.append('Mineski')\n",
    "# list_teamName.append('compLexity Gaming')\n",
    "# list_teamName.append('Alliance')\n",
    "\n",
    "\n",
    "#list_teamName"
   ]
  },
  {
   "cell_type": "code",
   "execution_count": 3,
   "metadata": {
    "collapsed": true,
    "scrolled": true
   },
   "outputs": [],
   "source": [
    "# pick up all matches from site DOTABUFF\n",
    "def pick_up_matches(url, list_with_matches):\n",
    "    sauce = urllib.request.Request(url, \n",
    "                                   headers={'User-agent': 'Mozilla/5.0 (X11; U; Linux i686) Gecko/20071127 Firefox/2.0.0.11'})\n",
    "    sauce = urllib.request.urlopen(sauce).read()\n",
    "\n",
    "    soup = bs.BeautifulSoup(sauce, 'lxml')\n",
    "    body = soup.body\n",
    "    #matches_all_data = []\n",
    "\n",
    "    for paragraph in body.find_all('a', class_='match-score'):\n",
    "        #counters for radiant or dire, if j=0 then all data filling for radiant, else dire\n",
    "        j=0\n",
    "        match = []\n",
    "\n",
    "        # choose name team in the match, 1st team - radiant, 2nd - dire\n",
    "        for span in paragraph.find_all('span', class_=('team-text')):\n",
    "            \n",
    "#             #add name team\n",
    "#             try:\n",
    "#                 number_team = list_teamName.index(span.text)\n",
    "#             except ValueError:\n",
    "#                 print (span.text)\n",
    "#                 break;\n",
    "                \n",
    "#             #match.append(number_team)\n",
    "            \n",
    "            for team_winner in paragraph.find_all('div', class_= ('match-score-teams')):\n",
    "\n",
    "                #count for 1st & 2nd team. if j=0 then 1st team else 2nd team in the match\n",
    "                if j == 1:    \n",
    "                    for team in team_winner.find_all('div', class_= ( 'radiant team-winner')):\n",
    "                        winner = 0\n",
    "                else:\n",
    "                    for team in team_winner.find_all('div', class_= ( 'dire team-winner')):\n",
    "                        winner = 1\n",
    "\n",
    "            #choose all heroes the correct team\n",
    "            for team_heroes in paragraph.find_all('div', class_= ('match-score-heroes')):\n",
    "                if j == 0:\n",
    "                    for team in team_heroes.find_all('div', class_= ('radiant')):\n",
    "                        for heroes in team.find_all('img', class_='image-hero') :\n",
    "                            match.append(int(Heroes.index(heroes.get('title'))))\n",
    "                else:\n",
    "                    for team in team_heroes.find_all('div', class_= ('dire')):\n",
    "                        for heroes in team.find_all('img', class_='image-hero') :\n",
    "                            match.append(int(Heroes.index(heroes.get('title'))))\n",
    "                    #add last elements if 0 then win radiant, 1 - dire\n",
    "                        match.append(winner)\n",
    "\n",
    "            #add all data for match in list with all matches\n",
    "            \n",
    "            j+=1\n",
    "        #if len(match) == 11:\n",
    "        list_with_matches.append(match)"
   ]
  },
  {
   "cell_type": "code",
   "execution_count": 19,
   "metadata": {
    "collapsed": true
   },
   "outputs": [],
   "source": [
    "#Epicenter 2017\n",
    "list_matches_Epicenter = []\n",
    "url_Epicenter = 'https://ru.dotabuff.com/esports/leagues/5353-epicenter-moscow-season-2/scores?original_slug=5353-epicenter-moscow-season-2&series_status=live_or_completed'\n",
    "pick_up_matches(url_Epicenter, list_matches_Epicenter)\n",
    "\n",
    "#Dream league 2017\n",
    "list_matches_Dream2017 = []\n",
    "url_Dream2017 = 'https://ru.dotabuff.com/esports/leagues/5336-dreamleague-season-7/scores?original_slug=5336-dreamleague-season-7'\n",
    "pick_up_matches(url_Dream2017, list_matches_Dream2017)\n",
    "\n",
    "#MDL 2017\n",
    "list_matches_MDL2017 = []\n",
    "url_MDL2017 = 'https://ru.dotabuff.com/esports/leagues/5504-2017-mars-dota-2-league/scores'\n",
    "pick_up_matches(url_MDL2017, list_matches_MDL2017)\n",
    "\n",
    "#The Summit\n",
    "list_matches_Summit = []\n",
    "url_Summit = 'https://ru.dotabuff.com/esports/leagues/4442-the-summit-5/scores'\n",
    "pick_up_matches(url_Summit, list_matches_Summit)\n",
    "\n",
    "#Galaxy Battle\n",
    "list_matches_Galaxy = []\n",
    "url_Galaxy = 'https://ru.dotabuff.com/esports/leagues/5399-neso-4th-national-e-sports-shenzhen-open-tournament-galaxy-battles/scores'\n",
    "pick_up_matches(url_Galaxy, list_matches_Galaxy)\n",
    "\n",
    "#The Kiev Major\n",
    "list_matches_KievMajor = []\n",
    "url_KievMajor = 'https://ru.dotabuff.com/esports/leagues/5157-kiev-major/scores'\n",
    "pick_up_matches(url_KievMajor, list_matches_KievMajor)\n",
    "\n",
    "url_KievMajor = 'https://ru.dotabuff.com/esports/leagues/5157-kiev-major/scores?original_slug=5157-kiev-major&page=2'\n",
    "pick_up_matches(url_KievMajor, list_matches_KievMajor)\n",
    "\n",
    "url_KievMajor = 'https://ru.dotabuff.com/esports/leagues/5157-kiev-major/scores?original_slug=5157-kiev-major&page=3'\n",
    "pick_up_matches(url_KievMajor, list_matches_KievMajor)\n",
    "\n",
    "#The International 2017\n",
    "list_matches_International2017 = []\n",
    "url_International2017 = 'https://ru.dotabuff.com/esports/leagues/5401-the-international-2017/scores'\n",
    "pick_up_matches(url_International2017, list_matches_International2017)\n"
   ]
  },
  {
   "cell_type": "code",
   "execution_count": 20,
   "metadata": {
    "collapsed": true
   },
   "outputs": [],
   "source": [
    "#Create testing data from data The International\n",
    "df_International = pd.DataFrame(list_matches_International2017, columns= ['H1_t1', 'H2_t1','H3_t1','H4_t1','H5_t1','H1_t2', 'H2_t2', 'H3_t2', 'H4_t2','H5_t2', 'winner'])\n",
    "\n",
    "test_matches = df_International.drop(['winner'], axis='columns')\n",
    "test_winner =  (df_International.winner)\n"
   ]
  },
  {
   "cell_type": "code",
   "execution_count": 98,
   "metadata": {},
   "outputs": [],
   "source": [
    "#def dataFrame_\n",
    "#df = pd.DataFrame(list_matches_Epicenter, columns= ['team_name', 'H1_t1', 'H2_t1','H3_t1','H4_t1','H5_t1','team_name','H1_t2', 'H2_t2', 'H3_t2', 'H4_t2','H5_t2', 'winner'])\n",
    "list_all_matches =  (list_matches_Epicenter + list_matches_MDL2017 + list_matches_Dream2017 + list_matches_Summit +\n",
    "                    list_matches_Galaxy + list_matches_KievMajor)\n",
    "\n",
    "df = pd.DataFrame(list_all_matches, columns= ['H1_t1', 'H2_t1','H3_t1','H4_t1','H5_t1','H1_t2', 'H2_t2', 'H3_t2', 'H4_t2','H5_t2', 'winner'])\n",
    "\n",
    "training_matchs = df.drop(['winner'], axis='columns').dropna()\n",
    "\n",
    "training_winner =  (df.winner.dropna())\n",
    "\n",
    "#print (training_winner.append(test_winner))"
   ]
  },
  {
   "cell_type": "code",
   "execution_count": 149,
   "metadata": {},
   "outputs": [
    {
     "name": "stdout",
     "output_type": "stream",
     "text": [
      "Tree:\n",
      "Training data: 0.74\n",
      "Test data (International 2017): 0.57\n"
     ]
    }
   ],
   "source": [
    "from sklearn import tree\n",
    "from sklearn import preprocessing, cross_validation, svm\n",
    "\n",
    "clf = tree.DecisionTreeClassifier(max_depth=9)\n",
    "#clf = svm.SVR()\n",
    "clf.fit(training_matchs, training_winner)\n",
    "\n",
    "#testing on International \n",
    "predict_df = pd.DataFrame(clf.predict(test_matches), columns=['Predict'])\n",
    "predict_df['correct'] = test_winner\n",
    "\n",
    "accuarcy = clf.score(test_matches, test_winner)\n",
    "\n",
    "print ('Tree:')\n",
    "print ('Training data: {:.2f}'.format(clf.score(training_matchs, training_winner)))\n",
    "print ('Test data (International 2017): {:.2f}'.format(clf.score(test_matches, test_winner)))"
   ]
  },
  {
   "cell_type": "code",
   "execution_count": 178,
   "metadata": {},
   "outputs": [
    {
     "name": "stdout",
     "output_type": "stream",
     "text": [
      "Forest:\n",
      "Training data: 0.95\n",
      "Test data (International 2017): 0.58\n"
     ]
    }
   ],
   "source": [
    "from sklearn.ensemble import RandomForestClassifier\n",
    "\n",
    "forest = RandomForestClassifier(n_estimators=25, random_state=42, max_depth=9, max_features=3)\n",
    "\n",
    "forest.fit(training_matchs, training_winner)\n",
    "\n",
    "print ('Forest:')\n",
    "print ('Training data: {:.2f}'.format(forest.score(training_matchs, training_winner)))\n",
    "print ('Test data (International 2017): {:.2f}'.format(forest.score(test_matches, test_winner)))"
   ]
  },
  {
   "cell_type": "code",
   "execution_count": 77,
   "metadata": {},
   "outputs": [
    {
     "data": {
      "image/png": "[encoded data removed]",
      "text/plain": [
       "<matplotlib.figure.Figure at 0x14df2f4de10>"
      ]
     },
     "metadata": {},
     "output_type": "display_data"
    }
   ],
   "source": [
    "import matplotlib.pyplot as plt\n",
    "\n",
    "#importances features (Heroes)\n",
    "def plot_feature_importances_cancer(model):\n",
    "    plt.barh(training_matchs.columns, model.feature_importances_)\n",
    "    plt.xlabel('Важность признаков')\n",
    "    plt.ylabel('Признак')\n",
    "plot_feature_importances_cancer(forest)"
   ]
  },
  {
   "cell_type": "code",
   "execution_count": 181,
   "metadata": {},
   "outputs": [
    {
     "name": "stdout",
     "output_type": "stream",
     "text": [
      "Forest with split data:\n",
      "Training data: 0.92\n",
      "Test data: 0.52\n"
     ]
    }
   ],
   "source": [
    "from sklearn.model_selection import train_test_split\n",
    "X_train, X_test, y_train, y_test = train_test_split(\n",
    "    training_matchs.append(test_matches), training_winner.append(test_winner), random_state=0)\n",
    "\n",
    "forest_split_data = RandomForestClassifier(n_estimators=25, random_state=42, max_depth=7)\n",
    "\n",
    "forest_split_data.fit(X_train, y_train)\n",
    "print ('Forest with split data:')\n",
    "print ('Training data: {:.2f}'.format(forest_split_data.score(X_train, y_train)))\n",
    "print ('Test data: {:.2f}'.format(forest_split_data.score(X_test, y_test)))"
   ]
  },
  {
   "cell_type": "code",
   "execution_count": null,
   "metadata": {},
   "outputs": [],
   "source": []
  },
  {
   "cell_type": "code",
   "execution_count": null,
   "metadata": {
    "collapsed": true
   },
   "outputs": [],
   "source": []
  }
 ],
 "metadata": {
  "kernelspec": {
   "display_name": "Python 3",
   "language": "python",
   "name": "python3"
  },
  "language_info": {
   "codemirror_mode": {
    "name": "ipython",
    "version": 3
   },
   "file_extension": ".py",
   "mimetype": "text/x-python",
   "name": "python",
   "nbconvert_exporter": "python",
   "pygments_lexer": "ipython3",
   "version": "3.6.3"
  }
 },
 "nbformat": 4,
 "nbformat_minor": 2
}
