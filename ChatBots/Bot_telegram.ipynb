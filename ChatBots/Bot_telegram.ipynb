{
 "cells": [
  {
   "cell_type": "code",
   "execution_count": null,
   "metadata": {},
   "outputs": [],
   "source": [
    "import sys\n",
    "sys.path.append('C:\\\\Users\\\\User\\\\1_MY_WORK\\\\1_Data_Scientist_and_ML_Project\\\\PredictionDota2\\\\HelpModules')\n",
    "from TelegramBot import TelegramBot"
   ]
  },
  {
   "cell_type": "code",
   "execution_count": null,
   "metadata": {},
   "outputs": [],
   "source": [
    "# Настройкиa AA\n",
    "TOKEN='597656151:GF3C9T8U8T7iyEIY8_u1t_u9Qv1_LQKUo'\n",
    "REQUEST_KWARGS= {\n",
    "    'proxy_url': 'socks5://178.62.15.32:1080'}\n",
    "telegram_bot = TelegramBot(TOKEN, REQUEST_KWARGS)\n",
    "telegram_bot.createAllHandler()\n",
    "telegram_bot.addAllHandlerInDispatcher()\n",
    "\n",
    "telegram_bot.runBot()"
   ]
  },
  {
   "cell_type": "code",
   "execution_count": null,
   "metadata": {},
   "outputs": [],
   "source": []
  }
 ],
 "metadata": {
  "kernelspec": {
   "display_name": "Python 3",
   "language": "python",
   "name": "python3"
  },
  "language_info": {
   "codemirror_mode": {
    "name": "ipython",
    "version": 3
   },
   "file_extension": ".py",
   "mimetype": "text/x-python",
   "name": "python",
   "nbconvert_exporter": "python",
   "pygments_lexer": "ipython3",
   "version": "3.6.5"
  }
 },
 "nbformat": 4,
 "nbformat_minor": 2
}
