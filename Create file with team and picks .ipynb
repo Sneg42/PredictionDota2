{
 "cells": [
  {
   "cell_type": "code",
   "execution_count": 1,
   "metadata": {
    "collapsed": true
   },
   "outputs": [],
   "source": [
    "import pandas as pd\n",
    "import numpy as np\n",
    "import urllib.request, json\n",
    "from pandas.io.json import json_normalize\n",
    "from sklearn.ensemble import RandomForestClassifier"
   ]
  },
  {
   "cell_type": "code",
   "execution_count": 11,
   "metadata": {},
   "outputs": [
    {
     "data": {
      "text/plain": [
       "1363"
      ]
     },
     "execution_count": 11,
     "metadata": {},
     "output_type": "execute_result"
    }
   ],
   "source": [
    "matches = pd.read_csv('table with matches patch 7.07 to 29,12,2017.csv', index_col=0, encoding='latin-1')\n",
    "len(matches)"
   ]
  },
  {
   "cell_type": "code",
   "execution_count": 12,
   "metadata": {},
   "outputs": [
    {
     "data": {
      "text/plain": [
       "781"
      ]
     },
     "execution_count": 12,
     "metadata": {},
     "output_type": "execute_result"
    }
   ],
   "source": [
    "matches = matches.dropna()\n",
    "len(matches)"
   ]
  },
  {
   "cell_type": "code",
   "execution_count": 13,
   "metadata": {},
   "outputs": [
    {
     "data": {
      "text/plain": [
       "ProDotA Cup Series                    110\n",
       "DreamLeague season 8                  101\n",
       "Dota Summit 8                          94\n",
       "2017 Mars Dota 2 League                88\n",
       "Uprise Champions Cup: Special          83\n",
       "Dota 2 Professional League 2016        69\n",
       "Perfect World Masters                  57\n",
       "H-CUP                                  42\n",
       "The Summit 5                           39\n",
       "Galaxy Battles: Emerging Worlds        35\n",
       "AMD SAPPHIRE Dota PIT                  30\n",
       "SL i-League Invitational Season 4      15\n",
       "D2CL Season 7                           8\n",
       "SL i-League Invitational Season 3       6\n",
       "Asus ROG Masters 2017                   2\n",
       "World Electronic Sports Games 2017      2\n",
       "Name: league_name, dtype: int64"
      ]
     },
     "execution_count": 13,
     "metadata": {},
     "output_type": "execute_result"
    }
   ],
   "source": [
    "pd.value_counts(matches['league_name'])"
   ]
  },
  {
   "cell_type": "code",
   "execution_count": null,
   "metadata": {
    "collapsed": true
   },
   "outputs": [],
   "source": []
  },
  {
   "cell_type": "code",
   "execution_count": 14,
   "metadata": {
    "collapsed": true
   },
   "outputs": [],
   "source": [
    "# создать DF с двумя командами и их пиком героев\n",
    "def create_df_team_picks(matches):\n",
    "    team_picks = pd.DataFrame(columns=['radiant_id', 'dire_id', 'radiant1', 'radiant2','radiant3','radiant4','radiant5',\n",
    "                                      'dire1','dire2','dire3','dire4','dire5', 'radiant_win'])\n",
    "    for index, first_pick in enumerate(matches['first_ban_radiant']):\n",
    "        if first_pick == 1:\n",
    "            team_picks['radiant_id'] = matches['radiant_id']\n",
    "            team_picks['dire_id'] = matches['dire_id']\n",
    "            team_picks['radiant1'] = matches['pick1']\n",
    "            team_picks['radiant2'] = matches['pick4']\n",
    "            team_picks['radiant3'] = matches['pick6']\n",
    "            team_picks['radiant4'] = matches['pick8']\n",
    "            team_picks['radiant5'] = matches['pick9']\n",
    "            team_picks['dire1'] = matches['pick2']\n",
    "            team_picks['dire2'] = matches['pick3']\n",
    "            team_picks['dire3'] = matches['pick5']\n",
    "            team_picks['dire4'] = matches['pick7']\n",
    "            team_picks['dire5'] = matches['pick10']\n",
    "            team_picks['radiant_win'] = matches['radiant_win']\n",
    "            #a = pd.DataFrame(matches[['radiant_id', 'dire_id', 'pick1','pick4','pick6','pick8','pick9',\n",
    "            #                          'pick2','pick3','pick5','pick8','pick10',]].iloc[index])\n",
    "            \n",
    "            #print(a)\n",
    "        else:\n",
    "            team_picks['radiant_id'] = matches['radiant_id']\n",
    "            team_picks['dire_id'] = matches['dire_id']\n",
    "            team_picks['radiant1'] = matches['pick2']\n",
    "            team_picks['radiant2'] = matches['pick3']\n",
    "            team_picks['radiant3'] = matches['pick5']\n",
    "            team_picks['radiant4'] = matches['pick8']\n",
    "            team_picks['radiant5'] = matches['pick10']\n",
    "            team_picks['dire1'] = matches['pick1']\n",
    "            team_picks['dire2'] = matches['pick4']\n",
    "            team_picks['dire3'] = matches['pick6']\n",
    "            team_picks['dire4'] = matches['pick7']\n",
    "            team_picks['dire5'] = matches['pick9']\n",
    "            team_picks['radiant_win'] = matches['radiant_win']\n",
    "#             a = pd.DataFrame(matches[['radiant_id', 'dire_id','pick2','pick3','pick5','pick8','pick10',\n",
    "#                                       'pick1','pick4','pick6','pick8','pick9']].iloc[index])\n",
    "            #print(a)\n",
    "        #pd.concat([team_picks, a])\n",
    "    return team_picks"
   ]
  },
  {
   "cell_type": "code",
   "execution_count": 15,
   "metadata": {
    "scrolled": true
   },
   "outputs": [],
   "source": [
    "dataMatches_team_picks = create_df_team_picks(matches)\n",
    "dataMatches_team_picks.to_csv('table wtih team & picks path 7.07 to 29.12.2017.csv')"
   ]
  },
  {
   "cell_type": "code",
   "execution_count": 24,
   "metadata": {
    "collapsed": true
   },
   "outputs": [],
   "source": [
    "# Разделение данных бех перемешивания\n",
    "X, y = np.split(dataMatches_team_picks, [100]) "
   ]
  },
  {
   "cell_type": "code",
   "execution_count": 25,
   "metadata": {
    "collapsed": true
   },
   "outputs": [],
   "source": [
    "# Разделенеие на признаки и классы\n",
    "X_train = X.drop(['radiant_win'], axis=1)\n",
    "y_train = X['radiant_win']\n",
    "\n",
    "X_test = y.drop(['radiant_win'], axis=1)\n",
    "y_test = y['radiant_win']"
   ]
  },
  {
   "cell_type": "code",
   "execution_count": 26,
   "metadata": {},
   "outputs": [
    {
     "name": "stdout",
     "output_type": "stream",
     "text": [
      "1.0\n",
      "0.521292217327\n"
     ]
    }
   ],
   "source": [
    "forest_last = RandomForestClassifier(n_estimators=36, random_state=40, \n",
    "                                                        max_depth=14, max_features=8)\n",
    "forest_last.fit(X_train, y_train)\n",
    "print (forest_last.score(X_train, y_train))\n",
    "print (forest_last.score(X_test, y_test))\n"
   ]
  },
  {
   "cell_type": "code",
   "execution_count": null,
   "metadata": {
    "collapsed": true
   },
   "outputs": [],
   "source": []
  }
 ],
 "metadata": {
  "kernelspec": {
   "display_name": "Python 3",
   "language": "python",
   "name": "python3"
  },
  "language_info": {
   "codemirror_mode": {
    "name": "ipython",
    "version": 3
   },
   "file_extension": ".py",
   "mimetype": "text/x-python",
   "name": "python",
   "nbconvert_exporter": "python",
   "pygments_lexer": "ipython3",
   "version": "3.6.3"
  }
 },
 "nbformat": 4,
 "nbformat_minor": 2
}
