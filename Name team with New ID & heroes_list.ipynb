{
 "cells": [
  {
   "cell_type": "code",
   "execution_count": 34,
   "metadata": {},
   "outputs": [],
   "source": [
    "import pandas as pd\n",
    "import json"
   ]
  },
  {
   "cell_type": "code",
   "execution_count": 36,
   "metadata": {},
   "outputs": [],
   "source": [
    "all_team = pd.read_csv('data_name_team.csv').dropna()\n",
    "all_team = all_team['name']"
   ]
  },
  {
   "cell_type": "code",
   "execution_count": 47,
   "metadata": {},
   "outputs": [
    {
     "name": "stdout",
     "output_type": "stream",
     "text": [
      "{'OG': 0, 'Team Secret': 1, 'Digital Chaos': 2, 'Effect': 3, 'LGD.Forever Young': 4, 'LGD-GAMING': 5, 'Mineski.亿鼎博': 6, 'Fnatic': 7, 'Vega Squadron': 8, 'Gambit Esports': 9, 'HellRaisers': 10, 'Vici Gaming': 11, 'Newbee': 12, 'OpTic Gaming': 13, 'Evil Geniuses': 14, 'VGJ Thunder': 15, 'Team Liquid': 16, 'Natus Vincere': 17, 'Virtus.pro': 18, 'Spartak Esports': 19, 'Team. Spirit': 20, 'Team Empire': 21, 'Sacred': 22, 'Invictus Gaming': 23, 'Eclipse': 24, 'SFTe-SPORTS': 25, 'EHOME': 26, 'Mid or Feed': 27, 'VGJ.Storm': 28, 'TNC Pro Team': 29, 'ForTheDream': 30, 'compLexity Gaming': 31, 'iG.Vitality': 32, 'Elements Pro Gaming': 33, 'M19': 34, 'Immortals': 35, 'WarriorsGaming.Unity': 36, 'Team Doggie': 37, 'PENTA Sports': 38, 'Execration': 39, 'Clutch Gamers': 40, 'Happy Feet': 41, 'Сomanche': 42, 'Team Leviathan': 43, 'TEAM MAX': 44, 'Sun Gaming': 45, 'TEAMERINO TINKERINO': 46, 'Newbee.Young': 47, 'EHOME.immortal': 48, 'Fire Dragoon': 49, 'Ten Twenty': 50, 'Team Braveheart': 51, 'Infamous': 52, 'Entity Gaming': 53, 'SG e-sports team': 54, 'KEEN GAMING': 55, 'Double Dimension': 56, 'mousesports': 57, 'Vici Gaming Potential': 58, 'Rock Gaming': 59, 'TSHOW RISING': 60, 'Bulls': 61, 'tuho': 62, 'Team Singularity': 63, 'MAD KINGS': 64, 'w33ha earthspirit': 65, 'No Creativity': 66, 'STARS e-Sports': 67, 'BLUE PIKACHU': 68, 'Continuum': 69, 'CAVALRY': 70, 'Team Serenity': 71, 'DotA Mastery': 72, 'CDEC Gaming': 73, 'SCARYFACEZZZZZZZ': 74, 'SC': 75, 'KEENGAMING.LUMINOUS': 76, 'LYG.Gaming': 77, 'Bury Love': 78, 'Team Waooo': 79, 'Geek Fam': 80, 'Team VDuoBao': 81, 'Elite Wolves': 82, 'BOOM ID': 83, 'TEAM EVER': 84, 'CDEC.Avenger': 85, 'Helsinki REDS': 86, 'Signify': 87, 'Starboyz': 88, 'Quid Pro Quo': 89, 'Whites': 90}\n"
     ]
    }
   ],
   "source": [
    "#Создание словаря с ключом - Имя команды, значение - ID \n",
    "a={}\n",
    "for index, name in enumerate(all_team):\n",
    "    a[name] = index\n",
    "print (a)"
   ]
  },
  {
   "cell_type": "code",
   "execution_count": 57,
   "metadata": {},
   "outputs": [],
   "source": [
    "# запись файла json со словарем имен команд и ID\n",
    "with open(\"ID_nameTeam\", \"w\", encoding=\"utf-8\") as file:\n",
    "    json.dump(a, file)\n",
    "    file.close"
   ]
  },
  {
   "cell_type": "code",
   "execution_count": 58,
   "metadata": {},
   "outputs": [
    {
     "name": "stderr",
     "output_type": "stream",
     "text": [
      "C:\\Sneg\\Add.Program\\Anaconda3\\lib\\site-packages\\pandas\\core\\indexing.py:179: SettingWithCopyWarning: \n",
      "A value is trying to be set on a copy of a slice from a DataFrame\n",
      "\n",
      "See the caveats in the documentation: http://pandas.pydata.org/pandas-docs/stable/indexing.html#indexing-view-versus-copy\n",
      "  self._setitem_with_indexer(indexer, value)\n"
     ]
    }
   ],
   "source": [
    "#Список всех героев с их id на openDota\n",
    "heroes_list = pd.read_json('https://api.opendota.com/api/heroes').drop(['name', 'legs'], axis=1)\n",
    "heroes_list['Disabler']=0\n",
    "heroes_list['Nuker']=0\n",
    "heroes_list['Carry']=0\n",
    "heroes_list['Initiator']=0\n",
    "heroes_list['Escape']=0\n",
    "heroes_list['Durable']=0\n",
    "heroes_list['Support']=0\n",
    "heroes_list['Pusher']=0\n",
    "heroes_list['Jungler']=0\n",
    "\n",
    "a = -1\n",
    "for x in heroes_list['roles']:\n",
    "    a+=1\n",
    "    for rol in x:\n",
    "        if rol == 'Carry':\n",
    "            heroes_list['Carry'].iloc[a] = 1\n",
    "        if rol == 'Escape':\n",
    "            heroes_list['Escape'].iloc[a] = 1\n",
    "        if rol == 'Disabler':\n",
    "            heroes_list['Disabler'].iloc[a] = 1\n",
    "        if rol == 'Nuker':\n",
    "            heroes_list['Nuker'].iloc[a] = 1\n",
    "        if rol == 'Initiator':\n",
    "            heroes_list['Initiator'].iloc[a] = 1\n",
    "        if rol == 'Durable':\n",
    "            heroes_list['Durable'].iloc[a] = 1\n",
    "        if rol == 'Support':\n",
    "            heroes_list['Support'].iloc[a] = 1\n",
    "        if rol == 'Pusher':\n",
    "            heroes_list['Pusher'].iloc[a] = 1\n",
    "        if rol == 'Jungler':\n",
    "            heroes_list['Jungler'].iloc[a] = 1\n",
    "\n",
    "heroes_list.index = heroes_list['id']\n",
    "#Необходимо чтобы данные записалсиь в основной датафрейм\n",
    "heroes_list = heroes_list\n"
   ]
  },
  {
   "cell_type": "code",
   "execution_count": 61,
   "metadata": {},
   "outputs": [],
   "source": [
    "#Запись всех героев в файл\n",
    "heroes_list.to_csv('All_Heroes.csv')"
   ]
  },
  {
   "cell_type": "code",
   "execution_count": null,
   "metadata": {
    "collapsed": true
   },
   "outputs": [],
   "source": []
  }
 ],
 "metadata": {
  "kernelspec": {
   "display_name": "Python 3",
   "language": "python",
   "name": "python3"
  },
  "language_info": {
   "codemirror_mode": {
    "name": "ipython",
    "version": 3
   },
   "file_extension": ".py",
   "mimetype": "text/x-python",
   "name": "python",
   "nbconvert_exporter": "python",
   "pygments_lexer": "ipython3",
   "version": "3.6.3"
  }
 },
 "nbformat": 4,
 "nbformat_minor": 2
}
