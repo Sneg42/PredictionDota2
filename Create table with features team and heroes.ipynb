{
 "cells": [
  {
   "cell_type": "code",
   "execution_count": 3,
   "metadata": {
    "collapsed": true
   },
   "outputs": [],
   "source": [
    "import pandas as pd\n",
    "import numpy as np\n",
    "import json"
   ]
  },
  {
   "cell_type": "code",
   "execution_count": 11,
   "metadata": {},
   "outputs": [],
   "source": [
    "# Прочитать файл с героями\n",
    "heroes = pd.read_csv('All_heroes.csv')\n",
    "# Прочитать файл с нормальными id команд\n",
    "teams = json.load(open('ID_nameTeam'))\n",
    "# Матчи\n",
    "matches = pd.read_csv('table wtih team & picks path 7.06.csv', index_col=0, encoding='latin-1')\n"
   ]
  },
  {
   "cell_type": "code",
   "execution_count": 12,
   "metadata": {},
   "outputs": [
    {
     "data": {
      "text/html": [
       "<div>\n",
       "<style>\n",
       "    .dataframe thead tr:only-child th {\n",
       "        text-align: right;\n",
       "    }\n",
       "\n",
       "    .dataframe thead th {\n",
       "        text-align: left;\n",
       "    }\n",
       "\n",
       "    .dataframe tbody tr th {\n",
       "        vertical-align: top;\n",
       "    }\n",
       "</style>\n",
       "<table border=\"1\" class=\"dataframe\">\n",
       "  <thead>\n",
       "    <tr style=\"text-align: right;\">\n",
       "      <th></th>\n",
       "      <th>radiant_id</th>\n",
       "      <th>dire_id</th>\n",
       "      <th>radiant1</th>\n",
       "      <th>radiant2</th>\n",
       "      <th>radiant3</th>\n",
       "      <th>radiant4</th>\n",
       "      <th>radiant5</th>\n",
       "      <th>dire1</th>\n",
       "      <th>dire2</th>\n",
       "      <th>dire3</th>\n",
       "      <th>dire4</th>\n",
       "      <th>dire5</th>\n",
       "      <th>radiant_win</th>\n",
       "    </tr>\n",
       "  </thead>\n",
       "  <tbody>\n",
       "    <tr>\n",
       "      <th>0</th>\n",
       "      <td>70.0</td>\n",
       "      <td>59.0</td>\n",
       "      <td>97</td>\n",
       "      <td>112</td>\n",
       "      <td>106</td>\n",
       "      <td>66</td>\n",
       "      <td>104</td>\n",
       "      <td>75</td>\n",
       "      <td>18</td>\n",
       "      <td>28</td>\n",
       "      <td>65</td>\n",
       "      <td>70</td>\n",
       "      <td>1</td>\n",
       "    </tr>\n",
       "    <tr>\n",
       "      <th>0</th>\n",
       "      <td>59.0</td>\n",
       "      <td>70.0</td>\n",
       "      <td>28</td>\n",
       "      <td>110</td>\n",
       "      <td>29</td>\n",
       "      <td>95</td>\n",
       "      <td>11</td>\n",
       "      <td>32</td>\n",
       "      <td>92</td>\n",
       "      <td>54</td>\n",
       "      <td>74</td>\n",
       "      <td>55</td>\n",
       "      <td>0</td>\n",
       "    </tr>\n",
       "  </tbody>\n",
       "</table>\n",
       "</div>"
      ],
      "text/plain": [
       "   radiant_id  dire_id  radiant1  radiant2  radiant3  radiant4  radiant5  \\\n",
       "0        70.0     59.0        97       112       106        66       104   \n",
       "0        59.0     70.0        28       110        29        95        11   \n",
       "\n",
       "   dire1  dire2  dire3  dire4  dire5  radiant_win  \n",
       "0     75     18     28     65     70            1  \n",
       "0     32     92     54     74     55            0  "
      ]
     },
     "execution_count": 12,
     "metadata": {},
     "output_type": "execute_result"
    }
   ],
   "source": [
    "matches[:2]"
   ]
  },
  {
   "cell_type": "code",
   "execution_count": 14,
   "metadata": {},
   "outputs": [
    {
     "data": {
      "text/html": [
       "<div>\n",
       "<style>\n",
       "    .dataframe thead tr:only-child th {\n",
       "        text-align: right;\n",
       "    }\n",
       "\n",
       "    .dataframe thead th {\n",
       "        text-align: left;\n",
       "    }\n",
       "\n",
       "    .dataframe tbody tr th {\n",
       "        vertical-align: top;\n",
       "    }\n",
       "</style>\n",
       "<table border=\"1\" class=\"dataframe\">\n",
       "  <thead>\n",
       "    <tr style=\"text-align: right;\">\n",
       "      <th></th>\n",
       "      <th>id</th>\n",
       "      <th>attack_type</th>\n",
       "      <th>id.1</th>\n",
       "      <th>localized_name</th>\n",
       "      <th>primary_attr</th>\n",
       "      <th>roles</th>\n",
       "      <th>Disabler</th>\n",
       "      <th>Nuker</th>\n",
       "      <th>Carry</th>\n",
       "      <th>Initiator</th>\n",
       "      <th>Escape</th>\n",
       "      <th>Durable</th>\n",
       "      <th>Support</th>\n",
       "      <th>Pusher</th>\n",
       "      <th>Jungler</th>\n",
       "    </tr>\n",
       "  </thead>\n",
       "  <tbody>\n",
       "    <tr>\n",
       "      <th>0</th>\n",
       "      <td>1</td>\n",
       "      <td>Melee</td>\n",
       "      <td>1</td>\n",
       "      <td>Anti-Mage</td>\n",
       "      <td>agi</td>\n",
       "      <td>['Carry', 'Escape', 'Nuker']</td>\n",
       "      <td>0</td>\n",
       "      <td>1</td>\n",
       "      <td>1</td>\n",
       "      <td>0</td>\n",
       "      <td>1</td>\n",
       "      <td>0</td>\n",
       "      <td>0</td>\n",
       "      <td>0</td>\n",
       "      <td>0</td>\n",
       "    </tr>\n",
       "    <tr>\n",
       "      <th>1</th>\n",
       "      <td>2</td>\n",
       "      <td>Melee</td>\n",
       "      <td>2</td>\n",
       "      <td>Axe</td>\n",
       "      <td>str</td>\n",
       "      <td>['Initiator', 'Durable', 'Disabler', 'Jungler']</td>\n",
       "      <td>1</td>\n",
       "      <td>0</td>\n",
       "      <td>0</td>\n",
       "      <td>1</td>\n",
       "      <td>0</td>\n",
       "      <td>1</td>\n",
       "      <td>0</td>\n",
       "      <td>0</td>\n",
       "      <td>1</td>\n",
       "    </tr>\n",
       "  </tbody>\n",
       "</table>\n",
       "</div>"
      ],
      "text/plain": [
       "   id attack_type  id.1 localized_name primary_attr  \\\n",
       "0   1       Melee     1      Anti-Mage          agi   \n",
       "1   2       Melee     2            Axe          str   \n",
       "\n",
       "                                             roles  Disabler  Nuker  Carry  \\\n",
       "0                     ['Carry', 'Escape', 'Nuker']         0      1      1   \n",
       "1  ['Initiator', 'Durable', 'Disabler', 'Jungler']         1      0      0   \n",
       "\n",
       "   Initiator  Escape  Durable  Support  Pusher  Jungler  \n",
       "0          0       1        0        0       0        0  \n",
       "1          1       0        1        0       0        1  "
      ]
     },
     "execution_count": 14,
     "metadata": {},
     "output_type": "execute_result"
    }
   ],
   "source": [
    "heroes[:2]"
   ]
  },
  {
   "cell_type": "code",
   "execution_count": 16,
   "metadata": {},
   "outputs": [],
   "source": [
    "# Формируем \"мешок слов\" по героям\n",
    "def hero_bag(X):\n",
    "    X_pick = np.zeros((X.shape[0], len(heroes)))\n",
    "    for i, match_id in enumerate(X.index):\n",
    "        for p in xrange(5):\n",
    "            X_pick[i, X.ix[match_id, 'r%d_hero' % (p+1)]-1] = 1\n",
    "            X_pick[i, X.ix[match_id, 'd%d_hero' % (p+1)]-1] = -1\n",
    "\n",
    "    return pandas.DataFrame(X_pick, index=X.index)"
   ]
  },
  {
   "cell_type": "code",
   "execution_count": null,
   "metadata": {},
   "outputs": [],
   "source": []
  },
  {
   "cell_type": "code",
   "execution_count": null,
   "metadata": {
    "collapsed": true
   },
   "outputs": [],
   "source": []
  },
  {
   "cell_type": "code",
   "execution_count": null,
   "metadata": {
    "collapsed": true
   },
   "outputs": [],
   "source": []
  }
 ],
 "metadata": {
  "kernelspec": {
   "display_name": "Python 3",
   "language": "python",
   "name": "python3"
  },
  "language_info": {
   "codemirror_mode": {
    "name": "ipython",
    "version": 3
   },
   "file_extension": ".py",
   "mimetype": "text/x-python",
   "name": "python",
   "nbconvert_exporter": "python",
   "pygments_lexer": "ipython3",
   "version": "3.6.3"
  }
 },
 "nbformat": 4,
 "nbformat_minor": 2
}
