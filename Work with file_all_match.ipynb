{
 "cells": [
  {
   "cell_type": "code",
   "execution_count": 2,
   "metadata": {
    "collapsed": true
   },
   "outputs": [],
   "source": [
    "import pandas as pd\n",
    "import numpy as np\n",
    "import urllib.request, json\n",
    "from pandas.io.json import json_normalize\n",
    "from sklearn.ensemble import RandomForestClassifier"
   ]
  },
  {
   "cell_type": "code",
   "execution_count": 16,
   "metadata": {},
   "outputs": [
    {
     "data": {
      "text/plain": [
       "3773"
      ]
     },
     "execution_count": 16,
     "metadata": {},
     "output_type": "execute_result"
    }
   ],
   "source": [
    "matches = pd.read_csv('table with matches patch 7.06.csv', index_col=0, encoding='latin-1')\n",
    "len(matches)"
   ]
  },
  {
   "cell_type": "code",
   "execution_count": 17,
   "metadata": {},
   "outputs": [
    {
     "data": {
      "text/plain": [
       "1599"
      ]
     },
     "execution_count": 17,
     "metadata": {},
     "output_type": "execute_result"
    }
   ],
   "source": [
    "matches = matches.dropna()\n",
    "len(matches)"
   ]
  },
  {
   "cell_type": "code",
   "execution_count": 18,
   "metadata": {},
   "outputs": [
    {
     "data": {
      "text/plain": [
       "The International 2017                                                 298\n",
       "SL i-League Invitational Season 3                                      190\n",
       "Perfect World Masters                                                  167\n",
       "ESL One Hamburg 2017                                                   110\n",
       "Dota 2 Professional League 2016                                         95\n",
       "PGL DOTA2 OPEN                                                          83\n",
       "AMD SAPPHIRE Dota PIT                                                   79\n",
       "DreamLeague season 7                                                    78\n",
       "EPICENTER: Moscow Season 2                                              59\n",
       "The Summit 5                                                            55\n",
       "2017 Mars Dota 2 League                                                 53\n",
       "ProDotA Cup by Azubu                                                    47\n",
       "D2CL Season 7                                                           42\n",
       "Uprise Champions Cup: Special                                           34\n",
       "ProDotA Cup Series by Azubu.tv                                          27\n",
       "NESO 4th National E-Sports ShenZhen Open Tournament- Galaxy Battles     27\n",
       "ProDotA Cup Series                                                      25\n",
       "WellPlay Invitational by VitalBet                                       23\n",
       "World Cyber Arena 2017 China Qualifiers                                 23\n",
       "WCA Tournament Platform Classic                                         23\n",
       "SL i-League Invitational Season 2                                       18\n",
       "Masters Manila 2017                                                     17\n",
       "Zotac Cup Masters                                                       10\n",
       "Blood In The Streets (BITS)                                              9\n",
       "The Final Match 2017                                                     7\n",
       "Name: league_name, dtype: int64"
      ]
     },
     "execution_count": 18,
     "metadata": {},
     "output_type": "execute_result"
    }
   ],
   "source": [
    "pd.value_counts(matches['league_name'])"
   ]
  },
  {
   "cell_type": "code",
   "execution_count": 135,
   "metadata": {
    "collapsed": true
   },
   "outputs": [],
   "source": []
  },
  {
   "cell_type": "code",
   "execution_count": 19,
   "metadata": {
    "collapsed": true
   },
   "outputs": [],
   "source": [
    "# создать DF с двумя командами и их пиком героев\n",
    "def create_df_team_picks(matches):\n",
    "    team_picks = pd.DataFrame(columns=['radiant_id', 'dire_id', 'radiant1', 'radiant2','radiant3','radiant4','radiant5',\n",
    "                                      'dire1','dire2','dire3','dire4','dire5', 'radiant_win'])\n",
    "    for index, first_pick in enumerate(matches['first_ban_radiant']):\n",
    "        if first_pick == 1:\n",
    "            team_picks['radiant_id'] = matches['radiant_id']\n",
    "            team_picks['dire_id'] = matches['dire_id']\n",
    "            team_picks['radiant1'] = matches['pick1']\n",
    "            team_picks['radiant2'] = matches['pick4']\n",
    "            team_picks['radiant3'] = matches['pick6']\n",
    "            team_picks['radiant4'] = matches['pick8']\n",
    "            team_picks['radiant5'] = matches['pick9']\n",
    "            team_picks['dire1'] = matches['pick2']\n",
    "            team_picks['dire2'] = matches['pick3']\n",
    "            team_picks['dire3'] = matches['pick5']\n",
    "            team_picks['dire4'] = matches['pick8']\n",
    "            team_picks['dire5'] = matches['pick10']\n",
    "            team_picks['radiant_win'] = matches['radiant_win']\n",
    "            #a = pd.DataFrame(matches[['radiant_id', 'dire_id', 'pick1','pick4','pick6','pick8','pick9',\n",
    "            #                          'pick2','pick3','pick5','pick8','pick10',]].iloc[index])\n",
    "            \n",
    "            #print(a)\n",
    "        else:\n",
    "            team_picks['radiant_id'] = matches['radiant_id']\n",
    "            team_picks['dire_id'] = matches['dire_id']\n",
    "            team_picks['radiant1'] = matches['pick2']\n",
    "            team_picks['radiant2'] = matches['pick3']\n",
    "            team_picks['radiant3'] = matches['pick5']\n",
    "            team_picks['radiant4'] = matches['pick8']\n",
    "            team_picks['radiant5'] = matches['pick10']\n",
    "            team_picks['dire1'] = matches['pick1']\n",
    "            team_picks['dire2'] = matches['pick4']\n",
    "            team_picks['dire3'] = matches['pick6']\n",
    "            team_picks['dire4'] = matches['pick8']\n",
    "            team_picks['dire5'] = matches['pick9']\n",
    "            team_picks['radiant_win'] = matches['radiant_win']\n",
    "#             a = pd.DataFrame(matches[['radiant_id', 'dire_id','pick2','pick3','pick5','pick8','pick10',\n",
    "#                                       'pick1','pick4','pick6','pick8','pick9']].iloc[index])\n",
    "            #print(a)\n",
    "        #pd.concat([team_picks, a])\n",
    "    return team_picks"
   ]
  },
  {
   "cell_type": "code",
   "execution_count": 20,
   "metadata": {
    "collapsed": true,
    "scrolled": true
   },
   "outputs": [],
   "source": [
    "dataMatches_team_picks = create_df_team_picks(matches)\n",
    "dataMatches_team_picks.to_csv('table wtih team & picks path 7.06.csv')"
   ]
  },
  {
   "cell_type": "code",
   "execution_count": 21,
   "metadata": {
    "collapsed": true
   },
   "outputs": [],
   "source": [
    "# Разделение данных бех перемешивания\n",
    "X, y = np.split(dataMatches_team_picks, [1120]) "
   ]
  },
  {
   "cell_type": "code",
   "execution_count": 22,
   "metadata": {
    "collapsed": true
   },
   "outputs": [],
   "source": [
    "# Разделенеие на признаки и классы\n",
    "X_train = X.drop(['radiant_win'], axis=1)\n",
    "y_train = X['radiant_win']\n",
    "\n",
    "X_test = y.drop(['radiant_win'], axis=1)\n",
    "y_test = y['radiant_win']"
   ]
  },
  {
   "cell_type": "code",
   "execution_count": 23,
   "metadata": {},
   "outputs": [
    {
     "name": "stdout",
     "output_type": "stream",
     "text": [
      "0.999107142857\n",
      "0.56993736952\n"
     ]
    }
   ],
   "source": [
    "forest_last = RandomForestClassifier(n_estimators=36, random_state=40, \n",
    "                                                        max_depth=14, max_features=8)\n",
    "forest_last.fit(X_train, y_train)\n",
    "print (forest_last.score(X_train, y_train))\n",
    "print (forest_last.score(X_test, y_test))\n"
   ]
  },
  {
   "cell_type": "code",
   "execution_count": null,
   "metadata": {
    "collapsed": true
   },
   "outputs": [],
   "source": []
  }
 ],
 "metadata": {
  "kernelspec": {
   "display_name": "Python 3",
   "language": "python",
   "name": "python3"
  },
  "language_info": {
   "codemirror_mode": {
    "name": "ipython",
    "version": 3
   },
   "file_extension": ".py",
   "mimetype": "text/x-python",
   "name": "python",
   "nbconvert_exporter": "python",
   "pygments_lexer": "ipython3",
   "version": "3.6.3"
  }
 },
 "nbformat": 4,
 "nbformat_minor": 2
}
