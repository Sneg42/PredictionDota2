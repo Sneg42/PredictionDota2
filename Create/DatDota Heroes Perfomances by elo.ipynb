{
 "cells": [
  {
   "cell_type": "code",
   "execution_count": 7,
   "metadata": {
    "collapsed": true
   },
   "outputs": [],
   "source": [
    "import pandas as pd\n",
    "import numpy as np\n",
    "import json\n",
    "from datetime import date, timedelta\n",
    "import urllib\n",
    "\n",
    "# вытащить ДФы для одного, пары, тройки героев из сайта по дате\n",
    "def get_df_avgElo_heroes(day_match, df):\n",
    "       \n",
    "    # создать ДФ для одного героя, пары и тройки\n",
    "    df_one = df.loc[(index for index, x in enumerate(df['heroes']) if len(x) == 1), :]  \n",
    "    df_one = df_one.reset_index().drop('index', axis=1)\n",
    "#     df_double = df.loc[(index for index, x in enumerate(df['heroes']) if len(x) == 2), :]  \n",
    "#     df_triple = df.loc[(index for index, x in enumerate(df['heroes']) if len(x) == 3), :]  \n",
    "\n",
    "    return df_one#, df_double, df_triple\n",
    "# вытащить таблицу с elo героев для команды \n",
    "def get_df_AvgElo_heroes_teams(radiant_or_dire):\n",
    "    # id команды из данных по матчу\n",
    "    id_team = int(main[radiant_or_dire + '_team_id'][index])\n",
    "    # дата матча\n",
    "    date_match = date.fromtimestamp(main['start_time'][index])\n",
    "    \n",
    "    # создать ссылку с данными по Avg.Elo для двух предыдущих месяцев игры\n",
    "    url = ('http://www.datdota.com/api/heroes/elo?teams={}&tier=1&valve-event=does-not-matter&threshold=5'.format(id_team) +\n",
    "        '&patch=7.09&patch=7.08&patch=7.07&patch=7.06&patch=7.05&patch=7.04&patch=7.03&patch=7.02' + \n",
    "        '&patch=7.01&patch=7.00&patch=6.88&patch=6.87&patch=6.86&winner=either'+\n",
    "        '&after=01%2F01%2F2011'+ \n",
    "        '&before={}%2F{}%2F{}'.format(date_match.day-1, date_match.month, date_match.year) + \n",
    "        '&duration=0%3B200&duration-value-from=0&duration-value-to=200')\n",
    "    print(url)\n",
    "    # выгрузить все с сайта и создать ДФ\n",
    "    sauce = urllib.request.Request(url, headers={'User-agent': 'Mozilla/5.0'})\n",
    "    dat = json.loads(urllib.request.urlopen(sauce).read().decode()).get('data')\n",
    "    df_url = pd.DataFrame(dat)\n",
    "    \n",
    "    # создать ДФ для соло героев за все время игр команды (сигнатурки)\n",
    "    return get_df_avgElo_heroes(date_match, df_url)"
   ]
  },
  {
   "cell_type": "markdown",
   "metadata": {},
   "source": [
    "# Подгрузка мейн ДФ с id матчей"
   ]
  },
  {
   "cell_type": "code",
   "execution_count": 2,
   "metadata": {},
   "outputs": [
    {
     "data": {
      "text/html": [
       "<div>\n",
       "<style>\n",
       "    .dataframe thead tr:only-child th {\n",
       "        text-align: right;\n",
       "    }\n",
       "\n",
       "    .dataframe thead th {\n",
       "        text-align: left;\n",
       "    }\n",
       "\n",
       "    .dataframe tbody tr th {\n",
       "        vertical-align: top;\n",
       "    }\n",
       "</style>\n",
       "<table border=\"1\" class=\"dataframe\">\n",
       "  <thead>\n",
       "    <tr style=\"text-align: right;\">\n",
       "      <th></th>\n",
       "      <th>match_id</th>\n",
       "      <th>start_time</th>\n",
       "      <th>radiant_team_id</th>\n",
       "      <th>radiant_score</th>\n",
       "      <th>dire_team_id</th>\n",
       "      <th>dire_score</th>\n",
       "      <th>radiant_win</th>\n",
       "      <th>radiant_H1</th>\n",
       "      <th>radiant_H2</th>\n",
       "      <th>radiant_H3</th>\n",
       "      <th>...</th>\n",
       "      <th>radiant_P2</th>\n",
       "      <th>radiant_P3</th>\n",
       "      <th>radiant_P4</th>\n",
       "      <th>radiant_P5</th>\n",
       "      <th>dire_P1</th>\n",
       "      <th>dire_P2</th>\n",
       "      <th>dire_P3</th>\n",
       "      <th>dire_P4</th>\n",
       "      <th>dire_P5</th>\n",
       "      <th>league_name</th>\n",
       "    </tr>\n",
       "  </thead>\n",
       "  <tbody>\n",
       "    <tr>\n",
       "      <th>1506</th>\n",
       "      <td>3364308762</td>\n",
       "      <td>1502233763</td>\n",
       "      <td>2163.0</td>\n",
       "      <td>19</td>\n",
       "      <td>1838315.0</td>\n",
       "      <td>16</td>\n",
       "      <td>True</td>\n",
       "      <td>73.0</td>\n",
       "      <td>40.0</td>\n",
       "      <td>111.0</td>\n",
       "      <td>...</td>\n",
       "      <td>34505203.0</td>\n",
       "      <td>82262664.0</td>\n",
       "      <td>101356886.0</td>\n",
       "      <td>72312627.0</td>\n",
       "      <td>87278757.0</td>\n",
       "      <td>89117038.0</td>\n",
       "      <td>116585378.0</td>\n",
       "      <td>101450083.0</td>\n",
       "      <td>169025618.0</td>\n",
       "      <td>The International 2017</td>\n",
       "    </tr>\n",
       "  </tbody>\n",
       "</table>\n",
       "<p>1 rows × 28 columns</p>\n",
       "</div>"
      ],
      "text/plain": [
       "        match_id  start_time  radiant_team_id  radiant_score  dire_team_id  \\\n",
       "1506  3364308762  1502233763           2163.0             19     1838315.0   \n",
       "\n",
       "      dire_score  radiant_win  radiant_H1  radiant_H2  radiant_H3  \\\n",
       "1506          16         True        73.0        40.0       111.0   \n",
       "\n",
       "               ...            radiant_P2  radiant_P3   radiant_P4  radiant_P5  \\\n",
       "1506           ...            34505203.0  82262664.0  101356886.0  72312627.0   \n",
       "\n",
       "         dire_P1     dire_P2      dire_P3      dire_P4      dire_P5  \\\n",
       "1506  87278757.0  89117038.0  116585378.0  101450083.0  169025618.0   \n",
       "\n",
       "                 league_name  \n",
       "1506  The International 2017  \n",
       "\n",
       "[1 rows x 28 columns]"
      ]
     },
     "execution_count": 2,
     "metadata": {},
     "output_type": "execute_result"
    }
   ],
   "source": [
    "# загрузить главный ДФ\n",
    "main = pd.read_csv('../tabel/MAIN TABLE PREMIUM.csv', index_col=0)\n",
    "main = main[main['match_id'] == 3364308762]\n",
    "main"
   ]
  },
  {
   "cell_type": "code",
   "execution_count": 3,
   "metadata": {
    "collapsed": true
   },
   "outputs": [],
   "source": [
    "# создать основной ДФ, где будут записаны все матчи (id матча и rda героя)\n",
    "df_AvgElo_heroes = pd.DataFrame()\n",
    "\n",
    "# создать список названий колонок всех героев\n",
    "all_her = main.loc[:,'radiant_H1':'dire_H5'].columns\n",
    "for index in main.index:\n",
    "    # ДФ для соединения всех герове матча в один ДФ \n",
    "    df_heroe_match = pd.DataFrame()\n",
    "    # дата матча\n",
    "    date_match = date.fromtimestamp(main['start_time'][index])\n",
    "    # предыдущий день\n",
    "    date_match =  date_match - timedelta(1)\n",
    "    # создать дату два месяца назад от даты матча\n",
    "    two_month_ago = date_match - timedelta(60)\n",
    "    # создать ссылку с данными по Avg.Elo для двух предыдущих месяцев игры\n",
    "    url = ('http://www.datdota.com/api/heroes/elo?tier=1&valve-event=does-not-matter&threshold=10' +\n",
    "        '&patch=7.09&patch=7.08&patch=7.07&patch=7.06&patch=7.05&patch=7.04&patch=7.03&patch=7.02' + \n",
    "        '&patch=7.01&patch=7.00&patch=6.88&patch=6.87&patch=6.86&winner=either'+\n",
    "        '&after={}%2F{}%2F{}'.format(two_month_ago.day, two_month_ago.month, two_month_ago.year) + \n",
    "        '&before={}%2F{}%2F{}'.format(date_match.day, date_match.month, date_match.year) + \n",
    "        '&duration=0%3B200&duration-value-from=0&duration-value-to=200')\n",
    "    # выгрузить все с сайта и создать ДФ\n",
    "    sauce = urllib.request.Request(url, headers={'User-agent': 'Mozilla/5.0'})\n",
    "    dat = json.loads(urllib.request.urlopen(sauce).read().decode()).get('data')\n",
    "    df_url = pd.DataFrame(dat)\n",
    "    # создать ДФ для одного героя за 2 предыдущих месяца\n",
    "    df_data_tabel_for_heroes = get_df_avgElo_heroes(date_match, df_url)\n",
    "    \n",
    "    for her in all_her:\n",
    "        # вытащить id героя\n",
    "        id_hero = main[her][index]\n",
    "\n",
    "        # вытащить avg elo для данного героя\n",
    "        avgElo_hero = df_data_tabel_for_heroes.loc[(index for index, x in enumerate(\n",
    "                                            df_data_tabel_for_heroes['heroes']) if x == [id_hero]),'eloShift']\n",
    "        \n",
    "        # проверить есть ли герой\n",
    "        try:\n",
    "            avgElo_hero = float(avgElo_hero)\n",
    "        except:\n",
    "            avgElo_hero = 0\n",
    "        # ДФ для avgELo героя по матчу\n",
    "        df_heroe = pd.DataFrame([avgElo_hero], columns=[her + '_AvgElo'])\n",
    "        df_heroe_match = pd.merge(df_heroe_match, df_heroe, left_index=True, right_index=True, how='outer')\n",
    "    df_AvgElo_heroes = pd.concat([df_AvgElo_heroes, df_heroe_match])\n",
    "df_AvgElo_heroes = df_AvgElo_heroes.reset_index().drop('index', axis=1)\n",
    "df_AvgElo_heroes['match_id'] = main['match_id']"
   ]
  },
  {
   "cell_type": "code",
   "execution_count": 4,
   "metadata": {},
   "outputs": [
    {
     "data": {
      "text/html": [
       "<div>\n",
       "<style>\n",
       "    .dataframe thead tr:only-child th {\n",
       "        text-align: right;\n",
       "    }\n",
       "\n",
       "    .dataframe thead th {\n",
       "        text-align: left;\n",
       "    }\n",
       "\n",
       "    .dataframe tbody tr th {\n",
       "        vertical-align: top;\n",
       "    }\n",
       "</style>\n",
       "<table border=\"1\" class=\"dataframe\">\n",
       "  <thead>\n",
       "    <tr style=\"text-align: right;\">\n",
       "      <th></th>\n",
       "      <th>radiant_H1_AvgElo</th>\n",
       "      <th>radiant_H2_AvgElo</th>\n",
       "      <th>radiant_H3_AvgElo</th>\n",
       "      <th>radiant_H4_AvgElo</th>\n",
       "      <th>radiant_H5_AvgElo</th>\n",
       "      <th>dire_H1_AvgElo</th>\n",
       "      <th>dire_H2_AvgElo</th>\n",
       "      <th>dire_H3_AvgElo</th>\n",
       "      <th>dire_H4_AvgElo</th>\n",
       "      <th>dire_H5_AvgElo</th>\n",
       "      <th>match_id</th>\n",
       "    </tr>\n",
       "  </thead>\n",
       "  <tbody>\n",
       "    <tr>\n",
       "      <th>0</th>\n",
       "      <td>-3.536543</td>\n",
       "      <td>-0.780075</td>\n",
       "      <td>1.564617</td>\n",
       "      <td>1.559056</td>\n",
       "      <td>3.584911</td>\n",
       "      <td>-0.607232</td>\n",
       "      <td>6.550237</td>\n",
       "      <td>8.844409</td>\n",
       "      <td>-4.591789</td>\n",
       "      <td>2.608368</td>\n",
       "      <td>NaN</td>\n",
       "    </tr>\n",
       "  </tbody>\n",
       "</table>\n",
       "</div>"
      ],
      "text/plain": [
       "   radiant_H1_AvgElo  radiant_H2_AvgElo  radiant_H3_AvgElo  radiant_H4_AvgElo  \\\n",
       "0          -3.536543          -0.780075           1.564617           1.559056   \n",
       "\n",
       "   radiant_H5_AvgElo  dire_H1_AvgElo  dire_H2_AvgElo  dire_H3_AvgElo  \\\n",
       "0           3.584911       -0.607232        6.550237        8.844409   \n",
       "\n",
       "   dire_H4_AvgElo  dire_H5_AvgElo  match_id  \n",
       "0       -4.591789        2.608368       NaN  "
      ]
     },
     "execution_count": 4,
     "metadata": {},
     "output_type": "execute_result"
    }
   ],
   "source": [
    "df_AvgElo_heroes#.to_csv('../tabel/table from Datdota/tabel with AvgElo heroes (meta).csv')\n"
   ]
  },
  {
   "cell_type": "code",
   "execution_count": 5,
   "metadata": {},
   "outputs": [
    {
     "data": {
      "text/plain": [
       "'http://www.datdota.com/api/heroes/elo?tier=1&valve-event=does-not-matter&threshold=10&patch=7.09&patch=7.08&patch=7.07&patch=7.06&patch=7.05&patch=7.04&patch=7.03&patch=7.02&patch=7.01&patch=7.00&patch=6.88&patch=6.87&patch=6.86&winner=either&after=26%2F4%2F2017&before=25%2F6%2F2017&duration=0%3B200&duration-value-from=0&duration-value-to=200'"
      ]
     },
     "execution_count": 5,
     "metadata": {},
     "output_type": "execute_result"
    }
   ],
   "source": [
    "url"
   ]
  },
  {
   "cell_type": "markdown",
   "metadata": {},
   "source": [
    "# Вытащить как команды играют за все время (сигнатурки)"
   ]
  },
  {
   "cell_type": "code",
   "execution_count": 8,
   "metadata": {},
   "outputs": [
    {
     "name": "stdout",
     "output_type": "stream",
     "text": [
      "http://www.datdota.com/api/heroes/elo?teams=2163&tier=1&valve-event=does-not-matter&threshold=5&patch=7.09&patch=7.08&patch=7.07&patch=7.06&patch=7.05&patch=7.04&patch=7.03&patch=7.02&patch=7.01&patch=7.00&patch=6.88&patch=6.87&patch=6.86&winner=either&after=01%2F01%2F2011&before=8%2F8%2F2017&duration=0%3B200&duration-value-from=0&duration-value-to=200\n",
      "http://www.datdota.com/api/heroes/elo?teams=1838315&tier=1&valve-event=does-not-matter&threshold=5&patch=7.09&patch=7.08&patch=7.07&patch=7.06&patch=7.05&patch=7.04&patch=7.03&patch=7.02&patch=7.01&patch=7.00&patch=6.88&patch=6.87&patch=6.86&winner=either&after=01%2F01%2F2011&before=8%2F8%2F2017&duration=0%3B200&duration-value-from=0&duration-value-to=200\n"
     ]
    }
   ],
   "source": [
    "# создать основной ДФ, где будут записаны все матчи (id матча и rda героя)\n",
    "df_AvgElo_heroes_teams = pd.DataFrame()\n",
    "\n",
    "# создать список названий колонок  героев radiant\n",
    "all_her_rad = main.loc[:,'radiant_H1':'radiant_H5'].columns\n",
    "# создать список названий колонок  героев radiant\n",
    "all_her_dir = main.loc[:,'dire_H1':'dire_H5'].columns\n",
    "\n",
    "for index in main.index:\n",
    "    # ДФ для соединения всех герове radiant & dire матча в один ДФ \n",
    "    df_heroe_match = pd.DataFrame()\n",
    "    \n",
    "    # ДЛЯ РЕДИАНТ\n",
    "    # создать ДФ c avgElo для редиант по дате игры\n",
    "    try: # если нету данных по команде то вернуть пустой ДФ\n",
    "        df_data_tabel_radiant = get_df_AvgElo_heroes_teams('radiant')\n",
    "    except:\n",
    "        df_data_tabel_radiant = pd.DataFrame()\n",
    "        \n",
    "    for her in all_her_rad:\n",
    "        # вытащить id героя\n",
    "        id_hero = main[her][index]\n",
    "        # проверить есть ли герой\n",
    "        try:\n",
    "             # вытащить avg elo для данного героя\n",
    "            avgElo_hero = df_data_tabel_radiant.loc[(index for index, x in enumerate\n",
    "                                                (df_data_tabel_radiant['heroes']) if x == [id_hero]),'eloShift']\n",
    "            avgElo_hero = float(avgElo_hero)\n",
    "        except:\n",
    "            avgElo_hero = 0\n",
    "        \n",
    "        # ДФ для avgELo героя по матчу\n",
    "        df_heroe = pd.DataFrame([avgElo_hero], columns=[her + '_AvgElo'])\n",
    "        df_heroe_match = pd.merge(df_heroe_match, df_heroe, left_index=True, right_index=True, how='outer') \n",
    "    \n",
    "    # ДЛЯ ДАЕР\n",
    "    # создать ДФ c avgElo для dire по дате игры\n",
    "    try: # если нету данных по команде то вернуть пустой ДФ\n",
    "        df_data_tabel_dire = get_df_AvgElo_heroes_teams('dire')\n",
    "    except:\n",
    "        df_data_tabel_dire = pd.DataFrame()\n",
    "        \n",
    "    for her in all_her_dir:\n",
    "        # вытащить id героя\n",
    "        id_hero = main[her][index]\n",
    "\n",
    "        # проверить есть ли герой\n",
    "        try:\n",
    "            # вытащить avg elo для данного героя\n",
    "            avgElo_hero = df_data_tabel_dire.loc[(index for index, x in enumerate\n",
    "                                                (df_data_tabel_dire['heroes']) if x == [id_hero]),'eloShift']\n",
    "            avgElo_hero = float(avgElo_hero)\n",
    "        except:\n",
    "            avgElo_hero = 0\n",
    "\n",
    "        # ДФ для avgELo героя по матчу\n",
    "        df_heroe = pd.DataFrame([avgElo_hero], columns=[her + '_AvgElo'])\n",
    "        df_heroe_match = pd.merge(df_heroe_match, df_heroe, left_index=True, right_index=True, how='outer') \n",
    "    df_AvgElo_heroes_teams = pd.concat([df_AvgElo_heroes_teams, df_heroe_match])\n",
    "       \n",
    "df_AvgElo_heroes_teams = df_AvgElo_heroes_teams.reset_index().drop('index', axis=1)\n",
    "df_AvgElo_heroes_teams['match_id'] = main['match_id']"
   ]
  },
  {
   "cell_type": "code",
   "execution_count": 6,
   "metadata": {},
   "outputs": [
    {
     "data": {
      "text/html": [
       "<div>\n",
       "<style>\n",
       "    .dataframe thead tr:only-child th {\n",
       "        text-align: right;\n",
       "    }\n",
       "\n",
       "    .dataframe thead th {\n",
       "        text-align: left;\n",
       "    }\n",
       "\n",
       "    .dataframe tbody tr th {\n",
       "        vertical-align: top;\n",
       "    }\n",
       "</style>\n",
       "<table border=\"1\" class=\"dataframe\">\n",
       "  <thead>\n",
       "    <tr style=\"text-align: right;\">\n",
       "      <th></th>\n",
       "      <th>radiant_H1_AvgElo</th>\n",
       "      <th>radiant_H2_AvgElo</th>\n",
       "      <th>radiant_H3_AvgElo</th>\n",
       "      <th>radiant_H4_AvgElo</th>\n",
       "      <th>radiant_H5_AvgElo</th>\n",
       "      <th>dire_H1_AvgElo</th>\n",
       "      <th>dire_H2_AvgElo</th>\n",
       "      <th>dire_H3_AvgElo</th>\n",
       "      <th>dire_H4_AvgElo</th>\n",
       "      <th>dire_H5_AvgElo</th>\n",
       "      <th>match_id</th>\n",
       "    </tr>\n",
       "  </thead>\n",
       "  <tbody>\n",
       "    <tr>\n",
       "      <th>0</th>\n",
       "      <td>-1.383448</td>\n",
       "      <td>0</td>\n",
       "      <td>7.804802</td>\n",
       "      <td>0.965511</td>\n",
       "      <td>10.919285</td>\n",
       "      <td>10.646349</td>\n",
       "      <td>-4.112085</td>\n",
       "      <td>17.611371</td>\n",
       "      <td>0</td>\n",
       "      <td>9.22398</td>\n",
       "      <td>NaN</td>\n",
       "    </tr>\n",
       "  </tbody>\n",
       "</table>\n",
       "</div>"
      ],
      "text/plain": [
       "   radiant_H1_AvgElo  radiant_H2_AvgElo  radiant_H3_AvgElo  radiant_H4_AvgElo  \\\n",
       "0          -1.383448                  0           7.804802           0.965511   \n",
       "\n",
       "   radiant_H5_AvgElo  dire_H1_AvgElo  dire_H2_AvgElo  dire_H3_AvgElo  \\\n",
       "0          10.919285       10.646349       -4.112085       17.611371   \n",
       "\n",
       "   dire_H4_AvgElo  dire_H5_AvgElo  match_id  \n",
       "0               0         9.22398       NaN  "
      ]
     },
     "execution_count": 6,
     "metadata": {},
     "output_type": "execute_result"
    }
   ],
   "source": [
    "df_AvgElo_heroes_teams#.to_csv('../tabel/table from Datdota/tabel with AvgElo heroes for teams (signatures).csv')"
   ]
  },
  {
   "cell_type": "code",
   "execution_count": null,
   "metadata": {
    "collapsed": true,
    "scrolled": true
   },
   "outputs": [],
   "source": []
  },
  {
   "cell_type": "code",
   "execution_count": null,
   "metadata": {
    "collapsed": true
   },
   "outputs": [],
   "source": []
  },
  {
   "cell_type": "code",
   "execution_count": null,
   "metadata": {
    "collapsed": true
   },
   "outputs": [],
   "source": []
  },
  {
   "cell_type": "code",
   "execution_count": null,
   "metadata": {
    "collapsed": true
   },
   "outputs": [],
   "source": []
  },
  {
   "cell_type": "code",
   "execution_count": null,
   "metadata": {
    "collapsed": true
   },
   "outputs": [],
   "source": []
  },
  {
   "cell_type": "code",
   "execution_count": null,
   "metadata": {
    "collapsed": true
   },
   "outputs": [],
   "source": []
  },
  {
   "cell_type": "code",
   "execution_count": null,
   "metadata": {
    "collapsed": true
   },
   "outputs": [],
   "source": []
  }
 ],
 "metadata": {
  "kernelspec": {
   "display_name": "Python 3",
   "language": "python",
   "name": "python3"
  },
  "language_info": {
   "codemirror_mode": {
    "name": "ipython",
    "version": 3
   },
   "file_extension": ".py",
   "mimetype": "text/x-python",
   "name": "python",
   "nbconvert_exporter": "python",
   "pygments_lexer": "ipython3",
   "version": "3.6.3"
  }
 },
 "nbformat": 4,
 "nbformat_minor": 2
}
