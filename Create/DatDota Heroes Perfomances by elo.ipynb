{
 "cells": [
  {
   "cell_type": "code",
   "execution_count": 1,
   "metadata": {
    "collapsed": true
   },
   "outputs": [],
   "source": [
    "import pandas as pd\n",
    "import numpy as np\n",
    "import json\n",
    "from datetime import date, timedelta\n",
    "import urllib\n",
    "\n",
    "# вытащить ДФы для одного, пары, тройки героев из сайта по дате\n",
    "def get_df_avgElo_heroes(day_match, df):\n",
    "       \n",
    "    # создать ДФ для одного героя, пары и тройки\n",
    "    df_one = df.loc[(index for index, x in enumerate(df['heroes']) if len(x) == 1), :]  \n",
    "    df_one = df_one.reset_index().drop('index', axis=1)\n",
    "#     df_double = df.loc[(index for index, x in enumerate(df['heroes']) if len(x) == 2), :]  \n",
    "#     df_triple = df.loc[(index for index, x in enumerate(df['heroes']) if len(x) == 3), :]  \n",
    "\n",
    "    return df_one#, df_double, df_triple\n",
    "\n",
    "# вытащить таблицу с elo героев для команды \n",
    "def get_df_AvgElo_heroes_teams(radiant_or_dire):\n",
    "    # id команды из данных по матчу\n",
    "    id_team = int(main[radiant_or_dire + '_team_id'][index])\n",
    "    # дата матча\n",
    "    date_match = date.fromtimestamp(main['start_time'][index])\n",
    "    \n",
    "    # создать ссылку с данными по Avg.Elo для двух предыдущих месяцев игры\n",
    "    url = ('http://www.datdota.com/api/heroes/elo?teams={}&tier=1&valve-event=does-not-matter&threshold=5'.format(id_team) +\n",
    "        '&patch=7.09&patch=7.08&patch=7.07&patch=7.06&patch=7.05&patch=7.04&patch=7.03&patch=7.02' + \n",
    "        '&patch=7.01&patch=7.00&patch=6.88&patch=6.87&patch=6.86&winner=either'+\n",
    "        '&after=01%2F01%2F2011'+ \n",
    "        '&before={}%2F{}%2F{}'.format(date_match.day-1, date_match.month, date_match.year) + \n",
    "        '&duration=0%3B200&duration-value-from=0&duration-value-to=200')\n",
    "    # выгрузить все с сайта и создать ДФ\n",
    "    sauce = urllib.request.Request(url, headers={'User-agent': 'Mozilla/5.0'})\n",
    "    dat = json.loads(urllib.request.urlopen(sauce).read().decode()).get('data')\n",
    "    df_url = pd.DataFrame(dat)\n",
    "    \n",
    "    # создать ДФ для соло героев за все время игр команды (сигнатурки)\n",
    "    return get_df_avgElo_heroes(date_match, df_url)"
   ]
  },
  {
   "cell_type": "markdown",
   "metadata": {},
   "source": [
    "# Подгрузка мейн ДФ с id матчей"
   ]
  },
  {
   "cell_type": "code",
   "execution_count": 3,
   "metadata": {},
   "outputs": [
    {
     "data": {
      "text/html": [
       "<div>\n",
       "<style>\n",
       "    .dataframe thead tr:only-child th {\n",
       "        text-align: right;\n",
       "    }\n",
       "\n",
       "    .dataframe thead th {\n",
       "        text-align: left;\n",
       "    }\n",
       "\n",
       "    .dataframe tbody tr th {\n",
       "        vertical-align: top;\n",
       "    }\n",
       "</style>\n",
       "<table border=\"1\" class=\"dataframe\">\n",
       "  <thead>\n",
       "    <tr style=\"text-align: right;\">\n",
       "      <th></th>\n",
       "      <th>match_id</th>\n",
       "      <th>start_time</th>\n",
       "      <th>radiant_team_id</th>\n",
       "      <th>radiant_score</th>\n",
       "      <th>dire_team_id</th>\n",
       "      <th>dire_score</th>\n",
       "      <th>radiant_win</th>\n",
       "      <th>radiant_H1</th>\n",
       "      <th>radiant_H2</th>\n",
       "      <th>radiant_H3</th>\n",
       "      <th>...</th>\n",
       "      <th>radiant_P2</th>\n",
       "      <th>radiant_P3</th>\n",
       "      <th>radiant_P4</th>\n",
       "      <th>radiant_P5</th>\n",
       "      <th>dire_P1</th>\n",
       "      <th>dire_P2</th>\n",
       "      <th>dire_P3</th>\n",
       "      <th>dire_P4</th>\n",
       "      <th>dire_P5</th>\n",
       "      <th>league_name</th>\n",
       "    </tr>\n",
       "  </thead>\n",
       "  <tbody>\n",
       "    <tr>\n",
       "      <th>1007</th>\n",
       "      <td>3274564960</td>\n",
       "      <td>1498454706</td>\n",
       "      <td>3659536.0</td>\n",
       "      <td>13</td>\n",
       "      <td>3326875.0</td>\n",
       "      <td>20</td>\n",
       "      <td>False</td>\n",
       "      <td>111.0</td>\n",
       "      <td>47.0</td>\n",
       "      <td>99.0</td>\n",
       "      <td>...</td>\n",
       "      <td>164532005.0</td>\n",
       "      <td>121833213.0</td>\n",
       "      <td>152545459.0</td>\n",
       "      <td>127077041.0</td>\n",
       "      <td>100471531.0</td>\n",
       "      <td>21289303.0</td>\n",
       "      <td>89603649.0</td>\n",
       "      <td>84772440.0</td>\n",
       "      <td>85417034.0</td>\n",
       "      <td>The International 2017</td>\n",
       "    </tr>\n",
       "  </tbody>\n",
       "</table>\n",
       "<p>1 rows × 28 columns</p>\n",
       "</div>"
      ],
      "text/plain": [
       "        match_id  start_time  radiant_team_id  radiant_score  dire_team_id  \\\n",
       "1007  3274564960  1498454706        3659536.0             13     3326875.0   \n",
       "\n",
       "      dire_score  radiant_win  radiant_H1  radiant_H2  radiant_H3  \\\n",
       "1007          20        False       111.0        47.0        99.0   \n",
       "\n",
       "               ...             radiant_P2   radiant_P3   radiant_P4  \\\n",
       "1007           ...            164532005.0  121833213.0  152545459.0   \n",
       "\n",
       "       radiant_P5      dire_P1     dire_P2     dire_P3     dire_P4  \\\n",
       "1007  127077041.0  100471531.0  21289303.0  89603649.0  84772440.0   \n",
       "\n",
       "         dire_P5             league_name  \n",
       "1007  85417034.0  The International 2017  \n",
       "\n",
       "[1 rows x 28 columns]"
      ]
     },
     "execution_count": 3,
     "metadata": {},
     "output_type": "execute_result"
    }
   ],
   "source": [
    "# загрузить главный ДФ\n",
    "main = pd.read_csv('../tabel/MAIN TABLE PREMIUM.csv', index_col=0)\n",
    "main = main[main['match_id'] == 3274564960]\n",
    "main"
   ]
  },
  {
   "cell_type": "code",
   "execution_count": 4,
   "metadata": {},
   "outputs": [
    {
     "ename": "HTTPError",
     "evalue": "HTTP Error 407: Proxy Authentication Required",
     "output_type": "error",
     "traceback": [
      "\u001b[1;31m---------------------------------------------------------------------------\u001b[0m",
      "\u001b[1;31mHTTPError\u001b[0m                                 Traceback (most recent call last)",
      "\u001b[1;32m<ipython-input-4-8c4f6ef53c9b>\u001b[0m in \u001b[0;36m<module>\u001b[1;34m()\u001b[0m\n\u001b[0;32m     22\u001b[0m     \u001b[1;31m# выгрузить все с сайта и создать ДФ\u001b[0m\u001b[1;33m\u001b[0m\u001b[1;33m\u001b[0m\u001b[0m\n\u001b[0;32m     23\u001b[0m     \u001b[0msauce\u001b[0m \u001b[1;33m=\u001b[0m \u001b[0murllib\u001b[0m\u001b[1;33m.\u001b[0m\u001b[0mrequest\u001b[0m\u001b[1;33m.\u001b[0m\u001b[0mRequest\u001b[0m\u001b[1;33m(\u001b[0m\u001b[0murl\u001b[0m\u001b[1;33m,\u001b[0m \u001b[0mheaders\u001b[0m\u001b[1;33m=\u001b[0m\u001b[1;33m{\u001b[0m\u001b[1;34m'User-agent'\u001b[0m\u001b[1;33m:\u001b[0m \u001b[1;34m'Mozilla/5.0'\u001b[0m\u001b[1;33m}\u001b[0m\u001b[1;33m)\u001b[0m\u001b[1;33m\u001b[0m\u001b[0m\n\u001b[1;32m---> 24\u001b[1;33m     \u001b[0mdat\u001b[0m \u001b[1;33m=\u001b[0m \u001b[0mjson\u001b[0m\u001b[1;33m.\u001b[0m\u001b[0mloads\u001b[0m\u001b[1;33m(\u001b[0m\u001b[0murllib\u001b[0m\u001b[1;33m.\u001b[0m\u001b[0mrequest\u001b[0m\u001b[1;33m.\u001b[0m\u001b[0murlopen\u001b[0m\u001b[1;33m(\u001b[0m\u001b[0msauce\u001b[0m\u001b[1;33m)\u001b[0m\u001b[1;33m.\u001b[0m\u001b[0mread\u001b[0m\u001b[1;33m(\u001b[0m\u001b[1;33m)\u001b[0m\u001b[1;33m.\u001b[0m\u001b[0mdecode\u001b[0m\u001b[1;33m(\u001b[0m\u001b[1;33m)\u001b[0m\u001b[1;33m)\u001b[0m\u001b[1;33m.\u001b[0m\u001b[0mget\u001b[0m\u001b[1;33m(\u001b[0m\u001b[1;34m'data'\u001b[0m\u001b[1;33m)\u001b[0m\u001b[1;33m\u001b[0m\u001b[0m\n\u001b[0m\u001b[0;32m     25\u001b[0m     \u001b[0mdf_url\u001b[0m \u001b[1;33m=\u001b[0m \u001b[0mpd\u001b[0m\u001b[1;33m.\u001b[0m\u001b[0mDataFrame\u001b[0m\u001b[1;33m(\u001b[0m\u001b[0mdat\u001b[0m\u001b[1;33m)\u001b[0m\u001b[1;33m\u001b[0m\u001b[0m\n\u001b[0;32m     26\u001b[0m     \u001b[1;31m# создать ДФ для одного героя за 2 предыдущих месяца\u001b[0m\u001b[1;33m\u001b[0m\u001b[1;33m\u001b[0m\u001b[0m\n",
      "\u001b[1;32mC:\\Apps\\Anaconda3\\lib\\urllib\\request.py\u001b[0m in \u001b[0;36murlopen\u001b[1;34m(url, data, timeout, cafile, capath, cadefault, context)\u001b[0m\n\u001b[0;32m    221\u001b[0m     \u001b[1;32melse\u001b[0m\u001b[1;33m:\u001b[0m\u001b[1;33m\u001b[0m\u001b[0m\n\u001b[0;32m    222\u001b[0m         \u001b[0mopener\u001b[0m \u001b[1;33m=\u001b[0m \u001b[0m_opener\u001b[0m\u001b[1;33m\u001b[0m\u001b[0m\n\u001b[1;32m--> 223\u001b[1;33m     \u001b[1;32mreturn\u001b[0m \u001b[0mopener\u001b[0m\u001b[1;33m.\u001b[0m\u001b[0mopen\u001b[0m\u001b[1;33m(\u001b[0m\u001b[0murl\u001b[0m\u001b[1;33m,\u001b[0m \u001b[0mdata\u001b[0m\u001b[1;33m,\u001b[0m \u001b[0mtimeout\u001b[0m\u001b[1;33m)\u001b[0m\u001b[1;33m\u001b[0m\u001b[0m\n\u001b[0m\u001b[0;32m    224\u001b[0m \u001b[1;33m\u001b[0m\u001b[0m\n\u001b[0;32m    225\u001b[0m \u001b[1;32mdef\u001b[0m \u001b[0minstall_opener\u001b[0m\u001b[1;33m(\u001b[0m\u001b[0mopener\u001b[0m\u001b[1;33m)\u001b[0m\u001b[1;33m:\u001b[0m\u001b[1;33m\u001b[0m\u001b[0m\n",
      "\u001b[1;32mC:\\Apps\\Anaconda3\\lib\\urllib\\request.py\u001b[0m in \u001b[0;36mopen\u001b[1;34m(self, fullurl, data, timeout)\u001b[0m\n\u001b[0;32m    530\u001b[0m         \u001b[1;32mfor\u001b[0m \u001b[0mprocessor\u001b[0m \u001b[1;32min\u001b[0m \u001b[0mself\u001b[0m\u001b[1;33m.\u001b[0m\u001b[0mprocess_response\u001b[0m\u001b[1;33m.\u001b[0m\u001b[0mget\u001b[0m\u001b[1;33m(\u001b[0m\u001b[0mprotocol\u001b[0m\u001b[1;33m,\u001b[0m \u001b[1;33m[\u001b[0m\u001b[1;33m]\u001b[0m\u001b[1;33m)\u001b[0m\u001b[1;33m:\u001b[0m\u001b[1;33m\u001b[0m\u001b[0m\n\u001b[0;32m    531\u001b[0m             \u001b[0mmeth\u001b[0m \u001b[1;33m=\u001b[0m \u001b[0mgetattr\u001b[0m\u001b[1;33m(\u001b[0m\u001b[0mprocessor\u001b[0m\u001b[1;33m,\u001b[0m \u001b[0mmeth_name\u001b[0m\u001b[1;33m)\u001b[0m\u001b[1;33m\u001b[0m\u001b[0m\n\u001b[1;32m--> 532\u001b[1;33m             \u001b[0mresponse\u001b[0m \u001b[1;33m=\u001b[0m \u001b[0mmeth\u001b[0m\u001b[1;33m(\u001b[0m\u001b[0mreq\u001b[0m\u001b[1;33m,\u001b[0m \u001b[0mresponse\u001b[0m\u001b[1;33m)\u001b[0m\u001b[1;33m\u001b[0m\u001b[0m\n\u001b[0m\u001b[0;32m    533\u001b[0m \u001b[1;33m\u001b[0m\u001b[0m\n\u001b[0;32m    534\u001b[0m         \u001b[1;32mreturn\u001b[0m \u001b[0mresponse\u001b[0m\u001b[1;33m\u001b[0m\u001b[0m\n",
      "\u001b[1;32mC:\\Apps\\Anaconda3\\lib\\urllib\\request.py\u001b[0m in \u001b[0;36mhttp_response\u001b[1;34m(self, request, response)\u001b[0m\n\u001b[0;32m    640\u001b[0m         \u001b[1;32mif\u001b[0m \u001b[1;32mnot\u001b[0m \u001b[1;33m(\u001b[0m\u001b[1;36m200\u001b[0m \u001b[1;33m<=\u001b[0m \u001b[0mcode\u001b[0m \u001b[1;33m<\u001b[0m \u001b[1;36m300\u001b[0m\u001b[1;33m)\u001b[0m\u001b[1;33m:\u001b[0m\u001b[1;33m\u001b[0m\u001b[0m\n\u001b[0;32m    641\u001b[0m             response = self.parent.error(\n\u001b[1;32m--> 642\u001b[1;33m                 'http', request, response, code, msg, hdrs)\n\u001b[0m\u001b[0;32m    643\u001b[0m \u001b[1;33m\u001b[0m\u001b[0m\n\u001b[0;32m    644\u001b[0m         \u001b[1;32mreturn\u001b[0m \u001b[0mresponse\u001b[0m\u001b[1;33m\u001b[0m\u001b[0m\n",
      "\u001b[1;32mC:\\Apps\\Anaconda3\\lib\\urllib\\request.py\u001b[0m in \u001b[0;36merror\u001b[1;34m(self, proto, *args)\u001b[0m\n\u001b[0;32m    568\u001b[0m         \u001b[1;32mif\u001b[0m \u001b[0mhttp_err\u001b[0m\u001b[1;33m:\u001b[0m\u001b[1;33m\u001b[0m\u001b[0m\n\u001b[0;32m    569\u001b[0m             \u001b[0margs\u001b[0m \u001b[1;33m=\u001b[0m \u001b[1;33m(\u001b[0m\u001b[0mdict\u001b[0m\u001b[1;33m,\u001b[0m \u001b[1;34m'default'\u001b[0m\u001b[1;33m,\u001b[0m \u001b[1;34m'http_error_default'\u001b[0m\u001b[1;33m)\u001b[0m \u001b[1;33m+\u001b[0m \u001b[0morig_args\u001b[0m\u001b[1;33m\u001b[0m\u001b[0m\n\u001b[1;32m--> 570\u001b[1;33m             \u001b[1;32mreturn\u001b[0m \u001b[0mself\u001b[0m\u001b[1;33m.\u001b[0m\u001b[0m_call_chain\u001b[0m\u001b[1;33m(\u001b[0m\u001b[1;33m*\u001b[0m\u001b[0margs\u001b[0m\u001b[1;33m)\u001b[0m\u001b[1;33m\u001b[0m\u001b[0m\n\u001b[0m\u001b[0;32m    571\u001b[0m \u001b[1;33m\u001b[0m\u001b[0m\n\u001b[0;32m    572\u001b[0m \u001b[1;31m# XXX probably also want an abstract factory that knows when it makes\u001b[0m\u001b[1;33m\u001b[0m\u001b[1;33m\u001b[0m\u001b[0m\n",
      "\u001b[1;32mC:\\Apps\\Anaconda3\\lib\\urllib\\request.py\u001b[0m in \u001b[0;36m_call_chain\u001b[1;34m(self, chain, kind, meth_name, *args)\u001b[0m\n\u001b[0;32m    502\u001b[0m         \u001b[1;32mfor\u001b[0m \u001b[0mhandler\u001b[0m \u001b[1;32min\u001b[0m \u001b[0mhandlers\u001b[0m\u001b[1;33m:\u001b[0m\u001b[1;33m\u001b[0m\u001b[0m\n\u001b[0;32m    503\u001b[0m             \u001b[0mfunc\u001b[0m \u001b[1;33m=\u001b[0m \u001b[0mgetattr\u001b[0m\u001b[1;33m(\u001b[0m\u001b[0mhandler\u001b[0m\u001b[1;33m,\u001b[0m \u001b[0mmeth_name\u001b[0m\u001b[1;33m)\u001b[0m\u001b[1;33m\u001b[0m\u001b[0m\n\u001b[1;32m--> 504\u001b[1;33m             \u001b[0mresult\u001b[0m \u001b[1;33m=\u001b[0m \u001b[0mfunc\u001b[0m\u001b[1;33m(\u001b[0m\u001b[1;33m*\u001b[0m\u001b[0margs\u001b[0m\u001b[1;33m)\u001b[0m\u001b[1;33m\u001b[0m\u001b[0m\n\u001b[0m\u001b[0;32m    505\u001b[0m             \u001b[1;32mif\u001b[0m \u001b[0mresult\u001b[0m \u001b[1;32mis\u001b[0m \u001b[1;32mnot\u001b[0m \u001b[1;32mNone\u001b[0m\u001b[1;33m:\u001b[0m\u001b[1;33m\u001b[0m\u001b[0m\n\u001b[0;32m    506\u001b[0m                 \u001b[1;32mreturn\u001b[0m \u001b[0mresult\u001b[0m\u001b[1;33m\u001b[0m\u001b[0m\n",
      "\u001b[1;32mC:\\Apps\\Anaconda3\\lib\\urllib\\request.py\u001b[0m in \u001b[0;36mhttp_error_default\u001b[1;34m(self, req, fp, code, msg, hdrs)\u001b[0m\n\u001b[0;32m    648\u001b[0m \u001b[1;32mclass\u001b[0m \u001b[0mHTTPDefaultErrorHandler\u001b[0m\u001b[1;33m(\u001b[0m\u001b[0mBaseHandler\u001b[0m\u001b[1;33m)\u001b[0m\u001b[1;33m:\u001b[0m\u001b[1;33m\u001b[0m\u001b[0m\n\u001b[0;32m    649\u001b[0m     \u001b[1;32mdef\u001b[0m \u001b[0mhttp_error_default\u001b[0m\u001b[1;33m(\u001b[0m\u001b[0mself\u001b[0m\u001b[1;33m,\u001b[0m \u001b[0mreq\u001b[0m\u001b[1;33m,\u001b[0m \u001b[0mfp\u001b[0m\u001b[1;33m,\u001b[0m \u001b[0mcode\u001b[0m\u001b[1;33m,\u001b[0m \u001b[0mmsg\u001b[0m\u001b[1;33m,\u001b[0m \u001b[0mhdrs\u001b[0m\u001b[1;33m)\u001b[0m\u001b[1;33m:\u001b[0m\u001b[1;33m\u001b[0m\u001b[0m\n\u001b[1;32m--> 650\u001b[1;33m         \u001b[1;32mraise\u001b[0m \u001b[0mHTTPError\u001b[0m\u001b[1;33m(\u001b[0m\u001b[0mreq\u001b[0m\u001b[1;33m.\u001b[0m\u001b[0mfull_url\u001b[0m\u001b[1;33m,\u001b[0m \u001b[0mcode\u001b[0m\u001b[1;33m,\u001b[0m \u001b[0mmsg\u001b[0m\u001b[1;33m,\u001b[0m \u001b[0mhdrs\u001b[0m\u001b[1;33m,\u001b[0m \u001b[0mfp\u001b[0m\u001b[1;33m)\u001b[0m\u001b[1;33m\u001b[0m\u001b[0m\n\u001b[0m\u001b[0;32m    651\u001b[0m \u001b[1;33m\u001b[0m\u001b[0m\n\u001b[0;32m    652\u001b[0m \u001b[1;32mclass\u001b[0m \u001b[0mHTTPRedirectHandler\u001b[0m\u001b[1;33m(\u001b[0m\u001b[0mBaseHandler\u001b[0m\u001b[1;33m)\u001b[0m\u001b[1;33m:\u001b[0m\u001b[1;33m\u001b[0m\u001b[0m\n",
      "\u001b[1;31mHTTPError\u001b[0m: HTTP Error 407: Proxy Authentication Required"
     ]
    }
   ],
   "source": [
    "# создать основной ДФ, где будут записаны все матчи (id матча и rda героя)\n",
    "df_AvgElo_heroes = pd.DataFrame()\n",
    "\n",
    "# создать список названий колонок всех героев\n",
    "all_her = main.loc[:,'radiant_H1':'dire_H5'].columns\n",
    "for index in main.index:\n",
    "    # ДФ для соединения всех герове матча в один ДФ \n",
    "    df_heroe_match = pd.DataFrame()\n",
    "    # дата матча\n",
    "    date_match = date.fromtimestamp(main['start_time'][index])\n",
    "    # предыдущий день\n",
    "    date_match =  date_match - timedelta(1)\n",
    "    # создать дату два месяца назад от даты матча\n",
    "    two_month_ago = date_match - timedelta(60)\n",
    "    # создать ссылку с данными по Avg.Elo для двух предыдущих месяцев игры\n",
    "    url = ('http://www.datdota.com/api/heroes/elo?tier=1&valve-event=does-not-matter&threshold=10' +\n",
    "        '&patch=7.09&patch=7.08&patch=7.07&patch=7.06&patch=7.05&patch=7.04&patch=7.03&patch=7.02' + \n",
    "        '&patch=7.01&patch=7.00&patch=6.88&patch=6.87&patch=6.86&winner=either'+\n",
    "        '&after={}%2F{}%2F{}'.format(two_month_ago.day, two_month_ago.month, two_month_ago.year) + \n",
    "        '&before={}%2F{}%2F{}'.format(date_match.day, date_match.month, date_match.year) + \n",
    "        '&duration=0%3B200&duration-value-from=0&duration-value-to=200')\n",
    "    # выгрузить все с сайта и создать ДФ\n",
    "    sauce = urllib.request.Request(url, headers={'User-agent': 'Mozilla/5.0'})\n",
    "    dat = json.loads(urllib.request.urlopen(sauce).read().decode()).get('data')\n",
    "    df_url = pd.DataFrame(dat)\n",
    "    # создать ДФ для одного героя за 2 предыдущих месяца\n",
    "    df_data_tabel_for_heroes = get_df_avgElo_heroes(date_match, df_url)\n",
    "    \n",
    "    for her in all_her:\n",
    "        # вытащить id героя\n",
    "        id_hero = main[her][index]\n",
    "\n",
    "        # вытащить avg elo для данного героя\n",
    "        avgElo_hero = df_data_tabel_for_heroes.loc[(index for index, x in enumerate(\n",
    "                                            df_data_tabel_for_heroes['heroes']) if x == [id_hero]),'eloShift']\n",
    "        \n",
    "        # проверить есть ли герой\n",
    "        try:\n",
    "            avgElo_hero = float(avgElo_hero)\n",
    "        except:\n",
    "            avgElo_hero = 0\n",
    "        # ДФ для avgELo героя по матчу\n",
    "        df_heroe = pd.DataFrame([avgElo_hero], columns=[her + '_AvgElo'])\n",
    "        df_heroe_match = pd.merge(df_heroe_match, df_heroe, left_index=True, right_index=True, how='outer')\n",
    "    df_AvgElo_heroes = pd.concat([df_AvgElo_heroes, df_heroe_match])\n",
    "df_AvgElo_heroes = df_AvgElo_heroes.reset_index().drop('index', axis=1)\n",
    "df_AvgElo_heroes['match_id'] = main['match_id']"
   ]
  },
  {
   "cell_type": "code",
   "execution_count": 4,
   "metadata": {
    "collapsed": true
   },
   "outputs": [],
   "source": [
    "df_AvgElo_heroes#.to_csv('../tabel/table from Datdota/tabel with AvgElo heroes (meta).csv')\n"
   ]
  },
  {
   "cell_type": "code",
   "execution_count": 5,
   "metadata": {},
   "outputs": [
    {
     "data": {
      "text/plain": [
       "'http://www.datdota.com/api/heroes/elo?tier=1&valve-event=does-not-matter&threshold=10&patch=7.09&patch=7.08&patch=7.07&patch=7.06&patch=7.05&patch=7.04&patch=7.03&patch=7.02&patch=7.01&patch=7.00&patch=6.88&patch=6.87&patch=6.86&winner=either&after=26%2F4%2F2017&before=25%2F6%2F2017&duration=0%3B200&duration-value-from=0&duration-value-to=200'"
      ]
     },
     "execution_count": 5,
     "metadata": {},
     "output_type": "execute_result"
    }
   ],
   "source": [
    "url"
   ]
  },
  {
   "cell_type": "markdown",
   "metadata": {},
   "source": [
    "# Вытащить как команды играют за все время (сигнатурки)"
   ]
  },
  {
   "cell_type": "code",
   "execution_count": 5,
   "metadata": {
    "collapsed": true
   },
   "outputs": [],
   "source": [
    "# создать основной ДФ, где будут записаны все матчи (id матча и rda героя)\n",
    "df_AvgElo_heroes_teams = pd.DataFrame()\n",
    "\n",
    "# создать список названий колонок  героев radiant\n",
    "all_her_rad = main.loc[:,'radiant_H1':'radiant_H5'].columns\n",
    "# создать список названий колонок  героев radiant\n",
    "all_her_dir = main.loc[:,'dire_H1':'dire_H5'].columns\n",
    "\n",
    "for index in main.index:\n",
    "    # ДФ для соединения всех герове radiant & dire матча в один ДФ \n",
    "    df_heroe_match = pd.DataFrame()\n",
    "    \n",
    "    # ДЛЯ РЕДИАНТ\n",
    "    # создать ДФ c avgElo для редиант по дате игры\n",
    "    try: # если нету данных по команде то вернуть пустой ДФ\n",
    "        df_data_tabel_radiant = get_df_AvgElo_heroes_teams('radiant')\n",
    "    except:\n",
    "        df_data_tabel_radiant = pd.DataFrame()\n",
    "        \n",
    "    for her in all_her_rad:\n",
    "        # вытащить id героя\n",
    "        id_hero = main[her][index]\n",
    "        # проверить есть ли герой\n",
    "        try:\n",
    "             # вытащить avg elo для данного героя\n",
    "            avgElo_hero = df_data_tabel_radiant.loc[(index for index, x in enumerate\n",
    "                                                (df_data_tabel_radiant['heroes']) if x == [id_hero]),'eloShift']\n",
    "            avgElo_hero = float(avgElo_hero)\n",
    "        except:\n",
    "            avgElo_hero = 0\n",
    "        \n",
    "        # ДФ для avgELo героя по матчу\n",
    "        df_heroe = pd.DataFrame([avgElo_hero], columns=[her + '_AvgElo'])\n",
    "        df_heroe_match = pd.merge(df_heroe_match, df_heroe, left_index=True, right_index=True, how='outer') \n",
    "    \n",
    "    # ДЛЯ ДАЕР\n",
    "    # создать ДФ c avgElo для dire по дате игры\n",
    "    try: # если нету данных по команде то вернуть пустой ДФ\n",
    "        df_data_tabel_dire = get_df_AvgElo_heroes_teams('dire')\n",
    "    except:\n",
    "        df_data_tabel_dire = pd.DataFrame()\n",
    "        \n",
    "    for her in all_her_dir:\n",
    "        # вытащить id героя\n",
    "        id_hero = main[her][index]\n",
    "\n",
    "        # проверить есть ли герой\n",
    "        try:\n",
    "            # вытащить avg elo для данного героя\n",
    "            avgElo_hero = df_data_tabel_dire.loc[(index for index, x in enumerate\n",
    "                                                (df_data_tabel_dire['heroes']) if x == [id_hero]),'eloShift']\n",
    "            avgElo_hero = float(avgElo_hero)\n",
    "        except:\n",
    "            avgElo_hero = 0\n",
    "\n",
    "        # ДФ для avgELo героя по матчу\n",
    "        df_heroe = pd.DataFrame([avgElo_hero], columns=[her + '_AvgElo'])\n",
    "        df_heroe_match = pd.merge(df_heroe_match, df_heroe, left_index=True, right_index=True, how='outer') \n",
    "    df_AvgElo_heroes_teams = pd.concat([df_AvgElo_heroes_teams, df_heroe_match])\n",
    "       \n",
    "df_AvgElo_heroes_teams = df_AvgElo_heroes_teams.reset_index().drop('index', axis=1)\n",
    "df_AvgElo_heroes_teams['match_id'] = main['match_id']"
   ]
  },
  {
   "cell_type": "code",
   "execution_count": 6,
   "metadata": {
    "collapsed": true
   },
   "outputs": [],
   "source": [
    "df_AvgElo_heroes_teams.to_csv('../tabel/table from Datdota/tabel with AvgElo heroes for teams (signatures).csv')"
   ]
  },
  {
   "cell_type": "code",
   "execution_count": 32,
   "metadata": {
    "scrolled": true
   },
   "outputs": [
    {
     "data": {
      "text/html": [
       "<div>\n",
       "<style>\n",
       "    .dataframe thead tr:only-child th {\n",
       "        text-align: right;\n",
       "    }\n",
       "\n",
       "    .dataframe thead th {\n",
       "        text-align: left;\n",
       "    }\n",
       "\n",
       "    .dataframe tbody tr th {\n",
       "        vertical-align: top;\n",
       "    }\n",
       "</style>\n",
       "<table border=\"1\" class=\"dataframe\">\n",
       "  <thead>\n",
       "    <tr style=\"text-align: right;\">\n",
       "      <th></th>\n",
       "      <th>radiant_H1_AvgElo</th>\n",
       "      <th>radiant_H2_AvgElo</th>\n",
       "      <th>radiant_H3_AvgElo</th>\n",
       "      <th>radiant_H4_AvgElo</th>\n",
       "      <th>radiant_H5_AvgElo</th>\n",
       "      <th>dire_H1_AvgElo</th>\n",
       "      <th>dire_H2_AvgElo</th>\n",
       "      <th>dire_H3_AvgElo</th>\n",
       "      <th>dire_H4_AvgElo</th>\n",
       "      <th>dire_H5_AvgElo</th>\n",
       "      <th>match_id</th>\n",
       "    </tr>\n",
       "  </thead>\n",
       "  <tbody>\n",
       "    <tr>\n",
       "      <th>0</th>\n",
       "      <td>-2.414744</td>\n",
       "      <td>-6.983857</td>\n",
       "      <td>4.652648</td>\n",
       "      <td>0.000000</td>\n",
       "      <td>7.534793</td>\n",
       "      <td>-0.372673</td>\n",
       "      <td>-3.672918</td>\n",
       "      <td>8.703789</td>\n",
       "      <td>0.000000</td>\n",
       "      <td>8.345258</td>\n",
       "      <td>2897064589</td>\n",
       "    </tr>\n",
       "    <tr>\n",
       "      <th>1</th>\n",
       "      <td>0.000000</td>\n",
       "      <td>0.000000</td>\n",
       "      <td>13.427776</td>\n",
       "      <td>3.431928</td>\n",
       "      <td>-10.422860</td>\n",
       "      <td>-2.844923</td>\n",
       "      <td>8.265573</td>\n",
       "      <td>10.193163</td>\n",
       "      <td>-13.318344</td>\n",
       "      <td>0.000000</td>\n",
       "      <td>2897074199</td>\n",
       "    </tr>\n",
       "    <tr>\n",
       "      <th>2</th>\n",
       "      <td>0.158690</td>\n",
       "      <td>NaN</td>\n",
       "      <td>1.973433</td>\n",
       "      <td>NaN</td>\n",
       "      <td>-5.380925</td>\n",
       "      <td>-5.978656</td>\n",
       "      <td>NaN</td>\n",
       "      <td>0.000000</td>\n",
       "      <td>0.000000</td>\n",
       "      <td>10.844549</td>\n",
       "      <td>2897155244</td>\n",
       "    </tr>\n",
       "    <tr>\n",
       "      <th>3</th>\n",
       "      <td>5.672286</td>\n",
       "      <td>0.000000</td>\n",
       "      <td>-10.505205</td>\n",
       "      <td>0.000000</td>\n",
       "      <td>10.764666</td>\n",
       "      <td>0.000000</td>\n",
       "      <td>11.239669</td>\n",
       "      <td>0.000000</td>\n",
       "      <td>0.000000</td>\n",
       "      <td>0.000000</td>\n",
       "      <td>2897190211</td>\n",
       "    </tr>\n",
       "  </tbody>\n",
       "</table>\n",
       "</div>"
      ],
      "text/plain": [
       "   radiant_H1_AvgElo  radiant_H2_AvgElo  radiant_H3_AvgElo  radiant_H4_AvgElo  \\\n",
       "0          -2.414744          -6.983857           4.652648           0.000000   \n",
       "1           0.000000           0.000000          13.427776           3.431928   \n",
       "2           0.158690                NaN           1.973433                NaN   \n",
       "3           5.672286           0.000000         -10.505205           0.000000   \n",
       "\n",
       "   radiant_H5_AvgElo  dire_H1_AvgElo  dire_H2_AvgElo  dire_H3_AvgElo  \\\n",
       "0           7.534793       -0.372673       -3.672918        8.703789   \n",
       "1         -10.422860       -2.844923        8.265573       10.193163   \n",
       "2          -5.380925       -5.978656             NaN        0.000000   \n",
       "3          10.764666        0.000000       11.239669        0.000000   \n",
       "\n",
       "   dire_H4_AvgElo  dire_H5_AvgElo    match_id  \n",
       "0        0.000000        8.345258  2897064589  \n",
       "1      -13.318344        0.000000  2897074199  \n",
       "2        0.000000       10.844549  2897155244  \n",
       "3        0.000000        0.000000  2897190211  "
      ]
     },
     "execution_count": 32,
     "metadata": {},
     "output_type": "execute_result"
    }
   ],
   "source": [
    "df_AvgElo_heroes_teams[:4]"
   ]
  },
  {
   "cell_type": "code",
   "execution_count": 33,
   "metadata": {},
   "outputs": [
    {
     "data": {
      "text/html": [
       "<div>\n",
       "<style>\n",
       "    .dataframe thead tr:only-child th {\n",
       "        text-align: right;\n",
       "    }\n",
       "\n",
       "    .dataframe thead th {\n",
       "        text-align: left;\n",
       "    }\n",
       "\n",
       "    .dataframe tbody tr th {\n",
       "        vertical-align: top;\n",
       "    }\n",
       "</style>\n",
       "<table border=\"1\" class=\"dataframe\">\n",
       "  <thead>\n",
       "    <tr style=\"text-align: right;\">\n",
       "      <th></th>\n",
       "      <th>radiant_win</th>\n",
       "      <th>radiant_H1</th>\n",
       "      <th>radiant_H2</th>\n",
       "      <th>radiant_H3</th>\n",
       "      <th>radiant_H4</th>\n",
       "      <th>radiant_H5</th>\n",
       "      <th>dire_H1</th>\n",
       "      <th>dire_H2</th>\n",
       "      <th>dire_H3</th>\n",
       "      <th>dire_H4</th>\n",
       "      <th>dire_H5</th>\n",
       "    </tr>\n",
       "  </thead>\n",
       "  <tbody>\n",
       "    <tr>\n",
       "      <th>0</th>\n",
       "      <td>True</td>\n",
       "      <td>86.0</td>\n",
       "      <td>8.0</td>\n",
       "      <td>76.0</td>\n",
       "      <td>57.0</td>\n",
       "      <td>107.0</td>\n",
       "      <td>54.0</td>\n",
       "      <td>46.0</td>\n",
       "      <td>62.0</td>\n",
       "      <td>25.0</td>\n",
       "      <td>28.0</td>\n",
       "    </tr>\n",
       "    <tr>\n",
       "      <th>1</th>\n",
       "      <td>False</td>\n",
       "      <td>21.0</td>\n",
       "      <td>55.0</td>\n",
       "      <td>71.0</td>\n",
       "      <td>48.0</td>\n",
       "      <td>84.0</td>\n",
       "      <td>9.0</td>\n",
       "      <td>54.0</td>\n",
       "      <td>79.0</td>\n",
       "      <td>39.0</td>\n",
       "      <td>96.0</td>\n",
       "    </tr>\n",
       "    <tr>\n",
       "      <th>2</th>\n",
       "      <td>False</td>\n",
       "      <td>79.0</td>\n",
       "      <td>63.0</td>\n",
       "      <td>28.0</td>\n",
       "      <td>98.0</td>\n",
       "      <td>16.0</td>\n",
       "      <td>86.0</td>\n",
       "      <td>100.0</td>\n",
       "      <td>2.0</td>\n",
       "      <td>82.0</td>\n",
       "      <td>48.0</td>\n",
       "    </tr>\n",
       "    <tr>\n",
       "      <th>3</th>\n",
       "      <td>True</td>\n",
       "      <td>20.0</td>\n",
       "      <td>11.0</td>\n",
       "      <td>28.0</td>\n",
       "      <td>14.0</td>\n",
       "      <td>111.0</td>\n",
       "      <td>84.0</td>\n",
       "      <td>10.0</td>\n",
       "      <td>101.0</td>\n",
       "      <td>13.0</td>\n",
       "      <td>19.0</td>\n",
       "    </tr>\n",
       "  </tbody>\n",
       "</table>\n",
       "</div>"
      ],
      "text/plain": [
       "   radiant_win  radiant_H1  radiant_H2  radiant_H3  radiant_H4  radiant_H5  \\\n",
       "0         True        86.0         8.0        76.0        57.0       107.0   \n",
       "1        False        21.0        55.0        71.0        48.0        84.0   \n",
       "2        False        79.0        63.0        28.0        98.0        16.0   \n",
       "3         True        20.0        11.0        28.0        14.0       111.0   \n",
       "\n",
       "   dire_H1  dire_H2  dire_H3  dire_H4  dire_H5  \n",
       "0     54.0     46.0     62.0     25.0     28.0  \n",
       "1      9.0     54.0     79.0     39.0     96.0  \n",
       "2     86.0    100.0      2.0     82.0     48.0  \n",
       "3     84.0     10.0    101.0     13.0     19.0  "
      ]
     },
     "execution_count": 33,
     "metadata": {},
     "output_type": "execute_result"
    }
   ],
   "source": [
    "main.loc[:3, 'radiant_win':'dire_H5']"
   ]
  },
  {
   "cell_type": "code",
   "execution_count": 56,
   "metadata": {},
   "outputs": [
    {
     "data": {
      "text/plain": [
       "25    5.025534\n",
       "Name: eloShift, dtype: float64"
      ]
     },
     "execution_count": 56,
     "metadata": {},
     "output_type": "execute_result"
    }
   ],
   "source": [
    "df_data_tabel_radiant.loc[(index for index, x in enumerate\n",
    "                                                (df_data_tabel_radiant['heroes']) if x == [87]),'eloShift']"
   ]
  },
  {
   "cell_type": "code",
   "execution_count": 63,
   "metadata": {},
   "outputs": [
    {
     "ename": "ValueError",
     "evalue": "Buffer has wrong number of dimensions (expected 1, got 0)",
     "output_type": "error",
     "traceback": [
      "\u001b[1;31m---------------------------------------------------------------------------\u001b[0m",
      "\u001b[1;31mValueError\u001b[0m                                Traceback (most recent call last)",
      "\u001b[1;32m<ipython-input-63-32f9583fd98f>\u001b[0m in \u001b[0;36m<module>\u001b[1;34m()\u001b[0m\n\u001b[1;32m----> 1\u001b[1;33m \u001b[0mdf_data_tabel_radiant\u001b[0m\u001b[1;33m[\u001b[0m\u001b[0mdf_data_tabel_radiant\u001b[0m\u001b[1;33m[\u001b[0m\u001b[1;34m'heroes'\u001b[0m\u001b[1;33m]\u001b[0m \u001b[1;33m==\u001b[0m \u001b[0mnp\u001b[0m\u001b[1;33m.\u001b[0m\u001b[0marray\u001b[0m\u001b[1;33m(\u001b[0m\u001b[1;36m87\u001b[0m\u001b[1;33m)\u001b[0m\u001b[1;33m]\u001b[0m\u001b[1;33m\u001b[0m\u001b[0m\n\u001b[0m",
      "\u001b[1;32mC:\\Sneg\\Add.Program\\Anaconda3\\lib\\site-packages\\pandas\\core\\ops.py\u001b[0m in \u001b[0;36mwrapper\u001b[1;34m(self, other, axis)\u001b[0m\n\u001b[0;32m    836\u001b[0m                                          index=self.index)\n\u001b[0;32m    837\u001b[0m \u001b[1;33m\u001b[0m\u001b[0m\n\u001b[1;32m--> 838\u001b[1;33m             return self._constructor(na_op(self.values, np.asarray(other)),\n\u001b[0m\u001b[0;32m    839\u001b[0m                                      index=self.index).__finalize__(self)\n\u001b[0;32m    840\u001b[0m \u001b[1;33m\u001b[0m\u001b[0m\n",
      "\u001b[1;32mC:\\Sneg\\Add.Program\\Anaconda3\\lib\\site-packages\\pandas\\core\\ops.py\u001b[0m in \u001b[0;36mna_op\u001b[1;34m(x, y)\u001b[0m\n\u001b[0;32m    763\u001b[0m \u001b[1;33m\u001b[0m\u001b[0m\n\u001b[0;32m    764\u001b[0m         \u001b[1;32mif\u001b[0m \u001b[0mis_object_dtype\u001b[0m\u001b[1;33m(\u001b[0m\u001b[0mx\u001b[0m\u001b[1;33m.\u001b[0m\u001b[0mdtype\u001b[0m\u001b[1;33m)\u001b[0m\u001b[1;33m:\u001b[0m\u001b[1;33m\u001b[0m\u001b[0m\n\u001b[1;32m--> 765\u001b[1;33m             \u001b[0mresult\u001b[0m \u001b[1;33m=\u001b[0m \u001b[0m_comp_method_OBJECT_ARRAY\u001b[0m\u001b[1;33m(\u001b[0m\u001b[0mop\u001b[0m\u001b[1;33m,\u001b[0m \u001b[0mx\u001b[0m\u001b[1;33m,\u001b[0m \u001b[0my\u001b[0m\u001b[1;33m)\u001b[0m\u001b[1;33m\u001b[0m\u001b[0m\n\u001b[0m\u001b[0;32m    766\u001b[0m         \u001b[1;32melse\u001b[0m\u001b[1;33m:\u001b[0m\u001b[1;33m\u001b[0m\u001b[0m\n\u001b[0;32m    767\u001b[0m \u001b[1;33m\u001b[0m\u001b[0m\n",
      "\u001b[1;32mC:\\Sneg\\Add.Program\\Anaconda3\\lib\\site-packages\\pandas\\core\\ops.py\u001b[0m in \u001b[0;36m_comp_method_OBJECT_ARRAY\u001b[1;34m(op, x, y)\u001b[0m\n\u001b[0;32m    741\u001b[0m             \u001b[0my\u001b[0m \u001b[1;33m=\u001b[0m \u001b[0my\u001b[0m\u001b[1;33m.\u001b[0m\u001b[0mvalues\u001b[0m\u001b[1;33m\u001b[0m\u001b[0m\n\u001b[0;32m    742\u001b[0m \u001b[1;33m\u001b[0m\u001b[0m\n\u001b[1;32m--> 743\u001b[1;33m         \u001b[0mresult\u001b[0m \u001b[1;33m=\u001b[0m \u001b[0mlib\u001b[0m\u001b[1;33m.\u001b[0m\u001b[0mvec_compare\u001b[0m\u001b[1;33m(\u001b[0m\u001b[0mx\u001b[0m\u001b[1;33m,\u001b[0m \u001b[0my\u001b[0m\u001b[1;33m,\u001b[0m \u001b[0mop\u001b[0m\u001b[1;33m)\u001b[0m\u001b[1;33m\u001b[0m\u001b[0m\n\u001b[0m\u001b[0;32m    744\u001b[0m     \u001b[1;32melse\u001b[0m\u001b[1;33m:\u001b[0m\u001b[1;33m\u001b[0m\u001b[0m\n\u001b[0;32m    745\u001b[0m         \u001b[0mresult\u001b[0m \u001b[1;33m=\u001b[0m \u001b[0mlib\u001b[0m\u001b[1;33m.\u001b[0m\u001b[0mscalar_compare\u001b[0m\u001b[1;33m(\u001b[0m\u001b[0mx\u001b[0m\u001b[1;33m,\u001b[0m \u001b[0my\u001b[0m\u001b[1;33m,\u001b[0m \u001b[0mop\u001b[0m\u001b[1;33m)\u001b[0m\u001b[1;33m\u001b[0m\u001b[0m\n",
      "\u001b[1;32mpandas\\_libs\\lib.pyx\u001b[0m in \u001b[0;36mpandas._libs.lib.vec_compare\u001b[1;34m()\u001b[0m\n",
      "\u001b[1;31mValueError\u001b[0m: Buffer has wrong number of dimensions (expected 1, got 0)"
     ]
    }
   ],
   "source": [
    "df_data_tabel_radiant[df_data_tabel_radiant['heroes'] == np.array(87)]"
   ]
  },
  {
   "cell_type": "code",
   "execution_count": 78,
   "metadata": {},
   "outputs": [
    {
     "ename": "AttributeError",
     "evalue": "'function' object has no attribute 'reset_index'",
     "output_type": "error",
     "traceback": [
      "\u001b[1;31m---------------------------------------------------------------------------\u001b[0m",
      "\u001b[1;31mAttributeError\u001b[0m                            Traceback (most recent call last)",
      "\u001b[1;32m<ipython-input-78-a6f0cecb9de4>\u001b[0m in \u001b[0;36m<module>\u001b[1;34m()\u001b[0m\n\u001b[1;32m----> 1\u001b[1;33m \u001b[0mdf_data_tabel_radiant\u001b[0m \u001b[1;33m=\u001b[0m \u001b[0mdf_data_tabel_radiant\u001b[0m\u001b[1;33m.\u001b[0m\u001b[0mreset_index\u001b[0m\u001b[1;33m(\u001b[0m\u001b[1;33m)\u001b[0m\u001b[1;33m.\u001b[0m\u001b[0mdrop\u001b[0m\u001b[1;33m(\u001b[0m\u001b[1;34m'index'\u001b[0m\u001b[1;33m,\u001b[0m \u001b[0maxis\u001b[0m\u001b[1;33m=\u001b[0m\u001b[1;36m1\u001b[0m\u001b[1;33m)\u001b[0m\u001b[1;33m\u001b[0m\u001b[0m\n\u001b[0m",
      "\u001b[1;31mAttributeError\u001b[0m: 'function' object has no attribute 'reset_index'"
     ]
    }
   ],
   "source": [
    "df_data_tabel_radiant = df_data_tabel_radiant.reset_index().drop('index', axis=1)"
   ]
  },
  {
   "cell_type": "code",
   "execution_count": 75,
   "metadata": {},
   "outputs": [
    {
     "data": {
      "text/plain": [
       "<bound method DataFrame.reindex of     eloGames   eloShift heroes  loss  total  win\n",
       "0         36   8.765621   [20]    13     36   23\n",
       "1         28   5.424745   [30]    15     32   17\n",
       "2         30   0.990263   [74]    16     31   15\n",
       "3         26   1.973433   [28]    11     26   15\n",
       "4         23   6.773046  [107]    10     24   14\n",
       "5         22   8.488584   [29]     7     22   15\n",
       "6         19  -7.547376    [8]    11     19    8\n",
       "7         17   1.663469   [13]     9     18    9\n",
       "8         16   6.783781    [9]     7     17   10\n",
       "9         13  -3.718490   [18]     8     13    5\n",
       "10        13  -1.218205   [65]     7     13    6\n",
       "11        10  18.298670   [54]     4     12    8\n",
       "12        12   1.589819  [111]     5     12    7\n",
       "13        10   0.929275   [55]     7     12    5\n",
       "14        12  -5.380925   [16]     6     12    6\n",
       "15        12   0.136884   [72]     7     12    5\n",
       "16        12   2.216788  [103]     4     12    8\n",
       "17        11 -14.264234   [26]     9     11    2\n",
       "19        10   1.125036  [106]     6     11    5\n",
       "20        11  10.601769   [76]     4     11    7\n",
       "21        10   3.326793  [110]     5     11    6\n",
       "22        10  -4.175128  [100]     7     10    3\n",
       "23         9  13.816001   [69]     2     10    8\n",
       "25        10   5.025534   [41]     4     10    6\n",
       "26        10  -8.326771   [98]     6     10    4\n",
       "27        10  -2.757202   [87]     6     10    4\n",
       "29         9   0.512055   [88]     5      9    4\n",
       "30         6  -6.599607    [2]     5      9    4\n",
       "31         8   0.158690   [39]     5      9    4\n",
       "32         8  -7.839097   [15]     5      8    3\n",
       "33         8   6.012618  [109]     3      8    5\n",
       "36         7  -8.059402   [79]     5      8    3\n",
       "37         8  -4.993577   [84]     4      8    4\n",
       "39         8  -9.488522   [38]     6      8    2\n",
       "41         7  21.943542   [82]     1      7    6\n",
       "44         6  -4.306592   [62]     4      6    2\n",
       "45         6  -1.239935   [58]     4      6    2\n",
       "46         6 -11.435342    [3]     4      6    2\n",
       "50         6   7.519320   [43]     2      6    4\n",
       "51         6 -19.835154   [91]     4      6    2\n",
       "58         5   6.356585   [63]     2      5    3\n",
       "61         5  -4.822790   [53]     3      5    2\n",
       "65         4  -0.941892   [73]     3      5    2\n",
       "66         5  -4.267394   [68]     3      5    2\n",
       "68         5 -23.633124   [19]     4      5    1\n",
       "69         5  -7.066115   [37]     3      5    2>"
      ]
     },
     "execution_count": 75,
     "metadata": {},
     "output_type": "execute_result"
    }
   ],
   "source": [
    "df_data_tabel_radiant"
   ]
  },
  {
   "cell_type": "code",
   "execution_count": null,
   "metadata": {
    "collapsed": true
   },
   "outputs": [],
   "source": []
  }
 ],
 "metadata": {
  "kernelspec": {
   "display_name": "Python 3",
   "language": "python",
   "name": "python3"
  },
  "language_info": {
   "codemirror_mode": {
    "name": "ipython",
    "version": 3
   },
   "file_extension": ".py",
   "mimetype": "text/x-python",
   "name": "python",
   "nbconvert_exporter": "python",
   "pygments_lexer": "ipython3",
   "version": "3.6.3"
  }
 },
 "nbformat": 4,
 "nbformat_minor": 2
}
