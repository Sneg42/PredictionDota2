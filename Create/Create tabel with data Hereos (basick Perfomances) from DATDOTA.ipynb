{
 "cells": [
  {
   "cell_type": "code",
   "execution_count": 1,
   "metadata": {
    "collapsed": true
   },
   "outputs": [],
   "source": [
    "import pandas as pd\n",
    "import numpy as np\n",
    "import json\n",
    "from datetime import date\n",
    "import urllib\n",
    "\n",
    "\n",
    "#Вытащить данные из json по герою\n",
    "# Kills \tDeaths \tAssists \tKDA \tAvg. KAL \tGPM \tXPM \tLast Hits \tDenies \tLVL \tHD \tTD \tHH \tGS\n",
    "def get_data_for_Heroe(i):    \n",
    "    data = [i.get('hero'), i.get('kills'), i.get('deaths'), i.get('assists'), i.get('kda'), i.get('avgKal'), i.get('gpm'), i.get('xpm'),\n",
    "            i.get('lastHits'), i.get('denies'), i.get('level'), i.get('heroDamage'), i.get('towerDamage'),\n",
    "            i.get('heroHealing'), i.get('goldSpent'),]\n",
    "    return data"
   ]
  },
  {
   "cell_type": "code",
   "execution_count": 2,
   "metadata": {
    "collapsed": true
   },
   "outputs": [],
   "source": [
    "# # загрузить json с диска (НА РАБОТЫ)\n",
    "# import codecs\n",
    "# json_file = codecs.open( \"basick.json\")  \n",
    "# dat = json.load(json_file)\n",
    "# # создать словарь с данными по каждому герою из json 'dat'\n",
    "# basick_perfomances={}\n",
    "# for i in dat.get('data'):\n",
    "#     data = get_data_for_Heroe(i)\n",
    "#     basick_perfomances.update({i.get('hero'): data})"
   ]
  },
  {
   "cell_type": "code",
   "execution_count": 63,
   "metadata": {
    "collapsed": true
   },
   "outputs": [],
   "source": [
    "# загрузить главный ДФ\n",
    "main = pd.read_csv('../tabel/MAIN TABLE PREMIUM.csv', index_col=0)\n",
    "#main = main[:3]"
   ]
  },
  {
   "cell_type": "code",
   "execution_count": 64,
   "metadata": {},
   "outputs": [
    {
     "name": "stdout",
     "output_type": "stream",
     "text": [
      "Index(['match_id', 'start_time', 'radiant_team_id', 'radiant_score',\n",
      "       'dire_team_id', 'dire_score', 'radiant_win', 'radiant_H1', 'radiant_H2',\n",
      "       'radiant_H3', 'radiant_H4', 'radiant_H5', 'dire_H1', 'dire_H2',\n",
      "       'dire_H3', 'dire_H4', 'dire_H5', 'radiant_P1', 'radiant_P2',\n",
      "       'radiant_P3', 'radiant_P4', 'radiant_P5', 'dire_P1', 'dire_P2',\n",
      "       'dire_P3', 'dire_P4', 'dire_P5', 'league_name'],\n",
      "      dtype='object')\n"
     ]
    },
    {
     "data": {
      "text/html": [
       "<div>\n",
       "<style>\n",
       "    .dataframe thead tr:only-child th {\n",
       "        text-align: right;\n",
       "    }\n",
       "\n",
       "    .dataframe thead th {\n",
       "        text-align: left;\n",
       "    }\n",
       "\n",
       "    .dataframe tbody tr th {\n",
       "        vertical-align: top;\n",
       "    }\n",
       "</style>\n",
       "<table border=\"1\" class=\"dataframe\">\n",
       "  <thead>\n",
       "    <tr style=\"text-align: right;\">\n",
       "      <th></th>\n",
       "      <th>match_id</th>\n",
       "      <th>start_time</th>\n",
       "      <th>radiant_team_id</th>\n",
       "      <th>radiant_score</th>\n",
       "      <th>dire_team_id</th>\n",
       "      <th>dire_score</th>\n",
       "      <th>radiant_win</th>\n",
       "      <th>radiant_H1</th>\n",
       "      <th>radiant_H2</th>\n",
       "      <th>radiant_H3</th>\n",
       "      <th>...</th>\n",
       "      <th>radiant_P2</th>\n",
       "      <th>radiant_P3</th>\n",
       "      <th>radiant_P4</th>\n",
       "      <th>radiant_P5</th>\n",
       "      <th>dire_P1</th>\n",
       "      <th>dire_P2</th>\n",
       "      <th>dire_P3</th>\n",
       "      <th>dire_P4</th>\n",
       "      <th>dire_P5</th>\n",
       "      <th>league_name</th>\n",
       "    </tr>\n",
       "  </thead>\n",
       "  <tbody>\n",
       "    <tr>\n",
       "      <th>0</th>\n",
       "      <td>2897064589</td>\n",
       "      <td>1483677730</td>\n",
       "      <td>1883502.0</td>\n",
       "      <td>23</td>\n",
       "      <td>350190.0</td>\n",
       "      <td>12</td>\n",
       "      <td>True</td>\n",
       "      <td>86.0</td>\n",
       "      <td>8.0</td>\n",
       "      <td>76.0</td>\n",
       "      <td>...</td>\n",
       "      <td>132851371.0</td>\n",
       "      <td>106573901.0</td>\n",
       "      <td>92423451.0</td>\n",
       "      <td>106809101.0</td>\n",
       "      <td>89871557.0</td>\n",
       "      <td>181716137.0</td>\n",
       "      <td>112377459.0</td>\n",
       "      <td>121052479.0</td>\n",
       "      <td>93616251.0</td>\n",
       "      <td>ESL One Genting 2017</td>\n",
       "    </tr>\n",
       "    <tr>\n",
       "      <th>1</th>\n",
       "      <td>2897074199</td>\n",
       "      <td>1483678249</td>\n",
       "      <td>3214108.0</td>\n",
       "      <td>8</td>\n",
       "      <td>1375614.0</td>\n",
       "      <td>37</td>\n",
       "      <td>False</td>\n",
       "      <td>21.0</td>\n",
       "      <td>55.0</td>\n",
       "      <td>71.0</td>\n",
       "      <td>...</td>\n",
       "      <td>86726887.0</td>\n",
       "      <td>87196890.0</td>\n",
       "      <td>40547474.0</td>\n",
       "      <td>47434686.0</td>\n",
       "      <td>139876032.0</td>\n",
       "      <td>117281554.0</td>\n",
       "      <td>82327674.0</td>\n",
       "      <td>149486894.0</td>\n",
       "      <td>87012746.0</td>\n",
       "      <td>ESL One Genting 2017</td>\n",
       "    </tr>\n",
       "    <tr>\n",
       "      <th>2</th>\n",
       "      <td>2897155244</td>\n",
       "      <td>1483682366</td>\n",
       "      <td>2581813.0</td>\n",
       "      <td>16</td>\n",
       "      <td>2512249.0</td>\n",
       "      <td>26</td>\n",
       "      <td>False</td>\n",
       "      <td>79.0</td>\n",
       "      <td>63.0</td>\n",
       "      <td>28.0</td>\n",
       "      <td>...</td>\n",
       "      <td>180012313.0</td>\n",
       "      <td>116782914.0</td>\n",
       "      <td>152545459.0</td>\n",
       "      <td>102099826.0</td>\n",
       "      <td>87382579.0</td>\n",
       "      <td>103735745.0</td>\n",
       "      <td>38628747.0</td>\n",
       "      <td>86700461.0</td>\n",
       "      <td>86725175.0</td>\n",
       "      <td>ESL One Genting 2017</td>\n",
       "    </tr>\n",
       "  </tbody>\n",
       "</table>\n",
       "<p>3 rows × 28 columns</p>\n",
       "</div>"
      ],
      "text/plain": [
       "     match_id  start_time  radiant_team_id  radiant_score  dire_team_id  \\\n",
       "0  2897064589  1483677730        1883502.0             23      350190.0   \n",
       "1  2897074199  1483678249        3214108.0              8     1375614.0   \n",
       "2  2897155244  1483682366        2581813.0             16     2512249.0   \n",
       "\n",
       "   dire_score  radiant_win  radiant_H1  radiant_H2  radiant_H3  \\\n",
       "0          12         True        86.0         8.0        76.0   \n",
       "1          37        False        21.0        55.0        71.0   \n",
       "2          26        False        79.0        63.0        28.0   \n",
       "\n",
       "           ...            radiant_P2   radiant_P3   radiant_P4   radiant_P5  \\\n",
       "0          ...           132851371.0  106573901.0   92423451.0  106809101.0   \n",
       "1          ...            86726887.0   87196890.0   40547474.0   47434686.0   \n",
       "2          ...           180012313.0  116782914.0  152545459.0  102099826.0   \n",
       "\n",
       "       dire_P1      dire_P2      dire_P3      dire_P4     dire_P5  \\\n",
       "0   89871557.0  181716137.0  112377459.0  121052479.0  93616251.0   \n",
       "1  139876032.0  117281554.0   82327674.0  149486894.0  87012746.0   \n",
       "2   87382579.0  103735745.0   38628747.0   86700461.0  86725175.0   \n",
       "\n",
       "            league_name  \n",
       "0  ESL One Genting 2017  \n",
       "1  ESL One Genting 2017  \n",
       "2  ESL One Genting 2017  \n",
       "\n",
       "[3 rows x 28 columns]"
      ]
     },
     "execution_count": 64,
     "metadata": {},
     "output_type": "execute_result"
    }
   ],
   "source": [
    "print (main.columns)\n",
    "main[:3]"
   ]
  },
  {
   "cell_type": "code",
   "execution_count": 40,
   "metadata": {
    "collapsed": true
   },
   "outputs": [],
   "source": [
    "columns = ['hero', 'kills', 'deaths', 'assists', 'kda', 'avgKal', 'gpm', 'xpm', 'lastHits', 'denies', 'level',\n",
    "           'heroDamage', 'towerDamage', 'heroHealing', 'goldSpent']\n",
    "# создать файлы с KDA героев по каждой дате (с 2017 года используется только патч 7,00+)\n",
    "year = 2016\n",
    "for month in range (12, 13):\n",
    "    for day in range (11, 32):\n",
    "         # создать правильную ссылку для поиска по всем героям \n",
    "        url_heroes =('http://www.datdota.com/api/heroes/performances?patch=7.09&patch=7.08&patch=7.07&patch=7.06&patch=7.05&patch=7.04&'+ \n",
    "               \"patch=7.03&patch=7.02&patch=7.01&patch=7.00&patch=6.88&winner=either&after=01%2F01%2F2011&before={}%2F{}%2F{}&duration=0%3B200&\".format(\n",
    "               day, month, year) + \n",
    "               \"duration-value-from=0&duration-value-to=200&tier=1&valve-event=does-not-matter&threshold=1\") \n",
    "        # выгрзить json с предыдущей ссылки\n",
    "        sauce = urllib.request.Request(url_heroes, headers={'User-agent': 'Mozilla/5.0'} )\n",
    "        dat = json.loads(urllib.request.urlopen(sauce).read().decode()).get('data')\n",
    "        df = pd.DataFrame(dat, columns=columns)\n",
    "        \n",
    "        # запись фала на диск\n",
    "        df.to_csv('../tabel with heroes DATDOTA (kda)/{}-{}-{}.csv'.format(year, month, day))"
   ]
  },
  {
   "cell_type": "markdown",
   "metadata": {},
   "source": [
    "# Создать основной ДФ для прогнозов по пикам героев в матче и их kda"
   ]
  },
  {
   "cell_type": "code",
   "execution_count": 65,
   "metadata": {},
   "outputs": [],
   "source": [
    "columns = ['kills', 'deaths', 'assists', 'kda', 'avgKal', 'gpm', 'xpm', 'lastHits', 'denies', 'level',\n",
    "           'heroDamage', 'towerDamage', 'heroHealing', 'goldSpent']\n",
    "# создать основной массив, где будут записаны все матчи (id матча и rda героя)\n",
    "df_basick_peromances_heroes = pd.DataFrame()#main.loc[0, 'match_id'\n",
    "\n",
    "# создать список названий колонок всех героев\n",
    "all_her = main.loc[:,'radiant_H1':'dire_H5'].columns\n",
    "for index in main.index:\n",
    "    # ДФ для соединения всех герове матча в один ДФ \n",
    "    df_heroe_match = pd.DataFrame()\n",
    "    # дата матча\n",
    "    date_match = date.fromtimestamp(main['start_time'][index])\n",
    "    # загрузить файл с kda рейтингом героев по дате матча\n",
    "    df_data_tabel_for_heroes = pd.read_csv('../tabel with heroes DATDOTA (kda)/{}-{}-{}.csv'.\n",
    "                                               format(date_match.year, date_match.month, date_match.day), index_col=0) \n",
    "    for her in all_her:\n",
    "        # вытащить id героя\n",
    "        id_heroe = main[her][index]\n",
    "\n",
    "        # создать массив с данными \n",
    "        array = df_data_tabel_for_heroes[df_data_tabel_for_heroes['hero'] == id_heroe].drop('hero', axis=1).values\n",
    "        # создать название колонок для определнного героя\n",
    "        col = [her + '_' + c for c  in columns]\n",
    "        # ДФ для героя по матчу\n",
    "        df_heroe = pd.DataFrame(array, columns=col)\n",
    "        df_heroe_match = pd.merge(df_heroe_match, df_heroe, \n",
    "                                               left_index=True, right_index=True, how='outer')\n",
    "    df_basick_peromances_heroes = pd.concat([df_basick_peromances_heroes, df_heroe_match])\n",
    "df_basick_peromances_heroes = df_basick_peromances_heroes.reset_index().drop('index', axis=1)\n",
    "df_basick_peromances_heroes['match_id'] = main['match_id']"
   ]
  },
  {
   "cell_type": "code",
   "execution_count": 68,
   "metadata": {},
   "outputs": [],
   "source": [
    "df_basick_peromances_heroes.to_csv('../tabel/table from Datdota/tabel with KDA heroes for match.csv')"
   ]
  },
  {
   "cell_type": "markdown",
   "metadata": {},
   "source": [
    "# Сбор данных и создание таблиц по героям, как ими отыгрывает команда"
   ]
  },
  {
   "cell_type": "code",
   "execution_count": 75,
   "metadata": {},
   "outputs": [],
   "source": [
    "# два ДФ для героев по патчам  в целом и для героев по каждой команде и создать в низ столбец с id матча\n",
    "df_basick_peromances_heroes = pd.DataFrame()\n",
    "df_basick_peromances_heroes_teams = pd.DataFrame()\n",
    "df_basick_peromances_heroes['match_id'] = main['match_id']\n",
    "df_basick_peromances_heroes_teams['match_id'] = main['match_id']\n",
    "\n",
    "# создать ДФ с id матчя, пиками героев и фичами по каждому героя для команды\n",
    "main\n",
    "for index in main.index:\n",
    "    # взять одну строчку\n",
    "    one_match = main.loc[[index]]\n",
    "    # достать дату матча\n",
    "    date_match = date.fromtimestamp(one_match['start_time'][index])\n",
    "    \n",
    "    # id команды из данных по матчу\n",
    "    id_team_radiant = int(one_match['radiant_team_id'][index])\n",
    "    id_team_dire = int(one_match['dire_team_id'][index])\n",
    "    \n",
    "   # создать правильную ссылку для посика героев по команде radiant\n",
    "    url_heroes_team_radiant = ('http://www.datdota.com/api/heroes/performances?teams=1883502&patch=7.09&patch=7.08&patch=7.07&'.format(\n",
    "                        id_team_radiant) + 'patch=7.06&patch=7.05&patch=7.04&patch=7.03&patch=7.02&patch=7.01&patch=7.00&patch=6.88&winner=either&' + \n",
    "                       'after=01%2F01%2F2011&before={}%2F{}%2F{}&duration=0%3B200&duration-value-from=0&'.format(\n",
    "                       date_match.day, date_match.month, date_match.year) + \n",
    "                       'duration-value-to=200&tier=1&valve-event=does-not-matter&threshold=1')\n",
    "    # создать правильную ссылку для посика героев по команде dire\n",
    "    url_heroes_team_dire = ('http://www.datdota.com/api/heroes/performances?teams=1883502&patch=7.09&patch=7.08&patch=7.07&'.format(\n",
    "                        id_team_dire) + 'patch=7.06&patch=7.05&patch=7.04&patch=7.03&patch=7.02&patch=7.01&patch=7.00&patch=6.88&winner=either&' + \n",
    "                       'after=01%2F01%2F2011&before={}%2F{}%2F{}&duration=0%3B200&duration-value-from=0&'.format(\n",
    "                       date_match.day, date_match.month, date_match.year) + \n",
    "                       'duration-value-to=200&tier=1&valve-event=does-not-matter&threshold=1')\n",
    "    \n",
    "    # выгрзить json с предыдущей ссылки\n",
    "    sauce = urllib.request.Request(url_heroes_team_radiant, headers={'User-agent': 'Mozilla/5.0'})\n",
    "    dat = json.loads(urllib.request.urlopen(sauce).read().decode()).get('data')\n",
    "    df_team_hero_kda = pd.DataFrame(dat, columns=columns)\n",
    "    \n",
    "    # пройтись по всем героям в матче\n",
    "    for hero in one_match.loc[index, 'radiant_H1':'dire_H5'].columns:\n",
    "        # взять конкретного героя из ДФ с героями по команде (созданного ранее)\n",
    "        dat_hero = df_team_hero_kda[df_team_hero_kda['hero'] == one_match[hero]]\n",
    "        dat_hero\n",
    "    \n",
    "    \n",
    "#     basick_perfomances = {}\n",
    "#     for i in dat:\n",
    "#         data = get_data_for_Heroe(i)\n",
    "#         basick_perfomances.update({i.get('hero'): data})\n"
   ]
  },
  {
   "cell_type": "code",
   "execution_count": null,
   "metadata": {},
   "outputs": [],
   "source": []
  },
  {
   "cell_type": "code",
   "execution_count": 70,
   "metadata": {},
   "outputs": [
    {
     "data": {
      "text/plain": [
       "'http://www.datdota.com/api/heroes/performances?teams=1883502&patch=7.09&patch=7.08&patch=7.07&patch=7.06&patch=7.05&patch=7.04&patch=7.03&patch=7.02&patch=7.01&patch=7.00&patch=6.88&winner=either&after=01%2F01%2F2011&before=6%2F1%2F2017&duration=0%3B200&duration-value-from=0&duration-value-to=200&tier=1&valve-event=does-not-matter&threshold=1'"
      ]
     },
     "execution_count": 70,
     "metadata": {},
     "output_type": "execute_result"
    }
   ],
   "source": [
    "url_heroes_team_radiant"
   ]
  },
  {
   "cell_type": "code",
   "execution_count": 79,
   "metadata": {},
   "outputs": [
    {
     "data": {
      "text/plain": [
       "{'ftp': 'ftp://172.16.0.10:3128',\n",
       " 'http': 'http://172.16.0.10:3128',\n",
       " 'https': 'https://172.16.0.10:3128'}"
      ]
     },
     "execution_count": 79,
     "metadata": {},
     "output_type": "execute_result"
    }
   ],
   "source": []
  },
  {
   "cell_type": "code",
   "execution_count": null,
   "metadata": {
    "collapsed": true
   },
   "outputs": [],
   "source": []
  },
  {
   "cell_type": "code",
   "execution_count": 36,
   "metadata": {},
   "outputs": [
    {
     "data": {
      "text/plain": [
       "'http://www.datdota.com/api/heroes/performances?teams=1883502&patch=7.09&patch=7.08&patch=7.07&patch=7.06&patch=7.05&patch=7.04&patch=7.03&patch=7.02&patch=7.01&patch=7.00&patch=6.88&winner=either&after=01%2F01%2F2011&before=6%2F1%2F2017&duration=0%3B200&duration-value-from=0&duration-value-to=200&tier=1&valve-event=does-not-matter&threshold=1'"
      ]
     },
     "execution_count": 36,
     "metadata": {},
     "output_type": "execute_result"
    }
   ],
   "source": []
  },
  {
   "cell_type": "code",
   "execution_count": null,
   "metadata": {
    "collapsed": true
   },
   "outputs": [],
   "source": []
  }
 ],
 "metadata": {
  "kernelspec": {
   "display_name": "Python 3",
   "language": "python",
   "name": "python3"
  },
  "language_info": {
   "codemirror_mode": {
    "name": "ipython",
    "version": 3
   },
   "file_extension": ".py",
   "mimetype": "text/x-python",
   "name": "python",
   "nbconvert_exporter": "python",
   "pygments_lexer": "ipython3",
   "version": "3.6.3"
  }
 },
 "nbformat": 4,
 "nbformat_minor": 2
}
