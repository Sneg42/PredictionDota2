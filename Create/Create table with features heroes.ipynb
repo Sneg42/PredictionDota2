{
 "cells": [
  {
   "cell_type": "code",
   "execution_count": 1,
   "metadata": {
    "collapsed": true
   },
   "outputs": [],
   "source": [
    "import pandas as pd\n",
    "import numpy as np\n",
    "import json"
   ]
  },
  {
   "cell_type": "code",
   "execution_count": 9,
   "metadata": {
    "collapsed": true
   },
   "outputs": [],
   "source": [
    "# Прочитать файл с героями\n",
    "heroes = pd.read_csv('../All_heroes.csv').drop(['id.1'], axis=1)\n",
    "# # Прочитать файл с нормальными id команд\n",
    "# teams = json.load(open('ID_nameTeam (name main) (correct)'))\n",
    "# Матчи с переиндексацией\n",
    "matches = pd.read_csv('../tabel/MAIN TABEL PROFFESIONAL on 2012-02-28 to 2018-03-01.csv', index_col=0, \n",
    "                      encoding='latin-1').reset_index().drop(['index'], axis=1)\n",
    "# Создвание списка имен героев и списка имен команд и объединение его\n",
    "name_heroes = heroes['localized_name'].values"
   ]
  },
  {
   "cell_type": "code",
   "execution_count": 10,
   "metadata": {
    "collapsed": true
   },
   "outputs": [],
   "source": [
    "# основной df c которым потом работать, в нем так же будут записаны килы и радинт_вин  \n",
    "df_features_name = pd.DataFrame(columns=name_heroes)\n",
    "# df из которого сотавляется новый df\n",
    "little = matches\n",
    "# Собрать все команды и героев\n",
    "for index in range(len(little)):\n",
    "    # radiant\n",
    "    for i in range(1,6):\n",
    "        id_her = little['radiant_H' + str(i)].loc[index]\n",
    "        name_her = heroes['localized_name'][heroes['id'] == id_her].item()\n",
    "        df_features_name.loc[index, name_her] = 1\n",
    "    # dire\n",
    "    for i in range(1,6):\n",
    "        id_her = little['dire_H' + str(i)].loc[index]\n",
    "        name_her = heroes['localized_name'][heroes['id'] == id_her].item()\n",
    "        df_features_name.loc[index, name_her] = -1     \n",
    "df_features_name['match_id'] = little['match_id']\n",
    "\n",
    "df_features_name = df_features_name.fillna(0)"
   ]
  },
  {
   "cell_type": "code",
   "execution_count": 11,
   "metadata": {},
   "outputs": [],
   "source": [
    "df_features_name.to_csv('../tabel/table from Datdota/Features Heroes/PROFFESIONAL on 2012-02-28 to 2018-03-01.csv')"
   ]
  },
  {
   "cell_type": "code",
   "execution_count": 27,
   "metadata": {
    "collapsed": true
   },
   "outputs": [],
   "source": []
  },
  {
   "cell_type": "code",
   "execution_count": 28,
   "metadata": {
    "collapsed": true
   },
   "outputs": [],
   "source": []
  },
  {
   "cell_type": "code",
   "execution_count": null,
   "metadata": {
    "collapsed": true
   },
   "outputs": [],
   "source": []
  },
  {
   "cell_type": "code",
   "execution_count": null,
   "metadata": {
    "collapsed": true
   },
   "outputs": [],
   "source": []
  },
  {
   "cell_type": "code",
   "execution_count": 34,
   "metadata": {
    "collapsed": true
   },
   "outputs": [],
   "source": []
  },
  {
   "cell_type": "code",
   "execution_count": null,
   "metadata": {
    "collapsed": true
   },
   "outputs": [],
   "source": []
  },
  {
   "cell_type": "code",
   "execution_count": null,
   "metadata": {
    "collapsed": true
   },
   "outputs": [],
   "source": []
  }
 ],
 "metadata": {
  "kernelspec": {
   "display_name": "Python 3",
   "language": "python",
   "name": "python3"
  },
  "language_info": {
   "codemirror_mode": {
    "name": "ipython",
    "version": 3
   },
   "file_extension": ".py",
   "mimetype": "text/x-python",
   "name": "python",
   "nbconvert_exporter": "python",
   "pygments_lexer": "ipython3",
   "version": "3.6.3"
  }
 },
 "nbformat": 4,
 "nbformat_minor": 2
}
