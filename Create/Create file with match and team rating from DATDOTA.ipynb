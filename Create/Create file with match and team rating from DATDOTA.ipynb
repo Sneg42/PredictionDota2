{
 "cells": [
  {
   "cell_type": "code",
   "execution_count": 47,
   "metadata": {
    "collapsed": true
   },
   "outputs": [],
   "source": [
    "import pandas as pd\n",
    "import numpy as np\n",
    "import urllib, json"
   ]
  },
  {
   "cell_type": "code",
   "execution_count": 48,
   "metadata": {},
   "outputs": [
    {
     "data": {
      "text/plain": [
       "Index(['match_id', 'start_time', 'radiant_team_id', 'radiant_score',\n",
       "       'dire_team_id', 'dire_score', 'radiant_win', 'radiant_H1', 'radiant_H2',\n",
       "       'radiant_H3', 'radiant_H4', 'radiant_H5', 'dire_H1', 'dire_H2',\n",
       "       'dire_H3', 'dire_H4', 'dire_H5', 'radiant_P1', 'radiant_P2',\n",
       "       'radiant_P3', 'radiant_P4', 'radiant_P5', 'dire_P1', 'dire_P2',\n",
       "       'dire_P3', 'dire_P4', 'dire_P5', 'league_name'],\n",
       "      dtype='object')"
      ]
     },
     "execution_count": 48,
     "metadata": {},
     "output_type": "execute_result"
    }
   ],
   "source": [
    "df = pd.read_csv('../tabel/MAIN TABLE PREMIUM.csv', index_col=0)\n",
    "df.columns"
   ]
  },
  {
   "cell_type": "code",
   "execution_count": 120,
   "metadata": {},
   "outputs": [],
   "source": [
    "# Создать главный дф и выбросить лишнее\n",
    "main = df.loc[:, 'match_id':'radiant_win' ]\n",
    "main.head(3)\n",
    "# пробный \n",
    "prob = main[:1]"
   ]
  },
  {
   "cell_type": "code",
   "execution_count": 121,
   "metadata": {},
   "outputs": [],
   "source": [
    "# создать дф из json по всем командам с OPENDOTA https://api.opendota.com/api/teams\n",
    "url = \"https://api.opendota.com/api/teams\"\n",
    "sauce = urllib.request.Request(url, headers={'User-agent': 'Mozilla/5.0'})\n",
    "dat = json.loads(urllib.request.urlopen(sauce).read().decode())\n",
    "# дв с именем команды и ее id\n",
    "df_team_id = pd.DataFrame(dat).loc[:,['name', 'team_id']]"
   ]
  },
  {
   "cell_type": "code",
   "execution_count": 122,
   "metadata": {},
   "outputs": [
    {
     "name": "stderr",
     "output_type": "stream",
     "text": [
      "C:\\Sneg\\Add.Program\\Anaconda3\\lib\\site-packages\\pandas\\core\\indexing.py:337: SettingWithCopyWarning: \n",
      "A value is trying to be set on a copy of a slice from a DataFrame.\n",
      "Try using .loc[row_indexer,col_indexer] = value instead\n",
      "\n",
      "See the caveats in the documentation: http://pandas.pydata.org/pandas-docs/stable/indexing.html#indexing-view-versus-copy\n",
      "  self.obj[key] = _infer_fill_value(value)\n",
      "C:\\Sneg\\Add.Program\\Anaconda3\\lib\\site-packages\\pandas\\core\\indexing.py:517: SettingWithCopyWarning: \n",
      "A value is trying to be set on a copy of a slice from a DataFrame.\n",
      "Try using .loc[row_indexer,col_indexer] = value instead\n",
      "\n",
      "See the caveats in the documentation: http://pandas.pydata.org/pandas-docs/stable/indexing.html#indexing-view-versus-copy\n",
      "  self.obj[item] = s\n"
     ]
    }
   ],
   "source": [
    "for index in prob.index:\n",
    "    try:\n",
    "        prob.loc[index, 'radiant_name'] = (\n",
    "            df_team_id.loc[df_team_id['team_id'] == prob.loc[index, 'radiant_team_id'], 'name'].get_values()[0])\n",
    "    except:\n",
    "        print ('Остутсвует имя редиант')\n",
    "        print('id команды - ', prob.loc[index, 'radiant_team_id'])\n",
    "    try:\n",
    "        prob.loc[index, 'dire_name'] = (\n",
    "            df_team_id.loc[df_team_id['team_id'] == prob.loc[index, 'dire_team_id'], 'name'].get_values()[0])\n",
    "    except:\n",
    "        print ('Остутсвует имя даер')\n",
    "        print('id команды - ', prob.loc[index, 'radiant_team_id'])\n",
    "prob = prob.dropna()"
   ]
  },
  {
   "cell_type": "code",
   "execution_count": 127,
   "metadata": {},
   "outputs": [
    {
     "data": {
      "text/html": [
       "<div>\n",
       "<style>\n",
       "    .dataframe thead tr:only-child th {\n",
       "        text-align: right;\n",
       "    }\n",
       "\n",
       "    .dataframe thead th {\n",
       "        text-align: left;\n",
       "    }\n",
       "\n",
       "    .dataframe tbody tr th {\n",
       "        vertical-align: top;\n",
       "    }\n",
       "</style>\n",
       "<table border=\"1\" class=\"dataframe\">\n",
       "  <thead>\n",
       "    <tr style=\"text-align: right;\">\n",
       "      <th></th>\n",
       "      <th>match_id</th>\n",
       "      <th>start_time</th>\n",
       "      <th>radiant_team_id</th>\n",
       "      <th>radiant_score</th>\n",
       "      <th>dire_team_id</th>\n",
       "      <th>dire_score</th>\n",
       "      <th>radiant_win</th>\n",
       "      <th>radiant_name</th>\n",
       "      <th>dire_name</th>\n",
       "    </tr>\n",
       "  </thead>\n",
       "  <tbody>\n",
       "    <tr>\n",
       "      <th>0</th>\n",
       "      <td>2897064589</td>\n",
       "      <td>1483677730</td>\n",
       "      <td>1883502.0</td>\n",
       "      <td>23</td>\n",
       "      <td>350190.0</td>\n",
       "      <td>12</td>\n",
       "      <td>True</td>\n",
       "      <td>Virtus.pro</td>\n",
       "      <td>Fnatic</td>\n",
       "    </tr>\n",
       "  </tbody>\n",
       "</table>\n",
       "</div>"
      ],
      "text/plain": [
       "     match_id  start_time  radiant_team_id  radiant_score  dire_team_id  \\\n",
       "0  2897064589  1483677730        1883502.0             23      350190.0   \n",
       "\n",
       "   dire_score  radiant_win radiant_name dire_name  \n",
       "0          12         True   Virtus.pro    Fnatic  "
      ]
     },
     "execution_count": 127,
     "metadata": {},
     "output_type": "execute_result"
    }
   ],
   "source": [
    "prob"
   ]
  },
  {
   "cell_type": "code",
   "execution_count": 134,
   "metadata": {},
   "outputs": [],
   "source": [
    "from datetime import date\n",
    "# достать дату матча\n",
    "date_match = prob['start_time'][0]\n",
    "\n",
    "# работа с датами\n",
    "a = date.fromtimestamp(date_match)\n",
    "name_file = '{}-{}-{}.csv'.format(a.year, a.month, a.day-1, )\n",
    "# загрузить файл с рейтингом на предыдущий день\n",
    "raiting_team_date = pd.read_csv('../tabel with teams DATDOTA (elo, glicko)/{}'.format(name_file),  index_col=0)\n",
    "\n"
   ]
  },
  {
   "cell_type": "code",
   "execution_count": 144,
   "metadata": {},
   "outputs": [
    {
     "data": {
      "text/html": [
       "<div>\n",
       "<style>\n",
       "    .dataframe thead tr:only-child th {\n",
       "        text-align: right;\n",
       "    }\n",
       "\n",
       "    .dataframe thead th {\n",
       "        text-align: left;\n",
       "    }\n",
       "\n",
       "    .dataframe tbody tr th {\n",
       "        vertical-align: top;\n",
       "    }\n",
       "</style>\n",
       "<table border=\"1\" class=\"dataframe\">\n",
       "  <thead>\n",
       "    <tr style=\"text-align: right;\">\n",
       "      <th></th>\n",
       "      <th>team_Name</th>\n",
       "      <th>current_elo32</th>\n",
       "      <th>sevenDayAgo_elo32</th>\n",
       "      <th>sevenDayAvg_elo32</th>\n",
       "      <th>thirtyDayAgo_elo32</th>\n",
       "      <th>thirtyDayAvg_elo32</th>\n",
       "      <th>current_elo64</th>\n",
       "      <th>sevenDayAgo_elo64</th>\n",
       "      <th>sevenDayAvg_elo64</th>\n",
       "      <th>thirtyDayAgo_elo64</th>\n",
       "      <th>thirtyDayAvg_elo64</th>\n",
       "      <th>mu_glicko</th>\n",
       "      <th>rating_glicko</th>\n",
       "      <th>ratingSevenDaysAgo_glicko</th>\n",
       "      <th>sigma_glicko</th>\n",
       "      <th>mu_glicko2</th>\n",
       "      <th>phi_glicko2</th>\n",
       "      <th>rating_glicko2</th>\n",
       "      <th>ratingSevenDaysAgo_glicko2</th>\n",
       "    </tr>\n",
       "  </thead>\n",
       "  <tbody>\n",
       "    <tr>\n",
       "      <th>1</th>\n",
       "      <td>Virtus.pro</td>\n",
       "      <td>1239.223638</td>\n",
       "      <td>1251.027919</td>\n",
       "      <td>1245.085169</td>\n",
       "      <td>1325.33498</td>\n",
       "      <td>1269.773656</td>\n",
       "      <td>1328.175555</td>\n",
       "      <td>1344.369092</td>\n",
       "      <td>1336.216614</td>\n",
       "      <td>1492.25145</td>\n",
       "      <td>1374.318822</td>\n",
       "      <td>2115.730552</td>\n",
       "      <td>1834.931156</td>\n",
       "      <td>1795.528506</td>\n",
       "      <td>112.319759</td>\n",
       "      <td>2002.113328</td>\n",
       "      <td>42.886073</td>\n",
       "      <td>1894.898146</td>\n",
       "      <td>1890.862803</td>\n",
       "    </tr>\n",
       "  </tbody>\n",
       "</table>\n",
       "</div>"
      ],
      "text/plain": [
       "    team_Name  current_elo32  sevenDayAgo_elo32  sevenDayAvg_elo32  \\\n",
       "1  Virtus.pro    1239.223638        1251.027919        1245.085169   \n",
       "\n",
       "   thirtyDayAgo_elo32  thirtyDayAvg_elo32  current_elo64  sevenDayAgo_elo64  \\\n",
       "1          1325.33498         1269.773656    1328.175555        1344.369092   \n",
       "\n",
       "   sevenDayAvg_elo64  thirtyDayAgo_elo64  thirtyDayAvg_elo64    mu_glicko  \\\n",
       "1        1336.216614          1492.25145         1374.318822  2115.730552   \n",
       "\n",
       "   rating_glicko  ratingSevenDaysAgo_glicko  sigma_glicko   mu_glicko2  \\\n",
       "1    1834.931156                1795.528506    112.319759  2002.113328   \n",
       "\n",
       "   phi_glicko2  rating_glicko2  ratingSevenDaysAgo_glicko2  \n",
       "1    42.886073     1894.898146                 1890.862803  "
      ]
     },
     "execution_count": 144,
     "metadata": {},
     "output_type": "execute_result"
    }
   ],
   "source": [
    "index_radiant = raiting_team_date[raiting_team_date['team_Name'] == prob['radiant_name'][0]]\n",
    "index_radiant.drop(['phi_glicko', 'sigma_glicko2'],  axis=1)\n",
    "#raiting_team_date.iloc[index_radiant]"
   ]
  },
  {
   "cell_type": "code",
   "execution_count": null,
   "metadata": {
    "collapsed": true
   },
   "outputs": [],
   "source": []
  },
  {
   "cell_type": "code",
   "execution_count": 43,
   "metadata": {},
   "outputs": [
    {
     "data": {
      "text/plain": [
       "1883502.0"
      ]
     },
     "execution_count": 43,
     "metadata": {},
     "output_type": "execute_result"
    }
   ],
   "source": [
    "# привязать team id к team_name\n",
    "radiant_id = prob['radiant_team_id'][0]\n",
    "radiant_id"
   ]
  },
  {
   "cell_type": "code",
   "execution_count": null,
   "metadata": {
    "collapsed": true
   },
   "outputs": [],
   "source": []
  }
 ],
 "metadata": {
  "kernelspec": {
   "display_name": "Python 3",
   "language": "python",
   "name": "python3"
  },
  "language_info": {
   "codemirror_mode": {
    "name": "ipython",
    "version": 3
   },
   "file_extension": ".py",
   "mimetype": "text/x-python",
   "name": "python",
   "nbconvert_exporter": "python",
   "pygments_lexer": "ipython3",
   "version": "3.6.3"
  }
 },
 "nbformat": 4,
 "nbformat_minor": 2
}
