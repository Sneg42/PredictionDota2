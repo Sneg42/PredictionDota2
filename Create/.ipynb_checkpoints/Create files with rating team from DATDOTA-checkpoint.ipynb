{
 "cells": [
  {
   "cell_type": "code",
   "execution_count": 1,
   "metadata": {
    "collapsed": true
   },
   "outputs": [],
   "source": [
    "import pandas as pd\n",
    "import numpy as np\n",
    "import urllib.request, json \n",
    "import bs4 as bs\n",
    "import requests\n",
    "def soup_from_url(url):\n",
    "    sauce = urllib.request.Request(url, headers={'User-agent': 'Mozilla/5.0 (X11; U; Linux i686) Gecko/20071127 Firefox/2.0.0.11'} )\n",
    "    sauce = urllib.request.urlopen(sauce).read()\n",
    "    data = json.loads(urllib.request.urlopen(url).read().decode())\n",
    "    #soup = bs.BeautifulSoup(sauce, 'lxml')\n",
    "    return soup\n",
    "\n",
    "# создать мапу с старыми и новыми именами колонок для рейтинга команд\n",
    "def name_columns(z1, elo):\n",
    "    mapa = {}\n",
    "    for index, key in enumerate(z1.keys()):\n",
    "        mapa[key] = key + elo\n",
    "    return mapa\n",
    "\n",
    "# вытащить все данные по рейтингу (elo32, elo64, glicko, glicko2) одной команды\n",
    "def get_data_team(data):\n",
    "    ratings = ['elo32', 'elo64', 'glicko', 'glicko2']\n",
    "\n",
    "    #Создать колонку с именем команды\n",
    "    team = pd.DataFrame(columns=['team_Name'])\n",
    "    team['team_Name'] = [data.get('teamName')]\n",
    "\n",
    "    for rat in ratings:\n",
    "        current_rating = data.get(rat)\n",
    "        columns = name_columns(current_rating, '_' + rat)\n",
    "        df = pd.DataFrame(data.get(rat), index=range(0,1))     \n",
    "        df.rename(columns=columns, inplace=True)\n",
    "        team = pd.DataFrame.merge(team, df, left_index=True, right_index=True)\n",
    "    return team"
   ]
  },
  {
   "cell_type": "code",
   "execution_count": 256,
   "metadata": {
    "collapsed": true
   },
   "outputs": [],
   "source": [
    "# открыть и прочиать с API datdota\n",
    "#soup = soup_from_url(\"http://www.datdota.com/api/ratings?date=18-07-2016\")\n",
    "\n",
    "sauce = urllib.request.Request(\"https://www.datdota.com/api/ratings?date=11-02-2018\", headers={'User-agent': 'Mozilla/5.0' } )\n",
    "#sauce = urllib.request.urlopen(sauce).read()\n",
    "\n",
    "dat = json.loads(urllib.request.urlopen(sauce).read().decode())\n",
    "data = dat.get('data')"
   ]
  },
  {
   "cell_type": "code",
   "execution_count": 267,
   "metadata": {
    "collapsed": true
   },
   "outputs": [],
   "source": [
    "all_teams = pd.DataFrame() \n",
    "for i in data:   \n",
    "    team = get_data_team(i) \n",
    "    all_teams = pd.concat([all_teams, team], ignore_index=True)\n",
    "# z = a.pop()\n"
   ]
  },
  {
   "cell_type": "code",
   "execution_count": 8,
   "metadata": {
    "collapsed": true
   },
   "outputs": [],
   "source": [
    "# Загрузить таблицы с рейтингами комапнд по каждому дню\n",
    "year = 2018\n",
    "for month in range (1,3):\n",
    "    for day in range (1, 32):\n",
    "        if month == 2 & day == 14:\n",
    "            break\n",
    "        # Открыть json с сайта и выгрузить данные\n",
    "        url = \"https://www.datdota.com/api/ratings?date={}-{}-{}\".format(day, month, year)\n",
    "        sauce = urllib.request.Request(url, headers={'User-agent': 'Mozilla/5.0'})\n",
    "        dat = json.loads(urllib.request.urlopen(sauce).read().decode())\n",
    "        data = dat.get('data')\n",
    "        # создать DF для сохранения\n",
    "        all_teams = pd.DataFrame() \n",
    "        # вытащить все команды и сохранить их данные в all_teams\n",
    "        for i in data:   \n",
    "            team = get_data_team(i) \n",
    "            all_teams = pd.concat([all_teams, team], ignore_index=True)\n",
    "        all_teams.to_csv('table with teams DATDOTA (elo, glicko)/{}-{}-{}.csv'.format(year,month, day))"
   ]
  },
  {
   "cell_type": "code",
   "execution_count": 6,
   "metadata": {
    "collapsed": true
   },
   "outputs": [],
   "source": [
    "import shutil\n",
    "year = 2017\n",
    "# создать файлы по всем дням в year году\n",
    "for month in range (2,13):\n",
    "    for day in range(1,32, 2):\n",
    "        first_file = 'table with teams DATDOTA (elo, glicko)/{}-{}-{}.csv'.format(month, day, year)\n",
    "        first_file_new = 'table with teams DATDOTA (elo, glicko)/{}-{}-{}.csv'.format(year, month, day)\n",
    "        second_file = 'table with teams DATDOTA (elo, glicko)/{}-{}-{}.csv'.format(year, month, day+1)\n",
    "        shutil.copyfile(first_file, first_file_new)\n",
    "        shutil.copyfile(first_file, second_file)"
   ]
  },
  {
   "cell_type": "code",
   "execution_count": 8,
   "metadata": {},
   "outputs": [
    {
     "data": {
      "text/plain": [
       "'1-1-2017.csv'"
      ]
     },
     "execution_count": 8,
     "metadata": {},
     "output_type": "execute_result"
    }
   ],
   "source": [
    "from datetime import date\n",
    "# работа с датами\n",
    "a = date.fromtimestamp(1483250892)\n",
    "b = '{}-{}-{}.csv'.format(a.month, a.day, a.year)\n",
    "b"
   ]
  },
  {
   "cell_type": "code",
   "execution_count": null,
   "metadata": {
    "collapsed": true
   },
   "outputs": [],
   "source": []
  },
  {
   "cell_type": "code",
   "execution_count": null,
   "metadata": {
    "collapsed": true
   },
   "outputs": [],
   "source": []
  },
  {
   "cell_type": "code",
   "execution_count": null,
   "metadata": {
    "collapsed": true
   },
   "outputs": [],
   "source": []
  },
  {
   "cell_type": "code",
   "execution_count": null,
   "metadata": {
    "collapsed": true
   },
   "outputs": [],
   "source": []
  }
 ],
 "metadata": {
  "kernelspec": {
   "display_name": "Python 3",
   "language": "python",
   "name": "python3"
  },
  "language_info": {
   "codemirror_mode": {
    "name": "ipython",
    "version": 3
   },
   "file_extension": ".py",
   "mimetype": "text/x-python",
   "name": "python",
   "nbconvert_exporter": "python",
   "pygments_lexer": "ipython3",
   "version": "3.6.3"
  }
 },
 "nbformat": 4,
 "nbformat_minor": 2
}
