{
 "cells": [
  {
   "cell_type": "code",
   "execution_count": 1,
   "metadata": {
    "collapsed": true
   },
   "outputs": [],
   "source": [
    "import pandas as pd\n",
    "import numpy as np\n",
    "import json\n",
    "from datetime import date\n",
    "\n",
    "#Вытащить данные из json по герою\n",
    "# Kills \tDeaths \tAssists \tKDA \tAvg. KAL \tGPM \tXPM \tLast Hits \tDenies \tLVL \tHD \tTD \tHH \tGS\n",
    "def get_data_for_Heroe(i):    \n",
    "    data = [i.get('kills'), i.get('deaths'), i.get('assists'), i.get('kda'), i.get('avgKal'), i.get('gpm'), i.get('xpm'),\n",
    "            i.get('lastHits'), i.get('denies'), i.get('level'), i.get('heroDamage'), i.get('towerDamage'),\n",
    "            i.get('heroHealing'), i.get('goldSpent'),]\n",
    "    return data"
   ]
  },
  {
   "cell_type": "code",
   "execution_count": 49,
   "metadata": {
    "collapsed": true
   },
   "outputs": [],
   "source": [
    "# загрузить json с диска (НА РАБОТЫ)\n",
    "import codecs\n",
    "json_file = codecs.open( \"basick.json\")  \n",
    "dat = json.load(json_file)\n",
    "# создать словарь с данными по каждому герою из json 'dat'\n",
    "basick_perfomances={}\n",
    "for i in dat.get('data'):\n",
    "    data = get_data_for_Heroe(i)\n",
    "    basick_perfomances.update({i.get('hero'): data})"
   ]
  },
  {
   "cell_type": "code",
   "execution_count": 2,
   "metadata": {
    "collapsed": true
   },
   "outputs": [],
   "source": [
    "columns = ['kills', 'deaths', 'assists', 'kda', 'avgKal', 'gpm', 'xpm', 'lastHits', 'denies', 'level',\n",
    "           'heroDamage', 'towerDamage', 'heroHealing', 'goldSpent']"
   ]
  },
  {
   "cell_type": "code",
   "execution_count": 50,
   "metadata": {},
   "outputs": [
    {
     "ename": "SyntaxError",
     "evalue": "EOL while scanning string literal (<ipython-input-50-26c8532f0926>, line 1)",
     "output_type": "error",
     "traceback": [
      "\u001b[1;36m  File \u001b[1;32m\"<ipython-input-50-26c8532f0926>\"\u001b[1;36m, line \u001b[1;32m1\u001b[0m\n\u001b[1;33m    url = ('http://www.datdota.com/heroes/performances?patch=7.09&patch=7.08&patch=7.07&patch=7.06&patch=7.05&patch=7.04&\u001b[0m\n\u001b[1;37m                                                                                                                         ^\u001b[0m\n\u001b[1;31mSyntaxError\u001b[0m\u001b[1;31m:\u001b[0m EOL while scanning string literal\n"
     ]
    }
   ],
   "source": [
    "# два ДФ для героев по патчам  в целом и для героев по каждой команде\n",
    "df_basick_peromances_heroes = pd.DataFrame()\n",
    "df_basick_peromances_heroes_teams = pd.DataFrame()\n",
    "\n",
    "\n",
    "# загрузить главный ДФ\n",
    "main = pd.DataFrame()\n",
    "for index in main.index:\n",
    "    # взять одну строчку\n",
    "    one_match = main.loc[[index]]\n",
    "    # достать дату матча\n",
    "    date_match = one_match['start_time'][index]\n",
    "    # id команды из данных по матчу\n",
    "    id_team_radiant = one_match['radiant_team'][index]\n",
    "    id_team_dire = one_match['dire_team'][index]\n",
    "    \n",
    "    # создать правильную ссылку для поиска по всем героям \n",
    "    url_heroes =('http://www.datdota.com/heroes/performances?patch=7.09&patch=7.08&patch=7.07&patch=7.06&patch=7.05&patch=7.04&'+ \n",
    "           \"patch=7.03&patch=7.02&patch=7.01&winner=either&after=01%2F01%2F2011&before={}%2F{}%2F{}&duration=0%3B200&\".format(\n",
    "           date_match.day, date_match.month, date_match.year) + \n",
    "           \"duration-value-from=0&duration-value-to=200&tier=1&valve-event=does-not-matter&threshold=1\")\n",
    "    \n",
    "    # создать правильную ссылку для посика героев по команде radiant\n",
    "    url_heroes_team_radiant = ('http://www.datdota.com/heroes/performances?teams=1883502&patch=7.09&patch=7.08&patch=7.07&'.format(\n",
    "                        id_team_radiant) + 'patch=7.06&patch=7.05&patch=7.04&patch=7.03&patch=7.02&patch=7.01&winner=either&' + \n",
    "                       'after=01%2F01%2F2011&before={}%2F{}%2F{}&duration=0%3B200&duration-value-from=0&'.format(\n",
    "                       date_match.day, date_match.month, date_match.year) + \n",
    "                       'duration-value-to=200&tier=1&valve-event=does-not-matter&threshold=1')\n",
    "    # создать правильную ссылку для посика героев по команде dire\n",
    "    url_heroes_team_dire = ('http://www.datdota.com/heroes/performances?teams=1883502&patch=7.09&patch=7.08&patch=7.07&'.format(\n",
    "                        id_team_dire) + 'patch=7.06&patch=7.05&patch=7.04&patch=7.03&patch=7.02&patch=7.01&winner=either&' + \n",
    "                       'after=01%2F01%2F2011&before={}%2F{}%2F{}&duration=0%3B200&duration-value-from=0&'.format(\n",
    "                       date_match.day, date_match.month, date_match.year) + \n",
    "                       'duration-value-to=200&tier=1&valve-event=does-not-matter&threshold=1')\n",
    "    \n",
    "\n"
   ]
  },
  {
   "cell_type": "code",
   "execution_count": null,
   "metadata": {
    "collapsed": true
   },
   "outputs": [],
   "source": [
    "# url для поиска по команде\n",
    "(http://www.datdota.com/heroes/performances?teams=1883502&patch=7.09&patch=7.08&patch=7.07&patch=7.06&patch=7.05&\n",
    " patch=7.04&patch=7.03&patch=7.02&patch=7.01&winner=either&after=01%2F01%2F2011&before=26%2F02%2F2018&duration=0%3B200&\n",
    " duration-value-from=0&duration-value-to=200&tier=1&valve-event=does-not-matter&threshold=1)\n",
    "# url для поиска \n",
    "(http://www.datdota.com/heroes/performances?patch=7.09&patch=7.08&patch=7.07&patch=7.06&patch=7.05&patch=7.04&patch=7.03&\n",
    "patch=7.02&patch=7.01&winner=either&after=01%2F01%2F2011&before=26%2F02%2F2018&duration=0%3B200&duration-value-from=0&\n",
    "duration-value-to=200&tier=1&valve-event=does-not-matter&threshold=1)"
   ]
  }
 ],
 "metadata": {
  "kernelspec": {
   "display_name": "Python 3",
   "language": "python",
   "name": "python3"
  },
  "language_info": {
   "codemirror_mode": {
    "name": "ipython",
    "version": 3
   },
   "file_extension": ".py",
   "mimetype": "text/x-python",
   "name": "python",
   "nbconvert_exporter": "python",
   "pygments_lexer": "ipython3",
   "version": "3.6.3"
  }
 },
 "nbformat": 4,
 "nbformat_minor": 2
}
