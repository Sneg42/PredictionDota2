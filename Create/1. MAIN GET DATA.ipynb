{
 "cells": [
  {
   "cell_type": "code",
   "execution_count": 1,
   "metadata": {},
   "outputs": [],
   "source": [
    "import sys\n",
    "sys.path.append('C:\\\\Users\\\\User\\\\1_MY_WORK\\\\1_Data_Scientist_and_ML_Project\\\\PredictionDota2\\\\HelpModules')\n",
    "from datetime import date, timedelta, datetime\n",
    "from DataForLearning import DataForLearning"
   ]
  },
  {
   "cell_type": "code",
   "execution_count": null,
   "metadata": {},
   "outputs": [],
   "source": [
    "# Номер последнего патча, Эта переменная подставляется во все ссылки в данном файле\n",
    "PATCH = '&patch=7.19&patch=7.18&patch=7.17&patch=7.16&patch=7.15&patch=7.14&patch=7.13&patch=7.12'\n",
    "date_one = datetime(2018, 8, 23)\n",
    "date_end = datetime(2018, 8, 25)"
   ]
  },
  {
   "cell_type": "code",
   "execution_count": null,
   "metadata": {},
   "outputs": [],
   "source": [
    "data = DataForLearing(date_one, date_end, PATCH)\n",
    "main = data.createAndSaveMainDf()\n",
    "main = data.createColumnWithTeamName(main)\n",
    "main = data.delRepeatedTeamsInMain(main)\n"
   ]
  },
  {
   "cell_type": "code",
   "execution_count": null,
   "metadata": {},
   "outputs": [],
   "source": [
    "data.createAndSaveRatingTeamsOnTabelRating(main)\n",
    "data.createAndSaveGlickoRatingTeamsOnLinkTeam(main)\n",
    "data.createAndSaveKdaHeroes(main, days_ago=0, pro_or_all_teams='All', threshold='20')\n",
    "data.createAndSaveKdaHeroes(main, days_ago=7, pro_or_all_teams='All', threshold='10')\n",
    "data.createAndSaveKdaHeroes(main, days_ago=7, pro_or_all_teams='All', threshold='10')\n",
    "data.createAndSaveHeadToHead(main, pro_or_all_teams='All', threshold='20')\n",
    "data.createAndSaveAvgeloForOneHero(main, days_ago=60, pro_or_all_teams='All', threshold='20')\n",
    "# какая-то ошибка с открытиес в Excel, может из-за лицензии???\n",
    "data.createAndSaveAvgeloForTwoHeroes(main, days_ago=60, pro_or_all_teams='Pro', threshold='8')\n",
    "data.createAndSaveSignatureAndKdaForPlayers(main, pro_or_all_teams='All', threshold='5')\n",
    "\n",
    "\"\"\" Проверить позже, когда появиться глико1. с 20 августа отсутсвуют данные\"\"\"\n",
    "data.createAndSavePredictionForRatingTeams(main)\n",
    "\n",
    "data.createAndSaveTypeAtackOfHeroesAndTypeHeroes(main)\n",
    "# Возможно будет ошибка, так как там нету одного блока try-catch, в старом файле есть старая функция. \n",
    "# Потестить на больших данных\n",
    "data.createAndSaveAvgeloForOneHero(main, days_ago=7, pro_or_all_teams='All', threshold='10') \n",
    "#Если days_ago!=7, тогда необходимо создать папку с таким кол-вом дней.]\n",
    "data.createAndSaveKdaAndEloshiftPlayersForLastDays(main, days_ago=7, pro_or_all_teams='All', threshold='1') \n",
    "data.createAndSaveHdTdLvlHhGsForPlayersOnHeroes(main, threshold=5)\n",
    "file_with_data_for_empty_data = data.createSaveReturnDataForFillEmptyData(main, days_ago=365, pro_or_all_teams='Pro',\n",
    "                                                                     threshold='10')\n",
    "data.createAndSaveHdTdLvlHhGsForHeroesLastDaysWithFillEmptyData(main, file_with_data_for_empty_data,\n",
    "                                                           days_ago=30, pro_or_all_teams='Pro', threshold='5')"
   ]
  }
 ],
 "metadata": {
  "kernelspec": {
   "display_name": "Python 3",
   "language": "python",
   "name": "python3"
  },
  "language_info": {
   "codemirror_mode": {
    "name": "ipython",
    "version": 3
   },
   "file_extension": ".py",
   "mimetype": "text/x-python",
   "name": "python",
   "nbconvert_exporter": "python",
   "pygments_lexer": "ipython3",
   "version": "3.6.5"
  }
 },
 "nbformat": 4,
 "nbformat_minor": 2
}
