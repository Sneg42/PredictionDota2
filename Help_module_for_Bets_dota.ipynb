{
 "cells": [
  {
   "cell_type": "code",
   "execution_count": 1,
   "metadata": {
    "collapsed": true
   },
   "outputs": [],
   "source": [
    "# записать JSON объект с сайта по id матчу\n",
    "def get_match_on_id(ID, site_name='https://api.opendota.com/api/matches/'):\n",
    "    #название сайта для одного матча\n",
    "    site = site_name + str(ID)\n",
    "\n",
    "    #Прочитаь JSON с сайта для одного матча\n",
    "    with urllib.request.urlopen(site) as url:\n",
    "        return json.loads(url.read().decode())\n",
    "\n",
    "# Вытащить данные из json объекта по ключу в виде датафрейма\n",
    "def get_from_JSON_for_key(data, key):\n",
    "    return pd.DataFrame(data.get(key))\n",
    "\n"
   ]
  },
  {
   "cell_type": "code",
   "execution_count": null,
   "metadata": {
    "collapsed": true
   },
   "outputs": [],
   "source": []
  }
 ],
 "metadata": {
  "kernelspec": {
   "display_name": "Python 3",
   "language": "python",
   "name": "python3"
  },
  "language_info": {
   "codemirror_mode": {
    "name": "ipython",
    "version": 3
   },
   "file_extension": ".py",
   "mimetype": "text/x-python",
   "name": "python",
   "nbconvert_exporter": "python",
   "pygments_lexer": "ipython3",
   "version": "3.6.3"
  }
 },
 "nbformat": 4,
 "nbformat_minor": 2
}
