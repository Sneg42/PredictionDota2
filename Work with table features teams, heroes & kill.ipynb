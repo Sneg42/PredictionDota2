{
 "cells": [
  {
   "cell_type": "code",
   "execution_count": 127,
   "metadata": {},
   "outputs": [],
   "source": [
    "import pandas as pd\n",
    "import numpy as np\n",
    "import math\n",
    "from sklearn.ensemble import RandomForestClassifier, RandomForestRegressor\n",
    "from sklearn.neural_network import MLPClassifier\n",
    "from sklearn.tree import DecisionTreeClassifier, DecisionTreeRegressor\n",
    "from sklearn.ensemble import GradientBoostingClassifier, GradientBoostingRegressor\n",
    "import helper\n",
    "from sklearn import metrics\n"
   ]
  },
  {
   "cell_type": "code",
   "execution_count": 129,
   "metadata": {},
   "outputs": [],
   "source": [
    "# Загрузить данные из файлов\n",
    "matches706_team_picks = pd.read_csv('table with features teams, heroes & kills (all team) 7.06.csv').drop(['Unnamed: 0'], axis=1)\n",
    "# matches707_team_picks = pd.read_csv('table with carry or support in 7.07 to 29.12.17.csv', index_col=0)\n",
    "\n",
    "# оставить только героев:\n",
    "matches706_heroes = matches706_team_picks.loc[:, :'Pangolier']\n",
    "matches706_heroes['radiant_win'] = matches706_team_picks['radiant_win']\n",
    "matches706_heroes['kills'] = matches706_team_picks['kills']\n",
    "\n",
    "#чтобы не переписывать код:\n",
    "matches706_team_picks = matches706_heroes\n",
    "\n",
    "# # Соединить даныне\n",
    "# matches_team_picks = matches706_team_picks.append(matches707_team_picks).reset_index().drop(['index'], axis=1)\n",
    "\n",
    "#Разделение данных без перемешивания на traning & test для каждого патча и для соединенных данных\n",
    "X_706, y_706 = np.split(matches706_team_picks, [len(matches706_team_picks) - int(len(matches706_team_picks)*0.3)]) \n",
    "# X_707, y_707 = np.split(matches707_team_picks, [len(matches707_team_picks) - int(len(matches707_team_picks)*0.3)]) \n",
    "# X, y = np.split(matches_team_picks, [len(matches_team_picks) - 400]) \n",
    "\n",
    "# X_train = X.drop(['radiant_win'], axis=1)\n",
    "# y_train = X['radiant_win']\n",
    "\n",
    "# X_test = y.drop(['radiant_win'], axis=1)\n",
    "# y_test = y['radiant_win']\n",
    "\n",
    "X_train_706 = X_706.drop(['radiant_win', 'kills'], axis=1)\n",
    "y_train_706_kills = X_706['kills']\n",
    "y_train_706 = X_706['radiant_win']\n",
    "\n",
    "X_test_706 = y_706.drop(['radiant_win','kills'], axis=1)\n",
    "y_test_706_kills = y_706['kills']\n",
    "y_test_706 = y_706['radiant_win']\n",
    "\n",
    "# X_train_707 = X_707.drop(['radiant_win'], axis=1)\n",
    "# y_train_707 = X_707['radiant_win']\n",
    "\n",
    "# X_test_707 = y_707.drop(['radiant_win'], axis=1)\n",
    "# y_test_707 = y_707['radiant_win']\n"
   ]
  },
  {
   "cell_type": "code",
   "execution_count": 183,
   "metadata": {},
   "outputs": [],
   "source": [
    "X_train_706_ = X_train_706#[:200]\n",
    "#y_train_706_ = y_train_706#[:200]\n",
    "y_train_706_ = y_train_706_kills#[:200]\n",
    "\n",
    "X_test_706_ = X_test_706[211:]\n",
    "#y_test_706_ = y_test_706#[201:261]\n",
    "y_test_706_ = y_test_706_kills[211:]\n",
    "len"
   ]
  },
  {
   "cell_type": "code",
   "execution_count": 185,
   "metadata": {},
   "outputs": [
    {
     "name": "stdout",
     "output_type": "stream",
     "text": [
      "1.0\n",
      "0.0149253731343\n",
      "------------------------------------------------------\n",
      "1.0\n",
      "0.5223880597014925\n",
      "479\n"
     ]
    }
   ],
   "source": [
    "# дерево \n",
    "tree = DecisionTreeClassifier()\n",
    "tree.fit(X_train_706_, y_train_706_)\n",
    "print (tree.score(X_train_706_, y_train_706_))\n",
    "print (tree.score(X_test_706_, y_test_706_))\n",
    "print ('------------------------------------------------------')\n",
    "tree_reg = DecisionTreeClassifier()\n",
    "tree_reg.fit(X_train_706_, y_train_706_kills)\n",
    "print (tree.score(X_train_706_, y_train_706_kills))\n",
    "# print (tree.predict(X_test_706_))\n",
    "# print (np.array(y_test_706_kills))\n",
    "a = []\n",
    "for i in range(len(y_test_706_)):\n",
    "    if tree_reg.predict(X_test_706_)[i] < 46.5 and np.array(y_test_706_)[i] < 46.5:\n",
    "        a.append(1)\n",
    "        continue\n",
    "    if tree_reg.predict(X_test_706_)[i] > 46.5 and np.array(y_test_706_)[i] > 46.5:\n",
    "        a.append(1)\n",
    "        continue\n",
    "    else:\n",
    "        a.append(0)\n",
    "        continue\n",
    "print (a.count(1) / len(a))\n",
    "print (len(y_test_706_kills))"
   ]
  },
  {
   "cell_type": "code",
   "execution_count": 186,
   "metadata": {},
   "outputs": [
    {
     "name": "stdout",
     "output_type": "stream",
     "text": [
      "0.997321428571\n",
      "0.0186567164179\n",
      "------------------------------------------------------\n",
      "0.5485074626865671\n",
      "479\n"
     ]
    }
   ],
   "source": [
    "# Случайный лес с параметрами которые оказались лучшими на обучении патча7,06\n",
    "forest_last = RandomForestClassifier(random_state=42)\n",
    "forest_last.fit(X_train_706_, y_train_706_)\n",
    "print (forest_last.score(X_train_706_, y_train_706_))\n",
    "print (forest_last.score(X_test_706_, y_test_706_))\n",
    "print ('------------------------------------------------------')\n",
    "forest_reg = RandomForestRegressor()\n",
    "forest_reg.fit(X_train_706_, y_train_706_kills)\n",
    "\n",
    "a = []\n",
    "for i in range(len(y_test_706_)):\n",
    "    if forest_reg.predict(X_test_706_)[i] < 46.5 and np.array(y_test_706_)[i] < 46.5:\n",
    "        a.append(1)\n",
    "        continue\n",
    "    if forest_reg.predict(X_test_706_)[i] > 46.5 and np.array(y_test_706_)[i] > 46.5:\n",
    "        a.append(1)\n",
    "        continue\n",
    "    else:\n",
    "        a.append(0)\n",
    "        continue\n",
    "print (a.count(1) / len(a))\n",
    "print (len(y_test_706_kills))\n",
    "\n",
    "def predict_log_proba (pred_log_prob):\n",
    "        arr_pred = []\n",
    "        for  x in (pred_log_prob):\n",
    "            if (abs(x[0]) > abs(x[1])):\n",
    "                arr_pred.append(0)\n",
    "            else:\n",
    "                arr_pred.append(1)\n",
    "        return (np.array(arr_pred))\n",
    "\n",
    "def predict_proba (pred_prob, perc):\n",
    "        arr_pred = []\n",
    "        arr_ind = []\n",
    "        for i, x in enumerate(pred_prob):\n",
    "            if (x[0]>=perc):\n",
    "                arr_pred.append(0)\n",
    "                arr_ind.append(i)\n",
    "                continue\n",
    "            if(x[1]>=perc):\n",
    "                arr_pred.append(1)\n",
    "                arr_ind.append(i)\n",
    "                continue\n",
    "            else:\n",
    "                arr_pred.append('X')\n",
    "                continue\n",
    "        return (np.array(arr_pred), arr_ind)"
   ]
  },
  {
   "cell_type": "code",
   "execution_count": 188,
   "metadata": {},
   "outputs": [
    {
     "name": "stdout",
     "output_type": "stream",
     "text": [
      "------------------------------------------------------\n",
      "0.582089552238806\n",
      "479\n"
     ]
    }
   ],
   "source": [
    "# Градиентный бустинг\n",
    "# gbr = GradientBoostingClassifier(random_state=42)\n",
    "# gbr.fit(X_train_706_, y_train_706_)\n",
    "# print (gbr.score(X_train_706_, y_train_706_))\n",
    "# print (gbr.score(X_test_706_, y_test_706_))\n",
    "print ('------------------------------------------------------')\n",
    "gbr_reg = GradientBoostingRegressor(n_estimators=200)\n",
    "gbr_reg.fit(X_train_706_, y_train_706_kills)\n",
    "\n",
    "a = []\n",
    "for i in range(len(y_test_706_)):\n",
    "    if gbr_reg.predict(X_test_706_)[i] < 46.5 and np.array(y_test_706_)[i] < 46.5:\n",
    "        a.append(1)\n",
    "        continue\n",
    "    if gbr_reg.predict(X_test_706_)[i] > 46.5 and np.array(y_test_706_)[i] > 46.5:\n",
    "        a.append(1)\n",
    "        continue\n",
    "    else:\n",
    "        a.append(0)\n",
    "        continue\n",
    "print (a.count(1) / len(a))\n",
    "print (len(y_test_706_kills))"
   ]
  },
  {
   "cell_type": "code",
   "execution_count": 190,
   "metadata": {},
   "outputs": [
    {
     "name": "stdout",
     "output_type": "stream",
     "text": [
      "6.46021832479\n",
      "15.6477407471\n"
     ]
    }
   ],
   "source": [
    "print (gbr_reg.predict(X_test_706).std())\n",
    "print (np.array(y_test_706_).std())"
   ]
  },
  {
   "cell_type": "code",
   "execution_count": 105,
   "metadata": {},
   "outputs": [
    {
     "name": "stdout",
     "output_type": "stream",
     "text": [
      "[0 1 0 1 0 0 1 1 0 0 0 1 0 0 0 1 0 0 0 1 0 0 0 1 0 0 1 0 1 1 0 0 0 0 0 0 0\n",
      " 0 1 0 0 1 1 0 0 0 0 0 0 0 1 0 0 1 0 1 0 1 1 0]\n",
      "[0 1 1 1 1 0 0 1 0 0 0 1 1 0 0 0 1 1 0 0 1 0 1 0 1 0 0 0 0 0 0 1 0 1 0 0 0\n",
      " 0 0 1 1 1 0 0 1 1 1 1 0 1 0 0 1 1 0 0 1 0 1 0]\n",
      "0.483333333333\n"
     ]
    }
   ],
   "source": [
    "prob = gbr.predict_log_proba(X_test_706_)\n",
    "predict = predict_log_proba(prob)\n",
    "print (predict)\n",
    "pred_prob= gbr.predict_proba(X_test_706_)\n",
    "#print (pred_prob)\n",
    "#predict, pred_ind = predict_proba(pred_prob, 0.8)\n",
    "# print (predict)\n",
    "# for i  in pred_ind:\n",
    "#     print (np.array(y_test_706_)[i])\n",
    "print (np.array(y_test_706_))\n",
    "print (metrics.accuracy_score(np.array(y_test_706_), predict))"
   ]
  },
  {
   "cell_type": "code",
   "execution_count": 56,
   "metadata": {},
   "outputs": [
    {
     "name": "stdout",
     "output_type": "stream",
     "text": [
      "50\n",
      "75\n",
      "100\n",
      "125\n",
      "150\n",
      "175\n",
      "200\n",
      "225\n",
      "250\n",
      "275\n",
      "300\n",
      "325\n",
      "350\n",
      "375\n",
      "400\n",
      "425\n",
      "450\n",
      "475\n"
     ]
    }
   ],
   "source": [
    "# создание большого кол-ва лесов с разными параметрами и запись Score в массив\n",
    "from sklearn.ensemble import RandomForestClassifier\n",
    "all_parametrs=[]\n",
    "for n in range(50, 500, 25):\n",
    "    for depth in range(50, 200, 25):\n",
    "        for features in range(30, 190, 30):\n",
    "            parametrs=[]\n",
    "            forest_optim_param = RandomForestClassifier(n_estimators=n, random_state=42, \n",
    "                                                        max_depth=depth, max_features=features)\n",
    "            forest_optim_param.fit(X_train_706_, y_train_706_)\n",
    "            if (forest_optim_param.score(X_test_706_, y_test_706_) > 0.62):\n",
    "                parametrs.append(n)\n",
    "                parametrs.append(depth)\n",
    "                parametrs.append(features)\n",
    "                parametrs.append(forest_optim_param.score(X_train_706_, y_train_706_))\n",
    "                parametrs.append(forest_optim_param.score(X_test_706_, y_test_706_))\n",
    "                all_parametrs.append(parametrs)\n",
    "    print (n)"
   ]
  },
  {
   "cell_type": "code",
   "execution_count": 57,
   "metadata": {},
   "outputs": [
    {
     "data": {
      "text/plain": [
       "[]"
      ]
     },
     "execution_count": 57,
     "metadata": {},
     "output_type": "execute_result"
    }
   ],
   "source": [
    "all_parametrs"
   ]
  },
  {
   "cell_type": "code",
   "execution_count": null,
   "metadata": {
    "collapsed": true
   },
   "outputs": [],
   "source": []
  }
 ],
 "metadata": {
  "kernelspec": {
   "display_name": "Python 3",
   "language": "python",
   "name": "python3"
  },
  "language_info": {
   "codemirror_mode": {
    "name": "ipython",
    "version": 3
   },
   "file_extension": ".py",
   "mimetype": "text/x-python",
   "name": "python",
   "nbconvert_exporter": "python",
   "pygments_lexer": "ipython3",
   "version": "3.6.3"
  }
 },
 "nbformat": 4,
 "nbformat_minor": 2
}
