{
 "cells": [
  {
   "cell_type": "code",
   "execution_count": 1,
   "metadata": {
    "collapsed": true
   },
   "outputs": [],
   "source": [
    "import pandas as pd\n",
    "import numpy as np\n",
    "import urllib.request, json\n",
    "from pandas.io.json import json_normalize\n",
    "from sklearn.ensemble import RandomForestClassifier\n",
    "from sklearn.neural_network import MLPClassifier\n",
    "from sklearn.preprocessing import StandardScaler"
   ]
  },
  {
   "cell_type": "code",
   "execution_count": 4,
   "metadata": {},
   "outputs": [
    {
     "data": {
      "text/html": [
       "<div>\n",
       "<style>\n",
       "    .dataframe thead tr:only-child th {\n",
       "        text-align: right;\n",
       "    }\n",
       "\n",
       "    .dataframe thead th {\n",
       "        text-align: left;\n",
       "    }\n",
       "\n",
       "    .dataframe tbody tr th {\n",
       "        vertical-align: top;\n",
       "    }\n",
       "</style>\n",
       "<table border=\"1\" class=\"dataframe\">\n",
       "  <thead>\n",
       "    <tr style=\"text-align: right;\">\n",
       "      <th></th>\n",
       "      <th>radiant_id</th>\n",
       "      <th>dire_id</th>\n",
       "      <th>radiant1</th>\n",
       "      <th>radiant2</th>\n",
       "      <th>radiant3</th>\n",
       "      <th>radiant4</th>\n",
       "      <th>radiant5</th>\n",
       "      <th>dire1</th>\n",
       "      <th>dire2</th>\n",
       "      <th>dire3</th>\n",
       "      <th>dire4</th>\n",
       "      <th>dire5</th>\n",
       "      <th>radiant_win</th>\n",
       "    </tr>\n",
       "  </thead>\n",
       "  <tbody>\n",
       "    <tr>\n",
       "      <th>0</th>\n",
       "      <td>70.0</td>\n",
       "      <td>59.0</td>\n",
       "      <td>97</td>\n",
       "      <td>112</td>\n",
       "      <td>106</td>\n",
       "      <td>66</td>\n",
       "      <td>104</td>\n",
       "      <td>75</td>\n",
       "      <td>18</td>\n",
       "      <td>28</td>\n",
       "      <td>65</td>\n",
       "      <td>70</td>\n",
       "      <td>1</td>\n",
       "    </tr>\n",
       "    <tr>\n",
       "      <th>1</th>\n",
       "      <td>59.0</td>\n",
       "      <td>70.0</td>\n",
       "      <td>28</td>\n",
       "      <td>110</td>\n",
       "      <td>29</td>\n",
       "      <td>95</td>\n",
       "      <td>11</td>\n",
       "      <td>32</td>\n",
       "      <td>92</td>\n",
       "      <td>54</td>\n",
       "      <td>74</td>\n",
       "      <td>55</td>\n",
       "      <td>0</td>\n",
       "    </tr>\n",
       "    <tr>\n",
       "      <th>2</th>\n",
       "      <td>29.0</td>\n",
       "      <td>23.0</td>\n",
       "      <td>37</td>\n",
       "      <td>51</td>\n",
       "      <td>55</td>\n",
       "      <td>49</td>\n",
       "      <td>48</td>\n",
       "      <td>64</td>\n",
       "      <td>16</td>\n",
       "      <td>77</td>\n",
       "      <td>88</td>\n",
       "      <td>76</td>\n",
       "      <td>1</td>\n",
       "    </tr>\n",
       "    <tr>\n",
       "      <th>3</th>\n",
       "      <td>23.0</td>\n",
       "      <td>29.0</td>\n",
       "      <td>16</td>\n",
       "      <td>8</td>\n",
       "      <td>87</td>\n",
       "      <td>34</td>\n",
       "      <td>33</td>\n",
       "      <td>64</td>\n",
       "      <td>55</td>\n",
       "      <td>28</td>\n",
       "      <td>95</td>\n",
       "      <td>25</td>\n",
       "      <td>0</td>\n",
       "    </tr>\n",
       "    <tr>\n",
       "      <th>4</th>\n",
       "      <td>18.0</td>\n",
       "      <td>33.0</td>\n",
       "      <td>71</td>\n",
       "      <td>55</td>\n",
       "      <td>92</td>\n",
       "      <td>46</td>\n",
       "      <td>93</td>\n",
       "      <td>27</td>\n",
       "      <td>7</td>\n",
       "      <td>20</td>\n",
       "      <td>10</td>\n",
       "      <td>17</td>\n",
       "      <td>1</td>\n",
       "    </tr>\n",
       "  </tbody>\n",
       "</table>\n",
       "</div>"
      ],
      "text/plain": [
       "   radiant_id  dire_id  radiant1  radiant2  radiant3  radiant4  radiant5  \\\n",
       "0        70.0     59.0        97       112       106        66       104   \n",
       "1        59.0     70.0        28       110        29        95        11   \n",
       "2        29.0     23.0        37        51        55        49        48   \n",
       "3        23.0     29.0        16         8        87        34        33   \n",
       "4        18.0     33.0        71        55        92        46        93   \n",
       "\n",
       "   dire1  dire2  dire3  dire4  dire5  radiant_win  \n",
       "0     75     18     28     65     70            1  \n",
       "1     32     92     54     74     55            0  \n",
       "2     64     16     77     88     76            1  \n",
       "3     64     55     28     95     25            0  \n",
       "4     27      7     20     10     17            1  "
      ]
     },
     "execution_count": 4,
     "metadata": {},
     "output_type": "execute_result"
    }
   ],
   "source": [
    "# Загрузить данные из файлов\n",
    "matches706_team_picks = pd.read_csv('table/table wtih team & picks path 7.06.csv').drop(['Unnamed: 0'], axis=1)\n",
    "matches707_team_picks = pd.read_csv('table/table wtih team & picks path 7.07 to 29.12.17.csv', index_col=0)\n",
    "\n",
    "# новая нумерация индексов\n",
    "matches706_team_picks = matches706_team_picks.reset_index().drop(['index'], axis=1)\n",
    "matches707_team_picks = matches707_team_picks.reset_index().drop(['index'], axis=1)\n",
    "\n",
    "# Соединить даныне\n",
    "matches_team_picks = matches706_team_picks.append(matches707_team_picks)\n",
    "\n",
    "#Разделение данных без перемешивания на traning & test для каждого патча и для соединенных данных\n",
    "X_706, y_706 = np.split(matches706_team_picks, [len(matches706_team_picks) - int(len(matches706_team_picks)*0.3)]) \n",
    "X_707, y_707 = np.split(matches707_team_picks, [len(matches707_team_picks) - int(len(matches707_team_picks)*0.3)]) \n",
    "X, y = np.split(matches_team_picks, [len(matches_team_picks) - 400]) \n",
    "\n",
    "X_train = X.drop(['radiant_win'], axis=1)\n",
    "y_train = X['radiant_win']\n",
    "\n",
    "X_test = y.drop(['radiant_win'], axis=1)\n",
    "y_test = y['radiant_win']\n",
    "\n",
    "X_train_706 = X_706.drop(['radiant_win'], axis=1)\n",
    "y_train_706 = X_706['radiant_win']\n",
    "\n",
    "X_test_706 = y_706.drop(['radiant_win'], axis=1)\n",
    "y_test_706 = y_706['radiant_win']\n",
    "\n",
    "X_train_707 = X_707.drop(['radiant_win'], axis=1)\n",
    "y_train_707 = X_707['radiant_win']\n",
    "\n",
    "X_test_707 = y_707.drop(['radiant_win'], axis=1)\n",
    "y_test_707 = y_707['radiant_win']\n",
    "matches706_team_picks.head()"
   ]
  },
  {
   "cell_type": "code",
   "execution_count": 45,
   "metadata": {},
   "outputs": [
    {
     "data": {
      "text/plain": [
       "14760"
      ]
     },
     "execution_count": 45,
     "metadata": {},
     "output_type": "execute_result"
    }
   ],
   "source": [
    "# Загрузить данные из файлов\n",
    "matches = pd.read_csv('table/table wtih team, kills from 1.09.13 to 22.01.18.csv', index_col=0)\n",
    "matches = matches.drop(['radiant_id','radiant_name', 'dire_id', 'dire_name','kills'],axis=1).reindex()\n",
    "\n",
    "X, y = np.split(matches, [len(matches) - 400]) \n",
    "\n",
    "X_train = X.drop(['radiant_win'], axis=1)\n",
    "y_train = X['radiant_win']\n",
    "\n",
    "X_test = y.drop(['radiant_win'], axis=1)\n",
    "y_test = y['radiant_win']\n",
    "len(matches)"
   ]
  },
  {
   "cell_type": "code",
   "execution_count": 21,
   "metadata": {},
   "outputs": [
    {
     "name": "stdout",
     "output_type": "stream",
     "text": [
      "0.970543175487\n",
      "0.475\n"
     ]
    }
   ],
   "source": [
    "# Случайный лес с параметрами которые оказались лучшими на обучении патча7,06\n",
    "forest_last = RandomForestClassifier(n_estimators=36, random_state=42, \n",
    "                                                        max_depth=14, max_features=8)\n",
    "forest_last.fit(X_train, y_train)\n",
    "print (forest_last.score(X_train, y_train))\n",
    "print (forest_last.score(X_test, y_test))\n",
    "\n",
    "# forest_last.fit(X_train_706, y_train_706)\n",
    "# print (forest_last.score(X_train_706, y_train_706))\n",
    "# print (forest_last.score(X_test_706, y_test_706))\n",
    "\n",
    "# forest_last.fit(X_train_707, y_train_707)\n",
    "# print (forest_last.score(X_train_707, y_train_707))\n",
    "# print (forest_last.score(X_test_707, y_test_707))"
   ]
  },
  {
   "cell_type": "code",
   "execution_count": 22,
   "metadata": {},
   "outputs": [
    {
     "name": "stdout",
     "output_type": "stream",
     "text": [
      "0.513300835655\n",
      "0.475\n"
     ]
    }
   ],
   "source": [
    "# Нейронные сети\n",
    "mlp = MLPClassifier(solver='lbfgs',random_state=1, hidden_layer_sizes=[10, 10, 10])\n",
    "\n",
    "mlp.fit(X_train, y_train)\n",
    "print (mlp.score(X_train, y_train))\n",
    "print (mlp.score(X_test, y_test))\n",
    "# print ('----------------------------')\n",
    "# mlp.fit(X_train_706, y_train_706)\n",
    "# print (mlp.score(X_train_706, y_train_706))\n",
    "# print (mlp.score(X_test_706, y_test_706))\n",
    "# print ('----------------------------')\n",
    "# mlp.fit(X_train_707, y_train_707)\n",
    "# print (mlp.score(X_train_707, y_train_707))\n",
    "# print (mlp.score(X_test_707, y_test_707))"
   ]
  },
  {
   "cell_type": "code",
   "execution_count": 25,
   "metadata": {},
   "outputs": [
    {
     "name": "stdout",
     "output_type": "stream",
     "text": [
      "[ 56.15752089  53.34735376  53.73572423  52.61706128  52.56922006\n",
      "  59.35424791  55.00835655  54.66504178  52.45821727  52.27618384]\n"
     ]
    }
   ],
   "source": [
    "# Масштабирование данных\n",
    "scaler = StandardScaler()\n",
    "scaler.fit(X_train)\n",
    "print(scaler.mean_)\n",
    "\n",
    "X_train_scaled = scaler.transform(X_train)\n",
    "X_test_scaled = scaler.transform(X_test)\n",
    "\n",
    "# X_train_707_scaled = scaler.transform(X_train_707)\n",
    "# X_test_707_scaled = scaler.transform(X_test_707)"
   ]
  },
  {
   "cell_type": "code",
   "execution_count": 26,
   "metadata": {},
   "outputs": [
    {
     "name": "stdout",
     "output_type": "stream",
     "text": [
      "0.568593314763\n",
      "0.4775\n"
     ]
    }
   ],
   "source": [
    "mlp.fit(X_train_scaled, y_train)\n",
    "print (mlp.score(X_train_scaled, y_train))\n",
    "print (mlp.score(X_test_scaled, y_test))\n",
    "\n",
    "# mlp.fit(X_train_707_scaled, y_train_707)\n",
    "# print (mlp.score(X_train_707_scaled, y_train_707))\n",
    "# print (mlp.score(X_test_707_scaled, y_test_707))"
   ]
  },
  {
   "cell_type": "code",
   "execution_count": null,
   "metadata": {
    "collapsed": true
   },
   "outputs": [],
   "source": []
  },
  {
   "cell_type": "code",
   "execution_count": 27,
   "metadata": {},
   "outputs": [
    {
     "data": {
      "text/html": [
       "<div>\n",
       "<style>\n",
       "    .dataframe thead tr:only-child th {\n",
       "        text-align: right;\n",
       "    }\n",
       "\n",
       "    .dataframe thead th {\n",
       "        text-align: left;\n",
       "    }\n",
       "\n",
       "    .dataframe tbody tr th {\n",
       "        vertical-align: top;\n",
       "    }\n",
       "</style>\n",
       "<table border=\"1\" class=\"dataframe\">\n",
       "  <thead>\n",
       "    <tr style=\"text-align: right;\">\n",
       "      <th></th>\n",
       "      <th>id</th>\n",
       "      <th>attack_type</th>\n",
       "      <th>id.1</th>\n",
       "      <th>localized_name</th>\n",
       "      <th>primary_attr</th>\n",
       "      <th>roles</th>\n",
       "      <th>Disabler</th>\n",
       "      <th>Nuker</th>\n",
       "      <th>Carry</th>\n",
       "      <th>Initiator</th>\n",
       "      <th>Escape</th>\n",
       "      <th>Durable</th>\n",
       "      <th>Support</th>\n",
       "      <th>Pusher</th>\n",
       "      <th>Jungler</th>\n",
       "    </tr>\n",
       "  </thead>\n",
       "  <tbody>\n",
       "    <tr>\n",
       "      <th>0</th>\n",
       "      <td>1</td>\n",
       "      <td>Melee</td>\n",
       "      <td>1</td>\n",
       "      <td>Anti-Mage</td>\n",
       "      <td>agi</td>\n",
       "      <td>['Carry', 'Escape', 'Nuker']</td>\n",
       "      <td>0</td>\n",
       "      <td>1</td>\n",
       "      <td>1</td>\n",
       "      <td>0</td>\n",
       "      <td>1</td>\n",
       "      <td>0</td>\n",
       "      <td>0</td>\n",
       "      <td>0</td>\n",
       "      <td>0</td>\n",
       "    </tr>\n",
       "    <tr>\n",
       "      <th>1</th>\n",
       "      <td>2</td>\n",
       "      <td>Melee</td>\n",
       "      <td>2</td>\n",
       "      <td>Axe</td>\n",
       "      <td>str</td>\n",
       "      <td>['Initiator', 'Durable', 'Disabler', 'Jungler']</td>\n",
       "      <td>1</td>\n",
       "      <td>0</td>\n",
       "      <td>0</td>\n",
       "      <td>1</td>\n",
       "      <td>0</td>\n",
       "      <td>1</td>\n",
       "      <td>0</td>\n",
       "      <td>0</td>\n",
       "      <td>1</td>\n",
       "    </tr>\n",
       "    <tr>\n",
       "      <th>2</th>\n",
       "      <td>3</td>\n",
       "      <td>Ranged</td>\n",
       "      <td>3</td>\n",
       "      <td>Bane</td>\n",
       "      <td>int</td>\n",
       "      <td>['Support', 'Disabler', 'Nuker', 'Durable']</td>\n",
       "      <td>1</td>\n",
       "      <td>1</td>\n",
       "      <td>0</td>\n",
       "      <td>0</td>\n",
       "      <td>0</td>\n",
       "      <td>1</td>\n",
       "      <td>1</td>\n",
       "      <td>0</td>\n",
       "      <td>0</td>\n",
       "    </tr>\n",
       "  </tbody>\n",
       "</table>\n",
       "</div>"
      ],
      "text/plain": [
       "   id attack_type  id.1 localized_name primary_attr  \\\n",
       "0   1       Melee     1      Anti-Mage          agi   \n",
       "1   2       Melee     2            Axe          str   \n",
       "2   3      Ranged     3           Bane          int   \n",
       "\n",
       "                                             roles  Disabler  Nuker  Carry  \\\n",
       "0                     ['Carry', 'Escape', 'Nuker']         0      1      1   \n",
       "1  ['Initiator', 'Durable', 'Disabler', 'Jungler']         1      0      0   \n",
       "2      ['Support', 'Disabler', 'Nuker', 'Durable']         1      1      0   \n",
       "\n",
       "   Initiator  Escape  Durable  Support  Pusher  Jungler  \n",
       "0          0       1        0        0       0        0  \n",
       "1          1       0        1        0       0        1  \n",
       "2          0       0        1        1       0        0  "
      ]
     },
     "execution_count": 27,
     "metadata": {},
     "output_type": "execute_result"
    }
   ],
   "source": [
    "heroes = pd.read_csv('All_Heroes.csv')\n",
    "heroes[:3]"
   ]
  },
  {
   "cell_type": "code",
   "execution_count": 28,
   "metadata": {},
   "outputs": [
    {
     "data": {
      "text/plain": [
       "1"
      ]
     },
     "execution_count": 28,
     "metadata": {},
     "output_type": "execute_result"
    }
   ],
   "source": [
    "heroes['Disabler'][heroes['id'] == 4].item()"
   ]
  },
  {
   "cell_type": "code",
   "execution_count": 29,
   "metadata": {
    "collapsed": true
   },
   "outputs": [],
   "source": [
    "columns = ['attac_type1','Disabler1','Nuker1','Carry1','Initiator1','Escape1','Durable1','Support1','Pusher1','Jungler1',\n",
    "           'attac_type2','Disabler2','Nuker2','Carry2','Initiator2','Escape2','Durable2','Support2','Pusher2','Jungler2',\n",
    "           'attac_type3','Disabler3','Nuker3','Carry3','Initiator3','Escape3','Durable3','Support3','Pusher3','Jungler3',\n",
    "           'attac_type4','Disabler4','Nuker4','Carry4','Initiator4','Escape4','Durable4','Support4','Pusher4','Jungler4',\n",
    "           'attac_type5','Disabler5','Nuker5','Carry5','Initiator5','Escape5','Durable5','Support5','Pusher5','Jungler5',\n",
    "           'attac_type6','Disabler6','Nuker6','Carry6','Initiator6','Escape6','Durable6','Support6','Pusher6','Jungler6',\n",
    "           'attac_type7','Disabler7','Nuker7','Carry7','Initiator7','Escape7','Durable7','Support7','Pusher7','Jungler7',\n",
    "           'attac_type8','Disabler8','Nuker8','Carry8','Initiator8','Escape8','Durable8','Support8','Pusher8','Jungler8',\n",
    "           'attac_type9','Disabler9','Nuker9','Carry9','Initiator9','Escape9','Durable9','Support9','Pusher9','Jungler9',\n",
    "     'attac_type10','Disabler10','Nuker10','Carry10','Initiator10','Escape10','Durable10','Support10','Pusher10','Jungler10']\n",
    "\n",
    "list_scripts = ['Disabler', 'Nuker', 'Carry', 'Initiator', 'Escape', 'Durable',\n",
    "                'Support', 'Pusher', 'Jungler']"
   ]
  },
  {
   "cell_type": "code",
   "execution_count": 39,
   "metadata": {},
   "outputs": [],
   "source": [
    "# функция для перевода в бинарное состояние типа атаки\n",
    "def atac(type_at):\n",
    "    if type_at == 'Melee':\n",
    "        return 0\n",
    "    else:\n",
    "        return 1\n",
    "# df в который записыватеся пик команда с росписью кажого героя    \n",
    "df_script_her = pd.DataFrame(columns=columns)\n",
    "# df из которого сотавляется новый df\n",
    "little = matches[10180:14760]\n",
    "\n",
    "for index in range(10180, 14760):#len(little)):\n",
    "    # для radiant\n",
    "    for i in range(1,6):\n",
    "        id_her = little['radiant' + str(i)].loc[index]\n",
    "        df_script_her.loc[index, ('attac_type' + str(i))] = atac(heroes['attack_type'][heroes['id'] == id_her].item())\n",
    "        for col in list_scripts:\n",
    "            sc = heroes[col][(heroes['id'] == id_her)].item()\n",
    "            df_script_her.loc[index, (col + str(i))] = sc\n",
    "    # для dire\n",
    "    for i in range(1,6):\n",
    "        id_her = little['dire' + str(i)].loc[index]\n",
    "        df_script_her.loc[index, ('attac_type' + str(i+5))] = atac(heroes['attack_type'][heroes['id'] == id_her].item())\n",
    "        for col in list_scripts:\n",
    "            sc = heroes[col][(heroes['id'] == id_her)].item()\n",
    "            df_script_her.loc[index, (col + str(i+5))] = sc      \n"
   ]
  },
  {
   "cell_type": "code",
   "execution_count": 40,
   "metadata": {},
   "outputs": [
    {
     "data": {
      "text/plain": [
       "4580"
      ]
     },
     "execution_count": 40,
     "metadata": {},
     "output_type": "execute_result"
    }
   ],
   "source": [
    "df_script_her['radiant_win'] = little['radiant_win']\n",
    "# df_script_her['radiant_id'] = little['radiant_id']\n",
    "# df_script_her['dire_id'] = little['dire_id']\n",
    "len(df_script_her)\n",
    "#df_script_her.to_csv('table/table wtih  carry or support  from 1.09.13 to 22.01.18.csv')"
   ]
  },
  {
   "cell_type": "code",
   "execution_count": 36,
   "metadata": {
    "collapsed": true
   },
   "outputs": [],
   "source": [
    "df1 = df_script_her"
   ]
  },
  {
   "cell_type": "code",
   "execution_count": 38,
   "metadata": {},
   "outputs": [
    {
     "data": {
      "text/plain": [
       "10180"
      ]
     },
     "execution_count": 38,
     "metadata": {},
     "output_type": "execute_result"
    }
   ],
   "source": [
    "len(df1)"
   ]
  },
  {
   "cell_type": "code",
   "execution_count": 41,
   "metadata": {
    "collapsed": true
   },
   "outputs": [],
   "source": [
    "df2 = df1.append(df_script_her)"
   ]
  },
  {
   "cell_type": "code",
   "execution_count": 46,
   "metadata": {},
   "outputs": [],
   "source": [
    "df2.to_csv('table/table wtih carry or support  from 1.09.13 to 22.01.18.csv')"
   ]
  },
  {
   "cell_type": "code",
   "execution_count": null,
   "metadata": {
    "collapsed": true
   },
   "outputs": [],
   "source": []
  }
 ],
 "metadata": {
  "kernelspec": {
   "display_name": "Python 3",
   "language": "python",
   "name": "python3"
  },
  "language_info": {
   "codemirror_mode": {
    "name": "ipython",
    "version": 3
   },
   "file_extension": ".py",
   "mimetype": "text/x-python",
   "name": "python",
   "nbconvert_exporter": "python",
   "pygments_lexer": "ipython3",
   "version": "3.6.3"
  }
 },
 "nbformat": 4,
 "nbformat_minor": 2
}
