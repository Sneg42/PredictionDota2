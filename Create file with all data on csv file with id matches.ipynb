{
 "cells": [
  {
   "cell_type": "code",
   "execution_count": 1,
   "metadata": {
    "collapsed": true
   },
   "outputs": [],
   "source": [
    "import pandas as pd\n",
    "import numpy as np\n",
    "import urllib.request, json\n",
    "from pandas.io.json import json_normalize\n",
    "import helper"
   ]
  },
  {
   "cell_type": "code",
   "execution_count": 2,
   "metadata": {},
   "outputs": [
    {
     "data": {
      "text/html": [
       "<div>\n",
       "<style>\n",
       "    .dataframe thead tr:only-child th {\n",
       "        text-align: right;\n",
       "    }\n",
       "\n",
       "    .dataframe thead th {\n",
       "        text-align: left;\n",
       "    }\n",
       "\n",
       "    .dataframe tbody tr th {\n",
       "        vertical-align: top;\n",
       "    }\n",
       "</style>\n",
       "<table border=\"1\" class=\"dataframe\">\n",
       "  <thead>\n",
       "    <tr style=\"text-align: right;\">\n",
       "      <th></th>\n",
       "      <th>match_id</th>\n",
       "      <th>avg</th>\n",
       "      <th>count</th>\n",
       "      <th>winrate</th>\n",
       "      <th>winrate_wilson</th>\n",
       "      <th>sum</th>\n",
       "      <th>min</th>\n",
       "      <th>max</th>\n",
       "      <th>stddev</th>\n",
       "    </tr>\n",
       "  </thead>\n",
       "  <tbody>\n",
       "    <tr>\n",
       "      <th>0</th>\n",
       "      <td>2691452197</td>\n",
       "      <td>1.0</td>\n",
       "      <td>1</td>\n",
       "      <td>0.5</td>\n",
       "      <td>0.23659</td>\n",
       "      <td>10</td>\n",
       "      <td>1</td>\n",
       "      <td>1</td>\n",
       "      <td>0</td>\n",
       "    </tr>\n",
       "    <tr>\n",
       "      <th>1</th>\n",
       "      <td>2691465961</td>\n",
       "      <td>1.0</td>\n",
       "      <td>1</td>\n",
       "      <td>0.5</td>\n",
       "      <td>0.23659</td>\n",
       "      <td>10</td>\n",
       "      <td>1</td>\n",
       "      <td>1</td>\n",
       "      <td>0</td>\n",
       "    </tr>\n",
       "  </tbody>\n",
       "</table>\n",
       "</div>"
      ],
      "text/plain": [
       "     match_id  avg  count  winrate  winrate_wilson  sum  min  max  stddev\n",
       "0  2691452197  1.0      1      0.5         0.23659   10    1    1       0\n",
       "1  2691465961  1.0      1      0.5         0.23659   10    1    1       0"
      ]
     },
     "execution_count": 2,
     "metadata": {},
     "output_type": "execute_result"
    }
   ],
   "source": [
    "# Прочитать файл с id матчами\n",
    "matches_path = pd.read_csv('table/id match/id matches from 1.09.16 to end patch 7.06.csv')\n",
    "#matches_path707 = pd.read_csv('test.csv')\n",
    "# Прочитать файл с нормальными id команд\n",
    "file_name_and_ID_team = json.load(open('ID_nameTeam (name main) (correct)'))\n",
    "# Список с командами не из моего списка команд с id\n",
    "name_teams_not_with_myID = []\n",
    "# Основной DF для всех матчей\n",
    "matches_df = pd.DataFrame()\n",
    "matches_path[:2]"
   ]
  },
  {
   "cell_type": "code",
   "execution_count": 22,
   "metadata": {},
   "outputs": [],
   "source": [
    "# так как длина пиков и банов в патче 7,07 равна 22 а не 20 для низких патчей\n",
    "names = ['id matches from 1.09.16 to end patch 7.06.csv']#, 'id matches from 1.09.14 to 31.08.15.csv', \n",
    "         #'id matches from 1.09.15 to 31.08.16.csv'] , 'id matches from patch 7.07 to 22.01.18.csv']\n",
    "a = [935678110, 935808093, 935867523, 936088110, 936138006, 936190138, 936323629, 936442011, 936581517, 936590634, 936644511,\n",
    "     936734353, 959461653, 959557604, 959579369, 959608565]\n",
    "\n",
    "# for name in names:\n",
    "#     matches_path = pd.read_csv('table/id match/' + name)\n",
    "matches_df = pd.DataFrame()\n",
    "\n",
    "for ID in a: #matches_path['match_id']:\n",
    "    df = helper.get_data_for_match(ID, matches_df, 20, file_name_and_ID_team)\n",
    "    #print (df)\n",
    "    matches_df = matches_df.append(df)"
   ]
  },
  {
   "cell_type": "code",
   "execution_count": 23,
   "metadata": {},
   "outputs": [
    {
     "data": {
      "text/plain": [
       "15"
      ]
     },
     "execution_count": 23,
     "metadata": {},
     "output_type": "execute_result"
    }
   ],
   "source": [
    "len(matches_df)"
   ]
  },
  {
   "cell_type": "code",
   "execution_count": 17,
   "metadata": {
    "collapsed": true
   },
   "outputs": [],
   "source": []
  },
  {
   "cell_type": "code",
   "execution_count": 24,
   "metadata": {},
   "outputs": [],
   "source": [
    "path = 'table/data for matches/table with matches from 1.09.14 to 31.08.15.csv'\n",
    "file = pd.read_csv(path ,encoding='latin').drop(['Unnamed: 0'], axis=1)\n",
    "file = file.append(matches_df)\n",
    "file.to_csv(path)"
   ]
  },
  {
   "cell_type": "code",
   "execution_count": 15,
   "metadata": {},
   "outputs": [],
   "source": []
  },
  {
   "cell_type": "code",
   "execution_count": null,
   "metadata": {
    "collapsed": true
   },
   "outputs": [],
   "source": []
  }
 ],
 "metadata": {
  "kernelspec": {
   "display_name": "Python 3",
   "language": "python",
   "name": "python3"
  },
  "language_info": {
   "codemirror_mode": {
    "name": "ipython",
    "version": 3
   },
   "file_extension": ".py",
   "mimetype": "text/x-python",
   "name": "python",
   "nbconvert_exporter": "python",
   "pygments_lexer": "ipython3",
   "version": "3.6.3"
  }
 },
 "nbformat": 4,
 "nbformat_minor": 2
}
