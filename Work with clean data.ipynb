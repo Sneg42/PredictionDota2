{
 "cells": [
  {
   "cell_type": "code",
   "execution_count": 1,
   "metadata": {
    "collapsed": true
   },
   "outputs": [],
   "source": [
    "import pandas as pd\n",
    "import numpy as np\n",
    "import math\n",
    "import helper\n",
    "import time\n",
    "import datetime\n",
    "from sklearn.ensemble import RandomForestClassifier, RandomForestRegressor\n",
    "from sklearn.neural_network import MLPClassifier\n",
    "from sklearn.tree import DecisionTreeClassifier, DecisionTreeRegressor\n",
    "from sklearn.ensemble import GradientBoostingClassifier, GradientBoostingRegressor\n",
    "from sklearn.neighbors import KNeighborsClassifier, KNeighborsRegressor\n",
    "from sklearn.svm import SVC, SVR\n",
    "\n",
    "from sklearn import metrics\n",
    "from sklearn.model_selection import KFold, cross_val_score\n"
   ]
  },
  {
   "cell_type": "code",
   "execution_count": 2,
   "metadata": {},
   "outputs": [
    {
     "data": {
      "text/html": [
       "<div>\n",
       "<style>\n",
       "    .dataframe thead tr:only-child th {\n",
       "        text-align: right;\n",
       "    }\n",
       "\n",
       "    .dataframe thead th {\n",
       "        text-align: left;\n",
       "    }\n",
       "\n",
       "    .dataframe tbody tr th {\n",
       "        vertical-align: top;\n",
       "    }\n",
       "</style>\n",
       "<table border=\"1\" class=\"dataframe\">\n",
       "  <thead>\n",
       "    <tr style=\"text-align: right;\">\n",
       "      <th></th>\n",
       "      <th>Anti-Mage</th>\n",
       "      <th>Axe</th>\n",
       "      <th>Bane</th>\n",
       "      <th>Bloodseeker</th>\n",
       "      <th>Crystal Maiden</th>\n",
       "      <th>Drow Ranger</th>\n",
       "      <th>Earthshaker</th>\n",
       "      <th>Juggernaut</th>\n",
       "      <th>Mirana</th>\n",
       "      <th>Morphling</th>\n",
       "      <th>...</th>\n",
       "      <th>Earth Spirit</th>\n",
       "      <th>Underlord</th>\n",
       "      <th>Terrorblade</th>\n",
       "      <th>Phoenix</th>\n",
       "      <th>Oracle</th>\n",
       "      <th>Winter Wyvern</th>\n",
       "      <th>Arc Warden</th>\n",
       "      <th>Monkey King</th>\n",
       "      <th>radiant_win</th>\n",
       "      <th>kills</th>\n",
       "    </tr>\n",
       "  </thead>\n",
       "  <tbody>\n",
       "    <tr>\n",
       "      <th>0</th>\n",
       "      <td>0</td>\n",
       "      <td>0</td>\n",
       "      <td>0</td>\n",
       "      <td>0</td>\n",
       "      <td>0</td>\n",
       "      <td>0</td>\n",
       "      <td>0</td>\n",
       "      <td>0</td>\n",
       "      <td>0</td>\n",
       "      <td>0</td>\n",
       "      <td>...</td>\n",
       "      <td>0</td>\n",
       "      <td>0</td>\n",
       "      <td>0</td>\n",
       "      <td>0</td>\n",
       "      <td>0</td>\n",
       "      <td>1</td>\n",
       "      <td>0</td>\n",
       "      <td>0</td>\n",
       "      <td>1</td>\n",
       "      <td>33</td>\n",
       "    </tr>\n",
       "    <tr>\n",
       "      <th>1</th>\n",
       "      <td>0</td>\n",
       "      <td>0</td>\n",
       "      <td>0</td>\n",
       "      <td>0</td>\n",
       "      <td>0</td>\n",
       "      <td>0</td>\n",
       "      <td>0</td>\n",
       "      <td>0</td>\n",
       "      <td>0</td>\n",
       "      <td>0</td>\n",
       "      <td>...</td>\n",
       "      <td>0</td>\n",
       "      <td>0</td>\n",
       "      <td>0</td>\n",
       "      <td>1</td>\n",
       "      <td>0</td>\n",
       "      <td>0</td>\n",
       "      <td>0</td>\n",
       "      <td>0</td>\n",
       "      <td>0</td>\n",
       "      <td>57</td>\n",
       "    </tr>\n",
       "  </tbody>\n",
       "</table>\n",
       "<p>2 rows × 115 columns</p>\n",
       "</div>"
      ],
      "text/plain": [
       "   Anti-Mage  Axe  Bane  Bloodseeker  Crystal Maiden  Drow Ranger  \\\n",
       "0          0    0     0            0               0            0   \n",
       "1          0    0     0            0               0            0   \n",
       "\n",
       "   Earthshaker  Juggernaut  Mirana  Morphling  ...    Earth Spirit  Underlord  \\\n",
       "0            0           0       0          0  ...               0          0   \n",
       "1            0           0       0          0  ...               0          0   \n",
       "\n",
       "   Terrorblade  Phoenix  Oracle  Winter Wyvern  Arc Warden  Monkey King  \\\n",
       "0            0        0       0              1           0            0   \n",
       "1            0        1       0              0           0            0   \n",
       "\n",
       "   radiant_win  kills  \n",
       "0            1     33  \n",
       "1            0     57  \n",
       "\n",
       "[2 rows x 115 columns]"
      ]
     },
     "execution_count": 2,
     "metadata": {},
     "output_type": "execute_result"
    }
   ],
   "source": [
    "# Загрузить данные из файлов\n",
    "matches706_team_picks = pd.read_csv('table with features teams, heroes & kills (all team) 7.06.csv').drop(['Unnamed: 0'], axis=1)\n",
    "# matches707_team_picks = pd.read_csv('table with carry or support in 7.07 to 29.12.17.csv', index_col=0)\n",
    "\n",
    "# оставить только героев и победитлей и кол-во киллов:\n",
    "matches706_heroes = matches706_team_picks.loc[:, :'Pangolier']\n",
    "matches706_heroes['radiant_win'] = matches706_team_picks['radiant_win']\n",
    "matches706_heroes['kills'] = matches706_team_picks['kills']\n",
    "# выбросить dark Willow и Pangolier\n",
    "matches706_heroes = matches706_heroes.drop(['Dark Willow', 'Pangolier'], axis=1)\n",
    "\n",
    "#чтобы не переписывать код:\n",
    "matches706_team_picks = matches706_heroes\n",
    "\n",
    "matches706_team_picks[:2]"
   ]
  },
  {
   "cell_type": "code",
   "execution_count": 3,
   "metadata": {},
   "outputs": [
    {
     "name": "stdout",
     "output_type": "stream",
     "text": [
      "count    1599.000000\n",
      "mean       51.111320\n",
      "std        16.007824\n",
      "min        11.000000\n",
      "25%        39.000000\n",
      "50%        49.000000\n",
      "75%        61.000000\n",
      "max       129.000000\n",
      "Name: kills, dtype: float64\n",
      "6.0 94.0\n",
      "Int64Index([ 235,  258,  325,  351,  514,  574,  599,  676,  680,  682,  699,\n",
      "             716,  721,  769,  812,  814,  916,  925, 1081, 1209, 1314, 1453,\n",
      "            1459, 1558, 1582],\n",
      "           dtype='int64')\n",
      "25\n"
     ]
    },
    {
     "data": {
      "text/plain": [
       "count    1574.000000\n",
       "mean       50.302414\n",
       "std        14.735473\n",
       "min        11.000000\n",
       "25%        39.000000\n",
       "50%        49.000000\n",
       "75%        60.000000\n",
       "max        93.000000\n",
       "Name: kills, dtype: float64"
      ]
     },
     "execution_count": 3,
     "metadata": {},
     "output_type": "execute_result"
    }
   ],
   "source": [
    "# Проверка киллов на ошибки и выбросы\n",
    "kill = matches706_heroes['kills']\n",
    "print(kill.describe())\n",
    "# Определим квартили 25 и 75 и найдем интерквартильный размах\n",
    "quart25 = kill.quantile(0.25)\n",
    "quart75 = kill.quantile(0.75)\n",
    "iqr = quart75 - quart25\n",
    "# найдем имнимальные и максимальные значения килов за пределами которых лежат выбросы \n",
    "minimum = quart25 - 1.5*iqr\n",
    "maximum = quart75 + 1.5*iqr\n",
    "print (minimum, maximum)\n",
    "# уберем эти выбросы\n",
    "a = kill[kill >= maximum]\n",
    "print (a.index)\n",
    "print (len(a))\n",
    "# выбросить все строчки с индексами в \"а\"\n",
    "matches706_team_picks = matches706_team_picks.drop(a.index)\n",
    "matches706_team_picks['kills'].describe()\n"
   ]
  },
  {
   "cell_type": "code",
   "execution_count": 4,
   "metadata": {
    "collapsed": true
   },
   "outputs": [],
   "source": [
    "# Проверка на то что во всех строчках есть всегда 10 героев\n",
    "# a = matches706_team_picks.loc[:, :'Pangolier']\n",
    "# value = []\n",
    "# for i in range(len(a)):\n",
    "#     arr = []\n",
    "#     for val in a.loc[i, : ]:\n",
    "#         if val != 0 :\n",
    "#             arr.append(val)\n",
    "#     value.append(arr)\n",
    "# for i in value:\n",
    "#     if len(i) !=10:\n",
    "#         print(1)\n"
   ]
  },
  {
   "cell_type": "code",
   "execution_count": 22,
   "metadata": {
    "collapsed": true
   },
   "outputs": [],
   "source": [
    "# # Соединить даныне\n",
    "# matches_team_picks = matches706_team_picks.append(matches707_team_picks).reset_index().drop(['index'], axis=1)\n",
    "\n",
    "#Разделение данных без перемешивания на traning & test для каждого патча и для соединенных данных\n",
    "X_706, y_706 = np.split(matches706_team_picks, [len(matches706_team_picks) - int(len(matches706_team_picks)*0.3)]) \n",
    "# X_707, y_707 = np.split(matches707_team_picks, [len(matches707_team_picks) - int(len(matches707_team_picks)*0.3)]) \n",
    "# X, y = np.split(matches_team_picks, [len(matches_team_picks) - 400]) \n",
    "\n",
    "# X_train = X.drop(['radiant_win'], axis=1)\n",
    "# y_train = X['radiant_win']\n",
    "\n",
    "# X_test = y.drop(['radiant_win'], axis=1)\n",
    "# y_test = y['radiant_win']\n",
    "\n",
    "X_train_706 = X_706.drop(['radiant_win', 'kills'], axis=1)\n",
    "y_train_706_kills = X_706['kills']\n",
    "y_train_706 = X_706['radiant_win']\n",
    "\n",
    "X_test_706 = y_706.drop(['radiant_win','kills'], axis=1)\n",
    "y_test_706_kills = y_706['kills']\n",
    "y_test_706 = y_706['radiant_win']\n",
    "\n",
    "# X_train_707 = X_707.drop(['radiant_win'], axis=1)\n",
    "# y_train_707 = X_707['radiant_win']\n",
    "\n",
    "# X_test_707 = y_707.drop(['radiant_win'], axis=1)\n",
    "# y_test_707 = y_707['radiant_win']\n",
    "\n",
    "# Эти переменные подставляются в модели и тут их можно менять не трогая каждую модель\n",
    "X_train_706_ = X_train_706#[:200]\n",
    "y_train_706_ = y_train_706#[:200]\n",
    "#y_train_706_ = y_train_706_kills#[:200]\n",
    "\n",
    "X_test_706_ = X_test_706#[211:]\n",
    "y_test_706_ = y_test_706#[211:]\n",
    "#y_test_706_ = y_test_706_kills#[211:]"
   ]
  },
  {
   "cell_type": "code",
   "execution_count": 17,
   "metadata": {},
   "outputs": [
    {
     "name": "stdout",
     "output_type": "stream",
     "text": [
      "Обучающие данные -  0.564494963795\n",
      "Тестовые данные -  -0.10365028511\n",
      "0.597457627118644\n",
      "472\n",
      "472\n"
     ]
    }
   ],
   "source": [
    "# Попробуем GBR\n",
    "model = helper.learn_algoritm(GradientBoostingRegressor(n_estimators=200), \n",
    "                                 X_train_706_, y_train_706_, X_test_706_, y_test_706_)\n",
    "a = []\n",
    "median_kills = 46.5\n",
    "for i in range(len(y_test_706_)):\n",
    "    if model.predict(X_test_706_)[i] < median_kills and np.array(y_test_706_)[i] < median_kills:\n",
    "        a.append(1)\n",
    "        continue\n",
    "    if model.predict(X_test_706_)[i] > median_kills and np.array(y_test_706_)[i] > median_kills:\n",
    "        a.append(1)\n",
    "        continue\n",
    "    else:\n",
    "        a.append(0)\n",
    "        continue\n",
    "print (a.count(1) / len(a))\n",
    "print(len(a))\n",
    "print (len(y_test_706_))"
   ]
  },
  {
   "cell_type": "code",
   "execution_count": 32,
   "metadata": {},
   "outputs": [
    {
     "name": "stdout",
     "output_type": "stream",
     "text": [
      "Обучающие данные -  0.621597096189\n",
      "Тестовые данные -  0.523305084746\n"
     ]
    }
   ],
   "source": [
    "# Попробуем SVR\n",
    "model = helper.learn_algoritm(KNeighborsClassifier(n_neighbors=11), \n",
    "                                 X_train_706_, y_train_706_, X_test_706_, y_test_706_)\n",
    "# a = []\n",
    "# median_kills = 49\n",
    "# for i in range(len(y_test_706_)):\n",
    "#     if model.predict(X_test_706_)[i] < median_kills and np.array(y_test_706_)[i] < median_kills:\n",
    "#         a.append(1)\n",
    "#         continue\n",
    "#     if model.predict(X_test_706_)[i] > median_kills and np.array(y_test_706_)[i] > median_kills:\n",
    "#         a.append(1)\n",
    "#         continue\n",
    "#     else:\n",
    "#         a.append(0)\n",
    "#         continue\n",
    "# print (a.count(1) / len(a))\n",
    "# print(len(a))\n",
    "# print (len(y_test_706_))"
   ]
  },
  {
   "cell_type": "code",
   "execution_count": 21,
   "metadata": {},
   "outputs": [
    {
     "data": {
      "text/plain": [
       "array([ 47.62142096,  48.45046493,  48.63165391,  48.93141846,\n",
       "        48.99434848,  47.96665817,  47.97382822,  48.5541399 ,\n",
       "        47.44262015,  48.99033822,  47.76511536,  47.42991665,\n",
       "        47.84186093,  49.61391248,  48.41775227,  49.25630524,\n",
       "        48.04007286,  48.01999696,  48.56907177,  48.39217925,\n",
       "        47.7105245 ,  48.48681691,  48.91866987,  47.90829434,\n",
       "        48.15760338,  48.38404642,  48.42065512,  47.81470858,\n",
       "        47.69610665,  47.73580183,  48.77639795,  48.3144404 ,\n",
       "        48.28632387,  48.56032992,  48.9047301 ,  48.48203917,\n",
       "        49.3983706 ,  48.2300358 ,  49.64052112,  48.04440652,\n",
       "        48.00923209,  47.98875114,  47.3768721 ,  49.040918  ,\n",
       "        48.91132956,  48.17279221,  48.99882421,  47.81269603,\n",
       "        48.33983586,  48.22335789,  48.31472003,  46.9575833 ,\n",
       "        48.14373517,  48.5486545 ,  49.06116535,  48.01825339,\n",
       "        48.2483066 ,  49.66386822,  48.64418953,  48.68767214,\n",
       "        48.09259942,  47.61109403,  47.83092417,  49.42143674,\n",
       "        47.93244997,  47.36274514,  47.91841133,  48.41367282,\n",
       "        47.99193882,  48.11872416,  46.87595574,  47.533233  ,\n",
       "        47.8432674 ,  48.16038646,  48.31855275,  47.40726155,\n",
       "        48.36595288,  47.63557666,  47.7759971 ,  47.67384387,\n",
       "        47.1616581 ,  48.50607269,  48.09968065,  48.07516872,\n",
       "        48.98109174,  48.99859725,  48.50538023,  48.93469567,\n",
       "        49.0042467 ,  48.90948379,  48.1054664 ,  48.43925231,\n",
       "        48.92972133,  48.63410967,  49.34656292,  48.9742205 ,\n",
       "        47.41804617,  47.72661967,  47.92112014,  48.84528491,\n",
       "        47.55808795,  48.696995  ,  48.29412182,  47.85027957,\n",
       "        48.45089932,  48.11547873,  48.73226384,  47.76876769,\n",
       "        47.78589138,  46.94868047,  48.18451576,  47.66860696,\n",
       "        47.68449385,  48.05406549,  48.00340417,  48.26982721,\n",
       "        47.69638429,  48.15904665,  48.9246844 ,  48.09650971,\n",
       "        46.88165303,  48.59851456,  47.38919539,  48.00415044,\n",
       "        46.96422824,  47.80284678,  48.9331339 ,  47.26505243,\n",
       "        48.70726689,  47.75425891,  47.47957351,  47.46054271,\n",
       "        47.24458303,  47.57962279,  48.71385817,  47.93557712,\n",
       "        48.67738682,  49.53094424,  48.9626945 ,  48.72218324,\n",
       "        47.97581128,  47.67680463,  48.32134652,  48.92423839,\n",
       "        47.66460123,  47.56927862,  47.52026626,  47.85671567,\n",
       "        47.84763407,  48.45346241,  48.85315918,  49.08186931,\n",
       "        48.46037239,  48.84967354,  47.56959944,  48.98829205,\n",
       "        48.20183991,  47.24837491,  49.08062731,  48.8710596 ,\n",
       "        49.31653204,  47.41877457,  48.34152238,  48.41477775,\n",
       "        48.66902809,  47.41417188,  47.73133847,  48.51744464,\n",
       "        48.10323475,  47.30606386,  48.43260414,  48.65367903,\n",
       "        48.56089562,  48.70860074,  48.37206577,  49.38108508,\n",
       "        49.51864482,  48.32883028,  48.29274987,  48.81548404,\n",
       "        47.41277788,  47.86669485,  48.20145775,  47.41394638,\n",
       "        48.81463664,  48.10879913,  48.18432625,  47.3068201 ,\n",
       "        48.35221531,  47.94609908,  46.75223287,  48.28918175,\n",
       "        48.87002095,  45.79594627,  48.49976625,  48.84819645,\n",
       "        48.59380283,  48.56232185,  48.97297344,  46.9898168 ,\n",
       "        47.42944263,  47.64306237,  48.38429447,  48.18576396,\n",
       "        48.66947036,  49.16139217,  48.51286365,  48.33100443,\n",
       "        47.35540154,  47.77291659,  48.19759739,  48.25836662,\n",
       "        48.66075826,  48.10501915,  47.44395623,  48.73618996,\n",
       "        48.19853136,  47.91600641,  47.50512278,  48.67492904,\n",
       "        48.47874822,  49.10976134,  48.2653146 ,  47.09034531,\n",
       "        48.84393341,  48.77253277,  47.41651258,  49.25327854,\n",
       "        47.85998813,  48.05081479,  48.06560862,  48.14044202,\n",
       "        49.03992943,  48.70645778,  47.96857963,  47.7606786 ,\n",
       "        48.50766568,  47.27704825,  48.02272265,  47.18014834,\n",
       "        47.96070767,  47.49715231,  47.09058184,  47.87685476,\n",
       "        49.26279212,  47.71273553,  48.30911905,  47.54003963,\n",
       "        47.29743699,  47.91510216,  47.85483974,  47.55533818,\n",
       "        48.77169593,  47.36698408,  47.17538127,  48.13575353,\n",
       "        48.42474524,  49.23859685,  48.37435503,  48.01081213,\n",
       "        48.43967215,  48.50764603,  48.22688166,  48.73911047,\n",
       "        47.27027222,  47.52774863,  47.41499003,  48.42192558,\n",
       "        47.90269795,  48.46278547,  47.83129277,  48.42159432,\n",
       "        47.60032615,  47.68854209,  49.13101413,  48.00483374,\n",
       "        48.63678622,  49.05732279,  48.14735137,  48.44780755,\n",
       "        48.42750386,  47.45213777,  48.47931215,  48.05921725,\n",
       "        48.73304874,  48.52784321,  47.81112103,  47.95738651,\n",
       "        47.60373876,  48.21080428,  48.51971659,  49.1972621 ,\n",
       "        48.19340544,  48.1404986 ,  47.58560286,  47.46978285,\n",
       "        47.75612355,  47.5114261 ,  47.93220928,  49.08435004,\n",
       "        47.18428426,  47.63201146,  47.84133778,  48.30661076,\n",
       "        48.4105236 ,  47.76585   ,  46.89118425,  48.46179423,\n",
       "        48.16581355,  47.0728421 ,  48.59646267,  48.07445546,\n",
       "        47.24724273,  48.44375487,  48.55921843,  46.92918202,\n",
       "        47.72352265,  47.88171679,  48.14545687,  47.90138242,\n",
       "        47.22500612,  47.95996264,  48.35391254,  48.38185047,\n",
       "        47.44570144,  47.93383654,  48.49922347,  48.87916747,\n",
       "        48.54148225,  49.08421194,  47.45432265,  47.09743136,\n",
       "        48.67550394,  48.4869717 ,  47.73830265,  49.32654245,\n",
       "        48.50634838,  48.56088703,  48.8194669 ,  48.78267609,\n",
       "        48.72370423,  47.26913432,  47.59773185,  47.89086365,\n",
       "        47.7268971 ,  48.10535413,  47.09834725,  48.16331473,\n",
       "        47.4512671 ,  49.18458164,  46.82004927,  47.2259098 ,\n",
       "        48.2412483 ,  48.68877704,  48.19241047,  47.22731763,\n",
       "        47.49950726,  48.00305583,  48.36268947,  48.14802869,\n",
       "        48.79786202,  48.13351084,  47.54917796,  47.56951975,\n",
       "        48.67025395,  47.17456419,  48.46926192,  48.08278155,\n",
       "        48.12634327,  48.90166205,  47.75798673,  48.00212539,\n",
       "        48.82327821,  47.24086532,  48.30059827,  47.48619112,\n",
       "        48.51731796,  48.21443981,  48.13993308,  47.99829314,\n",
       "        47.53385212,  48.61060374,  48.62531561,  48.06541228,\n",
       "        47.13726714,  48.38203819,  47.59008134,  48.88390621,\n",
       "        48.09177354,  47.77048922,  48.60632834,  49.54575218,\n",
       "        48.19611349,  48.66140221,  48.76705205,  48.76420251,\n",
       "        48.41293675,  48.2586235 ,  48.28592923,  47.3621614 ,\n",
       "        48.10131993,  48.00855943,  48.41623933,  48.09160628,\n",
       "        49.15515897,  48.86985826,  47.66765144,  47.44211567,\n",
       "        48.23750995,  47.38199557,  47.56969823,  47.58418673,\n",
       "        48.18880542,  47.12426062,  48.09001479,  47.29092326,\n",
       "        47.00402627,  48.18007204,  49.11370239,  48.54495726,\n",
       "        47.01427771,  48.02213979,  48.77075567,  47.59745032,\n",
       "        48.66991752,  48.24322265,  47.70092649,  48.06548272,\n",
       "        47.26873739,  48.30290685,  48.2146035 ,  47.15015943,\n",
       "        47.22482028,  47.58699728,  48.96683263,  48.37269152,\n",
       "        48.40524472,  48.8968669 ,  48.13596826,  47.85645158,\n",
       "        47.36000957,  48.03851191,  47.75995323,  47.48902528,\n",
       "        48.23360982,  47.66809527,  48.03681058,  47.72979159,\n",
       "        47.87224389,  48.45666102,  48.55190228,  48.30450173,\n",
       "        47.77582481,  47.15439018,  48.63181987,  47.71522592,\n",
       "        48.39437801,  46.7026906 ,  48.28698647,  49.37271907,\n",
       "        48.46130838,  48.88075889,  48.1574026 ,  47.23903591,\n",
       "        48.73621993,  48.00532775,  48.17264247,  47.9102523 ,\n",
       "        47.61846756,  48.68394557,  46.65436559,  49.23693308])"
      ]
     },
     "execution_count": 21,
     "metadata": {},
     "output_type": "execute_result"
    }
   ],
   "source": [
    "model.predict(X_test_706_)"
   ]
  },
  {
   "cell_type": "code",
   "execution_count": null,
   "metadata": {
    "collapsed": true
   },
   "outputs": [],
   "source": []
  },
  {
   "cell_type": "code",
   "execution_count": null,
   "metadata": {
    "collapsed": true
   },
   "outputs": [],
   "source": []
  },
  {
   "cell_type": "code",
   "execution_count": null,
   "metadata": {
    "collapsed": true
   },
   "outputs": [],
   "source": []
  },
  {
   "cell_type": "code",
   "execution_count": null,
   "metadata": {
    "collapsed": true
   },
   "outputs": [],
   "source": []
  },
  {
   "cell_type": "code",
   "execution_count": 87,
   "metadata": {},
   "outputs": [
    {
     "name": "stdout",
     "output_type": "stream",
     "text": [
      "# 10\n",
      "Time elapsed: 0:00:03.810542\n",
      "[ 0.53038991  0.45034415  0.53518733  0.55729815  0.51843128]\n",
      "# 20\n",
      "Time elapsed: 0:00:03.826652\n",
      "[ 0.54071101  0.42219764  0.51877487  0.52518463  0.52607654]\n",
      "# 30\n",
      "Time elapsed: 0:00:03.798804\n",
      "[ 0.53206913  0.41658473  0.54463694  0.55779603  0.50508306]\n",
      "# 50\n",
      "Time elapsed: 0:00:03.767260\n",
      "[ 0.5315367   0.41748607  0.53717672  0.59024147  0.48966857]\n",
      "# 100\n",
      "Time elapsed: 0:00:03.898479\n",
      "[ 0.53227392  0.45235169  0.51827752  0.59190109  0.49119762]\n",
      "# 250\n",
      "Time elapsed: 0:00:04.201067\n",
      "[ 0.51671035  0.44157653  0.5227122   0.57887312  0.50152905]\n"
     ]
    }
   ],
   "source": [
    "\n",
    "kf = KFold(n_splits=5, shuffle=True, random_state=42)\n",
    "\n",
    "scores = []\n",
    "nums = [10, 20, 30, 50, 100, 250]\n",
    "for n in nums:\n",
    "    print ('#', str(n))\n",
    "    model = GradientBoostingClassifier(n_estimators=n, random_state=42)\n",
    "    start_time = datetime.datetime.now()\n",
    "    model_scores = cross_val_score(model, X_train_706_, y_train_706_, cv=kf, scoring='roc_auc', n_jobs=-1)\n",
    "    print ('Time elapsed:', datetime.datetime.now() - start_time)\n",
    "    print (model_scores)\n",
    "    scores.append(np.mean(model_scores))\n",
    "\n"
   ]
  },
  {
   "cell_type": "code",
   "execution_count": null,
   "metadata": {
    "collapsed": true
   },
   "outputs": [],
   "source": []
  },
  {
   "cell_type": "code",
   "execution_count": null,
   "metadata": {
    "collapsed": true
   },
   "outputs": [],
   "source": []
  },
  {
   "cell_type": "code",
   "execution_count": null,
   "metadata": {
    "collapsed": true
   },
   "outputs": [],
   "source": []
  },
  {
   "cell_type": "code",
   "execution_count": null,
   "metadata": {
    "collapsed": true
   },
   "outputs": [],
   "source": []
  },
  {
   "cell_type": "code",
   "execution_count": null,
   "metadata": {
    "collapsed": true
   },
   "outputs": [],
   "source": []
  },
  {
   "cell_type": "code",
   "execution_count": null,
   "metadata": {
    "collapsed": true
   },
   "outputs": [],
   "source": []
  }
 ],
 "metadata": {
  "kernelspec": {
   "display_name": "Python 3",
   "language": "python",
   "name": "python3"
  },
  "language_info": {
   "codemirror_mode": {
    "name": "ipython",
    "version": 3
   },
   "file_extension": ".py",
   "mimetype": "text/x-python",
   "name": "python",
   "nbconvert_exporter": "python",
   "pygments_lexer": "ipython3",
   "version": "3.6.3"
  }
 },
 "nbformat": 4,
 "nbformat_minor": 2
}
