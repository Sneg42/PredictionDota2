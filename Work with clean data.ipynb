{
 "cells": [
  {
   "cell_type": "code",
   "execution_count": 81,
   "metadata": {},
   "outputs": [],
   "source": [
    "import pandas as pd\n",
    "import numpy as np\n",
    "import math\n",
    "from sklearn.ensemble import RandomForestClassifier, RandomForestRegressor\n",
    "from sklearn.neural_network import MLPClassifier\n",
    "from sklearn.tree import DecisionTreeClassifier, DecisionTreeRegressor\n",
    "from sklearn.ensemble import GradientBoostingClassifier, GradientBoostingRegressor\n",
    "import helper\n",
    "from sklearn import metrics\n",
    "from sklearn.model_selection import KFold, cross_val_score\n",
    "import time\n",
    "import datetime"
   ]
  },
  {
   "cell_type": "code",
   "execution_count": 66,
   "metadata": {},
   "outputs": [
    {
     "data": {
      "text/plain": [
       "1599"
      ]
     },
     "execution_count": 66,
     "metadata": {},
     "output_type": "execute_result"
    }
   ],
   "source": [
    "# Загрузить данные из файлов\n",
    "matches706_team_picks = pd.read_csv('table with features teams, heroes & kills (all team) 7.06.csv').drop(['Unnamed: 0'], axis=1)\n",
    "# matches707_team_picks = pd.read_csv('table with carry or support in 7.07 to 29.12.17.csv', index_col=0)\n",
    "\n",
    "# оставить только героев:\n",
    "matches706_heroes = matches706_team_picks.loc[:, :'Pangolier']\n",
    "matches706_heroes['radiant_win'] = matches706_team_picks['radiant_win']\n",
    "matches706_heroes['kills'] = matches706_team_picks['kills']\n",
    "\n",
    "#чтобы не переписывать код:\n",
    "matches706_team_picks = matches706_heroes\n",
    "\n",
    "\n",
    "len(matches706_team_picks)"
   ]
  },
  {
   "cell_type": "code",
   "execution_count": 67,
   "metadata": {},
   "outputs": [
    {
     "name": "stdout",
     "output_type": "stream",
     "text": [
      "count    1599.000000\n",
      "mean       51.111320\n",
      "std        16.007824\n",
      "min        11.000000\n",
      "25%        39.000000\n",
      "50%        49.000000\n",
      "75%        61.000000\n",
      "max       129.000000\n",
      "Name: kills, dtype: float64\n",
      "6.0 94.0\n",
      "Int64Index([ 235,  258,  325,  351,  514,  574,  599,  676,  680,  682,  699,\n",
      "             716,  721,  769,  812,  814,  916,  925, 1081, 1209, 1314, 1453,\n",
      "            1459, 1558, 1582],\n",
      "           dtype='int64')\n",
      "25\n"
     ]
    },
    {
     "data": {
      "text/plain": [
       "count    1574.000000\n",
       "mean       50.302414\n",
       "std        14.735473\n",
       "min        11.000000\n",
       "25%        39.000000\n",
       "50%        49.000000\n",
       "75%        60.000000\n",
       "max        93.000000\n",
       "Name: kills, dtype: float64"
      ]
     },
     "execution_count": 67,
     "metadata": {},
     "output_type": "execute_result"
    }
   ],
   "source": [
    "# Проверка киллов на ошибки и выбросы\n",
    "kill = matches706_heroes['kills']\n",
    "print(kill.describe())\n",
    "# Определим квартили 25 и 75 и найдем интерквартильный размах\n",
    "quart25 = kill.quantile(0.25)\n",
    "quart75 = kill.quantile(0.75)\n",
    "iqr = quart75 - quart25\n",
    "# найдем имнимальные и максимальные значения килов за пределами которых лежат выбросы \n",
    "minimum = quart25 - 1.5*iqr\n",
    "maximum = quart75 + 1.5*iqr\n",
    "print (minimum, maximum)\n",
    "# уберем эти выбросы\n",
    "a = kill[kill >= maximum]\n",
    "print (a.index)\n",
    "print (len(a))\n",
    "# выбросить все строчки с индексами в \"а\"\n",
    "matches706_team_picks = matches706_team_picks.drop(a.index)\n",
    "matches706_team_picks['kills'].describe()\n"
   ]
  },
  {
   "cell_type": "code",
   "execution_count": 61,
   "metadata": {},
   "outputs": [],
   "source": [
    "# Проверка на то что во всех строчках есть всегда 10 героев\n",
    "# a = matches706_team_picks.loc[:, :'Pangolier']\n",
    "# value = []\n",
    "# for i in range(len(a)):\n",
    "#     arr = []\n",
    "#     for val in a.loc[i, : ]:\n",
    "#         if val != 0 :\n",
    "#             arr.append(val)\n",
    "#     value.append(arr)\n",
    "# for i in value:\n",
    "#     if len(i) !=10:\n",
    "#         print(1)\n"
   ]
  },
  {
   "cell_type": "code",
   "execution_count": 86,
   "metadata": {},
   "outputs": [],
   "source": [
    "# # Соединить даныне\n",
    "# matches_team_picks = matches706_team_picks.append(matches707_team_picks).reset_index().drop(['index'], axis=1)\n",
    "\n",
    "#Разделение данных без перемешивания на traning & test для каждого патча и для соединенных данных\n",
    "X_706, y_706 = np.split(matches706_team_picks, [len(matches706_team_picks) - int(len(matches706_team_picks)*0.3)]) \n",
    "# X_707, y_707 = np.split(matches707_team_picks, [len(matches707_team_picks) - int(len(matches707_team_picks)*0.3)]) \n",
    "# X, y = np.split(matches_team_picks, [len(matches_team_picks) - 400]) \n",
    "\n",
    "# X_train = X.drop(['radiant_win'], axis=1)\n",
    "# y_train = X['radiant_win']\n",
    "\n",
    "# X_test = y.drop(['radiant_win'], axis=1)\n",
    "# y_test = y['radiant_win']\n",
    "\n",
    "X_train_706 = X_706.drop(['radiant_win', 'kills'], axis=1)\n",
    "y_train_706_kills = X_706['kills']\n",
    "y_train_706 = X_706['radiant_win']\n",
    "\n",
    "X_test_706 = y_706.drop(['radiant_win','kills'], axis=1)\n",
    "y_test_706_kills = y_706['kills']\n",
    "y_test_706 = y_706['radiant_win']\n",
    "\n",
    "# X_train_707 = X_707.drop(['radiant_win'], axis=1)\n",
    "# y_train_707 = X_707['radiant_win']\n",
    "\n",
    "# X_test_707 = y_707.drop(['radiant_win'], axis=1)\n",
    "# y_test_707 = y_707['radiant_win']\n",
    "\n",
    "# Эти переменные подставляются в модели и тут их можно менять не трогая каждую модель\n",
    "X_train_706_ = X_train_706#[:200]\n",
    "y_train_706_ = y_train_706#[:200]\n",
    "#y_train_706_ = y_train_706_kills#[:200]\n",
    "\n",
    "X_test_706_ = X_test_706[211:]\n",
    "y_test_706_ = y_test_706[211:]\n",
    "#y_test_706_ = y_test_706_kills[211:]"
   ]
  },
  {
   "cell_type": "code",
   "execution_count": 64,
   "metadata": {},
   "outputs": [
    {
     "name": "stdout",
     "output_type": "stream",
     "text": [
      "0.524904214559387\n",
      "261\n",
      "261\n"
     ]
    }
   ],
   "source": [
    "# Попробуем GBR\n",
    "gbr_reg = GradientBoostingRegressor(n_estimators=200)\n",
    "gbr_reg.fit(X_train_706_, y_train_706_)\n",
    "\n",
    "a = []\n",
    "for i in range(len(y_test_706_)):\n",
    "    if gbr_reg.predict(X_test_706_)[i] < 49 and np.array(y_test_706_)[i] < 49:\n",
    "        a.append(1)\n",
    "        continue\n",
    "    if gbr_reg.predict(X_test_706_)[i] > 49 and np.array(y_test_706_)[i] > 49:\n",
    "        a.append(1)\n",
    "        continue\n",
    "    else:\n",
    "        a.append(0)\n",
    "        continue\n",
    "print (a.count(1) / len(a))\n",
    "print(len(a))\n",
    "print (len(y_test_706_))"
   ]
  },
  {
   "cell_type": "code",
   "execution_count": 87,
   "metadata": {},
   "outputs": [
    {
     "name": "stdout",
     "output_type": "stream",
     "text": [
      "# 10\n",
      "Time elapsed: 0:00:03.810542\n",
      "[ 0.53038991  0.45034415  0.53518733  0.55729815  0.51843128]\n",
      "# 20\n",
      "Time elapsed: 0:00:03.826652\n",
      "[ 0.54071101  0.42219764  0.51877487  0.52518463  0.52607654]\n",
      "# 30\n",
      "Time elapsed: 0:00:03.798804\n",
      "[ 0.53206913  0.41658473  0.54463694  0.55779603  0.50508306]\n",
      "# 50\n",
      "Time elapsed: 0:00:03.767260\n",
      "[ 0.5315367   0.41748607  0.53717672  0.59024147  0.48966857]\n",
      "# 100\n",
      "Time elapsed: 0:00:03.898479\n",
      "[ 0.53227392  0.45235169  0.51827752  0.59190109  0.49119762]\n",
      "# 250\n",
      "Time elapsed: 0:00:04.201067\n",
      "[ 0.51671035  0.44157653  0.5227122   0.57887312  0.50152905]\n"
     ]
    }
   ],
   "source": [
    "\n",
    "kf = KFold(n_splits=5, shuffle=True, random_state=42)\n",
    "\n",
    "scores = []\n",
    "nums = [10, 20, 30, 50, 100, 250]\n",
    "for n in nums:\n",
    "    print ('#', str(n))\n",
    "    model = GradientBoostingClassifier(n_estimators=n, random_state=42)\n",
    "    start_time = datetime.datetime.now()\n",
    "    model_scores = cross_val_score(model, X_train_706_, y_train_706_, cv=kf, scoring='roc_auc', n_jobs=-1)\n",
    "    print ('Time elapsed:', datetime.datetime.now() - start_time)\n",
    "    print (model_scores)\n",
    "    scores.append(np.mean(model_scores))\n",
    "\n"
   ]
  },
  {
   "cell_type": "code",
   "execution_count": null,
   "metadata": {},
   "outputs": [],
   "source": []
  },
  {
   "cell_type": "code",
   "execution_count": null,
   "metadata": {},
   "outputs": [],
   "source": []
  },
  {
   "cell_type": "code",
   "execution_count": null,
   "metadata": {},
   "outputs": [],
   "source": []
  },
  {
   "cell_type": "code",
   "execution_count": null,
   "metadata": {},
   "outputs": [],
   "source": []
  },
  {
   "cell_type": "code",
   "execution_count": null,
   "metadata": {},
   "outputs": [],
   "source": []
  },
  {
   "cell_type": "code",
   "execution_count": null,
   "metadata": {
    "collapsed": true
   },
   "outputs": [],
   "source": []
  }
 ],
 "metadata": {
  "kernelspec": {
   "display_name": "Python 3",
   "language": "python",
   "name": "python3"
  },
  "language_info": {
   "codemirror_mode": {
    "name": "ipython",
    "version": 3
   },
   "file_extension": ".py",
   "mimetype": "text/x-python",
   "name": "python",
   "nbconvert_exporter": "python",
   "pygments_lexer": "ipython3",
   "version": "3.6.3"
  }
 },
 "nbformat": 4,
 "nbformat_minor": 2
}
