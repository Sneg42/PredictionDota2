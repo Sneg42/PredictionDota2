{
 "cells": [
  {
   "cell_type": "code",
   "execution_count": 2,
   "metadata": {
    "collapsed": true
   },
   "outputs": [],
   "source": [
    "import pandas as pd\n",
    "import numpy as np\n",
    "import urllib.request, json\n",
    "from pandas.io.json import json_normalize\n",
    "\n",
    "# записать JSON объект с сайта по id матчу\n",
    "def get_match_on_id(ID, site_name='https://api.opendota.com/api/matches/'):\n",
    "    #название сайта для одного матча\n",
    "    site = site_name + str(ID)\n",
    "    #Прочитаь JSON с сайта для одного матча\n",
    "    with urllib.request.urlopen(site) as url:\n",
    "        return json.loads(url.read().decode())\n",
    "\n",
    "# Вытащить данные из json объекта по ключу в виде датафрейма\n",
    "def get_from_JSON_for_key(data, key):\n",
    "    return pd.DataFrame(data.get(key))\n",
    "\n",
    "# Вытащить имя команды из объекта json по их ID\n",
    "def get_teamName(data, dire_or_radiant):\n",
    "    team_id = data.get(dire_or_radiant + '_team').get('team_id')\n",
    "    data_name_teams = get_match_on_id(team_id, 'https://api.opendota.com/api/teams/')\n",
    "    return data_name_teams.get(\"name\")\n",
    "\n",
    "# Вытащить ID команды из моего файла НАПИСАТЬ ФУНКЦИЮ\n"
   ]
  },
  {
   "cell_type": "code",
   "execution_count": 117,
   "metadata": {
    "collapsed": true
   },
   "outputs": [],
   "source": [
    "matches_path707 = pd.read_csv('id for 7.07 to 29.12.2017.csv')\n",
    "\n",
    "#в списке матчей взять id одного матча\n",
    "#ID = matches_path707['match_id'].iloc[14]\n",
    "ID = 3572455421\n",
    "data = get_match_on_id(ID)"
   ]
  },
  {
   "cell_type": "code",
   "execution_count": 130,
   "metadata": {},
   "outputs": [
    {
     "name": "stdout",
     "output_type": "stream",
     "text": [
      "d\n"
     ]
    }
   ],
   "source": [
    "get_from_JSON_for_key(data, 'picks_bans')\n",
    "len(result_with_picks_bans['hero_id'])\n",
    "try:\n",
    "    print (data.get('dire_team').get())\n",
    "except AttributeError:\n",
    "    print ('d')"
   ]
  },
  {
   "cell_type": "markdown",
   "metadata": {},
   "source": [
    "# Вытащить победили ли radiant"
   ]
  },
  {
   "cell_type": "code",
   "execution_count": 119,
   "metadata": {},
   "outputs": [
    {
     "data": {
      "text/plain": [
       "1"
      ]
     },
     "execution_count": 119,
     "metadata": {},
     "output_type": "execute_result"
    }
   ],
   "source": [
    "radiant_win = data.get('players').pop().get('radiant_win')\n",
    "int(radiant_win)"
   ]
  },
  {
   "cell_type": "markdown",
   "metadata": {},
   "source": [
    "# Пики и баны по одному матчу"
   ]
  },
  {
   "cell_type": "code",
   "execution_count": 95,
   "metadata": {},
   "outputs": [
    {
     "data": {
      "text/html": [
       "<div>\n",
       "<style>\n",
       "    .dataframe thead tr:only-child th {\n",
       "        text-align: right;\n",
       "    }\n",
       "\n",
       "    .dataframe thead th {\n",
       "        text-align: left;\n",
       "    }\n",
       "\n",
       "    .dataframe tbody tr th {\n",
       "        vertical-align: top;\n",
       "    }\n",
       "</style>\n",
       "<table border=\"1\" class=\"dataframe\">\n",
       "  <thead>\n",
       "    <tr style=\"text-align: right;\">\n",
       "      <th></th>\n",
       "      <th>first_ban_radiant</th>\n",
       "      <th>ban1</th>\n",
       "      <th>ban2</th>\n",
       "      <th>ban3</th>\n",
       "      <th>ban4</th>\n",
       "      <th>ban5</th>\n",
       "      <th>ban6</th>\n",
       "      <th>pick1</th>\n",
       "      <th>pick2</th>\n",
       "      <th>pick3</th>\n",
       "      <th>...</th>\n",
       "      <th>ban9</th>\n",
       "      <th>ban10</th>\n",
       "      <th>pick5</th>\n",
       "      <th>pick6</th>\n",
       "      <th>pick7</th>\n",
       "      <th>pick8</th>\n",
       "      <th>ban11</th>\n",
       "      <th>ban12</th>\n",
       "      <th>pick9</th>\n",
       "      <th>pick10</th>\n",
       "    </tr>\n",
       "  </thead>\n",
       "  <tbody>\n",
       "    <tr>\n",
       "      <th>0</th>\n",
       "      <td>1</td>\n",
       "      <td>6</td>\n",
       "      <td>100</td>\n",
       "      <td>92</td>\n",
       "      <td>71</td>\n",
       "      <td>53</td>\n",
       "      <td>60</td>\n",
       "      <td>3</td>\n",
       "      <td>88</td>\n",
       "      <td>58</td>\n",
       "      <td>...</td>\n",
       "      <td>43</td>\n",
       "      <td>109</td>\n",
       "      <td>74</td>\n",
       "      <td>15</td>\n",
       "      <td>114</td>\n",
       "      <td>65</td>\n",
       "      <td>63</td>\n",
       "      <td>29</td>\n",
       "      <td>103</td>\n",
       "      <td>12</td>\n",
       "    </tr>\n",
       "  </tbody>\n",
       "</table>\n",
       "<p>1 rows × 23 columns</p>\n",
       "</div>"
      ],
      "text/plain": [
       "   first_ban_radiant  ban1  ban2  ban3  ban4  ban5  ban6  pick1  pick2  pick3  \\\n",
       "0                  1     6   100    92    71    53    60      3     88     58   \n",
       "\n",
       "    ...    ban9  ban10  pick5  pick6  pick7  pick8  ban11  ban12  pick9  \\\n",
       "0   ...      43    109     74     15    114     65     63     29    103   \n",
       "\n",
       "   pick10  \n",
       "0      12  \n",
       "\n",
       "[1 rows x 23 columns]"
      ]
     },
     "execution_count": 95,
     "metadata": {},
     "output_type": "execute_result"
    }
   ],
   "source": [
    "# Выбрать DF по Picks_bans (пики и баны для матча 3534749496)\n",
    "result = get_from_JSON_for_key(data, 'picks_bans') # можно и другим путем => json_normalize(data = data, record_path='picks_bans')\n",
    "# result = result[result['is_pick']== True].drop(['ord', 'order'], axis=1)\n",
    "\n",
    "# Первый пик радиант\n",
    "first_ban_radiant = (int)(not bool(result['team'][0]))\n",
    "\n",
    "# Запись всех пиков и банов подряд из DF по пикам и банам в массив\n",
    "a =[first_ban_radiant]\n",
    "if len(result['hero_id']) == 22:\n",
    "    for id_hero in result['hero_id']:\n",
    "        a.append(id_hero)\n",
    "\n",
    "# Название столбцов в DF пики и баны\n",
    "name_columns_picks_bans =['first_ban_radiant', 'ban1', 'ban2','ban3', 'ban4', 'ban5', 'ban6', 'pick1', 'pick2', 'pick3', 'pick4', \n",
    "                          'ban7', 'ban8','ban9', 'ban10', 'pick5', 'pick6', 'pick7', 'pick8', \n",
    "                          'ban11', 'ban12', 'pick9', 'pick10']\n",
    "# создание DF для пиков и банов с правильным названием столбцов\n",
    "picks_bans = pd.DataFrame([a], columns=name_columns_picks_bans)\n",
    "picks_bans"
   ]
  },
  {
   "cell_type": "markdown",
   "metadata": {},
   "source": [
    "# Название двух команд"
   ]
  },
  {
   "cell_type": "code",
   "execution_count": 120,
   "metadata": {},
   "outputs": [
    {
     "ename": "AttributeError",
     "evalue": "'NoneType' object has no attribute 'get'",
     "output_type": "error",
     "traceback": [
      "\u001b[1;31m---------------------------------------------------------------------------\u001b[0m",
      "\u001b[1;31mAttributeError\u001b[0m                            Traceback (most recent call last)",
      "\u001b[1;32m<ipython-input-120-1e36e05df97f>\u001b[0m in \u001b[0;36m<module>\u001b[1;34m()\u001b[0m\n\u001b[0;32m      1\u001b[0m \u001b[0mradiant_name\u001b[0m \u001b[1;33m=\u001b[0m \u001b[0mget_teamName\u001b[0m\u001b[1;33m(\u001b[0m\u001b[0mdata\u001b[0m\u001b[1;33m,\u001b[0m \u001b[1;34m'radiant'\u001b[0m\u001b[1;33m)\u001b[0m\u001b[1;33m\u001b[0m\u001b[0m\n\u001b[1;32m----> 2\u001b[1;33m \u001b[0mdire_name\u001b[0m \u001b[1;33m=\u001b[0m \u001b[0mget_teamName\u001b[0m\u001b[1;33m(\u001b[0m\u001b[0mdata\u001b[0m\u001b[1;33m,\u001b[0m \u001b[1;34m'dire'\u001b[0m\u001b[1;33m)\u001b[0m\u001b[1;33m\u001b[0m\u001b[0m\n\u001b[0m\u001b[0;32m      3\u001b[0m \u001b[0mprint\u001b[0m \u001b[1;33m(\u001b[0m\u001b[0mradiant_name\u001b[0m\u001b[1;33m)\u001b[0m\u001b[1;33m\u001b[0m\u001b[0m\n\u001b[0;32m      4\u001b[0m \u001b[0mprint\u001b[0m \u001b[1;33m(\u001b[0m\u001b[0mdire_name\u001b[0m\u001b[1;33m)\u001b[0m\u001b[1;33m\u001b[0m\u001b[0m\n",
      "\u001b[1;32m<ipython-input-2-159a09bc5e54>\u001b[0m in \u001b[0;36mget_teamName\u001b[1;34m(data, dire_or_radiant)\u001b[0m\n\u001b[0;32m     18\u001b[0m \u001b[1;31m# Вытащить имя команды из объекта json по их ID\u001b[0m\u001b[1;33m\u001b[0m\u001b[1;33m\u001b[0m\u001b[0m\n\u001b[0;32m     19\u001b[0m \u001b[1;32mdef\u001b[0m \u001b[0mget_teamName\u001b[0m\u001b[1;33m(\u001b[0m\u001b[0mdata\u001b[0m\u001b[1;33m,\u001b[0m \u001b[0mdire_or_radiant\u001b[0m\u001b[1;33m)\u001b[0m\u001b[1;33m:\u001b[0m\u001b[1;33m\u001b[0m\u001b[0m\n\u001b[1;32m---> 20\u001b[1;33m     \u001b[0mteam_id\u001b[0m \u001b[1;33m=\u001b[0m \u001b[0mdata\u001b[0m\u001b[1;33m.\u001b[0m\u001b[0mget\u001b[0m\u001b[1;33m(\u001b[0m\u001b[0mdire_or_radiant\u001b[0m \u001b[1;33m+\u001b[0m \u001b[1;34m'_team'\u001b[0m\u001b[1;33m)\u001b[0m\u001b[1;33m.\u001b[0m\u001b[0mget\u001b[0m\u001b[1;33m(\u001b[0m\u001b[1;34m'team_id'\u001b[0m\u001b[1;33m)\u001b[0m\u001b[1;33m\u001b[0m\u001b[0m\n\u001b[0m\u001b[0;32m     21\u001b[0m     \u001b[0mdata_name_teams\u001b[0m \u001b[1;33m=\u001b[0m \u001b[0mget_match_on_id\u001b[0m\u001b[1;33m(\u001b[0m\u001b[0mteam_id\u001b[0m\u001b[1;33m,\u001b[0m \u001b[1;34m'https://api.opendota.com/api/teams/'\u001b[0m\u001b[1;33m)\u001b[0m\u001b[1;33m\u001b[0m\u001b[0m\n\u001b[0;32m     22\u001b[0m     \u001b[1;32mreturn\u001b[0m \u001b[0mdata_name_teams\u001b[0m\u001b[1;33m.\u001b[0m\u001b[0mget\u001b[0m\u001b[1;33m(\u001b[0m\u001b[1;34m\"name\"\u001b[0m\u001b[1;33m)\u001b[0m\u001b[1;33m\u001b[0m\u001b[0m\n",
      "\u001b[1;31mAttributeError\u001b[0m: 'NoneType' object has no attribute 'get'"
     ]
    }
   ],
   "source": [
    "radiant_name = get_teamName(data, 'radiant')\n",
    "dire_name = get_teamName(data, 'dire')\n",
    "print (radiant_name)\n",
    "print (dire_name)"
   ]
  },
  {
   "cell_type": "code",
   "execution_count": 97,
   "metadata": {},
   "outputs": [
    {
     "name": "stdout",
     "output_type": "stream",
     "text": [
      "4\n",
      "5\n"
     ]
    }
   ],
   "source": [
    "# Вытащить ID команд из моего созданного файла\n",
    "file_name_and_ID_team = json.load(open('ID_nameTeam'))\n",
    "radiant_id = file_name_and_ID_team.get(radiant_name)\n",
    "dire_id = file_name_and_ID_team.get(dire_name)\n",
    "print (radiant_id)\n",
    "print (dire_id)"
   ]
  },
  {
   "cell_type": "markdown",
   "metadata": {
    "collapsed": true
   },
   "source": [
    "# ID и название лиги"
   ]
  },
  {
   "cell_type": "code",
   "execution_count": 98,
   "metadata": {},
   "outputs": [],
   "source": [
    "league = data.get('league')\n",
    "league_name = league.get('name')\n",
    "league_id = league.get('leagueid')"
   ]
  },
  {
   "cell_type": "markdown",
   "metadata": {},
   "source": [
    "# Версия патча"
   ]
  },
  {
   "cell_type": "code",
   "execution_count": 99,
   "metadata": {
    "collapsed": true
   },
   "outputs": [],
   "source": [
    "version_id = data.get('version')"
   ]
  },
  {
   "cell_type": "markdown",
   "metadata": {
    "collapsed": true
   },
   "source": [
    "# Количество убийств в матче"
   ]
  },
  {
   "cell_type": "code",
   "execution_count": 100,
   "metadata": {},
   "outputs": [],
   "source": [
    "dire_score = data.get('dire_score')\n",
    "radiant_score = data.get('radiant_score')"
   ]
  },
  {
   "cell_type": "markdown",
   "metadata": {},
   "source": [
    "# Регион"
   ]
  },
  {
   "cell_type": "code",
   "execution_count": 101,
   "metadata": {
    "collapsed": true
   },
   "outputs": [],
   "source": [
    "region = data.get('region')"
   ]
  },
  {
   "cell_type": "markdown",
   "metadata": {},
   "source": [
    "# Сбор всех данных в таблицу (DataFrame)"
   ]
  },
  {
   "cell_type": "code",
   "execution_count": 102,
   "metadata": {},
   "outputs": [],
   "source": [
    "table_for_match = pd.DataFrame([[ID, version_id, region,  league_name, league_id, radiant_name, radiant_id, dire_name, \n",
    "                                 dire_id, radiant_score, dire_score]], \n",
    "                        columns=['id matches', 'patch', 'region', 'league_name', 'league_id', 'radiant_name', \n",
    "                                 'radiant_id', 'dire_name', 'dire_id', 'radiant_score', 'dire_score'])"
   ]
  },
  {
   "cell_type": "code",
   "execution_count": 103,
   "metadata": {},
   "outputs": [],
   "source": [
    "match_df = pd.merge(table_for_match, picks_bans, left_index=True, right_index=True)\n",
    "match_df['radiant_win'] = radiant_win"
   ]
  },
  {
   "cell_type": "code",
   "execution_count": 104,
   "metadata": {},
   "outputs": [
    {
     "data": {
      "text/html": [
       "<div>\n",
       "<style>\n",
       "    .dataframe thead tr:only-child th {\n",
       "        text-align: right;\n",
       "    }\n",
       "\n",
       "    .dataframe thead th {\n",
       "        text-align: left;\n",
       "    }\n",
       "\n",
       "    .dataframe tbody tr th {\n",
       "        vertical-align: top;\n",
       "    }\n",
       "</style>\n",
       "<table border=\"1\" class=\"dataframe\">\n",
       "  <thead>\n",
       "    <tr style=\"text-align: right;\">\n",
       "      <th></th>\n",
       "      <th>id matches</th>\n",
       "      <th>patch</th>\n",
       "      <th>region</th>\n",
       "      <th>league_name</th>\n",
       "      <th>league_id</th>\n",
       "      <th>radiant_name</th>\n",
       "      <th>radiant_id</th>\n",
       "      <th>dire_name</th>\n",
       "      <th>dire_id</th>\n",
       "      <th>radiant_score</th>\n",
       "      <th>...</th>\n",
       "      <th>ban10</th>\n",
       "      <th>pick5</th>\n",
       "      <th>pick6</th>\n",
       "      <th>pick7</th>\n",
       "      <th>pick8</th>\n",
       "      <th>ban11</th>\n",
       "      <th>ban12</th>\n",
       "      <th>pick9</th>\n",
       "      <th>pick10</th>\n",
       "      <th>radiant_win</th>\n",
       "    </tr>\n",
       "  </thead>\n",
       "  <tbody>\n",
       "    <tr>\n",
       "      <th>0</th>\n",
       "      <td>3534749496</td>\n",
       "      <td>21</td>\n",
       "      <td>12</td>\n",
       "      <td>Dota 2 Professional League 2016</td>\n",
       "      <td>4920</td>\n",
       "      <td>LGD.Forever Young</td>\n",
       "      <td>4</td>\n",
       "      <td>LGD-GAMING</td>\n",
       "      <td>5</td>\n",
       "      <td>52</td>\n",
       "      <td>...</td>\n",
       "      <td>109</td>\n",
       "      <td>74</td>\n",
       "      <td>15</td>\n",
       "      <td>114</td>\n",
       "      <td>65</td>\n",
       "      <td>63</td>\n",
       "      <td>29</td>\n",
       "      <td>103</td>\n",
       "      <td>12</td>\n",
       "      <td>True</td>\n",
       "    </tr>\n",
       "  </tbody>\n",
       "</table>\n",
       "<p>1 rows × 35 columns</p>\n",
       "</div>"
      ],
      "text/plain": [
       "   id matches  patch  region                      league_name  league_id  \\\n",
       "0  3534749496     21      12  Dota 2 Professional League 2016       4920   \n",
       "\n",
       "        radiant_name  radiant_id   dire_name  dire_id  radiant_score  \\\n",
       "0  LGD.Forever Young           4  LGD-GAMING        5             52   \n",
       "\n",
       "      ...       ban10  pick5  pick6  pick7  pick8  ban11  ban12  pick9  \\\n",
       "0     ...         109     74     15    114     65     63     29    103   \n",
       "\n",
       "   pick10  radiant_win  \n",
       "0      12         True  \n",
       "\n",
       "[1 rows x 35 columns]"
      ]
     },
     "execution_count": 104,
     "metadata": {},
     "output_type": "execute_result"
    }
   ],
   "source": [
    "match_df"
   ]
  },
  {
   "cell_type": "code",
   "execution_count": 106,
   "metadata": {},
   "outputs": [
    {
     "data": {
      "text/plain": [
       "1"
      ]
     },
     "execution_count": 106,
     "metadata": {},
     "output_type": "execute_result"
    }
   ],
   "source": [
    "data.get('series_type')"
   ]
  },
  {
   "cell_type": "code",
   "execution_count": null,
   "metadata": {
    "collapsed": true
   },
   "outputs": [],
   "source": []
  }
 ],
 "metadata": {
  "kernelspec": {
   "display_name": "Python 3",
   "language": "python",
   "name": "python3"
  },
  "language_info": {
   "codemirror_mode": {
    "name": "ipython",
    "version": 3
   },
   "file_extension": ".py",
   "mimetype": "text/x-python",
   "name": "python",
   "nbconvert_exporter": "python",
   "pygments_lexer": "ipython3",
   "version": "3.6.3"
  }
 },
 "nbformat": 4,
 "nbformat_minor": 2
}
