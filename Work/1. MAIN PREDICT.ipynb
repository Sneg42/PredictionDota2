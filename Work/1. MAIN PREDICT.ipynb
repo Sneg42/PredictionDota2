{
 "cells": [
  {
   "cell_type": "code",
   "execution_count": 6,
   "metadata": {},
   "outputs": [],
   "source": [
    "import sys\n",
    "sys.path.append('C:\\\\Users\\\\User\\\\1_MY_WORK\\\\1_Data_Scientist_and_ML_Project\\\\PredictionDota2\\\\HelpModules')\n",
    "import pandas as pd\n",
    "import numpy as np\n",
    "import math, json, urllib, pickle\n",
    "from datetime import date, timedelta\n",
    "import xgboost as xgb\n",
    "from connection_to_internet import Connection_to_internet\n",
    "from Prediction import Features, Prediction"
   ]
  },
  {
   "cell_type": "code",
   "execution_count": 7,
   "metadata": {},
   "outputs": [
    {
     "name": "stdout",
     "output_type": "stream",
     "text": [
      "Wall time: 6.11 s\n"
     ]
    }
   ],
   "source": [
    "%%time\n",
    "# Номер последнего патча, Эта переменная подставляется во все ссылки в данном файле\n",
    "# PATCH = '&patch=7.19&patch=7.18&patch=7.17&patch=7.16&patch=7.15&patch=7.14&patch=7.13&patch=7.12'\n",
    "\n",
    "# Указать ID live матча и данные соберуться автоматически\n",
    "match_id = 4143327866\n",
    "\n",
    "cur_match = Features(match_id)\n",
    "cur_match.get_data_players_for_signatures_at_allTime_and_7dayAgo()"
   ]
  },
  {
   "cell_type": "code",
   "execution_count": 8,
   "metadata": {},
   "outputs": [
    {
     "name": "stdout",
     "output_type": "stream",
     "text": [
      "KEEN GAMING  -  2626685\n",
      "Picks -  [9, 79, 114, 110, 33]\n",
      "Players -  [135878232, 397462905, 182325064, 139876032, 134276083]\n",
      "Team Serenity  -  5066616\n",
      "Picks -  [3, 81, 56, 17, 45]\n",
      "Players -  [117731777, 138543123, 168028715, 124936122, 157475523]\n"
     ]
    }
   ],
   "source": [
    "cur_match.get_teams_heroes_players_id()"
   ]
  },
  {
   "cell_type": "code",
   "execution_count": 10,
   "metadata": {},
   "outputs": [
    {
     "name": "stdout",
     "output_type": "stream",
     "text": [
      "Predict\n",
      "[[1813.96974424 1172.48150949 1172.48150949 1817.88032893 2016.98549524\n",
      "  1769.54284902 1769.54284902   98.97705849 1874.22959926 1719.48892898\n",
      "  -203.015751   -597.06133953 -597.06133953  -56.34927033   -6.16946074]]\n",
      "Head-to-Head\n",
      "[[ 12.02954204  -9.03922576 -20.65619189  14.42951095  -8.36631571\n",
      "    3.12272602   1.90144542   2.46445269   3.35533327   0.75872297]]\n",
      "Meta\n",
      "[[ 1.4512535  -7.13434647 -2.6908425   0.81316679  7.21892627  2.47979935\n",
      "   0.         -2.11806406  0.69327135 -1.54548022]]\n",
      "Signatures\n",
      "[[ 10.19488372   0.           0.          -2.19398282  -2.88670274\n",
      "  -11.58647417  15.57199277 -10.68723612   6.15947958  25.86166566]]\n",
      "Meta_7day_ago\n",
      "[[        nan  0.         13.39779708 -3.4709397  40.69785268 31.43933376\n",
      "   0.                 nan 27.65107366 25.57437339]]\n",
      "Signatures_7day_ago\n",
      "[[        nan         nan         nan         nan         nan -8.14930188\n",
      "  -8.14930188 -7.96645161 -8.14930188 -8.14930188]]\n",
      "Wall time: 2.34 s\n"
     ]
    }
   ],
   "source": [
    "%%time\n",
    "all_features = cur_match.get_and_connect_all_data_for_match()\n",
    "cur_match.getHeadToHeadMetaSignaturesForTelegram()"
   ]
  },
  {
   "cell_type": "code",
   "execution_count": 5,
   "metadata": {},
   "outputs": [
    {
     "name": "stdout",
     "output_type": "stream",
     "text": [
      "4143327866     -     Team Serenity      KEEN GAMING\n",
      "xgb_v.1.2.b.66.sav - [[0.76349777 0.23650225]]\n",
      "xgb_v.1.3.b.75.sav - [[0.7587919 0.2412081]]\n",
      "xgb_v.1.4.d.69.sav - [[0.7638131  0.23618694]]\n"
     ]
    }
   ],
   "source": [
    "print (cur_match.match_id, '    -    ', cur_match.dire_team_name, '    ', cur_match.radiant_team_name)\n",
    "filename1 = 'xgb_v.1.2.b.66.sav'\n",
    "name_columns_of_valid_features1 = ['radiant_mu_glicko', 'radiant_rating_glicko',\n",
    "       'radiant_ratingSevenDaysAgo_glicko', 'radiant_mu_glicko2',\n",
    "       'dire_mu_glicko', 'radiant_H1_elo_vs_enemies',\n",
    "       'radiant_H2_elo_vs_enemies', 'radiant_H3_elo_vs_enemies',\n",
    "       'radiant_H4_elo_vs_enemies', 'radiant_H5_elo_vs_enemies',\n",
    "       'dire_H1_elo_vs_enemies', 'dire_H2_elo_vs_enemies',\n",
    "       'dire_H3_elo_vs_enemies', 'dire_H4_elo_vs_enemies',\n",
    "       'dire_H5_elo_vs_enemies', 'radiant_H1_AvgElo', 'radiant_H2_AvgElo',\n",
    "       'radiant_H3_AvgElo', 'radiant_H4_AvgElo', 'radiant_H5_AvgElo',\n",
    "       'dire_H1_AvgElo', 'dire_H2_AvgElo', 'dire_H3_AvgElo', 'dire_H4_AvgElo',\n",
    "       'dire_H5_AvgElo', 'radiant_P1_eloShift', 'radiant_P2_eloShift',\n",
    "       'radiant_P3_eloShift', 'radiant_P4_eloShift', 'radiant_P5_eloShift',\n",
    "       'dire_P1_eloShift', 'dire_P2_eloShift', 'dire_P3_eloShift',\n",
    "       'dire_P4_eloShift', 'Clockwerk', 'Gyrocopter', 'Io', 'Predict',\n",
    "       'radiant_elo_vs_enemies', 'radiant_P_eloShift', 'dire_P_eloShift',\n",
    "       'P_eloShift', 'radiant_H_AvgElo', 'dire_H_AvgElo', 'H_AvgElo']\n",
    "print(Prediction(filename1, name_columns_of_valid_features1, all_features).getTextPredict())\n",
    "\n",
    "filename2 = 'xgb_v.1.3.b.75.sav'\n",
    "name_columns_of_valid_features2 = ['radiant_mu_glicko', 'radiant_rating_glicko',\n",
    "       'radiant_ratingSevenDaysAgo_glicko', 'radiant_mu_glicko2',\n",
    "       'dire_mu_glicko', 'radiant_H1_elo_vs_enemies',\n",
    "       'radiant_H2_elo_vs_enemies', 'radiant_H3_elo_vs_enemies',\n",
    "       'radiant_H4_elo_vs_enemies', 'radiant_H5_elo_vs_enemies',\n",
    "       'dire_H1_elo_vs_enemies', 'dire_H2_elo_vs_enemies',\n",
    "       'dire_H3_elo_vs_enemies', 'dire_H4_elo_vs_enemies',\n",
    "       'dire_H5_elo_vs_enemies', 'radiant_H1_AvgElo', 'radiant_H2_AvgElo',\n",
    "       'radiant_H3_AvgElo', 'radiant_H4_AvgElo', 'radiant_H5_AvgElo',\n",
    "       'dire_H1_AvgElo', 'dire_H2_AvgElo', 'dire_H3_AvgElo', 'dire_H4_AvgElo',\n",
    "       'dire_H5_AvgElo', 'radiant_P1_eloShift', 'radiant_P2_eloShift',\n",
    "       'radiant_P3_eloShift', 'radiant_P4_eloShift', 'radiant_P5_eloShift',\n",
    "       'dire_P1_eloShift', 'dire_P2_eloShift', 'dire_P3_eloShift',\n",
    "       'dire_P4_eloShift', 'dire_P5_eloShift', 'Predict',\n",
    "       'radiant_elo_vs_enemies', 'radiant_P_eloShift', 'dire_P_eloShift',\n",
    "       'P_eloShift', 'radiant_H_AvgElo', 'dire_H_AvgElo', 'H_AvgElo']\n",
    "print(Prediction(filename2, name_columns_of_valid_features2, all_features).getTextPredict())\n",
    "\n",
    "filename3 = 'xgb_v.1.4.d.69.sav'\n",
    "name_columns_of_valid_features3 = ['radiant_mu_glicko', 'radiant_rating_glicko', 'radiant_mu_glicko2',\n",
    "       'dire_mu_glicko', 'radiant_H1_elo_vs_enemies',\n",
    "       'radiant_H2_elo_vs_enemies', 'radiant_H3_elo_vs_enemies',\n",
    "       'radiant_H4_elo_vs_enemies', 'radiant_H5_elo_vs_enemies',\n",
    "       'dire_H1_elo_vs_enemies', 'dire_H2_elo_vs_enemies',\n",
    "       'dire_H4_elo_vs_enemies', 'dire_H5_elo_vs_enemies', 'radiant_H1_AvgElo',\n",
    "       'radiant_H2_AvgElo', 'radiant_H3_AvgElo', 'radiant_H4_AvgElo',\n",
    "       'radiant_H5_AvgElo', 'dire_H1_AvgElo', 'dire_H2_AvgElo',\n",
    "       'dire_H3_AvgElo', 'dire_H4_AvgElo', 'dire_H5_AvgElo',\n",
    "       'radiant_P1_eloShift', 'radiant_P2_eloShift', 'radiant_P3_eloShift',\n",
    "       'radiant_P4_eloShift', 'radiant_P5_eloShift', 'dire_P1_eloShift',\n",
    "       'dire_P3_eloShift', 'dire_P4_eloShift', 'radiant_H1_AvgElo_7day_ago',\n",
    "       'radiant_H2_AvgElo_7day_ago', 'radiant_H3_AvgElo_7day_ago',\n",
    "       'radiant_H4_AvgElo_7day_ago', 'radiant_H5_AvgElo_7day_ago',\n",
    "       'dire_H1_AvgElo_7day_ago', 'dire_H2_AvgElo_7day_ago',\n",
    "       'dire_H3_AvgElo_7day_ago', 'dire_H4_AvgElo_7day_ago',\n",
    "       'radiant_P1_eloShift_7day_ago', 'radiant_P2_eloShift_7day_ago',\n",
    "       'radiant_P3_eloShift_7day_ago', 'radiant_P4_eloShift_7day_ago',\n",
    "       'radiant_P5_eloShift_7day_ago', 'dire_P1_eloShift_7day_ago',\n",
    "       'dire_P2_eloShift_7day_ago', 'dire_P3_eloShift_7day_ago',\n",
    "       'dire_P4_eloShift_7day_ago', 'dire_P5_eloShift_7day_ago',\n",
    "       'radiant_elo_vs_enemies', 'radiant_P_eloShift', 'dire_P_eloShift',\n",
    "       'P_eloShift', 'dire_H_AvgElo', 'H_AvgElo', 'radiant_H_AvgElo_7day_ago',\n",
    "       'dire_H_AvgElo_7day_ago', 'H_AvgElo_7day_ago',\n",
    "       'radiant_P_eloShift_7day_ago', 'P_eloShift_7day_ago']\n",
    "print(Prediction(filename3, name_columns_of_valid_features3, all_features).getTextPredict())"
   ]
  },
  {
   "cell_type": "code",
   "execution_count": null,
   "metadata": {},
   "outputs": [],
   "source": []
  }
 ],
 "metadata": {
  "kernelspec": {
   "display_name": "Python 3",
   "language": "python",
   "name": "python3"
  },
  "language_info": {
   "codemirror_mode": {
    "name": "ipython",
    "version": 3
   },
   "file_extension": ".py",
   "mimetype": "text/x-python",
   "name": "python",
   "nbconvert_exporter": "python",
   "pygments_lexer": "ipython3",
   "version": "3.6.5"
  }
 },
 "nbformat": 4,
 "nbformat_minor": 2
}
