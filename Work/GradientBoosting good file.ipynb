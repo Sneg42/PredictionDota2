{
 "cells": [
  {
   "cell_type": "code",
   "execution_count": 14,
   "metadata": {
    "collapsed": true
   },
   "outputs": [],
   "source": [
    "import pandas as pd\n",
    "import numpy as np\n",
    "import math\n",
    "import helper\n",
    "import time\n",
    "import datetime\n",
    "import matplotlib.pyplot as plt\n",
    "\n",
    "from sklearn.linear_model import LogisticRegression\n",
    "from sklearn.ensemble import RandomForestClassifier, RandomForestRegressor\n",
    "from sklearn.neural_network import MLPClassifier\n",
    "from sklearn.tree import DecisionTreeClassifier, DecisionTreeRegressor\n",
    "from sklearn.ensemble import GradientBoostingClassifier, GradientBoostingRegressor\n",
    "from sklearn.neighbors import KNeighborsClassifier, KNeighborsRegressor\n",
    "from sklearn.svm import SVC, SVR\n",
    "\n",
    "from sklearn import metrics\n",
    "from sklearn.metrics import classification_report\n",
    "from sklearn.model_selection import KFold, cross_val_score, LeaveOneOut, ShuffleSplit, train_test_split, GridSearchCV \n",
    "from sklearn.feature_selection import SelectPercentile, SelectFromModel\n",
    "import pickle    "
   ]
  },
  {
   "cell_type": "markdown",
   "metadata": {},
   "source": [
    "# Подгрузка всех таблиц с данными по матчям"
   ]
  },
  {
   "cell_type": "code",
   "execution_count": 125,
   "metadata": {},
   "outputs": [
    {
     "name": "stdout",
     "output_type": "stream",
     "text": [
      "3729\n",
      "3686\n",
      "3608\n",
      "3564\n",
      "3541\n",
      "3503\n",
      "3464\n"
     ]
    }
   ],
   "source": [
    "# дф с матчами и рейтингом каждой команды с патча 7.01 для Премиум\n",
    "df_rating_teams_Premium = pd.read_csv('../tabel/table from Datdota/Rating teams/PREMIUM (with double Infamous) 7.00+ to 12.02.18.csv', index_col=0)\n",
    "# удалить повторяющиеся матчи с Infamous, и сделать реиндекс \n",
    "df_rating_teams_Premium = df_rating_teams_Premium.drop(1).reset_index().drop('index', axis=1)\n",
    "\n",
    "print (len(df_rating_teams_Premium))\n",
    "df_rating_teams_Premium = df_rating_teams_Premium.drop(\n",
    "    df_rating_teams_Premium[df_rating_teams_Premium['radiant_name'] == 'Digital Chaos'].index)\n",
    "print (len(df_rating_teams_Premium))\n",
    "df_rating_teams_Premium = df_rating_teams_Premium.drop(\n",
    "    df_rating_teams_Premium[df_rating_teams_Premium['dire_name'] == 'Digital Chaos'].index)\n",
    "print (len(df_rating_teams_Premium))\n",
    "df_rating_teams_Premium = df_rating_teams_Premium.drop(\n",
    "    df_rating_teams_Premium[df_rating_teams_Premium['radiant_team_id'] == 5065748].index)\n",
    "print (len(df_rating_teams_Premium))\n",
    "df_rating_teams_Premium = df_rating_teams_Premium.drop(\n",
    "    df_rating_teams_Premium[df_rating_teams_Premium['dire_team_id'] == 5065748].index)\n",
    "print (len(df_rating_teams_Premium))\n",
    "df_rating_teams_Premium = df_rating_teams_Premium.drop(\n",
    "    df_rating_teams_Premium[df_rating_teams_Premium['radiant_team_id'] == 2672298].index)\n",
    "print (len(df_rating_teams_Premium))\n",
    "df_rating_teams_Premium = df_rating_teams_Premium.drop(\n",
    "    df_rating_teams_Premium[df_rating_teams_Premium['dire_team_id'] == 2672298].index)\n",
    "print (len(df_rating_teams_Premium))\n"
   ]
  },
  {
   "cell_type": "code",
   "execution_count": 126,
   "metadata": {
    "collapsed": true
   },
   "outputs": [],
   "source": [
    "# # дф с матчами и рейтингом каждой команды с патча 7.01 для Премиум\n",
    "# df_rating_teams_Premium = pd.read_csv('../tabel/table from Datdota/Rating teams/PREMIUM (with double Infamous) 7.00+ to 12.02.18.csv', index_col=0)\n",
    "# # удалить повторяющиеся матчи с Infamous, и сделать реиндекс \n",
    "# df_rating_teams_Premium = df_rating_teams_Premium.drop(1).reset_index().drop('index', axis=1)\n",
    "\n",
    "# ДФ с контрпиками (head-to-head) с 6,74-7,10 и до 2018.05.06\n",
    "df_contrpick = pd.read_csv(('../tabel/table from Datdota/Heah-to-head Contrpicks/'+\n",
    "                'data from 6.74-7.10 with last day 2018.05.06. 7.00+ to 12.02.18.csv'), index_col=0)\n",
    "\n",
    "# # ДФ с контрпиками (head-to-head) с 6,74-7,09 и до 2018.05.06\n",
    "# df_contrpick = pd.read_csv(('../tabel/table from Datdota/Heah-to-head Contrpicks/'+\n",
    "#                 'data from 6.74-7.09 with last day 2018.05.06. 7.00+ to 12.02.18.csv'), index_col=0)\n",
    "\n",
    "# # ДФ с контрпиками (head-to-head) с 6,74-7,09 и до дня матча\n",
    "# df_contrpick = pd.read_csv(('../tabel/table from Datdota/Heah-to-head Contrpicks/'+\n",
    "#                 'data from 6.74-7.09 before day of match. 7.00+ to 12.02.18.csv'), index_col=0)\n",
    "\n",
    "# ДФ с метовыми героями\n",
    "df_meta_heroes = pd.read_csv('../tabel/table from Datdota/AvgElo Meta and Signatures Heroes/'+\n",
    "                             'Meta 7.00+ to 12.02.18.csv', index_col=0)\n",
    "\n",
    "# ДФ с сигнатурками\n",
    "df_signatures_heroes = pd.read_csv('../tabel/table from Datdota/AvgElo Meta and Signatures Heroes/'+\n",
    "                                   'Sigantures 7.00+ to 12.02.18.csv', index_col=0)\n"
   ]
  },
  {
   "cell_type": "markdown",
   "metadata": {},
   "source": [
    "# Создание основного ДФ для обучения и предсказания"
   ]
  },
  {
   "cell_type": "code",
   "execution_count": 127,
   "metadata": {
    "collapsed": true
   },
   "outputs": [],
   "source": [
    "# Соединение всех данных в один ДФ\n",
    "main = pd.merge(df_rating_teams_Premium, df_contrpick, left_on='match_id', right_on='match_id',how='left')\n",
    "main = pd.merge(main, df_meta_heroes, left_on='match_id', right_on='match_id',how='left')\n",
    "main = pd.merge(main, df_signatures_heroes, left_on='match_id', right_on='match_id',how='left')\n",
    "\n",
    "# # удаление не нужных колонок для обучения\n",
    "main = main.drop(['match_id', 'start_time', 'radiant_team_id', 'radiant_score', 'dire_team_id',\n",
    "           'dire_score', 'radiant_name', 'dire_name'], axis=1)\n",
    "# Оставляю только важные фичи, убираю из рейтинга команд ело32 и ело64\n",
    "main = main.drop(main.loc[:, 'radiant_current_elo32':'radiant_thirtyDayAvg_elo64'], axis=1)\n",
    "main = main.drop(main.loc[:, 'dire_current_elo32':'dire_thirtyDayAvg_elo64'], axis=1)\n",
    "# Заполнить пустые значения на 0\n",
    "main = main.fillna(0)"
   ]
  },
  {
   "cell_type": "code",
   "execution_count": 128,
   "metadata": {},
   "outputs": [
    {
     "data": {
      "text/plain": [
       "3464"
      ]
     },
     "execution_count": 128,
     "metadata": {},
     "output_type": "execute_result"
    }
   ],
   "source": [
    "len(main)"
   ]
  },
  {
   "cell_type": "markdown",
   "metadata": {},
   "source": [
    "# Создание обучающих и тестовых данных"
   ]
  },
  {
   "cell_type": "code",
   "execution_count": 129,
   "metadata": {},
   "outputs": [
    {
     "data": {
      "text/plain": [
       "Index(['radiant_mu_glicko', 'radiant_rating_glicko',\n",
       "       'radiant_ratingSevenDaysAgo_glicko', 'radiant_sigma_glicko',\n",
       "       'radiant_mu_glicko2', 'radiant_phi_glicko2', 'radiant_rating_glicko2',\n",
       "       'radiant_ratingSevenDaysAgo_glicko2', 'dire_mu_glicko',\n",
       "       'dire_rating_glicko', 'dire_ratingSevenDaysAgo_glicko',\n",
       "       'dire_sigma_glicko', 'dire_mu_glicko2', 'dire_phi_glicko2',\n",
       "       'dire_rating_glicko2', 'dire_ratingSevenDaysAgo_glicko2',\n",
       "       'radiant_H1elo_vs_enemies', 'radiant_H2elo_vs_enemies',\n",
       "       'radiant_H3elo_vs_enemies', 'radiant_H4elo_vs_enemies',\n",
       "       'radiant_H5elo_vs_enemies', 'dire_H1elo_vs_enemies',\n",
       "       'dire_H2elo_vs_enemies', 'dire_H3elo_vs_enemies',\n",
       "       'dire_H4elo_vs_enemies', 'dire_H5elo_vs_enemies', 'radiant_H1_AvgElo_x',\n",
       "       'radiant_H2_AvgElo_x', 'radiant_H3_AvgElo_x', 'radiant_H4_AvgElo_x',\n",
       "       'radiant_H5_AvgElo_x', 'dire_H1_AvgElo_x', 'dire_H2_AvgElo_x',\n",
       "       'dire_H3_AvgElo_x', 'dire_H4_AvgElo_x', 'dire_H5_AvgElo_x',\n",
       "       'radiant_H1_AvgElo_y', 'radiant_H2_AvgElo_y', 'radiant_H3_AvgElo_y',\n",
       "       'radiant_H4_AvgElo_y', 'radiant_H5_AvgElo_y', 'dire_H1_AvgElo_y',\n",
       "       'dire_H2_AvgElo_y', 'dire_H3_AvgElo_y', 'dire_H4_AvgElo_y',\n",
       "       'dire_H5_AvgElo_y'],\n",
       "      dtype='object')"
      ]
     },
     "execution_count": 129,
     "metadata": {},
     "output_type": "execute_result"
    }
   ],
   "source": [
    "# удалть имена команд и сделать обучающие данные и ответы\n",
    "X = main.drop(['radiant_win'], axis=1)\n",
    "y = main['radiant_win']\n",
    "\n",
    "# СДЕЛАТЬ 1 или 0 вместо true false\n",
    "y = y.astype(int)\n",
    "\n",
    "# деление на тестовые и обучающую выборку\n",
    "X_train, X_test, y_train, y_test = train_test_split(X,y, random_state=0)\n",
    "X_train.columns"
   ]
  },
  {
   "cell_type": "markdown",
   "metadata": {},
   "source": [
    "# Решетчатый поиск на Gradient Bosting"
   ]
  },
  {
   "cell_type": "code",
   "execution_count": 130,
   "metadata": {},
   "outputs": [
    {
     "name": "stdout",
     "output_type": "stream",
     "text": [
      "Наилучшие значения параметров: {'max_depth': 10, 'max_features': 40, 'n_estimators': 100}\n",
      "------------------------------------------------------------------------------------------------\n",
      "Модель обученная на данных контрпиков до июня 2018\n",
      "             precision    recall  f1-score   support\n",
      "\n",
      "   dire_win       0.75      0.71      0.73       419\n",
      "radiant_win       0.74      0.78      0.76       447\n",
      "\n",
      "avg / total       0.74      0.74      0.74       866\n",
      "\n",
      "Wall time: 16.3 s\n"
     ]
    }
   ],
   "source": [
    "%%time\n",
    "# # Праметры GB\n",
    "# param_grid = {'n_estimators': [50, 100, 150], 'max_depth': [10, 25, 50, 100],\n",
    "#               'max_features': [10, 20, 40]}\n",
    "param_grid = {'n_estimators': [100], 'max_depth': [10],\n",
    "              'max_features': [40]}\n",
    "grid_search_GB = GridSearchCV(GradientBoostingClassifier(), param_grid, cv=5, n_jobs=-1)\n",
    "\n",
    "grid_search_GB.fit(X_train,y_train)\n",
    "\n",
    "print(\"Наилучшие значения параметров: {}\".format(grid_search_GB.best_params_))\n",
    "print('------------------------------------------------------------------------------------------------')\n",
    "print (\"Модель обученная на данных контрпиков до июня 2018\")\n",
    "print(classification_report(y_test, grid_search_GB.predict(X_test), target_names=['dire_win', 'radiant_win']))"
   ]
  },
  {
   "cell_type": "code",
   "execution_count": 113,
   "metadata": {
    "collapsed": true
   },
   "outputs": [],
   "source": [
    "# save the model to disk\n",
    "filename = 'grid_search_GB_model v.1.1.a (day 12.02.18 without repeated rating teams) .sav'\n",
    "pickle.dump(grid_search_GB, open(filename, 'wb'))"
   ]
  },
  {
   "cell_type": "code",
   "execution_count": 131,
   "metadata": {},
   "outputs": [
    {
     "name": "stdout",
     "output_type": "stream",
     "text": [
      "Модель обученная на данных контрпиков до июня 2018\n",
      "             precision    recall  f1-score   support\n",
      "\n",
      "   dire_win       0.75      0.72      0.73       419\n",
      "radiant_win       0.74      0.77      0.76       447\n",
      "\n",
      "avg / total       0.74      0.74      0.74       866\n",
      "\n",
      "Wall time: 180 ms\n"
     ]
    }
   ],
   "source": [
    "%%time\n",
    "# ДАННЫЕ ПО HEAD-TO-HEAD ДЛЯ ВСЕХ ПАТЧЕЙ ДО ПРЕДЫДУЩЕГО ДНЯ МАТЧЯ\n",
    "import xgboost as xgb\n",
    "# fit model no training data\n",
    "xgb_all_data = xgb.XGBClassifier()\n",
    "xgb_all_data.fit(X_train, y_train)\n",
    "print (\"Модель обученная на данных контрпиков до июня 2018\")\n",
    "print(classification_report(y_test, xgb_all_data.predict(X_test), target_names=['dire_win', 'radiant_win']))"
   ]
  },
  {
   "cell_type": "code",
   "execution_count": 50,
   "metadata": {
    "collapsed": true
   },
   "outputs": [],
   "source": [
    "# save the model to disk\n",
    "filename = 'xgb_all_data v.1.1 .sav'\n",
    "pickle.dump(xgb_all_data, open(filename, 'wb'))"
   ]
  },
  {
   "cell_type": "code",
   "execution_count": null,
   "metadata": {
    "collapsed": true
   },
   "outputs": [],
   "source": []
  },
  {
   "cell_type": "code",
   "execution_count": null,
   "metadata": {},
   "outputs": [],
   "source": []
  },
  {
   "cell_type": "markdown",
   "metadata": {
    "collapsed": true
   },
   "source": [
    "# Проверка на новых данных"
   ]
  },
  {
   "cell_type": "code",
   "execution_count": 114,
   "metadata": {},
   "outputs": [
    {
     "name": "stdout",
     "output_type": "stream",
     "text": [
      "381\n",
      "374\n",
      "370\n",
      "359\n",
      "350\n",
      "350\n",
      "350\n"
     ]
    }
   ],
   "source": [
    "# Удаление повторющихс команд в рцйтинге команд\n",
    "# дф с матчами и рейтингом каждой команды с патча 7.01 для Премиум\n",
    "df_rating_teams_Premium_contr = pd.read_csv('../tabel/table from Datdota/Rating teams/'+\n",
    "                                      'PREMIUM on 13.02.18 to 12.03.18.csv', index_col=0)\n",
    "# удалить повторяющиеся матчи с Infamous, и сделать реиндекс \n",
    "df_rating_teams_Premium_contr = df_rating_teams_Premium_contr.drop(1).reset_index().drop('index', axis=1)\n",
    "\n",
    "print (len(df_rating_teams_Premium_contr))\n",
    "df_rating_teams_Premium_contr = df_rating_teams_Premium_contr.drop(\n",
    "    df_rating_teams_Premium_contr[df_rating_teams_Premium_contr['radiant_name'] == 'Digital Chaos'].index)\n",
    "print (len(df_rating_teams_Premium_contr))\n",
    "df_rating_teams_Premium_contr = df_rating_teams_Premium_contr.drop(\n",
    "    df_rating_teams_Premium_contr[df_rating_teams_Premium_contr['dire_name'] == 'Digital Chaos'].index)\n",
    "print (len(df_rating_teams_Premium_contr))\n",
    "df_rating_teams_Premium_contr = df_rating_teams_Premium_contr.drop(\n",
    "    df_rating_teams_Premium_contr[df_rating_teams_Premium_contr['radiant_team_id'] == 5065748].index)\n",
    "print (len(df_rating_teams_Premium_contr))\n",
    "df_rating_teams_Premium_contr = df_rating_teams_Premium_contr.drop(\n",
    "    df_rating_teams_Premium_contr[df_rating_teams_Premium_contr['dire_team_id'] == 5065748].index)\n",
    "print (len(df_rating_teams_Premium_contr))\n",
    "df_rating_teams_Premium_contr = df_rating_teams_Premium_contr.drop(\n",
    "    df_rating_teams_Premium_contr[df_rating_teams_Premium_contr['radiant_team_id'] == 2672298].index)\n",
    "print (len(df_rating_teams_Premium_contr))\n",
    "df_rating_teams_Premium_contr = df_rating_teams_Premium_contr.drop(\n",
    "    df_rating_teams_Premium_contr[df_rating_teams_Premium_contr['dire_team_id'] == 2672298].index)\n",
    "print (len(df_rating_teams_Premium_contr))\n"
   ]
  },
  {
   "cell_type": "code",
   "execution_count": 115,
   "metadata": {},
   "outputs": [],
   "source": [
    "# # дф с матчами и рейтингом каждой команды с патча 7.01 для Премиум\n",
    "# df_rating_teams_Premium_contr = pd.read_csv('../tabel/table from Datdota/Rating teams/'+\n",
    "#                                       'PREMIUM on 13.02.18 to 12.03.18.csv', index_col=0)\n",
    "\n",
    "# ДФ с контрпиками (head-to-head) с 6,74-7,09 и до 2018.05.06\n",
    "df_contrpick_contr = pd.read_csv(('../tabel/table from Datdota/Heah-to-head Contrpicks/'+\n",
    "                'data from 6.74-7.10 with last day 2018.05.06. on 13.02.18 to 12.03.18.csv'), index_col=0)\n",
    "\n",
    "# # ДФ с контрпиками (head-to-head) с 6,74-7,09 и до дня матча\n",
    "# df_contrpick = pd.read_csv(('../tabel/table from Datdota/Heah-to-head Contrpicks/'+\n",
    "#                 'data from 6.74-7.10 before day of match. on 13.02.18 to 12.03.18.csv'), index_col=0)\n",
    "\n",
    "# ДФ с метовыми героями\n",
    "df_meta_heroes_contr = pd.read_csv('../tabel/table from Datdota/AvgElo Meta and Signatures Heroes/'+\n",
    "                             'Meta on 13.02.18 to 12.03.18.csv', index_col=0)\n",
    "\n",
    "# ДФ с сигнатурками\n",
    "df_signatures_heroes_contr = pd.read_csv('../tabel/table from Datdota/AvgElo Meta and Signatures Heroes/'+\n",
    "                                   'Signatures on 13.02.18 to 12.03.18.csv', index_col=0)\n"
   ]
  },
  {
   "cell_type": "code",
   "execution_count": 117,
   "metadata": {},
   "outputs": [],
   "source": [
    "test2 = test\n"
   ]
  },
  {
   "cell_type": "code",
   "execution_count": 118,
   "metadata": {
    "collapsed": true
   },
   "outputs": [],
   "source": [
    "# Соединение всех данных в один ДФ\n",
    "\n",
    "test = pd.merge(df_rating_teams_Premium_contr, df_contrpick_contr, left_on='match_id', right_on='match_id',how='left')\n",
    "test = pd.merge(test, df_meta_heroes_contr, left_on='match_id', right_on='match_id',how='left')\n",
    "test = pd.merge(test, df_signatures_heroes_contr, left_on='match_id', right_on='match_id',how='left')\n",
    "\n",
    "# # удаление не нужных колонок для обучения\n",
    "test = test.drop(['match_id', 'start_time', 'radiant_team_id', 'radiant_score', 'dire_team_id',\n",
    "           'dire_score', 'radiant_name', 'dire_name', 'league_name'], axis=1)\n",
    "test = test.drop(test.loc[:, 'radiant_H1':'dire_P5'], axis=1)\n",
    "test = test.dropna()\n",
    "\n",
    "# Оставляю только важные фичи, убираю из рейтинга команд ело32 и ело64\n",
    "test = test.drop(test.loc[:, 'radiant_current_elo32':'radiant_thirtyDayAvg_elo64'], axis=1)\n",
    "test = test.drop(test.loc[:, 'dire_current_elo32':'dire_thirtyDayAvg_elo64'], axis=1)"
   ]
  },
  {
   "cell_type": "code",
   "execution_count": 121,
   "metadata": {},
   "outputs": [],
   "source": [
    "test = pd.concat([test, test2]).reset_index().drop('index', axis=1)"
   ]
  },
  {
   "cell_type": "code",
   "execution_count": 124,
   "metadata": {},
   "outputs": [],
   "source": [
    "# Создание контрольной выборки\n",
    "# удалть имена команд и сделать обучающие данные и ответы\n",
    "X_contr = test.drop(['radiant_win'], axis=1)\n",
    "y_contr = test['radiant_win']\n",
    "\n",
    "# СДЕЛАТЬ 1 или 0 вместо true false\n",
    "y_contr = y_contr.astype(int)\n"
   ]
  },
  {
   "cell_type": "code",
   "execution_count": 134,
   "metadata": {},
   "outputs": [
    {
     "name": "stdout",
     "output_type": "stream",
     "text": [
      "Модель обученная на данных контрпиков до июня 2018\n",
      "             precision    recall  f1-score   support\n",
      "\n",
      "   dire_win       0.60      0.62      0.61       248\n",
      "radiant_win       0.71      0.69      0.70       325\n",
      "\n",
      "avg / total       0.66      0.66      0.66       573\n",
      "\n"
     ]
    }
   ],
   "source": [
    "filename = 'grid_search_GB_model v.1.1.a (day 12.02.18 without repeated rating teams) .sav'\n",
    "grid_search_GB = pickle.load(open(filename, 'rb'))\n",
    "print (\"Модель обученная на данных контрпиков до июня 2018\")\n",
    "print(classification_report(y_contr, grid_search_GB.predict(X_contr), target_names=['dire_win', 'radiant_win']))"
   ]
  },
  {
   "cell_type": "code",
   "execution_count": 135,
   "metadata": {},
   "outputs": [
    {
     "name": "stdout",
     "output_type": "stream",
     "text": [
      "Модель обученная на данных контрпиков до июня 2018\n",
      "             precision    recall  f1-score   support\n",
      "\n",
      "   dire_win       0.62      0.65      0.63       248\n",
      "radiant_win       0.72      0.69      0.71       325\n",
      "\n",
      "avg / total       0.67      0.67      0.67       573\n",
      "\n"
     ]
    }
   ],
   "source": [
    "filename = 'xgb_all_data v.1.1 .sav'\n",
    "xgb_all_data = pickle.load(open(filename, 'rb'))\n",
    "print (\"Модель обученная на данных контрпиков до июня 2018\")\n",
    "print(classification_report(y_contr, xgb_all_data.predict(X_contr), target_names=['dire_win', 'radiant_win']))"
   ]
  },
  {
   "cell_type": "code",
   "execution_count": 132,
   "metadata": {},
   "outputs": [
    {
     "name": "stdout",
     "output_type": "stream",
     "text": [
      "Модель обученная на данных контрпиков до дня матча\n",
      "             precision    recall  f1-score   support\n",
      "\n",
      "   dire_win       0.59      0.63      0.61       248\n",
      "radiant_win       0.70      0.67      0.69       325\n",
      "\n",
      "avg / total       0.66      0.65      0.65       573\n",
      "\n"
     ]
    }
   ],
   "source": [
    "print (\"Модель обученная на данных контрпиков до дня матча\")\n",
    "print(classification_report(y_contr, grid_search_GB.predict(X_contr), target_names=['dire_win', 'radiant_win']))"
   ]
  },
  {
   "cell_type": "code",
   "execution_count": 133,
   "metadata": {},
   "outputs": [
    {
     "name": "stdout",
     "output_type": "stream",
     "text": [
      "Модель обученная на данных контрпиков до дня матча\n",
      "             precision    recall  f1-score   support\n",
      "\n",
      "   dire_win       0.61      0.59      0.60       248\n",
      "radiant_win       0.69      0.71      0.70       325\n",
      "\n",
      "avg / total       0.66      0.66      0.66       573\n",
      "\n"
     ]
    }
   ],
   "source": [
    "print (\"Модель обученная на данных контрпиков до дня матча\")\n",
    "print(classification_report(y_contr, xgb_all_data.predict(X_contr), target_names=['dire_win', 'radiant_win']))"
   ]
  },
  {
   "cell_type": "code",
   "execution_count": null,
   "metadata": {
    "collapsed": true
   },
   "outputs": [],
   "source": []
  },
  {
   "cell_type": "code",
   "execution_count": null,
   "metadata": {
    "collapsed": true
   },
   "outputs": [],
   "source": []
  },
  {
   "cell_type": "code",
   "execution_count": 136,
   "metadata": {},
   "outputs": [
    {
     "data": {
      "text/plain": [
       "array([[336,  83],\n",
       "       [ 71, 376]], dtype=int64)"
      ]
     },
     "execution_count": 136,
     "metadata": {},
     "output_type": "execute_result"
    }
   ],
   "source": [
    "best_GB = xgb_all_data\n",
    "# предсказания\n",
    "predict_GB = best_GB.predict(X_test)\n",
    "# матрица ошибок\n",
    "from sklearn.metrics import confusion_matrix\n",
    "confusion = confusion_matrix(y_test, predict_GB)\n",
    "confusion"
   ]
  },
  {
   "cell_type": "code",
   "execution_count": 137,
   "metadata": {},
   "outputs": [
    {
     "data": {
      "image/png": "[encoded data removed]",
      "text/plain": [
       "<matplotlib.figure.Figure at 0xc27df60>"
      ]
     },
     "metadata": {},
     "output_type": "display_data"
    }
   ],
   "source": [
    "# в RandomForestClassifier есть predict_proba, но нет decision_function\n",
    "precision_gb, recall_gb, thresholds_gb = metrics.precision_recall_curve(\n",
    "y_test, best_GB.predict_proba(X_test)[:, 1])\n",
    "\n",
    "plt.plot(precision_gb, recall_gb, label=\"gb\")\n",
    "close_default_gb = np.argmin(np.abs(thresholds_gb - 0.5))\n",
    "plt.plot(precision_gb[close_default_gb], recall_gb[close_default_gb], 'o', c='k',\n",
    "         markersize=10, label=\"порог 0.5 rf\", fillstyle=\"none\", mew=2)\n",
    "plt.xlabel(\"Точность\")\n",
    "plt.ylabel(\"Полнота\")\n",
    "plt.legend(loc=\"best\")\n",
    "plt.show()"
   ]
  },
  {
   "cell_type": "code",
   "execution_count": 138,
   "metadata": {},
   "outputs": [
    {
     "data": {
      "image/png": "[encoded data removed]",
      "text/plain": [
       "<matplotlib.figure.Figure at 0xc27d048>"
      ]
     },
     "metadata": {},
     "output_type": "display_data"
    }
   ],
   "source": [
    "# важность признаков в бустинге\n",
    "\n",
    "n_features = X_train.shape[1]\n",
    "plt.figure(figsize=(20,50))\n",
    "plt.barh(range(n_features), best_GB.feature_importances_, align='center')\n",
    "plt.yticks(np.arange(n_features), X_train.columns)\n",
    "plt.xlabel('Важность признака')\n",
    "plt.ylabel('Признаки')\n",
    "plt.show()"
   ]
  },
  {
   "cell_type": "code",
   "execution_count": null,
   "metadata": {
    "collapsed": true
   },
   "outputs": [],
   "source": []
  },
  {
   "cell_type": "code",
   "execution_count": null,
   "metadata": {
    "collapsed": true
   },
   "outputs": [],
   "source": []
  },
  {
   "cell_type": "code",
   "execution_count": null,
   "metadata": {
    "collapsed": true
   },
   "outputs": [],
   "source": []
  },
  {
   "cell_type": "code",
   "execution_count": null,
   "metadata": {
    "collapsed": true
   },
   "outputs": [],
   "source": []
  },
  {
   "cell_type": "code",
   "execution_count": null,
   "metadata": {
    "collapsed": true
   },
   "outputs": [],
   "source": []
  },
  {
   "cell_type": "code",
   "execution_count": null,
   "metadata": {
    "collapsed": true
   },
   "outputs": [],
   "source": []
  }
 ],
 "metadata": {
  "kernelspec": {
   "display_name": "Python 3",
   "language": "python",
   "name": "python3"
  },
  "language_info": {
   "codemirror_mode": {
    "name": "ipython",
    "version": 3
   },
   "file_extension": ".py",
   "mimetype": "text/x-python",
   "name": "python",
   "nbconvert_exporter": "python",
   "pygments_lexer": "ipython3",
   "version": "3.6.3"
  }
 },
 "nbformat": 4,
 "nbformat_minor": 2
}
