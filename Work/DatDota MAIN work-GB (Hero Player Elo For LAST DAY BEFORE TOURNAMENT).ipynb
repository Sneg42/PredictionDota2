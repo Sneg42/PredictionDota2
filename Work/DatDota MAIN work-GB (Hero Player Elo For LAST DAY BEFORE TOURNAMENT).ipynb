{
 "cells": [
  {
   "cell_type": "code",
   "execution_count": 1,
   "metadata": {
    "collapsed": true
   },
   "outputs": [],
   "source": [
    "import pandas as pd\n",
    "import numpy as np\n",
    "import math\n",
    "import helper\n",
    "import time\n",
    "import datetime\n",
    "import matplotlib.pyplot as plt\n",
    "\n",
    "from sklearn.linear_model import LogisticRegression\n",
    "from sklearn.ensemble import RandomForestClassifier, RandomForestRegressor\n",
    "from sklearn.neural_network import MLPClassifier\n",
    "from sklearn.tree import DecisionTreeClassifier, DecisionTreeRegressor\n",
    "from sklearn.ensemble import GradientBoostingClassifier, GradientBoostingRegressor\n",
    "from sklearn.neighbors import KNeighborsClassifier, KNeighborsRegressor\n",
    "from sklearn.svm import SVC, SVR\n",
    "\n",
    "from sklearn import metrics\n",
    "from sklearn.metrics import classification_report\n",
    "from sklearn.model_selection import KFold, cross_val_score, LeaveOneOut, ShuffleSplit, train_test_split, GridSearchCV \n",
    "from sklearn.feature_selection import SelectPercentile, SelectFromModel\n",
    "import pickle    "
   ]
  },
  {
   "cell_type": "markdown",
   "metadata": {},
   "source": [
    "# Подгрузка всех таблиц с данными по матчям"
   ]
  },
  {
   "cell_type": "code",
   "execution_count": 76,
   "metadata": {
    "collapsed": true
   },
   "outputs": [],
   "source": [
    "# дф с матчами и рейтингом каждой команды с патча 7.01 для Премиум\n",
    "df_rating_teams_Premium = pd.read_csv('../tabel/last day Before Tournament/table from Datdota/Rating teams/'+\n",
    "                                      'PREMIUM on 2012-02-28 to 2018-04-10.csv', index_col=0)\n",
    "\n",
    "# ДФ с контрпиками (head-to-head, PRO, >20) с 6,74-7,12 и до 2018.10.01\n",
    "df_contrpick = pd.read_csv(('../tabel/last day Before Tournament/table from Datdota/Heah-to-head Contrpicks/'+\n",
    "                'data from 6.74-last. on 2012-02-28 to 2018-04-10 (ProTeam, more 20).csv'), index_col=0)\n",
    "\n",
    "# ДФ с метовыми героями (PRO, >10)\n",
    "df_meta_heroes = pd.read_csv('../tabel/last day Before Tournament/table from Datdota/AvgElo Meta and Signatures Heroes/'+\n",
    "                             'Meta on 2012-02-28 to 2018-04-10 (OneMonthAgo, All, more 20).csv', index_col=0)\n",
    "\n",
    "# ДФ с сигнатурками для каждого игрока (ALL, >5)\n",
    "df_signatures_heroes = pd.read_csv('../tabel/last day Before Tournament/table from Datdota/AvgElo Meta and Signatures Heroes/'+\n",
    "                                   'Players Signatures on 2012-02-28 to 2018-04-10 (All, more 5) (previosly day).csv', index_col=0)\n"
   ]
  },
  {
   "cell_type": "code",
   "execution_count": 77,
   "metadata": {},
   "outputs": [
    {
     "name": "stdout",
     "output_type": "stream",
     "text": [
      "4061\n",
      "3926\n",
      "3926\n",
      "3926\n"
     ]
    }
   ],
   "source": [
    "# Обучение на дне перед ДАКом 2018\n",
    "# дф с матчами и рейтингом каждой команды с патча 7.01 для Премиум\n",
    "df_rating_teams_Premium = pd.read_csv('../tabel/last day Before Tournament/table from Datdota/Rating teams/'+\n",
    "                                      'PREMIUM on 2012-02-28 to 2018-04-10.csv', index_col=0)\n",
    "print (len(df_rating_teams_Premium))\n",
    "# ДФ с контрпиками (head-to-head, PRO, >20) с 6,74-7,12 и до 2018.10.01\n",
    "df_contrpick = pd.read_csv(('../tabel/last day Before Tournament/table from Datdota/Heah-to-head Contrpicks/'+\n",
    "                'data from 6.74-last. on 2012-02-28 to 2018-03-28 (ProTeam, more 20).csv'), index_col=0)\n",
    "print (len(df_contrpick))\n",
    "# ДФ с метовыми героями (PRO, >10)\n",
    "df_meta_heroes = pd.read_csv('../tabel/last day Before Tournament/table from Datdota/AvgElo Meta and Signatures Heroes/'+\n",
    "                             'Meta on 2012-02-28 to 2018-03-28 (OneMonthAgo, All, more 20).csv', index_col=0)\n",
    "print (len(df_meta_heroes))\n",
    "# ДФ с сигнатурками для каждого игрока (ALL, >5)\n",
    "df_signatures_heroes = pd.read_csv('../tabel/last day Before Tournament/table from Datdota/AvgElo Meta and Signatures Heroes/'+\n",
    "                                   'Players Signatures on 2012-02-28 to 2018-03-28 (All, more 5) (previosly day).csv', index_col=0)\n",
    "print (len(df_signatures_heroes))"
   ]
  },
  {
   "cell_type": "code",
   "execution_count": 78,
   "metadata": {},
   "outputs": [],
   "source": [
    "# 3803473688  3823008429 \n",
    "df_rating_teams_Premium = df_rating_teams_Premium[df_rating_teams_Premium['match_id'] <= 3701604989]"
   ]
  },
  {
   "cell_type": "markdown",
   "metadata": {},
   "source": [
    "# Создание основного ДФ для обучения и предсказания"
   ]
  },
  {
   "cell_type": "code",
   "execution_count": 94,
   "metadata": {},
   "outputs": [
    {
     "name": "stdout",
     "output_type": "stream",
     "text": [
      "3926\n"
     ]
    }
   ],
   "source": [
    "df_signatures_heroes = df_signatures_heroes[['radiant_P1_eloShift', 'radiant_P2_eloShift', 'radiant_P3_eloShift', \n",
    "                                            'radiant_P4_eloShift', 'radiant_P5_eloShift', 'dire_P1_eloShift', \n",
    "                                            'dire_P2_eloShift', 'dire_P3_eloShift', 'dire_P4_eloShift', \n",
    "                                            'dire_P5_eloShift', 'match_id']]\n",
    "\n",
    "# Соединение всех данных в один ДФ\n",
    "main = pd.merge(df_rating_teams_Premium, df_contrpick, left_on='match_id', right_on='match_id',how='left')\n",
    "main = pd.merge(main, df_meta_heroes, left_on='match_id', right_on='match_id',how='left')\n",
    "main = pd.merge(main, df_signatures_heroes, left_on='match_id', right_on='match_id',how='left')\n",
    "\n",
    "# # удаление не нужных колонок для обучения\n",
    "main = main.drop(['match_id', 'start_time', 'radiant_team_id', 'radiant_score', 'dire_team_id',\n",
    "           'dire_score', 'radiant_name', 'dire_name','league_name'], axis=1)\n",
    "main = main.drop(main.loc[:, 'radiant_H1' : 'dire_P5'], axis=1)\n",
    "\n",
    "\n",
    "# Оставляю только важные фичи, убираю из рейтинга команд ело32 и ело64\n",
    "main = main.drop(main.loc[:, 'radiant_current_elo32':'radiant_thirtyDayAvg_elo64'], axis=1)\n",
    "main = main.drop(main.loc[:, 'dire_current_elo32':'dire_thirtyDayAvg_elo64'], axis=1)\n",
    "\n",
    "main = main.drop(main.loc[:, 'radiant_mu_glicko':'dire_ratingSevenDaysAgo_glicko2'], axis=1)\n",
    "\n",
    "print (len(main))"
   ]
  },
  {
   "cell_type": "code",
   "execution_count": null,
   "metadata": {},
   "outputs": [],
   "source": []
  },
  {
   "cell_type": "code",
   "execution_count": 95,
   "metadata": {},
   "outputs": [
    {
     "data": {
      "text/plain": [
       "3919"
      ]
     },
     "execution_count": 95,
     "metadata": {},
     "output_type": "execute_result"
    }
   ],
   "source": [
    "# Заполнить пустые значения на 0\n",
    "# main = main.fillna(0)\n",
    "\n",
    "# # убрать пустые ячейки\n",
    "main = main.dropna()\n",
    "len(main)\n"
   ]
  },
  {
   "cell_type": "code",
   "execution_count": 96,
   "metadata": {},
   "outputs": [
    {
     "data": {
      "text/plain": [
       "Index(['radiant_win', 'radiant_H1elo_vs_enemies', 'radiant_H2elo_vs_enemies',\n",
       "       'radiant_H3elo_vs_enemies', 'radiant_H4elo_vs_enemies',\n",
       "       'radiant_H5elo_vs_enemies', 'dire_H1elo_vs_enemies',\n",
       "       'dire_H2elo_vs_enemies', 'dire_H3elo_vs_enemies',\n",
       "       'dire_H4elo_vs_enemies', 'dire_H5elo_vs_enemies', 'radiant_H1_AvgElo',\n",
       "       'radiant_H2_AvgElo', 'radiant_H3_AvgElo', 'radiant_H4_AvgElo',\n",
       "       'radiant_H5_AvgElo', 'dire_H1_AvgElo', 'dire_H2_AvgElo',\n",
       "       'dire_H3_AvgElo', 'dire_H4_AvgElo', 'dire_H5_AvgElo',\n",
       "       'radiant_P1_eloShift', 'radiant_P2_eloShift', 'radiant_P3_eloShift',\n",
       "       'radiant_P4_eloShift', 'radiant_P5_eloShift', 'dire_P1_eloShift',\n",
       "       'dire_P2_eloShift', 'dire_P3_eloShift', 'dire_P4_eloShift',\n",
       "       'dire_P5_eloShift'],\n",
       "      dtype='object')"
      ]
     },
     "execution_count": 96,
     "metadata": {},
     "output_type": "execute_result"
    }
   ],
   "source": [
    "main.columns"
   ]
  },
  {
   "cell_type": "code",
   "execution_count": 51,
   "metadata": {},
   "outputs": [],
   "source": [
    "main_DAC = (main[main[\"league_name\"] == 'Dota 2 Asia Championships 2018'])"
   ]
  },
  {
   "cell_type": "code",
   "execution_count": 100,
   "metadata": {},
   "outputs": [
    {
     "name": "stdout",
     "output_type": "stream",
     "text": [
      "Index(['radiant_win', 'radiant_H1elo_vs_enemies', 'radiant_H2elo_vs_enemies',\n",
      "       'radiant_H3elo_vs_enemies', 'radiant_H4elo_vs_enemies',\n",
      "       'radiant_H5elo_vs_enemies', 'dire_H1elo_vs_enemies',\n",
      "       'dire_H2elo_vs_enemies', 'dire_H3elo_vs_enemies',\n",
      "       'dire_H4elo_vs_enemies', 'dire_H5elo_vs_enemies', 'radiant_H1_AvgElo',\n",
      "       'radiant_H2_AvgElo', 'radiant_H3_AvgElo', 'radiant_H4_AvgElo',\n",
      "       'radiant_H5_AvgElo', 'dire_H1_AvgElo', 'dire_H2_AvgElo',\n",
      "       'dire_H3_AvgElo', 'dire_H4_AvgElo', 'dire_H5_AvgElo',\n",
      "       'radiant_P1_eloShift', 'radiant_P2_eloShift', 'radiant_P3_eloShift',\n",
      "       'radiant_P4_eloShift', 'radiant_P5_eloShift', 'dire_P1_eloShift',\n",
      "       'dire_P2_eloShift', 'dire_P3_eloShift', 'dire_P4_eloShift',\n",
      "       'dire_P5_eloShift'],\n",
      "      dtype='object')\n"
     ]
    }
   ],
   "source": [
    "DAC = main_DAC[main_DAC['match_id'] > 3803473688]\n",
    "\n",
    "# # удаление не нужных колонок для обучения\n",
    "DAC = DAC.drop(['match_id', 'start_time', 'radiant_team_id', 'radiant_score', 'dire_team_id',\n",
    "           'dire_score', 'radiant_name', 'dire_name','league_name'], axis=1)\n",
    "\n",
    "print (DAC.columns)\n",
    "X_contr = DAC.drop(['radiant_win'], axis=1)\n",
    "y_contr = DAC['radiant_win']\n",
    "\n",
    "# СДЕЛАТЬ 1 или 0 вместо true false\n",
    "y_contr = y_contr.astype(int)"
   ]
  },
  {
   "cell_type": "code",
   "execution_count": null,
   "metadata": {},
   "outputs": [],
   "source": []
  },
  {
   "cell_type": "code",
   "execution_count": 60,
   "metadata": {},
   "outputs": [],
   "source": []
  },
  {
   "cell_type": "code",
   "execution_count": null,
   "metadata": {},
   "outputs": [],
   "source": []
  },
  {
   "cell_type": "markdown",
   "metadata": {},
   "source": [
    "# Создание обучающих и тестовых данных"
   ]
  },
  {
   "cell_type": "code",
   "execution_count": 98,
   "metadata": {},
   "outputs": [
    {
     "data": {
      "text/plain": [
       "Index(['radiant_H1elo_vs_enemies', 'radiant_H2elo_vs_enemies',\n",
       "       'radiant_H3elo_vs_enemies', 'radiant_H4elo_vs_enemies',\n",
       "       'radiant_H5elo_vs_enemies', 'dire_H1elo_vs_enemies',\n",
       "       'dire_H2elo_vs_enemies', 'dire_H3elo_vs_enemies',\n",
       "       'dire_H4elo_vs_enemies', 'dire_H5elo_vs_enemies', 'radiant_H1_AvgElo',\n",
       "       'radiant_H2_AvgElo', 'radiant_H3_AvgElo', 'radiant_H4_AvgElo',\n",
       "       'radiant_H5_AvgElo', 'dire_H1_AvgElo', 'dire_H2_AvgElo',\n",
       "       'dire_H3_AvgElo', 'dire_H4_AvgElo', 'dire_H5_AvgElo',\n",
       "       'radiant_P1_eloShift', 'radiant_P2_eloShift', 'radiant_P3_eloShift',\n",
       "       'radiant_P4_eloShift', 'radiant_P5_eloShift', 'dire_P1_eloShift',\n",
       "       'dire_P2_eloShift', 'dire_P3_eloShift', 'dire_P4_eloShift',\n",
       "       'dire_P5_eloShift'],\n",
       "      dtype='object')"
      ]
     },
     "execution_count": 98,
     "metadata": {},
     "output_type": "execute_result"
    }
   ],
   "source": [
    "# сделать обучающие данные и ответы\n",
    "X = main.drop(['radiant_win'], axis=1)\n",
    "y = main['radiant_win']\n",
    "\n",
    "# СДЕЛАТЬ 1 или 0 вместо true false\n",
    "y = y.astype(int)\n",
    "\n",
    "# деление на тестовые и обучающую выборку\n",
    "X_train, X_test, y_train, y_test = train_test_split(X,y, random_state=0)\n",
    "X_train.columns"
   ]
  },
  {
   "cell_type": "code",
   "execution_count": null,
   "metadata": {
    "collapsed": true
   },
   "outputs": [],
   "source": []
  },
  {
   "cell_type": "markdown",
   "metadata": {},
   "source": [
    "# Решетчатый поиск на Gradient Bosting"
   ]
  },
  {
   "cell_type": "code",
   "execution_count": 9,
   "metadata": {},
   "outputs": [
    {
     "name": "stdout",
     "output_type": "stream",
     "text": [
      "Наилучшие значения параметров: {'max_depth': 10, 'max_features': 40, 'n_estimators': 100}\n",
      "----------------------------------------------------------------------\n",
      "             precision    recall  f1-score   support\n",
      "\n",
      "   dire_win       0.72      0.72      0.72       452\n",
      "radiant_win       0.74      0.74      0.74       481\n",
      "\n",
      "avg / total       0.73      0.73      0.73       933\n",
      "\n",
      "Wall time: 19.1 s\n"
     ]
    }
   ],
   "source": [
    "%%time\n",
    "# Праметры GB\n",
    "# param_grid = {'n_estimators': [25, 50, 100, 150], 'max_depth': [10, 25, 50, 100],\n",
    "#               'max_features': [50, 100, 200, 300]}\n",
    "param_grid = {'n_estimators': [100], 'max_depth': [10],\n",
    "              'max_features': [40]}\n",
    "grid_search_GB = GridSearchCV(GradientBoostingClassifier(), param_grid, cv=5, n_jobs=-1)\n",
    "\n",
    "grid_search_GB.fit(X_train,y_train)\n",
    "\n",
    "\n",
    "print(\"Наилучшие значения параметров: {}\".format(grid_search_GB.best_params_))\n",
    "print('----------------------------------------------------------------------')\n",
    "print(classification_report(y_test, grid_search_GB.predict(X_test), target_names=['dire_win', 'radiant_win']))"
   ]
  },
  {
   "cell_type": "code",
   "execution_count": null,
   "metadata": {
    "collapsed": true
   },
   "outputs": [],
   "source": []
  },
  {
   "cell_type": "code",
   "execution_count": 263,
   "metadata": {
    "collapsed": true
   },
   "outputs": [],
   "source": [
    "# # save the model to disk\n",
    "# filename = 'grid_search_GB_model_Patch7.00+_2018.05.06.sav'\n",
    "# pickle.dump(grid_search_GB, open(filename, 'wb'))"
   ]
  },
  {
   "cell_type": "code",
   "execution_count": 101,
   "metadata": {},
   "outputs": [
    {
     "name": "stdout",
     "output_type": "stream",
     "text": [
      "             precision    recall  f1-score   support\n",
      "\n",
      "   dire_win       0.83      0.79      0.80       475\n",
      "radiant_win       0.81      0.84      0.82       505\n",
      "\n",
      "avg / total       0.82      0.82      0.82       980\n",
      "\n",
      "----------------------------------------------------------------------------\n",
      "             precision    recall  f1-score   support\n",
      "\n",
      "   dire_win       0.78      0.78      0.78        40\n",
      "radiant_win       0.85      0.85      0.85        60\n",
      "\n",
      "avg / total       0.82      0.82      0.82       100\n",
      "\n",
      "Wall time: 162 ms\n"
     ]
    }
   ],
   "source": [
    "%%time\n",
    "# ДАННЫЕ ПО HEAD-TO-HEAD ДЛЯ ВСЕХ ПАТЧЕЙ ДО ПРЕДЫДУЩЕГО ДНЯ МАТЧЯ\n",
    "import xgboost as xgb\n",
    "# fit model no training data\n",
    "XGB = xgb.XGBClassifier()\n",
    "XGB.fit(X_train, y_train)\n",
    "print(classification_report(y_test, XGB.predict(X_test), target_names=['dire_win', 'radiant_win']))\n",
    "print('----------------------------------------------------------------------------')\n",
    "print(classification_report(y_contr, XGB.predict(X_contr), target_names=['dire_win', 'radiant_win']))"
   ]
  },
  {
   "cell_type": "code",
   "execution_count": 24,
   "metadata": {
    "collapsed": true
   },
   "outputs": [],
   "source": [
    "# save the model to disk\n",
    "filename = 'xgb_v.3.1.c.84 (without rating teams).sav'\n",
    "pickle.dump(XGB, open(filename, 'wb'))"
   ]
  },
  {
   "cell_type": "code",
   "execution_count": 15,
   "metadata": {
    "collapsed": true
   },
   "outputs": [],
   "source": [
    "# test_gb = pickle.load(open(filename, 'rb'))\n",
    "# test_gb.score(X_test, y_test)"
   ]
  },
  {
   "cell_type": "code",
   "execution_count": 115,
   "metadata": {
    "collapsed": true
   },
   "outputs": [],
   "source": [
    "model = XGB"
   ]
  },
  {
   "cell_type": "markdown",
   "metadata": {},
   "source": [
    "# Проверка правильности данных"
   ]
  },
  {
   "cell_type": "code",
   "execution_count": 26,
   "metadata": {
    "collapsed": true
   },
   "outputs": [],
   "source": [
    "# main.loc[1500, 'radiant_H1elo_vs_enemies':]"
   ]
  },
  {
   "cell_type": "code",
   "execution_count": 15,
   "metadata": {},
   "outputs": [
    {
     "data": {
      "text/plain": [
       "datetime.date(2017, 8, 8)"
      ]
     },
     "execution_count": 15,
     "metadata": {},
     "output_type": "execute_result"
    }
   ],
   "source": [
    "import datetime\n",
    "datetime.date.fromtimestamp(1502233763) - datetime.timedelta(1)"
   ]
  },
  {
   "cell_type": "code",
   "execution_count": null,
   "metadata": {
    "collapsed": true
   },
   "outputs": [],
   "source": [
    "df_meta_heroes[df_meta_heroes['match_id'] == 3274564960]"
   ]
  },
  {
   "cell_type": "markdown",
   "metadata": {
    "collapsed": true
   },
   "source": [
    "# Работа с фичами"
   ]
  },
  {
   "cell_type": "code",
   "execution_count": 141,
   "metadata": {},
   "outputs": [
    {
     "data": {
      "text/plain": [
       "array([[286, 150],\n",
       "       [132, 333]], dtype=int64)"
      ]
     },
     "execution_count": 141,
     "metadata": {},
     "output_type": "execute_result"
    }
   ],
   "source": [
    "best_GB = XGB\n",
    "# предсказания\n",
    "predict_GB = best_GB.predict(X_test)\n",
    "# матрица ошибок\n",
    "from sklearn.metrics import confusion_matrix\n",
    "confusion = confusion_matrix(y_test, predict_GB)\n",
    "confusion"
   ]
  },
  {
   "cell_type": "code",
   "execution_count": 142,
   "metadata": {},
   "outputs": [
    {
     "data": {
      "text/plain": [
       "0.70253164556962022"
      ]
     },
     "execution_count": 142,
     "metadata": {},
     "output_type": "execute_result"
    }
   ],
   "source": [
    "# f1-мера\n",
    "from sklearn.metrics import f1_score\n",
    "f1_score(y_test, predict_GB)"
   ]
  },
  {
   "cell_type": "code",
   "execution_count": 144,
   "metadata": {},
   "outputs": [
    {
     "name": "stdout",
     "output_type": "stream",
     "text": [
      "             precision    recall  f1-score   support\n",
      "\n",
      "   dire_win       0.68      0.66      0.67       436\n",
      "radiant_win       0.69      0.72      0.70       465\n",
      "\n",
      "avg / total       0.69      0.69      0.69       901\n",
      "\n"
     ]
    }
   ],
   "source": [
    "\n",
    "print(classification_report(y_test, predict_GB, target_names=['dire_win', 'radiant_win']))"
   ]
  },
  {
   "cell_type": "code",
   "execution_count": 145,
   "metadata": {},
   "outputs": [
    {
     "data": {
      "image/png": "[encoded data removed]",
      "text/plain": [
       "<matplotlib.figure.Figure at 0x1f5c15ed080>"
      ]
     },
     "metadata": {},
     "output_type": "display_data"
    }
   ],
   "source": [
    "# в RandomForestClassifier есть predict_proba, но нет decision_function\n",
    "precision_gb, recall_gb, thresholds_gb = metrics.precision_recall_curve(\n",
    "y_test, best_GB.predict_proba(X_test)[:, 1])\n",
    "\n",
    "plt.plot(precision_gb, recall_gb, label=\"gb\")\n",
    "close_default_gb = np.argmin(np.abs(thresholds_gb - 0.5))\n",
    "plt.plot(precision_gb[close_default_gb], recall_gb[close_default_gb], 'o', c='k',\n",
    "         markersize=10, label=\"порог 0.5 rf\", fillstyle=\"none\", mew=2)\n",
    "plt.xlabel(\"Точность\")\n",
    "plt.ylabel(\"Полнота\")\n",
    "plt.legend(loc=\"best\")\n",
    "plt.show()"
   ]
  },
  {
   "cell_type": "code",
   "execution_count": 147,
   "metadata": {},
   "outputs": [
    {
     "name": "stdout",
     "output_type": "stream",
     "text": [
      "             precision    recall  f1-score   support\n",
      "\n",
      "          0       0.67      0.72      0.69       436\n",
      "          1       0.71      0.66      0.69       465\n",
      "\n",
      "avg / total       0.69      0.69      0.69       901\n",
      "\n"
     ]
    }
   ],
   "source": [
    "y_pred_lower_threshold = best_GB.predict_proba(X_test)[:,1] > .55\n",
    "print (classification_report(y_test, y_pred_lower_threshold))"
   ]
  },
  {
   "cell_type": "code",
   "execution_count": 148,
   "metadata": {},
   "outputs": [
    {
     "data": {
      "image/png": "[encoded data removed]",
      "text/plain": [
       "<matplotlib.figure.Figure at 0x1f5c1476748>"
      ]
     },
     "metadata": {},
     "output_type": "display_data"
    }
   ],
   "source": [
    "fpr, tpr, threshold = metrics.roc_curve(y_test, best_GB.predict_proba(X_test)[:,1])\n",
    "plt.plot(fpr, tpr, label='ROC-кривая')\n",
    "plt.xlabel('FPR')\n",
    "plt.ylabel('TPR')\n",
    "# находим пороговое значение ближайшее к нулю\n",
    "close_zero = np.argmin(np.abs(threshold))\n",
    "plt.plot(fpr[close_zero], tpr[close_zero], 'o', markersize=10, label='порог 0', fillstyle='none', c='k', mew=2)\n",
    "plt.legend(loc='best')\n",
    "plt.show()"
   ]
  },
  {
   "cell_type": "code",
   "execution_count": 149,
   "metadata": {},
   "outputs": [
    {
     "name": "stdout",
     "output_type": "stream",
     "text": [
      "AUC для градиентного бустинга - 0.757\n"
     ]
    }
   ],
   "source": [
    "gb_auc = metrics.roc_auc_score(y_test, best_GB.predict_proba(X_test)[:,1])\n",
    "print('AUC для градиентного бустинга - {:.3f}'.format(gb_auc))"
   ]
  },
  {
   "cell_type": "markdown",
   "metadata": {},
   "source": [
    "# Оценка качества признаков"
   ]
  },
  {
   "cell_type": "code",
   "execution_count": 150,
   "metadata": {},
   "outputs": [
    {
     "name": "stdout",
     "output_type": "stream",
     "text": [
      "форма массива X_train: (2701, 46)\n",
      "форма массива X_train_selected: (2701, 23)\n"
     ]
    }
   ],
   "source": [
    "# используем f_classif (по умолчанию)\n",
    "# и SelectPercentile, чтобы выбрать 50% признаков\n",
    "select = SelectPercentile(percentile=50)\n",
    "select.fit(X_train, y_train)\n",
    "X_train_selected = select.transform(X_train)\n",
    "\n",
    "print(\"форма массива X_train: {}\".format(X_train.shape))\n",
    "print(\"форма массива X_train_selected: {}\".format(X_train_selected.shape))"
   ]
  },
  {
   "cell_type": "code",
   "execution_count": 91,
   "metadata": {},
   "outputs": [
    {
     "name": "stdout",
     "output_type": "stream",
     "text": [
      "[ True  True  True  True  True  True  True  True  True  True  True  True\n",
      "  True  True  True  True  True False False False  True False  True False\n",
      "  True  True False False False False False False False False False False\n",
      "  True  True  True  True False  True  True  True False False False False\n",
      " False False False False  True False False False  True  True False  True\n",
      "  True False False False  True False False  True False  True  True  True\n",
      " False False False False]\n"
     ]
    },
    {
     "data": {
      "text/plain": [
       "Text(0.5,0,'Индекс')"
      ]
     },
     "execution_count": 91,
     "metadata": {},
     "output_type": "execute_result"
    }
   ],
   "source": [
    "mask = select.get_support()\n",
    "print (mask)\n",
    "# визуализируем булевы значения: черный - true, булый - false\n",
    "plt.matshow(mask.reshape(1, -1), cmap='gray_r')\n",
    "plt.xlabel('Индекс')"
   ]
  },
  {
   "cell_type": "code",
   "execution_count": 92,
   "metadata": {},
   "outputs": [
    {
     "name": "stdout",
     "output_type": "stream",
     "text": [
      "Правильность со всеми признаками: 0.690\n",
      "Правильность с 50% признаками: 0.681\n"
     ]
    }
   ],
   "source": [
    "X_test_selected = select.transform(X_test)\n",
    "print ('Правильность со всеми признаками: {:.3f}'.format(best_GB.score(X_test, y_test)))\n",
    "best_GB_selected_70 = xgb.XGBClassifier(max_depth=20)\n",
    "best_GB_selected_70.fit(X_train_selected, y_train)\n",
    "print ('Правильность с 50% признаками: {:.3f}'.format(best_GB_selected_70.score(X_test_selected, y_test)))"
   ]
  },
  {
   "cell_type": "code",
   "execution_count": 151,
   "metadata": {
    "scrolled": false
   },
   "outputs": [
    {
     "data": {
      "image/png": "[encoded data removed]",
      "text/plain": [
       "<matplotlib.figure.Figure at 0x1f5c1685588>"
      ]
     },
     "metadata": {},
     "output_type": "display_data"
    }
   ],
   "source": [
    "# важность признаков в бустинге\n",
    "\n",
    "n_features = X_train.shape[1]\n",
    "\n",
    "plt.figure(figsize=(20,20))\n",
    "plt.barh(range(n_features), best_GB.feature_importances_, align='center')\n",
    "plt.yticks(np.arange(n_features), X_train.columns, fontsize=15)\n",
    "plt.xlabel('Важность признака', fontsize=18)\n",
    "plt.ylabel('Признаки', fontsize=18)\n",
    "plt.show()"
   ]
  },
  {
   "cell_type": "code",
   "execution_count": 30,
   "metadata": {
    "collapsed": true
   },
   "outputs": [],
   "source": [
    "# n_features = X_train_selected.shape[1]\n",
    "# plt.figure(figsize=(20,100))\n",
    "# plt.barh(range(n_features), best_GB_selected_70.feature_importances_, align='center')\n",
    "# plt.yticks(np.arange(n_features))\n",
    "# plt.xlabel('Важность признака')\n",
    "# plt.ylabel('Признаки')\n",
    "# plt.show()\n"
   ]
  },
  {
   "cell_type": "markdown",
   "metadata": {
    "collapsed": true
   },
   "source": [
    "# Проверка на новых данных"
   ]
  },
  {
   "cell_type": "code",
   "execution_count": 152,
   "metadata": {
    "collapsed": true
   },
   "outputs": [],
   "source": [
    "# дф с матчами и рейтингом каждой команды с патча 7.01 для Премиум\n",
    "df_rating_teams_Premium_contr = pd.read_csv('../tabel/table from Datdota/Rating teams/'+\n",
    "                                      'PREMIUM on 2018-03-01 to 2018-04-08 (PreDay).csv', index_col=0)\n",
    "\n",
    "# ДФ с контрпиками (head-to-head, PRO, >20) с 6,74-7,12 и до 2018.10.01\n",
    "df_contrpick_contr = pd.read_csv(('../tabel/table from Datdota/Heah-to-head Contrpicks/'+\n",
    "                'data from 6.74-last. on 2018-03-01 to 2018-04-08 (PreDay, Pro, more 20).csv'), index_col=0)\n",
    "\n",
    "# ДФ с метовыми героями (PRO, >10)\n",
    "df_meta_heroes_contr = pd.read_csv('../tabel/table from Datdota/AvgElo Meta and Signatures Heroes/'+\n",
    "                             'Meta on 2018-03-01 to 2018-04-08 (PreDAy, Pro, more 10).csv', index_col=0)\n",
    "\n",
    "# ДФ с сигнатурками для каждого игрока (ALL, >5)\n",
    "df_signatures_heroes_contr = pd.read_csv('../tabel/table from Datdota/AvgElo Meta and Signatures Heroes/'+\n",
    "                    'Players Signatures on 2018-03-01 to 2018-04-08 (PreDay, more 5).csv', index_col=0)\n"
   ]
  },
  {
   "cell_type": "code",
   "execution_count": 153,
   "metadata": {},
   "outputs": [
    {
     "data": {
      "text/plain": [
       "451"
      ]
     },
     "execution_count": 153,
     "metadata": {},
     "output_type": "execute_result"
    }
   ],
   "source": [
    "df_signatures_heroes_contr = df_signatures_heroes_contr[['radiant_P1_eloShift', 'radiant_P2_eloShift', 'radiant_P3_eloShift', \n",
    "                                            'radiant_P4_eloShift', 'radiant_P5_eloShift', 'dire_P1_eloShift', \n",
    "                                            'dire_P2_eloShift', 'dire_P3_eloShift', 'dire_P4_eloShift', \n",
    "                                            'dire_P5_eloShift', 'match_id']]\n",
    "# Соединение всех данных в один ДФ\n",
    "contr = pd.merge(df_rating_teams_Premium_contr, df_contrpick_contr, left_on='match_id', right_on='match_id',how='left')\n",
    "contr = pd.merge(contr, df_meta_heroes_contr, left_on='match_id', right_on='match_id',how='left')\n",
    "contr = pd.merge(contr, df_signatures_heroes_contr, left_on='match_id', right_on='match_id',how='left')\n",
    "\n",
    "# # удаление не нужных колонок для обучения\n",
    "contr = contr.drop(['match_id', 'start_time', 'radiant_team_id', 'radiant_score', 'dire_team_id',\n",
    "           'dire_score', 'radiant_name', 'dire_name','league_name'], axis=1)\n",
    "contr = contr.drop(contr.loc[:, 'radiant_H1' : 'dire_P5'], axis=1)\n",
    "\n",
    "\n",
    "# Оставляю только важные фичи, убираю из рейтинга команд ело32 и ело64\n",
    "contr = contr.drop(contr.loc[:, 'radiant_current_elo32':'radiant_thirtyDayAvg_elo64'], axis=1)\n",
    "contr = contr.drop(contr.loc[:, 'dire_current_elo32':'dire_thirtyDayAvg_elo64'], axis=1)\n",
    "\n",
    "len(contr)"
   ]
  },
  {
   "cell_type": "code",
   "execution_count": 154,
   "metadata": {},
   "outputs": [
    {
     "data": {
      "text/plain": [
       "451"
      ]
     },
     "execution_count": 154,
     "metadata": {},
     "output_type": "execute_result"
    }
   ],
   "source": [
    "# Заполнить пустые значения на 0\n",
    "contr = contr.fillna(0)\n",
    "\n",
    "# # убрать пустые ячейки\n",
    "# contr = contr.dropna()\n",
    "len(contr)"
   ]
  },
  {
   "cell_type": "code",
   "execution_count": 155,
   "metadata": {},
   "outputs": [
    {
     "data": {
      "text/plain": [
       "Index(['radiant_mu_glicko', 'radiant_rating_glicko',\n",
       "       'radiant_ratingSevenDaysAgo_glicko', 'radiant_sigma_glicko',\n",
       "       'radiant_mu_glicko2', 'radiant_phi_glicko2', 'radiant_rating_glicko2',\n",
       "       'radiant_ratingSevenDaysAgo_glicko2', 'dire_mu_glicko',\n",
       "       'dire_rating_glicko', 'dire_ratingSevenDaysAgo_glicko',\n",
       "       'dire_sigma_glicko', 'dire_mu_glicko2', 'dire_phi_glicko2',\n",
       "       'dire_rating_glicko2', 'dire_ratingSevenDaysAgo_glicko2',\n",
       "       'radiant_H1elo_vs_enemies', 'radiant_H2elo_vs_enemies',\n",
       "       'radiant_H3elo_vs_enemies', 'radiant_H4elo_vs_enemies',\n",
       "       'radiant_H5elo_vs_enemies', 'dire_H1elo_vs_enemies',\n",
       "       'dire_H2elo_vs_enemies', 'dire_H3elo_vs_enemies',\n",
       "       'dire_H4elo_vs_enemies', 'dire_H5elo_vs_enemies', 'radiant_H1_AvgElo',\n",
       "       'radiant_H2_AvgElo', 'radiant_H3_AvgElo', 'radiant_H4_AvgElo',\n",
       "       'radiant_H5_AvgElo', 'dire_H1_AvgElo', 'dire_H2_AvgElo',\n",
       "       'dire_H3_AvgElo', 'dire_H4_AvgElo', 'dire_H5_AvgElo',\n",
       "       'radiant_P1_eloShift', 'radiant_P2_eloShift', 'radiant_P3_eloShift',\n",
       "       'radiant_P4_eloShift', 'radiant_P5_eloShift', 'dire_P1_eloShift',\n",
       "       'dire_P2_eloShift', 'dire_P3_eloShift', 'dire_P4_eloShift',\n",
       "       'dire_P5_eloShift'],\n",
       "      dtype='object')"
      ]
     },
     "execution_count": 155,
     "metadata": {},
     "output_type": "execute_result"
    }
   ],
   "source": [
    "# Создание контрольной выборки\n",
    "# Cделать обучающие данные и ответы\n",
    "X_contr = contr.drop(['radiant_win'], axis=1)\n",
    "y_contr = contr['radiant_win']\n",
    "\n",
    "# СДЕЛАТЬ 1 или 0 вместо true false\n",
    "y_contr = y_contr.astype(int)\n",
    "X_contr.columns"
   ]
  },
  {
   "cell_type": "code",
   "execution_count": 100,
   "metadata": {
    "collapsed": true
   },
   "outputs": [],
   "source": [
    "# gb_auc_contr = metrics.roc_auc_score(y_contr, best_GB.predict_proba(X_contr)[:,1])\n",
    "# print('AUC для градиентного бустинга - {:.3f}'.format(gb_auc_contr))"
   ]
  },
  {
   "cell_type": "code",
   "execution_count": 101,
   "metadata": {
    "collapsed": true
   },
   "outputs": [],
   "source": [
    "# y_contr_lower_threshold = best_GB.predict_proba(X_contr)[:,1] > .5\n",
    "# print (classification_report(y_contr, y_contr_lower_threshold))"
   ]
  },
  {
   "cell_type": "code",
   "execution_count": 156,
   "metadata": {},
   "outputs": [
    {
     "name": "stdout",
     "output_type": "stream",
     "text": [
      "             precision    recall  f1-score   support\n",
      "\n",
      "   dire_win       0.58      0.61      0.60       188\n",
      "radiant_win       0.71      0.69      0.70       263\n",
      "\n",
      "avg / total       0.66      0.66      0.66       451\n",
      "\n"
     ]
    }
   ],
   "source": [
    "\n",
    "print(classification_report(y_contr, XGB.predict(X_contr), target_names=['dire_win', 'radiant_win']))"
   ]
  },
  {
   "cell_type": "code",
   "execution_count": 104,
   "metadata": {
    "collapsed": true
   },
   "outputs": [],
   "source": [
    "filename = 'grid_search_GB_model_allData_2018.05.06.sav'\n",
    "grid_search_GB = pickle.load(open(filename, 'rb'))\n",
    "print(classification_report(y_contr, grid_search_GB.predict(X_contr), target_names=['dire_win', 'radiant_win']))"
   ]
  },
  {
   "cell_type": "code",
   "execution_count": null,
   "metadata": {
    "collapsed": true
   },
   "outputs": [],
   "source": []
  },
  {
   "cell_type": "code",
   "execution_count": null,
   "metadata": {
    "collapsed": true
   },
   "outputs": [],
   "source": []
  },
  {
   "cell_type": "code",
   "execution_count": null,
   "metadata": {
    "collapsed": true
   },
   "outputs": [],
   "source": []
  },
  {
   "cell_type": "code",
   "execution_count": null,
   "metadata": {
    "collapsed": true
   },
   "outputs": [],
   "source": []
  },
  {
   "cell_type": "code",
   "execution_count": null,
   "metadata": {
    "collapsed": true
   },
   "outputs": [],
   "source": []
  },
  {
   "cell_type": "code",
   "execution_count": null,
   "metadata": {
    "collapsed": true
   },
   "outputs": [],
   "source": []
  },
  {
   "cell_type": "code",
   "execution_count": null,
   "metadata": {
    "collapsed": true
   },
   "outputs": [],
   "source": []
  },
  {
   "cell_type": "code",
   "execution_count": null,
   "metadata": {
    "collapsed": true
   },
   "outputs": [],
   "source": []
  },
  {
   "cell_type": "code",
   "execution_count": null,
   "metadata": {
    "collapsed": true
   },
   "outputs": [],
   "source": []
  },
  {
   "cell_type": "code",
   "execution_count": null,
   "metadata": {
    "collapsed": true
   },
   "outputs": [],
   "source": []
  },
  {
   "cell_type": "code",
   "execution_count": null,
   "metadata": {
    "collapsed": true
   },
   "outputs": [],
   "source": []
  },
  {
   "cell_type": "code",
   "execution_count": null,
   "metadata": {
    "collapsed": true
   },
   "outputs": [],
   "source": []
  }
 ],
 "metadata": {
  "kernelspec": {
   "display_name": "Python 3",
   "language": "python",
   "name": "python3"
  },
  "language_info": {
   "codemirror_mode": {
    "name": "ipython",
    "version": 3
   },
   "file_extension": ".py",
   "mimetype": "text/x-python",
   "name": "python",
   "nbconvert_exporter": "python",
   "pygments_lexer": "ipython3",
   "version": "3.6.3"
  }
 },
 "nbformat": 4,
 "nbformat_minor": 2
}
