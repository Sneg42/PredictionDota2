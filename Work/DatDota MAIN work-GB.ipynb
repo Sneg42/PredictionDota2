{
 "cells": [
  {
   "cell_type": "code",
   "execution_count": 1,
   "metadata": {
    "collapsed": true
   },
   "outputs": [],
   "source": [
    "import pandas as pd\n",
    "import numpy as np\n",
    "import math\n",
    "import helper\n",
    "import time\n",
    "import datetime\n",
    "import matplotlib.pyplot as plt\n",
    "from sklearn.linear_model import LogisticRegression\n",
    "from sklearn.ensemble import RandomForestClassifier, RandomForestRegressor\n",
    "from sklearn.neural_network import MLPClassifier\n",
    "from sklearn.tree import DecisionTreeClassifier, DecisionTreeRegressor\n",
    "from sklearn.ensemble import GradientBoostingClassifier, GradientBoostingRegressor\n",
    "from sklearn.neighbors import KNeighborsClassifier, KNeighborsRegressor\n",
    "from sklearn.svm import SVC, SVR\n",
    "\n",
    "from sklearn import metrics\n",
    "from sklearn.model_selection import KFold, cross_val_score, LeaveOneOut, ShuffleSplit, train_test_split, GridSearchCV \n",
    "from sklearn.feature_selection import SelectPercentile, SelectFromModel\n",
    "import pickle    "
   ]
  },
  {
   "cell_type": "markdown",
   "metadata": {},
   "source": [
    "# Подгрузка всех таблиц с данными по матчям"
   ]
  },
  {
   "cell_type": "code",
   "execution_count": 16,
   "metadata": {},
   "outputs": [],
   "source": [
    "# дф с матчами и рейтингом каждой команды с патча 7.01 для Премиум\n",
    "df_rating_teams_Premium = pd.read_csv('../tabel/table from Datdota/tabel with rating teams PREMIUM (with double Infamous).csv', index_col=0)\n",
    "# удалить повторяющиеся матчи с Infamous, и сделать реиндекс \n",
    "df_rating_teams_Premium = df_rating_teams_Premium.drop(1).reset_index().drop('index', axis=1)\n",
    "\n",
    "# ДФ с KDA героев для всех\n",
    "df_KDA_hereos = pd.read_csv('../tabel/table from Datdota/tabel with KDA heroes in match.csv', index_col=0)\n",
    "\n",
    "# ДФ c KDA героев для каждой команды индивидуально\n",
    "df_KDA_hereos_teams = pd.read_csv('../tabel/table from Datdota/tabel with KDA heroes for teams in match.csv', index_col=0)\n",
    "# # выбросить столбцы с номерами героев\n",
    "# df_KDA_hereos = df_KDA_hereos.drop(['radiant_H1_hero', 'radiant_H2_hero', 'radiant_H3_hero', 'radiant_H4_hero', 'radiant_H5_hero',\n",
    "#                                     'dire_H1_hero', 'dire_H2_hero', 'dire_H3_hero', 'dire_H4_hero', 'dire_H5_hero'], axis=1)\n",
    "# df_KDA_hereos_teams = df_KDA_hereos_teams.drop(['radiant_H1_hero', 'radiant_H2_hero', 'radiant_H3_hero', 'radiant_H4_hero', \n",
    "#                                     'radiant_H5_hero', 'dire_H1_hero', 'dire_H2_hero', 'dire_H3_hero', 'dire_H4_hero', \n",
    "#                                                 'dire_H5_hero'], axis=1)\n",
    "\n",
    "# ДФ с контрпиками (head-to-head)\n",
    "df_contrpick = pd.read_csv('../tabel/table from Datdota/tabel elo heroes in match vs enemies (head-to_head, contrPicks).csv', index_col=0)\n",
    "\n",
    "# ДФ с типом героев\n",
    "df_type_heroes = pd.read_csv('../tabel/table from Datdota/tabel summ features heroes PREMIUM (carry, support, nucker...).csv', index_col=0)\n",
    "\n",
    "# ДФ с метовыми героями\n",
    "df_meta_heroes = pd.read_csv('../tabel/table from Datdota/tabel with AvgElo heroes (meta).csv', index_col=0)\n",
    "\n",
    "# ДФ с сигнатурками\n",
    "df_signatures_heroes = pd.read_csv('../tabel/table from Datdota/tabel with AvgElo heroes for teams (signatures).csv', index_col=0)\n"
   ]
  },
  {
   "cell_type": "markdown",
   "metadata": {},
   "source": [
    "# Создание основного ДФ для обучения и предсказания"
   ]
  },
  {
   "cell_type": "code",
   "execution_count": 17,
   "metadata": {},
   "outputs": [
    {
     "data": {
      "text/plain": [
       "3729"
      ]
     },
     "execution_count": 17,
     "metadata": {},
     "output_type": "execute_result"
    }
   ],
   "source": [
    "# Соединение всех данных в один ДФ\n",
    "main = pd.merge(df_rating_teams_Premium, df_KDA_hereos, left_on='match_id', right_on='match_id',how='left')\n",
    "main = pd.merge(main, df_KDA_hereos_teams, left_on='match_id', right_on='match_id',how='left')\n",
    "main = pd.merge(main, df_contrpick, left_on='match_id', right_on='match_id',how='left')\n",
    "main = pd.merge(main, df_type_heroes, left_on='match_id', right_on='match_id',how='left')\n",
    "main = pd.merge(main, df_meta_heroes, left_on='match_id', right_on='match_id',how='left')\n",
    "main = pd.merge(main, df_signatures_heroes, left_on='match_id', right_on='match_id',how='left')\n",
    "\n",
    "# # удаление не нужных колонок для обучения\n",
    "# main = main.drop(['match_id', 'start_time', 'radiant_team_id', 'radiant_score', 'dire_team_id',\n",
    "#            'dire_score', 'radiant_name', 'dire_name'], axis=1)\n",
    "len(main)"
   ]
  },
  {
   "cell_type": "code",
   "execution_count": 4,
   "metadata": {},
   "outputs": [
    {
     "name": "stdout",
     "output_type": "stream",
     "text": [
      "<class 'pandas.core.frame.DataFrame'>\n",
      "Int64Index: 3729 entries, 0 to 3728\n",
      "Data columns (total 365 columns):\n",
      "radiant_win                           3729 non-null bool\n",
      "radiant_current_elo32                 3729 non-null float64\n",
      "radiant_sevenDayAgo_elo32             3722 non-null float64\n",
      "radiant_sevenDayAvg_elo32             3729 non-null float64\n",
      "radiant_thirtyDayAgo_elo32            3685 non-null float64\n",
      "radiant_thirtyDayAvg_elo32            3729 non-null float64\n",
      "radiant_current_elo64                 3729 non-null float64\n",
      "radiant_sevenDayAgo_elo64             3722 non-null float64\n",
      "radiant_sevenDayAvg_elo64             3729 non-null float64\n",
      "radiant_thirtyDayAgo_elo64            3685 non-null float64\n",
      "radiant_thirtyDayAvg_elo64            3729 non-null float64\n",
      "radiant_mu_glicko                     3729 non-null float64\n",
      "radiant_rating_glicko                 3729 non-null float64\n",
      "radiant_ratingSevenDaysAgo_glicko     3729 non-null float64\n",
      "radiant_sigma_glicko                  3729 non-null float64\n",
      "radiant_mu_glicko2                    3729 non-null float64\n",
      "radiant_phi_glicko2                   3729 non-null float64\n",
      "radiant_rating_glicko2                3729 non-null float64\n",
      "radiant_ratingSevenDaysAgo_glicko2    3729 non-null float64\n",
      "dire_current_elo32                    3729 non-null float64\n",
      "dire_sevenDayAgo_elo32                3717 non-null float64\n",
      "dire_sevenDayAvg_elo32                3729 non-null float64\n",
      "dire_thirtyDayAgo_elo32               3680 non-null float64\n",
      "dire_thirtyDayAvg_elo32               3729 non-null float64\n",
      "dire_current_elo64                    3729 non-null float64\n",
      "dire_sevenDayAgo_elo64                3717 non-null float64\n",
      "dire_sevenDayAvg_elo64                3729 non-null float64\n",
      "dire_thirtyDayAgo_elo64               3680 non-null float64\n",
      "dire_thirtyDayAvg_elo64               3729 non-null float64\n",
      "dire_mu_glicko                        3729 non-null float64\n",
      "dire_rating_glicko                    3729 non-null float64\n",
      "dire_ratingSevenDaysAgo_glicko        3729 non-null float64\n",
      "dire_sigma_glicko                     3729 non-null float64\n",
      "dire_mu_glicko2                       3729 non-null float64\n",
      "dire_phi_glicko2                      3729 non-null float64\n",
      "dire_rating_glicko2                   3729 non-null float64\n",
      "dire_ratingSevenDaysAgo_glicko2       3729 non-null float64\n",
      "radiant_H1_kills_x                    3729 non-null float64\n",
      "radiant_H1_deaths_x                   3729 non-null float64\n",
      "radiant_H1_assists_x                  3729 non-null float64\n",
      "radiant_H1_kda_x                      3729 non-null float64\n",
      "radiant_H1_avgKal_x                   3729 non-null float64\n",
      "radiant_H1_gpm_x                      3729 non-null float64\n",
      "radiant_H1_xpm_x                      3729 non-null float64\n",
      "radiant_H1_lastHits_x                 3729 non-null float64\n",
      "radiant_H1_denies_x                   3729 non-null float64\n",
      "radiant_H1_level_x                    3729 non-null float64\n",
      "radiant_H1_heroDamage_x               3729 non-null float64\n",
      "radiant_H1_towerDamage_x              3729 non-null float64\n",
      "radiant_H1_heroHealing_x              3729 non-null float64\n",
      "radiant_H1_goldSpent_x                3729 non-null float64\n",
      "radiant_H2_kills_x                    3728 non-null float64\n",
      "radiant_H2_deaths_x                   3728 non-null float64\n",
      "radiant_H2_assists_x                  3728 non-null float64\n",
      "radiant_H2_kda_x                      3728 non-null float64\n",
      "radiant_H2_avgKal_x                   3728 non-null float64\n",
      "radiant_H2_gpm_x                      3728 non-null float64\n",
      "radiant_H2_xpm_x                      3728 non-null float64\n",
      "radiant_H2_lastHits_x                 3728 non-null float64\n",
      "radiant_H2_denies_x                   3728 non-null float64\n",
      "radiant_H2_level_x                    3728 non-null float64\n",
      "radiant_H2_heroDamage_x               3728 non-null float64\n",
      "radiant_H2_towerDamage_x              3728 non-null float64\n",
      "radiant_H2_heroHealing_x              3728 non-null float64\n",
      "radiant_H2_goldSpent_x                3728 non-null float64\n",
      "radiant_H3_kills_x                    3729 non-null float64\n",
      "radiant_H3_deaths_x                   3729 non-null float64\n",
      "radiant_H3_assists_x                  3729 non-null float64\n",
      "radiant_H3_kda_x                      3729 non-null float64\n",
      "radiant_H3_avgKal_x                   3729 non-null float64\n",
      "radiant_H3_gpm_x                      3729 non-null float64\n",
      "radiant_H3_xpm_x                      3729 non-null float64\n",
      "radiant_H3_lastHits_x                 3729 non-null float64\n",
      "radiant_H3_denies_x                   3729 non-null float64\n",
      "radiant_H3_level_x                    3729 non-null float64\n",
      "radiant_H3_heroDamage_x               3729 non-null float64\n",
      "radiant_H3_towerDamage_x              3729 non-null float64\n",
      "radiant_H3_heroHealing_x              3729 non-null float64\n",
      "radiant_H3_goldSpent_x                3729 non-null float64\n",
      "radiant_H4_kills_x                    3728 non-null float64\n",
      "radiant_H4_deaths_x                   3728 non-null float64\n",
      "radiant_H4_assists_x                  3728 non-null float64\n",
      "radiant_H4_kda_x                      3728 non-null float64\n",
      "radiant_H4_avgKal_x                   3728 non-null float64\n",
      "radiant_H4_gpm_x                      3728 non-null float64\n",
      "radiant_H4_xpm_x                      3728 non-null float64\n",
      "radiant_H4_lastHits_x                 3728 non-null float64\n",
      "radiant_H4_denies_x                   3728 non-null float64\n",
      "radiant_H4_level_x                    3728 non-null float64\n",
      "radiant_H4_heroDamage_x               3728 non-null float64\n",
      "radiant_H4_towerDamage_x              3728 non-null float64\n",
      "radiant_H4_heroHealing_x              3728 non-null float64\n",
      "radiant_H4_goldSpent_x                3728 non-null float64\n",
      "radiant_H5_kills_x                    3729 non-null float64\n",
      "radiant_H5_deaths_x                   3729 non-null float64\n",
      "radiant_H5_assists_x                  3729 non-null float64\n",
      "radiant_H5_kda_x                      3729 non-null float64\n",
      "radiant_H5_avgKal_x                   3729 non-null float64\n",
      "radiant_H5_gpm_x                      3729 non-null float64\n",
      "radiant_H5_xpm_x                      3729 non-null float64\n",
      "radiant_H5_lastHits_x                 3729 non-null float64\n",
      "radiant_H5_denies_x                   3729 non-null float64\n",
      "radiant_H5_level_x                    3729 non-null float64\n",
      "radiant_H5_heroDamage_x               3729 non-null float64\n",
      "radiant_H5_towerDamage_x              3729 non-null float64\n",
      "radiant_H5_heroHealing_x              3729 non-null float64\n",
      "radiant_H5_goldSpent_x                3729 non-null float64\n",
      "dire_H1_kills_x                       3729 non-null float64\n",
      "dire_H1_deaths_x                      3729 non-null float64\n",
      "dire_H1_assists_x                     3729 non-null float64\n",
      "dire_H1_kda_x                         3729 non-null float64\n",
      "dire_H1_avgKal_x                      3729 non-null float64\n",
      "dire_H1_gpm_x                         3729 non-null float64\n",
      "dire_H1_xpm_x                         3729 non-null float64\n",
      "dire_H1_lastHits_x                    3729 non-null float64\n",
      "dire_H1_denies_x                      3729 non-null float64\n",
      "dire_H1_level_x                       3729 non-null float64\n",
      "dire_H1_heroDamage_x                  3729 non-null float64\n",
      "dire_H1_towerDamage_x                 3729 non-null float64\n",
      "dire_H1_heroHealing_x                 3729 non-null float64\n",
      "dire_H1_goldSpent_x                   3729 non-null float64\n",
      "dire_H2_kills_x                       3729 non-null float64\n",
      "dire_H2_deaths_x                      3729 non-null float64\n",
      "dire_H2_assists_x                     3729 non-null float64\n",
      "dire_H2_kda_x                         3729 non-null float64\n",
      "dire_H2_avgKal_x                      3729 non-null float64\n",
      "dire_H2_gpm_x                         3729 non-null float64\n",
      "dire_H2_xpm_x                         3729 non-null float64\n",
      "dire_H2_lastHits_x                    3729 non-null float64\n",
      "dire_H2_denies_x                      3729 non-null float64\n",
      "dire_H2_level_x                       3729 non-null float64\n",
      "dire_H2_heroDamage_x                  3729 non-null float64\n",
      "dire_H2_towerDamage_x                 3729 non-null float64\n",
      "dire_H2_heroHealing_x                 3729 non-null float64\n",
      "dire_H2_goldSpent_x                   3729 non-null float64\n",
      "dire_H3_kills_x                       3729 non-null float64\n",
      "dire_H3_deaths_x                      3729 non-null float64\n",
      "dire_H3_assists_x                     3729 non-null float64\n",
      "dire_H3_kda_x                         3729 non-null float64\n",
      "dire_H3_avgKal_x                      3729 non-null float64\n",
      "dire_H3_gpm_x                         3729 non-null float64\n",
      "dire_H3_xpm_x                         3729 non-null float64\n",
      "dire_H3_lastHits_x                    3729 non-null float64\n",
      "dire_H3_denies_x                      3729 non-null float64\n",
      "dire_H3_level_x                       3729 non-null float64\n",
      "dire_H3_heroDamage_x                  3729 non-null float64\n",
      "dire_H3_towerDamage_x                 3729 non-null float64\n",
      "dire_H3_heroHealing_x                 3729 non-null float64\n",
      "dire_H3_goldSpent_x                   3729 non-null float64\n",
      "dire_H4_kills_x                       3725 non-null float64\n",
      "dire_H4_deaths_x                      3725 non-null float64\n",
      "dire_H4_assists_x                     3725 non-null float64\n",
      "dire_H4_kda_x                         3725 non-null float64\n",
      "dire_H4_avgKal_x                      3725 non-null float64\n",
      "dire_H4_gpm_x                         3725 non-null float64\n",
      "dire_H4_xpm_x                         3725 non-null float64\n",
      "dire_H4_lastHits_x                    3725 non-null float64\n",
      "dire_H4_denies_x                      3725 non-null float64\n",
      "dire_H4_level_x                       3725 non-null float64\n",
      "dire_H4_heroDamage_x                  3725 non-null float64\n",
      "dire_H4_towerDamage_x                 3725 non-null float64\n",
      "dire_H4_heroHealing_x                 3725 non-null float64\n",
      "dire_H4_goldSpent_x                   3725 non-null float64\n",
      "dire_H5_kills_x                       3726 non-null float64\n",
      "dire_H5_deaths_x                      3726 non-null float64\n",
      "dire_H5_assists_x                     3726 non-null float64\n",
      "dire_H5_kda_x                         3726 non-null float64\n",
      "dire_H5_avgKal_x                      3726 non-null float64\n",
      "dire_H5_gpm_x                         3726 non-null float64\n",
      "dire_H5_xpm_x                         3726 non-null float64\n",
      "dire_H5_lastHits_x                    3726 non-null float64\n",
      "dire_H5_denies_x                      3726 non-null float64\n",
      "dire_H5_level_x                       3726 non-null float64\n",
      "dire_H5_heroDamage_x                  3726 non-null float64\n",
      "dire_H5_towerDamage_x                 3726 non-null float64\n",
      "dire_H5_heroHealing_x                 3726 non-null float64\n",
      "dire_H5_goldSpent_x                   3726 non-null float64\n",
      "dire_H1_assists_y                     3636 non-null float64\n",
      "dire_H1_avgKal_y                      3636 non-null float64\n",
      "dire_H1_deaths_y                      3636 non-null float64\n",
      "dire_H1_denies_y                      3636 non-null float64\n",
      "dire_H1_goldSpent_y                   3636 non-null float64\n",
      "dire_H1_gpm_y                         3636 non-null float64\n",
      "dire_H1_heroDamage_y                  3636 non-null float64\n",
      "dire_H1_heroHealing_y                 3636 non-null float64\n",
      "dire_H1_kda_y                         3625 non-null float64\n",
      "dire_H1_kills_y                       3636 non-null float64\n",
      "dire_H1_lastHits_y                    3636 non-null float64\n",
      "dire_H1_level_y                       3636 non-null float64\n",
      "dire_H1_towerDamage_y                 3636 non-null float64\n",
      "dire_H1_xpm_y                         3636 non-null float64\n",
      "dire_H2_assists_y                     3636 non-null float64\n",
      "dire_H2_avgKal_y                      3636 non-null float64\n",
      "dire_H2_deaths_y                      3636 non-null float64\n",
      "dire_H2_denies_y                      3636 non-null float64\n",
      "dire_H2_goldSpent_y                   3636 non-null float64\n",
      "dire_H2_gpm_y                         3636 non-null float64\n",
      "dire_H2_heroDamage_y                  3636 non-null float64\n",
      "dire_H2_heroHealing_y                 3636 non-null float64\n",
      "dire_H2_kda_y                         3621 non-null float64\n",
      "dire_H2_kills_y                       3636 non-null float64\n",
      "dire_H2_lastHits_y                    3636 non-null float64\n",
      "dire_H2_level_y                       3636 non-null float64\n",
      "dire_H2_towerDamage_y                 3636 non-null float64\n",
      "dire_H2_xpm_y                         3636 non-null float64\n",
      "dire_H3_assists_y                     3636 non-null float64\n",
      "dire_H3_avgKal_y                      3636 non-null float64\n",
      "dire_H3_deaths_y                      3636 non-null float64\n",
      "dire_H3_denies_y                      3636 non-null float64\n",
      "dire_H3_goldSpent_y                   3636 non-null float64\n",
      "dire_H3_gpm_y                         3636 non-null float64\n",
      "dire_H3_heroDamage_y                  3636 non-null float64\n",
      "dire_H3_heroHealing_y                 3636 non-null float64\n",
      "dire_H3_kda_y                         3612 non-null float64\n",
      "dire_H3_kills_y                       3636 non-null float64\n",
      "dire_H3_lastHits_y                    3636 non-null float64\n",
      "dire_H3_level_y                       3636 non-null float64\n",
      "dire_H3_towerDamage_y                 3636 non-null float64\n",
      "dire_H3_xpm_y                         3636 non-null float64\n",
      "dire_H4_assists_y                     3636 non-null float64\n",
      "dire_H4_avgKal_y                      3636 non-null float64\n",
      "dire_H4_deaths_y                      3636 non-null float64\n",
      "dire_H4_denies_y                      3636 non-null float64\n",
      "dire_H4_goldSpent_y                   3636 non-null float64\n",
      "dire_H4_gpm_y                         3636 non-null float64\n",
      "dire_H4_heroDamage_y                  3636 non-null float64\n",
      "dire_H4_heroHealing_y                 3636 non-null float64\n",
      "dire_H4_kda_y                         3613 non-null float64\n",
      "dire_H4_kills_y                       3636 non-null float64\n",
      "dire_H4_lastHits_y                    3636 non-null float64\n",
      "dire_H4_level_y                       3636 non-null float64\n",
      "dire_H4_towerDamage_y                 3636 non-null float64\n",
      "dire_H4_xpm_y                         3636 non-null float64\n",
      "dire_H5_assists_y                     3636 non-null float64\n",
      "dire_H5_avgKal_y                      3636 non-null float64\n",
      "dire_H5_deaths_y                      3636 non-null float64\n",
      "dire_H5_denies_y                      3636 non-null float64\n",
      "dire_H5_goldSpent_y                   3636 non-null float64\n",
      "dire_H5_gpm_y                         3636 non-null float64\n",
      "dire_H5_heroDamage_y                  3636 non-null float64\n",
      "dire_H5_heroHealing_y                 3636 non-null float64\n",
      "dire_H5_kda_y                         3611 non-null float64\n",
      "dire_H5_kills_y                       3636 non-null float64\n",
      "dire_H5_lastHits_y                    3636 non-null float64\n",
      "dire_H5_level_y                       3636 non-null float64\n",
      "dire_H5_towerDamage_y                 3636 non-null float64\n",
      "dire_H5_xpm_y                         3636 non-null float64\n",
      "radiant_H1_assists_y                  3630 non-null float64\n",
      "radiant_H1_avgKal_y                   3630 non-null float64\n",
      "radiant_H1_deaths_y                   3630 non-null float64\n",
      "radiant_H1_denies_y                   3630 non-null float64\n",
      "radiant_H1_goldSpent_y                3630 non-null float64\n",
      "radiant_H1_gpm_y                      3630 non-null float64\n",
      "radiant_H1_heroDamage_y               3630 non-null float64\n",
      "radiant_H1_heroHealing_y              3630 non-null float64\n",
      "radiant_H1_kda_y                      3611 non-null float64\n",
      "radiant_H1_kills_y                    3630 non-null float64\n",
      "radiant_H1_lastHits_y                 3630 non-null float64\n",
      "radiant_H1_level_y                    3630 non-null float64\n",
      "radiant_H1_towerDamage_y              3630 non-null float64\n",
      "radiant_H1_xpm_y                      3630 non-null float64\n",
      "radiant_H2_assists_y                  3630 non-null float64\n",
      "radiant_H2_avgKal_y                   3630 non-null float64\n",
      "radiant_H2_deaths_y                   3630 non-null float64\n",
      "radiant_H2_denies_y                   3630 non-null float64\n",
      "radiant_H2_goldSpent_y                3630 non-null float64\n",
      "radiant_H2_gpm_y                      3630 non-null float64\n",
      "radiant_H2_heroDamage_y               3630 non-null float64\n",
      "radiant_H2_heroHealing_y              3630 non-null float64\n",
      "radiant_H2_kda_y                      3599 non-null float64\n",
      "radiant_H2_kills_y                    3630 non-null float64\n",
      "radiant_H2_lastHits_y                 3630 non-null float64\n",
      "radiant_H2_level_y                    3630 non-null float64\n",
      "radiant_H2_towerDamage_y              3630 non-null float64\n",
      "radiant_H2_xpm_y                      3630 non-null float64\n",
      "radiant_H3_assists_y                  3630 non-null float64\n",
      "radiant_H3_avgKal_y                   3630 non-null float64\n",
      "radiant_H3_deaths_y                   3630 non-null float64\n",
      "radiant_H3_denies_y                   3630 non-null float64\n",
      "radiant_H3_goldSpent_y                3630 non-null float64\n",
      "radiant_H3_gpm_y                      3630 non-null float64\n",
      "radiant_H3_heroDamage_y               3630 non-null float64\n",
      "radiant_H3_heroHealing_y              3630 non-null float64\n",
      "radiant_H3_kda_y                      3603 non-null float64\n",
      "radiant_H3_kills_y                    3630 non-null float64\n",
      "radiant_H3_lastHits_y                 3630 non-null float64\n",
      "radiant_H3_level_y                    3630 non-null float64\n",
      "radiant_H3_towerDamage_y              3630 non-null float64\n",
      "radiant_H3_xpm_y                      3630 non-null float64\n",
      "radiant_H4_assists_y                  3630 non-null float64\n",
      "radiant_H4_avgKal_y                   3630 non-null float64\n",
      "radiant_H4_deaths_y                   3630 non-null float64\n",
      "radiant_H4_denies_y                   3630 non-null float64\n",
      "radiant_H4_goldSpent_y                3630 non-null float64\n",
      "radiant_H4_gpm_y                      3630 non-null float64\n",
      "radiant_H4_heroDamage_y               3630 non-null float64\n",
      "radiant_H4_heroHealing_y              3630 non-null float64\n",
      "radiant_H4_kda_y                      3603 non-null float64\n",
      "radiant_H4_kills_y                    3630 non-null float64\n",
      "radiant_H4_lastHits_y                 3630 non-null float64\n",
      "radiant_H4_level_y                    3630 non-null float64\n",
      "radiant_H4_towerDamage_y              3630 non-null float64\n",
      "radiant_H4_xpm_y                      3630 non-null float64\n",
      "radiant_H5_assists_y                  3630 non-null float64\n",
      "radiant_H5_avgKal_y                   3630 non-null float64\n",
      "radiant_H5_deaths_y                   3630 non-null float64\n",
      "radiant_H5_denies_y                   3630 non-null float64\n",
      "radiant_H5_goldSpent_y                3630 non-null float64\n",
      "radiant_H5_gpm_y                      3630 non-null float64\n",
      "radiant_H5_heroDamage_y               3630 non-null float64\n",
      "radiant_H5_heroHealing_y              3630 non-null float64\n",
      "radiant_H5_kda_y                      3614 non-null float64\n",
      "radiant_H5_kills_y                    3630 non-null float64\n",
      "radiant_H5_lastHits_y                 3630 non-null float64\n",
      "radiant_H5_level_y                    3630 non-null float64\n",
      "radiant_H5_towerDamage_y              3630 non-null float64\n",
      "radiant_H5_xpm_y                      3630 non-null float64\n",
      "radiant_H1elo_vs_enemies              3729 non-null float64\n",
      "radiant_H2elo_vs_enemies              3729 non-null float64\n",
      "radiant_H3elo_vs_enemies              3729 non-null float64\n",
      "radiant_H4elo_vs_enemies              3729 non-null float64\n",
      "radiant_H5elo_vs_enemies              3729 non-null float64\n",
      "dire_H1elo_vs_enemies                 3729 non-null float64\n",
      "dire_H2elo_vs_enemies                 3729 non-null float64\n",
      "dire_H3elo_vs_enemies                 3729 non-null float64\n",
      "dire_H4elo_vs_enemies                 3729 non-null float64\n",
      "dire_H5elo_vs_enemies                 3729 non-null float64\n",
      "radiant_Disabler                      3729 non-null float64\n",
      "radiant_Nuker                         3729 non-null float64\n",
      "radiant_Carry                         3729 non-null float64\n",
      "radiant_Initiator                     3729 non-null float64\n",
      "radiant_Escape                        3729 non-null float64\n",
      "radiant_Durable                       3729 non-null float64\n",
      "radiant_Support                       3729 non-null float64\n",
      "radiant_Pusher                        3729 non-null float64\n",
      "radiant_Jungler                       3729 non-null float64\n",
      "dire_Disabler                         3729 non-null float64\n",
      "dire_Nuker                            3729 non-null float64\n",
      "dire_Carry                            3729 non-null float64\n",
      "dire_Initiator                        3729 non-null float64\n",
      "dire_Escape                           3729 non-null float64\n",
      "dire_Durable                          3729 non-null float64\n",
      "dire_Support                          3729 non-null float64\n",
      "dire_Pusher                           3729 non-null float64\n",
      "dire_Jungler                          3729 non-null float64\n",
      "radiant_H1_AvgElo_x                   3729 non-null float64\n",
      "radiant_H2_AvgElo_x                   3729 non-null float64\n",
      "radiant_H3_AvgElo_x                   3729 non-null float64\n",
      "radiant_H4_AvgElo_x                   3729 non-null float64\n",
      "radiant_H5_AvgElo_x                   3729 non-null float64\n",
      "dire_H1_AvgElo_x                      3729 non-null float64\n",
      "dire_H2_AvgElo_x                      3729 non-null float64\n",
      "dire_H3_AvgElo_x                      3729 non-null float64\n",
      "dire_H4_AvgElo_x                      3729 non-null float64\n",
      "dire_H5_AvgElo_x                      3729 non-null float64\n",
      "radiant_H1_AvgElo_y                   3729 non-null float64\n",
      "radiant_H2_AvgElo_y                   3729 non-null float64\n",
      "radiant_H3_AvgElo_y                   3729 non-null float64\n",
      "radiant_H4_AvgElo_y                   3729 non-null float64\n",
      "radiant_H5_AvgElo_y                   3729 non-null float64\n",
      "dire_H1_AvgElo_y                      3729 non-null float64\n",
      "dire_H2_AvgElo_y                      3729 non-null float64\n",
      "dire_H3_AvgElo_y                      3729 non-null float64\n",
      "dire_H4_AvgElo_y                      3729 non-null float64\n",
      "dire_H5_AvgElo_y                      3729 non-null float64\n",
      "dtypes: bool(1), float64(364)\n",
      "memory usage: 10.4 MB\n"
     ]
    }
   ],
   "source": [
    "main.info(verbose=True, null_counts=True)"
   ]
  },
  {
   "cell_type": "code",
   "execution_count": 5,
   "metadata": {
    "collapsed": true
   },
   "outputs": [],
   "source": [
    "# Заполнить пустые значения на 0\n",
    "main = main.fillna(0)"
   ]
  },
  {
   "cell_type": "code",
   "execution_count": null,
   "metadata": {
    "collapsed": true
   },
   "outputs": [],
   "source": []
  },
  {
   "cell_type": "markdown",
   "metadata": {},
   "source": [
    "# Создание обучающих и тестовых данных"
   ]
  },
  {
   "cell_type": "code",
   "execution_count": 6,
   "metadata": {
    "collapsed": true
   },
   "outputs": [],
   "source": [
    "# удалть имена команд и сделать обучающие данные и ответы\n",
    "X = main.drop(['radiant_win'], axis=1)\n",
    "y = main['radiant_win']\n",
    "\n",
    "# СДЕЛАТЬ 1 или 0 вместо true false\n",
    "y = y.astype(int)\n",
    "\n",
    "# деление на тестовые и обучающую выборку\n",
    "X_train, X_test, y_train, y_test = train_test_split(X,y, random_state=0)"
   ]
  },
  {
   "cell_type": "markdown",
   "metadata": {},
   "source": [
    "# Решетчатый поиск на Gradient Bosting"
   ]
  },
  {
   "cell_type": "code",
   "execution_count": 7,
   "metadata": {},
   "outputs": [
    {
     "name": "stdout",
     "output_type": "stream",
     "text": [
      "Правильность на тестовом наборе: 0.73\n",
      "Наилучшие значения параметров: {'max_depth': 10, 'max_features': 50, 'n_estimators': 100}\n",
      "Наилучшее значение кросс-валидац. правильности:0.73\n",
      "Wall time: 24 s\n"
     ]
    }
   ],
   "source": [
    "%%time\n",
    "# Праметры GB\n",
    "# param_grid = {'n_estimators': [25, 50, 100, 150], 'max_depth': [10, 25, 50, 100],\n",
    "#               'max_features': [50, 100, 200, 300]}\n",
    "param_grid = {'n_estimators': [100], 'max_depth': [10],\n",
    "              'max_features': [50]}\n",
    "grid_search_GB = GridSearchCV(GradientBoostingClassifier(), param_grid, cv=5, n_jobs=-1)\n",
    "\n",
    "grid_search_GB.fit(X_train,y_train)\n",
    "\n",
    "print(\"Правильность на тестовом наборе: {:.2f}\".format(grid_search_GB.score(X_test, y_test)))\n",
    "print(\"Наилучшие значения параметров: {}\".format(grid_search_GB.best_params_))\n",
    "print(\"Наилучшее значение кросс-валидац. правильности:{:.2f}\".format(grid_search_GB.best_score_))"
   ]
  },
  {
   "cell_type": "code",
   "execution_count": 8,
   "metadata": {},
   "outputs": [
    {
     "name": "stderr",
     "output_type": "stream",
     "text": [
      "C:\\Apps\\Anaconda3\\lib\\site-packages\\sklearn\\cross_validation.py:41: DeprecationWarning: This module was deprecated in version 0.18 in favor of the model_selection module into which all the refactored classes and functions are moved. Also note that the interface of the new CV iterators are different from that of this module. This module will be removed in 0.20.\n",
      "  \"This module will be removed in 0.20.\", DeprecationWarning)\n"
     ]
    },
    {
     "name": "stdout",
     "output_type": "stream",
     "text": [
      "0.714898177921\n",
      "Wall time: 3.32 s\n"
     ]
    }
   ],
   "source": [
    "%%time\n",
    "import xgboost as xgb\n",
    "# fit model no training data\n",
    "model = xgb.XGBClassifier(max_depth=10)\n",
    "model.fit(X_train, y_train)\n",
    "print (model.score(X_test, y_test))"
   ]
  },
  {
   "cell_type": "markdown",
   "metadata": {},
   "source": [
    "# Проверка правильности данных"
   ]
  },
  {
   "cell_type": "code",
   "execution_count": 26,
   "metadata": {},
   "outputs": [
    {
     "data": {
      "text/plain": [
       "radiant_H5_xpm_y             351.167\n",
       "radiant_H1elo_vs_enemies    -15.3443\n",
       "radiant_H2elo_vs_enemies    -7.53192\n",
       "radiant_H3elo_vs_enemies    -2.70077\n",
       "radiant_H4elo_vs_enemies     16.1597\n",
       "radiant_H5elo_vs_enemies     2.75975\n",
       "dire_H1elo_vs_enemies       -2.03825\n",
       "dire_H2elo_vs_enemies        -14.792\n",
       "dire_H3elo_vs_enemies       -6.54423\n",
       "dire_H4elo_vs_enemies        4.15484\n",
       "dire_H5elo_vs_enemies          9.947\n",
       "radiant_Disabler                   4\n",
       "radiant_Nuker                      4\n",
       "radiant_Carry                      2\n",
       "radiant_Initiator                  4\n",
       "radiant_Escape                     2\n",
       "radiant_Durable                    2\n",
       "radiant_Support                    2\n",
       "radiant_Pusher                     1\n",
       "radiant_Jungler                    1\n",
       "dire_Disabler                      5\n",
       "dire_Nuker                         2\n",
       "dire_Carry                         4\n",
       "dire_Initiator                     3\n",
       "dire_Escape                        2\n",
       "dire_Durable                       1\n",
       "dire_Support                       2\n",
       "dire_Pusher                        1\n",
       "dire_Jungler                       1\n",
       "radiant_H1_AvgElo_x                0\n",
       "radiant_H2_AvgElo_x                0\n",
       "radiant_H3_AvgElo_x          5.02275\n",
       "radiant_H4_AvgElo_x         -7.22301\n",
       "radiant_H5_AvgElo_x         0.588956\n",
       "dire_H1_AvgElo_x           -0.327158\n",
       "dire_H2_AvgElo_x           -0.711979\n",
       "dire_H3_AvgElo_x            0.560249\n",
       "dire_H4_AvgElo_x            -1.01022\n",
       "dire_H5_AvgElo_x             5.87109\n",
       "radiant_H1_AvgElo_y                0\n",
       "radiant_H2_AvgElo_y                0\n",
       "radiant_H3_AvgElo_y          8.99512\n",
       "radiant_H4_AvgElo_y                0\n",
       "radiant_H5_AvgElo_y        -0.334557\n",
       "dire_H1_AvgElo_y            -4.03018\n",
       "dire_H2_AvgElo_y                   0\n",
       "dire_H3_AvgElo_y                   0\n",
       "dire_H4_AvgElo_y            -6.00567\n",
       "dire_H5_AvgElo_y            -12.1609\n",
       "Name: 1001, dtype: object"
      ]
     },
     "execution_count": 26,
     "metadata": {},
     "output_type": "execute_result"
    }
   ],
   "source": [
    "main.loc[1001, 'radiant_H5_xpm_y':]"
   ]
  },
  {
   "cell_type": "code",
   "execution_count": 13,
   "metadata": {},
   "outputs": [
    {
     "data": {
      "text/plain": [
       "datetime.date(2017, 6, 26)"
      ]
     },
     "execution_count": 13,
     "metadata": {},
     "output_type": "execute_result"
    }
   ],
   "source": [
    "import datetime\n",
    "datetime.date.fromtimestamp(1498454706)"
   ]
  },
  {
   "cell_type": "code",
   "execution_count": null,
   "metadata": {},
   "outputs": [],
   "source": [
    "df_meta_heroes[df_meta_heroes['match_id'] == 3274564960]"
   ]
  },
  {
   "cell_type": "code",
   "execution_count": null,
   "metadata": {
    "collapsed": true
   },
   "outputs": [],
   "source": []
  },
  {
   "cell_type": "code",
   "execution_count": null,
   "metadata": {
    "collapsed": true
   },
   "outputs": [],
   "source": []
  },
  {
   "cell_type": "code",
   "execution_count": null,
   "metadata": {
    "collapsed": true
   },
   "outputs": [],
   "source": []
  },
  {
   "cell_type": "code",
   "execution_count": null,
   "metadata": {
    "collapsed": true
   },
   "outputs": [],
   "source": []
  },
  {
   "cell_type": "code",
   "execution_count": null,
   "metadata": {
    "collapsed": true
   },
   "outputs": [],
   "source": []
  },
  {
   "cell_type": "code",
   "execution_count": null,
   "metadata": {
    "collapsed": true
   },
   "outputs": [],
   "source": []
  },
  {
   "cell_type": "code",
   "execution_count": null,
   "metadata": {
    "collapsed": true
   },
   "outputs": [],
   "source": []
  }
 ],
 "metadata": {
  "kernelspec": {
   "display_name": "Python 3",
   "language": "python",
   "name": "python3"
  },
  "language_info": {
   "codemirror_mode": {
    "name": "ipython",
    "version": 3
   },
   "file_extension": ".py",
   "mimetype": "text/x-python",
   "name": "python",
   "nbconvert_exporter": "python",
   "pygments_lexer": "ipython3",
   "version": "3.6.3"
  }
 },
 "nbformat": 4,
 "nbformat_minor": 2
}
