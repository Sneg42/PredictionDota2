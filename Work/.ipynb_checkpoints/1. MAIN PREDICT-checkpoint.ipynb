{
 "cells": [
  {
   "cell_type": "code",
   "execution_count": 1,
   "metadata": {},
   "outputs": [],
   "source": [
    "import sys\n",
    "sys.path.append('C:\\\\Users\\\\User\\\\1_MY_WORK\\\\1_Data_Scientist_and_ML_Project\\\\PredictionDota2\\\\HelpModules')\n",
    "import pandas as pd\n",
    "import numpy as np\n",
    "import math, json, urllib, pickle\n",
    "from datetime import date, timedelta\n",
    "import xgboost as xgb\n",
    "from connection_to_internet import Connection_to_internet\n",
    "from Prediction import Features, Prediction"
   ]
  },
  {
   "cell_type": "code",
   "execution_count": null,
   "metadata": {},
   "outputs": [],
   "source": [
    "%%time\n",
    "# Номер последнего патча, Эта переменная подставляется во все ссылки в данном файле\n",
    "PATCH = '&patch=7.19&patch=7.18&patch=7.17&patch=7.16&patch=7.15&patch=7.14&patch=7.13&patch=7.12'\n",
    "\n",
    "# Указать ID live матча и данные соберуться автоматически\n",
    "match_id = 4143327866\n",
    "\n",
    "cur_match = Features(match_id, PATCH)\n",
    "cur_match.get_data_players_for_signatures_at_allTime_and_7dayAgo()"
   ]
  },
  {
   "cell_type": "code",
   "execution_count": null,
   "metadata": {},
   "outputs": [],
   "source": [
    "cur_match.get_teams_heroes_players_id()"
   ]
  },
  {
   "cell_type": "code",
   "execution_count": null,
   "metadata": {
    "scrolled": true
   },
   "outputs": [],
   "source": [
    "%%time\n",
    "all_features = cur_match.get_and_connect_all_data_for_match()"
   ]
  },
  {
   "cell_type": "code",
   "execution_count": null,
   "metadata": {},
   "outputs": [],
   "source": [
    "print (cur_match.match_id, '    -    ', cur_match.dire_team_name, '    ', cur_match.radiant_team_name)\n",
    "filename1 = 'xgb_v.1.2.b.66.sav'\n",
    "name_columns_of_valid_features1 = ['radiant_mu_glicko', 'radiant_rating_glicko',\n",
    "       'radiant_ratingSevenDaysAgo_glicko', 'radiant_mu_glicko2',\n",
    "       'dire_mu_glicko', 'radiant_H1_elo_vs_enemies',\n",
    "       'radiant_H2_elo_vs_enemies', 'radiant_H3_elo_vs_enemies',\n",
    "       'radiant_H4_elo_vs_enemies', 'radiant_H5_elo_vs_enemies',\n",
    "       'dire_H1_elo_vs_enemies', 'dire_H2_elo_vs_enemies',\n",
    "       'dire_H3_elo_vs_enemies', 'dire_H4_elo_vs_enemies',\n",
    "       'dire_H5_elo_vs_enemies', 'radiant_H1_AvgElo', 'radiant_H2_AvgElo',\n",
    "       'radiant_H3_AvgElo', 'radiant_H4_AvgElo', 'radiant_H5_AvgElo',\n",
    "       'dire_H1_AvgElo', 'dire_H2_AvgElo', 'dire_H3_AvgElo', 'dire_H4_AvgElo',\n",
    "       'dire_H5_AvgElo', 'radiant_P1_eloShift', 'radiant_P2_eloShift',\n",
    "       'radiant_P3_eloShift', 'radiant_P4_eloShift', 'radiant_P5_eloShift',\n",
    "       'dire_P1_eloShift', 'dire_P2_eloShift', 'dire_P3_eloShift',\n",
    "       'dire_P4_eloShift', 'Clockwerk', 'Gyrocopter', 'Io', 'Predict',\n",
    "       'radiant_elo_vs_enemies', 'radiant_P_eloShift', 'dire_P_eloShift',\n",
    "       'P_eloShift', 'radiant_H_AvgElo', 'dire_H_AvgElo', 'H_AvgElo']\n",
    "Prediction(filename1, name_columns_of_valid_features1, all_features).predict()\n",
    "\n",
    "filename2 = 'xgb_v.1.3.b.75.sav'\n",
    "name_columns_of_valid_features2 = ['radiant_mu_glicko', 'radiant_rating_glicko',\n",
    "       'radiant_ratingSevenDaysAgo_glicko', 'radiant_mu_glicko2',\n",
    "       'dire_mu_glicko', 'radiant_H1_elo_vs_enemies',\n",
    "       'radiant_H2_elo_vs_enemies', 'radiant_H3_elo_vs_enemies',\n",
    "       'radiant_H4_elo_vs_enemies', 'radiant_H5_elo_vs_enemies',\n",
    "       'dire_H1_elo_vs_enemies', 'dire_H2_elo_vs_enemies',\n",
    "       'dire_H3_elo_vs_enemies', 'dire_H4_elo_vs_enemies',\n",
    "       'dire_H5_elo_vs_enemies', 'radiant_H1_AvgElo', 'radiant_H2_AvgElo',\n",
    "       'radiant_H3_AvgElo', 'radiant_H4_AvgElo', 'radiant_H5_AvgElo',\n",
    "       'dire_H1_AvgElo', 'dire_H2_AvgElo', 'dire_H3_AvgElo', 'dire_H4_AvgElo',\n",
    "       'dire_H5_AvgElo', 'radiant_P1_eloShift', 'radiant_P2_eloShift',\n",
    "       'radiant_P3_eloShift', 'radiant_P4_eloShift', 'radiant_P5_eloShift',\n",
    "       'dire_P1_eloShift', 'dire_P2_eloShift', 'dire_P3_eloShift',\n",
    "       'dire_P4_eloShift', 'dire_P5_eloShift', 'Predict',\n",
    "       'radiant_elo_vs_enemies', 'radiant_P_eloShift', 'dire_P_eloShift',\n",
    "       'P_eloShift', 'radiant_H_AvgElo', 'dire_H_AvgElo', 'H_AvgElo']\n",
    "Prediction(filename2, name_columns_of_valid_features2, all_features).predict()\n",
    "\n",
    "filename3 = 'xgb_v.1.4.d.69.sav'\n",
    "name_columns_of_valid_features3 = ['radiant_mu_glicko', 'radiant_rating_glicko', 'radiant_mu_glicko2',\n",
    "       'dire_mu_glicko', 'radiant_H1_elo_vs_enemies',\n",
    "       'radiant_H2_elo_vs_enemies', 'radiant_H3_elo_vs_enemies',\n",
    "       'radiant_H4_elo_vs_enemies', 'radiant_H5_elo_vs_enemies',\n",
    "       'dire_H1_elo_vs_enemies', 'dire_H2_elo_vs_enemies',\n",
    "       'dire_H4_elo_vs_enemies', 'dire_H5_elo_vs_enemies', 'radiant_H1_AvgElo',\n",
    "       'radiant_H2_AvgElo', 'radiant_H3_AvgElo', 'radiant_H4_AvgElo',\n",
    "       'radiant_H5_AvgElo', 'dire_H1_AvgElo', 'dire_H2_AvgElo',\n",
    "       'dire_H3_AvgElo', 'dire_H4_AvgElo', 'dire_H5_AvgElo',\n",
    "       'radiant_P1_eloShift', 'radiant_P2_eloShift', 'radiant_P3_eloShift',\n",
    "       'radiant_P4_eloShift', 'radiant_P5_eloShift', 'dire_P1_eloShift',\n",
    "       'dire_P3_eloShift', 'dire_P4_eloShift', 'radiant_H1_AvgElo_7day_ago',\n",
    "       'radiant_H2_AvgElo_7day_ago', 'radiant_H3_AvgElo_7day_ago',\n",
    "       'radiant_H4_AvgElo_7day_ago', 'radiant_H5_AvgElo_7day_ago',\n",
    "       'dire_H1_AvgElo_7day_ago', 'dire_H2_AvgElo_7day_ago',\n",
    "       'dire_H3_AvgElo_7day_ago', 'dire_H4_AvgElo_7day_ago',\n",
    "       'radiant_P1_eloShift_7day_ago', 'radiant_P2_eloShift_7day_ago',\n",
    "       'radiant_P3_eloShift_7day_ago', 'radiant_P4_eloShift_7day_ago',\n",
    "       'radiant_P5_eloShift_7day_ago', 'dire_P1_eloShift_7day_ago',\n",
    "       'dire_P2_eloShift_7day_ago', 'dire_P3_eloShift_7day_ago',\n",
    "       'dire_P4_eloShift_7day_ago', 'dire_P5_eloShift_7day_ago',\n",
    "       'radiant_elo_vs_enemies', 'radiant_P_eloShift', 'dire_P_eloShift',\n",
    "       'P_eloShift', 'dire_H_AvgElo', 'H_AvgElo', 'radiant_H_AvgElo_7day_ago',\n",
    "       'dire_H_AvgElo_7day_ago', 'H_AvgElo_7day_ago',\n",
    "       'radiant_P_eloShift_7day_ago', 'P_eloShift_7day_ago']\n",
    "Prediction(filename3, name_columns_of_valid_features3, all_features).predict()"
   ]
  },
  {
   "cell_type": "code",
   "execution_count": null,
   "metadata": {},
   "outputs": [],
   "source": []
  }
 ],
 "metadata": {
  "kernelspec": {
   "display_name": "Python 3",
   "language": "python",
   "name": "python3"
  },
  "language_info": {
   "codemirror_mode": {
    "name": "ipython",
    "version": 3
   },
   "file_extension": ".py",
   "mimetype": "text/x-python",
   "name": "python",
   "nbconvert_exporter": "python",
   "pygments_lexer": "ipython3",
   "version": "3.6.5"
  }
 },
 "nbformat": 4,
 "nbformat_minor": 2
}
