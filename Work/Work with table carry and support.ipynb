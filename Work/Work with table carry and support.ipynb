{
 "cells": [
  {
   "cell_type": "code",
   "execution_count": 1,
   "metadata": {
    "collapsed": true
   },
   "outputs": [],
   "source": [
    "import pandas as pd\n",
    "import numpy as np\n",
    "from sklearn.ensemble import RandomForestClassifier\n",
    "from sklearn.neural_network import MLPClassifier\n",
    "from sklearn.tree import DecisionTreeClassifier\n",
    "from sklearn.ensemble import GradientBoostingClassifier\n"
   ]
  },
  {
   "cell_type": "code",
   "execution_count": 16,
   "metadata": {
    "collapsed": true
   },
   "outputs": [],
   "source": [
    "# Загрузить данные из файлов\n",
    "# matches706_team_picks = pd.read_csv('table/table with carry or support in 7.06.csv').drop(['Unnamed: 0'], axis=1)\n",
    "# matches707_team_picks = pd.read_csv('table/table with carry or support in 7.07 to 29.12.17.csv', index_col=0)\n",
    "matches_team_picks = pd.read_csv('table/table with carry or support  from 1.09.13 to 22.01.18.csv', index_col=0)\n",
    "matches_team_picks.fillna(0)\n",
    "# # выбросит команды\n",
    "# matches706_team_picks = matches706_team_picks.drop(['radiant_id', 'dire_id'], axis=1)\n",
    "# matches707_team_picks = matches707_team_picks.drop(['radiant_id', 'dire_id'], axis=1)\n",
    "# # Соединить даныне\n",
    "# matches_team_picks = matches706_team_picks.append(matches707_team_picks).reset_index().drop(['index'], axis=1)\n",
    "\n",
    "#Разделение данных без перемешивания на traning & test для каждого патча и для соединенных данных\n",
    "X_706, y_706 = np.split(matches706_team_picks, [len(matches706_team_picks) - int(len(matches706_team_picks)*0.3)]) \n",
    "X_707, y_707 = np.split(matches707_team_picks, [len(matches707_team_picks) - int(len(matches707_team_picks)*0.3)]) \n",
    "X, y = np.split(matches_team_picks, [len(matches_team_picks) - 400]) \n",
    "\n",
    "X_train = X.drop(['radiant_win'], axis=1)\n",
    "y_train = X['radiant_win']\n",
    "\n",
    "X_test = y.drop(['radiant_win'], axis=1)\n",
    "y_test = y['radiant_win']\n",
    "\n",
    "# X_train_706 = X_706.drop(['radiant_win'], axis=1)\n",
    "# y_train_706 = X_706['radiant_win']\n",
    "\n",
    "# X_test_706 = y_706.drop(['radiant_win'], axis=1)\n",
    "# y_test_706 = y_706['radiant_win']\n",
    "\n",
    "# X_train_707 = X_707.drop(['radiant_win'], axis=1)\n",
    "# y_train_707 = X_707['radiant_win']\n",
    "\n",
    "# X_test_707 = y_707.drop(['radiant_win'], axis=1)\n",
    "# y_test_707 = y_707['radiant_win']\n"
   ]
  },
  {
   "cell_type": "code",
   "execution_count": 27,
   "metadata": {},
   "outputs": [
    {
     "data": {
      "text/plain": [
       "Int64Index([], dtype='int64')"
      ]
     },
     "execution_count": 27,
     "metadata": {},
     "output_type": "execute_result"
    }
   ],
   "source": [
    "\n",
    "X_train = X_train.fillna(0)\n",
    "index = X_train['Escape10'].index[X_train['Escape10'].apply(np.isnan)]\n",
    "index"
   ]
  },
  {
   "cell_type": "code",
   "execution_count": 32,
   "metadata": {},
   "outputs": [
    {
     "name": "stdout",
     "output_type": "stream",
     "text": [
      "0.848119777159\n",
      "0.5425\n",
      "----------------------------\n"
     ]
    }
   ],
   "source": [
    "# дерево \n",
    "\n",
    "tree = DecisionTreeClassifier(max_depth=13)\n",
    "\n",
    "tree.fit(X_train, y_train)\n",
    "print (tree.score(X_train, y_train))\n",
    "print (tree.score(X_test, y_test))\n",
    "print ('----------------------------')\n",
    "# tree.fit(X_train_706, y_train_706)\n",
    "# print (tree.score(X_train_706, y_train_706))\n",
    "# print (tree.score(X_test_706, y_test_706))\n",
    "# print ('----------------------------')\n",
    "# tree.fit(X_train_707, y_train_707)\n",
    "# print (tree.score(X_train_707, y_train_707))\n",
    "# print (tree.score(X_test_707, y_test_707))"
   ]
  },
  {
   "cell_type": "code",
   "execution_count": 36,
   "metadata": {
    "collapsed": true
   },
   "outputs": [],
   "source": [
    "# создание большого кол-ва лесов с разными параметрами и запись Score в массив\n",
    "from sklearn.ensemble import RandomForestClassifier\n",
    "all_parametrs=[]\n",
    "for n in range(50, 100, 5):\n",
    "    for depth in range(15, 100, 5):\n",
    "        for features in range(1, 103, 5):\n",
    "            parametrs=[]\n",
    "            forest_optim_param = RandomForestClassifier(n_estimators=n, random_state=42, \n",
    "                                                        max_depth=depth, max_features=features)\n",
    "            forest_optim_param.fit(X_train_707, y_train_707)\n",
    "            if (forest_optim_param.score(X_test_707, y_test_707) > 0.62):\n",
    "                parametrs.append(n)\n",
    "                parametrs.append(depth)\n",
    "                parametrs.append(features)\n",
    "                parametrs.append(forest_optim_param.score(X_train_707, y_train_707))\n",
    "                parametrs.append(forest_optim_param.score(X_test_707, y_test_707))\n",
    "                all_parametrs.append(parametrs)\n",
    "    print (n)"
   ]
  },
  {
   "cell_type": "code",
   "execution_count": 10,
   "metadata": {
    "collapsed": true
   },
   "outputs": [],
   "source": [
    "all_test=[]\n",
    "\n",
    "for par in all_parametrs:\n",
    "    if par[4] > 0.6299:\n",
    "        all_test.append(par)"
   ]
  },
  {
   "cell_type": "code",
   "execution_count": 14,
   "metadata": {},
   "outputs": [
    {
     "data": {
      "text/plain": [
       "[[50, 15, 51, 1.0, 0.62393162393162394],\n",
       " [50, 15, 81, 1.0, 0.62393162393162394],\n",
       " [50, 20, 41, 1.0, 0.62393162393162394],\n",
       " [50, 25, 41, 1.0, 0.62393162393162394],\n",
       " [50, 30, 41, 1.0, 0.62393162393162394]]"
      ]
     },
     "execution_count": 14,
     "metadata": {},
     "output_type": "execute_result"
    }
   ],
   "source": [
    "all_test=[]\n",
    "all_parametrs"
   ]
  },
  {
   "cell_type": "code",
   "execution_count": 34,
   "metadata": {},
   "outputs": [
    {
     "name": "stdout",
     "output_type": "stream",
     "text": [
      "1.0\n",
      "0.5325\n"
     ]
    }
   ],
   "source": [
    "# Случайный лес с параметрами которые оказались лучшими на обучении патча7,06\n",
    "forest_last = RandomForestClassifier(n_estimators=100, random_state=42, \n",
    "                                                        max_depth=25, max_features=60)\n",
    "forest_last.fit(X_train, y_train)\n",
    "print (forest_last.score(X_train, y_train))\n",
    "print (forest_last.score(X_test, y_test))\n",
    "\n",
    "# forest_last.fit(X_train_706, y_train_706)\n",
    "# print (forest_last.score(X_train_706, y_train_706))\n",
    "# print (forest_last.score(X_test_706, y_test_706))\n",
    "\n",
    "# forest_last.fit(X_train_707, y_train_707)\n",
    "# print (forest_last.score(X_train_707, y_train_707))\n",
    "# print (forest_last.score(X_test_707, y_test_707))"
   ]
  },
  {
   "cell_type": "code",
   "execution_count": 35,
   "metadata": {},
   "outputs": [
    {
     "name": "stdout",
     "output_type": "stream",
     "text": [
      "0.864554317549\n",
      "0.5175\n"
     ]
    }
   ],
   "source": [
    "# Нейронные сети\n",
    "mlp = MLPClassifier(solver='lbfgs', random_state=1, hidden_layer_sizes=[50, 50, 5])\n",
    "\n",
    "mlp.fit(X_train, y_train)\n",
    "print (mlp.score(X_train, y_train))\n",
    "print (mlp.score(X_test, y_test))\n",
    "# print ('----------------------------')\n",
    "# mlp.fit(X_train_706, y_train_706)\n",
    "# print (mlp.score(X_train_706, y_train_706))\n",
    "# print (mlp.score(X_test_706, y_test_706))\n",
    "# print ('----------------------------')\n",
    "# mlp.fit(X_train_707, y_train_707)\n",
    "# print (mlp.score(X_train_707, y_train_707))\n",
    "# print (mlp.score(X_test_707, y_test_707))"
   ]
  },
  {
   "cell_type": "code",
   "execution_count": 37,
   "metadata": {},
   "outputs": [
    {
     "name": "stdout",
     "output_type": "stream",
     "text": [
      "1.0\n",
      "0.505\n"
     ]
    }
   ],
   "source": [
    "# Градиентный бустинг\n",
    "gbr = GradientBoostingClassifier(n_estimators=100, max_depth=15, max_features=80)\n",
    "gbr.fit(X_train, y_train)\n",
    "print (gbr.score(X_train, y_train))\n",
    "print (gbr.score(X_test, y_test))\n",
    "# print ('----------------------------')\n",
    "# gbr.fit(X_train_706, y_train_706)\n",
    "# print (gbr.score(X_train_706, y_train_706))\n",
    "# print (gbr.score(X_test_706, y_test_706))\n",
    "# print ('----------------------------')\n",
    "# gbr.fit(X_train_707, y_train_707)\n",
    "# print (gbr.score(X_train_707, y_train_707))\n",
    "# print (gbr.score(X_test_707, y_test_707))"
   ]
  },
  {
   "cell_type": "code",
   "execution_count": null,
   "metadata": {
    "collapsed": true
   },
   "outputs": [],
   "source": []
  },
  {
   "cell_type": "code",
   "execution_count": null,
   "metadata": {
    "collapsed": true
   },
   "outputs": [],
   "source": []
  }
 ],
 "metadata": {
  "kernelspec": {
   "display_name": "Python 3",
   "language": "python",
   "name": "python3"
  },
  "language_info": {
   "codemirror_mode": {
    "name": "ipython",
    "version": 3
   },
   "file_extension": ".py",
   "mimetype": "text/x-python",
   "name": "python",
   "nbconvert_exporter": "python",
   "pygments_lexer": "ipython3",
   "version": "3.6.3"
  }
 },
 "nbformat": 4,
 "nbformat_minor": 2
}
