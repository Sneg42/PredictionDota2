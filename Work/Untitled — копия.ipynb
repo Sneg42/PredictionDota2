{
 "cells": [
  {
   "cell_type": "code",
   "execution_count": 1,
   "metadata": {
    "collapsed": true
   },
   "outputs": [],
   "source": [
    "import pandas as pd\n",
    "import numpy as np\n",
    "from sklearn.ensemble import RandomForestClassifier\n",
    "from sklearn.neural_network import MLPClassifier\n",
    "from sklearn.tree import DecisionTreeClassifier\n",
    "from sklearn.ensemble import GradientBoostingClassifier"
   ]
  },
  {
   "cell_type": "code",
   "execution_count": 2,
   "metadata": {
    "collapsed": true
   },
   "outputs": [],
   "source": [
    "# Загрузить данные из файлов\n",
    "matches706_team_picks = pd.read_csv('table with carry or support in 7.06.csv').drop(['Unnamed: 0'], axis=1)\n",
    "matches707_team_picks = pd.read_csv('table with carry or support in 7.07 to 29.12.17.csv', index_col=0)\n",
    "\n",
    "# Соединить даныне\n",
    "matches_team_picks = matches706_team_picks.append(matches707_team_picks).reset_index().drop(['index'], axis=1)\n",
    "\n",
    "#Разделение данных без перемешивания на traning & test для каждого патча и для соединенных данных\n",
    "X_706, y_706 = np.split(matches706_team_picks, [len(matches706_team_picks) - int(len(matches706_team_picks)*0.3)]) \n",
    "X_707, y_707 = np.split(matches707_team_picks, [len(matches707_team_picks) - int(len(matches707_team_picks)*0.3)]) \n",
    "X, y = np.split(matches_team_picks, [len(matches_team_picks) - 400]) \n",
    "\n",
    "X_train = X.drop(['radiant_win'], axis=1)\n",
    "y_train = X['radiant_win']\n",
    "\n",
    "X_test = y.drop(['radiant_win'], axis=1)\n",
    "y_test = y['radiant_win']\n",
    "\n",
    "X_train_706 = X_706.drop(['radiant_win'], axis=1)\n",
    "y_train_706 = X_706['radiant_win']\n",
    "\n",
    "X_test_706 = y_706.drop(['radiant_win'], axis=1)\n",
    "y_test_706 = y_706['radiant_win']\n",
    "\n",
    "X_train_707 = X_707.drop(['radiant_win'], axis=1)\n",
    "y_train_707 = X_707['radiant_win']\n",
    "\n",
    "X_test_707 = y_707.drop(['radiant_win'], axis=1)\n",
    "y_test_707 = y_707['radiant_win']\n"
   ]
  },
  {
   "cell_type": "code",
   "execution_count": 8,
   "metadata": {},
   "outputs": [
    {
     "name": "stdout",
     "output_type": "stream",
     "text": [
      "200\n",
      "205\n",
      "210\n",
      "215\n",
      "220\n",
      "225\n",
      "230\n",
      "235\n",
      "240\n",
      "245\n",
      "250\n",
      "255\n",
      "260\n",
      "265\n",
      "270\n",
      "275\n",
      "280\n",
      "285\n",
      "290\n",
      "295\n"
     ]
    }
   ],
   "source": [
    "# создание большого кол-ва лесов с разными параметрами и запись Score в массив\n",
    "from sklearn.ensemble import RandomForestClassifier\n",
    "all_parametrs=[]\n",
    "for n in range(200, 300, 5):\n",
    "    for depth in range(5, 100, 5):\n",
    "        for features in range(1, 103, 5):\n",
    "            parametrs=[]\n",
    "            forest_optim_param = RandomForestClassifier(n_estimators=n, random_state=42, \n",
    "                                                        max_depth=depth, max_features=features)\n",
    "            forest_optim_param.fit(X_train_707, y_train_707)\n",
    "            if (forest_optim_param.score(X_test_707, y_test_707) > 0.62):\n",
    "                parametrs.append(n)\n",
    "                parametrs.append(depth)\n",
    "                parametrs.append(features)\n",
    "                parametrs.append(forest_optim_param.score(X_train_707, y_train_707))\n",
    "                parametrs.append(forest_optim_param.score(X_test_707, y_test_707))\n",
    "                all_parametrs.append(parametrs)\n",
    "    \n",
    "    print (n)"
   ]
  },
  {
   "cell_type": "code",
   "execution_count": 10,
   "metadata": {},
   "outputs": [
    {
     "data": {
      "text/plain": [
       "[[230, 5, 16, 0.93967093235831811, 0.64529914529914534],\n",
       " [230, 15, 46, 1.0, 0.64102564102564108],\n",
       " [235, 5, 16, 0.93967093235831811, 0.64529914529914534],\n",
       " [240, 5, 16, 0.93967093235831811, 0.64529914529914534],\n",
       " [250, 5, 16, 0.93967093235831811, 0.64102564102564108],\n",
       " [260, 5, 16, 0.93967093235831811, 0.64529914529914534],\n",
       " [270, 5, 16, 0.93967093235831811, 0.64102564102564108],\n",
       " [275, 5, 16, 0.93967093235831811, 0.64102564102564108],\n",
       " [285, 5, 16, 0.93967093235831811, 0.64529914529914534],\n",
       " [290, 5, 16, 0.94149908592321752, 0.64102564102564108]]"
      ]
     },
     "execution_count": 10,
     "metadata": {},
     "output_type": "execute_result"
    }
   ],
   "source": [
    "all_test=[]\n",
    "\n",
    "for par in all_parametrs:\n",
    "    if par[4] > 0.64:\n",
    "        all_test.append(par)\n",
    "all_test"
   ]
  },
  {
   "cell_type": "code",
   "execution_count": null,
   "metadata": {
    "collapsed": true
   },
   "outputs": [],
   "source": []
  }
 ],
 "metadata": {
  "kernelspec": {
   "display_name": "Python 3",
   "language": "python",
   "name": "python3"
  },
  "language_info": {
   "codemirror_mode": {
    "name": "ipython",
    "version": 3
   },
   "file_extension": ".py",
   "mimetype": "text/x-python",
   "name": "python",
   "nbconvert_exporter": "python",
   "pygments_lexer": "ipython3",
   "version": "3.6.3"
  }
 },
 "nbformat": 4,
 "nbformat_minor": 2
}
