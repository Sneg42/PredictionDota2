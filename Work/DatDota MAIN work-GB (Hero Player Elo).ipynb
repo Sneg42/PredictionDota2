{
 "cells": [
  {
   "cell_type": "code",
   "execution_count": 1,
   "metadata": {
    "collapsed": true
   },
   "outputs": [],
   "source": [
    "import pandas as pd\n",
    "import numpy as np\n",
    "import math\n",
    "import helper\n",
    "import time\n",
    "import datetime\n",
    "import matplotlib.pyplot as plt\n",
    "\n",
    "from sklearn.linear_model import LogisticRegression\n",
    "from sklearn.ensemble import RandomForestClassifier, RandomForestRegressor\n",
    "from sklearn.neural_network import MLPClassifier\n",
    "from sklearn.tree import DecisionTreeClassifier, DecisionTreeRegressor\n",
    "from sklearn.ensemble import GradientBoostingClassifier, GradientBoostingRegressor\n",
    "from sklearn.neighbors import KNeighborsClassifier, KNeighborsRegressor\n",
    "from sklearn.svm import SVC, SVR\n",
    "from sklearn.preprocessing import StandardScaler, MinMaxScaler\n",
    "\n",
    "from sklearn import metrics\n",
    "from sklearn.metrics import classification_report\n",
    "from sklearn.model_selection import KFold, cross_val_score, LeaveOneOut, ShuffleSplit, train_test_split, GridSearchCV \n",
    "from sklearn.feature_selection import SelectPercentile, SelectFromModel\n",
    "import pickle    \n"
   ]
  },
  {
   "cell_type": "code",
   "execution_count": 2,
   "metadata": {
    "collapsed": true
   },
   "outputs": [],
   "source": [
    "# Общая функция для удобного обучения и предсказания на контрольных данных\n",
    "def get_main_df_for_predict_for_ProTeams(df_rating_teams_Premium, df_contrpick, df_meta_heroes):\n",
    "    \n",
    "# -------- Создание основного ДФ -----------------------------------------------\n",
    "       \n",
    "    # Соединение всех данных в один ДФ\n",
    "    main = df_rating_teams_Premium\n",
    "    main = pd.merge(main, df_contrpick, left_on='match_id', right_on='match_id',how='left')\n",
    "    main = pd.merge(main, df_meta_heroes, left_on='match_id', right_on='match_id',how='left')\n",
    "\n",
    "    # удаление не нужных колонок для обучения\n",
    "    main = main.drop(['radiant_win', #'match_id', \n",
    "                'start_time', 'radiant_team_id', 'radiant_score', 'dire_team_id',\n",
    "               'dire_score', 'radiant_name', 'dire_name','league_name'], axis=1)\n",
    "    main = main.drop(main.loc[:, 'radiant_H1' : 'dire_P5'], axis=1)\n",
    "\n",
    "\n",
    "    \n",
    "    # Выбросить весь рейтинг команд\n",
    "    main = main.drop(main.loc[:, 'radiant_current_elo32':'dire_ratingSevenDaysAgo_glicko2'], axis=1)\n",
    "    print (len(main))\n",
    "    \n",
    "# -------- Заполнить или удалить NaN и добаить коллонку с предсказаниями, обучеными ранее -----------------------------------------------       \n",
    "    # Заполнить пустые значения на 0\n",
    "    # main = main.fillna(0)\n",
    "\n",
    "    # убрать пустые ячейки\n",
    "    main = main.dropna()\n",
    "    print(len(main))\n",
    "    \n",
    "# -------- Создаем новых колонок по суммам, разности показателей -----------------------------------------------    \n",
    "    #------------- Для контрпиков героев --------------------------------------------------------\n",
    "    main['radiant_elo_vs_enemies'] = (main['radiant_H1_elo_vs_enemies'] + main['radiant_H2_elo_vs_enemies'] + \n",
    "                main['radiant_H3_elo_vs_enemies'] + main['radiant_H4_elo_vs_enemies'] + main['radiant_H5_elo_vs_enemies'])\n",
    "\n",
    "    # main['dire_elo_vs_enemies'] = (main['dire_H1_elo_vs_enemies'] + main['dire_H2_elo_vs_enemies'] + \n",
    "    #                   main['dire_H3_elo_vs_enemies'] + main['dire_H4_elo_vs_enemies'] + main['dire_H5_elo_vs_enemies'])\n",
    "\n",
    "    #  main['elo_vs_enemies'] = main['radiant_elo_vs_enemies'] - main['dire_elo_vs_enemies']\n",
    "    # main = main.drop(['radiant_elo_vs_enemies', 'dire_elo_vs_enemies'], axis=1)\n",
    "\n",
    "    #------------- Для метовых героев --------------------------------------------------------\n",
    "    main['radiant_H_AvgElo'] = (main['radiant_H1_AvgElo'] + main['radiant_H2_AvgElo'] + \n",
    "                              main['radiant_H3_AvgElo'] + main['radiant_H4_AvgElo'] + main['radiant_H5_AvgElo'])\n",
    "\n",
    "#     main['dire_H_AvgElo'] = (main['dire_H1_AvgElo'] + main['dire_H2_AvgElo'] + \n",
    "#                                main['dire_H3_AvgElo'] + main['dire_H4_AvgElo'] + main['dire_H5_AvgElo'])\n",
    "\n",
    "#     main['H_AvgElo'] = main['radiant_H_AvgElo'] - main['dire_H_AvgElo']\n",
    "\n",
    "    # main = main.drop(['dire_H_AvgElo', 'radiant_H_AvgElo'], axis=1)\n",
    "# -------- Убрать лишние колонки -----------------------------------------------  \n",
    "#     main = main.drop(['dire_H5_AvgElo',\n",
    "#                      ], axis=1)\n",
    "    return main"
   ]
  },
  {
   "cell_type": "code",
   "execution_count": null,
   "metadata": {
    "collapsed": true
   },
   "outputs": [],
   "source": []
  },
  {
   "cell_type": "code",
   "execution_count": 89,
   "metadata": {
    "collapsed": true
   },
   "outputs": [],
   "source": [
    "# Общая функция для удобного обучения и предсказания на контрольных данных\n",
    "def get_main_df_for_predict(df_rating_teams_Premium, df_contrpick, df_meta_heroes, df_signatures_heroes,\n",
    "                            df_features_Heroes, df_features_type_Heroes, df_predict_for_teams_rating,\n",
    "                            ):\n",
    "    \n",
    "# -------- Создание основного ДФ -----------------------------------------------\n",
    "    df_signatures_heroes = df_signatures_heroes[['radiant_P1_eloShift', 'radiant_P2_eloShift', 'radiant_P3_eloShift', \n",
    "                                                'radiant_P4_eloShift', 'radiant_P5_eloShift', 'dire_P1_eloShift', \n",
    "                                                'dire_P2_eloShift', 'dire_P3_eloShift', 'dire_P4_eloShift', \n",
    "                                                'dire_P5_eloShift', 'match_id']]\n",
    "    df_features_Heroes = df_features_Heroes[[ 'Clockwerk', 'Gyrocopter', 'Io', 'match_id']]\n",
    "    \n",
    "    # Соединение всех данных в один ДФ\n",
    "    main = df_rating_teams_Premium\n",
    "    main = pd.merge(main, df_contrpick, left_on='match_id', right_on='match_id',how='left')\n",
    "#     main = pd.merge(main, df_meta_heroes, left_on='match_id', right_on='match_id',how='left')\n",
    "    main = pd.merge(main, df_signatures_heroes, left_on='match_id', right_on='match_id',how='left')\n",
    "\n",
    "    # ---------------------------------------------------------------------------------------------------------------------\n",
    "    # Добавить фичи по геряом и типам героев\n",
    "#     main = pd.merge(main, df_features_type_Heroes, left_on='match_id', right_on='match_id',how='left')\n",
    "#     main = pd.merge(main, df_features_Heroes, left_on='match_id', right_on='match_id',how='left')\n",
    "    # ---------------------------------------------------------------------------------------------------------------------\n",
    "    # Добавить фичи по предсказаний по алгоритму\n",
    "    main = pd.merge(main, df_predict_for_teams_rating, left_on='match_id', right_on='match_id',how='left')\n",
    "    # ---------------------------------------------------------------------------------------------------------------------\n",
    "    # Добавить фичи по Professional матчам\n",
    "    # main = pd.merge(main, df_contrpick_Pro10, left_on='match_id', right_on='match_id',how='left')\n",
    "    # main = pd.merge(main, df_contrpick_2MonthAgo_AllTeam1, left_on='match_id', right_on='match_id',how='left')\n",
    "    # ---------------------------------------------------------------------------------------------------------------------\n",
    "\n",
    "    # удаление не нужных колонок для обучения\n",
    "    main = main.drop([#'match_id',\n",
    "                      'start_time', 'radiant_team_id', 'radiant_score', 'dire_team_id',\n",
    "               'dire_score', 'radiant_name', 'dire_name','league_name'], axis=1)\n",
    "    main = main.drop(main.loc[:, 'radiant_H1' : 'dire_P5'], axis=1)\n",
    "\n",
    "\n",
    "    # # Оставляю только важные фичи, убираю из рейтинга команд ело32 и ело64\n",
    "    main = main.drop(main.loc[:, 'radiant_current_elo32':'radiant_thirtyDayAvg_elo64'], axis=1)\n",
    "    main = main.drop(main.loc[:, 'dire_current_elo32':'dire_thirtyDayAvg_elo64'], axis=1)\n",
    "#     main = main.drop(main.loc[:, 'radiant_ratingSevenDaysAgo_glicko':'radiant_ratingSevenDaysAgo_glicko2'], axis=1)\n",
    "#     main = main.drop(main.loc[:, 'dire_ratingSevenDaysAgo_glicko':'dire_ratingSevenDaysAgo_glicko2'], axis=1)\n",
    "#     # Выбросить весь рейтинг команд\n",
    "#     main = main.drop(main.loc[:, 'radiant_current_elo32':'dire_ratingSevenDaysAgo_glicko2'], axis=1)\n",
    "    print (len(main))\n",
    "    \n",
    "# -------- Заполнить или удалить NaN и добаить коллонку с предсказаниями, обучеными ранее -----------------------------------------------       \n",
    "    # Заполнить пустые значения на 0\n",
    "    # main = main.fillna(0)\n",
    "    \n",
    "    # убрать пустые ячейки\n",
    "#     main = main.dropna()\n",
    "    print(len(main))\n",
    "    \n",
    "# -------- Создаем новых колонок по суммам, разности показателей -----------------------------------------------    \n",
    "    #------------- Для контрпиков героев --------------------------------------------------------\n",
    "    main['radiant_elo_vs_enemies'] = (main['radiant_H1_elo_vs_enemies'] + main['radiant_H2_elo_vs_enemies'] + \n",
    "                main['radiant_H3_elo_vs_enemies'] + main['radiant_H4_elo_vs_enemies'] + main['radiant_H5_elo_vs_enemies'])\n",
    "\n",
    "#     main['dire_elo_vs_enemies'] = (main['dire_H1_elo_vs_enemies'] + main['dire_H2_elo_vs_enemies'] + \n",
    "#                       main['dire_H3_elo_vs_enemies'] + main['dire_H4_elo_vs_enemies'] + main['dire_H5_elo_vs_enemies'])\n",
    "\n",
    "#     main['elo_vs_enemies'] = main['radiant_elo_vs_enemies'] - main['dire_elo_vs_enemies']\n",
    "#     main = main.drop(['radiant_elo_vs_enemies', 'dire_elo_vs_enemies'], axis=1)\n",
    "    \n",
    "    #------------- Для сигнатурных героев по игрокам --------------------------------------------------------\n",
    "    main['radiant_P_eloShift'] = (main['radiant_P1_eloShift'] + main['radiant_P2_eloShift'] + \n",
    "                                  main['radiant_P3_eloShift'] + main['radiant_P4_eloShift'] + main['radiant_P5_eloShift'])\n",
    "\n",
    "    main['dire_P_eloShift'] = (main['dire_P1_eloShift'] + main['dire_P2_eloShift'] + \n",
    "                               main['dire_P3_eloShift'] + main['dire_P4_eloShift'] + main['dire_P5_eloShift'])\n",
    "\n",
    "    main['P_eloShift'] = main['radiant_P_eloShift'] - main['dire_P_eloShift']\n",
    "\n",
    "#     main = main.drop(['radiant_P_eloShift', 'dire_P_eloShift'], axis=1)\n",
    "    \n",
    "    #------------- Для метовых героев --------------------------------------------------------\n",
    "#     main['radiant_H_AvgElo'] = (main['radiant_H1_AvgElo'] + main['radiant_H2_AvgElo'] + \n",
    "#                               main['radiant_H3_AvgElo'] + main['radiant_H4_AvgElo'] + main['radiant_H5_AvgElo'])\n",
    "\n",
    "#     main['dire_H_AvgElo'] = (main['dire_H1_AvgElo'] + main['dire_H2_AvgElo'] + \n",
    "#                                main['dire_H3_AvgElo'] + main['dire_H4_AvgElo'] + main['dire_H5_AvgElo'])\n",
    "\n",
    "#     main['H_AvgElo'] = main['radiant_H_AvgElo'] - main['dire_H_AvgElo']\n",
    "\n",
    "#     main = main.drop(['dire_H_AvgElo', 'radiant_H_AvgElo'], axis=1)\n",
    "    #---------- Для рейтинга команд -----------------------------------------------------------\n",
    "#     main['mu_glicko'] = main['radiant_mu_glicko'] -  main['dire_mu_glicko']\n",
    "#     main['rating_glicko'] = main['radiant_rating_glicko'] -  main['dire_rating_glicko']\n",
    "#     main['ratingSevenDaysAgo_glicko'] = main['radiant_ratingSevenDaysAgo_glicko'] -  main['dire_ratingSevenDaysAgo_glicko']\n",
    "#     main['mu_glicko2'] = main['radiant_mu_glicko2'] -  main['dire_mu_glicko2']\n",
    "#     main['phi_glicko2'] = main['radiant_phi_glicko2'] -  main['dire_phi_glicko2']\n",
    "    # main['rating_glicko2'] = main['radiant_rating_glicko2'] -  main['dire_rating_glicko2']\n",
    "    # main['ratingSevenDaysAgo_glicko2'] = main['radiant_ratingSevenDaysAgo_glicko2']-main['dire_ratingSevenDaysAgo_glicko2']\n",
    "    \n",
    "# -------- Создаем новых колонок по разности типов героев -----------------------------------------------        \n",
    "#     main['Disabler'] = (main['Disabler1'] + main['Disabler2'] + main['Disabler3'] + main['Disabler4'] + main['Disabler5'] - \n",
    "#                    main['Disabler6'] - main['Disabler7'] - main['Disabler8'] - main['Disabler9'] - main['Disabler10'])\n",
    "\n",
    "#     main['Nuker'] = (main['Nuker1'] + main['Nuker2'] + main['Nuker3'] + main['Nuker4'] + main['Nuker5'] - \n",
    "#                        main['Nuker6'] - main['Nuker7'] - main['Nuker8'] - main['Nuker9'] - main['Nuker10'])\n",
    "\n",
    "#     main['Carry'] = (main['Carry1'] + main['Carry2'] + main['Carry3'] + main['Carry4'] + main['Carry5'] - \n",
    "#                        main['Carry6'] - main['Carry7'] - main['Carry8'] - main['Carry9'] - main['Carry10'])\n",
    "\n",
    "#     main['Initiator'] = (main['Initiator1'] + main['Initiator2'] + main['Initiator3']+main['Initiator4']+main['Initiator5'] - \n",
    "#                     main['Initiator6'] - main['Initiator7'] - main['Initiator8'] - main['Initiator9'] - main['Initiator10'])\n",
    "\n",
    "#     main['Escape'] = (main['Escape1'] + main['Escape2'] + main['Escape3'] + main['Escape4'] + main['Escape5'] - \n",
    "#                        main['Escape6'] - main['Escape7'] - main['Escape8'] - main['Escape9'] - main['Escape10'])\n",
    "\n",
    "#     main['Durable'] = (main['Durable1'] + main['Durable2'] + main['Durable3'] + main['Durable4'] + main['Durable5'] - \n",
    "#                        main['Durable6'] - main['Durable7'] - main['Durable8'] - main['Durable9'] - main['Durable10'])\n",
    "\n",
    "#     main['Support'] = (main['Support1'] + main['Support2'] + main['Support3'] + main['Support4'] + main['Support5'] - \n",
    "#                        main['Support6'] - main['Support7'] - main['Support8'] - main['Support9'] - main['Support10'])\n",
    "\n",
    "#     main['Pusher'] = (main['Pusher1'] + main['Pusher2'] + main['Pusher3'] + main['Pusher4'] + main['Pusher5'] - \n",
    "#                        main['Pusher6'] - main['Pusher7'] - main['Pusher8'] - main['Pusher9'] - main['Pusher10'])\n",
    "\n",
    "#     main['Jungler'] = (main['Jungler1'] + main['Jungler2'] + main['Jungler3'] + main['Jungler4'] + main['Jungler5'] - \n",
    "#                        main['Jungler6'] - main['Jungler7'] - main['Jungler8'] - main['Jungler9'] - main['Jungler10'])\n",
    "#     main = main.drop(['attac_type1','Disabler1','Nuker1','Carry1','Initiator1','Escape1','Durable1','Support1','Pusher1',\n",
    "#                       'Jungler1',\n",
    "#             'attac_type2','Disabler2','Nuker2','Carry2','Initiator2','Escape2','Durable2','Support2','Pusher2','Jungler2',\n",
    "#             'attac_type3','Disabler3','Nuker3','Carry3','Initiator3','Escape3','Durable3','Support3','Pusher3','Jungler3',\n",
    "#             'attac_type4','Disabler4','Nuker4','Carry4','Initiator4','Escape4','Durable4','Support4','Pusher4','Jungler4',\n",
    "#             'attac_type5','Disabler5','Nuker5','Carry5','Initiator5','Escape5','Durable5','Support5','Pusher5','Jungler5',\n",
    "#             'attac_type6','Disabler6','Nuker6','Carry6','Initiator6','Escape6','Durable6','Support6','Pusher6','Jungler6',\n",
    "#             'attac_type7','Disabler7','Nuker7','Carry7','Initiator7','Escape7','Durable7','Support7','Pusher7','Jungler7',\n",
    "#             'attac_type8','Disabler8','Nuker8','Carry8','Initiator8','Escape8','Durable8','Support8','Pusher8','Jungler8',\n",
    "#             'attac_type9','Disabler9','Nuker9','Carry9','Initiator9','Escape9','Durable9','Support9','Pusher9','Jungler9',\n",
    "#          'attac_type10','Disabler10','Nuker10','Carry10','Initiator10','Escape10','Durable10','Support10','Pusher10',\n",
    "#                       'Jungler10'], axis=1)\n",
    "\n",
    "# # # -------- Стандартизация показателей -----------------------------------------------     \n",
    "#     scaler = StandardScaler()\n",
    "#     main['Disabler'] = scaler.fit(pd.DataFrame(main['Disabler'])).transform(pd.DataFrame(main['Disabler']))\n",
    "#     main['Nuker'] = scaler.fit(pd.DataFrame(main['Nuker'])).transform(pd.DataFrame(main['Nuker']))\n",
    "#     main['Carry'] = scaler.fit(pd.DataFrame(main['Carry'])).transform(pd.DataFrame(main['Carry']))\n",
    "#     main['Initiator'] = scaler.fit(pd.DataFrame(main['Initiator'])).transform(pd.DataFrame(main['Initiator']))\n",
    "#     main['Escape'] = scaler.fit(pd.DataFrame(main['Escape'])).transform(pd.DataFrame(main['Escape']))\n",
    "#     main['Durable'] = scaler.fit(pd.DataFrame(main['Durable'])).transform(pd.DataFrame(main['Durable']))\n",
    "#     main['Support'] = scaler.fit(pd.DataFrame(main['Support'])).transform(pd.DataFrame(main['Support']))\n",
    "#     main['Pusher'] = scaler.fit(pd.DataFrame(main['Pusher'])).transform(pd.DataFrame(main['Pusher']))\n",
    "#     main['Jungler'] = scaler.fit(pd.DataFrame(main['Jungler'])).transform(pd.DataFrame(main['Jungler']))\n",
    "    \n",
    "#     main['radiant_elo_vs_enemies'] = scaler.fit(pd.DataFrame(\n",
    "#         main['radiant_elo_vs_enemies'])).transform(pd.DataFrame(main['radiant_elo_vs_enemies']))       \n",
    "#     main['radiant_P_eloShift'] = scaler.fit(pd.DataFrame(\n",
    "#         main['radiant_P_eloShift'])).transform(pd.DataFrame(main['radiant_P_eloShift']))\n",
    "#     main['dire_P_eloShift'] = scaler.fit(pd.DataFrame(\n",
    "#         main['dire_P_eloShift'])).transform(pd.DataFrame(main['dire_P_eloShift']))\n",
    "#     main['P_eloShift'] = scaler.fit(pd.DataFrame(main['P_eloShift'])).transform(pd.DataFrame(main['P_eloShift']))\n",
    "#     main['radiant_H_AvgElo'] = scaler.fit(pd.DataFrame(\n",
    "#         main['radiant_H_AvgElo'])).transform(pd.DataFrame(main['radiant_H_AvgElo']))\n",
    "#     main['dire_H_AvgElo'] = scaler.fit(pd.DataFrame(main['dire_H_AvgElo'])).transform(pd.DataFrame(main['dire_H_AvgElo']))\n",
    "#     main['H_AvgElo'] = scaler.fit(pd.DataFrame(main['H_AvgElo'])).transform(pd.DataFrame(main['H_AvgElo']))\n",
    "#     main['mu_glicko'] = scaler.fit(pd.DataFrame(main['mu_glicko'])).transform(pd.DataFrame(main['mu_glicko']))\n",
    "#     main['rating_glicko'] = scaler.fit(pd.DataFrame(main['rating_glicko'])).transform(pd.DataFrame(main['rating_glicko']))\n",
    "#     main['ratingSevenDaysAgo_glicko'] = scaler.fit(pd.DataFrame(\n",
    "#         main['ratingSevenDaysAgo_glicko'])).transform(pd.DataFrame(main['ratingSevenDaysAgo_glicko']))\n",
    "#     main['mu_glicko2'] = scaler.fit(pd.DataFrame(main['mu_glicko2'])).transform(pd.DataFrame(main['mu_glicko2']))\n",
    "#     main['phi_glicko2'] = scaler.fit(pd.DataFrame(main['phi_glicko2'])).transform(pd.DataFrame(main['phi_glicko2']))\n",
    "\n",
    "# -------- Убрать лишние колонки -----------------------------------------------  \n",
    "    main = main.drop([# 'Jungler', 'Pusher', 'Initiator', 'Escape', 'Nuker',\n",
    "                      # 'radiant_mu_glicko', 'dire_mu_glicko', \n",
    "                      # 'radiant_rating_glicko', 'dire_rating_glicko', \n",
    "                      # 'radiant_sigma_glicko', 'dire_sigma_glicko',\n",
    "                      # 'radiant_ratingSevenDaysAgo_glicko', 'dire_ratingSevenDaysAgo_glicko',\n",
    "                      # 'radiant_mu_glicko2', 'dire_mu_glicko2', \n",
    "                      # 'radiant_phi_glicko2', 'dire_phi_glicko2',\n",
    "                      # 'radiant_rating_glicko2', 'dire_rating_glicko2', \n",
    "                      # 'radiant_sigma_glicko2', 'dire_sigma_glicko2',\n",
    "                      # 'radiant_ratingSevenDaysAgo_glicko2', 'dire_ratingSevenDaysAgo_glicko2',\n",
    "                      # 'dire_H5_AvgElo', 'radiant_H1_AvgElo',\n",
    "                      #  'dire_P5_eloShift',\n",
    "        \n",
    "                        #'Jungler', 'Pusher', 'Initiator', 'Escape', 'Nuker',\n",
    "                       #'radiant_mu_glicko', #'dire_mu_glicko', \n",
    "                      # 'radiant_rating_glicko', \n",
    "                        'dire_rating_glicko', \n",
    "                       'radiant_sigma_glicko', 'dire_sigma_glicko',\n",
    "                      # 'radiant_ratingSevenDaysAgo_glicko', \n",
    "                        'dire_ratingSevenDaysAgo_glicko',\n",
    "                      # 'radiant_mu_glicko2', \n",
    "                        'dire_mu_glicko2', \n",
    "                       'radiant_phi_glicko2', 'dire_phi_glicko2',\n",
    "                       'radiant_rating_glicko2', 'dire_rating_glicko2', \n",
    "                      # 'radiant_sigma_glicko2', 'dire_sigma_glicko2',\n",
    "                       'radiant_ratingSevenDaysAgo_glicko2', 'dire_ratingSevenDaysAgo_glicko2',\n",
    "                      #'dire_H5_AvgElo', 'radiant_H1_AvgElo'\n",
    "#                         'dire_P5_eloShift',\n",
    "                     ], axis=1)\n",
    "    return main"
   ]
  },
  {
   "cell_type": "markdown",
   "metadata": {},
   "source": [
    "# Подгрузка всех таблиц с данными по матчам"
   ]
  },
  {
   "cell_type": "code",
   "execution_count": 52,
   "metadata": {
    "collapsed": true
   },
   "outputs": [],
   "source": [
    "# дф с матчами и рейтингом каждой команды с патча 7.01 для Премиум\n",
    "df_rating_teams_Premium = pd.read_csv('../tabel/table from Datdota/Rating teams/'+\n",
    "                                          'PREMIUM on 2012-02-28 to 2018-03-01 (PreDay).csv', index_col=0)\n",
    "\n",
    "# ДФ с контрпиками (head-to-head, PRO, >20) с 6,74-7,12 и до 2018.10.01\n",
    "df_contrpick = pd.read_csv('../tabel/table from Datdota/Heah-to-head Contrpicks/'+\n",
    "                'data from 6.74-last. on 2012-02-28 to 2018-03-01 (PreDay, All, more 20).csv', index_col=0)\n",
    "\n",
    "# ДФ с метовыми героями (PRO, >10)\n",
    "df_meta_heroes = pd.read_csv('../tabel/table from Datdota/AvgElo Meta and Signatures Heroes/'+\n",
    "                             'Meta on 2012-02-28 to 2018-03-01 (TwoMonthAgo, All, more 20).csv', index_col=0)\n",
    "\n",
    "# ДФ с сигнатурками для каждого игрока (ALL, >5)\n",
    "df_signatures_heroes = pd.read_csv('../tabel/table from Datdota/AvgElo Meta and Signatures Heroes/'+\n",
    "                                   'Players Signatures on 2012-02-28 to 2018-03-01 (PreDay, All, more 5).csv', index_col=0)\n",
    "\n",
    "# ---------------------------------------------------------------------------------------------------------------------\n",
    "# df_contrpick_Pro10 = pd.read_csv('../tabel/table from Datdota/Heah-to-head Contrpicks/'+\n",
    "#                 'data from 6.74-last. on 2012-02-28 to 2018-03-01 (PreDay, Pro, more 10).csv', index_col=0)\n",
    "\n",
    "# df_contrpick_2MonthAgo_AllTeam1 = pd.read_csv('../tabel/table from Datdota/Heah-to-head Contrpicks/'+\n",
    "#                 'data from 6.74-last. on 2012-02-28 to 2018-03-01 (TwoMonthAgo, All, more 1).csv', index_col=0)"
   ]
  },
  {
   "cell_type": "markdown",
   "metadata": {},
   "source": [
    "# Подгрузка данных по фичам с геряоми"
   ]
  },
  {
   "cell_type": "code",
   "execution_count": 53,
   "metadata": {
    "collapsed": true
   },
   "outputs": [],
   "source": [
    "# дф с матчами где по каждому героя своя фича (Премиум)\n",
    "df_features_Heroes = pd.read_csv('../tabel/table from Datdota/Features Heroes/'+\n",
    "                                      'PREMIUM on 2012-02-28 to 2018-03-01.csv', index_col=0)\n",
    "# дф с матчами где фичи тип атаки, дизейблер, нюкер, керри и другие (Премиум)\n",
    "df_features_type_Heroes = pd.read_csv('../tabel/table from Datdota/Features carry, support, necker/'+\n",
    "                                      'PREMIUM on 2012-02-28 to 2018-03-01.csv', index_col=0)\n",
    "# дф с предсказаниями по алгоритму, обученому только на рейтинге команд\n",
    "df_predict_for_teams_rating = pd.read_csv('../tabel/table from Datdota/Rating teams/'+\n",
    "                                      'Predict for rating teams on 2012-02-28 to 2018-03-01.csv', index_col=0)\n"
   ]
  },
  {
   "cell_type": "markdown",
   "metadata": {},
   "source": [
    "# Подгрузка данных с Премиум матчей"
   ]
  },
  {
   "cell_type": "code",
   "execution_count": 121,
   "metadata": {
    "collapsed": true
   },
   "outputs": [],
   "source": [
    "# # ДФ с контрпиками (head-to-head, PRO, >20) с 6,74-7,12 и до 2018.10.01\n",
    "# df_contrpick_Premium = pd.read_csv('../tabel/table from Datdota/Heah-to-head Contrpicks/'+\n",
    "#                 'data from 6.74-last. on 2012-02-28 to 2018-03-01 (PreDay, Pro, more 20).csv', index_col=0)\n",
    "\n",
    "# # ДФ с метовыми героями (PRO, >10)\n",
    "# df_meta_heroes_premium = pd.read_csv('../tabel/table from Datdota/AvgElo Meta and Signatures Heroes/'+\n",
    "#                              'Meta on 2012-02-28 to 2018-03-01 (TwoMonthAgo, Pro, more 20).csv', index_col=0)"
   ]
  },
  {
   "cell_type": "code",
   "execution_count": 122,
   "metadata": {
    "collapsed": true
   },
   "outputs": [],
   "source": [
    "# main_Premium = get_main_df_for_predict_for_ProTeams(df_rating_teams_Premium, df_contrpick_Premium, df_meta_heroes_premium)\n"
   ]
  },
  {
   "cell_type": "code",
   "execution_count": 123,
   "metadata": {
    "collapsed": true
   },
   "outputs": [],
   "source": [
    "# main_Premium.columns"
   ]
  },
  {
   "cell_type": "markdown",
   "metadata": {},
   "source": [
    "# Подгрузка и сборка всех данных до 26 апреля "
   ]
  },
  {
   "cell_type": "code",
   "execution_count": 124,
   "metadata": {
    "collapsed": true
   },
   "outputs": [],
   "source": [
    "# # Соединить все данные и бучить на всех\n",
    "# df_rating_teams_Premium = pd.concat([df_rating_teams_Premium, pd.read_csv('../tabel/table from Datdota/Rating teams/'+\n",
    "#                                       'PREMIUM on 2018-03-01 to 2018-04-08 (PreDay).csv', index_col=0)])\n",
    "# df_rating_teams_Premium = pd.concat([df_rating_teams_Premium, pd.read_csv('../tabel/table from Datdota/Rating teams/'+\n",
    "#                                       'PREMIUM on 2018-04-08 to 2018-04-25 (PreDay).csv', index_col=0)])\n",
    "\n",
    "# df_contrpick = pd.concat([df_contrpick, pd.read_csv('../tabel/table from Datdota/Heah-to-head Contrpicks/'+\n",
    "#                 'data from 6.74-last. on 2018-03-01 to 2018-04-08 (PreDay, All, more 20).csv', index_col=0)])\n",
    "# df_contrpick = pd.concat([df_contrpick, pd.read_csv('../tabel/table from Datdota/Heah-to-head Contrpicks/'+\n",
    "#                 'data from 6.74-last. on 2018-04-08 to 2018-04-25 (PreDay, All, more 20).csv', index_col=0)])\n",
    "\n",
    "# df_meta_heroes = pd.concat([df_meta_heroes, pd.read_csv('../tabel/table from Datdota/AvgElo Meta and Signatures Heroes/'+\n",
    "#                              'Meta on 2018-03-01 to 2018-04-08 (TwoMonthAgo, All, more 20).csv', index_col=0)])\n",
    "# df_meta_heroes = pd.concat([df_meta_heroes, pd.read_csv('../tabel/table from Datdota/AvgElo Meta and Signatures Heroes/'+\n",
    "#                              'Meta on 2018-04-08 to 2018-04-25 (TwoMonthAgo, All, more 20).csv', index_col=0)])\n",
    "\n",
    "# df_signatures_heroes = pd.concat([df_signatures_heroes, pd.read_csv('../tabel/table from Datdota/AvgElo Meta and Signatures Heroes/'+\n",
    "#                                 'Players Signatures on 2018-03-01 to 2018-04-08 (PreDay, All, more 5).csv', index_col=0)])\n",
    "# df_signatures_heroes = pd.concat([df_signatures_heroes, pd.read_csv('../tabel/table from Datdota/AvgElo Meta and Signatures Heroes/'+\n",
    "#                                 'Players Signatures on 2018-04-08 to 2018-04-25 (PreDay, All, more 5).csv', index_col=0)])\n",
    "\n",
    "# df_features_Heroes = pd.concat([df_features_Heroes, pd.read_csv('../tabel/table from Datdota/Features Heroes/'+\n",
    "#                                       'PREMIUM on 2018-03-01 to 2018-04-08.csv', index_col=0)])\n",
    "# df_features_Heroes = pd.concat([df_features_Heroes, pd.read_csv('../tabel/table from Datdota/Features Heroes/'+\n",
    "#                                       'PREMIUM on 2018-04-08 to 2018-04-25.csv', index_col=0)])\n",
    "\n",
    "# df_predict_for_teams_rating = pd.concat([df_predict_for_teams_rating, pd.read_csv('../tabel/table from Datdota/Rating teams/'+\n",
    "#                                       'Predict for rating teams on 2018-03-01 to 2018-04-08.csv', index_col=0)])\n",
    "# df_predict_for_teams_rating = pd.concat([df_predict_for_teams_rating, pd.read_csv('../tabel/table from Datdota/Rating teams/'+\n",
    "#                                       'Predict for rating teams on 2018-04-08 to 2018-04-25.csv', index_col=0)])"
   ]
  },
  {
   "cell_type": "markdown",
   "metadata": {},
   "source": [
    "# Создание обучающих и тестовых данных"
   ]
  },
  {
   "cell_type": "code",
   "execution_count": 90,
   "metadata": {},
   "outputs": [
    {
     "name": "stdout",
     "output_type": "stream",
     "text": [
      "3602\n",
      "3602\n"
     ]
    }
   ],
   "source": [
    "main = get_main_df_for_predict(df_rating_teams_Premium, df_contrpick, df_meta_heroes, df_signatures_heroes,\n",
    "                            df_features_Heroes, df_features_type_Heroes, df_predict_for_teams_rating,\n",
    "                              )"
   ]
  },
  {
   "cell_type": "code",
   "execution_count": 91,
   "metadata": {},
   "outputs": [
    {
     "data": {
      "text/plain": [
       "3452"
      ]
     },
     "execution_count": 91,
     "metadata": {},
     "output_type": "execute_result"
    }
   ],
   "source": [
    "# main = pd.merge(main, main_Premium, left_on='match_id', right_on='match_id',how='left')\n",
    "main = pd.merge(main, df_predict_signatures, left_on='match_id', right_on='match_id',how='left')\n",
    "main = main.dropna()\n",
    "len(main)"
   ]
  },
  {
   "cell_type": "code",
   "execution_count": 92,
   "metadata": {},
   "outputs": [
    {
     "data": {
      "text/plain": [
       "Index(['radiant_mu_glicko', 'radiant_rating_glicko',\n",
       "       'radiant_ratingSevenDaysAgo_glicko', 'radiant_mu_glicko2',\n",
       "       'dire_mu_glicko', 'radiant_H1_elo_vs_enemies',\n",
       "       'radiant_H2_elo_vs_enemies', 'radiant_H3_elo_vs_enemies',\n",
       "       'radiant_H4_elo_vs_enemies', 'radiant_H5_elo_vs_enemies',\n",
       "       'dire_H1_elo_vs_enemies', 'dire_H2_elo_vs_enemies',\n",
       "       'dire_H3_elo_vs_enemies', 'dire_H4_elo_vs_enemies',\n",
       "       'dire_H5_elo_vs_enemies', 'radiant_P1_eloShift', 'radiant_P2_eloShift',\n",
       "       'radiant_P3_eloShift', 'radiant_P4_eloShift', 'radiant_P5_eloShift',\n",
       "       'dire_P1_eloShift', 'dire_P2_eloShift', 'dire_P3_eloShift',\n",
       "       'dire_P4_eloShift', 'dire_P5_eloShift', 'Predict',\n",
       "       'radiant_elo_vs_enemies', 'radiant_P_eloShift', 'dire_P_eloShift',\n",
       "       'P_eloShift', 'Pred_signatures'],\n",
       "      dtype='object')"
      ]
     },
     "execution_count": 92,
     "metadata": {},
     "output_type": "execute_result"
    }
   ],
   "source": [
    "# сделать обучающие данные и ответы\n",
    "X = main.drop(['radiant_win', 'match_id'], axis=1)\n",
    "\n",
    "y = main['radiant_win']\n",
    "#-------------------------------------\n",
    "\n",
    "# ---------------------------------------\n",
    "# СДЕЛАТЬ 1 или 0 вместо true false\n",
    "y = y.astype(int)\n",
    "\n",
    "# деление на тестовые и обучающую выборку\n",
    "X_train, X_test, y_train, y_test = train_test_split(X,y, random_state=0)\n",
    "X_train.columns"
   ]
  },
  {
   "cell_type": "markdown",
   "metadata": {
    "collapsed": true
   },
   "source": [
    "# Обучение"
   ]
  },
  {
   "cell_type": "code",
   "execution_count": 93,
   "metadata": {},
   "outputs": [
    {
     "name": "stdout",
     "output_type": "stream",
     "text": [
      "             precision    recall  f1-score   support\n",
      "\n",
      "   dire_win       0.71      0.70      0.71       416\n",
      "radiant_win       0.73      0.73      0.73       447\n",
      "\n",
      "avg / total       0.72      0.72      0.72       863\n",
      "\n",
      "AUC для градиентного бустинга - 0.776\n",
      "Wall time: 160 ms\n"
     ]
    }
   ],
   "source": [
    "%%time\n",
    "# ДАННЫЕ ПО HEAD-TO-HEAD ДЛЯ ВСЕХ ПАТЧЕЙ ДО ПРЕДЫДУЩЕГО ДНЯ МАТЧЯ\n",
    "import xgboost as xgb\n",
    "# fit model no training data\n",
    "XGB = xgb.XGBClassifier()\n",
    "XGB.fit(X_train, y_train)\n",
    "print(classification_report(y_test, XGB.predict(X_test), target_names=['dire_win', 'radiant_win']))\n",
    "\n",
    "gb_auc = metrics.roc_auc_score(y_test, XGB.predict_proba(X_test)[:,1])\n",
    "print('AUC для градиентного бустинга - {:.3f}'.format(gb_auc))"
   ]
  },
  {
   "cell_type": "code",
   "execution_count": 11,
   "metadata": {
    "collapsed": true
   },
   "outputs": [],
   "source": [
    "# precision    recall  f1-score   support\n",
    "\n",
    "#    dire_win       0.74      0.73      0.74       416\n",
    "# radiant_win       0.75      0.76      0.76       447\n",
    "\n",
    "# avg / total       0.75      0.75      0.75       863\n",
    "\n",
    "# AUC для градиентного бустинга - 0.834\n",
    "# Wall time: 205 ms\n",
    "\n",
    "XGB_signatures = XGB\n",
    "X_signatures = XGB_signatures.predict_proba(X)[:,1]\n"
   ]
  },
  {
   "cell_type": "code",
   "execution_count": 12,
   "metadata": {
    "collapsed": true,
    "scrolled": true
   },
   "outputs": [],
   "source": [
    "df_predict_signatures = pd.DataFrame(main['match_id'])\n",
    "df_predict_signatures['Pred_signatures'] = X_signatures\n"
   ]
  },
  {
   "cell_type": "code",
   "execution_count": 94,
   "metadata": {
    "scrolled": true
   },
   "outputs": [
    {
     "data": {
      "image/png": "[encoded data removed]",
      "text/plain": [
       "<matplotlib.figure.Figure at 0x7f3f390>"
      ]
     },
     "metadata": {},
     "output_type": "display_data"
    }
   ],
   "source": [
    "# важность признаков в бустинге\n",
    "\n",
    "n_features = X_train.shape[1]\n",
    "\n",
    "plt.figure(figsize=(20,40))\n",
    "plt.barh(range(n_features), XGB.feature_importances_, align='center')\n",
    "plt.yticks(np.arange(n_features), X_train.columns, fontsize=15)\n",
    "plt.xlabel('Важность признака', fontsize=18)\n",
    "plt.ylabel('Признаки', fontsize=18)\n",
    "plt.show()"
   ]
  },
  {
   "cell_type": "code",
   "execution_count": null,
   "metadata": {
    "collapsed": true
   },
   "outputs": [],
   "source": []
  },
  {
   "cell_type": "code",
   "execution_count": 206,
   "metadata": {
    "collapsed": true
   },
   "outputs": [],
   "source": [
    "# # save the model to disk\n",
    "# filename = 'xgb.v.1.3.b.75.sav'\n",
    "# pickle.dump(XGB, open(filename, 'wb'))"
   ]
  },
  {
   "cell_type": "code",
   "execution_count": 258,
   "metadata": {
    "collapsed": true
   },
   "outputs": [],
   "source": [
    "# # Создать и сохранить фичу с предсказаниями по алгоритму, обученому на рейтинге команд\n",
    "# df_pedict_for_rating_teams = pd.DataFrame(XGB.predict_proba(X)[:,1:], columns=['Predict'])\n",
    "# df_pedict_for_rating_teams['match_id'] = df_rating_teams_Premium['match_id'].reset_index().drop('index', axis=1)\n",
    "# df_pedict_for_rating_teams.to_csv('../tabel/table from Datdota/'+\n",
    "#                            'Predict Pro on 2012-02-28 to 2018-03-01.csv')"
   ]
  },
  {
   "cell_type": "code",
   "execution_count": 15,
   "metadata": {
    "collapsed": true
   },
   "outputs": [],
   "source": [
    "# test_gb = pickle.load(open('Xgboost_model_predict_rating_teams', 'rb'))\n",
    "# test_gb.score(X_test, y_test)"
   ]
  },
  {
   "cell_type": "markdown",
   "metadata": {},
   "source": [
    "# Решетчатый поиск на Gradient Bosting"
   ]
  },
  {
   "cell_type": "code",
   "execution_count": 115,
   "metadata": {
    "collapsed": true
   },
   "outputs": [],
   "source": [
    "%%time\n",
    "# Праметры GB\n",
    "# param_grid = {'n_estimators': [25, 50, 100, 150], 'max_depth': [10, 25, 50, 100],\n",
    "#               'max_features': [50, 100, 200, 300]}\n",
    "param_grid = {'n_estimators': [100], 'max_depth': [10],\n",
    "              'max_features': [30]}\n",
    "grid_search_GB = GridSearchCV(GradientBoostingClassifier(), param_grid, cv=5, n_jobs=-1)\n",
    "\n",
    "grid_search_GB.fit(X_train,y_train)\n",
    "\n",
    "\n",
    "print(\"Наилучшие значения параметров: {}\".format(grid_search_GB.best_params_))\n",
    "print('----------------------------------------------------------------------')\n",
    "print(classification_report(y_test, grid_search_GB.predict(X_test), target_names=['dire_win', 'radiant_win']))"
   ]
  },
  {
   "cell_type": "markdown",
   "metadata": {
    "collapsed": true
   },
   "source": [
    "# Проверка на новых данных"
   ]
  },
  {
   "cell_type": "code",
   "execution_count": 95,
   "metadata": {
    "collapsed": true,
    "scrolled": true
   },
   "outputs": [],
   "source": [
    "# дф с матчами и рейтингом каждой команды с патча 7.01 для Премиум\n",
    "df_rating_teams_Premium_contr = pd.read_csv('../tabel/table from Datdota/Rating teams/'+\n",
    "                                      'PREMIUM on 2018-03-01 to 2018-04-08 (PreDay).csv', index_col=0)\n",
    "\n",
    "# ДФ с контрпиками\n",
    "df_contrpick_contr = pd.read_csv(('../tabel/table from Datdota/Heah-to-head Contrpicks/'+\n",
    "                'data from 6.74-last. on 2018-03-01 to 2018-04-08 (PreDay, All, more 20).csv'), index_col=0)\n",
    "\n",
    "# ДФ с метовыми героями \n",
    "df_meta_heroes_contr = pd.read_csv('../tabel/table from Datdota/AvgElo Meta and Signatures Heroes/'+\n",
    "                             'Meta on 2018-03-01 to 2018-04-08 (TwoMonthAgo, All, more 20).csv', index_col=0)\n",
    "\n",
    "# ДФ с сигнатурками для каждого игрока (ALL, >5)\n",
    "df_signatures_heroes_contr = pd.read_csv('../tabel/table from Datdota/AvgElo Meta and Signatures Heroes/'+\n",
    "                    'Players Signatures on 2018-03-01 to 2018-04-08 (PreDay, All, more 5).csv', index_col=0)\n"
   ]
  },
  {
   "cell_type": "code",
   "execution_count": 96,
   "metadata": {
    "collapsed": true
   },
   "outputs": [],
   "source": [
    "# дф с матчами где по каждому героя своя фича (Премиум)\n",
    "df_features_Heroes_contr = pd.read_csv('../tabel/table from Datdota/Features Heroes/'+\n",
    "                                      'PREMIUM on 2018-03-01 to 2018-04-08.csv', index_col=0)\n",
    "# дф с матчами где фичи тип атаки, дизейблер, нюкер, керри и другие (Премиум)\n",
    "df_features_type_Heroes_contr = pd.read_csv('../tabel/table from Datdota/Features carry, support, necker/'+\n",
    "                                      'PREMIUM on 2018-03-01 to 2018-04-08.csv', index_col=0)\n",
    "# дф с предсказаниями по алгоритму, обученому только на рейтинге команд\n",
    "df_predict_for_teams_rating_contr = pd.read_csv('../tabel/table from Datdota/Rating teams/'+\n",
    "                                      'Predict for rating teams on 2018-03-01 to 2018-04-08.csv', index_col=0)"
   ]
  },
  {
   "cell_type": "code",
   "execution_count": 222,
   "metadata": {
    "collapsed": true
   },
   "outputs": [],
   "source": [
    "# df_rating_teams_Premium_contr =df_rating_teams_Premium_contr[df_rating_teams_Premium_contr['league_name'] == \n",
    "#                                                              'Dota 2 Asia Championships 2018']\n",
    "# pd.set_option('display.max_columns', 500)"
   ]
  },
  {
   "cell_type": "code",
   "execution_count": null,
   "metadata": {
    "collapsed": true
   },
   "outputs": [],
   "source": [
    "\n"
   ]
  },
  {
   "cell_type": "markdown",
   "metadata": {},
   "source": [
    "# Подгрузка данных с Премиум матчей"
   ]
  },
  {
   "cell_type": "code",
   "execution_count": 134,
   "metadata": {
    "collapsed": true
   },
   "outputs": [],
   "source": [
    "# ДФ с контрпиками (head-to-head, PRO, >20) с 6,74-7,12 и до 2018.10.01\n",
    "df_contrpick_premium_contr = pd.read_csv('../tabel/table from Datdota/Heah-to-head Contrpicks/'+\n",
    "                'data from 6.74-last. on 2018-03-01 to 2018-04-08 (PreDay, Pro, more 20).csv', index_col=0)\n",
    "\n",
    "# ДФ с метовыми героями (PRO, >10)\n",
    "df_meta_heroes_premium_contr = pd.read_csv('../tabel/table from Datdota/AvgElo Meta and Signatures Heroes/'+\n",
    "                             'Meta on 2018-03-01 to 2018-04-08 (TwoMonthAgo, Pro, more 20).csv', index_col=0)"
   ]
  },
  {
   "cell_type": "code",
   "execution_count": 78,
   "metadata": {
    "collapsed": true
   },
   "outputs": [
    {
     "ename": "NameError",
     "evalue": "name 'df_contrpick_premium_contr' is not defined",
     "output_type": "error",
     "traceback": [
      "\u001b[1;31m---------------------------------------------------------------------------\u001b[0m",
      "\u001b[1;31mNameError\u001b[0m                                 Traceback (most recent call last)",
      "\u001b[1;32m<ipython-input-78-dc6518a1fbd0>\u001b[0m in \u001b[0;36m<module>\u001b[1;34m()\u001b[0m\n\u001b[0;32m      1\u001b[0m contr_Premium = get_main_df_for_predict_for_ProTeams(df_rating_teams_Premium_contr,\n\u001b[1;32m----> 2\u001b[1;33m                                                     df_contrpick_premium_contr, df_meta_heroes_premium_contr)\n\u001b[0m",
      "\u001b[1;31mNameError\u001b[0m: name 'df_contrpick_premium_contr' is not defined"
     ]
    }
   ],
   "source": [
    "contr_Premium = get_main_df_for_predict_for_ProTeams(df_rating_teams_Premium_contr,\n",
    "                                                    df_contrpick_premium_contr, df_meta_heroes_premium_contr)\n"
   ]
  },
  {
   "cell_type": "code",
   "execution_count": 136,
   "metadata": {},
   "outputs": [
    {
     "data": {
      "text/plain": [
       "Index(['match_id', 'radiant_H1_elo_vs_enemies', 'radiant_H2_elo_vs_enemies',\n",
       "       'radiant_H3_elo_vs_enemies', 'radiant_H4_elo_vs_enemies',\n",
       "       'radiant_H5_elo_vs_enemies', 'dire_H1_elo_vs_enemies',\n",
       "       'dire_H2_elo_vs_enemies', 'dire_H3_elo_vs_enemies',\n",
       "       'dire_H4_elo_vs_enemies', 'dire_H5_elo_vs_enemies', 'radiant_H1_AvgElo',\n",
       "       'radiant_H2_AvgElo', 'radiant_H3_AvgElo', 'radiant_H4_AvgElo',\n",
       "       'radiant_H5_AvgElo', 'dire_H1_AvgElo', 'dire_H2_AvgElo',\n",
       "       'dire_H3_AvgElo', 'dire_H4_AvgElo', 'dire_H5_AvgElo',\n",
       "       'radiant_elo_vs_enemies', 'radiant_H_AvgElo'],\n",
       "      dtype='object')"
      ]
     },
     "execution_count": 136,
     "metadata": {},
     "output_type": "execute_result"
    }
   ],
   "source": [
    "contr_Premium.columns"
   ]
  },
  {
   "cell_type": "markdown",
   "metadata": {},
   "source": [
    "# Создание обучающих и тестовых данных"
   ]
  },
  {
   "cell_type": "code",
   "execution_count": 97,
   "metadata": {},
   "outputs": [
    {
     "name": "stdout",
     "output_type": "stream",
     "text": [
      "451\n",
      "451\n"
     ]
    }
   ],
   "source": [
    "contr = get_main_df_for_predict(df_rating_teams_Premium_contr, df_contrpick_contr, df_meta_heroes_contr, df_signatures_heroes_contr,\n",
    "                            df_features_Heroes_contr, df_features_type_Heroes_contr, df_predict_for_teams_rating_contr,\n",
    "                              )"
   ]
  },
  {
   "cell_type": "code",
   "execution_count": 98,
   "metadata": {
    "collapsed": true
   },
   "outputs": [],
   "source": [
    "# contr = pd.merge(contr, contr_Premium, left_on='match_id', right_on='match_id',how='left')\n",
    "contr = pd.merge(contr, df_predict_signatures_contr, left_on='match_id', right_on='match_id',how='left')\n",
    "contr = contr.dropna()"
   ]
  },
  {
   "cell_type": "code",
   "execution_count": 99,
   "metadata": {},
   "outputs": [
    {
     "data": {
      "text/plain": [
       "Index(['radiant_mu_glicko', 'radiant_rating_glicko',\n",
       "       'radiant_ratingSevenDaysAgo_glicko', 'radiant_mu_glicko2',\n",
       "       'dire_mu_glicko', 'radiant_H1_elo_vs_enemies',\n",
       "       'radiant_H2_elo_vs_enemies', 'radiant_H3_elo_vs_enemies',\n",
       "       'radiant_H4_elo_vs_enemies', 'radiant_H5_elo_vs_enemies',\n",
       "       'dire_H1_elo_vs_enemies', 'dire_H2_elo_vs_enemies',\n",
       "       'dire_H3_elo_vs_enemies', 'dire_H4_elo_vs_enemies',\n",
       "       'dire_H5_elo_vs_enemies', 'radiant_P1_eloShift', 'radiant_P2_eloShift',\n",
       "       'radiant_P3_eloShift', 'radiant_P4_eloShift', 'radiant_P5_eloShift',\n",
       "       'dire_P1_eloShift', 'dire_P2_eloShift', 'dire_P3_eloShift',\n",
       "       'dire_P4_eloShift', 'dire_P5_eloShift', 'Predict',\n",
       "       'radiant_elo_vs_enemies', 'radiant_P_eloShift', 'dire_P_eloShift',\n",
       "       'P_eloShift', 'Pred_signatures'],\n",
       "      dtype='object')"
      ]
     },
     "execution_count": 99,
     "metadata": {},
     "output_type": "execute_result"
    }
   ],
   "source": [
    "# Создание контрольной выборки\n",
    "# Cделать обучающие данные и ответы\n",
    "X_contr = contr.drop(['radiant_win', 'match_id'], axis=1)\n",
    "y_contr = contr['radiant_win']\n",
    "\n",
    "# СДЕЛАТЬ 1 или 0 вместо true false\n",
    "y_contr = y_contr.astype(int)\n",
    "X_contr.columns"
   ]
  },
  {
   "cell_type": "code",
   "execution_count": 100,
   "metadata": {
    "scrolled": false
   },
   "outputs": [
    {
     "name": "stdout",
     "output_type": "stream",
     "text": [
      "             precision    recall  f1-score   support\n",
      "\n",
      "   dire_win       0.56      0.61      0.58       179\n",
      "radiant_win       0.70      0.66      0.68       250\n",
      "\n",
      "avg / total       0.64      0.64      0.64       429\n",
      "\n",
      "AUC для градиентного бустинга - 0.687\n"
     ]
    }
   ],
   "source": [
    "print(classification_report(y_contr, XGB.predict(X_contr), target_names=['dire_win', 'radiant_win']))\n",
    "gb_auc = metrics.roc_auc_score(y_contr, XGB.predict_proba(X_contr)[:,1])\n",
    "print('AUC для градиентного бустинга - {:.3f}'.format(gb_auc))"
   ]
  },
  {
   "cell_type": "code",
   "execution_count": 20,
   "metadata": {
    "collapsed": true
   },
   "outputs": [],
   "source": [
    "#          precision    recall  f1-score   support\n",
    "\n",
    "#    dire_win       0.58      0.58      0.58       179\n",
    "# radiant_win       0.70      0.70      0.70       250\n",
    "\n",
    "# avg / total       0.65      0.65      0.65       429\n",
    "\n",
    "# AUC для градиентного бустинга - 0.692\n",
    "df_predict_signatures_contr = pd.DataFrame(contr['match_id'])\n",
    "df_predict_signatures_contr['Pred_signatures'] = XGB.predict_proba(X_contr)[:,1]\n"
   ]
  },
  {
   "cell_type": "code",
   "execution_count": 21,
   "metadata": {},
   "outputs": [
    {
     "data": {
      "image/png": "[encoded data removed]",
      "text/plain": [
       "<matplotlib.figure.Figure at 0xd04f9b0>"
      ]
     },
     "metadata": {},
     "output_type": "display_data"
    }
   ],
   "source": [
    "# важность признаков в бустинге\n",
    "\n",
    "n_features = X_contr.shape[1]\n",
    "\n",
    "plt.figure(figsize=(20,40))\n",
    "plt.barh(range(n_features), XGB.feature_importances_, align='center')\n",
    "plt.yticks(np.arange(n_features), X_contr.columns, fontsize=15)\n",
    "plt.xlabel('Важность признака', fontsize=18)\n",
    "plt.ylabel('Признаки', fontsize=18)\n",
    "plt.show()"
   ]
  },
  {
   "cell_type": "code",
   "execution_count": 334,
   "metadata": {
    "collapsed": true
   },
   "outputs": [],
   "source": [
    "# # Создать и сохранить фичу с предсказаниями по алгоритму, обученому на рейтинге команд\n",
    "# df_pedict_for_rating_teams = pd.DataFrame(XGB.predict_proba(X_contr)[:,1:], columns=['Predict'])\n",
    "# df_pedict_for_rating_teams['match_id'] = df_rating_teams_Premium_contr['match_id'].reset_index().drop('index', axis=1)\n",
    "# df_pedict_for_rating_teams.to_csv('../tabel/table from Datdota/'+\n",
    "#                            'Predict Pro on 2018-03-01 to 2018-04-08.csv')"
   ]
  },
  {
   "cell_type": "code",
   "execution_count": null,
   "metadata": {
    "collapsed": true
   },
   "outputs": [],
   "source": []
  },
  {
   "cell_type": "code",
   "execution_count": null,
   "metadata": {
    "collapsed": true
   },
   "outputs": [],
   "source": []
  },
  {
   "cell_type": "code",
   "execution_count": null,
   "metadata": {
    "collapsed": true
   },
   "outputs": [],
   "source": []
  },
  {
   "cell_type": "code",
   "execution_count": null,
   "metadata": {
    "collapsed": true
   },
   "outputs": [],
   "source": []
  },
  {
   "cell_type": "code",
   "execution_count": null,
   "metadata": {
    "collapsed": true
   },
   "outputs": [],
   "source": []
  },
  {
   "cell_type": "code",
   "execution_count": null,
   "metadata": {
    "collapsed": true
   },
   "outputs": [],
   "source": []
  },
  {
   "cell_type": "code",
   "execution_count": null,
   "metadata": {
    "collapsed": true
   },
   "outputs": [],
   "source": []
  },
  {
   "cell_type": "code",
   "execution_count": null,
   "metadata": {
    "collapsed": true
   },
   "outputs": [],
   "source": []
  },
  {
   "cell_type": "markdown",
   "metadata": {
    "collapsed": true
   },
   "source": [
    "# Подгрузка данных по матчам Professional"
   ]
  },
  {
   "cell_type": "code",
   "execution_count": 140,
   "metadata": {
    "collapsed": true
   },
   "outputs": [],
   "source": [
    "# # Работа с данными Professional\n",
    "# # ДФ с контрпиками (head-to-head, PRO, >20) с 6,74-7,12 и до 2018.10.01\n",
    "# df_contrpick_Pro = pd.read_csv('../tabel/table from Datdota/Heah-to-head Contrpicks/'+\n",
    "#                 'Professional data from 6.74-last. on 2012-02-28 to 2018-03-01 (PreDay, All, more 20).csv', index_col=0)\n",
    "# # ДФ с метовыми героями (PRO, >10)\n",
    "# df_meta_heroes_Pro = pd.read_csv('../tabel/table from Datdota/AvgElo Meta and Signatures Heroes/'+\n",
    "#                              'Professional Meta on 2012-02-28 to 2018-03-01 (TwoMonthAgo, All, more 20).csv', index_col=0)\n",
    "\n",
    "# # ДФ с сигнатурками для каждого игрока (ALL, >5)\n",
    "# df_signatures_heroes_Pro = pd.read_csv('../tabel/table from Datdota/AvgElo Meta and Signatures Heroes/'+\n",
    "#                                    'Professional Players Signatures on 2012-02-28 to 2018-03-01 (All, more 5) (previosly day).csv', index_col=0)"
   ]
  },
  {
   "cell_type": "code",
   "execution_count": 141,
   "metadata": {
    "collapsed": true
   },
   "outputs": [],
   "source": [
    "def replace_in_columns_to_mean(df ):\n",
    "    # Заменить 0.0 во всех колонках на среднее значение\n",
    "    # посчитать среднее значение для elo игрока\n",
    "    a = []\n",
    "    H_or_P = df.columns[0].split('_')[1][0]\n",
    "    end_name_columns = df.columns[0][( df.columns[0].find('_')+3):]\n",
    "    for i in range (1,6):\n",
    "        a.append(df[('radiant_{}{}'+end_name_columns).format(H_or_P, i)].mean())\n",
    "    #     print(df_contrpick['radiant_H{}elo_vs_enemies'.format(i)].value_counts().head())\n",
    "\n",
    "        a.append(df[('dire_{}{}'+end_name_columns).format(H_or_P, i)].mean())\n",
    "    #     print(df_contrpick['dire_H{}elo_vs_enemies'.format(i)].value_counts().head())\n",
    "    mean_Players = np.array(a).mean()\n",
    "    print(mean_Players)\n",
    "    # заменить все значения 0.0 в elo игрока на среднее значение\n",
    "    for i in range (1,6):\n",
    "        df[('radiant_{}{}'+end_name_columns).format(H_or_P, i)] = df[('radiant_{}{}'+end_name_columns\n",
    "                                                            ).format(H_or_P, i)].replace(0, mean_Players)\n",
    "\n",
    "        df[('dire_{}{}'+end_name_columns).format(H_or_P, i)] = df[('dire_{}{}'+end_name_columns\n",
    "                                                         ).format(H_or_P, i)].replace(0, mean_Players)  "
   ]
  },
  {
   "cell_type": "code",
   "execution_count": null,
   "metadata": {
    "collapsed": true
   },
   "outputs": [],
   "source": []
  },
  {
   "cell_type": "code",
   "execution_count": 142,
   "metadata": {
    "collapsed": true
   },
   "outputs": [],
   "source": [
    "# replace_in_columns_to_mean(df_signatures_heroes)\n",
    "# replace_in_columns_to_mean(df_signatures_heroes_Pro, '_eloShift')"
   ]
  },
  {
   "cell_type": "code",
   "execution_count": 143,
   "metadata": {
    "collapsed": true
   },
   "outputs": [],
   "source": [
    "# for i in range (1,6):\n",
    "#         print(df_contrpick['radiant_H{}_elo_vs_enemies'.format(i)].value_counts().head())\n",
    "#         print(df_contrpick['dire_H{}_elo_vs_enemies'.format(i)].value_counts().head())"
   ]
  },
  {
   "cell_type": "code",
   "execution_count": 144,
   "metadata": {
    "collapsed": true
   },
   "outputs": [],
   "source": [
    "# df_signatures_heroes_Pro = df_signatures_heroes_Pro[['radiant_P1_eloShift', 'radiant_P2_eloShift', 'radiant_P3_eloShift', \n",
    "#                                             'radiant_P4_eloShift', 'radiant_P5_eloShift', 'dire_P1_eloShift', \n",
    "#                                             'dire_P2_eloShift', 'dire_P3_eloShift', 'dire_P4_eloShift', \n",
    "#                                             'dire_P5_eloShift', 'match_id']].fillna(mean_Players)\n",
    "\n",
    "# # Соединение всех данных в один ДФ\n",
    "# main2 = pd.read_csv('../tabel/'+\n",
    "#                 'Proffesional on patch 7.01 to 2018-03-01 (match_id).csv')\n",
    "# # main2 = pd.merge(main2, df_contrpick_Pro, left_on='match_id', right_on='match_id',how='left')\n",
    "# # main2 = pd.merge(main2, df_meta_heroes_Pro, left_on='match_id', right_on='match_id',how='left')\n",
    "# main2 = pd.merge(main2, df_signatures_heroes_Pro, left_on='match_id', right_on='match_id',how='left')\n",
    "\n",
    "# # # удаление не нужных колонок для обучения\n",
    "# main2 = main2.drop(['match_id', 'start_time', 'radiant_team_id', 'radiant_score', 'dire_team_id',\n",
    "#            'dire_score'], axis=1)\n",
    "\n",
    "# print (len(main2))\n",
    "# main2.columns"
   ]
  },
  {
   "cell_type": "code",
   "execution_count": 145,
   "metadata": {
    "collapsed": true
   },
   "outputs": [],
   "source": [
    "# main = df_signatures_heroes\n",
    "# print (len(main))\n",
    "# main.columns"
   ]
  },
  {
   "cell_type": "markdown",
   "metadata": {
    "collapsed": true
   },
   "source": [
    "# Старые проверки и работы"
   ]
  },
  {
   "cell_type": "markdown",
   "metadata": {},
   "source": [
    "# Создание основного ДФ для обучения и предсказания"
   ]
  },
  {
   "cell_type": "code",
   "execution_count": 122,
   "metadata": {},
   "outputs": [
    {
     "name": "stdout",
     "output_type": "stream",
     "text": [
      "3602\n"
     ]
    }
   ],
   "source": [
    "df_signatures_heroes = df_signatures_heroes[['radiant_P1_eloShift', 'radiant_P2_eloShift', 'radiant_P3_eloShift', \n",
    "                                            'radiant_P4_eloShift', 'radiant_P5_eloShift', 'dire_P1_eloShift', \n",
    "                                            'dire_P2_eloShift', 'dire_P3_eloShift', 'dire_P4_eloShift', \n",
    "                                            'dire_P5_eloShift', 'match_id']]\n",
    "\n",
    "# Соединение всех данных в один ДФ\n",
    "main = df_rating_teams_Premium\n",
    "main = pd.merge(main, df_contrpick, left_on='match_id', right_on='match_id',how='left')\n",
    "main = pd.merge(main, df_meta_heroes, left_on='match_id', right_on='match_id',how='left')\n",
    "main = pd.merge(main, df_signatures_heroes, left_on='match_id', right_on='match_id',how='left')\n",
    "\n",
    "# ---------------------------------------------------------------------------------------------------------------------\n",
    "# Добавить фичи по геряом и типам героев\n",
    "# main = pd.merge(main, df_features_type_Heroes, left_on='match_id', right_on='match_id',how='left')\n",
    "main = pd.merge(main, df_features_Heroes, left_on='match_id', right_on='match_id',how='left')\n",
    "# ---------------------------------------------------------------------------------------------------------------------\n",
    "\n",
    "# ---------------------------------------------------------------------------------------------------------------------\n",
    "# Добавить фичи по Professional матчам\n",
    "# main = pd.merge(main, df_contrpick_Pro10, left_on='match_id', right_on='match_id',how='left')\n",
    "# main = pd.merge(main, df_contrpick_2MonthAgo_AllTeam1, left_on='match_id', right_on='match_id',how='left')\n",
    "# ---------------------------------------------------------------------------------------------------------------------\n",
    "\n",
    "# удаление не нужных колонок для обучения\n",
    "main = main.drop(['match_id', 'start_time', 'radiant_team_id', 'radiant_score', 'dire_team_id',\n",
    "           'dire_score', 'radiant_name', 'dire_name','league_name'], axis=1)\n",
    "main = main.drop(main.loc[:, 'radiant_H1' : 'dire_P5'], axis=1)\n",
    "\n",
    "\n",
    "# # Оставляю только важные фичи, убираю из рейтинга команд ело32 и ело64\n",
    "# main = main.drop(main.loc[:, 'radiant_current_elo32':'radiant_thirtyDayAvg_elo64'], axis=1)\n",
    "# main = main.drop(main.loc[:, 'dire_current_elo32':'dire_thirtyDayAvg_elo64'], axis=1)\n",
    "# main = main.drop(main.loc[:, 'radiant_ratingSevenDaysAgo_glicko':'radiant_ratingSevenDaysAgo_glicko2'], axis=1)\n",
    "# main = main.drop(main.loc[:, 'dire_ratingSevenDaysAgo_glicko':'dire_ratingSevenDaysAgo_glicko2'], axis=1)\n",
    "# Выбросить весь рейтинг команд\n",
    "main = main.drop(main.loc[:, 'radiant_current_elo32':'dire_ratingSevenDaysAgo_glicko2'], axis=1)\n",
    "\n",
    "print (len(main))\n",
    "# main.columns"
   ]
  },
  {
   "cell_type": "code",
   "execution_count": null,
   "metadata": {
    "collapsed": true
   },
   "outputs": [],
   "source": []
  },
  {
   "cell_type": "code",
   "execution_count": 78,
   "metadata": {},
   "outputs": [
    {
     "name": "stdout",
     "output_type": "stream",
     "text": [
      "1728.34025281\n"
     ]
    },
    {
     "data": {
      "text/plain": [
       "datetime.date(2017, 9, 30)"
      ]
     },
     "execution_count": 78,
     "metadata": {},
     "output_type": "execute_result"
    }
   ],
   "source": [
    "print(main.loc[2000, \"radiant_rating_glicko2\"])\n",
    "datetime.date.fromtimestamp(1506788216)"
   ]
  },
  {
   "cell_type": "code",
   "execution_count": 102,
   "metadata": {},
   "outputs": [
    {
     "data": {
      "text/html": [
       "<div>\n",
       "<style>\n",
       "    .dataframe thead tr:only-child th {\n",
       "        text-align: right;\n",
       "    }\n",
       "\n",
       "    .dataframe thead th {\n",
       "        text-align: left;\n",
       "    }\n",
       "\n",
       "    .dataframe tbody tr th {\n",
       "        vertical-align: top;\n",
       "    }\n",
       "</style>\n",
       "<table border=\"1\" class=\"dataframe\">\n",
       "  <thead>\n",
       "    <tr style=\"text-align: right;\">\n",
       "      <th></th>\n",
       "      <th>radiant_P1_eloShift</th>\n",
       "      <th>radiant_P2_eloShift</th>\n",
       "      <th>radiant_P3_eloShift</th>\n",
       "      <th>radiant_P4_eloShift</th>\n",
       "      <th>radiant_P5_eloShift</th>\n",
       "      <th>dire_P1_eloShift</th>\n",
       "      <th>dire_P2_eloShift</th>\n",
       "      <th>dire_P3_eloShift</th>\n",
       "      <th>dire_P4_eloShift</th>\n",
       "      <th>dire_P5_eloShift</th>\n",
       "      <th>match_id</th>\n",
       "    </tr>\n",
       "  </thead>\n",
       "  <tbody>\n",
       "    <tr>\n",
       "      <th>2000</th>\n",
       "      <td>3.795196</td>\n",
       "      <td>-4.318838</td>\n",
       "      <td>0.0</td>\n",
       "      <td>-5.28387</td>\n",
       "      <td>0.0</td>\n",
       "      <td>0.0</td>\n",
       "      <td>0.0</td>\n",
       "      <td>4.273999</td>\n",
       "      <td>2.530319</td>\n",
       "      <td>-11.045056</td>\n",
       "      <td>3475124948</td>\n",
       "    </tr>\n",
       "  </tbody>\n",
       "</table>\n",
       "</div>"
      ],
      "text/plain": [
       "      radiant_P1_eloShift  radiant_P2_eloShift  radiant_P3_eloShift  \\\n",
       "2000             3.795196            -4.318838                  0.0   \n",
       "\n",
       "      radiant_P4_eloShift  radiant_P5_eloShift  dire_P1_eloShift  \\\n",
       "2000             -5.28387                  0.0               0.0   \n",
       "\n",
       "      dire_P2_eloShift  dire_P3_eloShift  dire_P4_eloShift  dire_P5_eloShift  \\\n",
       "2000               0.0          4.273999          2.530319        -11.045056   \n",
       "\n",
       "        match_id  \n",
       "2000  3475124948  "
      ]
     },
     "execution_count": 102,
     "metadata": {},
     "output_type": "execute_result"
    }
   ],
   "source": [
    "df_signatures_heroes[df_signatures_heroes['match_id']== 3475124948].loc[:, :]"
   ]
  },
  {
   "cell_type": "code",
   "execution_count": 124,
   "metadata": {},
   "outputs": [
    {
     "data": {
      "text/plain": [
       "3452"
      ]
     },
     "execution_count": 124,
     "metadata": {},
     "output_type": "execute_result"
    }
   ],
   "source": [
    "# Заполнить пустые значения на 0\n",
    "# main = main.fillna(0)\n",
    "\n",
    "main['Predict'] = predict_for_rating_teams\n",
    "# убрать пустые ячейки\n",
    "main = main.dropna()\n",
    "len(main)"
   ]
  },
  {
   "cell_type": "code",
   "execution_count": 125,
   "metadata": {},
   "outputs": [
    {
     "data": {
      "text/plain": [
       "Index(['radiant_win', 'radiant_H1_elo_vs_enemies', 'radiant_H2_elo_vs_enemies',\n",
       "       'radiant_H3_elo_vs_enemies', 'radiant_H4_elo_vs_enemies',\n",
       "       'radiant_H5_elo_vs_enemies', 'dire_H1_elo_vs_enemies',\n",
       "       'dire_H2_elo_vs_enemies', 'dire_H3_elo_vs_enemies',\n",
       "       'dire_H4_elo_vs_enemies',\n",
       "       ...\n",
       "       'Underlord', 'Terrorblade', 'Phoenix', 'Oracle', 'Winter Wyvern',\n",
       "       'Arc Warden', 'Monkey King', 'Dark Willow', 'Pangolier', 'Predict'],\n",
       "      dtype='object', length=147)"
      ]
     },
     "execution_count": 125,
     "metadata": {},
     "output_type": "execute_result"
    }
   ],
   "source": [
    "main.columns"
   ]
  },
  {
   "cell_type": "code",
   "execution_count": 127,
   "metadata": {
    "collapsed": true
   },
   "outputs": [
    {
     "name": "stderr",
     "output_type": "stream",
     "text": [
      "C:\\Apps\\Anaconda3\\lib\\site-packages\\ipykernel_launcher.py:3: SettingWithCopyWarning: \n",
      "A value is trying to be set on a copy of a slice from a DataFrame.\n",
      "Try using .loc[row_indexer,col_indexer] = value instead\n",
      "\n",
      "See the caveats in the documentation: http://pandas.pydata.org/pandas-docs/stable/indexing.html#indexing-view-versus-copy\n",
      "  This is separate from the ipykernel package so we can avoid doing imports until\n",
      "C:\\Apps\\Anaconda3\\lib\\site-packages\\ipykernel_launcher.py:12: SettingWithCopyWarning: \n",
      "A value is trying to be set on a copy of a slice from a DataFrame.\n",
      "Try using .loc[row_indexer,col_indexer] = value instead\n",
      "\n",
      "See the caveats in the documentation: http://pandas.pydata.org/pandas-docs/stable/indexing.html#indexing-view-versus-copy\n",
      "  if sys.path[0] == '':\n",
      "C:\\Apps\\Anaconda3\\lib\\site-packages\\ipykernel_launcher.py:15: SettingWithCopyWarning: \n",
      "A value is trying to be set on a copy of a slice from a DataFrame.\n",
      "Try using .loc[row_indexer,col_indexer] = value instead\n",
      "\n",
      "See the caveats in the documentation: http://pandas.pydata.org/pandas-docs/stable/indexing.html#indexing-view-versus-copy\n",
      "  from ipykernel import kernelapp as app\n",
      "C:\\Apps\\Anaconda3\\lib\\site-packages\\ipykernel_launcher.py:17: SettingWithCopyWarning: \n",
      "A value is trying to be set on a copy of a slice from a DataFrame.\n",
      "Try using .loc[row_indexer,col_indexer] = value instead\n",
      "\n",
      "See the caveats in the documentation: http://pandas.pydata.org/pandas-docs/stable/indexing.html#indexing-view-versus-copy\n"
     ]
    }
   ],
   "source": [
    "# Создаем новые колонуи по суммам, разности показателей\n",
    "main['radiant_elo_vs_enemies'] = (main['radiant_H1_elo_vs_enemies'] + main['radiant_H2_elo_vs_enemies'] + \n",
    "                main['radiant_H3_elo_vs_enemies'] + main['radiant_H4_elo_vs_enemies'] + main['radiant_H5_elo_vs_enemies'])\n",
    "\n",
    "# main['dire_elo_vs_enemies'] = (main['dire_H1_elo_vs_enemies'] + main['dire_H2_elo_vs_enemies'] + \n",
    "#                             main['dire_H3_elo_vs_enemies'] + main['dire_H4_elo_vs_enemies'] + main['dire_H5_elo_vs_enemies'])\n",
    "\n",
    "# main['elo_vs_enemies'] = main['radiant_elo_vs_enemies'] - main['dire_elo_vs_enemies']\n",
    "# main = main.drop(['radiant_elo_vs_enemies', 'dire_elo_vs_enemies'], axis=1)\n",
    "\n",
    "main['radiant_P_eloShift'] = (main['radiant_P1_eloShift'] + main['radiant_P2_eloShift'] + \n",
    "                              main['radiant_P3_eloShift'] + main['radiant_P4_eloShift'] + main['radiant_P5_eloShift'])\n",
    "\n",
    "main['dire_P_eloShift'] = (main['dire_P1_eloShift'] + main['dire_P2_eloShift'] + \n",
    "                           main['dire_P3_eloShift'] + main['dire_P4_eloShift'] + main['dire_P5_eloShift'])\n",
    "\n",
    "main['P_eloShift'] = main['radiant_P_eloShift'] - main['dire_P_eloShift']\n",
    "\n",
    "# main = main.drop(['radiant_P_eloShift', 'dire_P_eloShift'], axis=1)"
   ]
  },
  {
   "cell_type": "code",
   "execution_count": 128,
   "metadata": {
    "collapsed": true
   },
   "outputs": [
    {
     "name": "stderr",
     "output_type": "stream",
     "text": [
      "C:\\Apps\\Anaconda3\\lib\\site-packages\\ipykernel_launcher.py:2: SettingWithCopyWarning: \n",
      "A value is trying to be set on a copy of a slice from a DataFrame.\n",
      "Try using .loc[row_indexer,col_indexer] = value instead\n",
      "\n",
      "See the caveats in the documentation: http://pandas.pydata.org/pandas-docs/stable/indexing.html#indexing-view-versus-copy\n",
      "  \n",
      "C:\\Apps\\Anaconda3\\lib\\site-packages\\ipykernel_launcher.py:5: SettingWithCopyWarning: \n",
      "A value is trying to be set on a copy of a slice from a DataFrame.\n",
      "Try using .loc[row_indexer,col_indexer] = value instead\n",
      "\n",
      "See the caveats in the documentation: http://pandas.pydata.org/pandas-docs/stable/indexing.html#indexing-view-versus-copy\n",
      "  \"\"\"\n",
      "C:\\Apps\\Anaconda3\\lib\\site-packages\\ipykernel_launcher.py:7: SettingWithCopyWarning: \n",
      "A value is trying to be set on a copy of a slice from a DataFrame.\n",
      "Try using .loc[row_indexer,col_indexer] = value instead\n",
      "\n",
      "See the caveats in the documentation: http://pandas.pydata.org/pandas-docs/stable/indexing.html#indexing-view-versus-copy\n",
      "  import sys\n"
     ]
    }
   ],
   "source": [
    "main['radiant_H_AvgElo'] = (main['radiant_H1_AvgElo'] + main['radiant_H2_AvgElo'] + \n",
    "                              main['radiant_H3_AvgElo'] + main['radiant_H4_AvgElo'] + main['radiant_H5_AvgElo'])\n",
    "\n",
    "main['dire_H_AvgElo'] = (main['dire_H1_AvgElo'] + main['dire_H2_AvgElo'] + \n",
    "                           main['dire_H3_AvgElo'] + main['dire_H4_AvgElo'] + main['dire_H5_AvgElo'])\n",
    "\n",
    "main['H_AvgElo'] = main['radiant_H_AvgElo'] - main['dire_H_AvgElo']\n",
    "\n",
    "# main = main.drop(['dire_H_AvgElo', 'radiant_H_AvgElo'], axis=1)"
   ]
  },
  {
   "cell_type": "code",
   "execution_count": 129,
   "metadata": {
    "collapsed": true
   },
   "outputs": [
    {
     "ename": "KeyError",
     "evalue": "'Disabler1'",
     "output_type": "error",
     "traceback": [
      "\u001b[1;31m---------------------------------------------------------------------------\u001b[0m",
      "\u001b[1;31mKeyError\u001b[0m                                  Traceback (most recent call last)",
      "\u001b[1;32mC:\\Apps\\Anaconda3\\lib\\site-packages\\pandas\\core\\indexes\\base.py\u001b[0m in \u001b[0;36mget_loc\u001b[1;34m(self, key, method, tolerance)\u001b[0m\n\u001b[0;32m   2441\u001b[0m             \u001b[1;32mtry\u001b[0m\u001b[1;33m:\u001b[0m\u001b[1;33m\u001b[0m\u001b[0m\n\u001b[1;32m-> 2442\u001b[1;33m                 \u001b[1;32mreturn\u001b[0m \u001b[0mself\u001b[0m\u001b[1;33m.\u001b[0m\u001b[0m_engine\u001b[0m\u001b[1;33m.\u001b[0m\u001b[0mget_loc\u001b[0m\u001b[1;33m(\u001b[0m\u001b[0mkey\u001b[0m\u001b[1;33m)\u001b[0m\u001b[1;33m\u001b[0m\u001b[0m\n\u001b[0m\u001b[0;32m   2443\u001b[0m             \u001b[1;32mexcept\u001b[0m \u001b[0mKeyError\u001b[0m\u001b[1;33m:\u001b[0m\u001b[1;33m\u001b[0m\u001b[0m\n",
      "\u001b[1;32mpandas\\_libs\\index.pyx\u001b[0m in \u001b[0;36mpandas._libs.index.IndexEngine.get_loc\u001b[1;34m()\u001b[0m\n",
      "\u001b[1;32mpandas\\_libs\\index.pyx\u001b[0m in \u001b[0;36mpandas._libs.index.IndexEngine.get_loc\u001b[1;34m()\u001b[0m\n",
      "\u001b[1;32mpandas\\_libs\\hashtable_class_helper.pxi\u001b[0m in \u001b[0;36mpandas._libs.hashtable.PyObjectHashTable.get_item\u001b[1;34m()\u001b[0m\n",
      "\u001b[1;32mpandas\\_libs\\hashtable_class_helper.pxi\u001b[0m in \u001b[0;36mpandas._libs.hashtable.PyObjectHashTable.get_item\u001b[1;34m()\u001b[0m\n",
      "\u001b[1;31mKeyError\u001b[0m: 'Disabler1'",
      "\nDuring handling of the above exception, another exception occurred:\n",
      "\u001b[1;31mKeyError\u001b[0m                                  Traceback (most recent call last)",
      "\u001b[1;32m<ipython-input-129-912757a36ba1>\u001b[0m in \u001b[0;36m<module>\u001b[1;34m()\u001b[0m\n\u001b[0;32m      1\u001b[0m main['Disabler'] = (main['Disabler1'] + main['Disabler2'] + main['Disabler3'] + main['Disabler4'] + main['Disabler5'] - \n\u001b[1;32m----> 2\u001b[1;33m                    main['Disabler6'] - main['Disabler7'] - main['Disabler8'] - main['Disabler9'] - main['Disabler10'])\n\u001b[0m\u001b[0;32m      3\u001b[0m \u001b[1;33m\u001b[0m\u001b[0m\n\u001b[0;32m      4\u001b[0m main['Nuker'] = (main['Nuker1'] + main['Nuker2'] + main['Nuker3'] + main['Nuker4'] + main['Nuker5'] - \n\u001b[0;32m      5\u001b[0m                    main['Nuker6'] - main['Nuker7'] - main['Nuker8'] - main['Nuker9'] - main['Nuker10'])\n",
      "\u001b[1;32mC:\\Apps\\Anaconda3\\lib\\site-packages\\pandas\\core\\frame.py\u001b[0m in \u001b[0;36m__getitem__\u001b[1;34m(self, key)\u001b[0m\n\u001b[0;32m   1962\u001b[0m             \u001b[1;32mreturn\u001b[0m \u001b[0mself\u001b[0m\u001b[1;33m.\u001b[0m\u001b[0m_getitem_multilevel\u001b[0m\u001b[1;33m(\u001b[0m\u001b[0mkey\u001b[0m\u001b[1;33m)\u001b[0m\u001b[1;33m\u001b[0m\u001b[0m\n\u001b[0;32m   1963\u001b[0m         \u001b[1;32melse\u001b[0m\u001b[1;33m:\u001b[0m\u001b[1;33m\u001b[0m\u001b[0m\n\u001b[1;32m-> 1964\u001b[1;33m             \u001b[1;32mreturn\u001b[0m \u001b[0mself\u001b[0m\u001b[1;33m.\u001b[0m\u001b[0m_getitem_column\u001b[0m\u001b[1;33m(\u001b[0m\u001b[0mkey\u001b[0m\u001b[1;33m)\u001b[0m\u001b[1;33m\u001b[0m\u001b[0m\n\u001b[0m\u001b[0;32m   1965\u001b[0m \u001b[1;33m\u001b[0m\u001b[0m\n\u001b[0;32m   1966\u001b[0m     \u001b[1;32mdef\u001b[0m \u001b[0m_getitem_column\u001b[0m\u001b[1;33m(\u001b[0m\u001b[0mself\u001b[0m\u001b[1;33m,\u001b[0m \u001b[0mkey\u001b[0m\u001b[1;33m)\u001b[0m\u001b[1;33m:\u001b[0m\u001b[1;33m\u001b[0m\u001b[0m\n",
      "\u001b[1;32mC:\\Apps\\Anaconda3\\lib\\site-packages\\pandas\\core\\frame.py\u001b[0m in \u001b[0;36m_getitem_column\u001b[1;34m(self, key)\u001b[0m\n\u001b[0;32m   1969\u001b[0m         \u001b[1;31m# get column\u001b[0m\u001b[1;33m\u001b[0m\u001b[1;33m\u001b[0m\u001b[0m\n\u001b[0;32m   1970\u001b[0m         \u001b[1;32mif\u001b[0m \u001b[0mself\u001b[0m\u001b[1;33m.\u001b[0m\u001b[0mcolumns\u001b[0m\u001b[1;33m.\u001b[0m\u001b[0mis_unique\u001b[0m\u001b[1;33m:\u001b[0m\u001b[1;33m\u001b[0m\u001b[0m\n\u001b[1;32m-> 1971\u001b[1;33m             \u001b[1;32mreturn\u001b[0m \u001b[0mself\u001b[0m\u001b[1;33m.\u001b[0m\u001b[0m_get_item_cache\u001b[0m\u001b[1;33m(\u001b[0m\u001b[0mkey\u001b[0m\u001b[1;33m)\u001b[0m\u001b[1;33m\u001b[0m\u001b[0m\n\u001b[0m\u001b[0;32m   1972\u001b[0m \u001b[1;33m\u001b[0m\u001b[0m\n\u001b[0;32m   1973\u001b[0m         \u001b[1;31m# duplicate columns & possible reduce dimensionality\u001b[0m\u001b[1;33m\u001b[0m\u001b[1;33m\u001b[0m\u001b[0m\n",
      "\u001b[1;32mC:\\Apps\\Anaconda3\\lib\\site-packages\\pandas\\core\\generic.py\u001b[0m in \u001b[0;36m_get_item_cache\u001b[1;34m(self, item)\u001b[0m\n\u001b[0;32m   1643\u001b[0m         \u001b[0mres\u001b[0m \u001b[1;33m=\u001b[0m \u001b[0mcache\u001b[0m\u001b[1;33m.\u001b[0m\u001b[0mget\u001b[0m\u001b[1;33m(\u001b[0m\u001b[0mitem\u001b[0m\u001b[1;33m)\u001b[0m\u001b[1;33m\u001b[0m\u001b[0m\n\u001b[0;32m   1644\u001b[0m         \u001b[1;32mif\u001b[0m \u001b[0mres\u001b[0m \u001b[1;32mis\u001b[0m \u001b[1;32mNone\u001b[0m\u001b[1;33m:\u001b[0m\u001b[1;33m\u001b[0m\u001b[0m\n\u001b[1;32m-> 1645\u001b[1;33m             \u001b[0mvalues\u001b[0m \u001b[1;33m=\u001b[0m \u001b[0mself\u001b[0m\u001b[1;33m.\u001b[0m\u001b[0m_data\u001b[0m\u001b[1;33m.\u001b[0m\u001b[0mget\u001b[0m\u001b[1;33m(\u001b[0m\u001b[0mitem\u001b[0m\u001b[1;33m)\u001b[0m\u001b[1;33m\u001b[0m\u001b[0m\n\u001b[0m\u001b[0;32m   1646\u001b[0m             \u001b[0mres\u001b[0m \u001b[1;33m=\u001b[0m \u001b[0mself\u001b[0m\u001b[1;33m.\u001b[0m\u001b[0m_box_item_values\u001b[0m\u001b[1;33m(\u001b[0m\u001b[0mitem\u001b[0m\u001b[1;33m,\u001b[0m \u001b[0mvalues\u001b[0m\u001b[1;33m)\u001b[0m\u001b[1;33m\u001b[0m\u001b[0m\n\u001b[0;32m   1647\u001b[0m             \u001b[0mcache\u001b[0m\u001b[1;33m[\u001b[0m\u001b[0mitem\u001b[0m\u001b[1;33m]\u001b[0m \u001b[1;33m=\u001b[0m \u001b[0mres\u001b[0m\u001b[1;33m\u001b[0m\u001b[0m\n",
      "\u001b[1;32mC:\\Apps\\Anaconda3\\lib\\site-packages\\pandas\\core\\internals.py\u001b[0m in \u001b[0;36mget\u001b[1;34m(self, item, fastpath)\u001b[0m\n\u001b[0;32m   3588\u001b[0m \u001b[1;33m\u001b[0m\u001b[0m\n\u001b[0;32m   3589\u001b[0m             \u001b[1;32mif\u001b[0m \u001b[1;32mnot\u001b[0m \u001b[0misnull\u001b[0m\u001b[1;33m(\u001b[0m\u001b[0mitem\u001b[0m\u001b[1;33m)\u001b[0m\u001b[1;33m:\u001b[0m\u001b[1;33m\u001b[0m\u001b[0m\n\u001b[1;32m-> 3590\u001b[1;33m                 \u001b[0mloc\u001b[0m \u001b[1;33m=\u001b[0m \u001b[0mself\u001b[0m\u001b[1;33m.\u001b[0m\u001b[0mitems\u001b[0m\u001b[1;33m.\u001b[0m\u001b[0mget_loc\u001b[0m\u001b[1;33m(\u001b[0m\u001b[0mitem\u001b[0m\u001b[1;33m)\u001b[0m\u001b[1;33m\u001b[0m\u001b[0m\n\u001b[0m\u001b[0;32m   3591\u001b[0m             \u001b[1;32melse\u001b[0m\u001b[1;33m:\u001b[0m\u001b[1;33m\u001b[0m\u001b[0m\n\u001b[0;32m   3592\u001b[0m                 \u001b[0mindexer\u001b[0m \u001b[1;33m=\u001b[0m \u001b[0mnp\u001b[0m\u001b[1;33m.\u001b[0m\u001b[0marange\u001b[0m\u001b[1;33m(\u001b[0m\u001b[0mlen\u001b[0m\u001b[1;33m(\u001b[0m\u001b[0mself\u001b[0m\u001b[1;33m.\u001b[0m\u001b[0mitems\u001b[0m\u001b[1;33m)\u001b[0m\u001b[1;33m)\u001b[0m\u001b[1;33m[\u001b[0m\u001b[0misnull\u001b[0m\u001b[1;33m(\u001b[0m\u001b[0mself\u001b[0m\u001b[1;33m.\u001b[0m\u001b[0mitems\u001b[0m\u001b[1;33m)\u001b[0m\u001b[1;33m]\u001b[0m\u001b[1;33m\u001b[0m\u001b[0m\n",
      "\u001b[1;32mC:\\Apps\\Anaconda3\\lib\\site-packages\\pandas\\core\\indexes\\base.py\u001b[0m in \u001b[0;36mget_loc\u001b[1;34m(self, key, method, tolerance)\u001b[0m\n\u001b[0;32m   2442\u001b[0m                 \u001b[1;32mreturn\u001b[0m \u001b[0mself\u001b[0m\u001b[1;33m.\u001b[0m\u001b[0m_engine\u001b[0m\u001b[1;33m.\u001b[0m\u001b[0mget_loc\u001b[0m\u001b[1;33m(\u001b[0m\u001b[0mkey\u001b[0m\u001b[1;33m)\u001b[0m\u001b[1;33m\u001b[0m\u001b[0m\n\u001b[0;32m   2443\u001b[0m             \u001b[1;32mexcept\u001b[0m \u001b[0mKeyError\u001b[0m\u001b[1;33m:\u001b[0m\u001b[1;33m\u001b[0m\u001b[0m\n\u001b[1;32m-> 2444\u001b[1;33m                 \u001b[1;32mreturn\u001b[0m \u001b[0mself\u001b[0m\u001b[1;33m.\u001b[0m\u001b[0m_engine\u001b[0m\u001b[1;33m.\u001b[0m\u001b[0mget_loc\u001b[0m\u001b[1;33m(\u001b[0m\u001b[0mself\u001b[0m\u001b[1;33m.\u001b[0m\u001b[0m_maybe_cast_indexer\u001b[0m\u001b[1;33m(\u001b[0m\u001b[0mkey\u001b[0m\u001b[1;33m)\u001b[0m\u001b[1;33m)\u001b[0m\u001b[1;33m\u001b[0m\u001b[0m\n\u001b[0m\u001b[0;32m   2445\u001b[0m \u001b[1;33m\u001b[0m\u001b[0m\n\u001b[0;32m   2446\u001b[0m         \u001b[0mindexer\u001b[0m \u001b[1;33m=\u001b[0m \u001b[0mself\u001b[0m\u001b[1;33m.\u001b[0m\u001b[0mget_indexer\u001b[0m\u001b[1;33m(\u001b[0m\u001b[1;33m[\u001b[0m\u001b[0mkey\u001b[0m\u001b[1;33m]\u001b[0m\u001b[1;33m,\u001b[0m \u001b[0mmethod\u001b[0m\u001b[1;33m=\u001b[0m\u001b[0mmethod\u001b[0m\u001b[1;33m,\u001b[0m \u001b[0mtolerance\u001b[0m\u001b[1;33m=\u001b[0m\u001b[0mtolerance\u001b[0m\u001b[1;33m)\u001b[0m\u001b[1;33m\u001b[0m\u001b[0m\n",
      "\u001b[1;32mpandas\\_libs\\index.pyx\u001b[0m in \u001b[0;36mpandas._libs.index.IndexEngine.get_loc\u001b[1;34m()\u001b[0m\n",
      "\u001b[1;32mpandas\\_libs\\index.pyx\u001b[0m in \u001b[0;36mpandas._libs.index.IndexEngine.get_loc\u001b[1;34m()\u001b[0m\n",
      "\u001b[1;32mpandas\\_libs\\hashtable_class_helper.pxi\u001b[0m in \u001b[0;36mpandas._libs.hashtable.PyObjectHashTable.get_item\u001b[1;34m()\u001b[0m\n",
      "\u001b[1;32mpandas\\_libs\\hashtable_class_helper.pxi\u001b[0m in \u001b[0;36mpandas._libs.hashtable.PyObjectHashTable.get_item\u001b[1;34m()\u001b[0m\n",
      "\u001b[1;31mKeyError\u001b[0m: 'Disabler1'"
     ]
    }
   ],
   "source": [
    "main['Disabler'] = (main['Disabler1'] + main['Disabler2'] + main['Disabler3'] + main['Disabler4'] + main['Disabler5'] - \n",
    "                   main['Disabler6'] - main['Disabler7'] - main['Disabler8'] - main['Disabler9'] - main['Disabler10'])\n",
    "\n",
    "main['Nuker'] = (main['Nuker1'] + main['Nuker2'] + main['Nuker3'] + main['Nuker4'] + main['Nuker5'] - \n",
    "                   main['Nuker6'] - main['Nuker7'] - main['Nuker8'] - main['Nuker9'] - main['Nuker10'])\n",
    "\n",
    "main['Carry'] = (main['Carry1'] + main['Carry2'] + main['Carry3'] + main['Carry4'] + main['Carry5'] - \n",
    "                   main['Carry6'] - main['Carry7'] - main['Carry8'] - main['Carry9'] - main['Carry10'])\n",
    "\n",
    "main['Initiator'] = (main['Initiator1'] + main['Initiator2'] + main['Initiator3'] + main['Initiator4'] + main['Initiator5'] - \n",
    "                   main['Initiator6'] - main['Initiator7'] - main['Initiator8'] - main['Initiator9'] - main['Initiator10'])\n",
    "\n",
    "main['Escape'] = (main['Escape1'] + main['Escape2'] + main['Escape3'] + main['Escape4'] + main['Escape5'] - \n",
    "                   main['Escape6'] - main['Escape7'] - main['Escape8'] - main['Escape9'] - main['Escape10'])\n",
    "\n",
    "main['Durable'] = (main['Durable1'] + main['Durable2'] + main['Durable3'] + main['Durable4'] + main['Durable5'] - \n",
    "                   main['Durable6'] - main['Durable7'] - main['Durable8'] - main['Durable9'] - main['Durable10'])\n",
    "\n",
    "main['Support'] = (main['Support1'] + main['Support2'] + main['Support3'] + main['Support4'] + main['Support5'] - \n",
    "                   main['Support6'] - main['Support7'] - main['Support8'] - main['Support9'] - main['Support10'])\n",
    "\n",
    "main['Pusher'] = (main['Pusher1'] + main['Pusher2'] + main['Pusher3'] + main['Pusher4'] + main['Pusher5'] - \n",
    "                   main['Pusher6'] - main['Pusher7'] - main['Pusher8'] - main['Pusher9'] - main['Pusher10'])\n",
    "\n",
    "main['Jungler'] = (main['Jungler1'] + main['Jungler2'] + main['Jungler3'] + main['Jungler4'] + main['Jungler5'] - \n",
    "                   main['Jungler6'] - main['Jungler7'] - main['Jungler8'] - main['Jungler9'] - main['Jungler10'])\n",
    "main = main.drop(['attac_type1','Disabler1','Nuker1','Carry1','Initiator1','Escape1','Durable1','Support1','Pusher1','Jungler1',\n",
    "           'attac_type2','Disabler2','Nuker2','Carry2','Initiator2','Escape2','Durable2','Support2','Pusher2','Jungler2',\n",
    "           'attac_type3','Disabler3','Nuker3','Carry3','Initiator3','Escape3','Durable3','Support3','Pusher3','Jungler3',\n",
    "           'attac_type4','Disabler4','Nuker4','Carry4','Initiator4','Escape4','Durable4','Support4','Pusher4','Jungler4',\n",
    "           'attac_type5','Disabler5','Nuker5','Carry5','Initiator5','Escape5','Durable5','Support5','Pusher5','Jungler5',\n",
    "           'attac_type6','Disabler6','Nuker6','Carry6','Initiator6','Escape6','Durable6','Support6','Pusher6','Jungler6',\n",
    "           'attac_type7','Disabler7','Nuker7','Carry7','Initiator7','Escape7','Durable7','Support7','Pusher7','Jungler7',\n",
    "           'attac_type8','Disabler8','Nuker8','Carry8','Initiator8','Escape8','Durable8','Support8','Pusher8','Jungler8',\n",
    "           'attac_type9','Disabler9','Nuker9','Carry9','Initiator9','Escape9','Durable9','Support9','Pusher9','Jungler9',\n",
    "     'attac_type10','Disabler10','Nuker10','Carry10','Initiator10','Escape10','Durable10','Support10','Pusher10','Jungler10'], axis=1)"
   ]
  },
  {
   "cell_type": "code",
   "execution_count": 68,
   "metadata": {
    "collapsed": true
   },
   "outputs": [],
   "source": [
    "from sklearn.preprocessing import StandardScaler, MinMaxScaler\n",
    "scaler = MinMaxScaler()\n",
    "main['Disabler'] = scaler.fit(pd.DataFrame(main['Disabler'])).transform(pd.DataFrame(main['Disabler']))\n",
    "main['Nuker'] = scaler.fit(pd.DataFrame(main['Nuker'])).transform(pd.DataFrame(main['Nuker']))\n",
    "main['Carry'] = scaler.fit(pd.DataFrame(main['Carry'])).transform(pd.DataFrame(main['Carry']))\n",
    "main['Initiator'] = scaler.fit(pd.DataFrame(main['Initiator'])).transform(pd.DataFrame(main['Initiator']))\n",
    "main['Escape'] = scaler.fit(pd.DataFrame(main['Escape'])).transform(pd.DataFrame(main['Escape']))\n",
    "main['Durable'] = scaler.fit(pd.DataFrame(main['Durable'])).transform(pd.DataFrame(main['Durable']))\n",
    "main['Support'] = scaler.fit(pd.DataFrame(main['Support'])).transform(pd.DataFrame(main['Support']))\n",
    "main['Pusher'] = scaler.fit(pd.DataFrame(main['Pusher'])).transform(pd.DataFrame(main['Pusher']))\n",
    "main['Jungler'] = scaler.fit(pd.DataFrame(main['Jungler'])).transform(pd.DataFrame(main['Jungler']))"
   ]
  },
  {
   "cell_type": "code",
   "execution_count": 69,
   "metadata": {},
   "outputs": [
    {
     "data": {
      "text/plain": [
       "Index(['radiant_win', 'radiant_mu_glicko', 'radiant_rating_glicko',\n",
       "       'radiant_ratingSevenDaysAgo_glicko', 'radiant_sigma_glicko',\n",
       "       'radiant_mu_glicko2', 'radiant_phi_glicko2', 'radiant_rating_glicko2',\n",
       "       'radiant_ratingSevenDaysAgo_glicko2', 'dire_mu_glicko',\n",
       "       ...\n",
       "       'H_AvgElo', 'Disabler', 'Nuker', 'Carry', 'Initiator', 'Escape',\n",
       "       'Durable', 'Support', 'Pusher', 'Jungler'],\n",
       "      dtype='object', length=178)"
      ]
     },
     "execution_count": 69,
     "metadata": {},
     "output_type": "execute_result"
    }
   ],
   "source": [
    "main.columns"
   ]
  },
  {
   "cell_type": "code",
   "execution_count": 106,
   "metadata": {
    "collapsed": true
   },
   "outputs": [],
   "source": [
    "main['mu_glicko'] = main['radiant_mu_glicko'] -  main['dire_mu_glicko']\n",
    "main['rating_glicko'] = main['radiant_rating_glicko'] -  main['dire_rating_glicko']\n",
    "main['ratingSevenDaysAgo_glicko'] = main['radiant_ratingSevenDaysAgo_glicko'] -  main['dire_ratingSevenDaysAgo_glicko']\n",
    "main['mu_glicko2'] = main['radiant_mu_glicko2'] -  main['dire_mu_glicko2']\n",
    "main['phi_glicko2'] = main['radiant_phi_glicko2'] -  main['dire_phi_glicko2']\n",
    "# main['rating_glicko2'] = main['radiant_rating_glicko2'] -  main['dire_rating_glicko2']\n",
    "# main['ratingSevenDaysAgo_glicko2'] = main['radiant_ratingSevenDaysAgo_glicko2'] -  main['dire_ratingSevenDaysAgo_glicko2']\n",
    "main = main.drop([#'Jungler', 'Pusher', 'Initiator', 'Escape', 'Nuker',\n",
    "                  # 'radiant_mu_glicko', 'dire_mu_glicko', \n",
    "                  # 'radiant_rating_glicko', 'dire_rating_glicko', \n",
    "                   'radiant_sigma_glicko', #'dire_sigma_glicko',\n",
    "                  # 'radiant_ratingSevenDaysAgo_glicko', 'dire_ratingSevenDaysAgo_glicko',\n",
    "                  # 'radiant_mu_glicko2', 'dire_mu_glicko2', \n",
    "                   'radiant_phi_glicko2', 'dire_phi_glicko2',\n",
    "                   'radiant_rating_glicko2', 'dire_rating_glicko2', \n",
    "                  # 'radiant_sigma_glicko2', 'dire_sigma_glicko2',\n",
    "                   'radiant_ratingSevenDaysAgo_glicko2', #'dire_ratingSevenDaysAgo_glicko2',\n",
    "                  #'dire_H5_AvgElo', 'radiant_H1_AvgElo'\n",
    "                 ], axis=1)"
   ]
  },
  {
   "cell_type": "code",
   "execution_count": 84,
   "metadata": {
    "collapsed": true
   },
   "outputs": [],
   "source": [
    "# main['radiant_elo_vs_enemies'] = scaler.fit(pd.DataFrame(main['radiant_elo_vs_enemies'])).transform(pd.DataFrame(main['radiant_elo_vs_enemies']))       \n",
    "# main['radiant_P_eloShift'] = scaler.fit(pd.DataFrame(main['radiant_P_eloShift'])).transform(pd.DataFrame(main['radiant_P_eloShift']))\n",
    "# main['dire_P_eloShift'] = scaler.fit(pd.DataFrame(main['dire_P_eloShift'])).transform(pd.DataFrame(main['dire_P_eloShift']))\n",
    "# main['P_eloShift'] = scaler.fit(pd.DataFrame(main['P_eloShift'])).transform(pd.DataFrame(main['P_eloShift']))\n",
    "# main['radiant_H_AvgElo'] = scaler.fit(pd.DataFrame(main['radiant_H_AvgElo'])).transform(pd.DataFrame(main['radiant_H_AvgElo']))\n",
    "# main['dire_H_AvgElo'] = scaler.fit(pd.DataFrame(main['dire_H_AvgElo'])).transform(pd.DataFrame(main['dire_H_AvgElo']))\n",
    "# main['H_AvgElo'] = scaler.fit(pd.DataFrame(main['H_AvgElo'])).transform(pd.DataFrame(main['H_AvgElo']))\n",
    "# main['mu_glicko'] = scaler.fit(pd.DataFrame(main['mu_glicko'])).transform(pd.DataFrame(main['mu_glicko']))\n",
    "# main['rating_glicko'] = scaler.fit(pd.DataFrame(main['rating_glicko'])).transform(pd.DataFrame(main['rating_glicko']))\n",
    "# main['ratingSevenDaysAgo_glicko'] = scaler.fit(pd.DataFrame(main['ratingSevenDaysAgo_glicko'])).transform(pd.DataFrame(main['ratingSevenDaysAgo_glicko']))\n",
    "# main['mu_glicko2'] = scaler.fit(pd.DataFrame(main['mu_glicko2'])).transform(pd.DataFrame(main['mu_glicko2']))\n",
    "# main['phi_glicko2'] = scaler.fit(pd.DataFrame(main['phi_glicko2'])).transform(pd.DataFrame(main['phi_glicko2']))"
   ]
  },
  {
   "cell_type": "code",
   "execution_count": 85,
   "metadata": {
    "scrolled": true
   },
   "outputs": [
    {
     "data": {
      "text/plain": [
       "Index(['radiant_win', 'radiant_mu_glicko', 'radiant_rating_glicko',\n",
       "       'radiant_ratingSevenDaysAgo_glicko', 'radiant_mu_glicko2',\n",
       "       'dire_mu_glicko', 'dire_rating_glicko',\n",
       "       'dire_ratingSevenDaysAgo_glicko', 'dire_sigma_glicko',\n",
       "       'dire_mu_glicko2',\n",
       "       ...\n",
       "       'dire_P_eloShift', 'P_eloShift', 'radiant_H_AvgElo', 'dire_H_AvgElo',\n",
       "       'H_AvgElo', 'mu_glicko', 'rating_glicko', 'ratingSevenDaysAgo_glicko',\n",
       "       'mu_glicko2', 'phi_glicko2'],\n",
       "      dtype='object', length=168)"
      ]
     },
     "execution_count": 85,
     "metadata": {},
     "output_type": "execute_result"
    }
   ],
   "source": [
    "main.columns"
   ]
  },
  {
   "cell_type": "code",
   "execution_count": null,
   "metadata": {
    "collapsed": true
   },
   "outputs": [],
   "source": [
    "model = XGB"
   ]
  },
  {
   "cell_type": "markdown",
   "metadata": {},
   "source": [
    "# Проверка правильности данных"
   ]
  },
  {
   "cell_type": "code",
   "execution_count": 26,
   "metadata": {
    "collapsed": true
   },
   "outputs": [],
   "source": [
    "# main.loc[1500, 'radiant_H1elo_vs_enemies':]"
   ]
  },
  {
   "cell_type": "code",
   "execution_count": 15,
   "metadata": {},
   "outputs": [
    {
     "data": {
      "text/plain": [
       "datetime.date(2017, 8, 8)"
      ]
     },
     "execution_count": 15,
     "metadata": {},
     "output_type": "execute_result"
    }
   ],
   "source": [
    "import datetime\n",
    "datetime.date.fromtimestamp(1502233763) - datetime.timedelta(1)"
   ]
  },
  {
   "cell_type": "code",
   "execution_count": null,
   "metadata": {
    "collapsed": true
   },
   "outputs": [],
   "source": [
    "df_meta_heroes[df_meta_heroes['match_id'] == 3274564960]"
   ]
  },
  {
   "cell_type": "markdown",
   "metadata": {
    "collapsed": true
   },
   "source": [
    "# Работа с фичами"
   ]
  },
  {
   "cell_type": "code",
   "execution_count": 82,
   "metadata": {},
   "outputs": [
    {
     "data": {
      "text/plain": [
       "array([[299, 137],\n",
       "       [127, 338]], dtype=int64)"
      ]
     },
     "execution_count": 82,
     "metadata": {},
     "output_type": "execute_result"
    }
   ],
   "source": [
    "best_GB = XGB\n",
    "# предсказания\n",
    "predict_GB = best_GB.predict(X_test)\n",
    "# матрица ошибок\n",
    "from sklearn.metrics import confusion_matrix\n",
    "confusion = confusion_matrix(y_test, predict_GB)\n",
    "confusion"
   ]
  },
  {
   "cell_type": "code",
   "execution_count": 83,
   "metadata": {},
   "outputs": [
    {
     "name": "stdout",
     "output_type": "stream",
     "text": [
      "AUC для градиентного бустинга - 0.768\n"
     ]
    }
   ],
   "source": [
    "gb_auc = metrics.roc_auc_score(y_test, best_GB.predict_proba(X_test)[:,1])\n",
    "print('AUC для градиентного бустинга - {:.3f}'.format(gb_auc))"
   ]
  },
  {
   "cell_type": "code",
   "execution_count": 75,
   "metadata": {},
   "outputs": [
    {
     "data": {
      "text/plain": [
       "0.59335624284077892"
      ]
     },
     "execution_count": 75,
     "metadata": {},
     "output_type": "execute_result"
    }
   ],
   "source": [
    "# f1-мера\n",
    "from sklearn.metrics import f1_score\n",
    "f1_score(y_test, predict_GB)"
   ]
  },
  {
   "cell_type": "code",
   "execution_count": 144,
   "metadata": {},
   "outputs": [
    {
     "name": "stdout",
     "output_type": "stream",
     "text": [
      "             precision    recall  f1-score   support\n",
      "\n",
      "   dire_win       0.68      0.66      0.67       436\n",
      "radiant_win       0.69      0.72      0.70       465\n",
      "\n",
      "avg / total       0.69      0.69      0.69       901\n",
      "\n"
     ]
    }
   ],
   "source": [
    "\n",
    "print(classification_report(y_test, predict_GB, target_names=['dire_win', 'radiant_win']))"
   ]
  },
  {
   "cell_type": "code",
   "execution_count": 65,
   "metadata": {},
   "outputs": [
    {
     "data": {
      "image/png": "[encoded data removed]",
      "text/plain": [
       "<matplotlib.figure.Figure at 0xbecd0f0>"
      ]
     },
     "metadata": {},
     "output_type": "display_data"
    }
   ],
   "source": [
    "# в RandomForestClassifier есть predict_proba, но нет decision_function\n",
    "precision_gb, recall_gb, thresholds_gb = metrics.precision_recall_curve(\n",
    "y_test, best_GB.predict_proba(X_test)[:, 1])\n",
    "\n",
    "plt.plot(precision_gb, recall_gb, label=\"gb\")\n",
    "close_default_gb = np.argmin(np.abs(thresholds_gb - 0.5))\n",
    "plt.plot(precision_gb[close_default_gb], recall_gb[close_default_gb], 'o', c='k',\n",
    "         markersize=10, label=\"порог 0.5 rf\", fillstyle=\"none\", mew=2)\n",
    "plt.xlabel(\"Точность\")\n",
    "plt.ylabel(\"Полнота\")\n",
    "plt.legend(loc=\"best\")\n",
    "plt.show()"
   ]
  },
  {
   "cell_type": "code",
   "execution_count": 69,
   "metadata": {},
   "outputs": [
    {
     "name": "stdout",
     "output_type": "stream",
     "text": [
      "             precision    recall  f1-score   support\n",
      "\n",
      "          0       0.71      0.69      0.70       436\n",
      "          1       0.72      0.73      0.72       465\n",
      "\n",
      "avg / total       0.71      0.71      0.71       901\n",
      "\n"
     ]
    }
   ],
   "source": [
    "y_pred_lower_threshold = best_GB.predict_proba(X_test)[:,1] > .5\n",
    "print (classification_report(y_test, y_pred_lower_threshold))"
   ]
  },
  {
   "cell_type": "code",
   "execution_count": 60,
   "metadata": {},
   "outputs": [
    {
     "data": {
      "image/png": "[encoded data removed]",
      "text/plain": [
       "<matplotlib.figure.Figure at 0xe2b9a58>"
      ]
     },
     "metadata": {},
     "output_type": "display_data"
    }
   ],
   "source": [
    "fpr, tpr, threshold = metrics.roc_curve(y_test, best_GB.predict_proba(X_test)[:,1])\n",
    "plt.plot(fpr, tpr, label='ROC-кривая')\n",
    "plt.xlabel('FPR')\n",
    "plt.ylabel('TPR')\n",
    "# находим пороговое значение ближайшее к нулю\n",
    "close_zero = np.argmin(np.abs(threshold))\n",
    "plt.plot(fpr[close_zero], tpr[close_zero], 'o', markersize=10, label='порог 0', fillstyle='none', c='k', mew=2)\n",
    "plt.legend(loc='best')\n",
    "plt.show()"
   ]
  },
  {
   "cell_type": "code",
   "execution_count": 115,
   "metadata": {},
   "outputs": [
    {
     "name": "stdout",
     "output_type": "stream",
     "text": [
      "AUC для градиентного бустинга - 0.775\n"
     ]
    }
   ],
   "source": []
  },
  {
   "cell_type": "markdown",
   "metadata": {},
   "source": [
    "# Оценка качества признаков"
   ]
  },
  {
   "cell_type": "code",
   "execution_count": 150,
   "metadata": {},
   "outputs": [
    {
     "name": "stdout",
     "output_type": "stream",
     "text": [
      "форма массива X_train: (2701, 46)\n",
      "форма массива X_train_selected: (2701, 23)\n"
     ]
    }
   ],
   "source": [
    "# используем f_classif (по умолчанию)\n",
    "# и SelectPercentile, чтобы выбрать 50% признаков\n",
    "select = SelectPercentile(percentile=50)\n",
    "select.fit(X_train, y_train)\n",
    "X_train_selected = select.transform(X_train)\n",
    "\n",
    "print(\"форма массива X_train: {}\".format(X_train.shape))\n",
    "print(\"форма массива X_train_selected: {}\".format(X_train_selected.shape))"
   ]
  },
  {
   "cell_type": "code",
   "execution_count": 91,
   "metadata": {},
   "outputs": [
    {
     "name": "stdout",
     "output_type": "stream",
     "text": [
      "[ True  True  True  True  True  True  True  True  True  True  True  True\n",
      "  True  True  True  True  True False False False  True False  True False\n",
      "  True  True False False False False False False False False False False\n",
      "  True  True  True  True False  True  True  True False False False False\n",
      " False False False False  True False False False  True  True False  True\n",
      "  True False False False  True False False  True False  True  True  True\n",
      " False False False False]\n"
     ]
    },
    {
     "data": {
      "text/plain": [
       "Text(0.5,0,'Индекс')"
      ]
     },
     "execution_count": 91,
     "metadata": {},
     "output_type": "execute_result"
    }
   ],
   "source": [
    "mask = select.get_support()\n",
    "print (mask)\n",
    "# визуализируем булевы значения: черный - true, булый - false\n",
    "plt.matshow(mask.reshape(1, -1), cmap='gray_r')\n",
    "plt.xlabel('Индекс')"
   ]
  },
  {
   "cell_type": "code",
   "execution_count": 92,
   "metadata": {},
   "outputs": [
    {
     "name": "stdout",
     "output_type": "stream",
     "text": [
      "Правильность со всеми признаками: 0.690\n",
      "Правильность с 50% признаками: 0.681\n"
     ]
    }
   ],
   "source": [
    "X_test_selected = select.transform(X_test)\n",
    "print ('Правильность со всеми признаками: {:.3f}'.format(best_GB.score(X_test, y_test)))\n",
    "best_GB_selected_70 = xgb.XGBClassifier(max_depth=20)\n",
    "best_GB_selected_70.fit(X_train_selected, y_train)\n",
    "print ('Правильность с 50% признаками: {:.3f}'.format(best_GB_selected_70.score(X_test_selected, y_test)))"
   ]
  },
  {
   "cell_type": "code",
   "execution_count": null,
   "metadata": {
    "collapsed": true
   },
   "outputs": [],
   "source": []
  },
  {
   "cell_type": "code",
   "execution_count": null,
   "metadata": {
    "collapsed": true
   },
   "outputs": [],
   "source": []
  },
  {
   "cell_type": "code",
   "execution_count": null,
   "metadata": {
    "collapsed": true
   },
   "outputs": [],
   "source": []
  },
  {
   "cell_type": "code",
   "execution_count": null,
   "metadata": {
    "collapsed": true
   },
   "outputs": [],
   "source": []
  },
  {
   "cell_type": "code",
   "execution_count": null,
   "metadata": {
    "collapsed": true
   },
   "outputs": [],
   "source": []
  },
  {
   "cell_type": "code",
   "execution_count": null,
   "metadata": {
    "collapsed": true
   },
   "outputs": [],
   "source": []
  },
  {
   "cell_type": "code",
   "execution_count": null,
   "metadata": {
    "collapsed": true
   },
   "outputs": [],
   "source": []
  },
  {
   "cell_type": "code",
   "execution_count": null,
   "metadata": {
    "collapsed": true
   },
   "outputs": [],
   "source": []
  },
  {
   "cell_type": "code",
   "execution_count": null,
   "metadata": {
    "collapsed": true
   },
   "outputs": [],
   "source": []
  },
  {
   "cell_type": "code",
   "execution_count": null,
   "metadata": {
    "collapsed": true
   },
   "outputs": [],
   "source": []
  }
 ],
 "metadata": {
  "kernelspec": {
   "display_name": "Python 3",
   "language": "python",
   "name": "python3"
  },
  "language_info": {
   "codemirror_mode": {
    "name": "ipython",
    "version": 3
   },
   "file_extension": ".py",
   "mimetype": "text/x-python",
   "name": "python",
   "nbconvert_exporter": "python",
   "pygments_lexer": "ipython3",
   "version": "3.6.3"
  }
 },
 "nbformat": 4,
 "nbformat_minor": 2
}
