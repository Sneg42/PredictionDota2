{
 "cells": [
  {
   "cell_type": "code",
   "execution_count": 1,
   "metadata": {
    "collapsed": true
   },
   "outputs": [],
   "source": [
    "import pandas as pd\n",
    "import numpy as np\n",
    "import math\n",
    "import helper\n",
    "import time\n",
    "import datetime\n",
    "import matplotlib.pyplot as plt\n",
    "\n",
    "from sklearn.linear_model import LogisticRegression\n",
    "from sklearn.ensemble import RandomForestClassifier, RandomForestRegressor\n",
    "from sklearn.neural_network import MLPClassifier\n",
    "from sklearn.tree import DecisionTreeClassifier, DecisionTreeRegressor\n",
    "from sklearn.ensemble import GradientBoostingClassifier, GradientBoostingRegressor\n",
    "from sklearn.neighbors import KNeighborsClassifier, KNeighborsRegressor\n",
    "from sklearn.svm import SVC, SVR\n",
    "\n",
    "from sklearn import metrics\n",
    "from sklearn.metrics import classification_report\n",
    "from sklearn.model_selection import KFold, cross_val_score, LeaveOneOut, ShuffleSplit, train_test_split, GridSearchCV \n",
    "from sklearn.feature_selection import SelectPercentile, SelectFromModel\n",
    "import pickle    "
   ]
  },
  {
   "cell_type": "markdown",
   "metadata": {},
   "source": [
    "# Подгрузка всех таблиц с данными по матчям"
   ]
  },
  {
   "cell_type": "code",
   "execution_count": 77,
   "metadata": {
    "collapsed": true
   },
   "outputs": [],
   "source": [
    "# дф с матчами и рейтингом каждой команды с патча 7.01 для Премиум\n",
    "df_rating_teams_Premium = pd.read_csv('../tabel/table from Datdota/Rating teams/'+\n",
    "                                      'PREMIUM on 2012-02-28 to 2018-03-01 (PreDay).csv', index_col=0)\n",
    "\n",
    "# ДФ с контрпиками (head-to-head, PRO, >20) с 6,74-7,12 и до 2018.10.01\n",
    "df_contrpick = pd.read_csv('../tabel/table from Datdota/Heah-to-head Contrpicks/'+\n",
    "                'data from 6.74-last. on 2012-02-28 to 2018-03-01 (PreDay, Pro, more 20).csv', index_col=0)\n",
    "\n",
    "# ДФ с метовыми героями (PRO, >10)\n",
    "df_meta_heroes = pd.read_csv('../tabel/table from Datdota/AvgElo Meta and Signatures Heroes/'+\n",
    "                             'Meta on 2012-02-28 to 2018-03-01 (TwoMonthAgo, Pro, more 10).csv', index_col=0)\n",
    "\n",
    "# ДФ с сигнатурками для каждого игрока (ALL, >5)\n",
    "df_signatures_heroes = pd.read_csv('../tabel/table from Datdota/AvgElo Meta and Signatures Heroes/'+\n",
    "                                   'Players Signatures on 2012-02-28 to 2018-03-01 (PreDay, All, more 5).csv', index_col=0)\n",
    "\n",
    "# ---------------------------------------------------------------------------------------------------------------------\n",
    "# df_contrpick_Pro10 = pd.read_csv('../tabel/table from Datdota/Heah-to-head Contrpicks/'+\n",
    "#                 'data from 6.74-last. on 2012-02-28 to 2018-03-01 (PreDay, Pro, more 10).csv', index_col=0)\n",
    "\n",
    "# df_contrpick_2MonthAgo_AllTeam1 = pd.read_csv('../tabel/table from Datdota/Heah-to-head Contrpicks/'+\n",
    "#                 'data from 6.74-last. on 2012-02-28 to 2018-03-01 (TwoMonthAgo, All, more 1).csv', index_col=0)"
   ]
  },
  {
   "cell_type": "code",
   "execution_count": null,
   "metadata": {
    "collapsed": true
   },
   "outputs": [],
   "source": []
  },
  {
   "cell_type": "code",
   "execution_count": 6,
   "metadata": {
    "collapsed": true
   },
   "outputs": [],
   "source": [
    "# Работа с данными Professional\n",
    "# ДФ с контрпиками (head-to-head, PRO, >20) с 6,74-7,12 и до 2018.10.01\n",
    "df_contrpick_Pro = pd.read_csv('../tabel/table from Datdota/Heah-to-head Contrpicks/'+\n",
    "                'Professional data from 6.74-last. on 2012-02-28 to 2018-03-01 (PreDay, All, more 20).csv', index_col=0)\n",
    "# ДФ с метовыми героями (PRO, >10)\n",
    "df_meta_heroes_Pro = pd.read_csv('../tabel/table from Datdota/AvgElo Meta and Signatures Heroes/'+\n",
    "                             'Professional Meta on 2012-02-28 to 2018-03-01 (TwoMonthAgo, All, more 20).csv', index_col=0)\n",
    "\n",
    "# ДФ с сигнатурками для каждого игрока (ALL, >5)\n",
    "df_signatures_heroes_Pro = pd.read_csv('../tabel/table from Datdota/AvgElo Meta and Signatures Heroes/'+\n",
    "                                   'Professional Players Signatures on 2012-02-28 to 2018-03-01 (All, more 5) (previosly day).csv', index_col=0)"
   ]
  },
  {
   "cell_type": "code",
   "execution_count": 44,
   "metadata": {},
   "outputs": [],
   "source": [
    "# посчитать среднее значение для elo игрока\n",
    "a = []\n",
    "for i in range (1,6):\n",
    "    a.append(df_signatures_heroes_Pro['radiant_P{}_eloShift'.format(i)].mean())\n",
    "#     print(df_signatures_heroes_Pro['radiant_P{}_eloShift'.format(i)].value_counts().head())\n",
    "\n",
    "    a.append(df_signatures_heroes_Pro['dire_P{}_eloShift'.format(i)].mean())\n",
    "#     print(df_signatures_heroes_Pro['dire_P{}_eloShift'.format(i)].value_counts().head())\n",
    "mean_Players = np.array(a).mean()"
   ]
  },
  {
   "cell_type": "code",
   "execution_count": 42,
   "metadata": {},
   "outputs": [],
   "source": [
    "# заменить все значения 0.0 в elo игрока на среднее значение\n",
    "for i in range (1,6):\n",
    "    df_signatures_heroes_Pro['radiant_P{}_eloShift'.format(i)] = df_signatures_heroes_Pro['radiant_P{}_eloShift'.format(i)].replace(0, mean_Players)\n",
    "                             \n",
    "    df_signatures_heroes_Pro['dire_P{}_eloShift'.format(i)] = df_signatures_heroes_Pro['dire_P{}_eloShift'.format(i)].replace(0, mean_Players)  "
   ]
  },
  {
   "cell_type": "code",
   "execution_count": null,
   "metadata": {},
   "outputs": [],
   "source": []
  },
  {
   "cell_type": "code",
   "execution_count": 79,
   "metadata": {},
   "outputs": [
    {
     "name": "stdout",
     "output_type": "stream",
     "text": [
      "7320\n"
     ]
    },
    {
     "data": {
      "text/plain": [
       "Index(['radiant_win', 'radiant_H1elo_vs_enemies', 'radiant_H2elo_vs_enemies',\n",
       "       'radiant_H3elo_vs_enemies', 'radiant_H4elo_vs_enemies',\n",
       "       'radiant_H5elo_vs_enemies', 'dire_H1elo_vs_enemies',\n",
       "       'dire_H2elo_vs_enemies', 'dire_H3elo_vs_enemies',\n",
       "       'dire_H4elo_vs_enemies', 'dire_H5elo_vs_enemies', 'radiant_H1_AvgElo',\n",
       "       'radiant_H2_AvgElo', 'radiant_H3_AvgElo', 'radiant_H4_AvgElo',\n",
       "       'radiant_H5_AvgElo', 'dire_H1_AvgElo', 'dire_H2_AvgElo',\n",
       "       'dire_H3_AvgElo', 'dire_H4_AvgElo', 'dire_H5_AvgElo'],\n",
       "      dtype='object')"
      ]
     },
     "execution_count": 79,
     "metadata": {},
     "output_type": "execute_result"
    }
   ],
   "source": [
    "df_signatures_heroes_Pro = df_signatures_heroes_Pro[['radiant_P1_eloShift', 'radiant_P2_eloShift', 'radiant_P3_eloShift', \n",
    "                                            'radiant_P4_eloShift', 'radiant_P5_eloShift', 'dire_P1_eloShift', \n",
    "                                            'dire_P2_eloShift', 'dire_P3_eloShift', 'dire_P4_eloShift', \n",
    "                                            'dire_P5_eloShift', 'match_id']].fillna(mean_Players)\n",
    "\n",
    "# Соединение всех данных в один ДФ\n",
    "main2 = pd.read_csv('../tabel/'+\n",
    "                'Proffesional on patch 7.01 to 2018-03-01 (match_id).csv')\n",
    "main2 = pd.merge(main2, df_contrpick_Pro, left_on='match_id', right_on='match_id',how='left')\n",
    "main2 = pd.merge(main2, df_meta_heroes_Pro, left_on='match_id', right_on='match_id',how='left')\n",
    "main2 = pd.merge(main2, df_signatures_heroes_Pro, left_on='match_id', right_on='match_id',how='left')\n",
    "\n",
    "# # удаление не нужных колонок для обучения\n",
    "main2 = main2.drop(['match_id', 'start_time', 'radiant_team_id', 'radiant_score', 'dire_team_id',\n",
    "           'dire_score'], axis=1)\n",
    "\n",
    "print (len(main2))\n",
    "main2.columns"
   ]
  },
  {
   "cell_type": "code",
   "execution_count": null,
   "metadata": {},
   "outputs": [],
   "source": [
    "\n"
   ]
  },
  {
   "cell_type": "code",
   "execution_count": null,
   "metadata": {
    "collapsed": true
   },
   "outputs": [],
   "source": []
  },
  {
   "cell_type": "markdown",
   "metadata": {},
   "source": [
    "# Создание основного ДФ для обучения и предсказания"
   ]
  },
  {
   "cell_type": "code",
   "execution_count": 80,
   "metadata": {},
   "outputs": [
    {
     "name": "stdout",
     "output_type": "stream",
     "text": [
      "3602\n"
     ]
    },
    {
     "data": {
      "text/plain": [
       "Index(['radiant_win', 'radiant_H1elo_vs_enemies', 'radiant_H2elo_vs_enemies',\n",
       "       'radiant_H3elo_vs_enemies', 'radiant_H4elo_vs_enemies',\n",
       "       'radiant_H5elo_vs_enemies', 'dire_H1elo_vs_enemies',\n",
       "       'dire_H2elo_vs_enemies', 'dire_H3elo_vs_enemies',\n",
       "       'dire_H4elo_vs_enemies', 'dire_H5elo_vs_enemies', 'radiant_H1_AvgElo',\n",
       "       'radiant_H2_AvgElo', 'radiant_H3_AvgElo', 'radiant_H4_AvgElo',\n",
       "       'radiant_H5_AvgElo', 'dire_H1_AvgElo', 'dire_H2_AvgElo',\n",
       "       'dire_H3_AvgElo', 'dire_H4_AvgElo', 'dire_H5_AvgElo'],\n",
       "      dtype='object')"
      ]
     },
     "execution_count": 80,
     "metadata": {},
     "output_type": "execute_result"
    }
   ],
   "source": [
    "df_signatures_heroes = df_signatures_heroes[['radiant_P1_eloShift', 'radiant_P2_eloShift', 'radiant_P3_eloShift', \n",
    "                                            'radiant_P4_eloShift', 'radiant_P5_eloShift', 'dire_P1_eloShift', \n",
    "                                            'dire_P2_eloShift', 'dire_P3_eloShift', 'dire_P4_eloShift', \n",
    "                                            'dire_P5_eloShift', 'match_id']]\n",
    "\n",
    "# Соединение всех данных в один ДФ\n",
    "main = df_rating_teams_Premium\n",
    "main = pd.merge(main, df_contrpick, left_on='match_id', right_on='match_id',how='left')\n",
    "main = pd.merge(main, df_meta_heroes, left_on='match_id', right_on='match_id',how='left')\n",
    "main = pd.merge(main, df_signatures_heroes, left_on='match_id', right_on='match_id',how='left')\n",
    "\n",
    "# ---------------------------------------------------------------------------------------------------------------------\n",
    "# main = pd.merge(main, df_contrpick_Pro10, left_on='match_id', right_on='match_id',how='left')\n",
    "# main = pd.merge(main, df_contrpick_2MonthAgo_AllTeam1, left_on='match_id', right_on='match_id',how='left')\n",
    "# ---------------------------------------------------------------------------------------------------------------------\n",
    "\n",
    "# # удаление не нужных колонок для обучения\n",
    "main = main.drop(['match_id', 'start_time', 'radiant_team_id', 'radiant_score', 'dire_team_id',\n",
    "           'dire_score', 'radiant_name', 'dire_name','league_name'], axis=1)\n",
    "main = main.drop(main.loc[:, 'radiant_H1' : 'dire_P5'], axis=1)\n",
    "\n",
    "\n",
    "# # Оставляю только важные фичи, убираю из рейтинга команд ело32 и ело64\n",
    "# main = main.drop(main.loc[:, 'radiant_current_elo32':'radiant_thirtyDayAvg_elo64'], axis=1)\n",
    "# main = main.drop(main.loc[:, 'dire_current_elo32':'dire_thirtyDayAvg_elo64'], axis=1)\n",
    "# main = main.drop(main.loc[:, 'radiant_ratingSevenDaysAgo_glicko':'radiant_ratingSevenDaysAgo_glicko2'], axis=1)\n",
    "# main = main.drop(main.loc[:, 'dire_ratingSevenDaysAgo_glicko':'dire_ratingSevenDaysAgo_glicko2'], axis=1)\n",
    "# Выбросить весь рейтинг команд\n",
    "main = main.drop(main.loc[:, 'radiant_current_elo32':'dire_ratingSevenDaysAgo_glicko2'], axis=1)\n",
    "\n",
    "print (len(main))\n",
    "main.columns"
   ]
  },
  {
   "cell_type": "code",
   "execution_count": 81,
   "metadata": {},
   "outputs": [],
   "source": [
    "main = pd.concat([main2, main])\n"
   ]
  },
  {
   "cell_type": "code",
   "execution_count": 82,
   "metadata": {},
   "outputs": [
    {
     "data": {
      "text/plain": [
       "10538"
      ]
     },
     "execution_count": 82,
     "metadata": {},
     "output_type": "execute_result"
    }
   ],
   "source": [
    "# Заполнить пустые значения на 0\n",
    "# main = main.fillna(0)\n",
    "\n",
    "# убрать пустые ячейки\n",
    "main = main.dropna()\n",
    "len(main)"
   ]
  },
  {
   "cell_type": "code",
   "execution_count": 69,
   "metadata": {
    "collapsed": true
   },
   "outputs": [],
   "source": [
    "# Создаем новые колонуи по суммам, разности показателей\n",
    "# main['radiant_elo_vs_enemies'] = (main['radiant_H1elo_vs_enemies'] + main['radiant_H2elo_vs_enemies'] + \n",
    "#                     main['radiant_H3elo_vs_enemies'] + main['radiant_H4elo_vs_enemies'] + main['radiant_H5elo_vs_enemies'])\n",
    "\n",
    "# main['dire_elo_vs_enemies'] = (main['dire_H1elo_vs_enemies'] + main['dire_H2elo_vs_enemies'] + \n",
    "#                                main['dire_H3elo_vs_enemies'] + main['dire_H4elo_vs_enemies'] + main['dire_H5elo_vs_enemies'])\n",
    "\n",
    "# main['elo_vs_enemies'] = main['radiant_elo_vs_enemies'] - main['dire_elo_vs_enemies']\n",
    "\n",
    "main['radiant_P_eloShift'] = (main['radiant_P1_eloShift'] + main['radiant_P2_eloShift'] + \n",
    "                              main['radiant_P3_eloShift'] + main['radiant_P4_eloShift'] + main['radiant_P5_eloShift'])\n",
    "\n",
    "main['dire_P_eloShift'] = (main['dire_P1_eloShift'] + main['dire_P2_eloShift'] + \n",
    "                           main['dire_P3_eloShift'] + main['dire_P4_eloShift'] + main['dire_P5_eloShift'])\n",
    "\n",
    "main['P_eloShift'] = main['radiant_P_eloShift'] - main['dire_P_eloShift']\n",
    "\n",
    "# main = main.drop(['radiant_P_eloShift', 'dire_P_eloShift'], axis=1)"
   ]
  },
  {
   "cell_type": "markdown",
   "metadata": {},
   "source": [
    "# Создание обучающих и тестовых данных"
   ]
  },
  {
   "cell_type": "code",
   "execution_count": 83,
   "metadata": {},
   "outputs": [
    {
     "data": {
      "text/plain": [
       "Index(['radiant_H1elo_vs_enemies', 'radiant_H2elo_vs_enemies',\n",
       "       'radiant_H3elo_vs_enemies', 'radiant_H4elo_vs_enemies',\n",
       "       'radiant_H5elo_vs_enemies', 'dire_H1elo_vs_enemies',\n",
       "       'dire_H2elo_vs_enemies', 'dire_H3elo_vs_enemies',\n",
       "       'dire_H4elo_vs_enemies', 'dire_H5elo_vs_enemies', 'radiant_H1_AvgElo',\n",
       "       'radiant_H2_AvgElo', 'radiant_H3_AvgElo', 'radiant_H4_AvgElo',\n",
       "       'radiant_H5_AvgElo', 'dire_H1_AvgElo', 'dire_H2_AvgElo',\n",
       "       'dire_H3_AvgElo', 'dire_H4_AvgElo', 'dire_H5_AvgElo'],\n",
       "      dtype='object')"
      ]
     },
     "execution_count": 83,
     "metadata": {},
     "output_type": "execute_result"
    }
   ],
   "source": [
    "# сделать обучающие данные и ответы\n",
    "X = main.drop(['radiant_win'], axis=1)\n",
    "y = main['radiant_win']\n",
    "\n",
    "# СДЕЛАТЬ 1 или 0 вместо true false\n",
    "y = y.astype(int)\n",
    "\n",
    "# деление на тестовые и обучающую выборку\n",
    "X_train, X_test, y_train, y_test = train_test_split(X,y, random_state=0)\n",
    "X_train.columns"
   ]
  },
  {
   "cell_type": "code",
   "execution_count": null,
   "metadata": {
    "collapsed": true
   },
   "outputs": [],
   "source": []
  },
  {
   "cell_type": "markdown",
   "metadata": {},
   "source": [
    "# Решетчатый поиск на Gradient Bosting"
   ]
  },
  {
   "cell_type": "code",
   "execution_count": 74,
   "metadata": {},
   "outputs": [
    {
     "name": "stdout",
     "output_type": "stream",
     "text": [
      "Наилучшие значения параметров: {'max_depth': 10, 'max_features': 30, 'n_estimators': 100}\n",
      "----------------------------------------------------------------------\n",
      "             precision    recall  f1-score   support\n",
      "\n",
      "   dire_win       0.58      0.56      0.57      1325\n",
      "radiant_win       0.56      0.58      0.57      1278\n",
      "\n",
      "avg / total       0.57      0.57      0.57      2603\n",
      "\n",
      "Wall time: 34.8 s\n"
     ]
    }
   ],
   "source": [
    "%%time\n",
    "# Праметры GB\n",
    "# param_grid = {'n_estimators': [25, 50, 100, 150], 'max_depth': [10, 25, 50, 100],\n",
    "#               'max_features': [50, 100, 200, 300]}\n",
    "param_grid = {'n_estimators': [100], 'max_depth': [10],\n",
    "              'max_features': [30]}\n",
    "grid_search_GB = GridSearchCV(GradientBoostingClassifier(), param_grid, cv=5, n_jobs=-1)\n",
    "\n",
    "grid_search_GB.fit(X_train,y_train)\n",
    "\n",
    "\n",
    "print(\"Наилучшие значения параметров: {}\".format(grid_search_GB.best_params_))\n",
    "print('----------------------------------------------------------------------')\n",
    "print(classification_report(y_test, grid_search_GB.predict(X_test), target_names=['dire_win', 'radiant_win']))"
   ]
  },
  {
   "cell_type": "code",
   "execution_count": null,
   "metadata": {
    "collapsed": true
   },
   "outputs": [],
   "source": []
  },
  {
   "cell_type": "code",
   "execution_count": 263,
   "metadata": {
    "collapsed": true
   },
   "outputs": [],
   "source": [
    "# # save the model to disk\n",
    "# filename = 'grid_search_GB_model_Patch7.00+_2018.05.06.sav'\n",
    "# pickle.dump(grid_search_GB, open(filename, 'wb'))"
   ]
  },
  {
   "cell_type": "code",
   "execution_count": 84,
   "metadata": {},
   "outputs": [
    {
     "name": "stdout",
     "output_type": "stream",
     "text": [
      "             precision    recall  f1-score   support\n",
      "\n",
      "   dire_win       0.54      0.54      0.54      1335\n",
      "radiant_win       0.52      0.53      0.53      1300\n",
      "\n",
      "avg / total       0.53      0.53      0.53      2635\n",
      "\n",
      "Wall time: 313 ms\n"
     ]
    }
   ],
   "source": [
    "%%time\n",
    "# ДАННЫЕ ПО HEAD-TO-HEAD ДЛЯ ВСЕХ ПАТЧЕЙ ДО ПРЕДЫДУЩЕГО ДНЯ МАТЧЯ\n",
    "import xgboost as xgb\n",
    "# fit model no training data\n",
    "XGB = xgb.XGBClassifier()\n",
    "XGB.fit(X_train, y_train)\n",
    "print(classification_report(y_test, XGB.predict(X_test), target_names=['dire_win', 'radiant_win']))"
   ]
  },
  {
   "cell_type": "code",
   "execution_count": 14,
   "metadata": {
    "collapsed": true
   },
   "outputs": [],
   "source": [
    "# # save the model to disk\n",
    "# filename = 'Xgboost_model_allData_dayMatch.sav'\n",
    "# pickle.dump(model_allData_dayMatch, open(filename, 'wb'))"
   ]
  },
  {
   "cell_type": "code",
   "execution_count": 15,
   "metadata": {
    "collapsed": true
   },
   "outputs": [],
   "source": [
    "# test_gb = pickle.load(open(filename, 'rb'))\n",
    "# test_gb.score(X_test, y_test)"
   ]
  },
  {
   "cell_type": "code",
   "execution_count": 115,
   "metadata": {
    "collapsed": true
   },
   "outputs": [],
   "source": [
    "model = XGB"
   ]
  },
  {
   "cell_type": "markdown",
   "metadata": {},
   "source": [
    "# Проверка правильности данных"
   ]
  },
  {
   "cell_type": "code",
   "execution_count": 26,
   "metadata": {
    "collapsed": true
   },
   "outputs": [],
   "source": [
    "# main.loc[1500, 'radiant_H1elo_vs_enemies':]"
   ]
  },
  {
   "cell_type": "code",
   "execution_count": 15,
   "metadata": {},
   "outputs": [
    {
     "data": {
      "text/plain": [
       "datetime.date(2017, 8, 8)"
      ]
     },
     "execution_count": 15,
     "metadata": {},
     "output_type": "execute_result"
    }
   ],
   "source": [
    "import datetime\n",
    "datetime.date.fromtimestamp(1502233763) - datetime.timedelta(1)"
   ]
  },
  {
   "cell_type": "code",
   "execution_count": null,
   "metadata": {
    "collapsed": true
   },
   "outputs": [],
   "source": [
    "df_meta_heroes[df_meta_heroes['match_id'] == 3274564960]"
   ]
  },
  {
   "cell_type": "markdown",
   "metadata": {
    "collapsed": true
   },
   "source": [
    "# Работа с фичами"
   ]
  },
  {
   "cell_type": "code",
   "execution_count": 72,
   "metadata": {},
   "outputs": [
    {
     "data": {
      "text/plain": [
       "array([[761, 564],\n",
       "       [501, 777]], dtype=int64)"
      ]
     },
     "execution_count": 72,
     "metadata": {},
     "output_type": "execute_result"
    }
   ],
   "source": [
    "best_GB = XGB\n",
    "# предсказания\n",
    "predict_GB = best_GB.predict(X_test)\n",
    "# матрица ошибок\n",
    "from sklearn.metrics import confusion_matrix\n",
    "confusion = confusion_matrix(y_test, predict_GB)\n",
    "confusion"
   ]
  },
  {
   "cell_type": "code",
   "execution_count": 75,
   "metadata": {},
   "outputs": [
    {
     "data": {
      "text/plain": [
       "0.59335624284077892"
      ]
     },
     "execution_count": 75,
     "metadata": {},
     "output_type": "execute_result"
    }
   ],
   "source": [
    "# f1-мера\n",
    "from sklearn.metrics import f1_score\n",
    "f1_score(y_test, predict_GB)"
   ]
  },
  {
   "cell_type": "code",
   "execution_count": 144,
   "metadata": {},
   "outputs": [
    {
     "name": "stdout",
     "output_type": "stream",
     "text": [
      "             precision    recall  f1-score   support\n",
      "\n",
      "   dire_win       0.68      0.66      0.67       436\n",
      "radiant_win       0.69      0.72      0.70       465\n",
      "\n",
      "avg / total       0.69      0.69      0.69       901\n",
      "\n"
     ]
    }
   ],
   "source": [
    "\n",
    "print(classification_report(y_test, predict_GB, target_names=['dire_win', 'radiant_win']))"
   ]
  },
  {
   "cell_type": "code",
   "execution_count": 76,
   "metadata": {},
   "outputs": [
    {
     "data": {
      "image/png": "[encoded data removed]",
      "text/plain": [
       "<matplotlib.figure.Figure at 0x49c7320>"
      ]
     },
     "metadata": {},
     "output_type": "display_data"
    }
   ],
   "source": [
    "# в RandomForestClassifier есть predict_proba, но нет decision_function\n",
    "precision_gb, recall_gb, thresholds_gb = metrics.precision_recall_curve(\n",
    "y_test, best_GB.predict_proba(X_test)[:, 1])\n",
    "\n",
    "plt.plot(precision_gb, recall_gb, label=\"gb\")\n",
    "close_default_gb = np.argmin(np.abs(thresholds_gb - 0.5))\n",
    "plt.plot(precision_gb[close_default_gb], recall_gb[close_default_gb], 'o', c='k',\n",
    "         markersize=10, label=\"порог 0.5 rf\", fillstyle=\"none\", mew=2)\n",
    "plt.xlabel(\"Точность\")\n",
    "plt.ylabel(\"Полнота\")\n",
    "plt.legend(loc=\"best\")\n",
    "plt.show()"
   ]
  },
  {
   "cell_type": "code",
   "execution_count": 40,
   "metadata": {},
   "outputs": [
    {
     "name": "stdout",
     "output_type": "stream",
     "text": [
      "             precision    recall  f1-score   support\n",
      "\n",
      "          0       0.67      0.76      0.71       416\n",
      "          1       0.75      0.66      0.70       447\n",
      "\n",
      "avg / total       0.71      0.71      0.71       863\n",
      "\n"
     ]
    }
   ],
   "source": [
    "y_pred_lower_threshold = best_GB.predict_proba(X_test)[:,1] > .55\n",
    "print (classification_report(y_test, y_pred_lower_threshold))"
   ]
  },
  {
   "cell_type": "code",
   "execution_count": 60,
   "metadata": {},
   "outputs": [
    {
     "data": {
      "image/png": "[encoded data removed]",
      "text/plain": [
       "<matplotlib.figure.Figure at 0xe2b9a58>"
      ]
     },
     "metadata": {},
     "output_type": "display_data"
    }
   ],
   "source": [
    "fpr, tpr, threshold = metrics.roc_curve(y_test, best_GB.predict_proba(X_test)[:,1])\n",
    "plt.plot(fpr, tpr, label='ROC-кривая')\n",
    "plt.xlabel('FPR')\n",
    "plt.ylabel('TPR')\n",
    "# находим пороговое значение ближайшее к нулю\n",
    "close_zero = np.argmin(np.abs(threshold))\n",
    "plt.plot(fpr[close_zero], tpr[close_zero], 'o', markersize=10, label='порог 0', fillstyle='none', c='k', mew=2)\n",
    "plt.legend(loc='best')\n",
    "plt.show()"
   ]
  },
  {
   "cell_type": "code",
   "execution_count": 111,
   "metadata": {},
   "outputs": [
    {
     "name": "stdout",
     "output_type": "stream",
     "text": [
      "AUC для градиентного бустинга - 0.687\n"
     ]
    }
   ],
   "source": [
    "gb_auc = metrics.roc_auc_score(y_test, best_GB.predict_proba(X_test)[:,1])\n",
    "print('AUC для градиентного бустинга - {:.3f}'.format(gb_auc))"
   ]
  },
  {
   "cell_type": "markdown",
   "metadata": {},
   "source": [
    "# Оценка качества признаков"
   ]
  },
  {
   "cell_type": "code",
   "execution_count": 150,
   "metadata": {},
   "outputs": [
    {
     "name": "stdout",
     "output_type": "stream",
     "text": [
      "форма массива X_train: (2701, 46)\n",
      "форма массива X_train_selected: (2701, 23)\n"
     ]
    }
   ],
   "source": [
    "# используем f_classif (по умолчанию)\n",
    "# и SelectPercentile, чтобы выбрать 50% признаков\n",
    "select = SelectPercentile(percentile=50)\n",
    "select.fit(X_train, y_train)\n",
    "X_train_selected = select.transform(X_train)\n",
    "\n",
    "print(\"форма массива X_train: {}\".format(X_train.shape))\n",
    "print(\"форма массива X_train_selected: {}\".format(X_train_selected.shape))"
   ]
  },
  {
   "cell_type": "code",
   "execution_count": 91,
   "metadata": {},
   "outputs": [
    {
     "name": "stdout",
     "output_type": "stream",
     "text": [
      "[ True  True  True  True  True  True  True  True  True  True  True  True\n",
      "  True  True  True  True  True False False False  True False  True False\n",
      "  True  True False False False False False False False False False False\n",
      "  True  True  True  True False  True  True  True False False False False\n",
      " False False False False  True False False False  True  True False  True\n",
      "  True False False False  True False False  True False  True  True  True\n",
      " False False False False]\n"
     ]
    },
    {
     "data": {
      "text/plain": [
       "Text(0.5,0,'Индекс')"
      ]
     },
     "execution_count": 91,
     "metadata": {},
     "output_type": "execute_result"
    }
   ],
   "source": [
    "mask = select.get_support()\n",
    "print (mask)\n",
    "# визуализируем булевы значения: черный - true, булый - false\n",
    "plt.matshow(mask.reshape(1, -1), cmap='gray_r')\n",
    "plt.xlabel('Индекс')"
   ]
  },
  {
   "cell_type": "code",
   "execution_count": 92,
   "metadata": {},
   "outputs": [
    {
     "name": "stdout",
     "output_type": "stream",
     "text": [
      "Правильность со всеми признаками: 0.690\n",
      "Правильность с 50% признаками: 0.681\n"
     ]
    }
   ],
   "source": [
    "X_test_selected = select.transform(X_test)\n",
    "print ('Правильность со всеми признаками: {:.3f}'.format(best_GB.score(X_test, y_test)))\n",
    "best_GB_selected_70 = xgb.XGBClassifier(max_depth=20)\n",
    "best_GB_selected_70.fit(X_train_selected, y_train)\n",
    "print ('Правильность с 50% признаками: {:.3f}'.format(best_GB_selected_70.score(X_test_selected, y_test)))"
   ]
  },
  {
   "cell_type": "code",
   "execution_count": 73,
   "metadata": {
    "scrolled": false
   },
   "outputs": [
    {
     "data": {
      "image/png": "[encoded data removed]",
      "text/plain": [
       "<matplotlib.figure.Figure at 0xc123b00>"
      ]
     },
     "metadata": {},
     "output_type": "display_data"
    }
   ],
   "source": [
    "# важность признаков в бустинге\n",
    "\n",
    "n_features = X_train.shape[1]\n",
    "\n",
    "plt.figure(figsize=(20,40))\n",
    "plt.barh(range(n_features), best_GB.feature_importances_, align='center')\n",
    "plt.yticks(np.arange(n_features), X_train.columns, fontsize=15)\n",
    "plt.xlabel('Важность признака', fontsize=18)\n",
    "plt.ylabel('Признаки', fontsize=18)\n",
    "plt.show()"
   ]
  },
  {
   "cell_type": "code",
   "execution_count": 30,
   "metadata": {
    "collapsed": true
   },
   "outputs": [],
   "source": [
    "# n_features = X_train_selected.shape[1]\n",
    "# plt.figure(figsize=(20,100))\n",
    "# plt.barh(range(n_features), best_GB_selected_70.feature_importances_, align='center')\n",
    "# plt.yticks(np.arange(n_features))\n",
    "# plt.xlabel('Важность признака')\n",
    "# plt.ylabel('Признаки')\n",
    "# plt.show()\n"
   ]
  },
  {
   "cell_type": "markdown",
   "metadata": {
    "collapsed": true
   },
   "source": [
    "# Проверка на новых данных"
   ]
  },
  {
   "cell_type": "code",
   "execution_count": 113,
   "metadata": {
    "collapsed": true,
    "scrolled": true
   },
   "outputs": [],
   "source": [
    "# дф с матчами и рейтингом каждой команды с патча 7.01 для Премиум\n",
    "df_rating_teams_Premium_contr = pd.read_csv('../tabel/table from Datdota/Rating teams/'+\n",
    "                                      'PREMIUM on 2018-03-01 to 2018-04-08 (PreDay).csv', index_col=0)\n",
    "\n",
    "# ДФ с контрпиками (head-to-head, PRO, >20) с 6,74-7,12 и до 2018.10.01\n",
    "df_contrpick_contr = pd.read_csv(('../tabel/table from Datdota/Heah-to-head Contrpicks/'+\n",
    "                'data from 6.74-last. on 2018-03-01 to 2018-04-08 (PreDay, All, more 20).csv'), index_col=0)\n",
    "\n",
    "# ДФ с метовыми героями (PRO, >10)\n",
    "df_meta_heroes_contr = pd.read_csv('../tabel/table from Datdota/AvgElo Meta and Signatures Heroes/'+\n",
    "                             'Meta on 2018-03-01 to 2018-04-08 (TwoMonthAgo, All, more 20).csv', index_col=0)\n",
    "\n",
    "# ДФ с сигнатурками для каждого игрока (ALL, >5)\n",
    "df_signatures_heroes_contr = pd.read_csv('../tabel/table from Datdota/AvgElo Meta and Signatures Heroes/'+\n",
    "                    'Players Signatures on 2018-03-01 to 2018-04-08 (PreDay, All, more 5).csv', index_col=0)\n"
   ]
  },
  {
   "cell_type": "code",
   "execution_count": 114,
   "metadata": {},
   "outputs": [
    {
     "data": {
      "text/plain": [
       "451"
      ]
     },
     "execution_count": 114,
     "metadata": {},
     "output_type": "execute_result"
    }
   ],
   "source": [
    "df_signatures_heroes_contr = df_signatures_heroes_contr[['radiant_P1_eloShift', 'radiant_P2_eloShift', 'radiant_P3_eloShift', \n",
    "                                            'radiant_P4_eloShift', 'radiant_P5_eloShift', 'dire_P1_eloShift', \n",
    "                                            'dire_P2_eloShift', 'dire_P3_eloShift', 'dire_P4_eloShift', \n",
    "                                            'dire_P5_eloShift', 'match_id']]\n",
    "# Соединение всех данных в один ДФ\n",
    "contr = df_rating_teams_Premium_contr\n",
    "contr = pd.merge(contr, df_contrpick_contr, left_on='match_id', right_on='match_id',how='left')\n",
    "contr = pd.merge(contr, df_meta_heroes_contr, left_on='match_id', right_on='match_id',how='left')\n",
    "contr = pd.merge(contr, df_signatures_heroes_contr, left_on='match_id', right_on='match_id',how='left')\n",
    "\n",
    "# # удаление не нужных колонок для обучения\n",
    "contr = contr.drop(['match_id', 'start_time', 'radiant_team_id', 'radiant_score', 'dire_team_id',\n",
    "           'dire_score', 'radiant_name', 'dire_name','league_name'], axis=1)\n",
    "contr = contr.drop(contr.loc[:, 'radiant_H1' : 'dire_P5'], axis=1)\n",
    "\n",
    "\n",
    "# Оставляю только важные фичи, убираю из рейтинга команд ело32 и ело64\n",
    "# contr = contr.drop(contr.loc[:, 'radiant_current_elo32':'radiant_thirtyDayAvg_elo64'], axis=1)\n",
    "# contr = contr.drop(contr.loc[:, 'dire_current_elo32':'dire_thirtyDayAvg_elo64'], axis=1)\n",
    "# contr = contr.drop(contr.loc[:, 'radiant_ratingSevenDaysAgo_glicko':'radiant_ratingSevenDaysAgo_glicko2'], axis=1)\n",
    "# contr = contr.drop(contr.loc[:, 'dire_ratingSevenDaysAgo_glicko':'dire_ratingSevenDaysAgo_glicko2'], axis=1)\n",
    "# Выбросить весь рейтинг команд\n",
    "contr = contr.drop(contr.loc[:, 'radiant_current_elo32':'dire_ratingSevenDaysAgo_glicko2'], axis=1)\n",
    "len(contr)"
   ]
  },
  {
   "cell_type": "code",
   "execution_count": 115,
   "metadata": {},
   "outputs": [
    {
     "data": {
      "text/plain": [
       "451"
      ]
     },
     "execution_count": 115,
     "metadata": {},
     "output_type": "execute_result"
    }
   ],
   "source": [
    "# Заполнить пустые значения на 0\n",
    "contr = contr.fillna(0)\n",
    "\n",
    "# # убрать пустые ячейки\n",
    "# contr = contr.dropna()\n",
    "len(contr)"
   ]
  },
  {
   "cell_type": "code",
   "execution_count": 116,
   "metadata": {},
   "outputs": [
    {
     "data": {
      "text/plain": [
       "Index(['radiant_H1elo_vs_enemies', 'radiant_H2elo_vs_enemies',\n",
       "       'radiant_H3elo_vs_enemies', 'radiant_H4elo_vs_enemies',\n",
       "       'radiant_H5elo_vs_enemies', 'dire_H1elo_vs_enemies',\n",
       "       'dire_H2elo_vs_enemies', 'dire_H3elo_vs_enemies',\n",
       "       'dire_H4elo_vs_enemies', 'dire_H5elo_vs_enemies', 'radiant_H1_AvgElo',\n",
       "       'radiant_H2_AvgElo', 'radiant_H3_AvgElo', 'radiant_H4_AvgElo',\n",
       "       'radiant_H5_AvgElo', 'dire_H1_AvgElo', 'dire_H2_AvgElo',\n",
       "       'dire_H3_AvgElo', 'dire_H4_AvgElo', 'dire_H5_AvgElo',\n",
       "       'radiant_P1_eloShift', 'radiant_P2_eloShift', 'radiant_P3_eloShift',\n",
       "       'radiant_P4_eloShift', 'radiant_P5_eloShift', 'dire_P1_eloShift',\n",
       "       'dire_P2_eloShift', 'dire_P3_eloShift', 'dire_P4_eloShift',\n",
       "       'dire_P5_eloShift'],\n",
       "      dtype='object')"
      ]
     },
     "execution_count": 116,
     "metadata": {},
     "output_type": "execute_result"
    }
   ],
   "source": [
    "# Создание контрольной выборки\n",
    "# Cделать обучающие данные и ответы\n",
    "X_contr = contr.drop(['radiant_win'], axis=1)\n",
    "y_contr = contr['radiant_win']\n",
    "\n",
    "# СДЕЛАТЬ 1 или 0 вместо true false\n",
    "y_contr = y_contr.astype(int)\n",
    "X_contr.columns"
   ]
  },
  {
   "cell_type": "code",
   "execution_count": 100,
   "metadata": {
    "collapsed": true
   },
   "outputs": [],
   "source": [
    "# gb_auc_contr = metrics.roc_auc_score(y_contr, best_GB.predict_proba(X_contr)[:,1])\n",
    "# print('AUC для градиентного бустинга - {:.3f}'.format(gb_auc_contr))"
   ]
  },
  {
   "cell_type": "code",
   "execution_count": 101,
   "metadata": {
    "collapsed": true
   },
   "outputs": [],
   "source": [
    "# y_contr_lower_threshold = best_GB.predict_proba(X_contr)[:,1] > .5\n",
    "# print (classification_report(y_contr, y_contr_lower_threshold))"
   ]
  },
  {
   "cell_type": "code",
   "execution_count": 117,
   "metadata": {},
   "outputs": [
    {
     "name": "stdout",
     "output_type": "stream",
     "text": [
      "             precision    recall  f1-score   support\n",
      "\n",
      "   dire_win       0.50      0.56      0.53       188\n",
      "radiant_win       0.66      0.59      0.62       263\n",
      "\n",
      "avg / total       0.59      0.58      0.58       451\n",
      "\n"
     ]
    }
   ],
   "source": [
    "\n",
    "print(classification_report(y_contr, XGB.predict(X_contr), target_names=['dire_win', 'radiant_win']))"
   ]
  },
  {
   "cell_type": "code",
   "execution_count": 104,
   "metadata": {
    "collapsed": true
   },
   "outputs": [],
   "source": [
    "filename = 'grid_search_GB_model_allData_2018.05.06.sav'\n",
    "grid_search_GB = pickle.load(open(filename, 'rb'))\n",
    "print(classification_report(y_contr, grid_search_GB.predict(X_contr), target_names=['dire_win', 'radiant_win']))"
   ]
  },
  {
   "cell_type": "code",
   "execution_count": null,
   "metadata": {
    "collapsed": true
   },
   "outputs": [],
   "source": [
    "\"\"\"\n",
    "Со всеми данными, \n",
    "обученными по (PreDay, All, more20), fillna\n",
    "                precision    recall  f1-score   support\n",
    "\n",
    "   dire_win       0.71      0.67      0.69       436\n",
    "radiant_win       0.71      0.74      0.73       465\n",
    "\n",
    "avg / total       0.71      0.71      0.71       901\n",
    "\n",
    "на контрольной выборке резултат получился:\n",
    "                precision    recall  f1-score   support\n",
    "\n",
    "   dire_win       0.54      0.56      0.55       188\n",
    "radiant_win       0.68      0.66      0.67       263\n",
    "\n",
    "avg / total       0.62      0.62      0.62       451\n",
    "----------------------------------------------------------------------------------------\n",
    "Без Elo32 и Elo64 в рейтинге команды, \n",
    "обученными по (PreDay, All, more20), fillna\n",
    "                precision    recall  f1-score   support\n",
    "\n",
    "   dire_win       0.71      0.67      0.68       436\n",
    "radiant_win       0.70      0.74      0.72       465\n",
    "\n",
    "avg / total       0.70      0.70      0.70       901\n",
    "\n",
    "на контрольной выборке резултат получился:\n",
    "                precision    recall  f1-score   support\n",
    "\n",
    "   dire_win       0.55      0.55      0.55       188\n",
    "radiant_win       0.68      0.68      0.68       263\n",
    "\n",
    "avg / total       0.62      0.62      0.62       451\n",
    "----------------------------------------------------------------------------------------\n",
    "Без Elo32 и Elo64 в рейтинге команды, Без KDA, GPM, XPM, \n",
    "обученными по (PreDay, All, more20), fillna\n",
    "                precision    recall  f1-score   support\n",
    "\n",
    "   dire_win       0.69      0.67      0.68       436\n",
    "radiant_win       0.70      0.72      0.71       465\n",
    "\n",
    "avg / total       0.70      0.70      0.70       901\n",
    "\n",
    "на контрольной выборке резултат получился:\n",
    "                precision    recall  f1-score   support\n",
    "\n",
    "   dire_win       0.57      0.57      0.57       188\n",
    "radiant_win       0.69      0.68      0.69       263\n",
    "\n",
    "avg / total       0.64      0.64      0.64       451\n",
    "----------------------------------------------------------------------------------------\n",
    "(Из рейтинга остаось только mu и rating_glicko), (Без KDA, GPM, XPM), ()\n",
    "обученными по (PreDay, All, more20), fillna\n",
    "                precision    recall  f1-score   support\n",
    "\n",
    "   dire_win       0.70      0.68      0.69       436\n",
    "radiant_win       0.71      0.73      0.72       465\n",
    "\n",
    "avg / total       0.70      0.70      0.70       901\n",
    "\n",
    "на контрольной выборке резултат получился:\n",
    "                precision    recall  f1-score   support\n",
    "\n",
    "   dire_win       0.56      0.58      0.57       188\n",
    "radiant_win       0.69      0.68      0.68       263\n",
    "\n",
    "avg / total       0.64      0.64      0.64       451\n",
    "----------------------------------------------------------------------------------------\n",
    "\"\"\""
   ]
  },
  {
   "cell_type": "code",
   "execution_count": null,
   "metadata": {
    "collapsed": true
   },
   "outputs": [],
   "source": []
  },
  {
   "cell_type": "code",
   "execution_count": null,
   "metadata": {
    "collapsed": true
   },
   "outputs": [],
   "source": []
  },
  {
   "cell_type": "code",
   "execution_count": null,
   "metadata": {
    "collapsed": true
   },
   "outputs": [],
   "source": []
  },
  {
   "cell_type": "code",
   "execution_count": null,
   "metadata": {
    "collapsed": true
   },
   "outputs": [],
   "source": []
  },
  {
   "cell_type": "code",
   "execution_count": null,
   "metadata": {
    "collapsed": true
   },
   "outputs": [],
   "source": []
  },
  {
   "cell_type": "code",
   "execution_count": null,
   "metadata": {
    "collapsed": true
   },
   "outputs": [],
   "source": []
  },
  {
   "cell_type": "code",
   "execution_count": null,
   "metadata": {
    "collapsed": true
   },
   "outputs": [],
   "source": []
  },
  {
   "cell_type": "code",
   "execution_count": null,
   "metadata": {
    "collapsed": true
   },
   "outputs": [],
   "source": []
  },
  {
   "cell_type": "code",
   "execution_count": null,
   "metadata": {
    "collapsed": true
   },
   "outputs": [],
   "source": []
  },
  {
   "cell_type": "code",
   "execution_count": null,
   "metadata": {
    "collapsed": true
   },
   "outputs": [],
   "source": []
  },
  {
   "cell_type": "code",
   "execution_count": null,
   "metadata": {
    "collapsed": true
   },
   "outputs": [],
   "source": []
  }
 ],
 "metadata": {
  "kernelspec": {
   "display_name": "Python 3",
   "language": "python",
   "name": "python3"
  },
  "language_info": {
   "codemirror_mode": {
    "name": "ipython",
    "version": 3
   },
   "file_extension": ".py",
   "mimetype": "text/x-python",
   "name": "python",
   "nbconvert_exporter": "python",
   "pygments_lexer": "ipython3",
   "version": "3.6.3"
  }
 },
 "nbformat": 4,
 "nbformat_minor": 2
}
