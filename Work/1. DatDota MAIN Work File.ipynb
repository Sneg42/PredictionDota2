{
 "cells": [
  {
   "cell_type": "code",
   "execution_count": 1,
   "metadata": {
    "collapsed": true
   },
   "outputs": [],
   "source": [
    "import pandas as pd\n",
    "import numpy as np\n",
    "import math\n",
    "import helper\n",
    "import time\n",
    "import datetime\n",
    "import matplotlib.pyplot as plt\n",
    "\n",
    "from sklearn.linear_model import LogisticRegression\n",
    "from sklearn.ensemble import RandomForestClassifier, RandomForestRegressor\n",
    "from sklearn.neural_network import MLPClassifier\n",
    "from sklearn.tree import DecisionTreeClassifier, DecisionTreeRegressor\n",
    "from sklearn.ensemble import GradientBoostingClassifier, GradientBoostingRegressor\n",
    "from sklearn.neighbors import KNeighborsClassifier, KNeighborsRegressor\n",
    "from sklearn.svm import SVC, SVR\n",
    "from sklearn.preprocessing import StandardScaler, MinMaxScaler\n",
    "\n",
    "from sklearn import metrics\n",
    "from sklearn.metrics import classification_report\n",
    "from sklearn.model_selection import KFold, cross_val_score, LeaveOneOut, ShuffleSplit, train_test_split, GridSearchCV \n",
    "from sklearn.feature_selection import SelectPercentile, SelectFromModel\n",
    "import pickle    \n"
   ]
  },
  {
   "cell_type": "code",
   "execution_count": 2,
   "metadata": {
    "collapsed": true
   },
   "outputs": [],
   "source": [
    "# # Общая функция для удобного обучения и предсказания на контрольных данных\n",
    "# def get_main_df_for_predict_for_ProTeams(df_rating_teams_Premium, df_contrpick, df_meta_heroes):\n",
    "    \n",
    "# # -------- Создание основного ДФ -----------------------------------------------\n",
    "       \n",
    "#     # Соединение всех данных в один ДФ\n",
    "#     main = df_rating_teams_Premium\n",
    "#     main = pd.merge(main, df_contrpick, left_on='match_id', right_on='match_id',how='left')\n",
    "#     main = pd.merge(main, df_meta_heroes, left_on='match_id', right_on='match_id',how='left')\n",
    "\n",
    "#     # удаление не нужных колонок для обучения\n",
    "#     main = main.drop(['radiant_win', #'match_id', \n",
    "#                 'start_time', 'radiant_team_id', 'radiant_score', 'dire_team_id',\n",
    "#                'dire_score', 'radiant_name', 'dire_name','league_name'], axis=1)\n",
    "#     main = main.drop(main.loc[:, 'radiant_H1' : 'dire_P5'], axis=1)\n",
    "\n",
    "\n",
    "    \n",
    "#     # Выбросить весь рейтинг команд\n",
    "#     main = main.drop(main.loc[:, 'radiant_current_elo32':'dire_ratingSevenDaysAgo_glicko2'], axis=1)\n",
    "#     print (len(main))\n",
    "    \n",
    "# # -------- Заполнить или удалить NaN и добаить коллонку с предсказаниями, обучеными ранее -----------------------------------------------       \n",
    "#     # Заполнить пустые значения на 0\n",
    "#     # main = main.fillna(0)\n",
    "\n",
    "#     # убрать пустые ячейки\n",
    "#     main = main.dropna()\n",
    "#     print(len(main))\n",
    "    \n",
    "# # -------- Создаем новых колонок по суммам, разности показателей -----------------------------------------------    \n",
    "#     #------------- Для контрпиков героев --------------------------------------------------------\n",
    "#     main['radiant_elo_vs_enemies'] = (main['radiant_H1_elo_vs_enemies'] + main['radiant_H2_elo_vs_enemies'] + \n",
    "#                 main['radiant_H3_elo_vs_enemies'] + main['radiant_H4_elo_vs_enemies'] + main['radiant_H5_elo_vs_enemies'])\n",
    "\n",
    "#     # main['dire_elo_vs_enemies'] = (main['dire_H1_elo_vs_enemies'] + main['dire_H2_elo_vs_enemies'] + \n",
    "#     #                   main['dire_H3_elo_vs_enemies'] + main['dire_H4_elo_vs_enemies'] + main['dire_H5_elo_vs_enemies'])\n",
    "\n",
    "#     #  main['elo_vs_enemies'] = main['radiant_elo_vs_enemies'] - main['dire_elo_vs_enemies']\n",
    "#     # main = main.drop(['radiant_elo_vs_enemies', 'dire_elo_vs_enemies'], axis=1)\n",
    "\n",
    "#     #------------- Для метовых героев --------------------------------------------------------\n",
    "#     main['radiant_H_AvgElo'] = (main['radiant_H1_AvgElo'] + main['radiant_H2_AvgElo'] + \n",
    "#                               main['radiant_H3_AvgElo'] + main['radiant_H4_AvgElo'] + main['radiant_H5_AvgElo'])\n",
    "\n",
    "# #     main['dire_H_AvgElo'] = (main['dire_H1_AvgElo'] + main['dire_H2_AvgElo'] + \n",
    "# #                                main['dire_H3_AvgElo'] + main['dire_H4_AvgElo'] + main['dire_H5_AvgElo'])\n",
    "\n",
    "# #     main['H_AvgElo'] = main['radiant_H_AvgElo'] - main['dire_H_AvgElo']\n",
    "\n",
    "#     # main = main.drop(['dire_H_AvgElo', 'radiant_H_AvgElo'], axis=1)\n",
    "# # -------- Убрать лишние колонки -----------------------------------------------  \n",
    "# #     main = main.drop(['dire_H5_AvgElo',\n",
    "# #                      ], axis=1)\n",
    "#     return main"
   ]
  },
  {
   "cell_type": "code",
   "execution_count": 50,
   "metadata": {
    "collapsed": true
   },
   "outputs": [],
   "source": [
    "# Общая функция для удобного обучения и предсказания на контрольных данных\n",
    "def get_main_df_for_predict(df_rating_teams_Premium, df_contrpick, df_meta_heroes, \n",
    "            df_features_Heroes, df_features_type_Heroes, df_predict_for_teams_rating,\n",
    "            df_meta_7day_ago, \n",
    "           df_KDA_heroes, df_KDA_heroes_7day_ago, df_KDA_players_on_hero, df_KDA_players_7day_ago,\n",
    "           df_KDA_heroes_30day_ago_Pro, df_meta_couples_heroes):\n",
    "# -------- Создание ДФ с логарифмами произведений ---------------------------------------------------\n",
    "    df_LN_heroes = pd.DataFrame()\n",
    "    for team in ['radiant', 'dire']:\n",
    "        for i in range(1,6):\n",
    "            df_LN_heroes[team + '_H' + str(i) + '_LN_heroes'] = (np.log(\n",
    "                    df_KDA_heroes[team + '_H' + str(i) + '_gpm'] *\n",
    "                    df_KDA_heroes[team + '_H' + str(i) + '_xpm'] *\n",
    "                    df_KDA_heroes[team + '_H' + str(i) + '_kda']) *\n",
    "                    df_KDA_heroes[team + '_H' + str(i) + '_winrate'])\n",
    "    df_LN_heroes['match_id'] = df_KDA_heroes['match_id']\n",
    "    df_LN_heroes = df_LN_heroes.fillna(0)\n",
    "    \n",
    "    df_LN_heroes_7day_ago = pd.DataFrame()\n",
    "    for team in ['radiant', 'dire']:\n",
    "        for i in range(1,6):\n",
    "            df_LN_heroes_7day_ago[team + '_H' + str(i) + '_LN_heroes_7day_ago'] = (np.log(\n",
    "                    df_KDA_heroes_7day_ago[team + '_H' + str(i) + '_gpm'] *\n",
    "                    df_KDA_heroes_7day_ago[team + '_H' + str(i) + '_xpm'] *\n",
    "                    df_KDA_heroes_7day_ago[team + '_H' + str(i) + '_kda'])* \n",
    "                    df_KDA_heroes_7day_ago[team + '_H' + str(i) + '_winrate'])\n",
    "    df_LN_heroes_7day_ago['match_id'] = df_KDA_heroes_7day_ago['match_id']\n",
    "    df_LN_heroes_7day_ago = df_LN_heroes_7day_ago.fillna(0)\n",
    "\n",
    "    df_LN_players_on_hero = pd.DataFrame()\n",
    "    for team in ['radiant', 'dire']:\n",
    "        for i in range(1,6):\n",
    "            df_LN_players_on_hero[team + '_P' + str(i) + '_LN_players_on_hero'] = (np.log(\n",
    "                    df_KDA_players_on_hero[team + '_P' + str(i) + '_gpm'] *\n",
    "                    df_KDA_players_on_hero[team + '_P' + str(i) + '_xpm'] *\n",
    "                    df_KDA_players_on_hero[team + '_P' + str(i) + '_kda'])*\n",
    "                    df_KDA_players_on_hero[team + '_P' + str(i) + '_winrate'])\n",
    "    df_LN_players_on_hero['match_id'] = df_KDA_players_on_hero['match_id']\n",
    "    df_LN_players_on_hero = df_LN_players_on_hero.fillna(0)\n",
    "\n",
    "    df_LN_players_7day_ago = pd.DataFrame()\n",
    "    for team in ['radiant', 'dire']:\n",
    "        for i in range(1,6):\n",
    "            df_LN_players_7day_ago[team + '_P' + str(i) + '_LN_players_7day_ago'] = (np.log(\n",
    "                    df_KDA_players_7day_ago[team + '_P' + str(i) + '_gpm_7day_ago'] *\n",
    "                    df_KDA_players_7day_ago[team + '_P' + str(i) + '_xpm_7day_ago'] *\n",
    "                    df_KDA_players_7day_ago[team + '_P' + str(i) + '_kda_7day_ago'])*\n",
    "                    df_KDA_players_7day_ago[team + '_P' + str(i) + '_winrate_7day_ago'])\n",
    "    df_LN_players_7day_ago['match_id'] = df_KDA_players_7day_ago['match_id']\n",
    "    df_LN_players_7day_ago = df_LN_players_7day_ago.fillna(0)\n",
    "    # Создание ДФ c данными для героев по 30 предыдыдцщим днях для про игроков,\n",
    "    # с заполнеными данными для пустых мест по годовым показателям у героев\n",
    "    df_LN_players_30day_ago_Pro = pd.DataFrame()\n",
    "    for team in ['radiant', 'dire']:\n",
    "        for i in range(1,6):\n",
    "            df_LN_players_30day_ago_Pro[team + '_H' + str(i) + '_LN_heroes_30day_ago'] = (np.log(\n",
    "                    df_KDA_heroes_30day_ago_Pro[team + '_H' + str(i) + '_gpm_30day_ago'] *\n",
    "                    df_KDA_heroes_30day_ago_Pro[team + '_H' + str(i) + '_xpm_30day_ago'] *\n",
    "                    df_KDA_heroes_30day_ago_Pro[team + '_H' + str(i) + '_kda_30day_ago'] *\n",
    "                    df_KDA_heroes_30day_ago_Pro[team + '_H' + str(i) + '_winrate_30day_ago']))\n",
    "    # Чтобы порядок у столбцов был правильный\n",
    "    for team in ['radiant', 'dire']:\n",
    "        for i in range(1,6):\n",
    "            df_LN_players_30day_ago_Pro[team + '_H' + str(i) + '_LN_heroes_30day_ago_HD*kda'] = (np.log(\n",
    "                    df_KDA_heroes_30day_ago_Pro[team + '_H' + str(i) + '_heroDamage_30day_ago'] *\n",
    "                    df_KDA_heroes_30day_ago_Pro[team + '_H' + str(i) + '_kda_30day_ago']))\n",
    "#     for team in ['radiant', 'dire']:\n",
    "#         for i in range(1,6):\n",
    "#             df_LN_players_30day_ago_Pro[team + '_H' + str(i) + '_LN_heroes_30day_ago_TD*kda'] = (np.log(\n",
    "#                     df_KDA_heroes_30day_ago_Pro[team + '_H' + str(i) + '_towerDamage_30day_ago'] *\n",
    "#                     df_KDA_heroes_30day_ago_Pro[team + '_H' + str(i) + '_kda_30day_ago']))\n",
    "    df_LN_players_30day_ago_Pro['match_id'] = df_KDA_heroes_30day_ago_Pro['match_id']\n",
    "#     df_LN_players_30day_ago_Pro = df_LN_players_30day_ago_Pro.fillna(0)\n",
    "# -------- Создание основного ДФ -----------------------------------------------\n",
    "    # Создать ДВ по Elo для сигнатурок и для Elo 7 дней назад у игроков\n",
    "    df_signatures_heroes = df_KDA_players_on_hero[['radiant_P1_eloShift', 'radiant_P2_eloShift', 'radiant_P3_eloShift', \n",
    "                                                    'radiant_P4_eloShift', 'radiant_P5_eloShift', 'dire_P1_eloShift', \n",
    "                                                    'dire_P2_eloShift', 'dire_P3_eloShift', 'dire_P4_eloShift', \n",
    "                                                    'dire_P5_eloShift', 'match_id']]\n",
    "    df_eloShift_players_7day_ago = df_KDA_players_7day_ago[['radiant_P1_eloShift_7day_ago', 'radiant_P2_eloShift_7day_ago', \n",
    "                        'radiant_P3_eloShift_7day_ago', 'radiant_P4_eloShift_7day_ago', 'radiant_P5_eloShift_7day_ago', \n",
    "                        'dire_P1_eloShift_7day_ago', 'dire_P2_eloShift_7day_ago', 'dire_P3_eloShift_7day_ago', \n",
    "                        'dire_P4_eloShift_7day_ago', 'dire_P5_eloShift_7day_ago', 'match_id']]\n",
    "    \n",
    "#     df_features_Heroes = df_features_Heroes[[ 'Clockwerk', 'Gyrocopter', 'Io', 'match_id']]\n",
    "    \n",
    "    # Соединение всех данных в один ДФ\n",
    "    main = df_rating_teams_Premium\n",
    "    main = pd.merge(main, df_contrpick, left_on='match_id', right_on='match_id',how='left')\n",
    "    main = pd.merge(main, df_meta_heroes, left_on='match_id', right_on='match_id',how='left')\n",
    "#     main = pd.merge(main, df_signatures_heroes, left_on='match_id', right_on='match_id',how='left')\n",
    "#     main = pd.merge(main, df_meta_7day_ago, left_on='match_id', right_on='match_id',how='left')\n",
    "#     main = pd.merge(main, df_eloShift_players_7day_ago, left_on='match_id', right_on='match_id',how='left')\n",
    "#     main = pd.merge(main, df_meta_couples_heroes, left_on='match_id', right_on='match_id',how='left')\n",
    "    # ---------------------------------------------------------------------------------------------------------------------\n",
    "    # Добавить фичи по геряом и типам героев\n",
    "#     main = pd.merge(main, df_features_type_Heroes, left_on='match_id', right_on='match_id',how='left')\n",
    "#     main = pd.merge(main, df_features_Heroes, left_on='match_id', right_on='match_id',how='left')\n",
    "    # ---------------------------------------------------------------------------------------------------------------------\n",
    "    # Добавить фичи по предсказаний по алгоритму\n",
    "    main = pd.merge(main, df_predict_for_teams_rating, left_on='match_id', right_on='match_id',how='left')\n",
    "    # ---------------------------------------------------------------------------------------------------------------------\n",
    "    # Добавить фичи по Professional матчам\n",
    "    # main = pd.merge(main, df_contrpick_Pro10, left_on='match_id', right_on='match_id',how='left')\n",
    "    # main = pd.merge(main, df_contrpick_2MonthAgo_AllTeam1, left_on='match_id', right_on='match_id',how='left')\n",
    "    # ---------------------------------------------------------------------------------------------------------------------\n",
    "    # Добавить фичи логарифму произведения XPM GPM KDA и винрейт\n",
    "    main = pd.merge(main, df_LN_heroes, left_on='match_id', right_on='match_id',how='left')\n",
    "    main = pd.merge(main, df_LN_heroes_7day_ago, left_on='match_id', right_on='match_id',how='left')\n",
    "#     main = pd.merge(main, df_LN_players_on_hero, left_on='match_id', right_on='match_id',how='left')\n",
    "#     main = pd.merge(main, df_LN_players_7day_ago, left_on='match_id', right_on='match_id',how='left')\n",
    "    main = pd.merge(main, df_LN_players_30day_ago_Pro, left_on='match_id', right_on='match_id',how='left')\n",
    "    # ---------------------------------------------------------------------------------------------------------------------\n",
    "    # удаление не нужных колонок для обучения\n",
    "    main = main.drop([#'match_id',\n",
    "                      'start_time', 'radiant_team_id', 'radiant_score', 'dire_team_id',\n",
    "               'dire_score', 'radiant_name', 'dire_name','league_name'], axis=1)\n",
    "    main = main.drop(main.loc[:, 'radiant_H1' : 'dire_P5'], axis=1)\n",
    "\n",
    "\n",
    "    # # Оставляю только важные фичи, убираю из рейтинга команд ело32 и ело64\n",
    "#     main = main.drop(main.loc[:, 'radiant_current_elo32':'radiant_thirtyDayAvg_elo64'], axis=1)\n",
    "#     main = main.drop(main.loc[:, 'dire_current_elo32':'dire_thirtyDayAvg_elo64'], axis=1)\n",
    "#     main = main.drop(main.loc[:, 'radiant_ratingSevenDaysAgo_glicko':'radiant_ratingSevenDaysAgo_glicko2'], axis=1)\n",
    "#     main = main.drop(main.loc[:, 'dire_ratingSevenDaysAgo_glicko':'dire_ratingSevenDaysAgo_glicko2'], axis=1)\n",
    "    # Выбросить весь рейтинг команд\n",
    "    main = main.drop(main.loc[:, 'radiant_current_elo32':'dire_ratingSevenDaysAgo_glicko2'], axis=1)\n",
    "    print (len(main))\n",
    "    # Убрать из данных по ссигнатуркам\n",
    "#     main = main.drop(['radiant_P1_xpm', 'radiant_P2_xpm', 'radiant_P3_xpm', \n",
    "#                                 'radiant_P4_xpm', 'radiant_P5_xpm', 'dire_P1_xpm', \n",
    "#                                 'dire_P2_xpm', 'dire_P3_xpm', 'dire_P4_xpm', \n",
    "#                                 'dire_P5_xpm' ], axis=1)\n",
    "    \n",
    "# -------- Заполнить или удалить NaN и добаить коллонку с предсказаниями, обучеными ранее -----------------------------------------------       \n",
    "    # Заполнить пустые значения на 0\n",
    "    # main = main.fillna(0)\n",
    "    \n",
    "    # убрать пустые ячейки\n",
    "#     main = main.dropna()\n",
    "    print(len(main))\n",
    "    \n",
    "# -------- Создаем новых колонок по суммам, разности показателей -----------------------------------------------    \n",
    "    #------------- Для контрпиков героев --------------------------------------------------------\n",
    "    main['radiant_elo_vs_enemies'] = (main['radiant_H1_elo_vs_enemies'] + main['radiant_H2_elo_vs_enemies'] + \n",
    "                main['radiant_H3_elo_vs_enemies'] + main['radiant_H4_elo_vs_enemies'] + main['radiant_H5_elo_vs_enemies'])\n",
    "\n",
    "#     main['dire_elo_vs_enemies'] = (main['dire_H1_elo_vs_enemies'] + main['dire_H2_elo_vs_enemies'] + \n",
    "#                       main['dire_H3_elo_vs_enemies'] + main['dire_H4_elo_vs_enemies'] + main['dire_H5_elo_vs_enemies'])\n",
    "\n",
    "#     main['elo_vs_enemies'] = main['radiant_elo_vs_enemies'] - main['dire_elo_vs_enemies']\n",
    "#     main = main.drop(['radiant_elo_vs_enemies', 'dire_elo_vs_enemies'], axis=1)\n",
    "\n",
    "    #------------- Для сигнатурных героев по игрокам --------------------------------------------------------\n",
    "#     main['radiant_P_eloShift'] = (main['radiant_P1_eloShift'] + main['radiant_P2_eloShift'] + \n",
    "#                                   main['radiant_P3_eloShift'] + main['radiant_P4_eloShift'] + main['radiant_P5_eloShift'])\n",
    "\n",
    "#     main['dire_P_eloShift'] = (main['dire_P1_eloShift'] + main['dire_P2_eloShift'] + \n",
    "#                                main['dire_P3_eloShift'] + main['dire_P4_eloShift'] + main['dire_P5_eloShift'])\n",
    "\n",
    "#     main['P_eloShift'] = main['radiant_P_eloShift'] - main['dire_P_eloShift']\n",
    "\n",
    "# #     main = main.drop(['radiant_P_eloShift', 'dire_P_eloShift'], axis=1)\n",
    "\n",
    "    #------------- Для метовых героев --------------------------------------------------------\n",
    "    main['radiant_H_AvgElo'] = (main['radiant_H1_AvgElo'] + main['radiant_H2_AvgElo'] + \n",
    "                              main['radiant_H3_AvgElo'] + main['radiant_H4_AvgElo'] + main['radiant_H5_AvgElo'])\n",
    "\n",
    "    main['dire_H_AvgElo'] = (main['dire_H1_AvgElo'] + main['dire_H2_AvgElo'] + \n",
    "                               main['dire_H3_AvgElo'] + main['dire_H4_AvgElo'] + main['dire_H5_AvgElo'])\n",
    "\n",
    "    main['H_AvgElo'] = main['radiant_H_AvgElo'] - main['dire_H_AvgElo']\n",
    "\n",
    "#     main = main.drop(['dire_H_AvgElo', 'radiant_H_AvgElo'], axis=1)\n",
    "\n",
    "#     #------------- Для LN(kda*gpm*xpm) для игроков за последние 7 дней --------------------------------------------------------\n",
    "#     main['radiant_LN_players_7day_ago'] = (main['radiant_P1_LN_players_7day_ago'] + \n",
    "#                         main['radiant_P2_LN_players_7day_ago'] + main['radiant_P3_LN_players_7day_ago'] + \n",
    "#                         main['radiant_P4_LN_players_7day_ago'] + main['radiant_P5_LN_players_7day_ago'])\n",
    "\n",
    "#     main['dire_LN_players_7day_ago'] = (main['dire_P1_LN_players_7day_ago'] + \n",
    "#                                 main['dire_P2_LN_players_7day_ago'] + main['dire_P3_LN_players_7day_ago'] + \n",
    "#                                 main['dire_P4_LN_players_7day_ago'] + main['dire_P5_LN_players_7day_ago'])\n",
    "\n",
    "#     main['LN_players_7day_ago'] = main['radiant_LN_players_7day_ago'] - main['dire_LN_players_7day_ago']\n",
    "\n",
    "# #     main = main.drop(['dire_LN_players_7day_ago', 'radiant_LN_players_7day_ago'], axis=1)\n",
    "    \n",
    "    #------------- Для LN(kda*gpm*xpm) для героев за последние 30 дней --------------------------------------------------------\n",
    "    main['radiant_LN_heroes_30day_ago'] = (main['radiant_H1_LN_heroes_30day_ago'] + \n",
    "                        main['radiant_H2_LN_heroes_30day_ago'] + main['radiant_H3_LN_heroes_30day_ago'] + \n",
    "                        main['radiant_H4_LN_heroes_30day_ago'] + main['radiant_H5_LN_heroes_30day_ago'])\n",
    "\n",
    "    main['dire_LN_heroes_30day_ago'] = (main['dire_H1_LN_heroes_30day_ago'] + \n",
    "                                main['dire_H2_LN_heroes_30day_ago'] + main['dire_H3_LN_heroes_30day_ago'] + \n",
    "                                main['dire_H4_LN_heroes_30day_ago'] + main['dire_H5_LN_heroes_30day_ago'])\n",
    "\n",
    "    main['LN_heroes_30day_ago'] = main['radiant_LN_heroes_30day_ago'] - main['dire_LN_heroes_30day_ago']\n",
    "\n",
    "#     main = main.drop(['dire_LN_heroes_30day_ago', 'radiant_LN_heroes_30day_ago'], axis=1)\n",
    "    \n",
    "    #------------- Для LN(HD*kda) для героев за последние 30 дней --------------------------------------------------------\n",
    "    main['radiant_LN_heroes_30day_ago_HD*kda'] = (main['radiant_H1_LN_heroes_30day_ago_HD*kda'] + \n",
    "                main['radiant_H2_LN_heroes_30day_ago_HD*kda'] + main['radiant_H3_LN_heroes_30day_ago_HD*kda'] + \n",
    "                main['radiant_H4_LN_heroes_30day_ago_HD*kda'] + main['radiant_H5_LN_heroes_30day_ago_HD*kda'])\n",
    "\n",
    "    main['dire_LN_heroes_30day_ago_HD*kda'] = (main['dire_H1_LN_heroes_30day_ago_HD*kda'] + \n",
    "                main['dire_H2_LN_heroes_30day_ago_HD*kda'] + main['dire_H3_LN_heroes_30day_ago_HD*kda'] + \n",
    "                main['dire_H4_LN_heroes_30day_ago_HD*kda'] + main['dire_H5_LN_heroes_30day_ago_HD*kda'])\n",
    "\n",
    "    main['LN_heroes_30day_ago_HD*kda'] = (main['radiant_LN_heroes_30day_ago_HD*kda'] - \n",
    "                                          main['dire_LN_heroes_30day_ago_HD*kda'])\n",
    "\n",
    "#     main = main.drop(['dire_LN_heroes_30day_ago_HD*kda', 'radiant_LN_heroes_30day_ago_HD*kda'], axis=1)\n",
    "\n",
    "#      #------------- Для пар героев, сделать суммарные ело и разницу --------------------------------------------------------\n",
    "#     main['radiant_elo_couples_heroes'] = (df_meta_couples_heroes['radiant_1_2'] + \n",
    "#                 df_meta_couples_heroes['radiant_1_3'] + df_meta_couples_heroes['radiant_1_4'] + \n",
    "#                 df_meta_couples_heroes['radiant_1_5'] + df_meta_couples_heroes['radiant_2_3'] + \n",
    "#                 df_meta_couples_heroes['radiant_2_4'] + df_meta_couples_heroes['radiant_2_5'] +\n",
    "#                 df_meta_couples_heroes['radiant_3_4'] + df_meta_couples_heroes['radiant_3_5'] +\n",
    "#                                          df_meta_couples_heroes['radiant_4_5'])\n",
    "\n",
    "#     main['dire_elo_couples_heroes'] = (df_meta_couples_heroes['dire_1_2'] + \n",
    "#                 df_meta_couples_heroes['dire_1_3'] + df_meta_couples_heroes['dire_1_4'] + \n",
    "#                 df_meta_couples_heroes['dire_1_5'] + df_meta_couples_heroes['dire_2_3'] + \n",
    "#                 df_meta_couples_heroes['dire_2_4'] + df_meta_couples_heroes['dire_2_5'] +\n",
    "#                 df_meta_couples_heroes['dire_3_4'] + df_meta_couples_heroes['dire_3_5'] +\n",
    "#                                          df_meta_couples_heroes['dire_4_5'])\n",
    "\n",
    "\n",
    "#     main['elo_couples_heroes'] = (main['radiant_elo_couples_heroes'] - \n",
    "#                                           main['dire_elo_couples_heroes'])\n",
    "\n",
    "# #     main = main.drop(['dire_elo_couples_heroes', 'radiant_elo_couples_heroes'], axis=1)\n",
    "\n",
    "#     #------------- Для LN(kda*gpm*xpm) для героев за последние 7 дней --------------------------------------------------------\n",
    "#     main['radiant_H_LN_heroes_7day_ago'] = (main['radiant_H1_LN_heroes_7day_ago'] + \n",
    "#                             main['radiant_H2_LN_heroes_7day_ago'] + main['radiant_H3_LN_heroes_7day_ago'] + \n",
    "#                             main['radiant_H4_LN_heroes_7day_ago'] + main['radiant_H5_LN_heroes_7day_ago'])\n",
    "\n",
    "#     main['dire_H_LN_heroes_7day_ago'] = (main['dire_H1_LN_heroes_7day_ago'] + \n",
    "#                                 main['dire_H2_LN_heroes_7day_ago'] + main['dire_H3_LN_heroes_7day_ago'] + \n",
    "#                                 main['dire_H4_LN_heroes_7day_ago'] + main['dire_H5_LN_heroes_7day_ago'])\n",
    "\n",
    "#     main['H_LN_heroes_7day_ago'] = main['radiant_H_LN_heroes_7day_ago'] - main['dire_H_LN_heroes_7day_ago']\n",
    "\n",
    "# #     main = main.drop(['dire_H_LN_heroes_7day_ago', 'radiant_H_LN_heroes_7day_ago'], axis=1)\n",
    "#  #------------- Для метовых героев 7 дней назад --------------------------------------------------------\n",
    "#     main['radiant_H_AvgElo_7day_ago'] = (main['radiant_H1_AvgElo_7day_ago'] + main['radiant_H2_AvgElo_7day_ago'] + \n",
    "#                               main['radiant_H3_AvgElo_7day_ago'] + main['radiant_H4_AvgElo_7day_ago'] + \n",
    "#                                          main['radiant_H5_AvgElo_7day_ago'])\n",
    "\n",
    "#     main['dire_H_AvgElo_7day_ago'] = (main['dire_H1_AvgElo_7day_ago'] + main['dire_H2_AvgElo_7day_ago'] + \n",
    "#                                main['dire_H3_AvgElo_7day_ago'] + main['dire_H4_AvgElo_7day_ago'] + \n",
    "#                                       main['dire_H5_AvgElo_7day_ago'])\n",
    "\n",
    "#     main['H_AvgElo_7day_ago'] = main['radiant_H_AvgElo_7day_ago'] - main['dire_H_AvgElo_7day_ago']\n",
    "\n",
    "# #     main = main.drop(['dire_H_AvgElo_7day_ago', 'radiant_H_AvgElo_7day_ago'], axis=1)\n",
    "\n",
    "#  #------------- Для того как игрок отыграл 7 дней назад --------------------------------------------------------\n",
    "#     main['radiant_P_eloShift_7day_ago'] = (main['radiant_P1_eloShift_7day_ago'] + main['radiant_P2_eloShift_7day_ago'] + \n",
    "#                                   main['radiant_P3_eloShift_7day_ago'] + main['radiant_P4_eloShift_7day_ago'] + \n",
    "#                                            main['radiant_P5_eloShift_7day_ago'])\n",
    "\n",
    "#     main['dire_P_eloShift_7day_ago'] = (main['dire_P1_eloShift_7day_ago'] + main['dire_P2_eloShift_7day_ago'] + \n",
    "#                                main['dire_P3_eloShift_7day_ago'] + main['dire_P4_eloShift_7day_ago'] + \n",
    "#                                         main['dire_P5_eloShift_7day_ago'])\n",
    "\n",
    "#     main['P_eloShift_7day_ago'] = main['radiant_P_eloShift_7day_ago'] - main['dire_P_eloShift_7day_ago']\n",
    "\n",
    "# #     main = main.drop(['radiant_P_eloShift_7day_ago', 'dire_P_eloShift_7day_ago'], axis=1)\n",
    "\n",
    "    #---------- Для рейтинга команд -----------------------------------------------------------\n",
    "#     main['mu_glicko'] = main['radiant_mu_glicko'] -  main['dire_mu_glicko']\n",
    "#     main['rating_glicko'] = main['radiant_rating_glicko'] -  main['dire_rating_glicko']\n",
    "#     main['ratingSevenDaysAgo_glicko'] = main['radiant_ratingSevenDaysAgo_glicko'] -  main['dire_ratingSevenDaysAgo_glicko']\n",
    "#     main['mu_glicko2'] = main['radiant_mu_glicko2'] -  main['dire_mu_glicko2']\n",
    "#     main['phi_glicko2'] = main['radiant_phi_glicko2'] -  main['dire_phi_glicko2']\n",
    "#     main['rating_glicko2'] = main['radiant_rating_glicko2'] -  main['dire_rating_glicko2']\n",
    "#     main['ratingSevenDaysAgo_glicko2'] = main['radiant_ratingSevenDaysAgo_glicko2']-main['dire_ratingSevenDaysAgo_glicko2']\n",
    "\n",
    "    # ---------- Для сигнатурных героев -----------------------------------------------------------\n",
    "#     main['radiant_P_kda'] = (main['radiant_P1_kda'] + main['radiant_P2_kda'] + \n",
    "#                                   main['radiant_P3_kda'] + main['radiant_P4_kda'] + main['radiant_P5_kda'])\n",
    "\n",
    "#     main['dire_P_kda'] = (main['dire_P1_kda'] + main['dire_P2_kda'] + \n",
    "#                                main['dire_P3_kda'] + main['dire_P4_kda'] + main['dire_P5_kda'])\n",
    "\n",
    "#     main['P_kda'] = main['radiant_P_kda'] - main['dire_P_kda']\n",
    "\n",
    "#     main = main.drop(['radiant_P_kda', 'dire_P_kda'], axis=1)\n",
    "    #---------------------------------------------------------------------------------------------------\n",
    "#     main['radiant_P_kda_mean'] = (main['radiant_P1_kda'] + main['radiant_P2_kda'] + \n",
    "#                                   main['radiant_P3_kda'] + main['radiant_P4_kda'] + main['radiant_P5_kda'])/5\n",
    "\n",
    "#     main['dire_P_kda_mean'] = (main['dire_P1_kda'] + main['dire_P2_kda'] + \n",
    "#                                main['dire_P3_kda'] + main['dire_P4_kda'] + main['dire_P5_kda'])/5\n",
    "\n",
    "#     main['P_kda_mean'] = main['radiant_P_kda_mean'] - main['dire_P_kda_mean']\n",
    "\n",
    "#     main = main.drop(['radiant_P_kda_mean', 'dire_P_kda_mean'], axis=1)\n",
    "    #---------------------------------------------------------------------------------------------------\n",
    "#     main['radiant_P_gpm'] = (main['radiant_P1_gpm'] + main['radiant_P2_gpm'] + \n",
    "#                                   main['radiant_P3_gpm'] + main['radiant_P4_gpm'] + main['radiant_P5_gpm'])\n",
    "\n",
    "#     main['dire_P_gpm'] = (main['dire_P1_gpm'] + main['dire_P2_gpm'] + \n",
    "#                                main['dire_P3_gpm'] + main['dire_P4_gpm'] + main['dire_P5_gpm'])\n",
    "\n",
    "#     main['P_gpm'] = main['radiant_P_gpm'] - main['dire_P_gpm']\n",
    "\n",
    "#     main = main.drop(['radiant_P_gpm', 'dire_P_gpm'], axis=1)\n",
    "#---------------------------------------------------------------------------------------------------\n",
    "#     main['radiant_P_gpm_mean'] = (main['radiant_P1_gpm'] + main['radiant_P2_gpm'] + \n",
    "#                                   main['radiant_P3_gpm'] + main['radiant_P4_gpm'] + main['radiant_P5_gpm'])/5\n",
    "\n",
    "#     main['dire_P_gpm_mean'] = (main['dire_P1_gpm'] + main['dire_P2_gpm'] + \n",
    "#                                main['dire_P3_gpm'] + main['dire_P4_gpm'] + main['dire_P5_gpm'])/5\n",
    "\n",
    "#     main['P_gpm_mean'] = main['radiant_P_gpm_mean'] - main['dire_P_gpm_mean']\n",
    "\n",
    "#     main = main.drop(['radiant_P_gpm_mean', 'dire_P_gpm_mean'], axis=1)\n",
    "    #---------------------------------------------------------------------------------------------------\n",
    "#     main['radiant_P_xpm'] = (main['radiant_P1_xpm'] + main['radiant_P2_xpm'] + \n",
    "#                                   main['radiant_P3_xpm'] + main['radiant_P4_xpm'] + main['radiant_P5_xpm'])\n",
    "\n",
    "#     main['dire_P_xpm'] = (main['dire_P1_xpm'] + main['dire_P2_xpm'] + \n",
    "#                                main['dire_P3_xpm'] + main['dire_P4_xpm'] + main['dire_P5_xpm'])\n",
    "\n",
    "#     main['P_xpm'] = main['radiant_P_xpm'] - main['dire_P_xpm']\n",
    "\n",
    "#     main = main.drop(['radiant_P_xpm', 'dire_P_xpm'], axis=1)\n",
    "\n",
    "    # Убрать из данных по ссигнатуркам\n",
    "#     main = main.drop(['radiant_P1_kda', 'radiant_P2_kda', 'radiant_P3_kda', \n",
    "#                             'radiant_P4_kda', 'radiant_P5_kda', 'dire_P1_kda', \n",
    "#                             'dire_P2_kda', 'dire_P3_kda', 'dire_P4_kda', \n",
    "#                             'dire_P5_kda' ], axis=1)\n",
    "#     main = main.drop(['radiant_P1_gpm', 'radiant_P2_gpm', 'radiant_P3_gpm', \n",
    "#                             'radiant_P4_gpm', 'radiant_P5_gpm', 'dire_P1_gpm', \n",
    "#                             'dire_P2_gpm', 'dire_P3_gpm', 'dire_P4_gpm', \n",
    "#                             'dire_P5_gpm' ], axis=1)\n",
    "#     main = main.drop(['radiant_P1_xpm', 'radiant_P2_xpm', 'radiant_P3_xpm', \n",
    "#                             'radiant_P4_xpm', 'radiant_P5_xpm', 'dire_P1_xpm', \n",
    "#                             'dire_P2_xpm', 'dire_P3_xpm', 'dire_P4_xpm', \n",
    "#                             'dire_P5_xpm' ], axis=1)\n",
    "\n",
    "# -------- Создаем новых колонок по разности типов героев -----------------------------------------------        \n",
    "#     main['Disabler'] = (main['Disabler1'] + main['Disabler2'] + main['Disabler3'] + main['Disabler4'] + main['Disabler5'] - \n",
    "#                    main['Disabler6'] - main['Disabler7'] - main['Disabler8'] - main['Disabler9'] - main['Disabler10'])\n",
    "\n",
    "#     main['Nuker'] = (main['Nuker1'] + main['Nuker2'] + main['Nuker3'] + main['Nuker4'] + main['Nuker5'] - \n",
    "#                        main['Nuker6'] - main['Nuker7'] - main['Nuker8'] - main['Nuker9'] - main['Nuker10'])\n",
    "\n",
    "#     main['Carry'] = (main['Carry1'] + main['Carry2'] + main['Carry3'] + main['Carry4'] + main['Carry5'] - \n",
    "#                        main['Carry6'] - main['Carry7'] - main['Carry8'] - main['Carry9'] - main['Carry10'])\n",
    "\n",
    "#     main['Initiator'] = (main['Initiator1'] + main['Initiator2'] + main['Initiator3']+main['Initiator4']+main['Initiator5'] - \n",
    "#                     main['Initiator6'] - main['Initiator7'] - main['Initiator8'] - main['Initiator9'] - main['Initiator10'])\n",
    "\n",
    "#     main['Escape'] = (main['Escape1'] + main['Escape2'] + main['Escape3'] + main['Escape4'] + main['Escape5'] - \n",
    "#                        main['Escape6'] - main['Escape7'] - main['Escape8'] - main['Escape9'] - main['Escape10'])\n",
    "\n",
    "#     main['Durable'] = (main['Durable1'] + main['Durable2'] + main['Durable3'] + main['Durable4'] + main['Durable5'] - \n",
    "#                        main['Durable6'] - main['Durable7'] - main['Durable8'] - main['Durable9'] - main['Durable10'])\n",
    "\n",
    "#     main['Support'] = (main['Support1'] + main['Support2'] + main['Support3'] + main['Support4'] + main['Support5'] - \n",
    "#                        main['Support6'] - main['Support7'] - main['Support8'] - main['Support9'] - main['Support10'])\n",
    "\n",
    "#     main['Pusher'] = (main['Pusher1'] + main['Pusher2'] + main['Pusher3'] + main['Pusher4'] + main['Pusher5'] - \n",
    "#                        main['Pusher6'] - main['Pusher7'] - main['Pusher8'] - main['Pusher9'] - main['Pusher10'])\n",
    "\n",
    "#     main['Jungler'] = (main['Jungler1'] + main['Jungler2'] + main['Jungler3'] + main['Jungler4'] + main['Jungler5'] - \n",
    "#                        main['Jungler6'] - main['Jungler7'] - main['Jungler8'] - main['Jungler9'] - main['Jungler10'])\n",
    "#     main = main.drop(['attac_type1','Disabler1','Nuker1','Carry1','Initiator1','Escape1','Durable1','Support1','Pusher1',\n",
    "#                       'Jungler1',\n",
    "#             'attac_type2','Disabler2','Nuker2','Carry2','Initiator2','Escape2','Durable2','Support2','Pusher2','Jungler2',\n",
    "#             'attac_type3','Disabler3','Nuker3','Carry3','Initiator3','Escape3','Durable3','Support3','Pusher3','Jungler3',\n",
    "#             'attac_type4','Disabler4','Nuker4','Carry4','Initiator4','Escape4','Durable4','Support4','Pusher4','Jungler4',\n",
    "#             'attac_type5','Disabler5','Nuker5','Carry5','Initiator5','Escape5','Durable5','Support5','Pusher5','Jungler5',\n",
    "#             'attac_type6','Disabler6','Nuker6','Carry6','Initiator6','Escape6','Durable6','Support6','Pusher6','Jungler6',\n",
    "#             'attac_type7','Disabler7','Nuker7','Carry7','Initiator7','Escape7','Durable7','Support7','Pusher7','Jungler7',\n",
    "#             'attac_type8','Disabler8','Nuker8','Carry8','Initiator8','Escape8','Durable8','Support8','Pusher8','Jungler8',\n",
    "#             'attac_type9','Disabler9','Nuker9','Carry9','Initiator9','Escape9','Durable9','Support9','Pusher9','Jungler9',\n",
    "#          'attac_type10','Disabler10','Nuker10','Carry10','Initiator10','Escape10','Durable10','Support10','Pusher10',\n",
    "#                       'Jungler10'], axis=1)\n",
    "\n",
    "# # # -------- Стандартизация показателей -----------------------------------------------     \n",
    "#     scaler = StandardScaler()\n",
    "#     main['Disabler'] = scaler.fit(pd.DataFrame(main['Disabler'])).transform(pd.DataFrame(main['Disabler']))\n",
    "#     main['Nuker'] = scaler.fit(pd.DataFrame(main['Nuker'])).transform(pd.DataFrame(main['Nuker']))\n",
    "#     main['Carry'] = scaler.fit(pd.DataFrame(main['Carry'])).transform(pd.DataFrame(main['Carry']))\n",
    "#     main['Initiator'] = scaler.fit(pd.DataFrame(main['Initiator'])).transform(pd.DataFrame(main['Initiator']))\n",
    "#     main['Escape'] = scaler.fit(pd.DataFrame(main['Escape'])).transform(pd.DataFrame(main['Escape']))\n",
    "#     main['Durable'] = scaler.fit(pd.DataFrame(main['Durable'])).transform(pd.DataFrame(main['Durable']))\n",
    "#     main['Support'] = scaler.fit(pd.DataFrame(main['Support'])).transform(pd.DataFrame(main['Support']))\n",
    "#     main['Pusher'] = scaler.fit(pd.DataFrame(main['Pusher'])).transform(pd.DataFrame(main['Pusher']))\n",
    "#     main['Jungler'] = scaler.fit(pd.DataFrame(main['Jungler'])).transform(pd.DataFrame(main['Jungler']))\n",
    "    \n",
    "#     main['radiant_elo_vs_enemies'] = scaler.fit(pd.DataFrame(\n",
    "#         main['radiant_elo_vs_enemies'])).transform(pd.DataFrame(main['radiant_elo_vs_enemies']))       \n",
    "#     main['radiant_P_eloShift'] = scaler.fit(pd.DataFrame(\n",
    "#         main['radiant_P_eloShift'])).transform(pd.DataFrame(main['radiant_P_eloShift']))\n",
    "#     main['dire_P_eloShift'] = scaler.fit(pd.DataFrame(\n",
    "#         main['dire_P_eloShift'])).transform(pd.DataFrame(main['dire_P_eloShift']))\n",
    "#     main['P_eloShift'] = scaler.fit(pd.DataFrame(main['P_eloShift'])).transform(pd.DataFrame(main['P_eloShift']))\n",
    "#     main['radiant_H_AvgElo'] = scaler.fit(pd.DataFrame(\n",
    "#         main['radiant_H_AvgElo'])).transform(pd.DataFrame(main['radiant_H_AvgElo']))\n",
    "#     main['dire_H_AvgElo'] = scaler.fit(pd.DataFrame(main['dire_H_AvgElo'])).transform(pd.DataFrame(main['dire_H_AvgElo']))\n",
    "#     main['H_AvgElo'] = scaler.fit(pd.DataFrame(main['H_AvgElo'])).transform(pd.DataFrame(main['H_AvgElo']))\n",
    "#     main['mu_glicko'] = scaler.fit(pd.DataFrame(main['mu_glicko'])).transform(pd.DataFrame(main['mu_glicko']))\n",
    "#     main['rating_glicko'] = scaler.fit(pd.DataFrame(main['rating_glicko'])).transform(pd.DataFrame(main['rating_glicko']))\n",
    "#     main['ratingSevenDaysAgo_glicko'] = scaler.fit(pd.DataFrame(\n",
    "#         main['ratingSevenDaysAgo_glicko'])).transform(pd.DataFrame(main['ratingSevenDaysAgo_glicko']))\n",
    "#     main['mu_glicko2'] = scaler.fit(pd.DataFrame(main['mu_glicko2'])).transform(pd.DataFrame(main['mu_glicko2']))\n",
    "#     main['phi_glicko2'] = scaler.fit(pd.DataFrame(main['phi_glicko2'])).transform(pd.DataFrame(main['phi_glicko2']))\n",
    "\n",
    "# -------- Убрать лишние колонки -----------------------------------------------  \n",
    "    main = main.drop([        \n",
    "#         'dire_phi_glicko2',\n",
    "#         'dire_rating_glicko2', \n",
    "#         'radiant_ratingSevenDaysAgo_glicko2', 'dire_ratingSevenDaysAgo_glicko2',\n",
    "#         'radiant_P3_eloShift',\n",
    "#         'dire_P_eloShift_7day_ago',\n",
    "#         'radiant_P2_LN_players_7day_ago', 'radiant_P3_LN_players_7day_ago',\n",
    "#         'radiant_P3_LN_players_on_hero', 'radiant_H2_LN_heroes_7day_ago',\n",
    "#         'dire_H5_LN_heroes',\n",
    "#         'dire_P2_eloShift_7day_ago',\n",
    "#         'radiant_P4_eloShift_7day_ago', 'radiant_P3_eloShift_7day_ago', 'radiant_P1_eloShift_7day_ago',\n",
    "#         'dire_H3_AvgElo_7day_ago', 'radiant_H3_AvgElo_7day_ago', \n",
    "        \n",
    "#         'P_eloShift_7day_ago', \n",
    "#         'radiant_H1_LN_heroes_7day_ago', \n",
    "#         'radiant_H2_LN_heroes',\n",
    "#         'dire_P5_eloShift',\n",
    "#         'radiant_H1_elo_vs_enemies',\n",
    "#         'dire_sigma_glicko',\n",
    "        \n",
    "#         'rating_glicko', 'H_AvgElo', 'dire_P3_LN_players_7day_ago', 'dire_P2_LN_players_on_hero',\n",
    "#         'radiant_P5_LN_players_on_hero', 'radiant_P2_LN_players_on_hero', 'dire_H3_LN_heroes_7day_ago',\n",
    "#         'dire_P1_eloShift_7day_ago', 'radiant_P2_eloShift_7day_ago', 'dire_H4_AvgElo_7day_ago',\n",
    "#         'dire_H5_AvgElo', 'radiant_H5_AvgElo', 'dire_ratingSevenDaysAgo_glicko', 'dire_rating_glicko',\n",
    "#         'radiant_rating_glicko2', 'radiant_ratingSevenDaysAgo_glicko',\n",
    "                ], axis=1)\n",
    "    \n",
    "#     main = main.drop(main.loc[:, 'radiant_H1_AvgElo_7day_ago':'dire_H5_AvgElo_7day_ago'], axis=1)\n",
    "#     main = main.drop(main.loc[:, 'radiant_H1_AvgElo':'dire_H5_AvgElo'], axis=1)\n",
    "#     main = main.drop(main.loc[:, 'radiant_P1_eloShift_7day_ago':'dire_P5_eloShift_7day_ago'], axis=1)\n",
    "#     main = main.drop(main.loc[:, 'radiant_P1_eloShift':'dire_P5_eloShift'], axis=1)\n",
    "#     main = main.drop(main.loc[:, 'radiant_P1_LN_players_7day_ago':'dire_P5_LN_players_7day_ago'], axis=1)\n",
    "#     main = main.drop(main.loc[:, 'radiant_P1_LN_players_on_hero':'dire_P5_LN_players_on_hero'], axis=1)\n",
    "#     main = main.drop(main.loc[:, 'radiant_H1_LN_heroes_7day_ago':'dire_H5_LN_heroes_7day_ago'], axis=1)\n",
    "#     main = main.drop(main.loc[:, 'radiant_H1_LN_heroes':'dire_H5_LN_heroes'], axis=1)\n",
    "#     main = main.drop(main.loc[:, 'radiant_H1_elo_vs_enemies':'dire_H5_elo_vs_enemies'], axis=1)\n",
    "    return main"
   ]
  },
  {
   "cell_type": "markdown",
   "metadata": {},
   "source": [
    "# Подгрузка всех таблиц с данными по матчам"
   ]
  },
  {
   "cell_type": "code",
   "execution_count": 4,
   "metadata": {
    "collapsed": true
   },
   "outputs": [],
   "source": [
    "# дф с матчами и рейтингом каждой команды с патча 7.01 для Премиум\n",
    "df_rating_teams_Premium = pd.read_csv('../tabel/table from Datdota/Rating teams/'+\n",
    "                                          'PREMIUM on 2012-02-28 to 2018-03-01 (PreDay).csv', index_col=0)\n",
    "\n",
    "# ДФ с контрпиками (head-to-head, PRO, >20) с 6,74-7,12 и до 2018.10.01\n",
    "df_contrpick = pd.read_csv('../tabel/table from Datdota/Heah-to-head Contrpicks/'+\n",
    "                'data from 6.74-last. on 2012-02-28 to 2018-03-01 (PreDay, All, more 20).csv', index_col=0)\n",
    "\n",
    "# ДФ с метовыми героями (PRO, >10)\n",
    "df_meta_heroes = pd.read_csv('../tabel/table from Datdota/AvgElo Meta and Signatures Heroes/'+\n",
    "                             'Meta on 2012-02-28 to 2018-03-01 (TwoMonthAgo, All, more 20).csv', index_col=0)\n",
    "\n",
    "# # ДФ с сигнатурками для каждого игрока (ALL, >5)\n",
    "# df_signatures_heroes = pd.read_csv('../tabel/table from Datdota/AvgElo Meta and Signatures Heroes/'+\n",
    "#                                    'Players Signatures on 2012-02-28 to 2018-03-01 (PreDay, All, more 5).csv', index_col=0)\n",
    "\n",
    "# как герой отыгрывает последние 7 дней\n",
    "df_meta_7day_ago = pd.read_csv('../tabel/table from Datdota/AvgElo Meta and Signatures Heroes/'+\n",
    "                             'Meta on 2012-02-28 to 2018-03-01 (7DayAgo, All, more 10).csv', index_col=0)\n",
    "\n",
    "# ДФ с elo для связки героев\n",
    "df_meta_couples_heroes = pd.read_csv('../tabel/table from Datdota/AvgElo Meta and Signatures Heroes/Meta AvgElo Couples/'+\n",
    "                             'Meta couples heroes on 2012-02-28 to 2018-03-01 (TwoMonthAgo, Pro, more 8).csv', index_col=0)\n",
    "\n",
    "# # как игрок играет последние 7 жней\n",
    "# df_eloShift_players_7day_ago = pd.read_csv('../tabel/table from Datdota/AvgElo Meta and Signatures Heroes/'+\n",
    "#                                    'EloShift Players on 2012-02-28 to 2018-03-01 (7day_ago, All, more 1).csv', index_col=0)\n",
    "\n",
    "# ---------------------------------------------------------------------------------------------------------------------\n",
    "# df_contrpick_Pro10 = pd.read_csv('../tabel/table from Datdota/Heah-to-head Contrpicks/'+\n",
    "#                 'data from 6.74-last. on 2012-02-28 to 2018-03-01 (PreDay, Pro, more 10).csv', index_col=0)\n",
    "\n",
    "# df_contrpick_2MonthAgo_AllTeam1 = pd.read_csv('../tabel/table from Datdota/Heah-to-head Contrpicks/'+\n",
    "#                 'data from 6.74-last. on 2012-02-28 to 2018-03-01 (TwoMonthAgo, All, more 1).csv', index_col=0)"
   ]
  },
  {
   "cell_type": "markdown",
   "metadata": {},
   "source": [
    "# Работа с данными по KDA, HD, TD ..."
   ]
  },
  {
   "cell_type": "code",
   "execution_count": 5,
   "metadata": {
    "collapsed": true
   },
   "outputs": [],
   "source": [
    "# ДФ с данными KDA по героям за все время с патча 6.88\n",
    "df_KDA_heroes = pd.read_csv('../tabel/table from Datdota/KDA/Heroes/'+\n",
    "                            'KDA heroes on 2012-02-28 to 2018-03-01 (6.88+, All, more 20).csv', index_col=0)\n",
    "\n",
    "# ДФ с данными KDA по героям за последние 7 дней\n",
    "df_KDA_heroes_7day_ago = pd.read_csv('../tabel/table from Datdota/KDA/Heroes/7day_ago/'+\n",
    "                            'KDA heroes on 2012-02-28 to 2018-03-01 (7day_ago, All, more 10).csv', index_col=0)\n",
    "\n",
    "# ДФ с данными KDA игроков по герою \n",
    "df_KDA_players_on_hero = pd.read_csv('../tabel/table from Datdota/KDA/Players/'+\n",
    "                'KDA Players on hero 2012-02-28 to 2018-03-01 (All time, All, more 5).csv', index_col=0)\n",
    "\n",
    "# ДФ с данными KDA по игроку за последние 7 дней\n",
    "df_KDA_players_7day_ago = pd.read_csv('../tabel/table from Datdota/KDA/Players/7day_ago/'+\n",
    "                'KDA, EloShift Players on 2012-02-28 to 2018-03-01 (7day_ago, All, more 1).csv', index_col=0)\n",
    "\n",
    "# ДФ с данными по KDA, HD, TD по герою за последние 30 дней или год\n",
    "df_KDA_heroes_30day_ago_Pro = pd.read_csv('../tabel/table from Datdota/KDA/Heroes/30day_ago/'+\n",
    "                'KDA, HD, TD... heroes on 2012-02-28 to 2018-03-01 (30day_ago, Pro, more 5).csv', index_col=0)\n",
    "# ДФ с данными по KDA, HD, TD по игроку за все время\n",
    "df_HD_TD_players_on_hero = pd.read_csv('../tabel/table from Datdota/KDA/Players/'+\n",
    "            'HD,TD,LVL,HH,GS Players on hero 2012-02-28 to 2018-03-01 (All time, All, more 5).csv', index_col=0)"
   ]
  },
  {
   "cell_type": "code",
   "execution_count": 95,
   "metadata": {},
   "outputs": [
    {
     "data": {
      "text/plain": [
       "Index(['radiant_P1_heroDamage', 'radiant_P1_towerDamage', 'radiant_P1_level',\n",
       "       'radiant_P1_heroHealing', 'radiant_P1_goldSpent',\n",
       "       'radiant_P2_heroDamage', 'radiant_P2_towerDamage', 'radiant_P2_level',\n",
       "       'radiant_P2_heroHealing', 'radiant_P2_goldSpent',\n",
       "       'radiant_P3_heroDamage', 'radiant_P3_towerDamage', 'radiant_P3_level',\n",
       "       'radiant_P3_heroHealing', 'radiant_P3_goldSpent',\n",
       "       'radiant_P4_heroDamage', 'radiant_P4_towerDamage', 'radiant_P4_level',\n",
       "       'radiant_P4_heroHealing', 'radiant_P4_goldSpent',\n",
       "       'radiant_P5_heroDamage', 'radiant_P5_towerDamage', 'radiant_P5_level',\n",
       "       'radiant_P5_heroHealing', 'radiant_P5_goldSpent', 'dire_P1_heroDamage',\n",
       "       'dire_P1_towerDamage', 'dire_P1_level', 'dire_P1_heroHealing',\n",
       "       'dire_P1_goldSpent', 'dire_P2_heroDamage', 'dire_P2_towerDamage',\n",
       "       'dire_P2_level', 'dire_P2_heroHealing', 'dire_P2_goldSpent',\n",
       "       'dire_P3_heroDamage', 'dire_P3_towerDamage', 'dire_P3_level',\n",
       "       'dire_P3_heroHealing', 'dire_P3_goldSpent', 'dire_P4_heroDamage',\n",
       "       'dire_P4_towerDamage', 'dire_P4_level', 'dire_P4_heroHealing',\n",
       "       'dire_P4_goldSpent', 'dire_P5_heroDamage', 'dire_P5_towerDamage',\n",
       "       'dire_P5_level', 'dire_P5_heroHealing', 'dire_P5_goldSpent',\n",
       "       'match_id'],\n",
       "      dtype='object')"
      ]
     },
     "execution_count": 95,
     "metadata": {},
     "output_type": "execute_result"
    }
   ],
   "source": [
    "df_HD_players_on_hero.columns"
   ]
  },
  {
   "cell_type": "code",
   "execution_count": 82,
   "metadata": {
    "collapsed": true,
    "scrolled": true
   },
   "outputs": [],
   "source": [
    "df_KDA_heroes = pd.read_csv('../tabel/table from Datdota/KDA/Heroes/'+\n",
    "                            'KDA heroes on 2012-02-28 to 2018-03-01 (6.88+, All, more 20).csv', index_col=0)"
   ]
  },
  {
   "cell_type": "code",
   "execution_count": 118,
   "metadata": {
    "collapsed": true
   },
   "outputs": [],
   "source": [
    "def calc_LN_if_players_no_play_for_hero(kda_P, gpm_P, HD_P):\n",
    "    if kda_P != 0:\n",
    "        ln_kda_gpm_HD = np.log(kda_P * gpm_P * HD_P )\n",
    "    else:\n",
    "        ln_kda_gpm_HD = 0\n",
    "    return ln_kda_gpm_HD"
   ]
  },
  {
   "cell_type": "code",
   "execution_count": 130,
   "metadata": {
    "scrolled": true
   },
   "outputs": [
    {
     "name": "stderr",
     "output_type": "stream",
     "text": [
      "C:\\Apps\\Anaconda3\\lib\\site-packages\\ipykernel_launcher.py:20: RuntimeWarning: divide by zero encountered in log\n"
     ]
    }
   ],
   "source": [
    "# Дф для отклоннеи у игроков от среднего по герою за все время у про команд\n",
    "df_delta_players_on_hero = pd.DataFrame()\n",
    "# Натуральный логариф kda*gpm*HD для игрока на герое\n",
    "df_LN_kda_gpm_HD_player = pd.DataFrame()\n",
    "df_LN_kda_gpm_HD_heroes = pd.DataFrame()\n",
    "for i in range(1,6):\n",
    "    df_delta_players_on_hero['radiant_P{}_delta_kda'.format(i)] = (df_KDA_players_on_hero['radiant_P{}_kda'.format(i)] \n",
    "                                                         - df_KDA_heroes['radiant_H{}_kda'.format(i)])\n",
    "    \n",
    "    df_LN_kda_gpm_HD_player['radiant_P{}_LN_kda_gpm_HD'.format(i)] = (df_KDA_players_on_hero[\n",
    "         'radiant_P{}_kda'.format(i)] * df_KDA_players_on_hero['radiant_P{}_gpm'.format(i)] * \n",
    "                df_HD_TD_players_on_hero['radiant_P{}_heroDamage'.format(i)])\n",
    "   \n",
    "    df_LN_kda_gpm_HD_heroes\n",
    "# df_delta_players_on_hero['radiant_P1_delta_kda'] = (df_KDA_players_on_hero['radiant_P{}_kda'.format(i)] \n",
    "#                                                          - df_KDA_heroes['radiant_H{}_kda'.format(i)])    \n",
    "df_LN_kda_gpm_HD_player = df_LN_kda_gpm_HD_player.apply(lambda x : np.log(x)).replace(np.log(0), 0)"
   ]
  },
  {
   "cell_type": "code",
   "execution_count": 129,
   "metadata": {},
   "outputs": [
    {
     "name": "stderr",
     "output_type": "stream",
     "text": [
      "C:\\Apps\\Anaconda3\\lib\\site-packages\\ipykernel_launcher.py:1: RuntimeWarning: divide by zero encountered in log\n",
      "  \"\"\"Entry point for launching an IPython kernel.\n"
     ]
    },
    {
     "data": {
      "text/html": [
       "<div>\n",
       "<style>\n",
       "    .dataframe thead tr:only-child th {\n",
       "        text-align: right;\n",
       "    }\n",
       "\n",
       "    .dataframe thead th {\n",
       "        text-align: left;\n",
       "    }\n",
       "\n",
       "    .dataframe tbody tr th {\n",
       "        vertical-align: top;\n",
       "    }\n",
       "</style>\n",
       "<table border=\"1\" class=\"dataframe\">\n",
       "  <thead>\n",
       "    <tr style=\"text-align: right;\">\n",
       "      <th></th>\n",
       "      <th>radiant_P1_LN_kda_gpm_HD</th>\n",
       "      <th>radiant_P2_LN_kda_gpm_HD</th>\n",
       "      <th>radiant_P3_LN_kda_gpm_HD</th>\n",
       "      <th>radiant_P4_LN_kda_gpm_HD</th>\n",
       "      <th>radiant_P5_LN_kda_gpm_HD</th>\n",
       "    </tr>\n",
       "  </thead>\n",
       "  <tbody>\n",
       "    <tr>\n",
       "      <th>0</th>\n",
       "      <td>0.000000</td>\n",
       "      <td>15.173979</td>\n",
       "      <td>16.117120</td>\n",
       "      <td>17.497948</td>\n",
       "      <td>17.508945</td>\n",
       "    </tr>\n",
       "    <tr>\n",
       "      <th>1</th>\n",
       "      <td>15.568278</td>\n",
       "      <td>14.491284</td>\n",
       "      <td>0.000000</td>\n",
       "      <td>17.744903</td>\n",
       "      <td>16.538792</td>\n",
       "    </tr>\n",
       "    <tr>\n",
       "      <th>2</th>\n",
       "      <td>0.000000</td>\n",
       "      <td>15.788530</td>\n",
       "      <td>15.712737</td>\n",
       "      <td>15.543463</td>\n",
       "      <td>17.296393</td>\n",
       "    </tr>\n",
       "    <tr>\n",
       "      <th>3</th>\n",
       "      <td>15.350582</td>\n",
       "      <td>18.131516</td>\n",
       "      <td>16.281937</td>\n",
       "      <td>17.168645</td>\n",
       "      <td>0.000000</td>\n",
       "    </tr>\n",
       "    <tr>\n",
       "      <th>4</th>\n",
       "      <td>17.508945</td>\n",
       "      <td>14.958886</td>\n",
       "      <td>0.000000</td>\n",
       "      <td>17.373553</td>\n",
       "      <td>15.350582</td>\n",
       "    </tr>\n",
       "    <tr>\n",
       "      <th>5</th>\n",
       "      <td>16.622095</td>\n",
       "      <td>17.508945</td>\n",
       "      <td>15.953215</td>\n",
       "      <td>15.349880</td>\n",
       "      <td>17.373553</td>\n",
       "    </tr>\n",
       "    <tr>\n",
       "      <th>6</th>\n",
       "      <td>15.475669</td>\n",
       "      <td>17.342723</td>\n",
       "      <td>0.000000</td>\n",
       "      <td>16.517820</td>\n",
       "      <td>0.000000</td>\n",
       "    </tr>\n",
       "    <tr>\n",
       "      <th>7</th>\n",
       "      <td>16.905137</td>\n",
       "      <td>0.000000</td>\n",
       "      <td>0.000000</td>\n",
       "      <td>16.785306</td>\n",
       "      <td>0.000000</td>\n",
       "    </tr>\n",
       "    <tr>\n",
       "      <th>8</th>\n",
       "      <td>0.000000</td>\n",
       "      <td>0.000000</td>\n",
       "      <td>NaN</td>\n",
       "      <td>0.000000</td>\n",
       "      <td>14.239914</td>\n",
       "    </tr>\n",
       "    <tr>\n",
       "      <th>9</th>\n",
       "      <td>16.919885</td>\n",
       "      <td>16.141692</td>\n",
       "      <td>0.000000</td>\n",
       "      <td>0.000000</td>\n",
       "      <td>15.010499</td>\n",
       "    </tr>\n",
       "    <tr>\n",
       "      <th>10</th>\n",
       "      <td>18.154415</td>\n",
       "      <td>0.000000</td>\n",
       "      <td>0.000000</td>\n",
       "      <td>0.000000</td>\n",
       "      <td>17.267794</td>\n",
       "    </tr>\n",
       "    <tr>\n",
       "      <th>11</th>\n",
       "      <td>0.000000</td>\n",
       "      <td>18.144761</td>\n",
       "      <td>15.733348</td>\n",
       "      <td>17.108177</td>\n",
       "      <td>14.843132</td>\n",
       "    </tr>\n",
       "    <tr>\n",
       "      <th>12</th>\n",
       "      <td>17.598329</td>\n",
       "      <td>14.945529</td>\n",
       "      <td>15.195173</td>\n",
       "      <td>17.492312</td>\n",
       "      <td>0.000000</td>\n",
       "    </tr>\n",
       "    <tr>\n",
       "      <th>13</th>\n",
       "      <td>16.311061</td>\n",
       "      <td>15.331560</td>\n",
       "      <td>17.677620</td>\n",
       "      <td>0.000000</td>\n",
       "      <td>0.000000</td>\n",
       "    </tr>\n",
       "    <tr>\n",
       "      <th>14</th>\n",
       "      <td>15.728787</td>\n",
       "      <td>14.750111</td>\n",
       "      <td>17.090495</td>\n",
       "      <td>17.543364</td>\n",
       "      <td>15.819257</td>\n",
       "    </tr>\n",
       "    <tr>\n",
       "      <th>15</th>\n",
       "      <td>15.485221</td>\n",
       "      <td>16.774240</td>\n",
       "      <td>15.660880</td>\n",
       "      <td>16.766057</td>\n",
       "      <td>16.646223</td>\n",
       "    </tr>\n",
       "    <tr>\n",
       "      <th>16</th>\n",
       "      <td>15.852674</td>\n",
       "      <td>18.010923</td>\n",
       "      <td>15.130249</td>\n",
       "      <td>0.000000</td>\n",
       "      <td>18.156117</td>\n",
       "    </tr>\n",
       "    <tr>\n",
       "      <th>17</th>\n",
       "      <td>0.000000</td>\n",
       "      <td>14.549632</td>\n",
       "      <td>17.575606</td>\n",
       "      <td>0.000000</td>\n",
       "      <td>15.769023</td>\n",
       "    </tr>\n",
       "    <tr>\n",
       "      <th>18</th>\n",
       "      <td>15.194399</td>\n",
       "      <td>0.000000</td>\n",
       "      <td>0.000000</td>\n",
       "      <td>0.000000</td>\n",
       "      <td>0.000000</td>\n",
       "    </tr>\n",
       "    <tr>\n",
       "      <th>19</th>\n",
       "      <td>17.230416</td>\n",
       "      <td>17.167269</td>\n",
       "      <td>15.062796</td>\n",
       "      <td>0.000000</td>\n",
       "      <td>0.000000</td>\n",
       "    </tr>\n",
       "    <tr>\n",
       "      <th>20</th>\n",
       "      <td>16.547142</td>\n",
       "      <td>15.377973</td>\n",
       "      <td>14.953087</td>\n",
       "      <td>17.756033</td>\n",
       "      <td>18.155721</td>\n",
       "    </tr>\n",
       "    <tr>\n",
       "      <th>21</th>\n",
       "      <td>15.138606</td>\n",
       "      <td>16.153098</td>\n",
       "      <td>17.433776</td>\n",
       "      <td>15.197612</td>\n",
       "      <td>18.072803</td>\n",
       "    </tr>\n",
       "    <tr>\n",
       "      <th>22</th>\n",
       "      <td>14.841407</td>\n",
       "      <td>17.256564</td>\n",
       "      <td>0.000000</td>\n",
       "      <td>0.000000</td>\n",
       "      <td>15.294626</td>\n",
       "    </tr>\n",
       "    <tr>\n",
       "      <th>23</th>\n",
       "      <td>18.159696</td>\n",
       "      <td>15.436763</td>\n",
       "      <td>15.763328</td>\n",
       "      <td>0.000000</td>\n",
       "      <td>18.050892</td>\n",
       "    </tr>\n",
       "    <tr>\n",
       "      <th>24</th>\n",
       "      <td>0.000000</td>\n",
       "      <td>0.000000</td>\n",
       "      <td>19.098625</td>\n",
       "      <td>17.256564</td>\n",
       "      <td>0.000000</td>\n",
       "    </tr>\n",
       "    <tr>\n",
       "      <th>25</th>\n",
       "      <td>0.000000</td>\n",
       "      <td>17.939792</td>\n",
       "      <td>16.101285</td>\n",
       "      <td>15.550744</td>\n",
       "      <td>15.418807</td>\n",
       "    </tr>\n",
       "    <tr>\n",
       "      <th>26</th>\n",
       "      <td>16.144920</td>\n",
       "      <td>15.216038</td>\n",
       "      <td>17.410086</td>\n",
       "      <td>14.482915</td>\n",
       "      <td>18.017585</td>\n",
       "    </tr>\n",
       "    <tr>\n",
       "      <th>27</th>\n",
       "      <td>15.336941</td>\n",
       "      <td>0.000000</td>\n",
       "      <td>0.000000</td>\n",
       "      <td>0.000000</td>\n",
       "      <td>0.000000</td>\n",
       "    </tr>\n",
       "    <tr>\n",
       "      <th>28</th>\n",
       "      <td>14.607011</td>\n",
       "      <td>16.454383</td>\n",
       "      <td>15.489171</td>\n",
       "      <td>0.000000</td>\n",
       "      <td>0.000000</td>\n",
       "    </tr>\n",
       "    <tr>\n",
       "      <th>29</th>\n",
       "      <td>15.006415</td>\n",
       "      <td>15.360967</td>\n",
       "      <td>17.315797</td>\n",
       "      <td>0.000000</td>\n",
       "      <td>17.717401</td>\n",
       "    </tr>\n",
       "    <tr>\n",
       "      <th>...</th>\n",
       "      <td>...</td>\n",
       "      <td>...</td>\n",
       "      <td>...</td>\n",
       "      <td>...</td>\n",
       "      <td>...</td>\n",
       "    </tr>\n",
       "    <tr>\n",
       "      <th>3572</th>\n",
       "      <td>0.000000</td>\n",
       "      <td>0.000000</td>\n",
       "      <td>0.000000</td>\n",
       "      <td>0.000000</td>\n",
       "      <td>0.000000</td>\n",
       "    </tr>\n",
       "    <tr>\n",
       "      <th>3573</th>\n",
       "      <td>0.000000</td>\n",
       "      <td>0.000000</td>\n",
       "      <td>0.000000</td>\n",
       "      <td>0.000000</td>\n",
       "      <td>0.000000</td>\n",
       "    </tr>\n",
       "    <tr>\n",
       "      <th>3574</th>\n",
       "      <td>0.000000</td>\n",
       "      <td>0.000000</td>\n",
       "      <td>0.000000</td>\n",
       "      <td>0.000000</td>\n",
       "      <td>0.000000</td>\n",
       "    </tr>\n",
       "    <tr>\n",
       "      <th>3575</th>\n",
       "      <td>0.000000</td>\n",
       "      <td>0.000000</td>\n",
       "      <td>0.000000</td>\n",
       "      <td>0.000000</td>\n",
       "      <td>0.000000</td>\n",
       "    </tr>\n",
       "    <tr>\n",
       "      <th>3576</th>\n",
       "      <td>0.000000</td>\n",
       "      <td>0.000000</td>\n",
       "      <td>0.000000</td>\n",
       "      <td>0.000000</td>\n",
       "      <td>0.000000</td>\n",
       "    </tr>\n",
       "    <tr>\n",
       "      <th>3577</th>\n",
       "      <td>15.860940</td>\n",
       "      <td>15.873813</td>\n",
       "      <td>0.000000</td>\n",
       "      <td>0.000000</td>\n",
       "      <td>0.000000</td>\n",
       "    </tr>\n",
       "    <tr>\n",
       "      <th>3578</th>\n",
       "      <td>0.000000</td>\n",
       "      <td>16.827872</td>\n",
       "      <td>0.000000</td>\n",
       "      <td>17.850526</td>\n",
       "      <td>15.182360</td>\n",
       "    </tr>\n",
       "    <tr>\n",
       "      <th>3579</th>\n",
       "      <td>15.934178</td>\n",
       "      <td>0.000000</td>\n",
       "      <td>0.000000</td>\n",
       "      <td>0.000000</td>\n",
       "      <td>0.000000</td>\n",
       "    </tr>\n",
       "    <tr>\n",
       "      <th>3580</th>\n",
       "      <td>0.000000</td>\n",
       "      <td>16.134001</td>\n",
       "      <td>16.301542</td>\n",
       "      <td>17.996740</td>\n",
       "      <td>15.371307</td>\n",
       "    </tr>\n",
       "    <tr>\n",
       "      <th>3581</th>\n",
       "      <td>15.215705</td>\n",
       "      <td>15.702316</td>\n",
       "      <td>15.959710</td>\n",
       "      <td>15.784935</td>\n",
       "      <td>17.237735</td>\n",
       "    </tr>\n",
       "    <tr>\n",
       "      <th>3582</th>\n",
       "      <td>15.648823</td>\n",
       "      <td>NaN</td>\n",
       "      <td>15.834785</td>\n",
       "      <td>16.821117</td>\n",
       "      <td>17.685469</td>\n",
       "    </tr>\n",
       "    <tr>\n",
       "      <th>3583</th>\n",
       "      <td>15.611407</td>\n",
       "      <td>17.528202</td>\n",
       "      <td>0.000000</td>\n",
       "      <td>17.204690</td>\n",
       "      <td>0.000000</td>\n",
       "    </tr>\n",
       "    <tr>\n",
       "      <th>3584</th>\n",
       "      <td>0.000000</td>\n",
       "      <td>15.000918</td>\n",
       "      <td>17.604805</td>\n",
       "      <td>0.000000</td>\n",
       "      <td>0.000000</td>\n",
       "    </tr>\n",
       "    <tr>\n",
       "      <th>3585</th>\n",
       "      <td>15.399303</td>\n",
       "      <td>16.689484</td>\n",
       "      <td>0.000000</td>\n",
       "      <td>0.000000</td>\n",
       "      <td>0.000000</td>\n",
       "    </tr>\n",
       "    <tr>\n",
       "      <th>3586</th>\n",
       "      <td>15.671050</td>\n",
       "      <td>17.181230</td>\n",
       "      <td>15.834626</td>\n",
       "      <td>15.385645</td>\n",
       "      <td>16.487946</td>\n",
       "    </tr>\n",
       "    <tr>\n",
       "      <th>3587</th>\n",
       "      <td>16.221223</td>\n",
       "      <td>18.391677</td>\n",
       "      <td>0.000000</td>\n",
       "      <td>0.000000</td>\n",
       "      <td>0.000000</td>\n",
       "    </tr>\n",
       "    <tr>\n",
       "      <th>3588</th>\n",
       "      <td>15.671050</td>\n",
       "      <td>17.232482</td>\n",
       "      <td>15.902960</td>\n",
       "      <td>15.961110</td>\n",
       "      <td>18.070405</td>\n",
       "    </tr>\n",
       "    <tr>\n",
       "      <th>3589</th>\n",
       "      <td>17.170735</td>\n",
       "      <td>15.571582</td>\n",
       "      <td>16.225282</td>\n",
       "      <td>0.000000</td>\n",
       "      <td>0.000000</td>\n",
       "    </tr>\n",
       "    <tr>\n",
       "      <th>3590</th>\n",
       "      <td>14.943050</td>\n",
       "      <td>17.908028</td>\n",
       "      <td>16.124665</td>\n",
       "      <td>0.000000</td>\n",
       "      <td>0.000000</td>\n",
       "    </tr>\n",
       "    <tr>\n",
       "      <th>3591</th>\n",
       "      <td>0.000000</td>\n",
       "      <td>16.136808</td>\n",
       "      <td>17.362588</td>\n",
       "      <td>14.935496</td>\n",
       "      <td>17.682225</td>\n",
       "    </tr>\n",
       "    <tr>\n",
       "      <th>3592</th>\n",
       "      <td>15.987178</td>\n",
       "      <td>17.445592</td>\n",
       "      <td>0.000000</td>\n",
       "      <td>16.113218</td>\n",
       "      <td>17.054722</td>\n",
       "    </tr>\n",
       "    <tr>\n",
       "      <th>3593</th>\n",
       "      <td>15.193256</td>\n",
       "      <td>16.423921</td>\n",
       "      <td>0.000000</td>\n",
       "      <td>0.000000</td>\n",
       "      <td>18.196730</td>\n",
       "    </tr>\n",
       "    <tr>\n",
       "      <th>3594</th>\n",
       "      <td>17.930023</td>\n",
       "      <td>15.680042</td>\n",
       "      <td>16.114332</td>\n",
       "      <td>0.000000</td>\n",
       "      <td>16.300731</td>\n",
       "    </tr>\n",
       "    <tr>\n",
       "      <th>3595</th>\n",
       "      <td>16.497353</td>\n",
       "      <td>15.414955</td>\n",
       "      <td>0.000000</td>\n",
       "      <td>16.992129</td>\n",
       "      <td>16.177645</td>\n",
       "    </tr>\n",
       "    <tr>\n",
       "      <th>3596</th>\n",
       "      <td>0.000000</td>\n",
       "      <td>15.362637</td>\n",
       "      <td>17.119554</td>\n",
       "      <td>0.000000</td>\n",
       "      <td>16.599127</td>\n",
       "    </tr>\n",
       "    <tr>\n",
       "      <th>3597</th>\n",
       "      <td>15.813485</td>\n",
       "      <td>15.362637</td>\n",
       "      <td>0.000000</td>\n",
       "      <td>16.526545</td>\n",
       "      <td>16.685949</td>\n",
       "    </tr>\n",
       "    <tr>\n",
       "      <th>3598</th>\n",
       "      <td>15.764048</td>\n",
       "      <td>0.000000</td>\n",
       "      <td>17.574435</td>\n",
       "      <td>15.275069</td>\n",
       "      <td>15.927918</td>\n",
       "    </tr>\n",
       "    <tr>\n",
       "      <th>3599</th>\n",
       "      <td>15.437616</td>\n",
       "      <td>17.705543</td>\n",
       "      <td>17.778425</td>\n",
       "      <td>16.067342</td>\n",
       "      <td>0.000000</td>\n",
       "    </tr>\n",
       "    <tr>\n",
       "      <th>3600</th>\n",
       "      <td>15.513380</td>\n",
       "      <td>17.438437</td>\n",
       "      <td>16.559640</td>\n",
       "      <td>15.991076</td>\n",
       "      <td>19.001110</td>\n",
       "    </tr>\n",
       "    <tr>\n",
       "      <th>3601</th>\n",
       "      <td>15.344898</td>\n",
       "      <td>0.000000</td>\n",
       "      <td>0.000000</td>\n",
       "      <td>17.747480</td>\n",
       "      <td>16.120920</td>\n",
       "    </tr>\n",
       "  </tbody>\n",
       "</table>\n",
       "<p>3602 rows × 5 columns</p>\n",
       "</div>"
      ],
      "text/plain": [
       "      radiant_P1_LN_kda_gpm_HD  radiant_P2_LN_kda_gpm_HD  \\\n",
       "0                     0.000000                 15.173979   \n",
       "1                    15.568278                 14.491284   \n",
       "2                     0.000000                 15.788530   \n",
       "3                    15.350582                 18.131516   \n",
       "4                    17.508945                 14.958886   \n",
       "5                    16.622095                 17.508945   \n",
       "6                    15.475669                 17.342723   \n",
       "7                    16.905137                  0.000000   \n",
       "8                     0.000000                  0.000000   \n",
       "9                    16.919885                 16.141692   \n",
       "10                   18.154415                  0.000000   \n",
       "11                    0.000000                 18.144761   \n",
       "12                   17.598329                 14.945529   \n",
       "13                   16.311061                 15.331560   \n",
       "14                   15.728787                 14.750111   \n",
       "15                   15.485221                 16.774240   \n",
       "16                   15.852674                 18.010923   \n",
       "17                    0.000000                 14.549632   \n",
       "18                   15.194399                  0.000000   \n",
       "19                   17.230416                 17.167269   \n",
       "20                   16.547142                 15.377973   \n",
       "21                   15.138606                 16.153098   \n",
       "22                   14.841407                 17.256564   \n",
       "23                   18.159696                 15.436763   \n",
       "24                    0.000000                  0.000000   \n",
       "25                    0.000000                 17.939792   \n",
       "26                   16.144920                 15.216038   \n",
       "27                   15.336941                  0.000000   \n",
       "28                   14.607011                 16.454383   \n",
       "29                   15.006415                 15.360967   \n",
       "...                        ...                       ...   \n",
       "3572                  0.000000                  0.000000   \n",
       "3573                  0.000000                  0.000000   \n",
       "3574                  0.000000                  0.000000   \n",
       "3575                  0.000000                  0.000000   \n",
       "3576                  0.000000                  0.000000   \n",
       "3577                 15.860940                 15.873813   \n",
       "3578                  0.000000                 16.827872   \n",
       "3579                 15.934178                  0.000000   \n",
       "3580                  0.000000                 16.134001   \n",
       "3581                 15.215705                 15.702316   \n",
       "3582                 15.648823                       NaN   \n",
       "3583                 15.611407                 17.528202   \n",
       "3584                  0.000000                 15.000918   \n",
       "3585                 15.399303                 16.689484   \n",
       "3586                 15.671050                 17.181230   \n",
       "3587                 16.221223                 18.391677   \n",
       "3588                 15.671050                 17.232482   \n",
       "3589                 17.170735                 15.571582   \n",
       "3590                 14.943050                 17.908028   \n",
       "3591                  0.000000                 16.136808   \n",
       "3592                 15.987178                 17.445592   \n",
       "3593                 15.193256                 16.423921   \n",
       "3594                 17.930023                 15.680042   \n",
       "3595                 16.497353                 15.414955   \n",
       "3596                  0.000000                 15.362637   \n",
       "3597                 15.813485                 15.362637   \n",
       "3598                 15.764048                  0.000000   \n",
       "3599                 15.437616                 17.705543   \n",
       "3600                 15.513380                 17.438437   \n",
       "3601                 15.344898                  0.000000   \n",
       "\n",
       "      radiant_P3_LN_kda_gpm_HD  radiant_P4_LN_kda_gpm_HD  \\\n",
       "0                    16.117120                 17.497948   \n",
       "1                     0.000000                 17.744903   \n",
       "2                    15.712737                 15.543463   \n",
       "3                    16.281937                 17.168645   \n",
       "4                     0.000000                 17.373553   \n",
       "5                    15.953215                 15.349880   \n",
       "6                     0.000000                 16.517820   \n",
       "7                     0.000000                 16.785306   \n",
       "8                          NaN                  0.000000   \n",
       "9                     0.000000                  0.000000   \n",
       "10                    0.000000                  0.000000   \n",
       "11                   15.733348                 17.108177   \n",
       "12                   15.195173                 17.492312   \n",
       "13                   17.677620                  0.000000   \n",
       "14                   17.090495                 17.543364   \n",
       "15                   15.660880                 16.766057   \n",
       "16                   15.130249                  0.000000   \n",
       "17                   17.575606                  0.000000   \n",
       "18                    0.000000                  0.000000   \n",
       "19                   15.062796                  0.000000   \n",
       "20                   14.953087                 17.756033   \n",
       "21                   17.433776                 15.197612   \n",
       "22                    0.000000                  0.000000   \n",
       "23                   15.763328                  0.000000   \n",
       "24                   19.098625                 17.256564   \n",
       "25                   16.101285                 15.550744   \n",
       "26                   17.410086                 14.482915   \n",
       "27                    0.000000                  0.000000   \n",
       "28                   15.489171                  0.000000   \n",
       "29                   17.315797                  0.000000   \n",
       "...                        ...                       ...   \n",
       "3572                  0.000000                  0.000000   \n",
       "3573                  0.000000                  0.000000   \n",
       "3574                  0.000000                  0.000000   \n",
       "3575                  0.000000                  0.000000   \n",
       "3576                  0.000000                  0.000000   \n",
       "3577                  0.000000                  0.000000   \n",
       "3578                  0.000000                 17.850526   \n",
       "3579                  0.000000                  0.000000   \n",
       "3580                 16.301542                 17.996740   \n",
       "3581                 15.959710                 15.784935   \n",
       "3582                 15.834785                 16.821117   \n",
       "3583                  0.000000                 17.204690   \n",
       "3584                 17.604805                  0.000000   \n",
       "3585                  0.000000                  0.000000   \n",
       "3586                 15.834626                 15.385645   \n",
       "3587                  0.000000                  0.000000   \n",
       "3588                 15.902960                 15.961110   \n",
       "3589                 16.225282                  0.000000   \n",
       "3590                 16.124665                  0.000000   \n",
       "3591                 17.362588                 14.935496   \n",
       "3592                  0.000000                 16.113218   \n",
       "3593                  0.000000                  0.000000   \n",
       "3594                 16.114332                  0.000000   \n",
       "3595                  0.000000                 16.992129   \n",
       "3596                 17.119554                  0.000000   \n",
       "3597                  0.000000                 16.526545   \n",
       "3598                 17.574435                 15.275069   \n",
       "3599                 17.778425                 16.067342   \n",
       "3600                 16.559640                 15.991076   \n",
       "3601                  0.000000                 17.747480   \n",
       "\n",
       "      radiant_P5_LN_kda_gpm_HD  \n",
       "0                    17.508945  \n",
       "1                    16.538792  \n",
       "2                    17.296393  \n",
       "3                     0.000000  \n",
       "4                    15.350582  \n",
       "5                    17.373553  \n",
       "6                     0.000000  \n",
       "7                     0.000000  \n",
       "8                    14.239914  \n",
       "9                    15.010499  \n",
       "10                   17.267794  \n",
       "11                   14.843132  \n",
       "12                    0.000000  \n",
       "13                    0.000000  \n",
       "14                   15.819257  \n",
       "15                   16.646223  \n",
       "16                   18.156117  \n",
       "17                   15.769023  \n",
       "18                    0.000000  \n",
       "19                    0.000000  \n",
       "20                   18.155721  \n",
       "21                   18.072803  \n",
       "22                   15.294626  \n",
       "23                   18.050892  \n",
       "24                    0.000000  \n",
       "25                   15.418807  \n",
       "26                   18.017585  \n",
       "27                    0.000000  \n",
       "28                    0.000000  \n",
       "29                   17.717401  \n",
       "...                        ...  \n",
       "3572                  0.000000  \n",
       "3573                  0.000000  \n",
       "3574                  0.000000  \n",
       "3575                  0.000000  \n",
       "3576                  0.000000  \n",
       "3577                  0.000000  \n",
       "3578                 15.182360  \n",
       "3579                  0.000000  \n",
       "3580                 15.371307  \n",
       "3581                 17.237735  \n",
       "3582                 17.685469  \n",
       "3583                  0.000000  \n",
       "3584                  0.000000  \n",
       "3585                  0.000000  \n",
       "3586                 16.487946  \n",
       "3587                  0.000000  \n",
       "3588                 18.070405  \n",
       "3589                  0.000000  \n",
       "3590                  0.000000  \n",
       "3591                 17.682225  \n",
       "3592                 17.054722  \n",
       "3593                 18.196730  \n",
       "3594                 16.300731  \n",
       "3595                 16.177645  \n",
       "3596                 16.599127  \n",
       "3597                 16.685949  \n",
       "3598                 15.927918  \n",
       "3599                  0.000000  \n",
       "3600                 19.001110  \n",
       "3601                 16.120920  \n",
       "\n",
       "[3602 rows x 5 columns]"
      ]
     },
     "execution_count": 129,
     "metadata": {},
     "output_type": "execute_result"
    }
   ],
   "source": []
  },
  {
   "cell_type": "code",
   "execution_count": 131,
   "metadata": {},
   "outputs": [
    {
     "name": "stdout",
     "output_type": "stream",
     "text": [
      "radiant_pick_1_\n"
     ]
    },
    {
     "data": {
      "image/png": "[encoded data removed]",
      "text/plain": [
       "<matplotlib.figure.Figure at 0x13d87630>"
      ]
     },
     "metadata": {},
     "output_type": "display_data"
    },
    {
     "name": "stdout",
     "output_type": "stream",
     "text": [
      "radiant_pick_2_\n"
     ]
    },
    {
     "data": {
      "image/png": "[encoded data removed]",
      "text/plain": [
       "<matplotlib.figure.Figure at 0x144e9e80>"
      ]
     },
     "metadata": {},
     "output_type": "display_data"
    },
    {
     "name": "stdout",
     "output_type": "stream",
     "text": [
      "radiant_pick_3_\n"
     ]
    },
    {
     "data": {
      "image/png": "[encoded data removed]",
      "text/plain": [
       "<matplotlib.figure.Figure at 0x13b7af60>"
      ]
     },
     "metadata": {},
     "output_type": "display_data"
    },
    {
     "name": "stdout",
     "output_type": "stream",
     "text": [
      "radiant_pick_4_\n"
     ]
    },
    {
     "data": {
      "image/png": "[encoded data removed]",
      "text/plain": [
       "<matplotlib.figure.Figure at 0x13d027f0>"
      ]
     },
     "metadata": {},
     "output_type": "display_data"
    },
    {
     "name": "stdout",
     "output_type": "stream",
     "text": [
      "radiant_pick_5_\n"
     ]
    },
    {
     "data": {
      "image/png": "[encoded data removed]",
      "text/plain": [
       "<matplotlib.figure.Figure at 0x13dd0390>"
      ]
     },
     "metadata": {},
     "output_type": "display_data"
    },
    {
     "name": "stdout",
     "output_type": "stream",
     "text": [
      "dire_pick_1_\n"
     ]
    },
    {
     "ename": "KeyError",
     "evalue": "'dire_P1_LN_kda_gpm_HD'",
     "output_type": "error",
     "traceback": [
      "\u001b[1;31m---------------------------------------------------------------------------\u001b[0m",
      "\u001b[1;31mKeyError\u001b[0m                                  Traceback (most recent call last)",
      "\u001b[1;32mC:\\Apps\\Anaconda3\\lib\\site-packages\\pandas\\core\\indexes\\base.py\u001b[0m in \u001b[0;36mget_loc\u001b[1;34m(self, key, method, tolerance)\u001b[0m\n\u001b[0;32m   2441\u001b[0m             \u001b[1;32mtry\u001b[0m\u001b[1;33m:\u001b[0m\u001b[1;33m\u001b[0m\u001b[0m\n\u001b[1;32m-> 2442\u001b[1;33m                 \u001b[1;32mreturn\u001b[0m \u001b[0mself\u001b[0m\u001b[1;33m.\u001b[0m\u001b[0m_engine\u001b[0m\u001b[1;33m.\u001b[0m\u001b[0mget_loc\u001b[0m\u001b[1;33m(\u001b[0m\u001b[0mkey\u001b[0m\u001b[1;33m)\u001b[0m\u001b[1;33m\u001b[0m\u001b[0m\n\u001b[0m\u001b[0;32m   2443\u001b[0m             \u001b[1;32mexcept\u001b[0m \u001b[0mKeyError\u001b[0m\u001b[1;33m:\u001b[0m\u001b[1;33m\u001b[0m\u001b[0m\n",
      "\u001b[1;32mpandas\\_libs\\index.pyx\u001b[0m in \u001b[0;36mpandas._libs.index.IndexEngine.get_loc\u001b[1;34m()\u001b[0m\n",
      "\u001b[1;32mpandas\\_libs\\index.pyx\u001b[0m in \u001b[0;36mpandas._libs.index.IndexEngine.get_loc\u001b[1;34m()\u001b[0m\n",
      "\u001b[1;32mpandas\\_libs\\hashtable_class_helper.pxi\u001b[0m in \u001b[0;36mpandas._libs.hashtable.PyObjectHashTable.get_item\u001b[1;34m()\u001b[0m\n",
      "\u001b[1;32mpandas\\_libs\\hashtable_class_helper.pxi\u001b[0m in \u001b[0;36mpandas._libs.hashtable.PyObjectHashTable.get_item\u001b[1;34m()\u001b[0m\n",
      "\u001b[1;31mKeyError\u001b[0m: 'dire_P1_LN_kda_gpm_HD'",
      "\nDuring handling of the above exception, another exception occurred:\n",
      "\u001b[1;31mKeyError\u001b[0m                                  Traceback (most recent call last)",
      "\u001b[1;32m<ipython-input-131-c841d6069f8b>\u001b[0m in \u001b[0;36m<module>\u001b[1;34m()\u001b[0m\n\u001b[0;32m     17\u001b[0m         \u001b[0mnum_pick\u001b[0m \u001b[1;33m=\u001b[0m \u001b[0mi\u001b[0m\u001b[1;33m\u001b[0m\u001b[0m\n\u001b[0;32m     18\u001b[0m         \u001b[0mprint\u001b[0m\u001b[1;33m(\u001b[0m\u001b[0mteam\u001b[0m \u001b[1;33m+\u001b[0m \u001b[1;34m'_pick_'\u001b[0m \u001b[1;33m+\u001b[0m \u001b[0mstr\u001b[0m\u001b[1;33m(\u001b[0m\u001b[0mnum_pick\u001b[0m\u001b[1;33m)\u001b[0m \u001b[1;33m+\u001b[0m \u001b[1;34m'_'\u001b[0m \u001b[1;33m+\u001b[0m \u001b[0mparametr\u001b[0m\u001b[1;33m)\u001b[0m\u001b[1;33m\u001b[0m\u001b[0m\n\u001b[1;32m---> 19\u001b[1;33m         \u001b[0mplt\u001b[0m\u001b[1;33m.\u001b[0m\u001b[0mhist\u001b[0m\u001b[1;33m(\u001b[0m\u001b[0mdf_LN_kda_gpm_HD_player\u001b[0m\u001b[1;33m[\u001b[0m\u001b[1;34m'{}_P{}_LN_kda_gpm_HD'\u001b[0m\u001b[1;33m.\u001b[0m\u001b[0mformat\u001b[0m\u001b[1;33m(\u001b[0m\u001b[0mteam\u001b[0m\u001b[1;33m,\u001b[0m \u001b[0mnum_pick\u001b[0m\u001b[1;33m)\u001b[0m\u001b[1;33m]\u001b[0m\u001b[1;33m.\u001b[0m\u001b[0mdropna\u001b[0m\u001b[1;33m(\u001b[0m\u001b[1;33m)\u001b[0m\u001b[1;33m,\u001b[0m \u001b[1;36m50\u001b[0m\u001b[1;33m)\u001b[0m\u001b[1;33m\u001b[0m\u001b[0m\n\u001b[0m\u001b[0;32m     20\u001b[0m         \u001b[0mplt\u001b[0m\u001b[1;33m.\u001b[0m\u001b[0mshow\u001b[0m\u001b[1;33m(\u001b[0m\u001b[1;33m)\u001b[0m\u001b[1;33m\u001b[0m\u001b[0m\n\u001b[0;32m     21\u001b[0m \u001b[1;33m\u001b[0m\u001b[0m\n",
      "\u001b[1;32mC:\\Apps\\Anaconda3\\lib\\site-packages\\pandas\\core\\frame.py\u001b[0m in \u001b[0;36m__getitem__\u001b[1;34m(self, key)\u001b[0m\n\u001b[0;32m   1962\u001b[0m             \u001b[1;32mreturn\u001b[0m \u001b[0mself\u001b[0m\u001b[1;33m.\u001b[0m\u001b[0m_getitem_multilevel\u001b[0m\u001b[1;33m(\u001b[0m\u001b[0mkey\u001b[0m\u001b[1;33m)\u001b[0m\u001b[1;33m\u001b[0m\u001b[0m\n\u001b[0;32m   1963\u001b[0m         \u001b[1;32melse\u001b[0m\u001b[1;33m:\u001b[0m\u001b[1;33m\u001b[0m\u001b[0m\n\u001b[1;32m-> 1964\u001b[1;33m             \u001b[1;32mreturn\u001b[0m \u001b[0mself\u001b[0m\u001b[1;33m.\u001b[0m\u001b[0m_getitem_column\u001b[0m\u001b[1;33m(\u001b[0m\u001b[0mkey\u001b[0m\u001b[1;33m)\u001b[0m\u001b[1;33m\u001b[0m\u001b[0m\n\u001b[0m\u001b[0;32m   1965\u001b[0m \u001b[1;33m\u001b[0m\u001b[0m\n\u001b[0;32m   1966\u001b[0m     \u001b[1;32mdef\u001b[0m \u001b[0m_getitem_column\u001b[0m\u001b[1;33m(\u001b[0m\u001b[0mself\u001b[0m\u001b[1;33m,\u001b[0m \u001b[0mkey\u001b[0m\u001b[1;33m)\u001b[0m\u001b[1;33m:\u001b[0m\u001b[1;33m\u001b[0m\u001b[0m\n",
      "\u001b[1;32mC:\\Apps\\Anaconda3\\lib\\site-packages\\pandas\\core\\frame.py\u001b[0m in \u001b[0;36m_getitem_column\u001b[1;34m(self, key)\u001b[0m\n\u001b[0;32m   1969\u001b[0m         \u001b[1;31m# get column\u001b[0m\u001b[1;33m\u001b[0m\u001b[1;33m\u001b[0m\u001b[0m\n\u001b[0;32m   1970\u001b[0m         \u001b[1;32mif\u001b[0m \u001b[0mself\u001b[0m\u001b[1;33m.\u001b[0m\u001b[0mcolumns\u001b[0m\u001b[1;33m.\u001b[0m\u001b[0mis_unique\u001b[0m\u001b[1;33m:\u001b[0m\u001b[1;33m\u001b[0m\u001b[0m\n\u001b[1;32m-> 1971\u001b[1;33m             \u001b[1;32mreturn\u001b[0m \u001b[0mself\u001b[0m\u001b[1;33m.\u001b[0m\u001b[0m_get_item_cache\u001b[0m\u001b[1;33m(\u001b[0m\u001b[0mkey\u001b[0m\u001b[1;33m)\u001b[0m\u001b[1;33m\u001b[0m\u001b[0m\n\u001b[0m\u001b[0;32m   1972\u001b[0m \u001b[1;33m\u001b[0m\u001b[0m\n\u001b[0;32m   1973\u001b[0m         \u001b[1;31m# duplicate columns & possible reduce dimensionality\u001b[0m\u001b[1;33m\u001b[0m\u001b[1;33m\u001b[0m\u001b[0m\n",
      "\u001b[1;32mC:\\Apps\\Anaconda3\\lib\\site-packages\\pandas\\core\\generic.py\u001b[0m in \u001b[0;36m_get_item_cache\u001b[1;34m(self, item)\u001b[0m\n\u001b[0;32m   1643\u001b[0m         \u001b[0mres\u001b[0m \u001b[1;33m=\u001b[0m \u001b[0mcache\u001b[0m\u001b[1;33m.\u001b[0m\u001b[0mget\u001b[0m\u001b[1;33m(\u001b[0m\u001b[0mitem\u001b[0m\u001b[1;33m)\u001b[0m\u001b[1;33m\u001b[0m\u001b[0m\n\u001b[0;32m   1644\u001b[0m         \u001b[1;32mif\u001b[0m \u001b[0mres\u001b[0m \u001b[1;32mis\u001b[0m \u001b[1;32mNone\u001b[0m\u001b[1;33m:\u001b[0m\u001b[1;33m\u001b[0m\u001b[0m\n\u001b[1;32m-> 1645\u001b[1;33m             \u001b[0mvalues\u001b[0m \u001b[1;33m=\u001b[0m \u001b[0mself\u001b[0m\u001b[1;33m.\u001b[0m\u001b[0m_data\u001b[0m\u001b[1;33m.\u001b[0m\u001b[0mget\u001b[0m\u001b[1;33m(\u001b[0m\u001b[0mitem\u001b[0m\u001b[1;33m)\u001b[0m\u001b[1;33m\u001b[0m\u001b[0m\n\u001b[0m\u001b[0;32m   1646\u001b[0m             \u001b[0mres\u001b[0m \u001b[1;33m=\u001b[0m \u001b[0mself\u001b[0m\u001b[1;33m.\u001b[0m\u001b[0m_box_item_values\u001b[0m\u001b[1;33m(\u001b[0m\u001b[0mitem\u001b[0m\u001b[1;33m,\u001b[0m \u001b[0mvalues\u001b[0m\u001b[1;33m)\u001b[0m\u001b[1;33m\u001b[0m\u001b[0m\n\u001b[0;32m   1647\u001b[0m             \u001b[0mcache\u001b[0m\u001b[1;33m[\u001b[0m\u001b[0mitem\u001b[0m\u001b[1;33m]\u001b[0m \u001b[1;33m=\u001b[0m \u001b[0mres\u001b[0m\u001b[1;33m\u001b[0m\u001b[0m\n",
      "\u001b[1;32mC:\\Apps\\Anaconda3\\lib\\site-packages\\pandas\\core\\internals.py\u001b[0m in \u001b[0;36mget\u001b[1;34m(self, item, fastpath)\u001b[0m\n\u001b[0;32m   3588\u001b[0m \u001b[1;33m\u001b[0m\u001b[0m\n\u001b[0;32m   3589\u001b[0m             \u001b[1;32mif\u001b[0m \u001b[1;32mnot\u001b[0m \u001b[0misnull\u001b[0m\u001b[1;33m(\u001b[0m\u001b[0mitem\u001b[0m\u001b[1;33m)\u001b[0m\u001b[1;33m:\u001b[0m\u001b[1;33m\u001b[0m\u001b[0m\n\u001b[1;32m-> 3590\u001b[1;33m                 \u001b[0mloc\u001b[0m \u001b[1;33m=\u001b[0m \u001b[0mself\u001b[0m\u001b[1;33m.\u001b[0m\u001b[0mitems\u001b[0m\u001b[1;33m.\u001b[0m\u001b[0mget_loc\u001b[0m\u001b[1;33m(\u001b[0m\u001b[0mitem\u001b[0m\u001b[1;33m)\u001b[0m\u001b[1;33m\u001b[0m\u001b[0m\n\u001b[0m\u001b[0;32m   3591\u001b[0m             \u001b[1;32melse\u001b[0m\u001b[1;33m:\u001b[0m\u001b[1;33m\u001b[0m\u001b[0m\n\u001b[0;32m   3592\u001b[0m                 \u001b[0mindexer\u001b[0m \u001b[1;33m=\u001b[0m \u001b[0mnp\u001b[0m\u001b[1;33m.\u001b[0m\u001b[0marange\u001b[0m\u001b[1;33m(\u001b[0m\u001b[0mlen\u001b[0m\u001b[1;33m(\u001b[0m\u001b[0mself\u001b[0m\u001b[1;33m.\u001b[0m\u001b[0mitems\u001b[0m\u001b[1;33m)\u001b[0m\u001b[1;33m)\u001b[0m\u001b[1;33m[\u001b[0m\u001b[0misnull\u001b[0m\u001b[1;33m(\u001b[0m\u001b[0mself\u001b[0m\u001b[1;33m.\u001b[0m\u001b[0mitems\u001b[0m\u001b[1;33m)\u001b[0m\u001b[1;33m]\u001b[0m\u001b[1;33m\u001b[0m\u001b[0m\n",
      "\u001b[1;32mC:\\Apps\\Anaconda3\\lib\\site-packages\\pandas\\core\\indexes\\base.py\u001b[0m in \u001b[0;36mget_loc\u001b[1;34m(self, key, method, tolerance)\u001b[0m\n\u001b[0;32m   2442\u001b[0m                 \u001b[1;32mreturn\u001b[0m \u001b[0mself\u001b[0m\u001b[1;33m.\u001b[0m\u001b[0m_engine\u001b[0m\u001b[1;33m.\u001b[0m\u001b[0mget_loc\u001b[0m\u001b[1;33m(\u001b[0m\u001b[0mkey\u001b[0m\u001b[1;33m)\u001b[0m\u001b[1;33m\u001b[0m\u001b[0m\n\u001b[0;32m   2443\u001b[0m             \u001b[1;32mexcept\u001b[0m \u001b[0mKeyError\u001b[0m\u001b[1;33m:\u001b[0m\u001b[1;33m\u001b[0m\u001b[0m\n\u001b[1;32m-> 2444\u001b[1;33m                 \u001b[1;32mreturn\u001b[0m \u001b[0mself\u001b[0m\u001b[1;33m.\u001b[0m\u001b[0m_engine\u001b[0m\u001b[1;33m.\u001b[0m\u001b[0mget_loc\u001b[0m\u001b[1;33m(\u001b[0m\u001b[0mself\u001b[0m\u001b[1;33m.\u001b[0m\u001b[0m_maybe_cast_indexer\u001b[0m\u001b[1;33m(\u001b[0m\u001b[0mkey\u001b[0m\u001b[1;33m)\u001b[0m\u001b[1;33m)\u001b[0m\u001b[1;33m\u001b[0m\u001b[0m\n\u001b[0m\u001b[0;32m   2445\u001b[0m \u001b[1;33m\u001b[0m\u001b[0m\n\u001b[0;32m   2446\u001b[0m         \u001b[0mindexer\u001b[0m \u001b[1;33m=\u001b[0m \u001b[0mself\u001b[0m\u001b[1;33m.\u001b[0m\u001b[0mget_indexer\u001b[0m\u001b[1;33m(\u001b[0m\u001b[1;33m[\u001b[0m\u001b[0mkey\u001b[0m\u001b[1;33m]\u001b[0m\u001b[1;33m,\u001b[0m \u001b[0mmethod\u001b[0m\u001b[1;33m=\u001b[0m\u001b[0mmethod\u001b[0m\u001b[1;33m,\u001b[0m \u001b[0mtolerance\u001b[0m\u001b[1;33m=\u001b[0m\u001b[0mtolerance\u001b[0m\u001b[1;33m)\u001b[0m\u001b[1;33m\u001b[0m\u001b[0m\n",
      "\u001b[1;32mpandas\\_libs\\index.pyx\u001b[0m in \u001b[0;36mpandas._libs.index.IndexEngine.get_loc\u001b[1;34m()\u001b[0m\n",
      "\u001b[1;32mpandas\\_libs\\index.pyx\u001b[0m in \u001b[0;36mpandas._libs.index.IndexEngine.get_loc\u001b[1;34m()\u001b[0m\n",
      "\u001b[1;32mpandas\\_libs\\hashtable_class_helper.pxi\u001b[0m in \u001b[0;36mpandas._libs.hashtable.PyObjectHashTable.get_item\u001b[1;34m()\u001b[0m\n",
      "\u001b[1;32mpandas\\_libs\\hashtable_class_helper.pxi\u001b[0m in \u001b[0;36mpandas._libs.hashtable.PyObjectHashTable.get_item\u001b[1;34m()\u001b[0m\n",
      "\u001b[1;31mKeyError\u001b[0m: 'dire_P1_LN_kda_gpm_HD'"
     ]
    }
   ],
   "source": [
    "\n",
    "df = df_delta_players_on_hero.dropna()\n",
    "\n",
    "# plt.hist(df['radiant_P1_delta_kda'], 100)\n",
    "# plt.show()\n",
    "# plt.hist(df['radiant_P2_delta_kda'], 100)\n",
    "# plt.show()\n",
    "# plt.hist(df['radiant_P3_delta_kda'], 100)\n",
    "# plt.show()\n",
    "# plt.hist(df['radiant_P4_delta_kda'], 100)\n",
    "# plt.show()\n",
    "# plt.hist(df['radiant_P5_delta_kda'], 100)\n",
    "# plt.show()\n",
    "for team in ['radiant', 'dire']:\n",
    "    for i in range(1,6):\n",
    "        parametr = ''\n",
    "        num_pick = i\n",
    "        print(team + '_pick_' + str(num_pick) + '_' + parametr)\n",
    "        plt.hist(df_LN_kda_gpm_HD_player['{}_P{}_LN_kda_gpm_HD'.format(team, num_pick)].dropna(), 50)\n",
    "        plt.show()\n",
    "\n",
    "#         plt.hist(df_KDA_players_on_hero['{}_P{}_{}'.format(team, num_pick, parametr)][\n",
    "#             df_KDA_players_on_hero['{}_P{}_{}'.format(team, num_pick, parametr)] != 0], 50)\n",
    "#         plt.show()"
   ]
  },
  {
   "cell_type": "code",
   "execution_count": 68,
   "metadata": {
    "collapsed": true
   },
   "outputs": [
    {
     "data": {
      "text/plain": [
       "3       2.818519\n",
       "4       5.675000\n",
       "5       4.357143\n",
       "6       2.649573\n",
       "7       4.113208\n",
       "9       3.269841\n",
       "10      7.857143\n",
       "12      4.895954\n",
       "13      3.250000\n",
       "14      3.254386\n",
       "15      3.028736\n",
       "16      2.405405\n",
       "18      2.777778\n",
       "19      3.875000\n",
       "20      4.169492\n",
       "21      3.106849\n",
       "22      1.863636\n",
       "23      6.829268\n",
       "26      2.924138\n",
       "27      2.156863\n",
       "28      2.464481\n",
       "29      3.545455\n",
       "32      4.541667\n",
       "33      4.398089\n",
       "34      2.960000\n",
       "36      3.319231\n",
       "37      2.611691\n",
       "38      5.658065\n",
       "39      1.972222\n",
       "40      3.545455\n",
       "          ...   \n",
       "3548    1.747748\n",
       "3549    3.576471\n",
       "3550    2.939597\n",
       "3551    3.510204\n",
       "3553    2.939597\n",
       "3554    3.315789\n",
       "3555    4.989474\n",
       "3556    3.352941\n",
       "3557    2.783251\n",
       "3558    2.716535\n",
       "3577    2.444444\n",
       "3579    2.694915\n",
       "3581    2.554054\n",
       "3582    2.785714\n",
       "3583    2.349515\n",
       "3585    3.008065\n",
       "3586    2.820513\n",
       "3587    2.755784\n",
       "3588    2.820513\n",
       "3589    2.829787\n",
       "3590    2.358852\n",
       "3592    2.964467\n",
       "3593    2.396465\n",
       "3594    6.846154\n",
       "3595    3.581395\n",
       "3597    2.970149\n",
       "3598    3.051570\n",
       "3599    2.857749\n",
       "3600    2.738386\n",
       "3601    2.024229\n",
       "Name: radiant_P1_kda, Length: 2574, dtype: float64"
      ]
     },
     "execution_count": 68,
     "metadata": {},
     "output_type": "execute_result"
    }
   ],
   "source": [
    "df_KDA_players_on_hero['radiant_P1_kda'][df_KDA_players_on_hero['radiant_P1_kda'] != 0]\n"
   ]
  },
  {
   "cell_type": "markdown",
   "metadata": {},
   "source": [
    "# Создание разницы за 7 дней в рейтинге команд"
   ]
  },
  {
   "cell_type": "code",
   "execution_count": 5,
   "metadata": {
    "collapsed": true
   },
   "outputs": [],
   "source": [
    "# df_rating_teams_Premium['radiant_delta7day_elo32'] = (df_rating_teams_Premium['radiant_current_elo32'] - \n",
    "#                                                 df_rating_teams_Premium['radiant_sevenDayAgo_elo32'])\n",
    "# df_rating_teams_Premium['radiant_delta7day_elo64'] = (df_rating_teams_Premium['radiant_current_elo64'] - \n",
    "#                                                 df_rating_teams_Premium['radiant_sevenDayAgo_elo64'])\n",
    "\n",
    "# df_rating_teams_Premium['dire_delta7day_elo32'] = (df_rating_teams_Premium['dire_current_elo32'] - \n",
    "#                                                 df_rating_teams_Premium['dire_sevenDayAgo_elo32'])\n",
    "# df_rating_teams_Premium['dire_delta7day_elo64'] = (df_rating_teams_Premium['dire_current_elo64'] - \n",
    "#                                                 df_rating_teams_Premium['dire_sevenDayAgo_elo64'])\n",
    "\n",
    "# df_rating_teams_Premium['radiant_delta30day_elo32'] = (df_rating_teams_Premium['radiant_current_elo32'] - \n",
    "#                                                 df_rating_teams_Premium['radiant_thirtyDayAgo_elo32'])\n",
    "# df_rating_teams_Premium['radiant_delta30day_elo64'] = (df_rating_teams_Premium['radiant_current_elo64'] - \n",
    "#                                                 df_rating_teams_Premium['radiant_thirtyDayAgo_elo64'])\n",
    "\n",
    "# df_rating_teams_Premium['dire_delta30day_elo32'] = (df_rating_teams_Premium['dire_current_elo32'] - \n",
    "#                                                 df_rating_teams_Premium['dire_thirtyDayAgo_elo32'])\n",
    "# df_rating_teams_Premium['dire_delta30day_elo64'] = (df_rating_teams_Premium['dire_current_elo64'] - \n",
    "#                                                 df_rating_teams_Premium['dire_thirtyDayAgo_elo64'])\n",
    "\n",
    "# df_rating_teams_Premium['radiant_delta30day_elo32'] = (df_rating_teams_Premium['radiant_current_elo32'] - \n",
    "#                                                 df_rating_teams_Premium['radiant_thirtyDayAgo_elo32'])\n",
    "# df_rating_teams_Premium['radiant_delta30day_elo64'] = (df_rating_teams_Premium['radiant_current_elo64'] - \n",
    "#                                                 df_rating_teams_Premium['radiant_thirtyDayAgo_elo64'])\n",
    "\n",
    "# df_rating_teams_Premium['dire_delta30day_elo32'] = (df_rating_teams_Premium['dire_current_elo32'] - \n",
    "#                                                 df_rating_teams_Premium['dire_thirtyDayAgo_elo32'])\n",
    "# df_rating_teams_Premium['dire_delta30day_elo64'] = (df_rating_teams_Premium['dire_current_elo64'] - \n",
    "#                                                 df_rating_teams_Premium['dire_thirtyDayAgo_elo64'])"
   ]
  },
  {
   "cell_type": "markdown",
   "metadata": {},
   "source": [
    "# Подгрузка данных по фичам с геряоми"
   ]
  },
  {
   "cell_type": "code",
   "execution_count": 6,
   "metadata": {
    "collapsed": true
   },
   "outputs": [],
   "source": [
    "# дф с матчами где по каждому героя своя фича (Премиум)\n",
    "df_features_Heroes = pd.read_csv('../tabel/table from Datdota/Features Heroes/'+\n",
    "                                      'PREMIUM on 2012-02-28 to 2018-03-01.csv', index_col=0)\n",
    "# дф с матчами где фичи тип атаки, дизейблер, нюкер, керри и другие (Премиум)\n",
    "df_features_type_Heroes = pd.read_csv('../tabel/table from Datdota/Features carry, support, necker/'+\n",
    "                                      'PREMIUM on 2012-02-28 to 2018-03-01.csv', index_col=0)\n",
    "# дф с предсказаниями по алгоритму, обученому только на рейтинге команд\n",
    "df_predict_for_teams_rating = pd.read_csv('../tabel/table from Datdota/Rating teams/'+\n",
    "                                      'Predict for rating teams on 2012-02-28 to 2018-03-01.csv', index_col=0)\n"
   ]
  },
  {
   "cell_type": "markdown",
   "metadata": {},
   "source": [
    "# Подгрузка данных с Премиум матчей"
   ]
  },
  {
   "cell_type": "code",
   "execution_count": 91,
   "metadata": {
    "collapsed": true
   },
   "outputs": [],
   "source": [
    "# # ДФ с контрпиками (head-to-head, PRO, >20) с 6,74-7,12 и до 2018.10.01\n",
    "# df_contrpick_Premium = pd.read_csv('../tabel/table from Datdota/Heah-to-head Contrpicks/'+\n",
    "#                 'data from 6.74-last. on 2012-02-28 to 2018-03-01 (PreDay, Pro, more 20).csv', index_col=0)\n",
    "\n",
    "# # ДФ с метовыми героями (PRO, >10)\n",
    "# df_meta_heroes_premium = pd.read_csv('../tabel/table from Datdota/AvgElo Meta and Signatures Heroes/'+\n",
    "#                              'Meta on 2012-02-28 to 2018-03-01 (TwoMonthAgo, Pro, more 20).csv', index_col=0)"
   ]
  },
  {
   "cell_type": "code",
   "execution_count": 11,
   "metadata": {
    "collapsed": true
   },
   "outputs": [],
   "source": [
    "# main_Premium = get_main_df_for_predict_for_ProTeams(df_rating_teams_Premium, df_contrpick_Premium, df_meta_heroes_premium)\n"
   ]
  },
  {
   "cell_type": "code",
   "execution_count": 12,
   "metadata": {
    "collapsed": true
   },
   "outputs": [],
   "source": [
    "# main_Premium.columns"
   ]
  },
  {
   "cell_type": "markdown",
   "metadata": {},
   "source": [
    "# Подгрузка и сборка всех данных до 26 апреля "
   ]
  },
  {
   "cell_type": "code",
   "execution_count": 139,
   "metadata": {
    "collapsed": true
   },
   "outputs": [],
   "source": [
    "# # # Соединить все данные и бучить на всех\n",
    "# df_rating_teams_Premium = pd.concat([df_rating_teams_Premium, pd.read_csv('../tabel/table from Datdota/Rating teams/'+\n",
    "#                                       'PREMIUM on 2018-03-01 to 2018-05-14 (PreDay).csv', index_col=0)])\n",
    "# # df_rating_teams_Premium = pd.concat([df_rating_teams_Premium, pd.read_csv('../tabel/table from Datdota/Rating teams/'+\n",
    "# #                                       'PREMIUM on 2018-04-08 to 2018-04-25 (PreDay).csv', index_col=0)])\n",
    "\n",
    "# df_contrpick = pd.concat([df_contrpick, pd.read_csv('../tabel/table from Datdota/Heah-to-head Contrpicks/'+\n",
    "#                 'data from 6.74-last. on 2018-03-01 to 2018-05-14 (PreDay, All, more 20).csv', index_col=0)])\n",
    "# # df_contrpick = pd.concat([df_contrpick, pd.read_csv('../tabel/table from Datdota/Heah-to-head Contrpicks/'+\n",
    "# #                 'data from 6.74-last. on 2018-04-08 to 2018-04-25 (PreDay, All, more 20).csv', index_col=0)])\n",
    "\n",
    "# df_meta_heroes = pd.concat([df_meta_heroes, pd.read_csv('../tabel/table from Datdota/AvgElo Meta and Signatures Heroes/'+\n",
    "#                              'Meta on 2018-03-01 to 2018-05-14 (TwoMonthAgo, All, more 20).csv', index_col=0)])\n",
    "# # df_meta_heroes = pd.concat([df_meta_heroes, pd.read_csv('../tabel/table from Datdota/AvgElo Meta and Signatures Heroes/'+\n",
    "# #                              'Meta on 2018-04-08 to 2018-04-25 (TwoMonthAgo, All, more 20).csv', index_col=0)])\n",
    "\n",
    "# df_signatures_heroes = pd.concat([df_signatures_heroes, pd.read_csv('../tabel/table from Datdota/AvgElo Meta and Signatures Heroes/'+\n",
    "#                                 'Players Signatures on 2018-03-01 to 2018-05-14 (PreDay, All, more 5).csv', index_col=0)])\n",
    "# # df_signatures_heroes = pd.concat([df_signatures_heroes, pd.read_csv('../tabel/table from Datdota/AvgElo Meta and Signatures Heroes/'+\n",
    "# #                                 'Players Signatures on 2018-04-08 to 2018-04-25 (PreDay, All, more 5).csv', index_col=0)])\n",
    "\n",
    "# df_features_Heroes = pd.concat([df_features_Heroes, pd.read_csv('../tabel/table from Datdota/Features Heroes/'+\n",
    "#                                       'PREMIUM on 2018-03-01 to 2018-05-14.csv', index_col=0)])\n",
    "# # df_features_Heroes = pd.concat([df_features_Heroes, pd.read_csv('../tabel/table from Datdota/Features Heroes/'+\n",
    "# #                                       'PREMIUM on 2018-04-08 to 2018-04-25.csv', index_col=0)])\n",
    "\n",
    "# df_predict_for_teams_rating = pd.concat([df_predict_for_teams_rating, pd.read_csv('../tabel/table from Datdota/Rating teams/'+\n",
    "#                                       'Predict for rating teams on 2018-03-01 to 2018-05-14.csv', index_col=0)])\n",
    "# # df_predict_for_teams_rating = pd.concat([df_predict_for_teams_rating, pd.read_csv('../tabel/table from Datdota/Rating teams/'+\n",
    "# #                                       'Predict for rating teams on 2018-04-08 to 2018-04-25.csv', index_col=0)])\n",
    "\n",
    "# # как герой отыгрывает последние 7 дней\n",
    "# df_meta_7day_ago = pd.concat([df_meta_7day_ago, pd.read_csv('../tabel/table from Datdota/AvgElo Meta and Signatures Heroes/'+\n",
    "#                              'Meta on 2018-03-01 to 2018-05-14 (7DayAgo, All, more 10).csv', index_col=0)])\n",
    "\n",
    "# # как игрок играет последние 7 жней\n",
    "# df_eloShift_players_7day_ago = pd.concat([df_eloShift_players_7day_ago, pd.read_csv('../tabel/table from Datdota/AvgElo Meta and Signatures Heroes/'+\n",
    "#                                    'EloShift Players on 2018-03-01 to 2018-05-14 (7day_ago, All, more 1).csv', index_col=0)])"
   ]
  },
  {
   "cell_type": "markdown",
   "metadata": {},
   "source": [
    "# Создание обучающих и тестовых данных"
   ]
  },
  {
   "cell_type": "code",
   "execution_count": 51,
   "metadata": {},
   "outputs": [
    {
     "name": "stdout",
     "output_type": "stream",
     "text": [
      "3602\n",
      "3602\n"
     ]
    },
    {
     "name": "stderr",
     "output_type": "stream",
     "text": [
      "C:\\Apps\\Anaconda3\\lib\\site-packages\\ipykernel_launcher.py:36: RuntimeWarning: divide by zero encountered in log\n",
      "C:\\Apps\\Anaconda3\\lib\\site-packages\\ipykernel_launcher.py:47: RuntimeWarning: divide by zero encountered in log\n",
      "C:\\Apps\\Anaconda3\\lib\\site-packages\\ipykernel_launcher.py:60: RuntimeWarning: divide by zero encountered in log\n",
      "C:\\Apps\\Anaconda3\\lib\\site-packages\\ipykernel_launcher.py:66: RuntimeWarning: divide by zero encountered in log\n"
     ]
    }
   ],
   "source": [
    "main = get_main_df_for_predict(df_rating_teams_Premium, df_contrpick, df_meta_heroes, \n",
    "            df_features_Heroes, df_features_type_Heroes, df_predict_for_teams_rating,\n",
    "            df_meta_7day_ago, \n",
    "            df_KDA_heroes, df_KDA_heroes_7day_ago, df_KDA_players_on_hero, df_KDA_players_7day_ago,\n",
    "            df_KDA_heroes_30day_ago_Pro, df_meta_couples_heroes)"
   ]
  },
  {
   "cell_type": "code",
   "execution_count": 52,
   "metadata": {},
   "outputs": [
    {
     "data": {
      "text/plain": [
       "3589"
      ]
     },
     "execution_count": 52,
     "metadata": {},
     "output_type": "execute_result"
    }
   ],
   "source": [
    "# main = pd.merge(main, main_Premium, left_on='match_id', right_on='match_id',how='left')\n",
    "# добалвение предсказаний за 7 дней\n",
    "# main = pd.merge(main, df_predict_7day_ago, left_on='match_id', right_on='match_id',how='left')\n",
    "main = main.dropna()\n",
    "len(main)"
   ]
  },
  {
   "cell_type": "code",
   "execution_count": 53,
   "metadata": {},
   "outputs": [
    {
     "data": {
      "text/plain": [
       "Index(['radiant_H1_elo_vs_enemies', 'radiant_H2_elo_vs_enemies',\n",
       "       'radiant_H3_elo_vs_enemies', 'radiant_H4_elo_vs_enemies',\n",
       "       'radiant_H5_elo_vs_enemies', 'dire_H1_elo_vs_enemies',\n",
       "       'dire_H2_elo_vs_enemies', 'dire_H3_elo_vs_enemies',\n",
       "       'dire_H4_elo_vs_enemies', 'dire_H5_elo_vs_enemies', 'radiant_H1_AvgElo',\n",
       "       'radiant_H2_AvgElo', 'radiant_H3_AvgElo', 'radiant_H4_AvgElo',\n",
       "       'radiant_H5_AvgElo', 'dire_H1_AvgElo', 'dire_H2_AvgElo',\n",
       "       'dire_H3_AvgElo', 'dire_H4_AvgElo', 'dire_H5_AvgElo', 'Predict',\n",
       "       'radiant_H1_LN_heroes', 'radiant_H2_LN_heroes', 'radiant_H3_LN_heroes',\n",
       "       'radiant_H4_LN_heroes', 'radiant_H5_LN_heroes', 'dire_H1_LN_heroes',\n",
       "       'dire_H2_LN_heroes', 'dire_H3_LN_heroes', 'dire_H4_LN_heroes',\n",
       "       'dire_H5_LN_heroes', 'radiant_H1_LN_heroes_7day_ago',\n",
       "       'radiant_H2_LN_heroes_7day_ago', 'radiant_H3_LN_heroes_7day_ago',\n",
       "       'radiant_H4_LN_heroes_7day_ago', 'radiant_H5_LN_heroes_7day_ago',\n",
       "       'dire_H1_LN_heroes_7day_ago', 'dire_H2_LN_heroes_7day_ago',\n",
       "       'dire_H3_LN_heroes_7day_ago', 'dire_H4_LN_heroes_7day_ago',\n",
       "       'dire_H5_LN_heroes_7day_ago', 'radiant_H1_LN_heroes_30day_ago',\n",
       "       'radiant_H2_LN_heroes_30day_ago', 'radiant_H3_LN_heroes_30day_ago',\n",
       "       'radiant_H4_LN_heroes_30day_ago', 'radiant_H5_LN_heroes_30day_ago',\n",
       "       'dire_H1_LN_heroes_30day_ago', 'dire_H2_LN_heroes_30day_ago',\n",
       "       'dire_H3_LN_heroes_30day_ago', 'dire_H4_LN_heroes_30day_ago',\n",
       "       'dire_H5_LN_heroes_30day_ago', 'radiant_H1_LN_heroes_30day_ago_HD*kda',\n",
       "       'radiant_H2_LN_heroes_30day_ago_HD*kda',\n",
       "       'radiant_H3_LN_heroes_30day_ago_HD*kda',\n",
       "       'radiant_H4_LN_heroes_30day_ago_HD*kda',\n",
       "       'radiant_H5_LN_heroes_30day_ago_HD*kda',\n",
       "       'dire_H1_LN_heroes_30day_ago_HD*kda',\n",
       "       'dire_H2_LN_heroes_30day_ago_HD*kda',\n",
       "       'dire_H3_LN_heroes_30day_ago_HD*kda',\n",
       "       'dire_H4_LN_heroes_30day_ago_HD*kda',\n",
       "       'dire_H5_LN_heroes_30day_ago_HD*kda', 'radiant_elo_vs_enemies',\n",
       "       'radiant_H_AvgElo', 'dire_H_AvgElo', 'H_AvgElo',\n",
       "       'radiant_LN_heroes_30day_ago', 'dire_LN_heroes_30day_ago',\n",
       "       'LN_heroes_30day_ago', 'radiant_LN_heroes_30day_ago_HD*kda',\n",
       "       'dire_LN_heroes_30day_ago_HD*kda', 'LN_heroes_30day_ago_HD*kda'],\n",
       "      dtype='object')"
      ]
     },
     "execution_count": 53,
     "metadata": {},
     "output_type": "execute_result"
    }
   ],
   "source": [
    "# сделать обучающие данные и ответы\n",
    "X = main.drop(['radiant_win', 'match_id'], axis=1)  # ],axis=1) #\n",
    "\n",
    "y = main['radiant_win']\n",
    "#-------------------------------------\n",
    "\n",
    "# ---------------------------------------\n",
    "# СДЕЛАТЬ 1 или 0 вместо true false\n",
    "y = y.astype(int)\n",
    "\n",
    "# деление на тестовые и обучающую выборку\n",
    "X_train, X_test, y_train, y_test = train_test_split(X,y, random_state=0)\n",
    "X_train.columns"
   ]
  },
  {
   "cell_type": "code",
   "execution_count": 33,
   "metadata": {
    "collapsed": true
   },
   "outputs": [],
   "source": [
    "# select = SelectPercentile(percentile=80)\n",
    "# select.fit(X_train, y_train)\n",
    "# X_train_selected = select.transform(X_train)\n"
   ]
  },
  {
   "cell_type": "markdown",
   "metadata": {
    "collapsed": true
   },
   "source": [
    "# Обучение"
   ]
  },
  {
   "cell_type": "code",
   "execution_count": 54,
   "metadata": {},
   "outputs": [
    {
     "name": "stdout",
     "output_type": "stream",
     "text": [
      "             precision    recall  f1-score   support\n",
      "\n",
      "   dire_win       0.73      0.70      0.71       438\n",
      "radiant_win       0.73      0.75      0.74       460\n",
      "\n",
      "avg / total       0.73      0.73      0.73       898\n",
      "\n",
      "AUC для градиентного бустинга - 0.800\n",
      "Wall time: 1.09 s\n"
     ]
    }
   ],
   "source": [
    "%%time\n",
    "import xgboost as xgb\n",
    "# fit model no training data\n",
    "XGB = xgb.XGBClassifier()\n",
    "XGB.fit(X_train, y_train)\n",
    "print(classification_report(y_test, XGB.predict(X_test), target_names=['dire_win', 'radiant_win']))\n",
    "\n",
    "gb_auc = metrics.roc_auc_score(y_test, XGB.predict_proba(X_test)[:,1])\n",
    "print('AUC для градиентного бустинга - {:.3f}'.format(gb_auc))"
   ]
  },
  {
   "cell_type": "code",
   "execution_count": 132,
   "metadata": {},
   "outputs": [
    {
     "ename": "SyntaxError",
     "evalue": "invalid syntax (<ipython-input-132-a095bcfa5882>, line 1)",
     "output_type": "error",
     "traceback": [
      "\u001b[1;36m  File \u001b[1;32m\"<ipython-input-132-a095bcfa5882>\"\u001b[1;36m, line \u001b[1;32m1\u001b[0m\n\u001b[1;33m    precision    recall  f1-score   support\u001b[0m\n\u001b[1;37m                      ^\u001b[0m\n\u001b[1;31mSyntaxError\u001b[0m\u001b[1;31m:\u001b[0m invalid syntax\n"
     ]
    }
   ],
   "source": [
    "             precision    recall  f1-score   support\n",
    "\n",
    "   dire_win       0.73      0.71      0.72       414\n",
    "radiant_win       0.74      0.76      0.75       449\n",
    "\n",
    "avg / total       0.73      0.73      0.73       863\n",
    "\n",
    "AUC для градиентного бустинга - 0.804\n",
    "Wall time: 1.51 s"
   ]
  },
  {
   "cell_type": "markdown",
   "metadata": {
    "collapsed": true
   },
   "source": [
    "# Чтобы не двигать вниз файла перенес сюды для Контрольной проверки"
   ]
  },
  {
   "cell_type": "code",
   "execution_count": 55,
   "metadata": {},
   "outputs": [
    {
     "name": "stdout",
     "output_type": "stream",
     "text": [
      "956\n",
      "956\n",
      "944\n",
      "             precision    recall  f1-score   support\n",
      "\n",
      "   dire_win       0.61      0.63      0.62       413\n",
      "radiant_win       0.71      0.69      0.70       531\n",
      "\n",
      "avg / total       0.66      0.66      0.66       944\n",
      "\n",
      "AUC для градиентного бустинга - 0.726\n"
     ]
    },
    {
     "name": "stderr",
     "output_type": "stream",
     "text": [
      "C:\\Apps\\Anaconda3\\lib\\site-packages\\ipykernel_launcher.py:25: RuntimeWarning: divide by zero encountered in log\n",
      "C:\\Apps\\Anaconda3\\lib\\site-packages\\ipykernel_launcher.py:36: RuntimeWarning: divide by zero encountered in log\n",
      "C:\\Apps\\Anaconda3\\lib\\site-packages\\ipykernel_launcher.py:47: RuntimeWarning: divide by zero encountered in log\n",
      "C:\\Apps\\Anaconda3\\lib\\site-packages\\ipykernel_launcher.py:60: RuntimeWarning: divide by zero encountered in log\n"
     ]
    }
   ],
   "source": [
    "contr = get_main_df_for_predict(df_rating_teams_Premium_contr, df_contrpick_contr, df_meta_heroes_contr, \n",
    "        df_features_Heroes_contr, df_features_type_Heroes_contr, df_predict_for_teams_rating_contr, df_meta_7day_ago_contr, \n",
    "        df_KDA_heroes_contr, df_KDA_heroes_7day_ago_contr, df_KDA_players_on_hero_contr, df_KDA_players_7day_ago_contr,\n",
    "        df_KDA_heroes_30day_ago_contr, df_meta_couples_heroes_contr)\n",
    "\n",
    "# contr = pd.merge(contr, contr_Premium, left_on='match_id', right_on='match_id',how='left')\n",
    "# contr = pd.merge(contr, df_predict_signatures_contr, left_on='match_id', right_on='match_id',how='left')\n",
    "contr = contr.dropna()\n",
    "print (len(contr))\n",
    "\n",
    "# Создание контрольной выборки\n",
    "# Cделать обучающие данные и ответы\n",
    "X_contr = contr.drop(['radiant_win', 'match_id'], axis=1) # ], axis=1) # \n",
    "y_contr = contr['radiant_win']\n",
    "# СДЕЛАТЬ 1 или 0 вместо true false\n",
    "y_contr = y_contr.astype(int)\n",
    "# X_contr.columns\n",
    "\n",
    "print(classification_report(y_contr, XGB.predict(X_contr), target_names=['dire_win', 'radiant_win']))\n",
    "gb_auc = metrics.roc_auc_score(y_contr, XGB.predict_proba(X_contr)[:,1])\n",
    "print('AUC для градиентного бустинга - {:.3f}'.format(gb_auc))"
   ]
  },
  {
   "cell_type": "code",
   "execution_count": null,
   "metadata": {
    "collapsed": true
   },
   "outputs": [],
   "source": [
    "             precision    recall  f1-score   support\n",
    "С двойными связками\n",
    "   dire_win       0.64      0.66      0.65       398\n",
    "radiant_win       0.73      0.71      0.72       514\n",
    "\n",
    "avg / total       0.69      0.69      0.69       912\n",
    "\n",
    "AUC для градиентного бустинга - 0.751\n",
    "\n",
    "             precision    recall  f1-score   support\n",
    "Без двойных связок сHD*kda\n",
    "   dire_win       0.65      0.65      0.65       398\n",
    "radiant_win       0.73      0.73      0.73       514\n",
    "\n",
    "avg / total       0.70      0.70      0.70       912\n",
    "\n",
    "AUC для градиентного бустинга - 0.750\n",
    "\n",
    "             precision    recall  f1-score   support\n",
    "с  HD*winrate\n",
    "   dire_win       0.64      0.67      0.66       398\n",
    "radiant_win       0.73      0.72      0.73       514\n",
    "\n",
    "avg / total       0.70      0.69      0.69       912\n",
    "\n",
    "AUC для градиентного бустинга - 0.750"
   ]
  },
  {
   "cell_type": "code",
   "execution_count": null,
   "metadata": {
    "collapsed": true
   },
   "outputs": [],
   "source": []
  },
  {
   "cell_type": "code",
   "execution_count": null,
   "metadata": {
    "collapsed": true,
    "scrolled": false
   },
   "outputs": [],
   "source": []
  },
  {
   "cell_type": "code",
   "execution_count": null,
   "metadata": {
    "collapsed": true
   },
   "outputs": [],
   "source": []
  },
  {
   "cell_type": "code",
   "execution_count": null,
   "metadata": {
    "collapsed": true
   },
   "outputs": [],
   "source": []
  },
  {
   "cell_type": "code",
   "execution_count": 84,
   "metadata": {
    "collapsed": true,
    "scrolled": true
   },
   "outputs": [],
   "source": [
    "# Запись данных предсказаний для проверки\n",
    "df_predict_7day_ago = pd.DataFrame(main['match_id'])\n",
    "df_predict_7day_ago['Pred_7day_ago'] = XGB.predict_proba(X)[:,1]"
   ]
  },
  {
   "cell_type": "code",
   "execution_count": 43,
   "metadata": {
    "scrolled": true
   },
   "outputs": [
    {
     "data": {
      "image/png": "[encoded data removed]",
      "text/plain": [
       "<matplotlib.figure.Figure at 0xe6f6fd0>"
      ]
     },
     "metadata": {},
     "output_type": "display_data"
    }
   ],
   "source": [
    "# важность признаков в бустинге\n",
    "\n",
    "n_features = X_train.shape[1]\n",
    "\n",
    "plt.figure(figsize=(20,40))\n",
    "plt.barh(range(n_features), XGB.feature_importances_, align='center')\n",
    "plt.yticks(np.arange(n_features), X_train.columns, fontsize=15)\n",
    "plt.xlabel('Важность признака', fontsize=18)\n",
    "plt.ylabel('Признаки', fontsize=18)\n",
    "plt.show()"
   ]
  },
  {
   "cell_type": "code",
   "execution_count": 115,
   "metadata": {
    "collapsed": true
   },
   "outputs": [
    {
     "name": "stdout",
     "output_type": "stream",
     "text": [
      "0.0\n",
      "             precision    recall  f1-score   support\n",
      "\n",
      "   dire_win       0.68      0.68      0.68       374\n",
      "radiant_win       0.73      0.74      0.73       442\n",
      "\n",
      "avg / total       0.71      0.71      0.71       816\n",
      "\n",
      "0.0\n",
      "             precision    recall  f1-score   support\n",
      "\n",
      "   dire_win       0.68      0.68      0.68       374\n",
      "radiant_win       0.73      0.74      0.73       442\n",
      "\n",
      "avg / total       0.71      0.71      0.71       816\n",
      "\n",
      "0.00150602\n",
      "             precision    recall  f1-score   support\n",
      "\n",
      "   dire_win       0.68      0.68      0.68       374\n",
      "radiant_win       0.73      0.74      0.73       442\n",
      "\n",
      "avg / total       0.71      0.71      0.71       816\n",
      "\n",
      "0.00150602\n",
      "             precision    recall  f1-score   support\n",
      "\n",
      "   dire_win       0.68      0.68      0.68       374\n",
      "radiant_win       0.73      0.74      0.73       442\n",
      "\n",
      "avg / total       0.71      0.71      0.71       816\n",
      "\n",
      "0.00150602\n",
      "             precision    recall  f1-score   support\n",
      "\n",
      "   dire_win       0.68      0.68      0.68       374\n",
      "radiant_win       0.73      0.74      0.73       442\n",
      "\n",
      "avg / total       0.71      0.71      0.71       816\n",
      "\n",
      "0.00150602\n",
      "             precision    recall  f1-score   support\n",
      "\n",
      "   dire_win       0.68      0.68      0.68       374\n",
      "radiant_win       0.73      0.74      0.73       442\n",
      "\n",
      "avg / total       0.71      0.71      0.71       816\n",
      "\n",
      "0.00150602\n",
      "             precision    recall  f1-score   support\n",
      "\n",
      "   dire_win       0.68      0.68      0.68       374\n",
      "radiant_win       0.73      0.74      0.73       442\n",
      "\n",
      "avg / total       0.71      0.71      0.71       816\n",
      "\n",
      "0.00150602\n",
      "             precision    recall  f1-score   support\n",
      "\n",
      "   dire_win       0.68      0.68      0.68       374\n",
      "radiant_win       0.73      0.74      0.73       442\n",
      "\n",
      "avg / total       0.71      0.71      0.71       816\n",
      "\n",
      "0.00150602\n",
      "             precision    recall  f1-score   support\n",
      "\n",
      "   dire_win       0.68      0.68      0.68       374\n",
      "radiant_win       0.73      0.74      0.73       442\n",
      "\n",
      "avg / total       0.71      0.71      0.71       816\n",
      "\n",
      "0.00150602\n",
      "             precision    recall  f1-score   support\n",
      "\n",
      "   dire_win       0.68      0.68      0.68       374\n",
      "radiant_win       0.73      0.74      0.73       442\n",
      "\n",
      "avg / total       0.71      0.71      0.71       816\n",
      "\n",
      "0.00150602\n",
      "             precision    recall  f1-score   support\n",
      "\n",
      "   dire_win       0.68      0.68      0.68       374\n",
      "radiant_win       0.73      0.74      0.73       442\n",
      "\n",
      "avg / total       0.71      0.71      0.71       816\n",
      "\n",
      "0.00150602\n",
      "             precision    recall  f1-score   support\n",
      "\n",
      "   dire_win       0.68      0.68      0.68       374\n",
      "radiant_win       0.73      0.74      0.73       442\n",
      "\n",
      "avg / total       0.71      0.71      0.71       816\n",
      "\n",
      "0.00150602\n",
      "             precision    recall  f1-score   support\n",
      "\n",
      "   dire_win       0.68      0.68      0.68       374\n",
      "radiant_win       0.73      0.74      0.73       442\n",
      "\n",
      "avg / total       0.71      0.71      0.71       816\n",
      "\n",
      "0.00301205\n",
      "             precision    recall  f1-score   support\n",
      "\n",
      "   dire_win       0.68      0.70      0.69       374\n",
      "radiant_win       0.74      0.72      0.73       442\n",
      "\n",
      "avg / total       0.71      0.71      0.71       816\n",
      "\n",
      "0.00301205\n",
      "             precision    recall  f1-score   support\n",
      "\n",
      "   dire_win       0.68      0.70      0.69       374\n",
      "radiant_win       0.74      0.72      0.73       442\n",
      "\n",
      "avg / total       0.71      0.71      0.71       816\n",
      "\n",
      "0.00301205\n",
      "             precision    recall  f1-score   support\n",
      "\n",
      "   dire_win       0.68      0.70      0.69       374\n",
      "radiant_win       0.74      0.72      0.73       442\n",
      "\n",
      "avg / total       0.71      0.71      0.71       816\n",
      "\n",
      "0.00301205\n",
      "             precision    recall  f1-score   support\n",
      "\n",
      "   dire_win       0.68      0.70      0.69       374\n",
      "radiant_win       0.74      0.72      0.73       442\n",
      "\n",
      "avg / total       0.71      0.71      0.71       816\n",
      "\n",
      "0.00301205\n",
      "             precision    recall  f1-score   support\n",
      "\n",
      "   dire_win       0.68      0.70      0.69       374\n",
      "radiant_win       0.74      0.72      0.73       442\n",
      "\n",
      "avg / total       0.71      0.71      0.71       816\n",
      "\n",
      "0.00301205\n",
      "             precision    recall  f1-score   support\n",
      "\n",
      "   dire_win       0.68      0.70      0.69       374\n",
      "radiant_win       0.74      0.72      0.73       442\n",
      "\n",
      "avg / total       0.71      0.71      0.71       816\n",
      "\n",
      "0.00301205\n",
      "             precision    recall  f1-score   support\n",
      "\n",
      "   dire_win       0.68      0.70      0.69       374\n",
      "radiant_win       0.74      0.72      0.73       442\n",
      "\n",
      "avg / total       0.71      0.71      0.71       816\n",
      "\n",
      "0.00301205\n",
      "             precision    recall  f1-score   support\n",
      "\n",
      "   dire_win       0.68      0.70      0.69       374\n",
      "radiant_win       0.74      0.72      0.73       442\n",
      "\n",
      "avg / total       0.71      0.71      0.71       816\n",
      "\n",
      "0.00301205\n",
      "             precision    recall  f1-score   support\n",
      "\n",
      "   dire_win       0.68      0.70      0.69       374\n",
      "radiant_win       0.74      0.72      0.73       442\n",
      "\n",
      "avg / total       0.71      0.71      0.71       816\n",
      "\n",
      "0.00301205\n",
      "             precision    recall  f1-score   support\n",
      "\n",
      "   dire_win       0.68      0.70      0.69       374\n",
      "radiant_win       0.74      0.72      0.73       442\n",
      "\n",
      "avg / total       0.71      0.71      0.71       816\n",
      "\n",
      "0.00451807\n",
      "             precision    recall  f1-score   support\n",
      "\n",
      "   dire_win       0.67      0.68      0.68       374\n",
      "radiant_win       0.73      0.72      0.72       442\n",
      "\n",
      "avg / total       0.70      0.70      0.70       816\n",
      "\n",
      "0.00451807\n",
      "             precision    recall  f1-score   support\n",
      "\n",
      "   dire_win       0.67      0.68      0.68       374\n",
      "radiant_win       0.73      0.72      0.72       442\n",
      "\n",
      "avg / total       0.70      0.70      0.70       816\n",
      "\n",
      "0.00451807\n",
      "             precision    recall  f1-score   support\n",
      "\n",
      "   dire_win       0.67      0.68      0.68       374\n",
      "radiant_win       0.73      0.72      0.72       442\n",
      "\n",
      "avg / total       0.70      0.70      0.70       816\n",
      "\n",
      "0.00451807\n",
      "             precision    recall  f1-score   support\n",
      "\n",
      "   dire_win       0.67      0.68      0.68       374\n",
      "radiant_win       0.73      0.72      0.72       442\n",
      "\n",
      "avg / total       0.70      0.70      0.70       816\n",
      "\n",
      "0.00451807\n",
      "             precision    recall  f1-score   support\n",
      "\n",
      "   dire_win       0.67      0.68      0.68       374\n",
      "radiant_win       0.73      0.72      0.72       442\n",
      "\n",
      "avg / total       0.70      0.70      0.70       816\n",
      "\n",
      "0.00451807\n",
      "             precision    recall  f1-score   support\n",
      "\n",
      "   dire_win       0.67      0.68      0.68       374\n",
      "radiant_win       0.73      0.72      0.72       442\n",
      "\n",
      "avg / total       0.70      0.70      0.70       816\n",
      "\n",
      "0.00451807\n",
      "             precision    recall  f1-score   support\n",
      "\n",
      "   dire_win       0.67      0.68      0.68       374\n",
      "radiant_win       0.73      0.72      0.72       442\n",
      "\n",
      "avg / total       0.70      0.70      0.70       816\n",
      "\n",
      "0.00451807\n",
      "             precision    recall  f1-score   support\n",
      "\n",
      "   dire_win       0.67      0.68      0.68       374\n",
      "radiant_win       0.73      0.72      0.72       442\n",
      "\n",
      "avg / total       0.70      0.70      0.70       816\n",
      "\n",
      "0.00451807\n",
      "             precision    recall  f1-score   support\n",
      "\n",
      "   dire_win       0.67      0.68      0.68       374\n",
      "radiant_win       0.73      0.72      0.72       442\n",
      "\n",
      "avg / total       0.70      0.70      0.70       816\n",
      "\n",
      "0.00451807\n",
      "             precision    recall  f1-score   support\n",
      "\n",
      "   dire_win       0.67      0.68      0.68       374\n",
      "radiant_win       0.73      0.72      0.72       442\n",
      "\n",
      "avg / total       0.70      0.70      0.70       816\n",
      "\n",
      "0.00451807\n",
      "             precision    recall  f1-score   support\n",
      "\n",
      "   dire_win       0.67      0.68      0.68       374\n",
      "radiant_win       0.73      0.72      0.72       442\n",
      "\n",
      "avg / total       0.70      0.70      0.70       816\n",
      "\n",
      "0.0060241\n",
      "             precision    recall  f1-score   support\n",
      "\n",
      "   dire_win       0.69      0.71      0.70       374\n",
      "radiant_win       0.74      0.73      0.74       442\n",
      "\n",
      "avg / total       0.72      0.72      0.72       816\n",
      "\n",
      "0.0060241\n",
      "             precision    recall  f1-score   support\n",
      "\n",
      "   dire_win       0.69      0.71      0.70       374\n",
      "radiant_win       0.74      0.73      0.74       442\n",
      "\n",
      "avg / total       0.72      0.72      0.72       816\n",
      "\n",
      "0.0060241\n",
      "             precision    recall  f1-score   support\n",
      "\n",
      "   dire_win       0.69      0.71      0.70       374\n",
      "radiant_win       0.74      0.73      0.74       442\n",
      "\n",
      "avg / total       0.72      0.72      0.72       816\n",
      "\n"
     ]
    },
    {
     "name": "stdout",
     "output_type": "stream",
     "text": [
      "0.0060241\n",
      "             precision    recall  f1-score   support\n",
      "\n",
      "   dire_win       0.69      0.71      0.70       374\n",
      "radiant_win       0.74      0.73      0.74       442\n",
      "\n",
      "avg / total       0.72      0.72      0.72       816\n",
      "\n",
      "0.0060241\n",
      "             precision    recall  f1-score   support\n",
      "\n",
      "   dire_win       0.69      0.71      0.70       374\n",
      "radiant_win       0.74      0.73      0.74       442\n",
      "\n",
      "avg / total       0.72      0.72      0.72       816\n",
      "\n",
      "0.0060241\n",
      "             precision    recall  f1-score   support\n",
      "\n",
      "   dire_win       0.69      0.71      0.70       374\n",
      "radiant_win       0.74      0.73      0.74       442\n",
      "\n",
      "avg / total       0.72      0.72      0.72       816\n",
      "\n",
      "0.0060241\n",
      "             precision    recall  f1-score   support\n",
      "\n",
      "   dire_win       0.69      0.71      0.70       374\n",
      "radiant_win       0.74      0.73      0.74       442\n",
      "\n",
      "avg / total       0.72      0.72      0.72       816\n",
      "\n",
      "0.0060241\n",
      "             precision    recall  f1-score   support\n",
      "\n",
      "   dire_win       0.69      0.71      0.70       374\n",
      "radiant_win       0.74      0.73      0.74       442\n",
      "\n",
      "avg / total       0.72      0.72      0.72       816\n",
      "\n",
      "0.0060241\n",
      "             precision    recall  f1-score   support\n",
      "\n",
      "   dire_win       0.69      0.71      0.70       374\n",
      "radiant_win       0.74      0.73      0.74       442\n",
      "\n",
      "avg / total       0.72      0.72      0.72       816\n",
      "\n",
      "0.0060241\n",
      "             precision    recall  f1-score   support\n",
      "\n",
      "   dire_win       0.69      0.71      0.70       374\n",
      "radiant_win       0.74      0.73      0.74       442\n",
      "\n",
      "avg / total       0.72      0.72      0.72       816\n",
      "\n",
      "0.0060241\n",
      "             precision    recall  f1-score   support\n",
      "\n",
      "   dire_win       0.69      0.71      0.70       374\n",
      "radiant_win       0.74      0.73      0.74       442\n",
      "\n",
      "avg / total       0.72      0.72      0.72       816\n",
      "\n",
      "0.0060241\n",
      "             precision    recall  f1-score   support\n",
      "\n",
      "   dire_win       0.69      0.71      0.70       374\n",
      "radiant_win       0.74      0.73      0.74       442\n",
      "\n",
      "avg / total       0.72      0.72      0.72       816\n",
      "\n",
      "0.0060241\n",
      "             precision    recall  f1-score   support\n",
      "\n",
      "   dire_win       0.69      0.71      0.70       374\n",
      "radiant_win       0.74      0.73      0.74       442\n",
      "\n",
      "avg / total       0.72      0.72      0.72       816\n",
      "\n",
      "0.0060241\n",
      "             precision    recall  f1-score   support\n",
      "\n",
      "   dire_win       0.69      0.71      0.70       374\n",
      "radiant_win       0.74      0.73      0.74       442\n",
      "\n",
      "avg / total       0.72      0.72      0.72       816\n",
      "\n",
      "0.0060241\n",
      "             precision    recall  f1-score   support\n",
      "\n",
      "   dire_win       0.69      0.71      0.70       374\n",
      "radiant_win       0.74      0.73      0.74       442\n",
      "\n",
      "avg / total       0.72      0.72      0.72       816\n",
      "\n",
      "0.0060241\n",
      "             precision    recall  f1-score   support\n",
      "\n",
      "   dire_win       0.69      0.71      0.70       374\n",
      "radiant_win       0.74      0.73      0.74       442\n",
      "\n",
      "avg / total       0.72      0.72      0.72       816\n",
      "\n",
      "0.0060241\n",
      "             precision    recall  f1-score   support\n",
      "\n",
      "   dire_win       0.69      0.71      0.70       374\n",
      "radiant_win       0.74      0.73      0.74       442\n",
      "\n",
      "avg / total       0.72      0.72      0.72       816\n",
      "\n",
      "0.0060241\n",
      "             precision    recall  f1-score   support\n",
      "\n",
      "   dire_win       0.69      0.71      0.70       374\n",
      "radiant_win       0.74      0.73      0.74       442\n",
      "\n",
      "avg / total       0.72      0.72      0.72       816\n",
      "\n",
      "0.00753012\n",
      "             precision    recall  f1-score   support\n",
      "\n",
      "   dire_win       0.68      0.69      0.69       374\n",
      "radiant_win       0.74      0.72      0.73       442\n",
      "\n",
      "avg / total       0.71      0.71      0.71       816\n",
      "\n",
      "0.00753012\n",
      "             precision    recall  f1-score   support\n",
      "\n",
      "   dire_win       0.68      0.69      0.69       374\n",
      "radiant_win       0.74      0.72      0.73       442\n",
      "\n",
      "avg / total       0.71      0.71      0.71       816\n",
      "\n",
      "0.00753012\n",
      "             precision    recall  f1-score   support\n",
      "\n",
      "   dire_win       0.68      0.69      0.69       374\n",
      "radiant_win       0.74      0.72      0.73       442\n",
      "\n",
      "avg / total       0.71      0.71      0.71       816\n",
      "\n",
      "0.00753012\n",
      "             precision    recall  f1-score   support\n",
      "\n",
      "   dire_win       0.68      0.69      0.69       374\n",
      "radiant_win       0.74      0.72      0.73       442\n",
      "\n",
      "avg / total       0.71      0.71      0.71       816\n",
      "\n",
      "0.00753012\n",
      "             precision    recall  f1-score   support\n",
      "\n",
      "   dire_win       0.68      0.69      0.69       374\n",
      "radiant_win       0.74      0.72      0.73       442\n",
      "\n",
      "avg / total       0.71      0.71      0.71       816\n",
      "\n",
      "0.00753012\n",
      "             precision    recall  f1-score   support\n",
      "\n",
      "   dire_win       0.68      0.69      0.69       374\n",
      "radiant_win       0.74      0.72      0.73       442\n",
      "\n",
      "avg / total       0.71      0.71      0.71       816\n",
      "\n",
      "0.00753012\n",
      "             precision    recall  f1-score   support\n",
      "\n",
      "   dire_win       0.68      0.69      0.69       374\n",
      "radiant_win       0.74      0.72      0.73       442\n",
      "\n",
      "avg / total       0.71      0.71      0.71       816\n",
      "\n",
      "0.00753012\n",
      "             precision    recall  f1-score   support\n",
      "\n",
      "   dire_win       0.68      0.69      0.69       374\n",
      "radiant_win       0.74      0.72      0.73       442\n",
      "\n",
      "avg / total       0.71      0.71      0.71       816\n",
      "\n",
      "0.00753012\n",
      "             precision    recall  f1-score   support\n",
      "\n",
      "   dire_win       0.68      0.69      0.69       374\n",
      "radiant_win       0.74      0.72      0.73       442\n",
      "\n",
      "avg / total       0.71      0.71      0.71       816\n",
      "\n",
      "0.00753012\n",
      "             precision    recall  f1-score   support\n",
      "\n",
      "   dire_win       0.68      0.69      0.69       374\n",
      "radiant_win       0.74      0.72      0.73       442\n",
      "\n",
      "avg / total       0.71      0.71      0.71       816\n",
      "\n",
      "0.00753012\n",
      "             precision    recall  f1-score   support\n",
      "\n",
      "   dire_win       0.68      0.69      0.69       374\n",
      "radiant_win       0.74      0.72      0.73       442\n",
      "\n",
      "avg / total       0.71      0.71      0.71       816\n",
      "\n",
      "0.00903614\n",
      "             precision    recall  f1-score   support\n",
      "\n",
      "   dire_win       0.66      0.68      0.67       374\n",
      "radiant_win       0.72      0.70      0.71       442\n",
      "\n",
      "avg / total       0.69      0.69      0.69       816\n",
      "\n",
      "0.00903614\n",
      "             precision    recall  f1-score   support\n",
      "\n",
      "   dire_win       0.66      0.68      0.67       374\n",
      "radiant_win       0.72      0.70      0.71       442\n",
      "\n",
      "avg / total       0.69      0.69      0.69       816\n",
      "\n",
      "0.00903614\n",
      "             precision    recall  f1-score   support\n",
      "\n",
      "   dire_win       0.66      0.68      0.67       374\n",
      "radiant_win       0.72      0.70      0.71       442\n",
      "\n",
      "avg / total       0.69      0.69      0.69       816\n",
      "\n",
      "0.00903614\n",
      "             precision    recall  f1-score   support\n",
      "\n",
      "   dire_win       0.66      0.68      0.67       374\n",
      "radiant_win       0.72      0.70      0.71       442\n",
      "\n",
      "avg / total       0.69      0.69      0.69       816\n",
      "\n",
      "0.00903614\n",
      "             precision    recall  f1-score   support\n",
      "\n",
      "   dire_win       0.66      0.68      0.67       374\n",
      "radiant_win       0.72      0.70      0.71       442\n",
      "\n",
      "avg / total       0.69      0.69      0.69       816\n",
      "\n",
      "0.00903614\n",
      "             precision    recall  f1-score   support\n",
      "\n",
      "   dire_win       0.66      0.68      0.67       374\n",
      "radiant_win       0.72      0.70      0.71       442\n",
      "\n",
      "avg / total       0.69      0.69      0.69       816\n",
      "\n",
      "0.00903614\n",
      "             precision    recall  f1-score   support\n",
      "\n",
      "   dire_win       0.66      0.68      0.67       374\n",
      "radiant_win       0.72      0.70      0.71       442\n",
      "\n",
      "avg / total       0.69      0.69      0.69       816\n",
      "\n",
      "0.00903614\n",
      "             precision    recall  f1-score   support\n",
      "\n",
      "   dire_win       0.66      0.68      0.67       374\n",
      "radiant_win       0.72      0.70      0.71       442\n",
      "\n",
      "avg / total       0.69      0.69      0.69       816\n",
      "\n",
      "0.00903614\n",
      "             precision    recall  f1-score   support\n",
      "\n",
      "   dire_win       0.66      0.68      0.67       374\n",
      "radiant_win       0.72      0.70      0.71       442\n",
      "\n",
      "avg / total       0.69      0.69      0.69       816\n",
      "\n",
      "0.00903614\n",
      "             precision    recall  f1-score   support\n",
      "\n",
      "   dire_win       0.66      0.68      0.67       374\n",
      "radiant_win       0.72      0.70      0.71       442\n",
      "\n",
      "avg / total       0.69      0.69      0.69       816\n",
      "\n",
      "0.0105422\n",
      "             precision    recall  f1-score   support\n",
      "\n",
      "   dire_win       0.67      0.69      0.68       374\n",
      "radiant_win       0.73      0.72      0.73       442\n",
      "\n",
      "avg / total       0.71      0.70      0.70       816\n",
      "\n"
     ]
    },
    {
     "name": "stdout",
     "output_type": "stream",
     "text": [
      "0.0105422\n",
      "             precision    recall  f1-score   support\n",
      "\n",
      "   dire_win       0.67      0.69      0.68       374\n",
      "radiant_win       0.73      0.72      0.73       442\n",
      "\n",
      "avg / total       0.71      0.70      0.70       816\n",
      "\n",
      "0.0105422\n",
      "             precision    recall  f1-score   support\n",
      "\n",
      "   dire_win       0.67      0.69      0.68       374\n",
      "radiant_win       0.73      0.72      0.73       442\n",
      "\n",
      "avg / total       0.71      0.70      0.70       816\n",
      "\n",
      "0.0105422\n",
      "             precision    recall  f1-score   support\n",
      "\n",
      "   dire_win       0.67      0.69      0.68       374\n",
      "radiant_win       0.73      0.72      0.73       442\n",
      "\n",
      "avg / total       0.71      0.70      0.70       816\n",
      "\n",
      "0.0105422\n",
      "             precision    recall  f1-score   support\n",
      "\n",
      "   dire_win       0.67      0.69      0.68       374\n",
      "radiant_win       0.73      0.72      0.73       442\n",
      "\n",
      "avg / total       0.71      0.70      0.70       816\n",
      "\n",
      "0.0105422\n",
      "             precision    recall  f1-score   support\n",
      "\n",
      "   dire_win       0.67      0.69      0.68       374\n",
      "radiant_win       0.73      0.72      0.73       442\n",
      "\n",
      "avg / total       0.71      0.70      0.70       816\n",
      "\n",
      "0.0105422\n",
      "             precision    recall  f1-score   support\n",
      "\n",
      "   dire_win       0.67      0.69      0.68       374\n",
      "radiant_win       0.73      0.72      0.73       442\n",
      "\n",
      "avg / total       0.71      0.70      0.70       816\n",
      "\n",
      "0.0105422\n",
      "             precision    recall  f1-score   support\n",
      "\n",
      "   dire_win       0.67      0.69      0.68       374\n",
      "radiant_win       0.73      0.72      0.73       442\n",
      "\n",
      "avg / total       0.71      0.70      0.70       816\n",
      "\n",
      "0.0105422\n",
      "             precision    recall  f1-score   support\n",
      "\n",
      "   dire_win       0.67      0.69      0.68       374\n",
      "radiant_win       0.73      0.72      0.73       442\n",
      "\n",
      "avg / total       0.71      0.70      0.70       816\n",
      "\n",
      "0.0105422\n",
      "             precision    recall  f1-score   support\n",
      "\n",
      "   dire_win       0.67      0.69      0.68       374\n",
      "radiant_win       0.73      0.72      0.73       442\n",
      "\n",
      "avg / total       0.71      0.70      0.70       816\n",
      "\n",
      "0.0105422\n",
      "             precision    recall  f1-score   support\n",
      "\n",
      "   dire_win       0.67      0.69      0.68       374\n",
      "radiant_win       0.73      0.72      0.73       442\n",
      "\n",
      "avg / total       0.71      0.70      0.70       816\n",
      "\n",
      "0.0105422\n",
      "             precision    recall  f1-score   support\n",
      "\n",
      "   dire_win       0.67      0.69      0.68       374\n",
      "radiant_win       0.73      0.72      0.73       442\n",
      "\n",
      "avg / total       0.71      0.70      0.70       816\n",
      "\n",
      "0.0105422\n",
      "             precision    recall  f1-score   support\n",
      "\n",
      "   dire_win       0.67      0.69      0.68       374\n",
      "radiant_win       0.73      0.72      0.73       442\n",
      "\n",
      "avg / total       0.71      0.70      0.70       816\n",
      "\n",
      "0.0105422\n",
      "             precision    recall  f1-score   support\n",
      "\n",
      "   dire_win       0.67      0.69      0.68       374\n",
      "radiant_win       0.73      0.72      0.73       442\n",
      "\n",
      "avg / total       0.71      0.70      0.70       816\n",
      "\n",
      "0.0105422\n",
      "             precision    recall  f1-score   support\n",
      "\n",
      "   dire_win       0.67      0.69      0.68       374\n",
      "radiant_win       0.73      0.72      0.73       442\n",
      "\n",
      "avg / total       0.71      0.70      0.70       816\n",
      "\n",
      "0.0120482\n",
      "             precision    recall  f1-score   support\n",
      "\n",
      "   dire_win       0.68      0.69      0.68       374\n",
      "radiant_win       0.73      0.72      0.73       442\n",
      "\n",
      "avg / total       0.71      0.71      0.71       816\n",
      "\n",
      "0.0120482\n",
      "             precision    recall  f1-score   support\n",
      "\n",
      "   dire_win       0.68      0.69      0.68       374\n",
      "radiant_win       0.73      0.72      0.73       442\n",
      "\n",
      "avg / total       0.71      0.71      0.71       816\n",
      "\n",
      "0.0120482\n",
      "             precision    recall  f1-score   support\n",
      "\n",
      "   dire_win       0.68      0.69      0.68       374\n",
      "radiant_win       0.73      0.72      0.73       442\n",
      "\n",
      "avg / total       0.71      0.71      0.71       816\n",
      "\n",
      "0.0120482\n",
      "             precision    recall  f1-score   support\n",
      "\n",
      "   dire_win       0.68      0.69      0.68       374\n",
      "radiant_win       0.73      0.72      0.73       442\n",
      "\n",
      "avg / total       0.71      0.71      0.71       816\n",
      "\n",
      "0.0120482\n",
      "             precision    recall  f1-score   support\n",
      "\n",
      "   dire_win       0.68      0.69      0.68       374\n",
      "radiant_win       0.73      0.72      0.73       442\n",
      "\n",
      "avg / total       0.71      0.71      0.71       816\n",
      "\n",
      "0.0120482\n",
      "             precision    recall  f1-score   support\n",
      "\n",
      "   dire_win       0.68      0.69      0.68       374\n",
      "radiant_win       0.73      0.72      0.73       442\n",
      "\n",
      "avg / total       0.71      0.71      0.71       816\n",
      "\n",
      "0.0120482\n",
      "             precision    recall  f1-score   support\n",
      "\n",
      "   dire_win       0.68      0.69      0.68       374\n",
      "radiant_win       0.73      0.72      0.73       442\n",
      "\n",
      "avg / total       0.71      0.71      0.71       816\n",
      "\n",
      "0.0120482\n",
      "             precision    recall  f1-score   support\n",
      "\n",
      "   dire_win       0.68      0.69      0.68       374\n",
      "radiant_win       0.73      0.72      0.73       442\n",
      "\n",
      "avg / total       0.71      0.71      0.71       816\n",
      "\n",
      "0.0120482\n",
      "             precision    recall  f1-score   support\n",
      "\n",
      "   dire_win       0.68      0.69      0.68       374\n",
      "radiant_win       0.73      0.72      0.73       442\n",
      "\n",
      "avg / total       0.71      0.71      0.71       816\n",
      "\n",
      "0.0120482\n",
      "             precision    recall  f1-score   support\n",
      "\n",
      "   dire_win       0.68      0.69      0.68       374\n",
      "radiant_win       0.73      0.72      0.73       442\n",
      "\n",
      "avg / total       0.71      0.71      0.71       816\n",
      "\n",
      "0.0135542\n",
      "             precision    recall  f1-score   support\n",
      "\n",
      "   dire_win       0.66      0.70      0.68       374\n",
      "radiant_win       0.73      0.70      0.72       442\n",
      "\n",
      "avg / total       0.70      0.70      0.70       816\n",
      "\n",
      "0.0135542\n",
      "             precision    recall  f1-score   support\n",
      "\n",
      "   dire_win       0.66      0.70      0.68       374\n",
      "radiant_win       0.73      0.70      0.72       442\n",
      "\n",
      "avg / total       0.70      0.70      0.70       816\n",
      "\n",
      "0.0135542\n",
      "             precision    recall  f1-score   support\n",
      "\n",
      "   dire_win       0.66      0.70      0.68       374\n",
      "radiant_win       0.73      0.70      0.72       442\n",
      "\n",
      "avg / total       0.70      0.70      0.70       816\n",
      "\n",
      "0.0150602\n",
      "             precision    recall  f1-score   support\n",
      "\n",
      "   dire_win       0.67      0.69      0.68       374\n",
      "radiant_win       0.73      0.71      0.72       442\n",
      "\n",
      "avg / total       0.70      0.70      0.70       816\n",
      "\n",
      "0.0150602\n",
      "             precision    recall  f1-score   support\n",
      "\n",
      "   dire_win       0.67      0.69      0.68       374\n",
      "radiant_win       0.73      0.71      0.72       442\n",
      "\n",
      "avg / total       0.70      0.70      0.70       816\n",
      "\n",
      "0.0150602\n",
      "             precision    recall  f1-score   support\n",
      "\n",
      "   dire_win       0.67      0.69      0.68       374\n",
      "radiant_win       0.73      0.71      0.72       442\n",
      "\n",
      "avg / total       0.70      0.70      0.70       816\n",
      "\n",
      "0.0165663\n",
      "             precision    recall  f1-score   support\n",
      "\n",
      "   dire_win       0.68      0.71      0.70       374\n",
      "radiant_win       0.75      0.72      0.74       442\n",
      "\n",
      "avg / total       0.72      0.72      0.72       816\n",
      "\n",
      "0.0225904\n",
      "             precision    recall  f1-score   support\n",
      "\n",
      "   dire_win       0.68      0.70      0.69       374\n",
      "radiant_win       0.74      0.72      0.73       442\n",
      "\n",
      "avg / total       0.71      0.71      0.71       816\n",
      "\n",
      "0.0225904\n",
      "             precision    recall  f1-score   support\n",
      "\n",
      "   dire_win       0.68      0.70      0.69       374\n",
      "radiant_win       0.74      0.72      0.73       442\n",
      "\n",
      "avg / total       0.71      0.71      0.71       816\n",
      "\n",
      "0.0256024\n",
      "             precision    recall  f1-score   support\n",
      "\n",
      "   dire_win       0.64      0.67      0.65       374\n",
      "radiant_win       0.71      0.68      0.69       442\n",
      "\n",
      "avg / total       0.67      0.67      0.67       816\n",
      "\n",
      "0.0256024\n",
      "             precision    recall  f1-score   support\n",
      "\n",
      "   dire_win       0.64      0.67      0.65       374\n",
      "radiant_win       0.71      0.68      0.69       442\n",
      "\n",
      "avg / total       0.67      0.67      0.67       816\n",
      "\n",
      "0.0256024\n",
      "             precision    recall  f1-score   support\n",
      "\n",
      "   dire_win       0.64      0.67      0.65       374\n",
      "radiant_win       0.71      0.68      0.69       442\n",
      "\n",
      "avg / total       0.67      0.67      0.67       816\n",
      "\n",
      "0.0286145\n",
      "             precision    recall  f1-score   support\n",
      "\n",
      "   dire_win       0.65      0.59      0.62       374\n",
      "radiant_win       0.68      0.73      0.70       442\n",
      "\n",
      "avg / total       0.66      0.67      0.66       816\n",
      "\n",
      "0.0451807\n",
      "             precision    recall  f1-score   support\n",
      "\n",
      "   dire_win       0.63      0.63      0.63       374\n",
      "radiant_win       0.68      0.69      0.68       442\n",
      "\n",
      "avg / total       0.66      0.66      0.66       816\n",
      "\n"
     ]
    },
    {
     "name": "stdout",
     "output_type": "stream",
     "text": [
      "0.0451807\n",
      "             precision    recall  f1-score   support\n",
      "\n",
      "   dire_win       0.63      0.63      0.63       374\n",
      "radiant_win       0.68      0.69      0.68       442\n",
      "\n",
      "avg / total       0.66      0.66      0.66       816\n",
      "\n"
     ]
    }
   ],
   "source": [
    "from numpy import sort\n",
    "thresholds = sort(XGB.feature_importances_)\n",
    "\n",
    "for thresh in thresholds:\n",
    "    \n",
    "    # select features using threshold\n",
    "    selection = SelectFromModel(XGB, threshold=thresh, prefit=True)\n",
    "    select_X_train = selection.transform(X_train)\n",
    "\n",
    "    #train model\n",
    "    selection_model = xgb.XGBClassifier()\n",
    "    selection_model.fit(select_X_train, y_train)\n",
    "    # eval model\n",
    "    select_X_test = selection.transform(X_test)\n",
    "    y_pred = selection_model.predict(select_X_test)\n",
    "\n",
    "    print(thresh)\n",
    "    print(classification_report(y_test, selection_model.predict(select_X_test), target_names=['dire_win', 'radiant_win']))\n"
   ]
  },
  {
   "cell_type": "code",
   "execution_count": 114,
   "metadata": {
    "collapsed": true
   },
   "outputs": [
    {
     "data": {
      "image/png": "[encoded data removed]",
      "text/plain": [
       "<matplotlib.figure.Figure at 0xdc7f7b8>"
      ]
     },
     "metadata": {},
     "output_type": "display_data"
    }
   ],
   "source": [
    "# важность признаков в бустинге\n",
    "\n",
    "n_features = select_X_train.shape[1]\n",
    "\n",
    "plt.figure(figsize=(40,40))\n",
    "plt.barh(range(n_features), selection_model.feature_importances_, align='center')\n",
    "plt.yticks(np.arange(n_features),  fontsize=15)\n",
    "plt.xlabel('Важность признака', fontsize=18)\n",
    "plt.ylabel('Признаки', fontsize=18)\n",
    "plt.show()"
   ]
  },
  {
   "cell_type": "code",
   "execution_count": 134,
   "metadata": {
    "collapsed": true
   },
   "outputs": [],
   "source": [
    "# save the model to disk\n",
    "filename = 'xgb.v.1.5.d.70.sav'\n",
    "pickle.dump(XGB, open(filename, 'wb'))"
   ]
  },
  {
   "cell_type": "code",
   "execution_count": 258,
   "metadata": {
    "collapsed": true
   },
   "outputs": [],
   "source": [
    "# # Создать и сохранить фичу с предсказаниями по алгоритму, обученому на рейтинге команд\n",
    "# df_pedict_for_rating_teams = pd.DataFrame(XGB.predict_proba(X)[:,1:], columns=['Predict'])\n",
    "# df_pedict_for_rating_teams['match_id'] = df_rating_teams_Premium['match_id'].reset_index().drop('index', axis=1)\n",
    "# df_pedict_for_rating_teams.to_csv('../tabel/table from Datdota/'+\n",
    "#                            'Predict Pro on 2012-02-28 to 2018-03-01.csv')"
   ]
  },
  {
   "cell_type": "code",
   "execution_count": 15,
   "metadata": {
    "collapsed": true
   },
   "outputs": [],
   "source": [
    "# test_gb = pickle.load(open('Xgboost_model_predict_rating_teams', 'rb'))\n",
    "# test_gb.score(X_test, y_test)"
   ]
  },
  {
   "cell_type": "markdown",
   "metadata": {},
   "source": [
    "# Решетчатый поиск на Gradient Bosting"
   ]
  },
  {
   "cell_type": "code",
   "execution_count": 115,
   "metadata": {
    "collapsed": true
   },
   "outputs": [],
   "source": [
    "%%time\n",
    "# Праметры GB\n",
    "# param_grid = {'n_estimators': [25, 50, 100, 150], 'max_depth': [10, 25, 50, 100],\n",
    "#               'max_features': [50, 100, 200, 300]}\n",
    "param_grid = {'n_estimators': [100], 'max_depth': [10],\n",
    "              'max_features': [30]}\n",
    "grid_search_GB = GridSearchCV(GradientBoostingClassifier(), param_grid, cv=5, n_jobs=-1)\n",
    "\n",
    "grid_search_GB.fit(X_train,y_train)\n",
    "\n",
    "\n",
    "print(\"Наилучшие значения параметров: {}\".format(grid_search_GB.best_params_))\n",
    "print('----------------------------------------------------------------------')\n",
    "print(classification_report(y_test, grid_search_GB.predict(X_test), target_names=['dire_win', 'radiant_win']))"
   ]
  },
  {
   "cell_type": "markdown",
   "metadata": {
    "collapsed": true
   },
   "source": [
    "# Проверка на новых данных"
   ]
  },
  {
   "cell_type": "code",
   "execution_count": 22,
   "metadata": {
    "collapsed": true,
    "scrolled": true
   },
   "outputs": [],
   "source": [
    "# date_contr = '2018-03-01 to 2018-04-08'\n",
    "# date_contr = '2018-04-08 to 2018-04-25'\n",
    "date_contr = '2018-03-01 to 2018-06-01'\n",
    "# дф с матчами и рейтингом каждой команды с патча 7.01 для Премиум\n",
    "df_rating_teams_Premium_contr = pd.read_csv('../tabel/table from Datdota/Rating teams/'+\n",
    "                                      'PREMIUM on {} (PreDay).csv'.format(date_contr), index_col=0)\n",
    "\n",
    "# ДФ с контрпиками\n",
    "df_contrpick_contr = pd.read_csv('../tabel/table from Datdota/Heah-to-head Contrpicks/'+\n",
    "                'data from 6.74-last. on {} (PreDay, All, more 20).csv'.format(date_contr), index_col=0)\n",
    "\n",
    "# ДФ с метовыми героями \n",
    "df_meta_heroes_contr = pd.read_csv('../tabel/table from Datdota/AvgElo Meta and Signatures Heroes/'+\n",
    "                             'Meta on {} (TwoMonthAgo, All, more 20).csv'.format(date_contr), index_col=0)\n",
    "\n",
    "# # ДФ с сигнатурками для каждого игрока (ALL, >5)\n",
    "# df_signatures_heroes_contr = pd.read_csv('../tabel/table from Datdota/AvgElo Meta and Signatures Heroes/'+\n",
    "#                     'Players Signatures on {} (PreDay, All, more 5).csv'.format(date_contr), index_col=0)\n",
    "\n",
    "# как герой отыгрывает последние 7 дней\n",
    "df_meta_7day_ago_contr = pd.read_csv('../tabel/table from Datdota/AvgElo Meta and Signatures Heroes/'+\n",
    "                             'Meta on {} (7DayAgo, All, more 10).csv'.format(date_contr), index_col=0)\n",
    "\n",
    "# # как игрок играет последние 7 жней\n",
    "# df_eloShift_players_7day_ago_contr = pd.read_csv('../tabel/table from Datdota/AvgElo Meta and Signatures Heroes/'+\n",
    "#                           'EloShift Players on {} (7day_ago, All, more 1).csv'.format(date_contr), index_col=0)\n",
    "\n",
    "# ДФ с данными KDA по героям за все время с патча 6.88\n",
    "df_KDA_heroes_contr = pd.read_csv('../tabel/table from Datdota/KDA/Heroes/'+\n",
    "                            'KDA heroes on {} (6.88+, All, more 20).csv'.format(date_contr), index_col=0)\n",
    "\n",
    "# ДФ с данными KDA по героям за последние 7 дней\n",
    "df_KDA_heroes_7day_ago_contr = pd.read_csv('../tabel/table from Datdota/KDA/Heroes/7day_ago/'+\n",
    "                            'KDA heroes on {} (7day_ago, All, more 10).csv'.format(date_contr), index_col=0)\n",
    "\n",
    "# ДФ с данными KDA игроков по герою \n",
    "df_KDA_players_on_hero_contr = pd.read_csv('../tabel/table from Datdota/KDA/Players/'+\n",
    "                        'KDA Players on hero {} (All time, All, more 5).csv'.format(date_contr), index_col=0)\n",
    "\n",
    "# ДФ с данными KDA по игроку за последние 7 дней\n",
    "df_KDA_players_7day_ago_contr = pd.read_csv('../tabel/table from Datdota/KDA/Players/7day_ago/'+\n",
    "                    'KDA, EloShift Players on {} (7day_ago, All, more 1).csv'.format(date_contr), index_col=0)\n",
    "\n",
    "# ДФ с данными KDA по героям за последние 30 дней\n",
    "df_KDA_heroes_30day_ago_contr = pd.read_csv('../tabel/table from Datdota/KDA/Heroes/30day_ago/'+\n",
    "                    'KDA, HD, TD... heroes on {} (30day_ago, Pro, more 5).csv'.format(date_contr), index_col=0)\n",
    "\n",
    "# ДФ с elo для связки героев\n",
    "df_meta_couples_heroes_contr = pd.read_csv('../tabel/table from Datdota/AvgElo Meta and Signatures Heroes/Meta AvgElo Couples/'+\n",
    "                             'Meta couples heroes on {} (TwoMonthAgo, Pro, more 8).csv'.format(date_contr), index_col=0)\n"
   ]
  },
  {
   "cell_type": "code",
   "execution_count": 23,
   "metadata": {
    "collapsed": true
   },
   "outputs": [],
   "source": [
    "# дф с матчами где по каждому героя своя фича (Премиум)\n",
    "df_features_Heroes_contr = pd.read_csv('../tabel/table from Datdota/Features Heroes/'+\n",
    "                                      'PREMIUM on {}.csv'.format(date_contr), index_col=0)\n",
    "# дф с матчами где фичи тип атаки, дизейблер, нюкер, керри и другие (Премиум)\n",
    "df_features_type_Heroes_contr = pd.read_csv('../tabel/table from Datdota/Features carry, support, necker/'+\n",
    "                                      'PREMIUM on {}.csv'.format(date_contr), index_col=0)\n",
    "# дф с предсказаниями по алгоритму, обученому только на рейтинге команд\n",
    "df_predict_for_teams_rating_contr = pd.read_csv('../tabel/table from Datdota/Rating teams/'+\n",
    "                                      'Predict for rating teams on {}.csv'.format(date_contr), index_col=0)"
   ]
  },
  {
   "cell_type": "code",
   "execution_count": 49,
   "metadata": {},
   "outputs": [
    {
     "data": {
      "text/plain": [
       "array(['EPICENTER XL', 'GESC: Indonesia', 'GESC: Thailand',\n",
       "       'PGL BUCHAREST MAJOR 2018', 'SL i-League Invitational Season 4',\n",
       "       'World Electronic Sports Games International',\n",
       "       'Corsair DreamLeague season 9', 'Dota 2 Asia Championships 2018',\n",
       "       'StarLadder ImbaTV Invitational Season 5',\n",
       "       'ESL One Birmingham 2018 powered by Intel',\n",
       "       'CHINA DOTA2 SUPER MAJOR', 'MDL Changsha'], dtype=object)"
      ]
     },
     "execution_count": 49,
     "metadata": {},
     "output_type": "execute_result"
    }
   ],
   "source": [
    "df_rating_teams_Premium_contr['league_name'].unique()"
   ]
  },
  {
   "cell_type": "code",
   "execution_count": 66,
   "metadata": {
    "collapsed": true
   },
   "outputs": [],
   "source": [
    "df_rating_teams_Premium_contr =df_rating_teams_Premium_contr[df_rating_teams_Premium_contr['league_name'] == \n",
    "                                                             'CHINA DOTA2 SUPER MAJOR']\n",
    "# pd.set_option('display.max_columns', 500)\n"
   ]
  },
  {
   "cell_type": "code",
   "execution_count": 67,
   "metadata": {
    "collapsed": true
   },
   "outputs": [],
   "source": [
    "# df_rating_teams_Premium_contr['radiant_delta7day_elo32'] = (df_rating_teams_Premium_contr['radiant_current_elo32'] - \n",
    "#                                                 df_rating_teams_Premium_contr['radiant_sevenDayAgo_elo32'])\n",
    "# df_rating_teams_Premium_contr['radiant_delta7day_elo64'] = (df_rating_teams_Premium_contr['radiant_current_elo64'] - \n",
    "#                                                 df_rating_teams_Premium_contr['radiant_sevenDayAgo_elo64'])\n",
    "\n",
    "# df_rating_teams_Premium_contr['dire_delta7day_elo32'] = (df_rating_teams_Premium_contr['dire_current_elo32'] - \n",
    "#                                                 df_rating_teams_Premium_contr['dire_sevenDayAgo_elo32'])\n",
    "# df_rating_teams_Premium_contr['dire_delta7day_elo64'] = (df_rating_teams_Premium_contr['dire_current_elo64'] - \n",
    "#                                                 df_rating_teams_Premium_contr['dire_sevenDayAgo_elo64'])\n",
    "\n",
    "# df_rating_teams_Premium_contr['radiant_delta30day_elo32'] = (df_rating_teams_Premium_contr['radiant_current_elo32'] - \n",
    "#                                                 df_rating_teams_Premium_contr['radiant_thirtyDayAgo_elo32'])\n",
    "# df_rating_teams_Premium_contr['radiant_delta30day_elo64'] = (df_rating_teams_Premium_contr['radiant_current_elo64'] - \n",
    "#                                                 df_rating_teams_Premium_contr['radiant_thirtyDayAgo_elo64'])\n",
    "\n",
    "# df_rating_teams_Premium_contr['dire_delta30day_elo32'] = (df_rating_teams_Premium_contr['dire_current_elo32'] - \n",
    "#                                                 df_rating_teams_Premium_contr['dire_thirtyDayAgo_elo32'])\n",
    "# df_rating_teams_Premium_contr['dire_delta30day_elo64'] = (df_rating_teams_Premium_contr['dire_current_elo64'] - \n",
    "#                                                 df_rating_teams_Premium_contr['dire_thirtyDayAgo_elo64'])\n"
   ]
  },
  {
   "cell_type": "markdown",
   "metadata": {},
   "source": [
    "# Подгрузка данных с Премиум матчей"
   ]
  },
  {
   "cell_type": "code",
   "execution_count": 68,
   "metadata": {
    "collapsed": true
   },
   "outputs": [],
   "source": [
    "# # ДФ с контрпиками (head-to-head, PRO, >20) с 6,74-7,12 и до 2018.10.01\n",
    "# df_contrpick_premium_contr = pd.read_csv('../tabel/table from Datdota/Heah-to-head Contrpicks/'+\n",
    "#                 'data from 6.74-last. on 2018-03-01 to 2018-04-08 (PreDay, Pro, more 20).csv', index_col=0)\n",
    "\n",
    "# # ДФ с метовыми героями (PRO, >10)\n",
    "# df_meta_heroes_premium_contr = pd.read_csv('../tabel/table from Datdota/AvgElo Meta and Signatures Heroes/'+\n",
    "#                              'Meta on 2018-03-01 to 2018-04-08 (TwoMonthAgo, Pro, more 20).csv', index_col=0)"
   ]
  },
  {
   "cell_type": "code",
   "execution_count": 69,
   "metadata": {
    "collapsed": true
   },
   "outputs": [],
   "source": [
    "# contr_Premium = get_main_df_for_predict_for_ProTeams(df_rating_teams_Premium_contr,\n",
    "#                                                     df_contrpick_premium_contr, df_meta_heroes_premium_contr)\n"
   ]
  },
  {
   "cell_type": "code",
   "execution_count": 70,
   "metadata": {
    "collapsed": true
   },
   "outputs": [],
   "source": [
    "# contr_Premium.columns"
   ]
  },
  {
   "cell_type": "markdown",
   "metadata": {},
   "source": [
    "# Создание обучающих и тестовых данных"
   ]
  },
  {
   "cell_type": "code",
   "execution_count": 80,
   "metadata": {},
   "outputs": [
    {
     "name": "stdout",
     "output_type": "stream",
     "text": [
      "956\n",
      "956\n"
     ]
    },
    {
     "name": "stderr",
     "output_type": "stream",
     "text": [
      "C:\\Apps\\Anaconda3\\lib\\site-packages\\ipykernel_launcher.py:24: RuntimeWarning: divide by zero encountered in log\n",
      "C:\\Apps\\Anaconda3\\lib\\site-packages\\ipykernel_launcher.py:35: RuntimeWarning: divide by zero encountered in log\n",
      "C:\\Apps\\Anaconda3\\lib\\site-packages\\ipykernel_launcher.py:46: RuntimeWarning: divide by zero encountered in log\n"
     ]
    }
   ],
   "source": [
    "contr = get_main_df_for_predict(df_rating_teams_Premium_contr, df_contrpick_contr, df_meta_heroes_contr, \n",
    "        df_features_Heroes_contr, df_features_type_Heroes_contr, df_predict_for_teams_rating_contr, df_meta_7day_ago_contr, \n",
    "        df_KDA_heroes_contr, df_KDA_heroes_7day_ago_contr, df_KDA_players_on_hero_contr, df_KDA_players_7day_ago_contr,\n",
    "        df_KDA_heroes_30day_ago_contr, df_meta_couples_heroes_contr)"
   ]
  },
  {
   "cell_type": "code",
   "execution_count": 81,
   "metadata": {},
   "outputs": [
    {
     "data": {
      "text/plain": [
       "912"
      ]
     },
     "execution_count": 81,
     "metadata": {},
     "output_type": "execute_result"
    }
   ],
   "source": [
    "# contr = pd.merge(contr, contr_Premium, left_on='match_id', right_on='match_id',how='left')\n",
    "# contr = pd.merge(contr, df_predict_signatures_contr, left_on='match_id', right_on='match_id',how='left')\n",
    "contr = contr.dropna()\n",
    "len(contr)"
   ]
  },
  {
   "cell_type": "code",
   "execution_count": 82,
   "metadata": {
    "collapsed": true
   },
   "outputs": [],
   "source": [
    "# Создание контрольной выборки\n",
    "# Cделать обучающие данные и ответы\n",
    "X_contr = contr.drop(['radiant_win', 'match_id'], axis=1) # ], axis=1) # \n",
    "y_contr = contr['radiant_win']\n",
    "\n",
    "# СДЕЛАТЬ 1 или 0 вместо true false\n",
    "y_contr = y_contr.astype(int)\n",
    "# X_contr.columns"
   ]
  },
  {
   "cell_type": "code",
   "execution_count": 83,
   "metadata": {
    "scrolled": false
   },
   "outputs": [
    {
     "name": "stdout",
     "output_type": "stream",
     "text": [
      "             precision    recall  f1-score   support\n",
      "\n",
      "   dire_win       0.65      0.65      0.65       398\n",
      "radiant_win       0.73      0.73      0.73       514\n",
      "\n",
      "avg / total       0.70      0.70      0.70       912\n",
      "\n",
      "AUC для градиентного бустинга - 0.750\n"
     ]
    }
   ],
   "source": [
    "print(classification_report(y_contr, XGB.predict(X_contr), target_names=['dire_win', 'radiant_win']))\n",
    "gb_auc = metrics.roc_auc_score(y_contr, XGB.predict_proba(X_contr)[:,1])\n",
    "print('AUC для градиентного бустинга - {:.3f}'.format(gb_auc))"
   ]
  },
  {
   "cell_type": "code",
   "execution_count": 178,
   "metadata": {
    "collapsed": true
   },
   "outputs": [],
   "source": [
    "# Запись данных предсказаний для проверки\n",
    "df_predict_signatures_contr = pd.DataFrame(contr['match_id'])\n",
    "df_predict_signatures_contr['Pred_7day_ago'] = XGB.predict_proba(X_contr)[:,1]"
   ]
  },
  {
   "cell_type": "code",
   "execution_count": 147,
   "metadata": {
    "collapsed": true,
    "scrolled": false
   },
   "outputs": [],
   "source": [
    "#  precision    recall  f1-score   support\n",
    "\n",
    "#    dire_win       0.73      0.77      0.75       107\n",
    "# radiant_win       0.77      0.74      0.76       116\n",
    "\n",
    "# avg / total       0.75      0.75      0.75       223\n",
    "\n",
    "# AUC для градиентного бустинга - 0.796\n",
    "# #          precision    recall  f1-score   support\n",
    "\n",
    "# #    dire_win       0.58      0.58      0.58       179\n",
    "# # radiant_win       0.70      0.70      0.70       250\n",
    "\n",
    "# # avg / total       0.65      0.65      0.65       429\n",
    "\n",
    "# # AUC для градиентного бустинга - 0.692\n",
    "# df_predict_signatures_contr = pd.DataFrame(contr['match_id'])\n",
    "# df_predict_signatures_contr['Pred_signatures'] = XGB.predict_proba(X_contr)[:,1]\n"
   ]
  },
  {
   "cell_type": "code",
   "execution_count": 64,
   "metadata": {
    "scrolled": true
   },
   "outputs": [
    {
     "data": {
      "image/png": "[encoded data removed]",
      "text/plain": [
       "<matplotlib.figure.Figure at 0xe8b2c88>"
      ]
     },
     "metadata": {},
     "output_type": "display_data"
    }
   ],
   "source": [
    "# важность признаков в бустинге\n",
    "\n",
    "n_features = X_contr.shape[1]\n",
    "\n",
    "plt.figure(figsize=(20,40))\n",
    "plt.barh(range(n_features), XGB.feature_importances_, align='center')\n",
    "plt.yticks(np.arange(n_features), X_contr.columns, fontsize=15)\n",
    "plt.xlabel('Важность признака', fontsize=18)\n",
    "plt.ylabel('Признаки', fontsize=18)\n",
    "plt.show()"
   ]
  },
  {
   "cell_type": "code",
   "execution_count": 334,
   "metadata": {
    "collapsed": true
   },
   "outputs": [],
   "source": [
    "# # Создать и сохранить фичу с предсказаниями по алгоритму, обученому на рейтинге команд\n",
    "# df_pedict_for_rating_teams = pd.DataFrame(XGB.predict_proba(X_contr)[:,1:], columns=['Predict'])\n",
    "# df_pedict_for_rating_teams['match_id'] = df_rating_teams_Premium_contr['match_id'].reset_index().drop('index', axis=1)\n",
    "# df_pedict_for_rating_teams.to_csv('../tabel/table from Datdota/'+\n",
    "#                            'Predict Pro on 2018-03-01 to 2018-04-08.csv')"
   ]
  },
  {
   "cell_type": "code",
   "execution_count": null,
   "metadata": {
    "collapsed": true
   },
   "outputs": [],
   "source": []
  },
  {
   "cell_type": "code",
   "execution_count": null,
   "metadata": {
    "collapsed": true
   },
   "outputs": [],
   "source": []
  },
  {
   "cell_type": "code",
   "execution_count": null,
   "metadata": {
    "collapsed": true
   },
   "outputs": [],
   "source": []
  },
  {
   "cell_type": "code",
   "execution_count": null,
   "metadata": {
    "collapsed": true
   },
   "outputs": [],
   "source": []
  },
  {
   "cell_type": "code",
   "execution_count": null,
   "metadata": {
    "collapsed": true
   },
   "outputs": [],
   "source": []
  },
  {
   "cell_type": "code",
   "execution_count": null,
   "metadata": {
    "collapsed": true
   },
   "outputs": [],
   "source": []
  },
  {
   "cell_type": "code",
   "execution_count": null,
   "metadata": {
    "collapsed": true
   },
   "outputs": [],
   "source": []
  },
  {
   "cell_type": "code",
   "execution_count": null,
   "metadata": {
    "collapsed": true
   },
   "outputs": [],
   "source": []
  },
  {
   "cell_type": "markdown",
   "metadata": {
    "collapsed": true
   },
   "source": [
    "# Подгрузка данных по матчам Professional"
   ]
  },
  {
   "cell_type": "code",
   "execution_count": 140,
   "metadata": {
    "collapsed": true
   },
   "outputs": [],
   "source": [
    "# # Работа с данными Professional\n",
    "# # ДФ с контрпиками (head-to-head, PRO, >20) с 6,74-7,12 и до 2018.10.01\n",
    "# df_contrpick_Pro = pd.read_csv('../tabel/table from Datdota/Heah-to-head Contrpicks/'+\n",
    "#                 'Professional data from 6.74-last. on 2012-02-28 to 2018-03-01 (PreDay, All, more 20).csv', index_col=0)\n",
    "# # ДФ с метовыми героями (PRO, >10)\n",
    "# df_meta_heroes_Pro = pd.read_csv('../tabel/table from Datdota/AvgElo Meta and Signatures Heroes/'+\n",
    "#                              'Professional Meta on 2012-02-28 to 2018-03-01 (TwoMonthAgo, All, more 20).csv', index_col=0)\n",
    "\n",
    "# # ДФ с сигнатурками для каждого игрока (ALL, >5)\n",
    "# df_signatures_heroes_Pro = pd.read_csv('../tabel/table from Datdota/AvgElo Meta and Signatures Heroes/'+\n",
    "#                                    'Professional Players Signatures on 2012-02-28 to 2018-03-01 (All, more 5) (previosly day).csv', index_col=0)"
   ]
  },
  {
   "cell_type": "code",
   "execution_count": 141,
   "metadata": {
    "collapsed": true
   },
   "outputs": [],
   "source": [
    "def replace_in_columns_to_mean(df ):\n",
    "    # Заменить 0.0 во всех колонках на среднее значение\n",
    "    # посчитать среднее значение для elo игрока\n",
    "    a = []\n",
    "    H_or_P = df.columns[0].split('_')[1][0]\n",
    "    end_name_columns = df.columns[0][( df.columns[0].find('_')+3):]\n",
    "    for i in range (1,6):\n",
    "        a.append(df[('radiant_{}{}'+end_name_columns).format(H_or_P, i)].mean())\n",
    "    #     print(df_contrpick['radiant_H{}elo_vs_enemies'.format(i)].value_counts().head())\n",
    "\n",
    "        a.append(df[('dire_{}{}'+end_name_columns).format(H_or_P, i)].mean())\n",
    "    #     print(df_contrpick['dire_H{}elo_vs_enemies'.format(i)].value_counts().head())\n",
    "    mean_Players = np.array(a).mean()\n",
    "    print(mean_Players)\n",
    "    # заменить все значения 0.0 в elo игрока на среднее значение\n",
    "    for i in range (1,6):\n",
    "        df[('radiant_{}{}'+end_name_columns).format(H_or_P, i)] = df[('radiant_{}{}'+end_name_columns\n",
    "                                                            ).format(H_or_P, i)].replace(0, mean_Players)\n",
    "\n",
    "        df[('dire_{}{}'+end_name_columns).format(H_or_P, i)] = df[('dire_{}{}'+end_name_columns\n",
    "                                                         ).format(H_or_P, i)].replace(0, mean_Players)  "
   ]
  },
  {
   "cell_type": "code",
   "execution_count": null,
   "metadata": {
    "collapsed": true
   },
   "outputs": [],
   "source": []
  },
  {
   "cell_type": "code",
   "execution_count": 142,
   "metadata": {
    "collapsed": true
   },
   "outputs": [],
   "source": [
    "# replace_in_columns_to_mean(df_signatures_heroes)\n",
    "# replace_in_columns_to_mean(df_signatures_heroes_Pro, '_eloShift')"
   ]
  },
  {
   "cell_type": "code",
   "execution_count": 143,
   "metadata": {
    "collapsed": true
   },
   "outputs": [],
   "source": [
    "# for i in range (1,6):\n",
    "#         print(df_contrpick['radiant_H{}_elo_vs_enemies'.format(i)].value_counts().head())\n",
    "#         print(df_contrpick['dire_H{}_elo_vs_enemies'.format(i)].value_counts().head())"
   ]
  },
  {
   "cell_type": "code",
   "execution_count": 144,
   "metadata": {
    "collapsed": true
   },
   "outputs": [],
   "source": [
    "# df_signatures_heroes_Pro = df_signatures_heroes_Pro[['radiant_P1_eloShift', 'radiant_P2_eloShift', 'radiant_P3_eloShift', \n",
    "#                                             'radiant_P4_eloShift', 'radiant_P5_eloShift', 'dire_P1_eloShift', \n",
    "#                                             'dire_P2_eloShift', 'dire_P3_eloShift', 'dire_P4_eloShift', \n",
    "#                                             'dire_P5_eloShift', 'match_id']].fillna(mean_Players)\n",
    "\n",
    "# # Соединение всех данных в один ДФ\n",
    "# main2 = pd.read_csv('../tabel/'+\n",
    "#                 'Proffesional on patch 7.01 to 2018-03-01 (match_id).csv')\n",
    "# # main2 = pd.merge(main2, df_contrpick_Pro, left_on='match_id', right_on='match_id',how='left')\n",
    "# # main2 = pd.merge(main2, df_meta_heroes_Pro, left_on='match_id', right_on='match_id',how='left')\n",
    "# main2 = pd.merge(main2, df_signatures_heroes_Pro, left_on='match_id', right_on='match_id',how='left')\n",
    "\n",
    "# # # удаление не нужных колонок для обучения\n",
    "# main2 = main2.drop(['match_id', 'start_time', 'radiant_team_id', 'radiant_score', 'dire_team_id',\n",
    "#            'dire_score'], axis=1)\n",
    "\n",
    "# print (len(main2))\n",
    "# main2.columns"
   ]
  },
  {
   "cell_type": "code",
   "execution_count": 145,
   "metadata": {
    "collapsed": true
   },
   "outputs": [],
   "source": [
    "# main = df_signatures_heroes\n",
    "# print (len(main))\n",
    "# main.columns"
   ]
  },
  {
   "cell_type": "markdown",
   "metadata": {
    "collapsed": true
   },
   "source": [
    "# Старые проверки и работы"
   ]
  },
  {
   "cell_type": "markdown",
   "metadata": {},
   "source": [
    "# Создание основного ДФ для обучения и предсказания"
   ]
  },
  {
   "cell_type": "code",
   "execution_count": 122,
   "metadata": {},
   "outputs": [
    {
     "name": "stdout",
     "output_type": "stream",
     "text": [
      "3602\n"
     ]
    }
   ],
   "source": [
    "df_signatures_heroes = df_signatures_heroes[['radiant_P1_eloShift', 'radiant_P2_eloShift', 'radiant_P3_eloShift', \n",
    "                                            'radiant_P4_eloShift', 'radiant_P5_eloShift', 'dire_P1_eloShift', \n",
    "                                            'dire_P2_eloShift', 'dire_P3_eloShift', 'dire_P4_eloShift', \n",
    "                                            'dire_P5_eloShift', 'match_id']]\n",
    "\n",
    "# Соединение всех данных в один ДФ\n",
    "main = df_rating_teams_Premium\n",
    "main = pd.merge(main, df_contrpick, left_on='match_id', right_on='match_id',how='left')\n",
    "main = pd.merge(main, df_meta_heroes, left_on='match_id', right_on='match_id',how='left')\n",
    "main = pd.merge(main, df_signatures_heroes, left_on='match_id', right_on='match_id',how='left')\n",
    "\n",
    "# ---------------------------------------------------------------------------------------------------------------------\n",
    "# Добавить фичи по геряом и типам героев\n",
    "# main = pd.merge(main, df_features_type_Heroes, left_on='match_id', right_on='match_id',how='left')\n",
    "main = pd.merge(main, df_features_Heroes, left_on='match_id', right_on='match_id',how='left')\n",
    "# ---------------------------------------------------------------------------------------------------------------------\n",
    "\n",
    "# ---------------------------------------------------------------------------------------------------------------------\n",
    "# Добавить фичи по Professional матчам\n",
    "# main = pd.merge(main, df_contrpick_Pro10, left_on='match_id', right_on='match_id',how='left')\n",
    "# main = pd.merge(main, df_contrpick_2MonthAgo_AllTeam1, left_on='match_id', right_on='match_id',how='left')\n",
    "# ---------------------------------------------------------------------------------------------------------------------\n",
    "\n",
    "# удаление не нужных колонок для обучения\n",
    "main = main.drop(['match_id', 'start_time', 'radiant_team_id', 'radiant_score', 'dire_team_id',\n",
    "           'dire_score', 'radiant_name', 'dire_name','league_name'], axis=1)\n",
    "main = main.drop(main.loc[:, 'radiant_H1' : 'dire_P5'], axis=1)\n",
    "\n",
    "\n",
    "# # Оставляю только важные фичи, убираю из рейтинга команд ело32 и ело64\n",
    "# main = main.drop(main.loc[:, 'radiant_current_elo32':'radiant_thirtyDayAvg_elo64'], axis=1)\n",
    "# main = main.drop(main.loc[:, 'dire_current_elo32':'dire_thirtyDayAvg_elo64'], axis=1)\n",
    "# main = main.drop(main.loc[:, 'radiant_ratingSevenDaysAgo_glicko':'radiant_ratingSevenDaysAgo_glicko2'], axis=1)\n",
    "# main = main.drop(main.loc[:, 'dire_ratingSevenDaysAgo_glicko':'dire_ratingSevenDaysAgo_glicko2'], axis=1)\n",
    "# Выбросить весь рейтинг команд\n",
    "main = main.drop(main.loc[:, 'radiant_current_elo32':'dire_ratingSevenDaysAgo_glicko2'], axis=1)\n",
    "\n",
    "print (len(main))\n",
    "# main.columns"
   ]
  },
  {
   "cell_type": "code",
   "execution_count": null,
   "metadata": {
    "collapsed": true
   },
   "outputs": [],
   "source": []
  },
  {
   "cell_type": "code",
   "execution_count": 78,
   "metadata": {},
   "outputs": [
    {
     "name": "stdout",
     "output_type": "stream",
     "text": [
      "1728.34025281\n"
     ]
    },
    {
     "data": {
      "text/plain": [
       "datetime.date(2017, 9, 30)"
      ]
     },
     "execution_count": 78,
     "metadata": {},
     "output_type": "execute_result"
    }
   ],
   "source": [
    "print(main.loc[2000, \"radiant_rating_glicko2\"])\n",
    "datetime.date.fromtimestamp(1506788216)"
   ]
  },
  {
   "cell_type": "code",
   "execution_count": 102,
   "metadata": {},
   "outputs": [
    {
     "data": {
      "text/html": [
       "<div>\n",
       "<style>\n",
       "    .dataframe thead tr:only-child th {\n",
       "        text-align: right;\n",
       "    }\n",
       "\n",
       "    .dataframe thead th {\n",
       "        text-align: left;\n",
       "    }\n",
       "\n",
       "    .dataframe tbody tr th {\n",
       "        vertical-align: top;\n",
       "    }\n",
       "</style>\n",
       "<table border=\"1\" class=\"dataframe\">\n",
       "  <thead>\n",
       "    <tr style=\"text-align: right;\">\n",
       "      <th></th>\n",
       "      <th>radiant_P1_eloShift</th>\n",
       "      <th>radiant_P2_eloShift</th>\n",
       "      <th>radiant_P3_eloShift</th>\n",
       "      <th>radiant_P4_eloShift</th>\n",
       "      <th>radiant_P5_eloShift</th>\n",
       "      <th>dire_P1_eloShift</th>\n",
       "      <th>dire_P2_eloShift</th>\n",
       "      <th>dire_P3_eloShift</th>\n",
       "      <th>dire_P4_eloShift</th>\n",
       "      <th>dire_P5_eloShift</th>\n",
       "      <th>match_id</th>\n",
       "    </tr>\n",
       "  </thead>\n",
       "  <tbody>\n",
       "    <tr>\n",
       "      <th>2000</th>\n",
       "      <td>3.795196</td>\n",
       "      <td>-4.318838</td>\n",
       "      <td>0.0</td>\n",
       "      <td>-5.28387</td>\n",
       "      <td>0.0</td>\n",
       "      <td>0.0</td>\n",
       "      <td>0.0</td>\n",
       "      <td>4.273999</td>\n",
       "      <td>2.530319</td>\n",
       "      <td>-11.045056</td>\n",
       "      <td>3475124948</td>\n",
       "    </tr>\n",
       "  </tbody>\n",
       "</table>\n",
       "</div>"
      ],
      "text/plain": [
       "      radiant_P1_eloShift  radiant_P2_eloShift  radiant_P3_eloShift  \\\n",
       "2000             3.795196            -4.318838                  0.0   \n",
       "\n",
       "      radiant_P4_eloShift  radiant_P5_eloShift  dire_P1_eloShift  \\\n",
       "2000             -5.28387                  0.0               0.0   \n",
       "\n",
       "      dire_P2_eloShift  dire_P3_eloShift  dire_P4_eloShift  dire_P5_eloShift  \\\n",
       "2000               0.0          4.273999          2.530319        -11.045056   \n",
       "\n",
       "        match_id  \n",
       "2000  3475124948  "
      ]
     },
     "execution_count": 102,
     "metadata": {},
     "output_type": "execute_result"
    }
   ],
   "source": [
    "df_signatures_heroes[df_signatures_heroes['match_id']== 3475124948].loc[:, :]"
   ]
  },
  {
   "cell_type": "code",
   "execution_count": 124,
   "metadata": {},
   "outputs": [
    {
     "data": {
      "text/plain": [
       "3452"
      ]
     },
     "execution_count": 124,
     "metadata": {},
     "output_type": "execute_result"
    }
   ],
   "source": [
    "# Заполнить пустые значения на 0\n",
    "# main = main.fillna(0)\n",
    "\n",
    "main['Predict'] = predict_for_rating_teams\n",
    "# убрать пустые ячейки\n",
    "main = main.dropna()\n",
    "len(main)"
   ]
  },
  {
   "cell_type": "code",
   "execution_count": 125,
   "metadata": {},
   "outputs": [
    {
     "data": {
      "text/plain": [
       "Index(['radiant_win', 'radiant_H1_elo_vs_enemies', 'radiant_H2_elo_vs_enemies',\n",
       "       'radiant_H3_elo_vs_enemies', 'radiant_H4_elo_vs_enemies',\n",
       "       'radiant_H5_elo_vs_enemies', 'dire_H1_elo_vs_enemies',\n",
       "       'dire_H2_elo_vs_enemies', 'dire_H3_elo_vs_enemies',\n",
       "       'dire_H4_elo_vs_enemies',\n",
       "       ...\n",
       "       'Underlord', 'Terrorblade', 'Phoenix', 'Oracle', 'Winter Wyvern',\n",
       "       'Arc Warden', 'Monkey King', 'Dark Willow', 'Pangolier', 'Predict'],\n",
       "      dtype='object', length=147)"
      ]
     },
     "execution_count": 125,
     "metadata": {},
     "output_type": "execute_result"
    }
   ],
   "source": [
    "main.columns"
   ]
  },
  {
   "cell_type": "code",
   "execution_count": 127,
   "metadata": {
    "collapsed": true
   },
   "outputs": [
    {
     "name": "stderr",
     "output_type": "stream",
     "text": [
      "C:\\Apps\\Anaconda3\\lib\\site-packages\\ipykernel_launcher.py:3: SettingWithCopyWarning: \n",
      "A value is trying to be set on a copy of a slice from a DataFrame.\n",
      "Try using .loc[row_indexer,col_indexer] = value instead\n",
      "\n",
      "See the caveats in the documentation: http://pandas.pydata.org/pandas-docs/stable/indexing.html#indexing-view-versus-copy\n",
      "  This is separate from the ipykernel package so we can avoid doing imports until\n",
      "C:\\Apps\\Anaconda3\\lib\\site-packages\\ipykernel_launcher.py:12: SettingWithCopyWarning: \n",
      "A value is trying to be set on a copy of a slice from a DataFrame.\n",
      "Try using .loc[row_indexer,col_indexer] = value instead\n",
      "\n",
      "See the caveats in the documentation: http://pandas.pydata.org/pandas-docs/stable/indexing.html#indexing-view-versus-copy\n",
      "  if sys.path[0] == '':\n",
      "C:\\Apps\\Anaconda3\\lib\\site-packages\\ipykernel_launcher.py:15: SettingWithCopyWarning: \n",
      "A value is trying to be set on a copy of a slice from a DataFrame.\n",
      "Try using .loc[row_indexer,col_indexer] = value instead\n",
      "\n",
      "See the caveats in the documentation: http://pandas.pydata.org/pandas-docs/stable/indexing.html#indexing-view-versus-copy\n",
      "  from ipykernel import kernelapp as app\n",
      "C:\\Apps\\Anaconda3\\lib\\site-packages\\ipykernel_launcher.py:17: SettingWithCopyWarning: \n",
      "A value is trying to be set on a copy of a slice from a DataFrame.\n",
      "Try using .loc[row_indexer,col_indexer] = value instead\n",
      "\n",
      "See the caveats in the documentation: http://pandas.pydata.org/pandas-docs/stable/indexing.html#indexing-view-versus-copy\n"
     ]
    }
   ],
   "source": [
    "# Создаем новые колонуи по суммам, разности показателей\n",
    "main['radiant_elo_vs_enemies'] = (main['radiant_H1_elo_vs_enemies'] + main['radiant_H2_elo_vs_enemies'] + \n",
    "                main['radiant_H3_elo_vs_enemies'] + main['radiant_H4_elo_vs_enemies'] + main['radiant_H5_elo_vs_enemies'])\n",
    "\n",
    "# main['dire_elo_vs_enemies'] = (main['dire_H1_elo_vs_enemies'] + main['dire_H2_elo_vs_enemies'] + \n",
    "#                             main['dire_H3_elo_vs_enemies'] + main['dire_H4_elo_vs_enemies'] + main['dire_H5_elo_vs_enemies'])\n",
    "\n",
    "# main['elo_vs_enemies'] = main['radiant_elo_vs_enemies'] - main['dire_elo_vs_enemies']\n",
    "# main = main.drop(['radiant_elo_vs_enemies', 'dire_elo_vs_enemies'], axis=1)\n",
    "\n",
    "main['radiant_P_eloShift'] = (main['radiant_P1_eloShift'] + main['radiant_P2_eloShift'] + \n",
    "                              main['radiant_P3_eloShift'] + main['radiant_P4_eloShift'] + main['radiant_P5_eloShift'])\n",
    "\n",
    "main['dire_P_eloShift'] = (main['dire_P1_eloShift'] + main['dire_P2_eloShift'] + \n",
    "                           main['dire_P3_eloShift'] + main['dire_P4_eloShift'] + main['dire_P5_eloShift'])\n",
    "\n",
    "main['P_eloShift'] = main['radiant_P_eloShift'] - main['dire_P_eloShift']\n",
    "\n",
    "# main = main.drop(['radiant_P_eloShift', 'dire_P_eloShift'], axis=1)"
   ]
  },
  {
   "cell_type": "code",
   "execution_count": 128,
   "metadata": {
    "collapsed": true
   },
   "outputs": [
    {
     "name": "stderr",
     "output_type": "stream",
     "text": [
      "C:\\Apps\\Anaconda3\\lib\\site-packages\\ipykernel_launcher.py:2: SettingWithCopyWarning: \n",
      "A value is trying to be set on a copy of a slice from a DataFrame.\n",
      "Try using .loc[row_indexer,col_indexer] = value instead\n",
      "\n",
      "See the caveats in the documentation: http://pandas.pydata.org/pandas-docs/stable/indexing.html#indexing-view-versus-copy\n",
      "  \n",
      "C:\\Apps\\Anaconda3\\lib\\site-packages\\ipykernel_launcher.py:5: SettingWithCopyWarning: \n",
      "A value is trying to be set on a copy of a slice from a DataFrame.\n",
      "Try using .loc[row_indexer,col_indexer] = value instead\n",
      "\n",
      "See the caveats in the documentation: http://pandas.pydata.org/pandas-docs/stable/indexing.html#indexing-view-versus-copy\n",
      "  \"\"\"\n",
      "C:\\Apps\\Anaconda3\\lib\\site-packages\\ipykernel_launcher.py:7: SettingWithCopyWarning: \n",
      "A value is trying to be set on a copy of a slice from a DataFrame.\n",
      "Try using .loc[row_indexer,col_indexer] = value instead\n",
      "\n",
      "See the caveats in the documentation: http://pandas.pydata.org/pandas-docs/stable/indexing.html#indexing-view-versus-copy\n",
      "  import sys\n"
     ]
    }
   ],
   "source": [
    "main['radiant_H_AvgElo'] = (main['radiant_H1_AvgElo'] + main['radiant_H2_AvgElo'] + \n",
    "                              main['radiant_H3_AvgElo'] + main['radiant_H4_AvgElo'] + main['radiant_H5_AvgElo'])\n",
    "\n",
    "main['dire_H_AvgElo'] = (main['dire_H1_AvgElo'] + main['dire_H2_AvgElo'] + \n",
    "                           main['dire_H3_AvgElo'] + main['dire_H4_AvgElo'] + main['dire_H5_AvgElo'])\n",
    "\n",
    "main['H_AvgElo'] = main['radiant_H_AvgElo'] - main['dire_H_AvgElo']\n",
    "\n",
    "# main = main.drop(['dire_H_AvgElo', 'radiant_H_AvgElo'], axis=1)"
   ]
  },
  {
   "cell_type": "code",
   "execution_count": 129,
   "metadata": {
    "collapsed": true
   },
   "outputs": [
    {
     "ename": "KeyError",
     "evalue": "'Disabler1'",
     "output_type": "error",
     "traceback": [
      "\u001b[1;31m---------------------------------------------------------------------------\u001b[0m",
      "\u001b[1;31mKeyError\u001b[0m                                  Traceback (most recent call last)",
      "\u001b[1;32mC:\\Apps\\Anaconda3\\lib\\site-packages\\pandas\\core\\indexes\\base.py\u001b[0m in \u001b[0;36mget_loc\u001b[1;34m(self, key, method, tolerance)\u001b[0m\n\u001b[0;32m   2441\u001b[0m             \u001b[1;32mtry\u001b[0m\u001b[1;33m:\u001b[0m\u001b[1;33m\u001b[0m\u001b[0m\n\u001b[1;32m-> 2442\u001b[1;33m                 \u001b[1;32mreturn\u001b[0m \u001b[0mself\u001b[0m\u001b[1;33m.\u001b[0m\u001b[0m_engine\u001b[0m\u001b[1;33m.\u001b[0m\u001b[0mget_loc\u001b[0m\u001b[1;33m(\u001b[0m\u001b[0mkey\u001b[0m\u001b[1;33m)\u001b[0m\u001b[1;33m\u001b[0m\u001b[0m\n\u001b[0m\u001b[0;32m   2443\u001b[0m             \u001b[1;32mexcept\u001b[0m \u001b[0mKeyError\u001b[0m\u001b[1;33m:\u001b[0m\u001b[1;33m\u001b[0m\u001b[0m\n",
      "\u001b[1;32mpandas\\_libs\\index.pyx\u001b[0m in \u001b[0;36mpandas._libs.index.IndexEngine.get_loc\u001b[1;34m()\u001b[0m\n",
      "\u001b[1;32mpandas\\_libs\\index.pyx\u001b[0m in \u001b[0;36mpandas._libs.index.IndexEngine.get_loc\u001b[1;34m()\u001b[0m\n",
      "\u001b[1;32mpandas\\_libs\\hashtable_class_helper.pxi\u001b[0m in \u001b[0;36mpandas._libs.hashtable.PyObjectHashTable.get_item\u001b[1;34m()\u001b[0m\n",
      "\u001b[1;32mpandas\\_libs\\hashtable_class_helper.pxi\u001b[0m in \u001b[0;36mpandas._libs.hashtable.PyObjectHashTable.get_item\u001b[1;34m()\u001b[0m\n",
      "\u001b[1;31mKeyError\u001b[0m: 'Disabler1'",
      "\nDuring handling of the above exception, another exception occurred:\n",
      "\u001b[1;31mKeyError\u001b[0m                                  Traceback (most recent call last)",
      "\u001b[1;32m<ipython-input-129-912757a36ba1>\u001b[0m in \u001b[0;36m<module>\u001b[1;34m()\u001b[0m\n\u001b[0;32m      1\u001b[0m main['Disabler'] = (main['Disabler1'] + main['Disabler2'] + main['Disabler3'] + main['Disabler4'] + main['Disabler5'] - \n\u001b[1;32m----> 2\u001b[1;33m                    main['Disabler6'] - main['Disabler7'] - main['Disabler8'] - main['Disabler9'] - main['Disabler10'])\n\u001b[0m\u001b[0;32m      3\u001b[0m \u001b[1;33m\u001b[0m\u001b[0m\n\u001b[0;32m      4\u001b[0m main['Nuker'] = (main['Nuker1'] + main['Nuker2'] + main['Nuker3'] + main['Nuker4'] + main['Nuker5'] - \n\u001b[0;32m      5\u001b[0m                    main['Nuker6'] - main['Nuker7'] - main['Nuker8'] - main['Nuker9'] - main['Nuker10'])\n",
      "\u001b[1;32mC:\\Apps\\Anaconda3\\lib\\site-packages\\pandas\\core\\frame.py\u001b[0m in \u001b[0;36m__getitem__\u001b[1;34m(self, key)\u001b[0m\n\u001b[0;32m   1962\u001b[0m             \u001b[1;32mreturn\u001b[0m \u001b[0mself\u001b[0m\u001b[1;33m.\u001b[0m\u001b[0m_getitem_multilevel\u001b[0m\u001b[1;33m(\u001b[0m\u001b[0mkey\u001b[0m\u001b[1;33m)\u001b[0m\u001b[1;33m\u001b[0m\u001b[0m\n\u001b[0;32m   1963\u001b[0m         \u001b[1;32melse\u001b[0m\u001b[1;33m:\u001b[0m\u001b[1;33m\u001b[0m\u001b[0m\n\u001b[1;32m-> 1964\u001b[1;33m             \u001b[1;32mreturn\u001b[0m \u001b[0mself\u001b[0m\u001b[1;33m.\u001b[0m\u001b[0m_getitem_column\u001b[0m\u001b[1;33m(\u001b[0m\u001b[0mkey\u001b[0m\u001b[1;33m)\u001b[0m\u001b[1;33m\u001b[0m\u001b[0m\n\u001b[0m\u001b[0;32m   1965\u001b[0m \u001b[1;33m\u001b[0m\u001b[0m\n\u001b[0;32m   1966\u001b[0m     \u001b[1;32mdef\u001b[0m \u001b[0m_getitem_column\u001b[0m\u001b[1;33m(\u001b[0m\u001b[0mself\u001b[0m\u001b[1;33m,\u001b[0m \u001b[0mkey\u001b[0m\u001b[1;33m)\u001b[0m\u001b[1;33m:\u001b[0m\u001b[1;33m\u001b[0m\u001b[0m\n",
      "\u001b[1;32mC:\\Apps\\Anaconda3\\lib\\site-packages\\pandas\\core\\frame.py\u001b[0m in \u001b[0;36m_getitem_column\u001b[1;34m(self, key)\u001b[0m\n\u001b[0;32m   1969\u001b[0m         \u001b[1;31m# get column\u001b[0m\u001b[1;33m\u001b[0m\u001b[1;33m\u001b[0m\u001b[0m\n\u001b[0;32m   1970\u001b[0m         \u001b[1;32mif\u001b[0m \u001b[0mself\u001b[0m\u001b[1;33m.\u001b[0m\u001b[0mcolumns\u001b[0m\u001b[1;33m.\u001b[0m\u001b[0mis_unique\u001b[0m\u001b[1;33m:\u001b[0m\u001b[1;33m\u001b[0m\u001b[0m\n\u001b[1;32m-> 1971\u001b[1;33m             \u001b[1;32mreturn\u001b[0m \u001b[0mself\u001b[0m\u001b[1;33m.\u001b[0m\u001b[0m_get_item_cache\u001b[0m\u001b[1;33m(\u001b[0m\u001b[0mkey\u001b[0m\u001b[1;33m)\u001b[0m\u001b[1;33m\u001b[0m\u001b[0m\n\u001b[0m\u001b[0;32m   1972\u001b[0m \u001b[1;33m\u001b[0m\u001b[0m\n\u001b[0;32m   1973\u001b[0m         \u001b[1;31m# duplicate columns & possible reduce dimensionality\u001b[0m\u001b[1;33m\u001b[0m\u001b[1;33m\u001b[0m\u001b[0m\n",
      "\u001b[1;32mC:\\Apps\\Anaconda3\\lib\\site-packages\\pandas\\core\\generic.py\u001b[0m in \u001b[0;36m_get_item_cache\u001b[1;34m(self, item)\u001b[0m\n\u001b[0;32m   1643\u001b[0m         \u001b[0mres\u001b[0m \u001b[1;33m=\u001b[0m \u001b[0mcache\u001b[0m\u001b[1;33m.\u001b[0m\u001b[0mget\u001b[0m\u001b[1;33m(\u001b[0m\u001b[0mitem\u001b[0m\u001b[1;33m)\u001b[0m\u001b[1;33m\u001b[0m\u001b[0m\n\u001b[0;32m   1644\u001b[0m         \u001b[1;32mif\u001b[0m \u001b[0mres\u001b[0m \u001b[1;32mis\u001b[0m \u001b[1;32mNone\u001b[0m\u001b[1;33m:\u001b[0m\u001b[1;33m\u001b[0m\u001b[0m\n\u001b[1;32m-> 1645\u001b[1;33m             \u001b[0mvalues\u001b[0m \u001b[1;33m=\u001b[0m \u001b[0mself\u001b[0m\u001b[1;33m.\u001b[0m\u001b[0m_data\u001b[0m\u001b[1;33m.\u001b[0m\u001b[0mget\u001b[0m\u001b[1;33m(\u001b[0m\u001b[0mitem\u001b[0m\u001b[1;33m)\u001b[0m\u001b[1;33m\u001b[0m\u001b[0m\n\u001b[0m\u001b[0;32m   1646\u001b[0m             \u001b[0mres\u001b[0m \u001b[1;33m=\u001b[0m \u001b[0mself\u001b[0m\u001b[1;33m.\u001b[0m\u001b[0m_box_item_values\u001b[0m\u001b[1;33m(\u001b[0m\u001b[0mitem\u001b[0m\u001b[1;33m,\u001b[0m \u001b[0mvalues\u001b[0m\u001b[1;33m)\u001b[0m\u001b[1;33m\u001b[0m\u001b[0m\n\u001b[0;32m   1647\u001b[0m             \u001b[0mcache\u001b[0m\u001b[1;33m[\u001b[0m\u001b[0mitem\u001b[0m\u001b[1;33m]\u001b[0m \u001b[1;33m=\u001b[0m \u001b[0mres\u001b[0m\u001b[1;33m\u001b[0m\u001b[0m\n",
      "\u001b[1;32mC:\\Apps\\Anaconda3\\lib\\site-packages\\pandas\\core\\internals.py\u001b[0m in \u001b[0;36mget\u001b[1;34m(self, item, fastpath)\u001b[0m\n\u001b[0;32m   3588\u001b[0m \u001b[1;33m\u001b[0m\u001b[0m\n\u001b[0;32m   3589\u001b[0m             \u001b[1;32mif\u001b[0m \u001b[1;32mnot\u001b[0m \u001b[0misnull\u001b[0m\u001b[1;33m(\u001b[0m\u001b[0mitem\u001b[0m\u001b[1;33m)\u001b[0m\u001b[1;33m:\u001b[0m\u001b[1;33m\u001b[0m\u001b[0m\n\u001b[1;32m-> 3590\u001b[1;33m                 \u001b[0mloc\u001b[0m \u001b[1;33m=\u001b[0m \u001b[0mself\u001b[0m\u001b[1;33m.\u001b[0m\u001b[0mitems\u001b[0m\u001b[1;33m.\u001b[0m\u001b[0mget_loc\u001b[0m\u001b[1;33m(\u001b[0m\u001b[0mitem\u001b[0m\u001b[1;33m)\u001b[0m\u001b[1;33m\u001b[0m\u001b[0m\n\u001b[0m\u001b[0;32m   3591\u001b[0m             \u001b[1;32melse\u001b[0m\u001b[1;33m:\u001b[0m\u001b[1;33m\u001b[0m\u001b[0m\n\u001b[0;32m   3592\u001b[0m                 \u001b[0mindexer\u001b[0m \u001b[1;33m=\u001b[0m \u001b[0mnp\u001b[0m\u001b[1;33m.\u001b[0m\u001b[0marange\u001b[0m\u001b[1;33m(\u001b[0m\u001b[0mlen\u001b[0m\u001b[1;33m(\u001b[0m\u001b[0mself\u001b[0m\u001b[1;33m.\u001b[0m\u001b[0mitems\u001b[0m\u001b[1;33m)\u001b[0m\u001b[1;33m)\u001b[0m\u001b[1;33m[\u001b[0m\u001b[0misnull\u001b[0m\u001b[1;33m(\u001b[0m\u001b[0mself\u001b[0m\u001b[1;33m.\u001b[0m\u001b[0mitems\u001b[0m\u001b[1;33m)\u001b[0m\u001b[1;33m]\u001b[0m\u001b[1;33m\u001b[0m\u001b[0m\n",
      "\u001b[1;32mC:\\Apps\\Anaconda3\\lib\\site-packages\\pandas\\core\\indexes\\base.py\u001b[0m in \u001b[0;36mget_loc\u001b[1;34m(self, key, method, tolerance)\u001b[0m\n\u001b[0;32m   2442\u001b[0m                 \u001b[1;32mreturn\u001b[0m \u001b[0mself\u001b[0m\u001b[1;33m.\u001b[0m\u001b[0m_engine\u001b[0m\u001b[1;33m.\u001b[0m\u001b[0mget_loc\u001b[0m\u001b[1;33m(\u001b[0m\u001b[0mkey\u001b[0m\u001b[1;33m)\u001b[0m\u001b[1;33m\u001b[0m\u001b[0m\n\u001b[0;32m   2443\u001b[0m             \u001b[1;32mexcept\u001b[0m \u001b[0mKeyError\u001b[0m\u001b[1;33m:\u001b[0m\u001b[1;33m\u001b[0m\u001b[0m\n\u001b[1;32m-> 2444\u001b[1;33m                 \u001b[1;32mreturn\u001b[0m \u001b[0mself\u001b[0m\u001b[1;33m.\u001b[0m\u001b[0m_engine\u001b[0m\u001b[1;33m.\u001b[0m\u001b[0mget_loc\u001b[0m\u001b[1;33m(\u001b[0m\u001b[0mself\u001b[0m\u001b[1;33m.\u001b[0m\u001b[0m_maybe_cast_indexer\u001b[0m\u001b[1;33m(\u001b[0m\u001b[0mkey\u001b[0m\u001b[1;33m)\u001b[0m\u001b[1;33m)\u001b[0m\u001b[1;33m\u001b[0m\u001b[0m\n\u001b[0m\u001b[0;32m   2445\u001b[0m \u001b[1;33m\u001b[0m\u001b[0m\n\u001b[0;32m   2446\u001b[0m         \u001b[0mindexer\u001b[0m \u001b[1;33m=\u001b[0m \u001b[0mself\u001b[0m\u001b[1;33m.\u001b[0m\u001b[0mget_indexer\u001b[0m\u001b[1;33m(\u001b[0m\u001b[1;33m[\u001b[0m\u001b[0mkey\u001b[0m\u001b[1;33m]\u001b[0m\u001b[1;33m,\u001b[0m \u001b[0mmethod\u001b[0m\u001b[1;33m=\u001b[0m\u001b[0mmethod\u001b[0m\u001b[1;33m,\u001b[0m \u001b[0mtolerance\u001b[0m\u001b[1;33m=\u001b[0m\u001b[0mtolerance\u001b[0m\u001b[1;33m)\u001b[0m\u001b[1;33m\u001b[0m\u001b[0m\n",
      "\u001b[1;32mpandas\\_libs\\index.pyx\u001b[0m in \u001b[0;36mpandas._libs.index.IndexEngine.get_loc\u001b[1;34m()\u001b[0m\n",
      "\u001b[1;32mpandas\\_libs\\index.pyx\u001b[0m in \u001b[0;36mpandas._libs.index.IndexEngine.get_loc\u001b[1;34m()\u001b[0m\n",
      "\u001b[1;32mpandas\\_libs\\hashtable_class_helper.pxi\u001b[0m in \u001b[0;36mpandas._libs.hashtable.PyObjectHashTable.get_item\u001b[1;34m()\u001b[0m\n",
      "\u001b[1;32mpandas\\_libs\\hashtable_class_helper.pxi\u001b[0m in \u001b[0;36mpandas._libs.hashtable.PyObjectHashTable.get_item\u001b[1;34m()\u001b[0m\n",
      "\u001b[1;31mKeyError\u001b[0m: 'Disabler1'"
     ]
    }
   ],
   "source": [
    "main['Disabler'] = (main['Disabler1'] + main['Disabler2'] + main['Disabler3'] + main['Disabler4'] + main['Disabler5'] - \n",
    "                   main['Disabler6'] - main['Disabler7'] - main['Disabler8'] - main['Disabler9'] - main['Disabler10'])\n",
    "\n",
    "main['Nuker'] = (main['Nuker1'] + main['Nuker2'] + main['Nuker3'] + main['Nuker4'] + main['Nuker5'] - \n",
    "                   main['Nuker6'] - main['Nuker7'] - main['Nuker8'] - main['Nuker9'] - main['Nuker10'])\n",
    "\n",
    "main['Carry'] = (main['Carry1'] + main['Carry2'] + main['Carry3'] + main['Carry4'] + main['Carry5'] - \n",
    "                   main['Carry6'] - main['Carry7'] - main['Carry8'] - main['Carry9'] - main['Carry10'])\n",
    "\n",
    "main['Initiator'] = (main['Initiator1'] + main['Initiator2'] + main['Initiator3'] + main['Initiator4'] + main['Initiator5'] - \n",
    "                   main['Initiator6'] - main['Initiator7'] - main['Initiator8'] - main['Initiator9'] - main['Initiator10'])\n",
    "\n",
    "main['Escape'] = (main['Escape1'] + main['Escape2'] + main['Escape3'] + main['Escape4'] + main['Escape5'] - \n",
    "                   main['Escape6'] - main['Escape7'] - main['Escape8'] - main['Escape9'] - main['Escape10'])\n",
    "\n",
    "main['Durable'] = (main['Durable1'] + main['Durable2'] + main['Durable3'] + main['Durable4'] + main['Durable5'] - \n",
    "                   main['Durable6'] - main['Durable7'] - main['Durable8'] - main['Durable9'] - main['Durable10'])\n",
    "\n",
    "main['Support'] = (main['Support1'] + main['Support2'] + main['Support3'] + main['Support4'] + main['Support5'] - \n",
    "                   main['Support6'] - main['Support7'] - main['Support8'] - main['Support9'] - main['Support10'])\n",
    "\n",
    "main['Pusher'] = (main['Pusher1'] + main['Pusher2'] + main['Pusher3'] + main['Pusher4'] + main['Pusher5'] - \n",
    "                   main['Pusher6'] - main['Pusher7'] - main['Pusher8'] - main['Pusher9'] - main['Pusher10'])\n",
    "\n",
    "main['Jungler'] = (main['Jungler1'] + main['Jungler2'] + main['Jungler3'] + main['Jungler4'] + main['Jungler5'] - \n",
    "                   main['Jungler6'] - main['Jungler7'] - main['Jungler8'] - main['Jungler9'] - main['Jungler10'])\n",
    "main = main.drop(['attac_type1','Disabler1','Nuker1','Carry1','Initiator1','Escape1','Durable1','Support1','Pusher1','Jungler1',\n",
    "           'attac_type2','Disabler2','Nuker2','Carry2','Initiator2','Escape2','Durable2','Support2','Pusher2','Jungler2',\n",
    "           'attac_type3','Disabler3','Nuker3','Carry3','Initiator3','Escape3','Durable3','Support3','Pusher3','Jungler3',\n",
    "           'attac_type4','Disabler4','Nuker4','Carry4','Initiator4','Escape4','Durable4','Support4','Pusher4','Jungler4',\n",
    "           'attac_type5','Disabler5','Nuker5','Carry5','Initiator5','Escape5','Durable5','Support5','Pusher5','Jungler5',\n",
    "           'attac_type6','Disabler6','Nuker6','Carry6','Initiator6','Escape6','Durable6','Support6','Pusher6','Jungler6',\n",
    "           'attac_type7','Disabler7','Nuker7','Carry7','Initiator7','Escape7','Durable7','Support7','Pusher7','Jungler7',\n",
    "           'attac_type8','Disabler8','Nuker8','Carry8','Initiator8','Escape8','Durable8','Support8','Pusher8','Jungler8',\n",
    "           'attac_type9','Disabler9','Nuker9','Carry9','Initiator9','Escape9','Durable9','Support9','Pusher9','Jungler9',\n",
    "     'attac_type10','Disabler10','Nuker10','Carry10','Initiator10','Escape10','Durable10','Support10','Pusher10','Jungler10'], axis=1)"
   ]
  },
  {
   "cell_type": "code",
   "execution_count": 68,
   "metadata": {
    "collapsed": true
   },
   "outputs": [],
   "source": [
    "from sklearn.preprocessing import StandardScaler, MinMaxScaler\n",
    "scaler = MinMaxScaler()\n",
    "main['Disabler'] = scaler.fit(pd.DataFrame(main['Disabler'])).transform(pd.DataFrame(main['Disabler']))\n",
    "main['Nuker'] = scaler.fit(pd.DataFrame(main['Nuker'])).transform(pd.DataFrame(main['Nuker']))\n",
    "main['Carry'] = scaler.fit(pd.DataFrame(main['Carry'])).transform(pd.DataFrame(main['Carry']))\n",
    "main['Initiator'] = scaler.fit(pd.DataFrame(main['Initiator'])).transform(pd.DataFrame(main['Initiator']))\n",
    "main['Escape'] = scaler.fit(pd.DataFrame(main['Escape'])).transform(pd.DataFrame(main['Escape']))\n",
    "main['Durable'] = scaler.fit(pd.DataFrame(main['Durable'])).transform(pd.DataFrame(main['Durable']))\n",
    "main['Support'] = scaler.fit(pd.DataFrame(main['Support'])).transform(pd.DataFrame(main['Support']))\n",
    "main['Pusher'] = scaler.fit(pd.DataFrame(main['Pusher'])).transform(pd.DataFrame(main['Pusher']))\n",
    "main['Jungler'] = scaler.fit(pd.DataFrame(main['Jungler'])).transform(pd.DataFrame(main['Jungler']))"
   ]
  },
  {
   "cell_type": "code",
   "execution_count": 69,
   "metadata": {},
   "outputs": [
    {
     "data": {
      "text/plain": [
       "Index(['radiant_win', 'radiant_mu_glicko', 'radiant_rating_glicko',\n",
       "       'radiant_ratingSevenDaysAgo_glicko', 'radiant_sigma_glicko',\n",
       "       'radiant_mu_glicko2', 'radiant_phi_glicko2', 'radiant_rating_glicko2',\n",
       "       'radiant_ratingSevenDaysAgo_glicko2', 'dire_mu_glicko',\n",
       "       ...\n",
       "       'H_AvgElo', 'Disabler', 'Nuker', 'Carry', 'Initiator', 'Escape',\n",
       "       'Durable', 'Support', 'Pusher', 'Jungler'],\n",
       "      dtype='object', length=178)"
      ]
     },
     "execution_count": 69,
     "metadata": {},
     "output_type": "execute_result"
    }
   ],
   "source": [
    "main.columns"
   ]
  },
  {
   "cell_type": "code",
   "execution_count": 106,
   "metadata": {
    "collapsed": true
   },
   "outputs": [],
   "source": [
    "main['mu_glicko'] = main['radiant_mu_glicko'] -  main['dire_mu_glicko']\n",
    "main['rating_glicko'] = main['radiant_rating_glicko'] -  main['dire_rating_glicko']\n",
    "main['ratingSevenDaysAgo_glicko'] = main['radiant_ratingSevenDaysAgo_glicko'] -  main['dire_ratingSevenDaysAgo_glicko']\n",
    "main['mu_glicko2'] = main['radiant_mu_glicko2'] -  main['dire_mu_glicko2']\n",
    "main['phi_glicko2'] = main['radiant_phi_glicko2'] -  main['dire_phi_glicko2']\n",
    "# main['rating_glicko2'] = main['radiant_rating_glicko2'] -  main['dire_rating_glicko2']\n",
    "# main['ratingSevenDaysAgo_glicko2'] = main['radiant_ratingSevenDaysAgo_glicko2'] -  main['dire_ratingSevenDaysAgo_glicko2']\n",
    "main = main.drop([#'Jungler', 'Pusher', 'Initiator', 'Escape', 'Nuker',\n",
    "                  # 'radiant_mu_glicko', 'dire_mu_glicko', \n",
    "                  # 'radiant_rating_glicko', 'dire_rating_glicko', \n",
    "                   'radiant_sigma_glicko', #'dire_sigma_glicko',\n",
    "                  # 'radiant_ratingSevenDaysAgo_glicko', 'dire_ratingSevenDaysAgo_glicko',\n",
    "                  # 'radiant_mu_glicko2', 'dire_mu_glicko2', \n",
    "                   'radiant_phi_glicko2', 'dire_phi_glicko2',\n",
    "                   'radiant_rating_glicko2', 'dire_rating_glicko2', \n",
    "                  # 'radiant_sigma_glicko2', 'dire_sigma_glicko2',\n",
    "                   'radiant_ratingSevenDaysAgo_glicko2', #'dire_ratingSevenDaysAgo_glicko2',\n",
    "                  #'dire_H5_AvgElo', 'radiant_H1_AvgElo'\n",
    "                 ], axis=1)"
   ]
  },
  {
   "cell_type": "code",
   "execution_count": 84,
   "metadata": {
    "collapsed": true
   },
   "outputs": [],
   "source": [
    "# main['radiant_elo_vs_enemies'] = scaler.fit(pd.DataFrame(main['radiant_elo_vs_enemies'])).transform(pd.DataFrame(main['radiant_elo_vs_enemies']))       \n",
    "# main['radiant_P_eloShift'] = scaler.fit(pd.DataFrame(main['radiant_P_eloShift'])).transform(pd.DataFrame(main['radiant_P_eloShift']))\n",
    "# main['dire_P_eloShift'] = scaler.fit(pd.DataFrame(main['dire_P_eloShift'])).transform(pd.DataFrame(main['dire_P_eloShift']))\n",
    "# main['P_eloShift'] = scaler.fit(pd.DataFrame(main['P_eloShift'])).transform(pd.DataFrame(main['P_eloShift']))\n",
    "# main['radiant_H_AvgElo'] = scaler.fit(pd.DataFrame(main['radiant_H_AvgElo'])).transform(pd.DataFrame(main['radiant_H_AvgElo']))\n",
    "# main['dire_H_AvgElo'] = scaler.fit(pd.DataFrame(main['dire_H_AvgElo'])).transform(pd.DataFrame(main['dire_H_AvgElo']))\n",
    "# main['H_AvgElo'] = scaler.fit(pd.DataFrame(main['H_AvgElo'])).transform(pd.DataFrame(main['H_AvgElo']))\n",
    "# main['mu_glicko'] = scaler.fit(pd.DataFrame(main['mu_glicko'])).transform(pd.DataFrame(main['mu_glicko']))\n",
    "# main['rating_glicko'] = scaler.fit(pd.DataFrame(main['rating_glicko'])).transform(pd.DataFrame(main['rating_glicko']))\n",
    "# main['ratingSevenDaysAgo_glicko'] = scaler.fit(pd.DataFrame(main['ratingSevenDaysAgo_glicko'])).transform(pd.DataFrame(main['ratingSevenDaysAgo_glicko']))\n",
    "# main['mu_glicko2'] = scaler.fit(pd.DataFrame(main['mu_glicko2'])).transform(pd.DataFrame(main['mu_glicko2']))\n",
    "# main['phi_glicko2'] = scaler.fit(pd.DataFrame(main['phi_glicko2'])).transform(pd.DataFrame(main['phi_glicko2']))"
   ]
  },
  {
   "cell_type": "code",
   "execution_count": 85,
   "metadata": {
    "scrolled": true
   },
   "outputs": [
    {
     "data": {
      "text/plain": [
       "Index(['radiant_win', 'radiant_mu_glicko', 'radiant_rating_glicko',\n",
       "       'radiant_ratingSevenDaysAgo_glicko', 'radiant_mu_glicko2',\n",
       "       'dire_mu_glicko', 'dire_rating_glicko',\n",
       "       'dire_ratingSevenDaysAgo_glicko', 'dire_sigma_glicko',\n",
       "       'dire_mu_glicko2',\n",
       "       ...\n",
       "       'dire_P_eloShift', 'P_eloShift', 'radiant_H_AvgElo', 'dire_H_AvgElo',\n",
       "       'H_AvgElo', 'mu_glicko', 'rating_glicko', 'ratingSevenDaysAgo_glicko',\n",
       "       'mu_glicko2', 'phi_glicko2'],\n",
       "      dtype='object', length=168)"
      ]
     },
     "execution_count": 85,
     "metadata": {},
     "output_type": "execute_result"
    }
   ],
   "source": [
    "main.columns"
   ]
  },
  {
   "cell_type": "code",
   "execution_count": null,
   "metadata": {
    "collapsed": true
   },
   "outputs": [],
   "source": [
    "model = XGB"
   ]
  },
  {
   "cell_type": "markdown",
   "metadata": {},
   "source": [
    "# Проверка правильности данных"
   ]
  },
  {
   "cell_type": "code",
   "execution_count": 26,
   "metadata": {
    "collapsed": true
   },
   "outputs": [],
   "source": [
    "# main.loc[1500, 'radiant_H1elo_vs_enemies':]"
   ]
  },
  {
   "cell_type": "code",
   "execution_count": 15,
   "metadata": {},
   "outputs": [
    {
     "data": {
      "text/plain": [
       "datetime.date(2017, 8, 8)"
      ]
     },
     "execution_count": 15,
     "metadata": {},
     "output_type": "execute_result"
    }
   ],
   "source": [
    "import datetime\n",
    "datetime.date.fromtimestamp(1502233763) - datetime.timedelta(1)"
   ]
  },
  {
   "cell_type": "code",
   "execution_count": null,
   "metadata": {
    "collapsed": true
   },
   "outputs": [],
   "source": [
    "df_meta_heroes[df_meta_heroes['match_id'] == 3274564960]"
   ]
  },
  {
   "cell_type": "markdown",
   "metadata": {
    "collapsed": true
   },
   "source": [
    "# Работа с фичами"
   ]
  },
  {
   "cell_type": "code",
   "execution_count": 82,
   "metadata": {},
   "outputs": [
    {
     "data": {
      "text/plain": [
       "array([[299, 137],\n",
       "       [127, 338]], dtype=int64)"
      ]
     },
     "execution_count": 82,
     "metadata": {},
     "output_type": "execute_result"
    }
   ],
   "source": [
    "best_GB = XGB\n",
    "# предсказания\n",
    "predict_GB = best_GB.predict(X_test)\n",
    "# матрица ошибок\n",
    "from sklearn.metrics import confusion_matrix\n",
    "confusion = confusion_matrix(y_test, predict_GB)\n",
    "confusion"
   ]
  },
  {
   "cell_type": "code",
   "execution_count": 83,
   "metadata": {},
   "outputs": [
    {
     "name": "stdout",
     "output_type": "stream",
     "text": [
      "AUC для градиентного бустинга - 0.768\n"
     ]
    }
   ],
   "source": [
    "gb_auc = metrics.roc_auc_score(y_test, best_GB.predict_proba(X_test)[:,1])\n",
    "print('AUC для градиентного бустинга - {:.3f}'.format(gb_auc))"
   ]
  },
  {
   "cell_type": "code",
   "execution_count": 75,
   "metadata": {},
   "outputs": [
    {
     "data": {
      "text/plain": [
       "0.59335624284077892"
      ]
     },
     "execution_count": 75,
     "metadata": {},
     "output_type": "execute_result"
    }
   ],
   "source": [
    "# f1-мера\n",
    "from sklearn.metrics import f1_score\n",
    "f1_score(y_test, predict_GB)"
   ]
  },
  {
   "cell_type": "code",
   "execution_count": 144,
   "metadata": {},
   "outputs": [
    {
     "name": "stdout",
     "output_type": "stream",
     "text": [
      "             precision    recall  f1-score   support\n",
      "\n",
      "   dire_win       0.68      0.66      0.67       436\n",
      "radiant_win       0.69      0.72      0.70       465\n",
      "\n",
      "avg / total       0.69      0.69      0.69       901\n",
      "\n"
     ]
    }
   ],
   "source": [
    "\n",
    "print(classification_report(y_test, predict_GB, target_names=['dire_win', 'radiant_win']))"
   ]
  },
  {
   "cell_type": "code",
   "execution_count": 65,
   "metadata": {},
   "outputs": [
    {
     "data": {
      "image/png": "[encoded data removed]",
      "text/plain": [
       "<matplotlib.figure.Figure at 0xbecd0f0>"
      ]
     },
     "metadata": {},
     "output_type": "display_data"
    }
   ],
   "source": [
    "# в RandomForestClassifier есть predict_proba, но нет decision_function\n",
    "precision_gb, recall_gb, thresholds_gb = metrics.precision_recall_curve(\n",
    "y_test, best_GB.predict_proba(X_test)[:, 1])\n",
    "\n",
    "plt.plot(precision_gb, recall_gb, label=\"gb\")\n",
    "close_default_gb = np.argmin(np.abs(thresholds_gb - 0.5))\n",
    "plt.plot(precision_gb[close_default_gb], recall_gb[close_default_gb], 'o', c='k',\n",
    "         markersize=10, label=\"порог 0.5 rf\", fillstyle=\"none\", mew=2)\n",
    "plt.xlabel(\"Точность\")\n",
    "plt.ylabel(\"Полнота\")\n",
    "plt.legend(loc=\"best\")\n",
    "plt.show()"
   ]
  },
  {
   "cell_type": "code",
   "execution_count": 69,
   "metadata": {},
   "outputs": [
    {
     "name": "stdout",
     "output_type": "stream",
     "text": [
      "             precision    recall  f1-score   support\n",
      "\n",
      "          0       0.71      0.69      0.70       436\n",
      "          1       0.72      0.73      0.72       465\n",
      "\n",
      "avg / total       0.71      0.71      0.71       901\n",
      "\n"
     ]
    }
   ],
   "source": [
    "y_pred_lower_threshold = best_GB.predict_proba(X_test)[:,1] > .5\n",
    "print (classification_report(y_test, y_pred_lower_threshold))"
   ]
  },
  {
   "cell_type": "code",
   "execution_count": 60,
   "metadata": {},
   "outputs": [
    {
     "data": {
      "image/png": "[encoded data removed]",
      "text/plain": [
       "<matplotlib.figure.Figure at 0xe2b9a58>"
      ]
     },
     "metadata": {},
     "output_type": "display_data"
    }
   ],
   "source": [
    "fpr, tpr, threshold = metrics.roc_curve(y_test, best_GB.predict_proba(X_test)[:,1])\n",
    "plt.plot(fpr, tpr, label='ROC-кривая')\n",
    "plt.xlabel('FPR')\n",
    "plt.ylabel('TPR')\n",
    "# находим пороговое значение ближайшее к нулю\n",
    "close_zero = np.argmin(np.abs(threshold))\n",
    "plt.plot(fpr[close_zero], tpr[close_zero], 'o', markersize=10, label='порог 0', fillstyle='none', c='k', mew=2)\n",
    "plt.legend(loc='best')\n",
    "plt.show()"
   ]
  },
  {
   "cell_type": "code",
   "execution_count": 115,
   "metadata": {},
   "outputs": [
    {
     "name": "stdout",
     "output_type": "stream",
     "text": [
      "AUC для градиентного бустинга - 0.775\n"
     ]
    }
   ],
   "source": []
  },
  {
   "cell_type": "markdown",
   "metadata": {},
   "source": [
    "# Оценка качества признаков"
   ]
  },
  {
   "cell_type": "code",
   "execution_count": 150,
   "metadata": {},
   "outputs": [
    {
     "name": "stdout",
     "output_type": "stream",
     "text": [
      "форма массива X_train: (2701, 46)\n",
      "форма массива X_train_selected: (2701, 23)\n"
     ]
    }
   ],
   "source": [
    "# используем f_classif (по умолчанию)\n",
    "# и SelectPercentile, чтобы выбрать 50% признаков\n",
    "select = SelectPercentile(percentile=50)\n",
    "select.fit(X_train, y_train)\n",
    "X_train_selected = select.transform(X_train)\n",
    "\n",
    "print(\"форма массива X_train: {}\".format(X_train.shape))\n",
    "print(\"форма массива X_train_selected: {}\".format(X_train_selected.shape))"
   ]
  },
  {
   "cell_type": "code",
   "execution_count": 91,
   "metadata": {},
   "outputs": [
    {
     "name": "stdout",
     "output_type": "stream",
     "text": [
      "[ True  True  True  True  True  True  True  True  True  True  True  True\n",
      "  True  True  True  True  True False False False  True False  True False\n",
      "  True  True False False False False False False False False False False\n",
      "  True  True  True  True False  True  True  True False False False False\n",
      " False False False False  True False False False  True  True False  True\n",
      "  True False False False  True False False  True False  True  True  True\n",
      " False False False False]\n"
     ]
    },
    {
     "data": {
      "text/plain": [
       "Text(0.5,0,'Индекс')"
      ]
     },
     "execution_count": 91,
     "metadata": {},
     "output_type": "execute_result"
    }
   ],
   "source": [
    "mask = select.get_support()\n",
    "print (mask)\n",
    "# визуализируем булевы значения: черный - true, булый - false\n",
    "plt.matshow(mask.reshape(1, -1), cmap='gray_r')\n",
    "plt.xlabel('Индекс')"
   ]
  },
  {
   "cell_type": "code",
   "execution_count": 92,
   "metadata": {},
   "outputs": [
    {
     "name": "stdout",
     "output_type": "stream",
     "text": [
      "Правильность со всеми признаками: 0.690\n",
      "Правильность с 50% признаками: 0.681\n"
     ]
    }
   ],
   "source": [
    "X_test_selected = select.transform(X_test)\n",
    "print ('Правильность со всеми признаками: {:.3f}'.format(best_GB.score(X_test, y_test)))\n",
    "best_GB_selected_70 = xgb.XGBClassifier(max_depth=20)\n",
    "best_GB_selected_70.fit(X_train_selected, y_train)\n",
    "print ('Правильность с 50% признаками: {:.3f}'.format(best_GB_selected_70.score(X_test_selected, y_test)))"
   ]
  },
  {
   "cell_type": "code",
   "execution_count": null,
   "metadata": {
    "collapsed": true
   },
   "outputs": [],
   "source": []
  },
  {
   "cell_type": "code",
   "execution_count": null,
   "metadata": {
    "collapsed": true
   },
   "outputs": [],
   "source": []
  },
  {
   "cell_type": "code",
   "execution_count": null,
   "metadata": {
    "collapsed": true
   },
   "outputs": [],
   "source": []
  },
  {
   "cell_type": "code",
   "execution_count": null,
   "metadata": {
    "collapsed": true
   },
   "outputs": [],
   "source": []
  },
  {
   "cell_type": "code",
   "execution_count": null,
   "metadata": {
    "collapsed": true
   },
   "outputs": [],
   "source": []
  },
  {
   "cell_type": "code",
   "execution_count": null,
   "metadata": {
    "collapsed": true
   },
   "outputs": [],
   "source": []
  },
  {
   "cell_type": "code",
   "execution_count": null,
   "metadata": {
    "collapsed": true
   },
   "outputs": [],
   "source": []
  },
  {
   "cell_type": "code",
   "execution_count": null,
   "metadata": {
    "collapsed": true
   },
   "outputs": [],
   "source": []
  },
  {
   "cell_type": "code",
   "execution_count": null,
   "metadata": {
    "collapsed": true
   },
   "outputs": [],
   "source": []
  },
  {
   "cell_type": "code",
   "execution_count": null,
   "metadata": {
    "collapsed": true
   },
   "outputs": [],
   "source": []
  }
 ],
 "metadata": {
  "kernelspec": {
   "display_name": "Python 3",
   "language": "python",
   "name": "python3"
  },
  "language_info": {
   "codemirror_mode": {
    "name": "ipython",
    "version": 3
   },
   "file_extension": ".py",
   "mimetype": "text/x-python",
   "name": "python",
   "nbconvert_exporter": "python",
   "pygments_lexer": "ipython3",
   "version": "3.6.3"
  }
 },
 "nbformat": 4,
 "nbformat_minor": 2
}
