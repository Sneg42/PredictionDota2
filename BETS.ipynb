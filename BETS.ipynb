{
 "cells": [
  {
   "cell_type": "code",
   "execution_count": 64,
   "metadata": {
    "collapsed": true
   },
   "outputs": [],
   "source": [
    "import pandas as pd\n",
    "import numpy as np\n",
    "import urllib.request, json\n",
    "from pandas.io.json import json_normalize\n",
    "from sklearn.ensemble import RandomForestClassifier\n",
    "from sklearn.neural_network import MLPClassifier\n",
    "from sklearn.preprocessing import StandardScaler"
   ]
  },
  {
   "cell_type": "code",
   "execution_count": 45,
   "metadata": {},
   "outputs": [],
   "source": [
    "# Загрузить данные из файлов\n",
    "matches706_team_picks = pd.read_csv('table wtih team & picks path 7.06.csv', index_col=0)\n",
    "matches707_team_picks = pd.read_csv('table wtih team & picks path 7.07 to 29.12.2017.csv', index_col=0)\n",
    "\n",
    "# Соединить даныне\n",
    "matches_team_picks = matches706_team_picks.append(matches707_team_picks)\n",
    "\n",
    "#Разделение данных без перемешивания на traning & test для каждого патча и для соединенных данных\n",
    "X_706, y_706 = np.split(matches706_team_picks, [len(matches706_team_picks) - int(len(matches706_team_picks)*0.3)]) \n",
    "X_707, y_707 = np.split(matches707_team_picks, [len(matches707_team_picks) - int(len(matches707_team_picks)*0.3)]) \n",
    "X, y = np.split(matches_team_picks, [len(matches_team_picks) - 400]) \n",
    "\n",
    "X_train = X.drop(['radiant_win'], axis=1)\n",
    "y_train = X['radiant_win']\n",
    "\n",
    "X_test = y.drop(['radiant_win'], axis=1)\n",
    "y_test = y['radiant_win']\n",
    "\n",
    "X_train_706 = X_706.drop(['radiant_win'], axis=1)\n",
    "y_train_706 = X_706['radiant_win']\n",
    "\n",
    "X_test_706 = y_706.drop(['radiant_win'], axis=1)\n",
    "y_test_706 = y_706['radiant_win']\n",
    "\n",
    "X_train_707 = X_706.drop(['radiant_win'], axis=1)\n",
    "y_train_707 = X_706['radiant_win']\n",
    "\n",
    "X_test_707 = y_707.drop(['radiant_win'], axis=1)\n",
    "y_test_707 = y_707['radiant_win']"
   ]
  },
  {
   "cell_type": "code",
   "execution_count": 46,
   "metadata": {},
   "outputs": [
    {
     "name": "stdout",
     "output_type": "stream",
     "text": [
      "0.997474747475\n",
      "0.5725\n",
      "0.999107142857\n",
      "0.559498956159\n",
      "0.999107142857\n",
      "0.564102564103\n"
     ]
    }
   ],
   "source": [
    "# Случайный лес с параметрами которые оказались лучшими на обучении патча7,06\n",
    "forest_last = RandomForestClassifier(n_estimators=36, random_state=42, \n",
    "                                                        max_depth=14, max_features=8)\n",
    "forest_last.fit(X_train, y_train)\n",
    "print (forest_last.score(X_train, y_train))\n",
    "print (forest_last.score(X_test, y_test))\n",
    "\n",
    "forest_last.fit(X_train_706, y_train_706)\n",
    "print (forest_last.score(X_train_706, y_train_706))\n",
    "print (forest_last.score(X_test_706, y_test_706))\n",
    "\n",
    "forest_last.fit(X_train_707, y_train_707)\n",
    "print (forest_last.score(X_train_707, y_train_707))\n",
    "print (forest_last.score(X_test_707, y_test_707))"
   ]
  },
  {
   "cell_type": "code",
   "execution_count": 78,
   "metadata": {},
   "outputs": [
    {
     "name": "stdout",
     "output_type": "stream",
     "text": [
      "0.632323232323\n",
      "0.4975\n",
      "0.628571428571\n",
      "0.515657620042\n",
      "0.628571428571\n",
      "0.461538461538\n"
     ]
    }
   ],
   "source": [
    "# Нейронные сети\n",
    "mlp_lbfgs = MLPClassifier(solver='lbfgs', random_state=1, hidden_layer_sizes=[10, 10, 10])\n",
    "\n",
    "mlp.fit(X_train, y_train)\n",
    "print (mlp.score(X_train, y_train))\n",
    "print (mlp.score(X_test, y_test))\n",
    "\n",
    "mlp.fit(X_train_706, y_train_706)\n",
    "print (mlp.score(X_train_706, y_train_706))\n",
    "print (mlp.score(X_test_706, y_test_706))\n",
    "\n",
    "mlp.fit(X_train_707, y_train_707)\n",
    "print (mlp.score(X_train_707, y_train_707))\n",
    "print (mlp.score(X_test_707, y_test_707))"
   ]
  },
  {
   "cell_type": "code",
   "execution_count": 79,
   "metadata": {},
   "outputs": [
    {
     "name": "stdout",
     "output_type": "stream",
     "text": [
      "[ 27.91313131  27.39040404  54.91515152  54.70555556  56.95454545\n",
      "  51.72020202  50.81565657  54.5030303   51.95252525  54.53939394\n",
      "  51.72020202  51.67272727]\n"
     ]
    }
   ],
   "source": [
    "# Масштабирование данных\n",
    "scaler = StandardScaler()\n",
    "scaler.fit(X_train)\n",
    "print(scaler.mean_)\n",
    "\n",
    "X_train_scaled = scaler.transform(X_train)\n",
    "X_test_scaled = scaler.transform(X_test)\n",
    "\n",
    "X_train_707_scaled = scaler.transform(X_train_707)\n",
    "X_test_707_scaled = scaler.transform(X_test_707)"
   ]
  },
  {
   "cell_type": "code",
   "execution_count": 80,
   "metadata": {},
   "outputs": [
    {
     "name": "stdout",
     "output_type": "stream",
     "text": [
      "0.800505050505\n",
      "0.525\n",
      "0.9\n",
      "0.521367521368\n"
     ]
    }
   ],
   "source": [
    "mlp.fit(X_train_scaled, y_train)\n",
    "print (mlp.score(X_train_scaled, y_train))\n",
    "print (mlp.score(X_test_scaled, y_test))\n",
    "\n",
    "mlp.fit(X_train_707_scaled, y_train_707)\n",
    "print (mlp.score(X_train_707_scaled, y_train_707))\n",
    "print (mlp.score(X_test_707_scaled, y_test_707))\n"
   ]
  },
  {
   "cell_type": "code",
   "execution_count": null,
   "metadata": {
    "collapsed": true
   },
   "outputs": [],
   "source": []
  }
 ],
 "metadata": {
  "kernelspec": {
   "display_name": "Python 3",
   "language": "python",
   "name": "python3"
  },
  "language_info": {
   "codemirror_mode": {
    "name": "ipython",
    "version": 3
   },
   "file_extension": ".py",
   "mimetype": "text/x-python",
   "name": "python",
   "nbconvert_exporter": "python",
   "pygments_lexer": "ipython3",
   "version": "3.6.3"
  }
 },
 "nbformat": 4,
 "nbformat_minor": 2
}
