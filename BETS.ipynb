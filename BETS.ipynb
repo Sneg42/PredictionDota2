{
 "cells": [
  {
   "cell_type": "code",
   "execution_count": 2,
   "metadata": {
    "collapsed": true
   },
   "outputs": [],
   "source": [
    "import pandas as pd \n",
    "import numpy as np \n",
    "import urllib.request, json\n",
    "from pandas.io.json import json_normalize\n",
    "from sklearn.ensemble import RandomForestClassifier\n",
    "from sklearn.neural_network import MLPClassifier\n",
    "from sklearn.preprocessing import StandardScaler"
   ]
  },
  {
   "cell_type": "code",
   "execution_count": 19,
   "metadata": {
    "collapsed": true
   },
   "outputs": [],
   "source": [
    "# Загрузить данные из файлов\n",
    "matches706_team_picks = pd.read_csv('table wtih team & picks path 7.06.csv', index_col=0)\n",
    "matches707_team_picks = pd.read_csv('table wtih team & picks path 7.07 to 29.12.2017.csv', index_col=0)\n",
    "\n",
    "# Соединить даныне\n",
    "matches_team_picks = matches706_team_picks.append(matches707_team_picks)\n",
    "\n",
    "#Разделение данных без перемешивания на traning & test для каждого патча и для соединенных данных\n",
    "X_706, y_706 = np.split(matches706_team_picks, [len(matches706_team_picks) - int(len(matches706_team_picks)*0.3)]) \n",
    "X_707, y_707 = np.split(matches707_team_picks, [len(matches707_team_picks) - int(len(matches707_team_picks)*0.3)]) \n",
    "X, y = np.split(matches_team_picks, [len(matches_team_picks) - 400]) \n",
    "\n",
    "X_train = X.drop(['radiant_win'], axis=1)\n",
    "y_train = X['radiant_win']\n",
    "\n",
    "X_test = y.drop(['radiant_win'], axis=1)\n",
    "y_test = y['radiant_win']\n",
    "\n",
    "X_train_706 = X_706.drop(['radiant_win'], axis=1)\n",
    "y_train_706 = X_706['radiant_win']\n",
    "\n",
    "X_test_706 = y_706.drop(['radiant_win'], axis=1)\n",
    "y_test_706 = y_706['radiant_win']\n",
    "\n",
    "X_train_707 = X_706.drop(['radiant_win'], axis=1)\n",
    "y_train_707 = X_706['radiant_win']\n",
    "\n",
    "X_test_707 = y_707.drop(['radiant_win'], axis=1)\n",
    "y_test_707 = y_707['radiant_win']\n"
   ]
  },
  {
   "cell_type": "code",
   "execution_count": 4,
   "metadata": {},
   "outputs": [
    {
     "name": "stdout",
     "output_type": "stream",
     "text": [
      "0.997474747475\n",
      "0.5725\n",
      "0.999107142857\n",
      "0.559498956159\n",
      "0.999107142857\n",
      "0.564102564103\n"
     ]
    }
   ],
   "source": [
    "# Случайный лес с параметрами которые оказались лучшими на обучении патча7,06\n",
    "forest_last = RandomForestClassifier(n_estimators=36, random_state=42, \n",
    "                                                        max_depth=14, max_features=8)\n",
    "forest_last.fit(X_train, y_train)\n",
    "print (forest_last.score(X_train, y_train))\n",
    "print (forest_last.score(X_test, y_test))\n",
    "\n",
    "forest_last.fit(X_train_706, y_train_706)\n",
    "print (forest_last.score(X_train_706, y_train_706))\n",
    "print (forest_last.score(X_test_706, y_test_706))\n",
    "\n",
    "forest_last.fit(X_train_707, y_train_707)\n",
    "print (forest_last.score(X_train_707, y_train_707))\n",
    "print (forest_last.score(X_test_707, y_test_707))"
   ]
  },
  {
   "cell_type": "code",
   "execution_count": 6,
   "metadata": {},
   "outputs": [
    {
     "name": "stdout",
     "output_type": "stream",
     "text": [
      "0.610101010101\n",
      "0.57\n",
      "0.641964285714\n",
      "0.559498956159\n",
      "0.641964285714\n",
      "0.504273504274\n"
     ]
    }
   ],
   "source": [
    "# Нейронные сети\n",
    "mlp = MLPClassifier(solver='lbfgs', random_state=1, hidden_layer_sizes=[10, 10, 10])\n",
    "\n",
    "mlp.fit(X_train, y_train)\n",
    "print (mlp.score(X_train, y_train))\n",
    "print (mlp.score(X_test, y_test))\n",
    "\n",
    "mlp.fit(X_train_706, y_train_706)\n",
    "print (mlp.score(X_train_706, y_train_706))\n",
    "print (mlp.score(X_test_706, y_test_706))\n",
    "\n",
    "mlp.fit(X_train_707, y_train_707)\n",
    "print (mlp.score(X_train_707, y_train_707))\n",
    "print (mlp.score(X_test_707, y_test_707))"
   ]
  },
  {
   "cell_type": "code",
   "execution_count": 79,
   "metadata": {},
   "outputs": [
    {
     "name": "stdout",
     "output_type": "stream",
     "text": [
      "[ 27.91313131  27.39040404  54.91515152  54.70555556  56.95454545\n",
      "  51.72020202  50.81565657  54.5030303   51.95252525  54.53939394\n",
      "  51.72020202  51.67272727]\n"
     ]
    }
   ],
   "source": [
    "# Масштабирование данных\n",
    "scaler = StandardScaler()\n",
    "scaler.fit(X_train)\n",
    "print(scaler.mean_)\n",
    "\n",
    "X_train_scaled = scaler.transform(X_train)\n",
    "X_test_scaled = scaler.transform(X_test)\n",
    "\n",
    "X_train_707_scaled = scaler.transform(X_train_707)\n",
    "X_test_707_scaled = scaler.transform(X_test_707)"
   ]
  },
  {
   "cell_type": "code",
   "execution_count": 80,
   "metadata": {},
   "outputs": [
    {
     "name": "stdout",
     "output_type": "stream",
     "text": [
      "0.800505050505\n",
      "0.525\n",
      "0.9\n",
      "0.521367521368\n"
     ]
    }
   ],
   "source": [
    "mlp.fit(X_train_scaled, y_train)\n",
    "print (mlp.score(X_train_scaled, y_train))\n",
    "print (mlp.score(X_test_scaled, y_test))\n",
    "\n",
    "mlp.fit(X_train_707_scaled, y_train_707)\n",
    "print (mlp.score(X_train_707_scaled, y_train_707))\n",
    "print (mlp.score(X_test_707_scaled, y_test_707))\n"
   ]
  },
  {
   "cell_type": "code",
   "execution_count": 59,
   "metadata": {},
   "outputs": [
    {
     "name": "stdout",
     "output_type": "stream",
     "text": [
      "The International 2017                                                 298\n",
      "SL i-League Invitational Season 3                                      190\n",
      "Perfect World Masters                                                  167\n",
      "ESL One Hamburg 2017                                                   110\n",
      "Dota 2 Professional League 2016                                         95\n",
      "PGL DOTA2 OPEN                                                          83\n",
      "AMD SAPPHIRE Dota PIT                                                   79\n",
      "DreamLeague season 7                                                    78\n",
      "EPICENTER: Moscow Season 2                                              59\n",
      "The Summit 5                                                            55\n",
      "2017 Mars Dota 2 League                                                 53\n",
      "ProDotA Cup by Azubu                                                    47\n",
      "D2CL Season 7                                                           42\n",
      "Uprise Champions Cup: Special                                           34\n",
      "ProDotA Cup Series by Azubu.tv                                          27\n",
      "NESO 4th National E-Sports ShenZhen Open Tournament- Galaxy Battles     27\n",
      "ProDotA Cup Series                                                      25\n",
      "WellPlay Invitational by VitalBet                                       23\n",
      "World Cyber Arena 2017 China Qualifiers                                 23\n",
      "WCA Tournament Platform Classic                                         23\n",
      "SL i-League Invitational Season 2                                       18\n",
      "Masters Manila 2017                                                     17\n",
      "Zotac Cup Masters                                                       10\n",
      "Blood In The Streets (BITS)                                              9\n",
      "The Final Match 2017                                                     7\n",
      "Name: league_name, dtype: int64\n",
      "5401    298\n",
      "5579    190\n",
      "5637    167\n",
      "5609    110\n",
      "4920     95\n",
      "5616     83\n",
      "5690     79\n",
      "5336     78\n",
      "5353     59\n",
      "4442     55\n",
      "5504     53\n",
      "5227     47\n",
      "4820     42\n",
      "4127     34\n",
      "5399     27\n",
      "4665     27\n",
      "5562     25\n",
      "5418     23\n",
      "4669     23\n",
      "5582     23\n",
      "5364     18\n",
      "5313     17\n",
      "5396     10\n",
      "5434      9\n",
      "5175      7\n",
      "Name: league_id, dtype: int64\n"
     ]
    }
   ],
   "source": [
    "match707 = pd.read_csv('table with matches patch 7.06.csv', encoding='latin', index_col=0).dropna()\n",
    "print (match707['league_name'].value_counts())\n",
    "print (match707['league_id'].value_counts())"
   ]
  },
  {
   "cell_type": "code",
   "execution_count": 70,
   "metadata": {},
   "outputs": [
    {
     "data": {
      "text/html": [
       "<div>\n",
       "<style>\n",
       "    .dataframe thead tr:only-child th {\n",
       "        text-align: right;\n",
       "    }\n",
       "\n",
       "    .dataframe thead th {\n",
       "        text-align: left;\n",
       "    }\n",
       "\n",
       "    .dataframe tbody tr th {\n",
       "        vertical-align: top;\n",
       "    }\n",
       "</style>\n",
       "<table border=\"1\" class=\"dataframe\">\n",
       "  <thead>\n",
       "    <tr style=\"text-align: right;\">\n",
       "      <th></th>\n",
       "      <th>id matches</th>\n",
       "      <th>patch</th>\n",
       "      <th>region</th>\n",
       "      <th>league_name</th>\n",
       "      <th>league_id</th>\n",
       "      <th>radiant_name</th>\n",
       "      <th>radiant_id</th>\n",
       "      <th>dire_name</th>\n",
       "      <th>dire_id</th>\n",
       "      <th>radiant_score</th>\n",
       "      <th>...</th>\n",
       "      <th>ban10</th>\n",
       "      <th>pick5</th>\n",
       "      <th>pick6</th>\n",
       "      <th>pick7</th>\n",
       "      <th>pick8</th>\n",
       "      <th>ban11</th>\n",
       "      <th>ban12</th>\n",
       "      <th>pick9</th>\n",
       "      <th>pick10</th>\n",
       "      <th>radiant_win</th>\n",
       "    </tr>\n",
       "  </thead>\n",
       "  <tbody>\n",
       "  </tbody>\n",
       "</table>\n",
       "<p>0 rows × 33 columns</p>\n",
       "</div>"
      ],
      "text/plain": [
       "Empty DataFrame\n",
       "Columns: [id matches, patch, region, league_name, league_id, radiant_name, radiant_id, dire_name, dire_id, radiant_score, dire_score, first_ban_radiant, ban1, ban2, ban3, ban4, pick1, pick2, pick3, pick4, ban7, ban8, ban9, ban10, pick5, pick6, pick7, pick8, ban11, ban12, pick9, pick10, radiant_win]\n",
       "Index: []\n",
       "\n",
       "[0 rows x 33 columns]"
      ]
     },
     "execution_count": 70,
     "metadata": {},
     "output_type": "execute_result"
    }
   ],
   "source": [
    "i = [5401, 5579]\n",
    "match707_pro_without_DPL = match707[match707['league_id']==(z for z in i)]\n",
    "match707_pro_without_DPL"
   ]
  },
  {
   "cell_type": "code",
   "execution_count": null,
   "metadata": {
    "collapsed": true
   },
   "outputs": [],
   "source": []
  }
 ],
 "metadata": {
  "kernelspec": {
   "display_name": "Python 3",
   "language": "python",
   "name": "python3"
  },
  "language_info": {
   "codemirror_mode": {
    "name": "ipython",
    "version": 3
   },
   "file_extension": ".py",
   "mimetype": "text/x-python",
   "name": "python",
   "nbconvert_exporter": "python",
   "pygments_lexer": "ipython3",
   "version": "3.6.3"
  }
 },
 "nbformat": 4,
 "nbformat_minor": 2
}
